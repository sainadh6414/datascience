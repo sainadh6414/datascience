{
 "cells": [
  {
   "cell_type": "markdown",
   "metadata": {},
   "source": [
    "# Problem Statement"
   ]
  },
  {
   "cell_type": "markdown",
   "metadata": {},
   "source": [
    "Airbnb Inc is an online marketplace for arranging or offering lodging, primarily homestays, or tourism experiences. Airbnb has close to 150 million customers across the world. Price is the most important factor considered by the customer while making booking into a property. Strategic pricing of the properties is important to avoid losing customers to the competitors.  \n",
    "  \n",
    "We have a data of 74111 Airbnb properties across the nations. Based on this data build a simple and multiple linear regression model to predict the strategic pricing of a new listed property on Airbnb.\n"
   ]
  },
  {
   "cell_type": "markdown",
   "metadata": {},
   "source": [
    "# Import Libraries"
   ]
  },
  {
   "cell_type": "code",
   "execution_count": 1,
   "metadata": {
    "ExecuteTime": {
     "end_time": "2021-05-08T13:28:57.057880Z",
     "start_time": "2021-05-08T13:28:53.597507Z"
    }
   },
   "outputs": [],
   "source": [
    "import numpy as np   \n",
    "import pandas as pd    \n",
    "import seaborn as sns\n",
    "from sklearn.linear_model import LinearRegression\n",
    "from sklearn.metrics import mean_squared_error\n",
    "import matplotlib.pyplot as plt   \n",
    "import warnings\n",
    "warnings.filterwarnings('ignore')"
   ]
  },
  {
   "cell_type": "markdown",
   "metadata": {},
   "source": [
    "# Load the data"
   ]
  },
  {
   "cell_type": "code",
   "execution_count": 2,
   "metadata": {
    "ExecuteTime": {
     "end_time": "2021-05-08T13:29:09.018702Z",
     "start_time": "2021-05-08T13:29:08.827228Z"
    }
   },
   "outputs": [],
   "source": [
    "# reading the CSV file into pandas dataframe\n",
    "df = pd.read_csv(\"AirBNB.csv\")  "
   ]
  },
  {
   "cell_type": "markdown",
   "metadata": {},
   "source": [
    "## EDA"
   ]
  },
  {
   "cell_type": "code",
   "execution_count": 3,
   "metadata": {
    "ExecuteTime": {
     "end_time": "2021-05-08T13:29:14.804828Z",
     "start_time": "2021-05-08T13:29:14.765935Z"
    }
   },
   "outputs": [
    {
     "data": {
      "text/html": [
       "<div>\n",
       "<style scoped>\n",
       "    .dataframe tbody tr th:only-of-type {\n",
       "        vertical-align: middle;\n",
       "    }\n",
       "\n",
       "    .dataframe tbody tr th {\n",
       "        vertical-align: top;\n",
       "    }\n",
       "\n",
       "    .dataframe thead th {\n",
       "        text-align: right;\n",
       "    }\n",
       "</style>\n",
       "<table border=\"1\" class=\"dataframe\">\n",
       "  <thead>\n",
       "    <tr style=\"text-align: right;\">\n",
       "      <th></th>\n",
       "      <th>id</th>\n",
       "      <th>room_type</th>\n",
       "      <th>accommodates</th>\n",
       "      <th>bathrooms</th>\n",
       "      <th>cancellation_policy</th>\n",
       "      <th>cleaning_fee</th>\n",
       "      <th>instant_bookable</th>\n",
       "      <th>review_scores_rating</th>\n",
       "      <th>bedrooms</th>\n",
       "      <th>beds</th>\n",
       "      <th>log_price</th>\n",
       "    </tr>\n",
       "  </thead>\n",
       "  <tbody>\n",
       "    <tr>\n",
       "      <th>0</th>\n",
       "      <td>6901257</td>\n",
       "      <td>Entire home/apt</td>\n",
       "      <td>3.0</td>\n",
       "      <td>1.0</td>\n",
       "      <td>strict</td>\n",
       "      <td>True</td>\n",
       "      <td>f</td>\n",
       "      <td>100.0</td>\n",
       "      <td>1.0</td>\n",
       "      <td>1.0</td>\n",
       "      <td>5.010635</td>\n",
       "    </tr>\n",
       "    <tr>\n",
       "      <th>1</th>\n",
       "      <td>6304928</td>\n",
       "      <td>Entire home/apt</td>\n",
       "      <td>7.0</td>\n",
       "      <td>1.0</td>\n",
       "      <td>strict</td>\n",
       "      <td>True</td>\n",
       "      <td>t</td>\n",
       "      <td>93.0</td>\n",
       "      <td>3.0</td>\n",
       "      <td>3.0</td>\n",
       "      <td>5.129899</td>\n",
       "    </tr>\n",
       "    <tr>\n",
       "      <th>2</th>\n",
       "      <td>7919400</td>\n",
       "      <td>Entire home/apt</td>\n",
       "      <td>5.0</td>\n",
       "      <td>1.0</td>\n",
       "      <td>moderate</td>\n",
       "      <td>True</td>\n",
       "      <td>t</td>\n",
       "      <td>92.0</td>\n",
       "      <td>1.0</td>\n",
       "      <td>3.0</td>\n",
       "      <td>4.976734</td>\n",
       "    </tr>\n",
       "    <tr>\n",
       "      <th>3</th>\n",
       "      <td>13418779</td>\n",
       "      <td>Entire home/apt</td>\n",
       "      <td>4.0</td>\n",
       "      <td>1.0</td>\n",
       "      <td>flexible</td>\n",
       "      <td>True</td>\n",
       "      <td>f</td>\n",
       "      <td>NaN</td>\n",
       "      <td>2.0</td>\n",
       "      <td>2.0</td>\n",
       "      <td>6.620073</td>\n",
       "    </tr>\n",
       "    <tr>\n",
       "      <th>4</th>\n",
       "      <td>3808709</td>\n",
       "      <td>Entire home/apt</td>\n",
       "      <td>2.0</td>\n",
       "      <td>1.0</td>\n",
       "      <td>moderate</td>\n",
       "      <td>True</td>\n",
       "      <td>t</td>\n",
       "      <td>40.0</td>\n",
       "      <td>0.0</td>\n",
       "      <td>1.0</td>\n",
       "      <td>4.744932</td>\n",
       "    </tr>\n",
       "  </tbody>\n",
       "</table>\n",
       "</div>"
      ],
      "text/plain": [
       "         id        room_type  accommodates  bathrooms cancellation_policy  \\\n",
       "0   6901257  Entire home/apt           3.0        1.0              strict   \n",
       "1   6304928  Entire home/apt           7.0        1.0              strict   \n",
       "2   7919400  Entire home/apt           5.0        1.0            moderate   \n",
       "3  13418779  Entire home/apt           4.0        1.0            flexible   \n",
       "4   3808709  Entire home/apt           2.0        1.0            moderate   \n",
       "\n",
       "  cleaning_fee instant_bookable  review_scores_rating  bedrooms  beds  \\\n",
       "0         True                f                 100.0       1.0   1.0   \n",
       "1         True                t                  93.0       3.0   3.0   \n",
       "2         True                t                  92.0       1.0   3.0   \n",
       "3         True                f                   NaN       2.0   2.0   \n",
       "4         True                t                  40.0       0.0   1.0   \n",
       "\n",
       "   log_price  \n",
       "0   5.010635  \n",
       "1   5.129899  \n",
       "2   4.976734  \n",
       "3   6.620073  \n",
       "4   4.744932  "
      ]
     },
     "execution_count": 3,
     "metadata": {},
     "output_type": "execute_result"
    }
   ],
   "source": [
    "# Check top few records to get a feel of the data structure\n",
    "df.head()"
   ]
  },
  {
   "cell_type": "code",
   "execution_count": 4,
   "metadata": {
    "ExecuteTime": {
     "end_time": "2021-05-08T13:29:30.265639Z",
     "start_time": "2021-05-08T13:29:30.253668Z"
    }
   },
   "outputs": [
    {
     "data": {
      "text/plain": [
       "(74111, 11)"
      ]
     },
     "execution_count": 4,
     "metadata": {},
     "output_type": "execute_result"
    }
   ],
   "source": [
    "df.shape"
   ]
  },
  {
   "cell_type": "code",
   "execution_count": 8,
   "metadata": {
    "ExecuteTime": {
     "end_time": "2021-05-08T13:34:25.290330Z",
     "start_time": "2021-05-08T13:34:25.271380Z"
    }
   },
   "outputs": [],
   "source": [
    "# drop the id column as it is useless for the model\n",
    "df = df.drop('id', axis=1)"
   ]
  },
  {
   "cell_type": "code",
   "execution_count": 9,
   "metadata": {
    "ExecuteTime": {
     "end_time": "2021-05-08T13:34:28.170303Z",
     "start_time": "2021-05-08T13:34:28.142382Z"
    }
   },
   "outputs": [
    {
     "data": {
      "text/html": [
       "<div>\n",
       "<style scoped>\n",
       "    .dataframe tbody tr th:only-of-type {\n",
       "        vertical-align: middle;\n",
       "    }\n",
       "\n",
       "    .dataframe tbody tr th {\n",
       "        vertical-align: top;\n",
       "    }\n",
       "\n",
       "    .dataframe thead th {\n",
       "        text-align: right;\n",
       "    }\n",
       "</style>\n",
       "<table border=\"1\" class=\"dataframe\">\n",
       "  <thead>\n",
       "    <tr style=\"text-align: right;\">\n",
       "      <th></th>\n",
       "      <th>room_type</th>\n",
       "      <th>accommodates</th>\n",
       "      <th>bathrooms</th>\n",
       "      <th>cancellation_policy</th>\n",
       "      <th>cleaning_fee</th>\n",
       "      <th>instant_bookable</th>\n",
       "      <th>review_scores_rating</th>\n",
       "      <th>bedrooms</th>\n",
       "      <th>beds</th>\n",
       "      <th>log_price</th>\n",
       "    </tr>\n",
       "  </thead>\n",
       "  <tbody>\n",
       "    <tr>\n",
       "      <th>0</th>\n",
       "      <td>Entire home/apt</td>\n",
       "      <td>3.0</td>\n",
       "      <td>1.0</td>\n",
       "      <td>strict</td>\n",
       "      <td>True</td>\n",
       "      <td>f</td>\n",
       "      <td>100.0</td>\n",
       "      <td>1.0</td>\n",
       "      <td>1.0</td>\n",
       "      <td>5.010635</td>\n",
       "    </tr>\n",
       "    <tr>\n",
       "      <th>1</th>\n",
       "      <td>Entire home/apt</td>\n",
       "      <td>7.0</td>\n",
       "      <td>1.0</td>\n",
       "      <td>strict</td>\n",
       "      <td>True</td>\n",
       "      <td>t</td>\n",
       "      <td>93.0</td>\n",
       "      <td>3.0</td>\n",
       "      <td>3.0</td>\n",
       "      <td>5.129899</td>\n",
       "    </tr>\n",
       "    <tr>\n",
       "      <th>2</th>\n",
       "      <td>Entire home/apt</td>\n",
       "      <td>5.0</td>\n",
       "      <td>1.0</td>\n",
       "      <td>moderate</td>\n",
       "      <td>True</td>\n",
       "      <td>t</td>\n",
       "      <td>92.0</td>\n",
       "      <td>1.0</td>\n",
       "      <td>3.0</td>\n",
       "      <td>4.976734</td>\n",
       "    </tr>\n",
       "    <tr>\n",
       "      <th>3</th>\n",
       "      <td>Entire home/apt</td>\n",
       "      <td>4.0</td>\n",
       "      <td>1.0</td>\n",
       "      <td>flexible</td>\n",
       "      <td>True</td>\n",
       "      <td>f</td>\n",
       "      <td>NaN</td>\n",
       "      <td>2.0</td>\n",
       "      <td>2.0</td>\n",
       "      <td>6.620073</td>\n",
       "    </tr>\n",
       "    <tr>\n",
       "      <th>4</th>\n",
       "      <td>Entire home/apt</td>\n",
       "      <td>2.0</td>\n",
       "      <td>1.0</td>\n",
       "      <td>moderate</td>\n",
       "      <td>True</td>\n",
       "      <td>t</td>\n",
       "      <td>40.0</td>\n",
       "      <td>0.0</td>\n",
       "      <td>1.0</td>\n",
       "      <td>4.744932</td>\n",
       "    </tr>\n",
       "  </tbody>\n",
       "</table>\n",
       "</div>"
      ],
      "text/plain": [
       "         room_type  accommodates  bathrooms cancellation_policy cleaning_fee  \\\n",
       "0  Entire home/apt           3.0        1.0              strict         True   \n",
       "1  Entire home/apt           7.0        1.0              strict         True   \n",
       "2  Entire home/apt           5.0        1.0            moderate         True   \n",
       "3  Entire home/apt           4.0        1.0            flexible         True   \n",
       "4  Entire home/apt           2.0        1.0            moderate         True   \n",
       "\n",
       "  instant_bookable  review_scores_rating  bedrooms  beds  log_price  \n",
       "0                f                 100.0       1.0   1.0   5.010635  \n",
       "1                t                  93.0       3.0   3.0   5.129899  \n",
       "2                t                  92.0       1.0   3.0   4.976734  \n",
       "3                f                   NaN       2.0   2.0   6.620073  \n",
       "4                t                  40.0       0.0   1.0   4.744932  "
      ]
     },
     "execution_count": 9,
     "metadata": {},
     "output_type": "execute_result"
    }
   ],
   "source": [
    "df.head()"
   ]
  },
  {
   "cell_type": "code",
   "execution_count": 10,
   "metadata": {
    "ExecuteTime": {
     "end_time": "2021-05-08T13:34:36.462013Z",
     "start_time": "2021-05-08T13:34:36.416105Z"
    }
   },
   "outputs": [
    {
     "name": "stdout",
     "output_type": "stream",
     "text": [
      "<class 'pandas.core.frame.DataFrame'>\n",
      "RangeIndex: 74111 entries, 0 to 74110\n",
      "Data columns (total 10 columns):\n",
      " #   Column                Non-Null Count  Dtype  \n",
      "---  ------                --------------  -----  \n",
      " 0   room_type             74106 non-null  object \n",
      " 1   accommodates          74108 non-null  float64\n",
      " 2   bathrooms             73908 non-null  float64\n",
      " 3   cancellation_policy   74103 non-null  object \n",
      " 4   cleaning_fee          74107 non-null  object \n",
      " 5   instant_bookable      74111 non-null  object \n",
      " 6   review_scores_rating  57389 non-null  float64\n",
      " 7   bedrooms              74019 non-null  float64\n",
      " 8   beds                  73980 non-null  float64\n",
      " 9   log_price             74111 non-null  float64\n",
      "dtypes: float64(6), object(4)\n",
      "memory usage: 5.7+ MB\n"
     ]
    }
   ],
   "source": [
    "df.info()"
   ]
  },
  {
   "cell_type": "code",
   "execution_count": 11,
   "metadata": {
    "ExecuteTime": {
     "end_time": "2021-05-08T13:35:50.572840Z",
     "start_time": "2021-05-08T13:35:50.503029Z"
    }
   },
   "outputs": [
    {
     "data": {
      "text/html": [
       "<div>\n",
       "<style scoped>\n",
       "    .dataframe tbody tr th:only-of-type {\n",
       "        vertical-align: middle;\n",
       "    }\n",
       "\n",
       "    .dataframe tbody tr th {\n",
       "        vertical-align: top;\n",
       "    }\n",
       "\n",
       "    .dataframe thead th {\n",
       "        text-align: right;\n",
       "    }\n",
       "</style>\n",
       "<table border=\"1\" class=\"dataframe\">\n",
       "  <thead>\n",
       "    <tr style=\"text-align: right;\">\n",
       "      <th></th>\n",
       "      <th>accommodates</th>\n",
       "      <th>bathrooms</th>\n",
       "      <th>review_scores_rating</th>\n",
       "      <th>bedrooms</th>\n",
       "      <th>beds</th>\n",
       "      <th>log_price</th>\n",
       "    </tr>\n",
       "  </thead>\n",
       "  <tbody>\n",
       "    <tr>\n",
       "      <th>count</th>\n",
       "      <td>74108.0</td>\n",
       "      <td>73908.0</td>\n",
       "      <td>57389.0</td>\n",
       "      <td>74019.0</td>\n",
       "      <td>73980.0</td>\n",
       "      <td>74111.0</td>\n",
       "    </tr>\n",
       "    <tr>\n",
       "      <th>mean</th>\n",
       "      <td>3.0</td>\n",
       "      <td>1.0</td>\n",
       "      <td>94.0</td>\n",
       "      <td>1.0</td>\n",
       "      <td>2.0</td>\n",
       "      <td>5.0</td>\n",
       "    </tr>\n",
       "    <tr>\n",
       "      <th>std</th>\n",
       "      <td>2.0</td>\n",
       "      <td>1.0</td>\n",
       "      <td>8.0</td>\n",
       "      <td>1.0</td>\n",
       "      <td>1.0</td>\n",
       "      <td>1.0</td>\n",
       "    </tr>\n",
       "    <tr>\n",
       "      <th>min</th>\n",
       "      <td>1.0</td>\n",
       "      <td>0.0</td>\n",
       "      <td>20.0</td>\n",
       "      <td>0.0</td>\n",
       "      <td>0.0</td>\n",
       "      <td>0.0</td>\n",
       "    </tr>\n",
       "    <tr>\n",
       "      <th>25%</th>\n",
       "      <td>2.0</td>\n",
       "      <td>1.0</td>\n",
       "      <td>92.0</td>\n",
       "      <td>1.0</td>\n",
       "      <td>1.0</td>\n",
       "      <td>4.0</td>\n",
       "    </tr>\n",
       "    <tr>\n",
       "      <th>50%</th>\n",
       "      <td>2.0</td>\n",
       "      <td>1.0</td>\n",
       "      <td>96.0</td>\n",
       "      <td>1.0</td>\n",
       "      <td>1.0</td>\n",
       "      <td>5.0</td>\n",
       "    </tr>\n",
       "    <tr>\n",
       "      <th>75%</th>\n",
       "      <td>4.0</td>\n",
       "      <td>1.0</td>\n",
       "      <td>100.0</td>\n",
       "      <td>1.0</td>\n",
       "      <td>2.0</td>\n",
       "      <td>5.0</td>\n",
       "    </tr>\n",
       "    <tr>\n",
       "      <th>max</th>\n",
       "      <td>16.0</td>\n",
       "      <td>8.0</td>\n",
       "      <td>100.0</td>\n",
       "      <td>10.0</td>\n",
       "      <td>18.0</td>\n",
       "      <td>8.0</td>\n",
       "    </tr>\n",
       "  </tbody>\n",
       "</table>\n",
       "</div>"
      ],
      "text/plain": [
       "       accommodates  bathrooms  review_scores_rating  bedrooms     beds  \\\n",
       "count       74108.0    73908.0               57389.0   74019.0  73980.0   \n",
       "mean            3.0        1.0                  94.0       1.0      2.0   \n",
       "std             2.0        1.0                   8.0       1.0      1.0   \n",
       "min             1.0        0.0                  20.0       0.0      0.0   \n",
       "25%             2.0        1.0                  92.0       1.0      1.0   \n",
       "50%             2.0        1.0                  96.0       1.0      1.0   \n",
       "75%             4.0        1.0                 100.0       1.0      2.0   \n",
       "max            16.0        8.0                 100.0      10.0     18.0   \n",
       "\n",
       "       log_price  \n",
       "count    74111.0  \n",
       "mean         5.0  \n",
       "std          1.0  \n",
       "min          0.0  \n",
       "25%          4.0  \n",
       "50%          5.0  \n",
       "75%          5.0  \n",
       "max          8.0  "
      ]
     },
     "execution_count": 11,
     "metadata": {},
     "output_type": "execute_result"
    }
   ],
   "source": [
    "df.describe().round(0)"
   ]
  },
  {
   "cell_type": "markdown",
   "metadata": {},
   "source": [
    "### unique values for categorical variables"
   ]
  },
  {
   "cell_type": "code",
   "execution_count": 12,
   "metadata": {
    "ExecuteTime": {
     "end_time": "2021-05-08T13:37:38.815401Z",
     "start_time": "2021-05-08T13:37:38.705125Z"
    }
   },
   "outputs": [
    {
     "name": "stdout",
     "output_type": "stream",
     "text": [
      "ROOM_TYPE :  3\n",
      "Shared room         2163\n",
      "Private room       30635\n",
      "Entire home/apt    41308\n",
      "Name: room_type, dtype: int64\n",
      "\n",
      "\n",
      "CANCELLATION_POLICY :  3\n",
      "moderate    19060\n",
      "flexible    22543\n",
      "strict      32500\n",
      "Name: cancellation_policy, dtype: int64\n",
      "\n",
      "\n",
      "CLEANING_FEE :  2\n",
      "False    19708\n",
      "True     54399\n",
      "Name: cleaning_fee, dtype: int64\n",
      "\n",
      "\n",
      "INSTANT_BOOKABLE :  2\n",
      "t    19451\n",
      "f    54660\n",
      "Name: instant_bookable, dtype: int64\n",
      "\n",
      "\n"
     ]
    }
   ],
   "source": [
    "for column in df.columns:\n",
    "    if df[column].dtype == 'object':\n",
    "        print(column.upper(),': ',df[column].nunique())\n",
    "        print(df[column].value_counts().sort_values())\n",
    "        print('\\n')"
   ]
  },
  {
   "cell_type": "markdown",
   "metadata": {},
   "source": [
    "### Converting Instant_bookable from 'f' and 't' to boolean"
   ]
  },
  {
   "cell_type": "code",
   "execution_count": 13,
   "metadata": {
    "ExecuteTime": {
     "end_time": "2021-05-08T13:38:21.683075Z",
     "start_time": "2021-05-08T13:38:21.650128Z"
    }
   },
   "outputs": [],
   "source": [
    "df.instant_bookable.replace(['f','t'],[False,True],inplace=True )"
   ]
  },
  {
   "cell_type": "markdown",
   "metadata": {},
   "source": [
    "### Converting categorical to dummy variables"
   ]
  },
  {
   "cell_type": "code",
   "execution_count": 14,
   "metadata": {
    "ExecuteTime": {
     "end_time": "2021-05-08T13:39:21.675704Z",
     "start_time": "2021-05-08T13:39:21.617862Z"
    }
   },
   "outputs": [],
   "source": [
    "df = pd.get_dummies(df, columns=['room_type','cancellation_policy','cleaning_fee'],drop_first=True)"
   ]
  },
  {
   "cell_type": "code",
   "execution_count": 15,
   "metadata": {
    "ExecuteTime": {
     "end_time": "2021-05-08T13:39:22.893500Z",
     "start_time": "2021-05-08T13:39:22.864615Z"
    }
   },
   "outputs": [
    {
     "data": {
      "text/html": [
       "<div>\n",
       "<style scoped>\n",
       "    .dataframe tbody tr th:only-of-type {\n",
       "        vertical-align: middle;\n",
       "    }\n",
       "\n",
       "    .dataframe tbody tr th {\n",
       "        vertical-align: top;\n",
       "    }\n",
       "\n",
       "    .dataframe thead th {\n",
       "        text-align: right;\n",
       "    }\n",
       "</style>\n",
       "<table border=\"1\" class=\"dataframe\">\n",
       "  <thead>\n",
       "    <tr style=\"text-align: right;\">\n",
       "      <th></th>\n",
       "      <th>accommodates</th>\n",
       "      <th>bathrooms</th>\n",
       "      <th>instant_bookable</th>\n",
       "      <th>review_scores_rating</th>\n",
       "      <th>bedrooms</th>\n",
       "      <th>beds</th>\n",
       "      <th>log_price</th>\n",
       "      <th>room_type_Private room</th>\n",
       "      <th>room_type_Shared room</th>\n",
       "      <th>cancellation_policy_moderate</th>\n",
       "      <th>cancellation_policy_strict</th>\n",
       "      <th>cleaning_fee_True</th>\n",
       "    </tr>\n",
       "  </thead>\n",
       "  <tbody>\n",
       "    <tr>\n",
       "      <th>0</th>\n",
       "      <td>3.0</td>\n",
       "      <td>1.0</td>\n",
       "      <td>False</td>\n",
       "      <td>100.0</td>\n",
       "      <td>1.0</td>\n",
       "      <td>1.0</td>\n",
       "      <td>5.010635</td>\n",
       "      <td>0</td>\n",
       "      <td>0</td>\n",
       "      <td>0</td>\n",
       "      <td>1</td>\n",
       "      <td>1</td>\n",
       "    </tr>\n",
       "    <tr>\n",
       "      <th>1</th>\n",
       "      <td>7.0</td>\n",
       "      <td>1.0</td>\n",
       "      <td>True</td>\n",
       "      <td>93.0</td>\n",
       "      <td>3.0</td>\n",
       "      <td>3.0</td>\n",
       "      <td>5.129899</td>\n",
       "      <td>0</td>\n",
       "      <td>0</td>\n",
       "      <td>0</td>\n",
       "      <td>1</td>\n",
       "      <td>1</td>\n",
       "    </tr>\n",
       "    <tr>\n",
       "      <th>2</th>\n",
       "      <td>5.0</td>\n",
       "      <td>1.0</td>\n",
       "      <td>True</td>\n",
       "      <td>92.0</td>\n",
       "      <td>1.0</td>\n",
       "      <td>3.0</td>\n",
       "      <td>4.976734</td>\n",
       "      <td>0</td>\n",
       "      <td>0</td>\n",
       "      <td>1</td>\n",
       "      <td>0</td>\n",
       "      <td>1</td>\n",
       "    </tr>\n",
       "    <tr>\n",
       "      <th>3</th>\n",
       "      <td>4.0</td>\n",
       "      <td>1.0</td>\n",
       "      <td>False</td>\n",
       "      <td>NaN</td>\n",
       "      <td>2.0</td>\n",
       "      <td>2.0</td>\n",
       "      <td>6.620073</td>\n",
       "      <td>0</td>\n",
       "      <td>0</td>\n",
       "      <td>0</td>\n",
       "      <td>0</td>\n",
       "      <td>1</td>\n",
       "    </tr>\n",
       "    <tr>\n",
       "      <th>4</th>\n",
       "      <td>2.0</td>\n",
       "      <td>1.0</td>\n",
       "      <td>True</td>\n",
       "      <td>40.0</td>\n",
       "      <td>0.0</td>\n",
       "      <td>1.0</td>\n",
       "      <td>4.744932</td>\n",
       "      <td>0</td>\n",
       "      <td>0</td>\n",
       "      <td>1</td>\n",
       "      <td>0</td>\n",
       "      <td>1</td>\n",
       "    </tr>\n",
       "    <tr>\n",
       "      <th>5</th>\n",
       "      <td>2.0</td>\n",
       "      <td>1.0</td>\n",
       "      <td>True</td>\n",
       "      <td>100.0</td>\n",
       "      <td>1.0</td>\n",
       "      <td>1.0</td>\n",
       "      <td>4.442651</td>\n",
       "      <td>1</td>\n",
       "      <td>0</td>\n",
       "      <td>0</td>\n",
       "      <td>1</td>\n",
       "      <td>1</td>\n",
       "    </tr>\n",
       "    <tr>\n",
       "      <th>6</th>\n",
       "      <td>3.0</td>\n",
       "      <td>1.0</td>\n",
       "      <td>True</td>\n",
       "      <td>97.0</td>\n",
       "      <td>1.0</td>\n",
       "      <td>1.0</td>\n",
       "      <td>4.418841</td>\n",
       "      <td>0</td>\n",
       "      <td>0</td>\n",
       "      <td>1</td>\n",
       "      <td>0</td>\n",
       "      <td>1</td>\n",
       "    </tr>\n",
       "    <tr>\n",
       "      <th>7</th>\n",
       "      <td>2.0</td>\n",
       "      <td>1.0</td>\n",
       "      <td>False</td>\n",
       "      <td>93.0</td>\n",
       "      <td>1.0</td>\n",
       "      <td>1.0</td>\n",
       "      <td>4.787492</td>\n",
       "      <td>0</td>\n",
       "      <td>0</td>\n",
       "      <td>1</td>\n",
       "      <td>0</td>\n",
       "      <td>1</td>\n",
       "    </tr>\n",
       "    <tr>\n",
       "      <th>8</th>\n",
       "      <td>2.0</td>\n",
       "      <td>1.0</td>\n",
       "      <td>False</td>\n",
       "      <td>99.0</td>\n",
       "      <td>1.0</td>\n",
       "      <td>1.0</td>\n",
       "      <td>4.787492</td>\n",
       "      <td>1</td>\n",
       "      <td>0</td>\n",
       "      <td>1</td>\n",
       "      <td>0</td>\n",
       "      <td>1</td>\n",
       "    </tr>\n",
       "    <tr>\n",
       "      <th>9</th>\n",
       "      <td>2.0</td>\n",
       "      <td>1.0</td>\n",
       "      <td>True</td>\n",
       "      <td>90.0</td>\n",
       "      <td>1.0</td>\n",
       "      <td>1.0</td>\n",
       "      <td>3.583519</td>\n",
       "      <td>1</td>\n",
       "      <td>0</td>\n",
       "      <td>1</td>\n",
       "      <td>0</td>\n",
       "      <td>1</td>\n",
       "    </tr>\n",
       "  </tbody>\n",
       "</table>\n",
       "</div>"
      ],
      "text/plain": [
       "   accommodates  bathrooms  instant_bookable  review_scores_rating  bedrooms  \\\n",
       "0           3.0        1.0             False                 100.0       1.0   \n",
       "1           7.0        1.0              True                  93.0       3.0   \n",
       "2           5.0        1.0              True                  92.0       1.0   \n",
       "3           4.0        1.0             False                   NaN       2.0   \n",
       "4           2.0        1.0              True                  40.0       0.0   \n",
       "5           2.0        1.0              True                 100.0       1.0   \n",
       "6           3.0        1.0              True                  97.0       1.0   \n",
       "7           2.0        1.0             False                  93.0       1.0   \n",
       "8           2.0        1.0             False                  99.0       1.0   \n",
       "9           2.0        1.0              True                  90.0       1.0   \n",
       "\n",
       "   beds  log_price  room_type_Private room  room_type_Shared room  \\\n",
       "0   1.0   5.010635                       0                      0   \n",
       "1   3.0   5.129899                       0                      0   \n",
       "2   3.0   4.976734                       0                      0   \n",
       "3   2.0   6.620073                       0                      0   \n",
       "4   1.0   4.744932                       0                      0   \n",
       "5   1.0   4.442651                       1                      0   \n",
       "6   1.0   4.418841                       0                      0   \n",
       "7   1.0   4.787492                       0                      0   \n",
       "8   1.0   4.787492                       1                      0   \n",
       "9   1.0   3.583519                       1                      0   \n",
       "\n",
       "   cancellation_policy_moderate  cancellation_policy_strict  cleaning_fee_True  \n",
       "0                             0                           1                  1  \n",
       "1                             0                           1                  1  \n",
       "2                             1                           0                  1  \n",
       "3                             0                           0                  1  \n",
       "4                             1                           0                  1  \n",
       "5                             0                           1                  1  \n",
       "6                             1                           0                  1  \n",
       "7                             1                           0                  1  \n",
       "8                             1                           0                  1  \n",
       "9                             1                           0                  1  "
      ]
     },
     "execution_count": 15,
     "metadata": {},
     "output_type": "execute_result"
    }
   ],
   "source": [
    "df.head(10)"
   ]
  },
  {
   "cell_type": "code",
   "execution_count": 16,
   "metadata": {
    "ExecuteTime": {
     "end_time": "2021-05-08T13:40:26.398829Z",
     "start_time": "2021-05-08T13:40:26.381874Z"
    }
   },
   "outputs": [
    {
     "data": {
      "text/html": [
       "<div>\n",
       "<style scoped>\n",
       "    .dataframe tbody tr th:only-of-type {\n",
       "        vertical-align: middle;\n",
       "    }\n",
       "\n",
       "    .dataframe tbody tr th {\n",
       "        vertical-align: top;\n",
       "    }\n",
       "\n",
       "    .dataframe thead th {\n",
       "        text-align: right;\n",
       "    }\n",
       "</style>\n",
       "<table border=\"1\" class=\"dataframe\">\n",
       "  <thead>\n",
       "    <tr style=\"text-align: right;\">\n",
       "      <th></th>\n",
       "      <th>Missing</th>\n",
       "    </tr>\n",
       "  </thead>\n",
       "  <tbody>\n",
       "    <tr>\n",
       "      <th>accommodates</th>\n",
       "      <td>3</td>\n",
       "    </tr>\n",
       "    <tr>\n",
       "      <th>bathrooms</th>\n",
       "      <td>203</td>\n",
       "    </tr>\n",
       "    <tr>\n",
       "      <th>instant_bookable</th>\n",
       "      <td>0</td>\n",
       "    </tr>\n",
       "    <tr>\n",
       "      <th>review_scores_rating</th>\n",
       "      <td>16722</td>\n",
       "    </tr>\n",
       "    <tr>\n",
       "      <th>bedrooms</th>\n",
       "      <td>92</td>\n",
       "    </tr>\n",
       "    <tr>\n",
       "      <th>beds</th>\n",
       "      <td>131</td>\n",
       "    </tr>\n",
       "    <tr>\n",
       "      <th>log_price</th>\n",
       "      <td>0</td>\n",
       "    </tr>\n",
       "    <tr>\n",
       "      <th>room_type_Private room</th>\n",
       "      <td>0</td>\n",
       "    </tr>\n",
       "    <tr>\n",
       "      <th>room_type_Shared room</th>\n",
       "      <td>0</td>\n",
       "    </tr>\n",
       "    <tr>\n",
       "      <th>cancellation_policy_moderate</th>\n",
       "      <td>0</td>\n",
       "    </tr>\n",
       "    <tr>\n",
       "      <th>cancellation_policy_strict</th>\n",
       "      <td>0</td>\n",
       "    </tr>\n",
       "    <tr>\n",
       "      <th>cleaning_fee_True</th>\n",
       "      <td>0</td>\n",
       "    </tr>\n",
       "  </tbody>\n",
       "</table>\n",
       "</div>"
      ],
      "text/plain": [
       "                              Missing\n",
       "accommodates                        3\n",
       "bathrooms                         203\n",
       "instant_bookable                    0\n",
       "review_scores_rating            16722\n",
       "bedrooms                           92\n",
       "beds                              131\n",
       "log_price                           0\n",
       "room_type_Private room              0\n",
       "room_type_Shared room               0\n",
       "cancellation_policy_moderate        0\n",
       "cancellation_policy_strict          0\n",
       "cleaning_fee_True                   0"
      ]
     },
     "execution_count": 16,
     "metadata": {},
     "output_type": "execute_result"
    }
   ],
   "source": [
    "# Are there any missing values ?\n",
    "pd.DataFrame(df.isnull().sum(), columns=['Missing'], index = df.columns)"
   ]
  },
  {
   "cell_type": "markdown",
   "metadata": {},
   "source": [
    "### Imputing missing values"
   ]
  },
  {
   "cell_type": "code",
   "execution_count": 17,
   "metadata": {
    "ExecuteTime": {
     "end_time": "2021-05-08T13:42:16.337601Z",
     "start_time": "2021-05-08T13:42:16.292726Z"
    }
   },
   "outputs": [
    {
     "data": {
      "text/html": [
       "<div>\n",
       "<style scoped>\n",
       "    .dataframe tbody tr th:only-of-type {\n",
       "        vertical-align: middle;\n",
       "    }\n",
       "\n",
       "    .dataframe tbody tr th {\n",
       "        vertical-align: top;\n",
       "    }\n",
       "\n",
       "    .dataframe thead th {\n",
       "        text-align: right;\n",
       "    }\n",
       "</style>\n",
       "<table border=\"1\" class=\"dataframe\">\n",
       "  <thead>\n",
       "    <tr style=\"text-align: right;\">\n",
       "      <th></th>\n",
       "      <th>Missing</th>\n",
       "    </tr>\n",
       "  </thead>\n",
       "  <tbody>\n",
       "    <tr>\n",
       "      <th>accommodates</th>\n",
       "      <td>0</td>\n",
       "    </tr>\n",
       "    <tr>\n",
       "      <th>bathrooms</th>\n",
       "      <td>0</td>\n",
       "    </tr>\n",
       "    <tr>\n",
       "      <th>instant_bookable</th>\n",
       "      <td>0</td>\n",
       "    </tr>\n",
       "    <tr>\n",
       "      <th>review_scores_rating</th>\n",
       "      <td>0</td>\n",
       "    </tr>\n",
       "    <tr>\n",
       "      <th>bedrooms</th>\n",
       "      <td>0</td>\n",
       "    </tr>\n",
       "    <tr>\n",
       "      <th>beds</th>\n",
       "      <td>0</td>\n",
       "    </tr>\n",
       "    <tr>\n",
       "      <th>log_price</th>\n",
       "      <td>0</td>\n",
       "    </tr>\n",
       "    <tr>\n",
       "      <th>room_type_Private room</th>\n",
       "      <td>0</td>\n",
       "    </tr>\n",
       "    <tr>\n",
       "      <th>room_type_Shared room</th>\n",
       "      <td>0</td>\n",
       "    </tr>\n",
       "    <tr>\n",
       "      <th>cancellation_policy_moderate</th>\n",
       "      <td>0</td>\n",
       "    </tr>\n",
       "    <tr>\n",
       "      <th>cancellation_policy_strict</th>\n",
       "      <td>0</td>\n",
       "    </tr>\n",
       "    <tr>\n",
       "      <th>cleaning_fee_True</th>\n",
       "      <td>0</td>\n",
       "    </tr>\n",
       "  </tbody>\n",
       "</table>\n",
       "</div>"
      ],
      "text/plain": [
       "                              Missing\n",
       "accommodates                        0\n",
       "bathrooms                           0\n",
       "instant_bookable                    0\n",
       "review_scores_rating                0\n",
       "bedrooms                            0\n",
       "beds                                0\n",
       "log_price                           0\n",
       "room_type_Private room              0\n",
       "room_type_Shared room               0\n",
       "cancellation_policy_moderate        0\n",
       "cancellation_policy_strict          0\n",
       "cleaning_fee_True                   0"
      ]
     },
     "execution_count": 17,
     "metadata": {},
     "output_type": "execute_result"
    }
   ],
   "source": [
    "for column in df.columns:\n",
    "    if df[column].dtype != 'object':\n",
    "        mean = df[column].mean()\n",
    "        df[column] = df[column].fillna(mean)    \n",
    "        \n",
    "pd.DataFrame(df.isnull().sum(), \n",
    "             columns=[\"Missing\"], index = df.columns)       "
   ]
  },
  {
   "cell_type": "code",
   "execution_count": 18,
   "metadata": {
    "ExecuteTime": {
     "end_time": "2021-05-08T13:43:13.252918Z",
     "start_time": "2021-05-08T13:43:13.216019Z"
    }
   },
   "outputs": [
    {
     "data": {
      "text/html": [
       "<div>\n",
       "<style scoped>\n",
       "    .dataframe tbody tr th:only-of-type {\n",
       "        vertical-align: middle;\n",
       "    }\n",
       "\n",
       "    .dataframe tbody tr th {\n",
       "        vertical-align: top;\n",
       "    }\n",
       "\n",
       "    .dataframe thead th {\n",
       "        text-align: right;\n",
       "    }\n",
       "</style>\n",
       "<table border=\"1\" class=\"dataframe\">\n",
       "  <thead>\n",
       "    <tr style=\"text-align: right;\">\n",
       "      <th></th>\n",
       "      <th>accommodates</th>\n",
       "      <th>bathrooms</th>\n",
       "      <th>instant_bookable</th>\n",
       "      <th>review_scores_rating</th>\n",
       "      <th>bedrooms</th>\n",
       "      <th>beds</th>\n",
       "      <th>log_price</th>\n",
       "      <th>room_type_Private room</th>\n",
       "      <th>room_type_Shared room</th>\n",
       "      <th>cancellation_policy_moderate</th>\n",
       "      <th>cancellation_policy_strict</th>\n",
       "      <th>cleaning_fee_True</th>\n",
       "    </tr>\n",
       "  </thead>\n",
       "  <tbody>\n",
       "    <tr>\n",
       "      <th>0</th>\n",
       "      <td>3.0</td>\n",
       "      <td>1.0</td>\n",
       "      <td>False</td>\n",
       "      <td>100.000000</td>\n",
       "      <td>1.0</td>\n",
       "      <td>1.0</td>\n",
       "      <td>5.010635</td>\n",
       "      <td>0</td>\n",
       "      <td>0</td>\n",
       "      <td>0</td>\n",
       "      <td>1</td>\n",
       "      <td>1</td>\n",
       "    </tr>\n",
       "    <tr>\n",
       "      <th>1</th>\n",
       "      <td>7.0</td>\n",
       "      <td>1.0</td>\n",
       "      <td>True</td>\n",
       "      <td>93.000000</td>\n",
       "      <td>3.0</td>\n",
       "      <td>3.0</td>\n",
       "      <td>5.129899</td>\n",
       "      <td>0</td>\n",
       "      <td>0</td>\n",
       "      <td>0</td>\n",
       "      <td>1</td>\n",
       "      <td>1</td>\n",
       "    </tr>\n",
       "    <tr>\n",
       "      <th>2</th>\n",
       "      <td>5.0</td>\n",
       "      <td>1.0</td>\n",
       "      <td>True</td>\n",
       "      <td>92.000000</td>\n",
       "      <td>1.0</td>\n",
       "      <td>3.0</td>\n",
       "      <td>4.976734</td>\n",
       "      <td>0</td>\n",
       "      <td>0</td>\n",
       "      <td>1</td>\n",
       "      <td>0</td>\n",
       "      <td>1</td>\n",
       "    </tr>\n",
       "    <tr>\n",
       "      <th>3</th>\n",
       "      <td>4.0</td>\n",
       "      <td>1.0</td>\n",
       "      <td>False</td>\n",
       "      <td>94.067365</td>\n",
       "      <td>2.0</td>\n",
       "      <td>2.0</td>\n",
       "      <td>6.620073</td>\n",
       "      <td>0</td>\n",
       "      <td>0</td>\n",
       "      <td>0</td>\n",
       "      <td>0</td>\n",
       "      <td>1</td>\n",
       "    </tr>\n",
       "    <tr>\n",
       "      <th>4</th>\n",
       "      <td>2.0</td>\n",
       "      <td>1.0</td>\n",
       "      <td>True</td>\n",
       "      <td>40.000000</td>\n",
       "      <td>0.0</td>\n",
       "      <td>1.0</td>\n",
       "      <td>4.744932</td>\n",
       "      <td>0</td>\n",
       "      <td>0</td>\n",
       "      <td>1</td>\n",
       "      <td>0</td>\n",
       "      <td>1</td>\n",
       "    </tr>\n",
       "  </tbody>\n",
       "</table>\n",
       "</div>"
      ],
      "text/plain": [
       "   accommodates  bathrooms  instant_bookable  review_scores_rating  bedrooms  \\\n",
       "0           3.0        1.0             False            100.000000       1.0   \n",
       "1           7.0        1.0              True             93.000000       3.0   \n",
       "2           5.0        1.0              True             92.000000       1.0   \n",
       "3           4.0        1.0             False             94.067365       2.0   \n",
       "4           2.0        1.0              True             40.000000       0.0   \n",
       "\n",
       "   beds  log_price  room_type_Private room  room_type_Shared room  \\\n",
       "0   1.0   5.010635                       0                      0   \n",
       "1   3.0   5.129899                       0                      0   \n",
       "2   3.0   4.976734                       0                      0   \n",
       "3   2.0   6.620073                       0                      0   \n",
       "4   1.0   4.744932                       0                      0   \n",
       "\n",
       "   cancellation_policy_moderate  cancellation_policy_strict  cleaning_fee_True  \n",
       "0                             0                           1                  1  \n",
       "1                             0                           1                  1  \n",
       "2                             1                           0                  1  \n",
       "3                             0                           0                  1  \n",
       "4                             1                           0                  1  "
      ]
     },
     "execution_count": 18,
     "metadata": {},
     "output_type": "execute_result"
    }
   ],
   "source": [
    "df.head()"
   ]
  },
  {
   "cell_type": "code",
   "execution_count": 19,
   "metadata": {
    "ExecuteTime": {
     "end_time": "2021-05-08T13:45:20.889297Z",
     "start_time": "2021-05-08T13:45:20.852397Z"
    }
   },
   "outputs": [
    {
     "name": "stdout",
     "output_type": "stream",
     "text": [
      "<class 'pandas.core.frame.DataFrame'>\n",
      "RangeIndex: 74111 entries, 0 to 74110\n",
      "Data columns (total 12 columns):\n",
      " #   Column                        Non-Null Count  Dtype  \n",
      "---  ------                        --------------  -----  \n",
      " 0   accommodates                  74111 non-null  float64\n",
      " 1   bathrooms                     74111 non-null  float64\n",
      " 2   instant_bookable              74111 non-null  bool   \n",
      " 3   review_scores_rating          74111 non-null  float64\n",
      " 4   bedrooms                      74111 non-null  float64\n",
      " 5   beds                          74111 non-null  float64\n",
      " 6   log_price                     74111 non-null  float64\n",
      " 7   room_type_Private room        74111 non-null  uint8  \n",
      " 8   room_type_Shared room         74111 non-null  uint8  \n",
      " 9   cancellation_policy_moderate  74111 non-null  uint8  \n",
      " 10  cancellation_policy_strict    74111 non-null  uint8  \n",
      " 11  cleaning_fee_True             74111 non-null  uint8  \n",
      "dtypes: bool(1), float64(6), uint8(5)\n",
      "memory usage: 3.8 MB\n"
     ]
    }
   ],
   "source": [
    "df.info()"
   ]
  },
  {
   "cell_type": "code",
   "execution_count": 20,
   "metadata": {
    "ExecuteTime": {
     "end_time": "2021-05-08T13:47:05.557190Z",
     "start_time": "2021-05-08T13:47:05.538239Z"
    }
   },
   "outputs": [],
   "source": [
    "numcols = ['accommodates','bathrooms','review_scores_rating','bedrooms','beds','log_price']"
   ]
  },
  {
   "cell_type": "code",
   "execution_count": 21,
   "metadata": {
    "ExecuteTime": {
     "end_time": "2021-05-08T13:47:14.543761Z",
     "start_time": "2021-05-08T13:47:14.476938Z"
    }
   },
   "outputs": [
    {
     "data": {
      "text/html": [
       "<div>\n",
       "<style scoped>\n",
       "    .dataframe tbody tr th:only-of-type {\n",
       "        vertical-align: middle;\n",
       "    }\n",
       "\n",
       "    .dataframe tbody tr th {\n",
       "        vertical-align: top;\n",
       "    }\n",
       "\n",
       "    .dataframe thead th {\n",
       "        text-align: right;\n",
       "    }\n",
       "</style>\n",
       "<table border=\"1\" class=\"dataframe\">\n",
       "  <thead>\n",
       "    <tr style=\"text-align: right;\">\n",
       "      <th></th>\n",
       "      <th>count</th>\n",
       "      <th>mean</th>\n",
       "      <th>std</th>\n",
       "      <th>min</th>\n",
       "      <th>25%</th>\n",
       "      <th>50%</th>\n",
       "      <th>75%</th>\n",
       "      <th>max</th>\n",
       "    </tr>\n",
       "  </thead>\n",
       "  <tbody>\n",
       "    <tr>\n",
       "      <th>accommodates</th>\n",
       "      <td>74111.0</td>\n",
       "      <td>3.0</td>\n",
       "      <td>2.0</td>\n",
       "      <td>1.0</td>\n",
       "      <td>2.0</td>\n",
       "      <td>2.0</td>\n",
       "      <td>4.0</td>\n",
       "      <td>16.0</td>\n",
       "    </tr>\n",
       "    <tr>\n",
       "      <th>bathrooms</th>\n",
       "      <td>74111.0</td>\n",
       "      <td>1.0</td>\n",
       "      <td>1.0</td>\n",
       "      <td>0.0</td>\n",
       "      <td>1.0</td>\n",
       "      <td>1.0</td>\n",
       "      <td>1.0</td>\n",
       "      <td>8.0</td>\n",
       "    </tr>\n",
       "    <tr>\n",
       "      <th>review_scores_rating</th>\n",
       "      <td>74111.0</td>\n",
       "      <td>94.0</td>\n",
       "      <td>7.0</td>\n",
       "      <td>20.0</td>\n",
       "      <td>93.0</td>\n",
       "      <td>94.0</td>\n",
       "      <td>99.0</td>\n",
       "      <td>100.0</td>\n",
       "    </tr>\n",
       "    <tr>\n",
       "      <th>bedrooms</th>\n",
       "      <td>74111.0</td>\n",
       "      <td>1.0</td>\n",
       "      <td>1.0</td>\n",
       "      <td>0.0</td>\n",
       "      <td>1.0</td>\n",
       "      <td>1.0</td>\n",
       "      <td>1.0</td>\n",
       "      <td>10.0</td>\n",
       "    </tr>\n",
       "    <tr>\n",
       "      <th>beds</th>\n",
       "      <td>74111.0</td>\n",
       "      <td>2.0</td>\n",
       "      <td>1.0</td>\n",
       "      <td>0.0</td>\n",
       "      <td>1.0</td>\n",
       "      <td>1.0</td>\n",
       "      <td>2.0</td>\n",
       "      <td>18.0</td>\n",
       "    </tr>\n",
       "    <tr>\n",
       "      <th>log_price</th>\n",
       "      <td>74111.0</td>\n",
       "      <td>5.0</td>\n",
       "      <td>1.0</td>\n",
       "      <td>0.0</td>\n",
       "      <td>4.0</td>\n",
       "      <td>5.0</td>\n",
       "      <td>5.0</td>\n",
       "      <td>8.0</td>\n",
       "    </tr>\n",
       "  </tbody>\n",
       "</table>\n",
       "</div>"
      ],
      "text/plain": [
       "                        count  mean  std   min   25%   50%   75%    max\n",
       "accommodates          74111.0   3.0  2.0   1.0   2.0   2.0   4.0   16.0\n",
       "bathrooms             74111.0   1.0  1.0   0.0   1.0   1.0   1.0    8.0\n",
       "review_scores_rating  74111.0  94.0  7.0  20.0  93.0  94.0  99.0  100.0\n",
       "bedrooms              74111.0   1.0  1.0   0.0   1.0   1.0   1.0   10.0\n",
       "beds                  74111.0   2.0  1.0   0.0   1.0   1.0   2.0   18.0\n",
       "log_price             74111.0   5.0  1.0   0.0   4.0   5.0   5.0    8.0"
      ]
     },
     "execution_count": 21,
     "metadata": {},
     "output_type": "execute_result"
    }
   ],
   "source": [
    "round(df[numcols].describe().T,0)"
   ]
  },
  {
   "cell_type": "markdown",
   "metadata": {},
   "source": [
    "### Checking for Duplicate observations"
   ]
  },
  {
   "cell_type": "code",
   "execution_count": 22,
   "metadata": {
    "ExecuteTime": {
     "end_time": "2021-05-08T13:48:07.068699Z",
     "start_time": "2021-05-08T13:48:07.014845Z"
    }
   },
   "outputs": [
    {
     "data": {
      "text/plain": [
       "19998"
      ]
     },
     "execution_count": 22,
     "metadata": {},
     "output_type": "execute_result"
    }
   ],
   "source": [
    "df.duplicated().sum()"
   ]
  },
  {
   "cell_type": "code",
   "execution_count": 23,
   "metadata": {
    "ExecuteTime": {
     "end_time": "2021-05-08T13:50:28.157801Z",
     "start_time": "2021-05-08T13:50:28.087959Z"
    }
   },
   "outputs": [
    {
     "name": "stdout",
     "output_type": "stream",
     "text": [
      "Shape before deleting duplicates(74111, 12)\n",
      "Shape after deleting duplicates(54113, 12)\n"
     ]
    }
   ],
   "source": [
    "print(f'Shape before deleting duplicates{df.shape}')\n",
    "nnp\n",
    "print(f'Shape after deleting duplicates{df.shape}')"
   ]
  },
  {
   "cell_type": "markdown",
   "metadata": {},
   "source": [
    "### Correlation Plot"
   ]
  },
  {
   "cell_type": "code",
   "execution_count": 24,
   "metadata": {
    "ExecuteTime": {
     "end_time": "2021-05-08T13:51:10.864185Z",
     "start_time": "2021-05-08T13:51:09.606404Z"
    }
   },
   "outputs": [
    {
     "data": {
      "image/png": "[encoded data removed]",
      "text/plain": [
       "<Figure size 864x720 with 2 Axes>"
      ]
     },
     "metadata": {
      "needs_background": "light"
     },
     "output_type": "display_data"
    }
   ],
   "source": [
    "plt.figure(figsize=(12,10))\n",
    "sns.heatmap(df.iloc[:, 0:6].corr().round(2),annot=True,\n",
    "           linewidths=2,cmap='plasma',\n",
    "           vmin=-1,vmax=1, annot_kws={'size':20});"
   ]
  },
  {
   "cell_type": "markdown",
   "metadata": {},
   "source": [
    "**The variable 'Accommodates', 'bedrooms','bathrooms', 'beds' are having correlation with each other.**\n"
   ]
  },
  {
   "cell_type": "markdown",
   "metadata": {},
   "source": [
    "### Outlier Checks"
   ]
  },
  {
   "cell_type": "code",
   "execution_count": 25,
   "metadata": {
    "ExecuteTime": {
     "end_time": "2021-05-08T14:00:08.463038Z",
     "start_time": "2021-05-08T14:00:08.436043Z"
    }
   },
   "outputs": [
    {
     "data": {
      "text/plain": [
       "accommodates                    float64\n",
       "bathrooms                       float64\n",
       "instant_bookable                   bool\n",
       "review_scores_rating            float64\n",
       "bedrooms                        float64\n",
       "beds                            float64\n",
       "log_price                       float64\n",
       "room_type_Private room            uint8\n",
       "room_type_Shared room             uint8\n",
       "cancellation_policy_moderate      uint8\n",
       "cancellation_policy_strict        uint8\n",
       "cleaning_fee_True                 uint8\n",
       "dtype: object"
      ]
     },
     "execution_count": 25,
     "metadata": {},
     "output_type": "execute_result"
    }
   ],
   "source": [
    "df.dtypes"
   ]
  },
  {
   "cell_type": "code",
   "execution_count": 26,
   "metadata": {
    "ExecuteTime": {
     "end_time": "2021-05-08T14:01:23.085049Z",
     "start_time": "2021-05-08T14:01:21.326961Z"
    }
   },
   "outputs": [
    {
     "data": {
      "image/png": "[encoded data removed]",
      "text/plain": [
       "<Figure size 1440x576 with 6 Axes>"
      ]
     },
     "metadata": {
      "needs_background": "light"
     },
     "output_type": "display_data"
    }
   ],
   "source": [
    "# construct box plot for continuous variables\n",
    "# however we dont want this for the numeric variables obtained\n",
    "# by converting categorical to numeric\n",
    "cont=df.dtypes[(df.dtypes!='uint8') & (df.dtypes!='bool')].index\n",
    "\n",
    "df[cont].plot(kind = 'box', figsize = (20,8),subplots = True,\n",
    "             title = 'Boxplots to check for Outliers');\n"
   ]
  },
  {
   "cell_type": "code",
   "execution_count": 27,
   "metadata": {
    "ExecuteTime": {
     "end_time": "2021-05-08T14:01:44.483936Z",
     "start_time": "2021-05-08T14:01:44.473928Z"
    }
   },
   "outputs": [],
   "source": [
    "def outlier_limits(col):\n",
    "    sorted(col)\n",
    "    Q1,Q3=np.percentile(col,[25,75])\n",
    "    IQR=Q3-Q1\n",
    "    lower_range= Q1-(1.5 * IQR)\n",
    "    upper_range= Q3+(1.5 * IQR)\n",
    "    return lower_range, upper_range"
   ]
  },
  {
   "cell_type": "code",
   "execution_count": 28,
   "metadata": {
    "ExecuteTime": {
     "end_time": "2021-05-08T14:01:48.728131Z",
     "start_time": "2021-05-08T14:01:48.450154Z"
    }
   },
   "outputs": [],
   "source": [
    "for column in df[cont].columns:\n",
    "    lr,ur=outlier_limits(df[column])\n",
    "    df[column]=np.where(df[column]>ur,ur,df[column])\n",
    "    df[column]=np.where(df[column]<lr,lr,df[column])"
   ]
  },
  {
   "cell_type": "code",
   "execution_count": 29,
   "metadata": {
    "ExecuteTime": {
     "end_time": "2021-05-08T14:01:53.631840Z",
     "start_time": "2021-05-08T14:01:51.972871Z"
    }
   },
   "outputs": [
    {
     "data": {
      "image/png": "[encoded data removed]",
      "text/plain": [
       "<Figure size 1440x576 with 6 Axes>"
      ]
     },
     "metadata": {
      "needs_background": "light"
     },
     "output_type": "display_data"
    }
   ],
   "source": [
    "# Check if outliers have been capped\n",
    "\n",
    "df[cont].plot(kind = 'box', \n",
    "              title = 'Boxplots after Outlier Capping',\n",
    "             figsize = (20,8),\n",
    "             subplots = True);\n"
   ]
  },
  {
   "cell_type": "markdown",
   "metadata": {},
   "source": [
    "### Bi-Variate Analysis"
   ]
  },
  {
   "cell_type": "code",
   "execution_count": 30,
   "metadata": {
    "ExecuteTime": {
     "end_time": "2021-05-08T14:02:37.682871Z",
     "start_time": "2021-05-08T14:02:17.886884Z"
    }
   },
   "outputs": [
    {
     "data": {
      "image/png": "[encoded data removed]",
      "text/plain": [
       "<Figure size 1080x1080 with 42 Axes>"
      ]
     },
     "metadata": {
      "needs_background": "light"
     },
     "output_type": "display_data"
    }
   ],
   "source": [
    "df_attr = (df[cont])\n",
    "sns.pairplot(df_attr, diag_kind='kde')  \n",
    "plt.show()"
   ]
  },
  {
   "cell_type": "markdown",
   "metadata": {},
   "source": [
    "# Train-Test Split"
   ]
  },
  {
   "cell_type": "code",
   "execution_count": 31,
   "metadata": {
    "ExecuteTime": {
     "end_time": "2021-05-08T14:03:41.965833Z",
     "start_time": "2021-05-08T14:03:41.947792Z"
    }
   },
   "outputs": [],
   "source": [
    "# Copy all the predictor variables into X dataframe\n",
    "X = df.drop('log_price', axis=1)\n",
    "\n",
    "# Copy target into the y dataframe. \n",
    "y = df[['log_price']]"
   ]
  },
  {
   "cell_type": "code",
   "execution_count": 32,
   "metadata": {
    "ExecuteTime": {
     "end_time": "2021-05-08T14:03:45.335775Z",
     "start_time": "2021-05-08T14:03:45.294814Z"
    }
   },
   "outputs": [
    {
     "data": {
      "text/html": [
       "<div>\n",
       "<style scoped>\n",
       "    .dataframe tbody tr th:only-of-type {\n",
       "        vertical-align: middle;\n",
       "    }\n",
       "\n",
       "    .dataframe tbody tr th {\n",
       "        vertical-align: top;\n",
       "    }\n",
       "\n",
       "    .dataframe thead th {\n",
       "        text-align: right;\n",
       "    }\n",
       "</style>\n",
       "<table border=\"1\" class=\"dataframe\">\n",
       "  <thead>\n",
       "    <tr style=\"text-align: right;\">\n",
       "      <th></th>\n",
       "      <th>accommodates</th>\n",
       "      <th>bathrooms</th>\n",
       "      <th>instant_bookable</th>\n",
       "      <th>review_scores_rating</th>\n",
       "      <th>bedrooms</th>\n",
       "      <th>beds</th>\n",
       "      <th>room_type_Private room</th>\n",
       "      <th>room_type_Shared room</th>\n",
       "      <th>cancellation_policy_moderate</th>\n",
       "      <th>cancellation_policy_strict</th>\n",
       "      <th>cleaning_fee_True</th>\n",
       "    </tr>\n",
       "  </thead>\n",
       "  <tbody>\n",
       "    <tr>\n",
       "      <th>0</th>\n",
       "      <td>3.0</td>\n",
       "      <td>1.0</td>\n",
       "      <td>False</td>\n",
       "      <td>100.000000</td>\n",
       "      <td>1.0</td>\n",
       "      <td>1.0</td>\n",
       "      <td>0</td>\n",
       "      <td>0</td>\n",
       "      <td>0</td>\n",
       "      <td>1</td>\n",
       "      <td>1</td>\n",
       "    </tr>\n",
       "    <tr>\n",
       "      <th>1</th>\n",
       "      <td>7.0</td>\n",
       "      <td>1.0</td>\n",
       "      <td>True</td>\n",
       "      <td>93.000000</td>\n",
       "      <td>3.0</td>\n",
       "      <td>3.0</td>\n",
       "      <td>0</td>\n",
       "      <td>0</td>\n",
       "      <td>0</td>\n",
       "      <td>1</td>\n",
       "      <td>1</td>\n",
       "    </tr>\n",
       "    <tr>\n",
       "      <th>2</th>\n",
       "      <td>5.0</td>\n",
       "      <td>1.0</td>\n",
       "      <td>True</td>\n",
       "      <td>92.000000</td>\n",
       "      <td>1.0</td>\n",
       "      <td>3.0</td>\n",
       "      <td>0</td>\n",
       "      <td>0</td>\n",
       "      <td>1</td>\n",
       "      <td>0</td>\n",
       "      <td>1</td>\n",
       "    </tr>\n",
       "    <tr>\n",
       "      <th>3</th>\n",
       "      <td>4.0</td>\n",
       "      <td>1.0</td>\n",
       "      <td>False</td>\n",
       "      <td>94.067365</td>\n",
       "      <td>2.0</td>\n",
       "      <td>2.0</td>\n",
       "      <td>0</td>\n",
       "      <td>0</td>\n",
       "      <td>0</td>\n",
       "      <td>0</td>\n",
       "      <td>1</td>\n",
       "    </tr>\n",
       "    <tr>\n",
       "      <th>4</th>\n",
       "      <td>2.0</td>\n",
       "      <td>1.0</td>\n",
       "      <td>True</td>\n",
       "      <td>83.000000</td>\n",
       "      <td>0.0</td>\n",
       "      <td>1.0</td>\n",
       "      <td>0</td>\n",
       "      <td>0</td>\n",
       "      <td>1</td>\n",
       "      <td>0</td>\n",
       "      <td>1</td>\n",
       "    </tr>\n",
       "  </tbody>\n",
       "</table>\n",
       "</div>"
      ],
      "text/plain": [
       "   accommodates  bathrooms  instant_bookable  review_scores_rating  bedrooms  \\\n",
       "0           3.0        1.0             False            100.000000       1.0   \n",
       "1           7.0        1.0              True             93.000000       3.0   \n",
       "2           5.0        1.0              True             92.000000       1.0   \n",
       "3           4.0        1.0             False             94.067365       2.0   \n",
       "4           2.0        1.0              True             83.000000       0.0   \n",
       "\n",
       "   beds  room_type_Private room  room_type_Shared room  \\\n",
       "0   1.0                       0                      0   \n",
       "1   3.0                       0                      0   \n",
       "2   3.0                       0                      0   \n",
       "3   2.0                       0                      0   \n",
       "4   1.0                       0                      0   \n",
       "\n",
       "   cancellation_policy_moderate  cancellation_policy_strict  cleaning_fee_True  \n",
       "0                             0                           1                  1  \n",
       "1                             0                           1                  1  \n",
       "2                             1                           0                  1  \n",
       "3                             0                           0                  1  \n",
       "4                             1                           0                  1  "
      ]
     },
     "execution_count": 32,
     "metadata": {},
     "output_type": "execute_result"
    }
   ],
   "source": [
    "X.head()"
   ]
  },
  {
   "cell_type": "code",
   "execution_count": 33,
   "metadata": {
    "ExecuteTime": {
     "end_time": "2021-05-08T14:04:05.913954Z",
     "start_time": "2021-05-08T14:04:05.884957Z"
    }
   },
   "outputs": [],
   "source": [
    "# Split X and y into training and test set in 75:25 ratio\n",
    "from sklearn.model_selection import train_test_split\n",
    "X_train, X_test, y_train, y_test = train_test_split(X, \n",
    "                                                    y, \n",
    "                                                    test_size=0.25, \n",
    "                                                    random_state=1)"
   ]
  },
  {
   "cell_type": "markdown",
   "metadata": {},
   "source": [
    "# Linear Regression Model"
   ]
  },
  {
   "cell_type": "code",
   "execution_count": 34,
   "metadata": {
    "ExecuteTime": {
     "end_time": "2021-05-08T14:04:28.019747Z",
     "start_time": "2021-05-08T14:04:27.843710Z"
    }
   },
   "outputs": [
    {
     "data": {
      "text/plain": [
       "LinearRegression()"
      ]
     },
     "execution_count": 34,
     "metadata": {},
     "output_type": "execute_result"
    }
   ],
   "source": [
    "# invoke the LinearRegression function and find the bestfit model on training data\n",
    "\n",
    "regression_model = LinearRegression()\n",
    "regression_model.fit(X_train, y_train)"
   ]
  },
  {
   "cell_type": "code",
   "execution_count": 35,
   "metadata": {
    "ExecuteTime": {
     "end_time": "2021-05-08T14:05:24.039738Z",
     "start_time": "2021-05-08T14:05:24.017797Z"
    }
   },
   "outputs": [
    {
     "data": {
      "text/plain": [
       "array([[ 0.09505751,  0.18080417, -0.06503896,  0.01170187,  0.15805881,\n",
       "        -0.04507899, -0.61155709, -1.08180489, -0.06001522, -0.00582287,\n",
       "        -0.08187382]])"
      ]
     },
     "execution_count": 35,
     "metadata": {},
     "output_type": "execute_result"
    }
   ],
   "source": [
    "regression_model.coef_"
   ]
  },
  {
   "cell_type": "code",
   "execution_count": 36,
   "metadata": {
    "ExecuteTime": {
     "end_time": "2021-05-08T14:10:07.071315Z",
     "start_time": "2021-05-08T14:10:07.060346Z"
    }
   },
   "outputs": [
    {
     "name": "stdout",
     "output_type": "stream",
     "text": [
      "The coefficient for accommodates is 0.09505750537686679\n",
      "The coefficient for bathrooms is 0.18080416863720908\n",
      "The coefficient for instant_bookable is -0.06503896431474485\n",
      "The coefficient for review_scores_rating is 0.011701869399644522\n",
      "The coefficient for bedrooms is 0.15805881436414967\n",
      "The coefficient for beds is -0.04507899480970071\n",
      "The coefficient for room_type_Private room is -0.6115570888488954\n",
      "The coefficient for room_type_Shared room is -1.081804889194154\n",
      "The coefficient for cancellation_policy_moderate is -0.060015221396403744\n",
      "The coefficient for cancellation_policy_strict is -0.005822870628089221\n",
      "The coefficient for cleaning_fee_True is -0.08187381765071974\n"
     ]
    }
   ],
   "source": [
    "# Let us explore the coefficients for each of the independent attributes\n",
    "\n",
    "for idx, col_name in enumerate(X_train.columns):\n",
    "    print(f\"The coefficient for {col_name} is {regression_model.coef_[0][idx]}\")"
   ]
  },
  {
   "cell_type": "code",
   "execution_count": 37,
   "metadata": {
    "ExecuteTime": {
     "end_time": "2021-05-08T14:10:43.861254Z",
     "start_time": "2021-05-08T14:10:43.844238Z"
    }
   },
   "outputs": [
    {
     "data": {
      "text/html": [
       "<div>\n",
       "<style scoped>\n",
       "    .dataframe tbody tr th:only-of-type {\n",
       "        vertical-align: middle;\n",
       "    }\n",
       "\n",
       "    .dataframe tbody tr th {\n",
       "        vertical-align: top;\n",
       "    }\n",
       "\n",
       "    .dataframe thead th {\n",
       "        text-align: right;\n",
       "    }\n",
       "</style>\n",
       "<table border=\"1\" class=\"dataframe\">\n",
       "  <thead>\n",
       "    <tr style=\"text-align: right;\">\n",
       "      <th></th>\n",
       "      <th>Coefficient</th>\n",
       "    </tr>\n",
       "  </thead>\n",
       "  <tbody>\n",
       "    <tr>\n",
       "      <th>accommodates</th>\n",
       "      <td>0.095058</td>\n",
       "    </tr>\n",
       "    <tr>\n",
       "      <th>bathrooms</th>\n",
       "      <td>0.180804</td>\n",
       "    </tr>\n",
       "    <tr>\n",
       "      <th>instant_bookable</th>\n",
       "      <td>-0.065039</td>\n",
       "    </tr>\n",
       "    <tr>\n",
       "      <th>review_scores_rating</th>\n",
       "      <td>0.011702</td>\n",
       "    </tr>\n",
       "    <tr>\n",
       "      <th>bedrooms</th>\n",
       "      <td>0.158059</td>\n",
       "    </tr>\n",
       "    <tr>\n",
       "      <th>beds</th>\n",
       "      <td>-0.045079</td>\n",
       "    </tr>\n",
       "    <tr>\n",
       "      <th>room_type_Private room</th>\n",
       "      <td>-0.611557</td>\n",
       "    </tr>\n",
       "    <tr>\n",
       "      <th>room_type_Shared room</th>\n",
       "      <td>-1.081805</td>\n",
       "    </tr>\n",
       "    <tr>\n",
       "      <th>cancellation_policy_moderate</th>\n",
       "      <td>-0.060015</td>\n",
       "    </tr>\n",
       "    <tr>\n",
       "      <th>cancellation_policy_strict</th>\n",
       "      <td>-0.005823</td>\n",
       "    </tr>\n",
       "    <tr>\n",
       "      <th>cleaning_fee_True</th>\n",
       "      <td>-0.081874</td>\n",
       "    </tr>\n",
       "  </tbody>\n",
       "</table>\n",
       "</div>"
      ],
      "text/plain": [
       "                              Coefficient\n",
       "accommodates                     0.095058\n",
       "bathrooms                        0.180804\n",
       "instant_bookable                -0.065039\n",
       "review_scores_rating             0.011702\n",
       "bedrooms                         0.158059\n",
       "beds                            -0.045079\n",
       "room_type_Private room          -0.611557\n",
       "room_type_Shared room           -1.081805\n",
       "cancellation_policy_moderate    -0.060015\n",
       "cancellation_policy_strict      -0.005823\n",
       "cleaning_fee_True               -0.081874"
      ]
     },
     "execution_count": 37,
     "metadata": {},
     "output_type": "execute_result"
    }
   ],
   "source": [
    "# alternative better way of displaying the coefficients\n",
    "pd.DataFrame(regression_model.coef_.reshape(11,-1), \n",
    "             columns=['Coefficient'],\n",
    "            index = X_train.columns)"
   ]
  },
  {
   "cell_type": "code",
   "execution_count": 38,
   "metadata": {
    "ExecuteTime": {
     "end_time": "2021-05-08T14:12:34.300604Z",
     "start_time": "2021-05-08T14:12:34.290632Z"
    }
   },
   "outputs": [
    {
     "name": "stdout",
     "output_type": "stream",
     "text": [
      "The intercept for our model is 3.4292638017758437\n"
     ]
    }
   ],
   "source": [
    "# Let us check the intercept for the model\n",
    "\n",
    "intercept = regression_model.intercept_[0]\n",
    "\n",
    "print(f\"The intercept for our model is {intercept}\")"
   ]
  },
  {
   "cell_type": "markdown",
   "metadata": {},
   "source": [
    "# Model Evaluation"
   ]
  },
  {
   "cell_type": "markdown",
   "metadata": {},
   "source": [
    "## R-Squared"
   ]
  },
  {
   "cell_type": "code",
   "execution_count": 39,
   "metadata": {
    "ExecuteTime": {
     "end_time": "2021-05-08T14:15:48.386672Z",
     "start_time": "2021-05-08T14:15:48.333815Z"
    }
   },
   "outputs": [
    {
     "data": {
      "text/plain": [
       "0.5082917563299905"
      ]
     },
     "execution_count": 39,
     "metadata": {},
     "output_type": "execute_result"
    }
   ],
   "source": [
    "# R square on training data\n",
    "regression_model.score(X_train, y_train)"
   ]
  },
  {
   "cell_type": "markdown",
   "metadata": {},
   "source": [
    "50% of the variation in the log_price is explained by the predictors in the model for train set"
   ]
  },
  {
   "cell_type": "code",
   "execution_count": 40,
   "metadata": {
    "ExecuteTime": {
     "end_time": "2021-05-08T14:16:17.678209Z",
     "start_time": "2021-05-08T14:16:17.648289Z"
    }
   },
   "outputs": [
    {
     "data": {
      "text/plain": [
       "0.5019765734338828"
      ]
     },
     "execution_count": 40,
     "metadata": {},
     "output_type": "execute_result"
    }
   ],
   "source": [
    "# R square on testing data\n",
    "regression_model.score(X_test, y_test)"
   ]
  },
  {
   "cell_type": "markdown",
   "metadata": {},
   "source": [
    "## RMSE"
   ]
  },
  {
   "cell_type": "code",
   "execution_count": 41,
   "metadata": {
    "ExecuteTime": {
     "end_time": "2021-05-08T14:18:01.032271Z",
     "start_time": "2021-05-08T14:18:00.977420Z"
    }
   },
   "outputs": [
    {
     "data": {
      "text/plain": [
       "0.5159255811569989"
      ]
     },
     "execution_count": 41,
     "metadata": {},
     "output_type": "execute_result"
    }
   ],
   "source": [
    "#RMSE on Training data\n",
    "predicted_train=regression_model.predict(X_train)\n",
    "mean_squared_error(y_train,predicted_train, squared=False)"
   ]
  },
  {
   "cell_type": "code",
   "execution_count": 42,
   "metadata": {
    "ExecuteTime": {
     "end_time": "2021-05-08T14:19:01.877165Z",
     "start_time": "2021-05-08T14:19:01.843441Z"
    }
   },
   "outputs": [
    {
     "data": {
      "text/plain": [
       "0.5197867614388492"
      ]
     },
     "execution_count": 42,
     "metadata": {},
     "output_type": "execute_result"
    }
   ],
   "source": [
    "#RMSE on Testing data\n",
    "predicted_test=regression_model.predict(X_test)\n",
    "mean_squared_error(y_test,predicted_test,squared=False)"
   ]
  },
  {
   "cell_type": "code",
   "execution_count": 43,
   "metadata": {
    "ExecuteTime": {
     "end_time": "2021-05-08T14:19:08.299834Z",
     "start_time": "2021-05-08T14:19:08.290860Z"
    }
   },
   "outputs": [
    {
     "data": {
      "text/plain": [
       "4.860395771153523"
      ]
     },
     "execution_count": 43,
     "metadata": {},
     "output_type": "execute_result"
    }
   ],
   "source": [
    "df.log_price.mean()"
   ]
  },
  {
   "cell_type": "markdown",
   "metadata": {},
   "source": [
    "## Linear Regression using statsmodels"
   ]
  },
  {
   "cell_type": "code",
   "execution_count": 44,
   "metadata": {
    "ExecuteTime": {
     "end_time": "2021-05-08T14:22:48.809491Z",
     "start_time": "2021-05-08T14:22:48.769601Z"
    }
   },
   "outputs": [
    {
     "data": {
      "text/html": [
       "<div>\n",
       "<style scoped>\n",
       "    .dataframe tbody tr th:only-of-type {\n",
       "        vertical-align: middle;\n",
       "    }\n",
       "\n",
       "    .dataframe tbody tr th {\n",
       "        vertical-align: top;\n",
       "    }\n",
       "\n",
       "    .dataframe thead th {\n",
       "        text-align: right;\n",
       "    }\n",
       "</style>\n",
       "<table border=\"1\" class=\"dataframe\">\n",
       "  <thead>\n",
       "    <tr style=\"text-align: right;\">\n",
       "      <th></th>\n",
       "      <th>accommodates</th>\n",
       "      <th>bathrooms</th>\n",
       "      <th>instant_bookable</th>\n",
       "      <th>review_scores_rating</th>\n",
       "      <th>bedrooms</th>\n",
       "      <th>beds</th>\n",
       "      <th>room_type_Private room</th>\n",
       "      <th>room_type_Shared room</th>\n",
       "      <th>cancellation_policy_moderate</th>\n",
       "      <th>cancellation_policy_strict</th>\n",
       "      <th>cleaning_fee_True</th>\n",
       "      <th>log_price</th>\n",
       "    </tr>\n",
       "  </thead>\n",
       "  <tbody>\n",
       "    <tr>\n",
       "      <th>50743</th>\n",
       "      <td>3.0</td>\n",
       "      <td>1.0</td>\n",
       "      <td>False</td>\n",
       "      <td>94.067365</td>\n",
       "      <td>2.0</td>\n",
       "      <td>2.0</td>\n",
       "      <td>0</td>\n",
       "      <td>0</td>\n",
       "      <td>0</td>\n",
       "      <td>0</td>\n",
       "      <td>1</td>\n",
       "      <td>5.010635</td>\n",
       "    </tr>\n",
       "    <tr>\n",
       "      <th>12586</th>\n",
       "      <td>5.0</td>\n",
       "      <td>2.0</td>\n",
       "      <td>False</td>\n",
       "      <td>92.000000</td>\n",
       "      <td>2.0</td>\n",
       "      <td>2.0</td>\n",
       "      <td>0</td>\n",
       "      <td>0</td>\n",
       "      <td>0</td>\n",
       "      <td>1</td>\n",
       "      <td>1</td>\n",
       "      <td>5.703782</td>\n",
       "    </tr>\n",
       "    <tr>\n",
       "      <th>4152</th>\n",
       "      <td>4.0</td>\n",
       "      <td>1.0</td>\n",
       "      <td>False</td>\n",
       "      <td>100.000000</td>\n",
       "      <td>2.0</td>\n",
       "      <td>2.0</td>\n",
       "      <td>0</td>\n",
       "      <td>0</td>\n",
       "      <td>0</td>\n",
       "      <td>1</td>\n",
       "      <td>0</td>\n",
       "      <td>5.857933</td>\n",
       "    </tr>\n",
       "    <tr>\n",
       "      <th>10059</th>\n",
       "      <td>2.0</td>\n",
       "      <td>1.5</td>\n",
       "      <td>True</td>\n",
       "      <td>94.067365</td>\n",
       "      <td>1.0</td>\n",
       "      <td>1.0</td>\n",
       "      <td>1</td>\n",
       "      <td>0</td>\n",
       "      <td>0</td>\n",
       "      <td>1</td>\n",
       "      <td>0</td>\n",
       "      <td>5.129899</td>\n",
       "    </tr>\n",
       "    <tr>\n",
       "      <th>38268</th>\n",
       "      <td>4.0</td>\n",
       "      <td>1.0</td>\n",
       "      <td>False</td>\n",
       "      <td>84.000000</td>\n",
       "      <td>1.0</td>\n",
       "      <td>2.0</td>\n",
       "      <td>0</td>\n",
       "      <td>0</td>\n",
       "      <td>0</td>\n",
       "      <td>1</td>\n",
       "      <td>1</td>\n",
       "      <td>4.564348</td>\n",
       "    </tr>\n",
       "  </tbody>\n",
       "</table>\n",
       "</div>"
      ],
      "text/plain": [
       "       accommodates  bathrooms  instant_bookable  review_scores_rating  \\\n",
       "50743           3.0        1.0             False             94.067365   \n",
       "12586           5.0        2.0             False             92.000000   \n",
       "4152            4.0        1.0             False            100.000000   \n",
       "10059           2.0        1.5              True             94.067365   \n",
       "38268           4.0        1.0             False             84.000000   \n",
       "\n",
       "       bedrooms  beds  room_type_Private room  room_type_Shared room  \\\n",
       "50743       2.0   2.0                       0                      0   \n",
       "12586       2.0   2.0                       0                      0   \n",
       "4152        2.0   2.0                       0                      0   \n",
       "10059       1.0   1.0                       1                      0   \n",
       "38268       1.0   2.0                       0                      0   \n",
       "\n",
       "       cancellation_policy_moderate  cancellation_policy_strict  \\\n",
       "50743                             0                           0   \n",
       "12586                             0                           1   \n",
       "4152                              0                           1   \n",
       "10059                             0                           1   \n",
       "38268                             0                           1   \n",
       "\n",
       "       cleaning_fee_True  log_price  \n",
       "50743                  1   5.010635  \n",
       "12586                  1   5.703782  \n",
       "4152                   0   5.857933  \n",
       "10059                  0   5.129899  \n",
       "38268                  1   4.564348  "
      ]
     },
     "execution_count": 44,
     "metadata": {},
     "output_type": "execute_result"
    }
   ],
   "source": [
    "# concatenate X and y into a single dataframe\n",
    "# Since statsmodels library requires that data be passed as\n",
    "# a single dataframe unlike sklearn which wants X and y as\n",
    "# separate variables\n",
    "data_train = pd.concat([X_train, y_train], axis=1)\n",
    "data_test=pd.concat([X_test,y_test],axis=1)\n",
    "data_train.head()"
   ]
  },
  {
   "cell_type": "code",
   "execution_count": 45,
   "metadata": {
    "ExecuteTime": {
     "end_time": "2021-05-08T14:23:47.454059Z",
     "start_time": "2021-05-08T14:23:47.442090Z"
    }
   },
   "outputs": [],
   "source": [
    "data_train.rename(columns = {\"room_type_Entire home/apt\": \"room_type_entire_home\", \n",
    "                             \"room_type_Private room\": \"room_type_private_room\", \n",
    "                     \"room_type_Shared room\": \"room_type_shared_room\"}, \n",
    "                      inplace = True) \n",
    "\n",
    "data_test.rename(columns = {\"room_type_Entire home/apt\": \"room_type_entire_home\", \n",
    "                            \"room_type_Private room\": \"room_type_private_room\", \n",
    "                     \"room_type_Shared room\": \"room_type_shared_room\"}, \n",
    "                      inplace = True) "
   ]
  },
  {
   "cell_type": "code",
   "execution_count": 46,
   "metadata": {
    "ExecuteTime": {
     "end_time": "2021-05-08T14:23:49.756202Z",
     "start_time": "2021-05-08T14:23:49.750222Z"
    }
   },
   "outputs": [
    {
     "data": {
      "text/plain": [
       "Index(['accommodates', 'bathrooms', 'instant_bookable', 'review_scores_rating',\n",
       "       'bedrooms', 'beds', 'room_type_private_room', 'room_type_shared_room',\n",
       "       'cancellation_policy_moderate', 'cancellation_policy_strict',\n",
       "       'cleaning_fee_True', 'log_price'],\n",
       "      dtype='object')"
      ]
     },
     "execution_count": 46,
     "metadata": {},
     "output_type": "execute_result"
    }
   ],
   "source": [
    "data_train.columns"
   ]
  },
  {
   "cell_type": "code",
   "execution_count": 47,
   "metadata": {
    "ExecuteTime": {
     "end_time": "2021-05-08T14:25:13.644471Z",
     "start_time": "2021-05-08T14:25:13.629512Z"
    }
   },
   "outputs": [],
   "source": [
    "# write the formula string (similar to Anova)\n",
    "expr= 'log_price ~ accommodates + bathrooms + instant_bookable+review_scores_rating +bedrooms + beds + room_type_private_room + room_type_shared_room  + cancellation_policy_moderate + cancellation_policy_strict + cleaning_fee_True'"
   ]
  },
  {
   "cell_type": "code",
   "execution_count": 48,
   "metadata": {
    "ExecuteTime": {
     "end_time": "2021-05-08T14:26:06.235076Z",
     "start_time": "2021-05-08T14:26:05.753849Z"
    }
   },
   "outputs": [
    {
     "data": {
      "text/plain": [
       "Intercept                       3.429264\n",
       "instant_bookable[T.True]       -0.065039\n",
       "accommodates                    0.095058\n",
       "bathrooms                       0.180804\n",
       "review_scores_rating            0.011702\n",
       "bedrooms                        0.158059\n",
       "beds                           -0.045079\n",
       "room_type_private_room         -0.611557\n",
       "room_type_shared_room          -1.081805\n",
       "cancellation_policy_moderate   -0.060015\n",
       "cancellation_policy_strict     -0.005823\n",
       "cleaning_fee_True              -0.081874\n",
       "dtype: float64"
      ]
     },
     "execution_count": 48,
     "metadata": {},
     "output_type": "execute_result"
    }
   ],
   "source": [
    "from statsmodels.formula.api import ols\n",
    "lm1 = ols(formula= expr, data = data_train).fit()\n",
    "lm1.params"
   ]
  },
  {
   "cell_type": "code",
   "execution_count": 49,
   "metadata": {
    "ExecuteTime": {
     "end_time": "2021-05-08T14:26:44.908644Z",
     "start_time": "2021-05-08T14:26:44.853790Z"
    }
   },
   "outputs": [
    {
     "data": {
      "text/html": [
       "<table class=\"simpletable\">\n",
       "<caption>OLS Regression Results</caption>\n",
       "<tr>\n",
       "  <th>Dep. Variable:</th>        <td>log_price</td>    <th>  R-squared:         </th> <td>   0.508</td> \n",
       "</tr>\n",
       "<tr>\n",
       "  <th>Model:</th>                   <td>OLS</td>       <th>  Adj. R-squared:    </th> <td>   0.508</td> \n",
       "</tr>\n",
       "<tr>\n",
       "  <th>Method:</th>             <td>Least Squares</td>  <th>  F-statistic:       </th> <td>   3813.</td> \n",
       "</tr>\n",
       "<tr>\n",
       "  <th>Date:</th>             <td>Sat, 08 May 2021</td> <th>  Prob (F-statistic):</th>  <td>  0.00</td>  \n",
       "</tr>\n",
       "<tr>\n",
       "  <th>Time:</th>                 <td>19:56:44</td>     <th>  Log-Likelihood:    </th> <td> -30728.</td> \n",
       "</tr>\n",
       "<tr>\n",
       "  <th>No. Observations:</th>      <td> 40584</td>      <th>  AIC:               </th> <td>6.148e+04</td>\n",
       "</tr>\n",
       "<tr>\n",
       "  <th>Df Residuals:</th>          <td> 40572</td>      <th>  BIC:               </th> <td>6.158e+04</td>\n",
       "</tr>\n",
       "<tr>\n",
       "  <th>Df Model:</th>              <td>    11</td>      <th>                     </th>     <td> </td>    \n",
       "</tr>\n",
       "<tr>\n",
       "  <th>Covariance Type:</th>      <td>nonrobust</td>    <th>                     </th>     <td> </td>    \n",
       "</tr>\n",
       "</table>\n",
       "<table class=\"simpletable\">\n",
       "<tr>\n",
       "                <td></td>                  <th>coef</th>     <th>std err</th>      <th>t</th>      <th>P>|t|</th>  <th>[0.025</th>    <th>0.975]</th>  \n",
       "</tr>\n",
       "<tr>\n",
       "  <th>Intercept</th>                    <td>    3.4293</td> <td>    0.050</td> <td>   67.981</td> <td> 0.000</td> <td>    3.330</td> <td>    3.528</td>\n",
       "</tr>\n",
       "<tr>\n",
       "  <th>instant_bookable[T.True]</th>     <td>   -0.0650</td> <td>    0.006</td> <td>  -11.560</td> <td> 0.000</td> <td>   -0.076</td> <td>   -0.054</td>\n",
       "</tr>\n",
       "<tr>\n",
       "  <th>accommodates</th>                 <td>    0.0951</td> <td>    0.003</td> <td>   33.288</td> <td> 0.000</td> <td>    0.089</td> <td>    0.101</td>\n",
       "</tr>\n",
       "<tr>\n",
       "  <th>bathrooms</th>                    <td>    0.1808</td> <td>    0.007</td> <td>   25.690</td> <td> 0.000</td> <td>    0.167</td> <td>    0.195</td>\n",
       "</tr>\n",
       "<tr>\n",
       "  <th>review_scores_rating</th>         <td>    0.0117</td> <td>    0.001</td> <td>   22.275</td> <td> 0.000</td> <td>    0.011</td> <td>    0.013</td>\n",
       "</tr>\n",
       "<tr>\n",
       "  <th>bedrooms</th>                     <td>    0.1581</td> <td>    0.005</td> <td>   32.798</td> <td> 0.000</td> <td>    0.149</td> <td>    0.168</td>\n",
       "</tr>\n",
       "<tr>\n",
       "  <th>beds</th>                         <td>   -0.0451</td> <td>    0.005</td> <td>   -8.599</td> <td> 0.000</td> <td>   -0.055</td> <td>   -0.035</td>\n",
       "</tr>\n",
       "<tr>\n",
       "  <th>room_type_private_room</th>       <td>   -0.6116</td> <td>    0.007</td> <td>  -93.327</td> <td> 0.000</td> <td>   -0.624</td> <td>   -0.599</td>\n",
       "</tr>\n",
       "<tr>\n",
       "  <th>room_type_shared_room</th>        <td>   -1.0818</td> <td>    0.015</td> <td>  -72.867</td> <td> 0.000</td> <td>   -1.111</td> <td>   -1.053</td>\n",
       "</tr>\n",
       "<tr>\n",
       "  <th>cancellation_policy_moderate</th> <td>   -0.0600</td> <td>    0.007</td> <td>   -8.318</td> <td> 0.000</td> <td>   -0.074</td> <td>   -0.046</td>\n",
       "</tr>\n",
       "<tr>\n",
       "  <th>cancellation_policy_strict</th>   <td>   -0.0058</td> <td>    0.007</td> <td>   -0.887</td> <td> 0.375</td> <td>   -0.019</td> <td>    0.007</td>\n",
       "</tr>\n",
       "<tr>\n",
       "  <th>cleaning_fee_True</th>            <td>   -0.0819</td> <td>    0.006</td> <td>  -12.945</td> <td> 0.000</td> <td>   -0.094</td> <td>   -0.069</td>\n",
       "</tr>\n",
       "</table>\n",
       "<table class=\"simpletable\">\n",
       "<tr>\n",
       "  <th>Omnibus:</th>       <td>2618.685</td> <th>  Durbin-Watson:     </th> <td>   2.023</td>\n",
       "</tr>\n",
       "<tr>\n",
       "  <th>Prob(Omnibus):</th>  <td> 0.000</td>  <th>  Jarque-Bera (JB):  </th> <td>4228.792</td>\n",
       "</tr>\n",
       "<tr>\n",
       "  <th>Skew:</th>           <td> 0.519</td>  <th>  Prob(JB):          </th> <td>    0.00</td>\n",
       "</tr>\n",
       "<tr>\n",
       "  <th>Kurtosis:</th>       <td> 4.192</td>  <th>  Cond. No.          </th> <td>1.86e+03</td>\n",
       "</tr>\n",
       "</table><br/><br/>Notes:<br/>[1] Standard Errors assume that the covariance matrix of the errors is correctly specified.<br/>[2] The condition number is large, 1.86e+03. This might indicate that there are<br/>strong multicollinearity or other numerical problems."
      ],
      "text/plain": [
       "<class 'statsmodels.iolib.summary.Summary'>\n",
       "\"\"\"\n",
       "                            OLS Regression Results                            \n",
       "==============================================================================\n",
       "Dep. Variable:              log_price   R-squared:                       0.508\n",
       "Model:                            OLS   Adj. R-squared:                  0.508\n",
       "Method:                 Least Squares   F-statistic:                     3813.\n",
       "Date:                Sat, 08 May 2021   Prob (F-statistic):               0.00\n",
       "Time:                        19:56:44   Log-Likelihood:                -30728.\n",
       "No. Observations:               40584   AIC:                         6.148e+04\n",
       "Df Residuals:                   40572   BIC:                         6.158e+04\n",
       "Df Model:                          11                                         \n",
       "Covariance Type:            nonrobust                                         \n",
       "================================================================================================\n",
       "                                   coef    std err          t      P>|t|      [0.025      0.975]\n",
       "------------------------------------------------------------------------------------------------\n",
       "Intercept                        3.4293      0.050     67.981      0.000       3.330       3.528\n",
       "instant_bookable[T.True]        -0.0650      0.006    -11.560      0.000      -0.076      -0.054\n",
       "accommodates                     0.0951      0.003     33.288      0.000       0.089       0.101\n",
       "bathrooms                        0.1808      0.007     25.690      0.000       0.167       0.195\n",
       "review_scores_rating             0.0117      0.001     22.275      0.000       0.011       0.013\n",
       "bedrooms                         0.1581      0.005     32.798      0.000       0.149       0.168\n",
       "beds                            -0.0451      0.005     -8.599      0.000      -0.055      -0.035\n",
       "room_type_private_room          -0.6116      0.007    -93.327      0.000      -0.624      -0.599\n",
       "room_type_shared_room           -1.0818      0.015    -72.867      0.000      -1.111      -1.053\n",
       "cancellation_policy_moderate    -0.0600      0.007     -8.318      0.000      -0.074      -0.046\n",
       "cancellation_policy_strict      -0.0058      0.007     -0.887      0.375      -0.019       0.007\n",
       "cleaning_fee_True               -0.0819      0.006    -12.945      0.000      -0.094      -0.069\n",
       "==============================================================================\n",
       "Omnibus:                     2618.685   Durbin-Watson:                   2.023\n",
       "Prob(Omnibus):                  0.000   Jarque-Bera (JB):             4228.792\n",
       "Skew:                           0.519   Prob(JB):                         0.00\n",
       "Kurtosis:                       4.192   Cond. No.                     1.86e+03\n",
       "==============================================================================\n",
       "\n",
       "Notes:\n",
       "[1] Standard Errors assume that the covariance matrix of the errors is correctly specified.\n",
       "[2] The condition number is large, 1.86e+03. This might indicate that there are\n",
       "strong multicollinearity or other numerical problems.\n",
       "\"\"\""
      ]
     },
     "execution_count": 49,
     "metadata": {},
     "output_type": "execute_result"
    }
   ],
   "source": [
    "lm1.summary()"
   ]
  },
  {
   "cell_type": "markdown",
   "metadata": {},
   "source": [
    "The overall P value is less than alpha, so rejecting H0 and accepting Ha that atleast 1 regression co-efficient is not 0. Here all regression co-efficients are not 0"
   ]
  },
  {
   "cell_type": "code",
   "execution_count": 50,
   "metadata": {
    "ExecuteTime": {
     "end_time": "2021-05-08T14:42:00.475532Z",
     "start_time": "2021-05-08T14:42:00.401730Z"
    }
   },
   "outputs": [
    {
     "data": {
      "text/plain": [
       "0.515925581156999"
      ]
     },
     "execution_count": 50,
     "metadata": {},
     "output_type": "execute_result"
    }
   ],
   "source": [
    "# Calculate MSE\n",
    "train_pred = lm1.predict(data_train.drop('log_price',axis=1))\n",
    "mean_squared_error(data_train['log_price'],train_pred,squared=False)\n",
    "\n",
    "#from statsmodels.tools.eval_measures import rmse\n",
    "# rmse(y_true, y_pred)"
   ]
  },
  {
   "cell_type": "code",
   "execution_count": 51,
   "metadata": {
    "ExecuteTime": {
     "end_time": "2021-05-08T14:42:30.738950Z",
     "start_time": "2021-05-08T14:42:30.720999Z"
    }
   },
   "outputs": [
    {
     "data": {
      "text/plain": [
       "0.5160018732951102"
      ]
     },
     "execution_count": 51,
     "metadata": {},
     "output_type": "execute_result"
    }
   ],
   "source": [
    "np.sqrt(lm1.mse_resid) #another way to calculate  rmse"
   ]
  },
  {
   "cell_type": "code",
   "execution_count": 52,
   "metadata": {
    "ExecuteTime": {
     "end_time": "2021-05-08T14:42:41.635154Z",
     "start_time": "2021-05-08T14:42:41.596258Z"
    }
   },
   "outputs": [],
   "source": [
    "# Prediction on Test data\n",
    "test_pred = lm1.predict(data_test)"
   ]
  },
  {
   "cell_type": "code",
   "execution_count": 53,
   "metadata": {
    "ExecuteTime": {
     "end_time": "2021-05-08T14:42:47.954339Z",
     "start_time": "2021-05-08T14:42:47.939382Z"
    }
   },
   "outputs": [
    {
     "data": {
      "text/plain": [
       "0.5197867614388497"
      ]
     },
     "execution_count": 53,
     "metadata": {},
     "output_type": "execute_result"
    }
   ],
   "source": [
    "mean_squared_error(data_test['log_price'], test_pred, squared=False)"
   ]
  },
  {
   "cell_type": "markdown",
   "metadata": {},
   "source": [
    " # Conclusion"
   ]
  },
  {
   "cell_type": "markdown",
   "metadata": {},
   "source": [
    "The final Linear Regression equation is  \n",
    "  \n",
    "<b>log_price = b0 + b1 * instant_bookable[T.True] + b2 * accommodates + b3 * bathrooms + b4 * review_scores_rating + b5 * bedrooms + b6 * beds + b7 * room_type_private_room + b8 * room_type_shared_room + b9 * cancellation_policy_moderate + b10 * cancellation_policy_strict + b11 * cleaning_fee_True </b>\n",
    "  \n",
    "<b>log_price = (3.43) * Intercept + (-0.07) * instant_bookable[T.True] + (0.1) * accommodates + (0.18) * bathrooms + (0.01) * review_scores_rating + (0.16) * bedrooms + (-0.05) * beds + (-0.61) * room_type_private_room + (-1.08) * room_type_shared_room + (-0.06) * cancellation_policy_moderate + (-0.01) * cancellation_policy_strict + (-0.08) * cleaning_fee_True</b>  \n",
    "  \n",
    "When accommodates increases by 1 unit, log_price increases by 0.1 units, keeping all other predictors constant.  \n",
    "similarly, when no. of bathrooms increases by 1 unit, log_price increases by 0.18 units, keeping all other predictors constant.\n",
    "  \n",
    "  \n",
    "There are also some negative co-efficient values, for instance, room_type_shared_room has its corresponding co-efficient as -1.08. This implies, when the room type is shared room, the log_price decreases by 1.08 units, keeping all other predictors constant.\n",
    "\n"
   ]
  },
  {
   "cell_type": "markdown",
   "metadata": {},
   "source": [
    "## Explanation About Log Price"
   ]
  },
  {
   "cell_type": "code",
   "execution_count": 55,
   "metadata": {
    "ExecuteTime": {
     "end_time": "2021-05-08T14:50:56.876957Z",
     "start_time": "2021-05-08T14:50:56.861001Z"
    }
   },
   "outputs": [],
   "source": [
    "lp =5.071 # log price (log to the base 10)"
   ]
  },
  {
   "cell_type": "code",
   "execution_count": 56,
   "metadata": {
    "ExecuteTime": {
     "end_time": "2021-05-08T14:51:00.929611Z",
     "start_time": "2021-05-08T14:51:00.920635Z"
    }
   },
   "outputs": [
    {
     "data": {
      "text/plain": [
       "117760.59735208066"
      ]
     },
     "execution_count": 56,
     "metadata": {},
     "output_type": "execute_result"
    }
   ],
   "source": [
    "10**lp # 10 raised to log value gives the \n",
    "# actual price which is 1,17,760"
   ]
  },
  {
   "cell_type": "code",
   "execution_count": 57,
   "metadata": {
    "ExecuteTime": {
     "end_time": "2021-05-08T14:51:46.831979Z",
     "start_time": "2021-05-08T14:51:46.808044Z"
    }
   },
   "outputs": [
    {
     "data": {
      "text/plain": [
       "22473    100297.099004\n",
       "9903      15523.407365\n",
       "26471     16150.658327\n",
       "14042     59115.316331\n",
       "13734    237618.075327\n",
       "             ...      \n",
       "44609     15316.663943\n",
       "59171    134787.538866\n",
       "64370     98323.913032\n",
       "67551    638716.927911\n",
       "6985     189747.801230\n",
       "Length: 13529, dtype: float64"
      ]
     },
     "execution_count": 57,
     "metadata": {},
     "output_type": "execute_result"
    }
   ],
   "source": [
    "10**test_pred"
   ]
  },
  {
   "cell_type": "code",
   "execution_count": 60,
   "metadata": {
    "ExecuteTime": {
     "end_time": "2021-05-08T14:54:13.637830Z",
     "start_time": "2021-05-08T14:54:13.621875Z"
    }
   },
   "outputs": [],
   "source": [
    "data_test['pred_price']= 10**test_pred"
   ]
  },
  {
   "cell_type": "code",
   "execution_count": 61,
   "metadata": {
    "ExecuteTime": {
     "end_time": "2021-05-08T14:54:14.550711Z",
     "start_time": "2021-05-08T14:54:14.522794Z"
    }
   },
   "outputs": [
    {
     "data": {
      "text/html": [
       "<div>\n",
       "<style scoped>\n",
       "    .dataframe tbody tr th:only-of-type {\n",
       "        vertical-align: middle;\n",
       "    }\n",
       "\n",
       "    .dataframe tbody tr th {\n",
       "        vertical-align: top;\n",
       "    }\n",
       "\n",
       "    .dataframe thead th {\n",
       "        text-align: right;\n",
       "    }\n",
       "</style>\n",
       "<table border=\"1\" class=\"dataframe\">\n",
       "  <thead>\n",
       "    <tr style=\"text-align: right;\">\n",
       "      <th></th>\n",
       "      <th>accommodates</th>\n",
       "      <th>bathrooms</th>\n",
       "      <th>instant_bookable</th>\n",
       "      <th>review_scores_rating</th>\n",
       "      <th>bedrooms</th>\n",
       "      <th>beds</th>\n",
       "      <th>room_type_private_room</th>\n",
       "      <th>room_type_shared_room</th>\n",
       "      <th>cancellation_policy_moderate</th>\n",
       "      <th>cancellation_policy_strict</th>\n",
       "      <th>cleaning_fee_True</th>\n",
       "      <th>log_price</th>\n",
       "      <th>pred_price</th>\n",
       "    </tr>\n",
       "  </thead>\n",
       "  <tbody>\n",
       "    <tr>\n",
       "      <th>22473</th>\n",
       "      <td>4.0</td>\n",
       "      <td>1.0</td>\n",
       "      <td>True</td>\n",
       "      <td>97.0</td>\n",
       "      <td>1.0</td>\n",
       "      <td>3.0</td>\n",
       "      <td>0</td>\n",
       "      <td>0</td>\n",
       "      <td>0</td>\n",
       "      <td>0</td>\n",
       "      <td>1</td>\n",
       "      <td>4.317488</td>\n",
       "      <td>100297.099004</td>\n",
       "    </tr>\n",
       "    <tr>\n",
       "      <th>9903</th>\n",
       "      <td>2.0</td>\n",
       "      <td>1.0</td>\n",
       "      <td>False</td>\n",
       "      <td>83.0</td>\n",
       "      <td>1.0</td>\n",
       "      <td>1.0</td>\n",
       "      <td>1</td>\n",
       "      <td>0</td>\n",
       "      <td>0</td>\n",
       "      <td>0</td>\n",
       "      <td>1</td>\n",
       "      <td>4.382027</td>\n",
       "      <td>15523.407365</td>\n",
       "    </tr>\n",
       "    <tr>\n",
       "      <th>26471</th>\n",
       "      <td>1.0</td>\n",
       "      <td>1.5</td>\n",
       "      <td>False</td>\n",
       "      <td>83.0</td>\n",
       "      <td>1.0</td>\n",
       "      <td>1.0</td>\n",
       "      <td>1</td>\n",
       "      <td>0</td>\n",
       "      <td>1</td>\n",
       "      <td>0</td>\n",
       "      <td>0</td>\n",
       "      <td>3.555348</td>\n",
       "      <td>16150.658327</td>\n",
       "    </tr>\n",
       "    <tr>\n",
       "      <th>14042</th>\n",
       "      <td>2.0</td>\n",
       "      <td>1.0</td>\n",
       "      <td>False</td>\n",
       "      <td>99.0</td>\n",
       "      <td>0.0</td>\n",
       "      <td>1.0</td>\n",
       "      <td>0</td>\n",
       "      <td>0</td>\n",
       "      <td>1</td>\n",
       "      <td>0</td>\n",
       "      <td>1</td>\n",
       "      <td>4.543295</td>\n",
       "      <td>59115.316331</td>\n",
       "    </tr>\n",
       "    <tr>\n",
       "      <th>13734</th>\n",
       "      <td>7.0</td>\n",
       "      <td>1.0</td>\n",
       "      <td>False</td>\n",
       "      <td>88.0</td>\n",
       "      <td>2.0</td>\n",
       "      <td>3.5</td>\n",
       "      <td>0</td>\n",
       "      <td>0</td>\n",
       "      <td>0</td>\n",
       "      <td>1</td>\n",
       "      <td>1</td>\n",
       "      <td>5.991465</td>\n",
       "      <td>237618.075327</td>\n",
       "    </tr>\n",
       "  </tbody>\n",
       "</table>\n",
       "</div>"
      ],
      "text/plain": [
       "       accommodates  bathrooms  instant_bookable  review_scores_rating  \\\n",
       "22473           4.0        1.0              True                  97.0   \n",
       "9903            2.0        1.0             False                  83.0   \n",
       "26471           1.0        1.5             False                  83.0   \n",
       "14042           2.0        1.0             False                  99.0   \n",
       "13734           7.0        1.0             False                  88.0   \n",
       "\n",
       "       bedrooms  beds  room_type_private_room  room_type_shared_room  \\\n",
       "22473       1.0   3.0                       0                      0   \n",
       "9903        1.0   1.0                       1                      0   \n",
       "26471       1.0   1.0                       1                      0   \n",
       "14042       0.0   1.0                       0                      0   \n",
       "13734       2.0   3.5                       0                      0   \n",
       "\n",
       "       cancellation_policy_moderate  cancellation_policy_strict  \\\n",
       "22473                             0                           0   \n",
       "9903                              0                           0   \n",
       "26471                             1                           0   \n",
       "14042                             1                           0   \n",
       "13734                             0                           1   \n",
       "\n",
       "       cleaning_fee_True  log_price     pred_price  \n",
       "22473                  1   4.317488  100297.099004  \n",
       "9903                   1   4.382027   15523.407365  \n",
       "26471                  0   3.555348   16150.658327  \n",
       "14042                  1   4.543295   59115.316331  \n",
       "13734                  1   5.991465  237618.075327  "
      ]
     },
     "execution_count": 61,
     "metadata": {},
     "output_type": "execute_result"
    }
   ],
   "source": [
    "data_test.head()"
   ]
  },
  {
   "cell_type": "code",
   "execution_count": 62,
   "metadata": {
    "ExecuteTime": {
     "end_time": "2021-05-08T14:55:24.513333Z",
     "start_time": "2021-05-08T14:55:19.730213Z"
    }
   },
   "outputs": [],
   "source": [
    "data_test.to_excel('predictions.xlsx', index=False)"
   ]
  },
  {
   "cell_type": "code",
   "execution_count": null,
   "metadata": {},
   "outputs": [],
   "source": []
  }
 ],
 "metadata": {
  "kernelspec": {
   "display_name": "Python 3",
   "language": "python",
   "name": "python3"
  },
  "language_info": {
   "codemirror_mode": {
    "name": "ipython",
    "version": 3
   },
   "file_extension": ".py",
   "mimetype": "text/x-python",
   "name": "python",
   "nbconvert_exporter": "python",
   "pygments_lexer": "ipython3",
   "version": "3.8.5"
  },
  "latex_envs": {
   "LaTeX_envs_menu_present": true,
   "autoclose": false,
   "autocomplete": true,
   "bibliofile": "biblio.bib",
   "cite_by": "apalike",
   "current_citInitial": 1,
   "eqLabelWithNumbers": true,
   "eqNumInitial": 1,
   "hotkeys": {
    "equation": "Ctrl-E",
    "itemize": "Ctrl-I"
   },
   "labels_anchors": false,
   "latex_user_defs": false,
   "report_style_numbering": false,
   "user_envs_cfg": false
  },
  "toc": {
   "base_numbering": 1,
   "nav_menu": {},
   "number_sections": true,
   "sideBar": true,
   "skip_h1_title": false,
   "title_cell": "Table of Contents",
   "title_sidebar": "Contents",
   "toc_cell": false,
   "toc_position": {
    "height": "calc(100% - 180px)",
    "left": "10px",
    "top": "150px",
    "width": "367.825px"
   },
   "toc_section_display": true,
   "toc_window_display": false
  },
  "varInspector": {
   "cols": {
    "lenName": 16,
    "lenType": 16,
    "lenVar": 40
   },
   "kernels_config": {
    "python": {
     "delete_cmd_postfix": "",
     "delete_cmd_prefix": "del ",
     "library": "var_list.py",
     "varRefreshCmd": "print(var_dic_list())"
    },
    "r": {
     "delete_cmd_postfix": ") ",
     "delete_cmd_prefix": "rm(",
     "library": "var_list.r",
     "varRefreshCmd": "cat(var_dic_list()) "
    }
   },
   "types_to_exclude": [
    "module",
    "function",
    "builtin_function_or_method",
    "instance",
    "_Feature"
   ],
   "window_display": false
  }
 },
 "nbformat": 4,
 "nbformat_minor": 4
}
