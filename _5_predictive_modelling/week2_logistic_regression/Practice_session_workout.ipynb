{
 "cells": [
  {
   "cell_type": "code",
   "execution_count": 2,
   "metadata": {
    "ExecuteTime": {
     "end_time": "2021-05-16T13:19:45.868716Z",
     "start_time": "2021-05-16T13:19:45.860718Z"
    }
   },
   "outputs": [],
   "source": [
    "import pandas as pd\n",
    "from sklearn.linear_model import LogisticRegression\n",
    "# importing ploting libraries\n",
    "import matplotlib.pyplot as plt   \n",
    "#importing seaborn for statistical plots\n",
    "import seaborn as sns\n",
    "#Let us break the X and y dataframes into training set and test set. For this we will use\n",
    "#Sklearn package's data splitting function which is based on random function\n",
    "from sklearn.model_selection import train_test_split\n",
    "import numpy as np\n",
    "# calculate accuracy measures and confusion matrix\n",
    "from sklearn import metrics\n",
    "from sklearn.model_selection import train_test_split,GridSearchCV\n",
    "from sklearn.linear_model import LogisticRegression\n",
    "from sklearn.metrics import roc_auc_score,roc_curve,classification_report,confusion_matrix,plot_confusion_matrix"
   ]
  },
  {
   "cell_type": "code",
   "execution_count": 3,
   "metadata": {
    "ExecuteTime": {
     "end_time": "2021-05-16T13:20:15.175931Z",
     "start_time": "2021-05-16T13:20:15.124943Z"
    }
   },
   "outputs": [],
   "source": [
    "df = pd.read_csv('colon.csv').drop('Unnamed: 0', axis=1)"
   ]
  },
  {
   "cell_type": "code",
   "execution_count": 4,
   "metadata": {
    "ExecuteTime": {
     "end_time": "2021-05-16T13:20:18.664417Z",
     "start_time": "2021-05-16T13:20:18.644428Z"
    }
   },
   "outputs": [
    {
     "data": {
      "text/plain": [
       "(1858, 15)"
      ]
     },
     "execution_count": 4,
     "metadata": {},
     "output_type": "execute_result"
    }
   ],
   "source": [
    "df.shape"
   ]
  },
  {
   "cell_type": "code",
   "execution_count": 5,
   "metadata": {
    "ExecuteTime": {
     "end_time": "2021-05-16T13:20:23.646407Z",
     "start_time": "2021-05-16T13:20:23.619423Z"
    }
   },
   "outputs": [
    {
     "data": {
      "text/plain": [
       "id           0\n",
       "study        0\n",
       "sex          0\n",
       "age          0\n",
       "obstruct     0\n",
       "perfor       0\n",
       "adhere       0\n",
       "nodes       36\n",
       "status       0\n",
       "differ      46\n",
       "extent       0\n",
       "surg         0\n",
       "node4        0\n",
       "time         0\n",
       "etype        0\n",
       "dtype: int64"
      ]
     },
     "execution_count": 5,
     "metadata": {},
     "output_type": "execute_result"
    }
   ],
   "source": [
    "df.isnull().sum()"
   ]
  },
  {
   "cell_type": "code",
   "execution_count": 6,
   "metadata": {
    "ExecuteTime": {
     "end_time": "2021-05-16T13:20:34.408784Z",
     "start_time": "2021-05-16T13:20:34.316838Z"
    }
   },
   "outputs": [],
   "source": [
    "df = df.dropna()"
   ]
  },
  {
   "cell_type": "code",
   "execution_count": 7,
   "metadata": {
    "ExecuteTime": {
     "end_time": "2021-05-16T13:20:38.823414Z",
     "start_time": "2021-05-16T13:20:38.732461Z"
    }
   },
   "outputs": [
    {
     "data": {
      "text/html": [
       "<div>\n",
       "<style scoped>\n",
       "    .dataframe tbody tr th:only-of-type {\n",
       "        vertical-align: middle;\n",
       "    }\n",
       "\n",
       "    .dataframe tbody tr th {\n",
       "        vertical-align: top;\n",
       "    }\n",
       "\n",
       "    .dataframe thead th {\n",
       "        text-align: right;\n",
       "    }\n",
       "</style>\n",
       "<table border=\"1\" class=\"dataframe\">\n",
       "  <thead>\n",
       "    <tr style=\"text-align: right;\">\n",
       "      <th></th>\n",
       "      <th>count</th>\n",
       "      <th>mean</th>\n",
       "      <th>std</th>\n",
       "      <th>min</th>\n",
       "      <th>25%</th>\n",
       "      <th>50%</th>\n",
       "      <th>75%</th>\n",
       "      <th>max</th>\n",
       "    </tr>\n",
       "  </thead>\n",
       "  <tbody>\n",
       "    <tr>\n",
       "      <th>id</th>\n",
       "      <td>1776.0</td>\n",
       "      <td>466.506757</td>\n",
       "      <td>269.321338</td>\n",
       "      <td>1.0</td>\n",
       "      <td>234.75</td>\n",
       "      <td>466.5</td>\n",
       "      <td>700.25</td>\n",
       "      <td>929.0</td>\n",
       "    </tr>\n",
       "    <tr>\n",
       "      <th>study</th>\n",
       "      <td>1776.0</td>\n",
       "      <td>1.000000</td>\n",
       "      <td>0.000000</td>\n",
       "      <td>1.0</td>\n",
       "      <td>1.00</td>\n",
       "      <td>1.0</td>\n",
       "      <td>1.00</td>\n",
       "      <td>1.0</td>\n",
       "    </tr>\n",
       "    <tr>\n",
       "      <th>sex</th>\n",
       "      <td>1776.0</td>\n",
       "      <td>0.518018</td>\n",
       "      <td>0.499816</td>\n",
       "      <td>0.0</td>\n",
       "      <td>0.00</td>\n",
       "      <td>1.0</td>\n",
       "      <td>1.00</td>\n",
       "      <td>1.0</td>\n",
       "    </tr>\n",
       "    <tr>\n",
       "      <th>age</th>\n",
       "      <td>1776.0</td>\n",
       "      <td>59.810811</td>\n",
       "      <td>11.911137</td>\n",
       "      <td>18.0</td>\n",
       "      <td>53.00</td>\n",
       "      <td>61.0</td>\n",
       "      <td>69.00</td>\n",
       "      <td>85.0</td>\n",
       "    </tr>\n",
       "    <tr>\n",
       "      <th>obstruct</th>\n",
       "      <td>1776.0</td>\n",
       "      <td>0.192568</td>\n",
       "      <td>0.394427</td>\n",
       "      <td>0.0</td>\n",
       "      <td>0.00</td>\n",
       "      <td>0.0</td>\n",
       "      <td>0.00</td>\n",
       "      <td>1.0</td>\n",
       "    </tr>\n",
       "    <tr>\n",
       "      <th>perfor</th>\n",
       "      <td>1776.0</td>\n",
       "      <td>0.030405</td>\n",
       "      <td>0.171748</td>\n",
       "      <td>0.0</td>\n",
       "      <td>0.00</td>\n",
       "      <td>0.0</td>\n",
       "      <td>0.00</td>\n",
       "      <td>1.0</td>\n",
       "    </tr>\n",
       "    <tr>\n",
       "      <th>adhere</th>\n",
       "      <td>1776.0</td>\n",
       "      <td>0.144144</td>\n",
       "      <td>0.351335</td>\n",
       "      <td>0.0</td>\n",
       "      <td>0.00</td>\n",
       "      <td>0.0</td>\n",
       "      <td>0.00</td>\n",
       "      <td>1.0</td>\n",
       "    </tr>\n",
       "    <tr>\n",
       "      <th>nodes</th>\n",
       "      <td>1776.0</td>\n",
       "      <td>3.663288</td>\n",
       "      <td>3.539129</td>\n",
       "      <td>0.0</td>\n",
       "      <td>1.00</td>\n",
       "      <td>2.0</td>\n",
       "      <td>5.00</td>\n",
       "      <td>33.0</td>\n",
       "    </tr>\n",
       "    <tr>\n",
       "      <th>status</th>\n",
       "      <td>1776.0</td>\n",
       "      <td>0.493243</td>\n",
       "      <td>0.500095</td>\n",
       "      <td>0.0</td>\n",
       "      <td>0.00</td>\n",
       "      <td>0.0</td>\n",
       "      <td>1.00</td>\n",
       "      <td>1.0</td>\n",
       "    </tr>\n",
       "    <tr>\n",
       "      <th>differ</th>\n",
       "      <td>1776.0</td>\n",
       "      <td>2.061937</td>\n",
       "      <td>0.510833</td>\n",
       "      <td>1.0</td>\n",
       "      <td>2.00</td>\n",
       "      <td>2.0</td>\n",
       "      <td>2.00</td>\n",
       "      <td>3.0</td>\n",
       "    </tr>\n",
       "    <tr>\n",
       "      <th>extent</th>\n",
       "      <td>1776.0</td>\n",
       "      <td>2.884009</td>\n",
       "      <td>0.478322</td>\n",
       "      <td>1.0</td>\n",
       "      <td>3.00</td>\n",
       "      <td>3.0</td>\n",
       "      <td>3.00</td>\n",
       "      <td>4.0</td>\n",
       "    </tr>\n",
       "    <tr>\n",
       "      <th>surg</th>\n",
       "      <td>1776.0</td>\n",
       "      <td>0.268018</td>\n",
       "      <td>0.443052</td>\n",
       "      <td>0.0</td>\n",
       "      <td>0.00</td>\n",
       "      <td>0.0</td>\n",
       "      <td>1.00</td>\n",
       "      <td>1.0</td>\n",
       "    </tr>\n",
       "    <tr>\n",
       "      <th>node4</th>\n",
       "      <td>1776.0</td>\n",
       "      <td>0.264640</td>\n",
       "      <td>0.441265</td>\n",
       "      <td>0.0</td>\n",
       "      <td>0.00</td>\n",
       "      <td>0.0</td>\n",
       "      <td>1.00</td>\n",
       "      <td>1.0</td>\n",
       "    </tr>\n",
       "    <tr>\n",
       "      <th>time</th>\n",
       "      <td>1776.0</td>\n",
       "      <td>1542.555180</td>\n",
       "      <td>946.741234</td>\n",
       "      <td>8.0</td>\n",
       "      <td>573.00</td>\n",
       "      <td>1856.0</td>\n",
       "      <td>2331.00</td>\n",
       "      <td>3329.0</td>\n",
       "    </tr>\n",
       "    <tr>\n",
       "      <th>etype</th>\n",
       "      <td>1776.0</td>\n",
       "      <td>1.500000</td>\n",
       "      <td>0.500141</td>\n",
       "      <td>1.0</td>\n",
       "      <td>1.00</td>\n",
       "      <td>1.5</td>\n",
       "      <td>2.00</td>\n",
       "      <td>2.0</td>\n",
       "    </tr>\n",
       "  </tbody>\n",
       "</table>\n",
       "</div>"
      ],
      "text/plain": [
       "           count         mean         std   min     25%     50%      75%  \\\n",
       "id        1776.0   466.506757  269.321338   1.0  234.75   466.5   700.25   \n",
       "study     1776.0     1.000000    0.000000   1.0    1.00     1.0     1.00   \n",
       "sex       1776.0     0.518018    0.499816   0.0    0.00     1.0     1.00   \n",
       "age       1776.0    59.810811   11.911137  18.0   53.00    61.0    69.00   \n",
       "obstruct  1776.0     0.192568    0.394427   0.0    0.00     0.0     0.00   \n",
       "perfor    1776.0     0.030405    0.171748   0.0    0.00     0.0     0.00   \n",
       "adhere    1776.0     0.144144    0.351335   0.0    0.00     0.0     0.00   \n",
       "nodes     1776.0     3.663288    3.539129   0.0    1.00     2.0     5.00   \n",
       "status    1776.0     0.493243    0.500095   0.0    0.00     0.0     1.00   \n",
       "differ    1776.0     2.061937    0.510833   1.0    2.00     2.0     2.00   \n",
       "extent    1776.0     2.884009    0.478322   1.0    3.00     3.0     3.00   \n",
       "surg      1776.0     0.268018    0.443052   0.0    0.00     0.0     1.00   \n",
       "node4     1776.0     0.264640    0.441265   0.0    0.00     0.0     1.00   \n",
       "time      1776.0  1542.555180  946.741234   8.0  573.00  1856.0  2331.00   \n",
       "etype     1776.0     1.500000    0.500141   1.0    1.00     1.5     2.00   \n",
       "\n",
       "             max  \n",
       "id         929.0  \n",
       "study        1.0  \n",
       "sex          1.0  \n",
       "age         85.0  \n",
       "obstruct     1.0  \n",
       "perfor       1.0  \n",
       "adhere       1.0  \n",
       "nodes       33.0  \n",
       "status       1.0  \n",
       "differ       3.0  \n",
       "extent       4.0  \n",
       "surg         1.0  \n",
       "node4        1.0  \n",
       "time      3329.0  \n",
       "etype        2.0  "
      ]
     },
     "execution_count": 7,
     "metadata": {},
     "output_type": "execute_result"
    }
   ],
   "source": [
    "df.describe().T"
   ]
  },
  {
   "cell_type": "code",
   "execution_count": 9,
   "metadata": {
    "ExecuteTime": {
     "end_time": "2021-05-16T13:21:43.596293Z",
     "start_time": "2021-05-16T13:21:43.580307Z"
    }
   },
   "outputs": [
    {
     "data": {
      "text/plain": [
       "2    888\n",
       "1    888\n",
       "Name: etype, dtype: int64"
      ]
     },
     "execution_count": 9,
     "metadata": {},
     "output_type": "execute_result"
    }
   ],
   "source": [
    "df.etype.value_counts()"
   ]
  },
  {
   "cell_type": "code",
   "execution_count": 10,
   "metadata": {
    "ExecuteTime": {
     "end_time": "2021-05-16T13:21:51.800067Z",
     "start_time": "2021-05-16T13:21:51.500471Z"
    }
   },
   "outputs": [
    {
     "name": "stderr",
     "output_type": "stream",
     "text": [
      "C:\\ProgramData\\Anaconda3\\lib\\site-packages\\seaborn\\_decorators.py:36: FutureWarning: Pass the following variable as a keyword arg: x. From version 0.12, the only valid positional argument will be `data`, and passing other arguments without an explicit keyword will result in an error or misinterpretation.\n",
      "  warnings.warn(\n"
     ]
    },
    {
     "data": {
      "text/plain": [
       "<AxesSubplot:xlabel='etype', ylabel='count'>"
      ]
     },
     "execution_count": 10,
     "metadata": {},
     "output_type": "execute_result"
    },
    {
     "data": {
      "image/png": "[encoded data removed]",
      "text/plain": [
       "<Figure size 432x288 with 1 Axes>"
      ]
     },
     "metadata": {
      "needs_background": "light"
     },
     "output_type": "display_data"
    }
   ],
   "source": [
    "sns.countplot(df.etype)"
   ]
  },
  {
   "cell_type": "code",
   "execution_count": 12,
   "metadata": {
    "ExecuteTime": {
     "end_time": "2021-05-16T13:24:08.193365Z",
     "start_time": "2021-05-16T13:24:08.172377Z"
    }
   },
   "outputs": [],
   "source": [
    "x = df.drop('etype', axis=1)\n",
    "y=df.etype\n",
    "test_size=0.30\n",
    "seed=7\n",
    "x_train,x_test,y_train, y_test = train_test_split(x,y,test_size=test_size, random_state=seed)"
   ]
  },
  {
   "cell_type": "code",
   "execution_count": 13,
   "metadata": {
    "ExecuteTime": {
     "end_time": "2021-05-16T13:25:01.892002Z",
     "start_time": "2021-05-16T13:25:01.573782Z"
    }
   },
   "outputs": [],
   "source": [
    "model = LogisticRegression(max_iter=1000)\n",
    "model.fit(x_train, y_train)\n",
    "y_predict = model.predict(x_test)"
   ]
  },
  {
   "cell_type": "code",
   "execution_count": 14,
   "metadata": {
    "ExecuteTime": {
     "end_time": "2021-05-16T13:25:51.084409Z",
     "start_time": "2021-05-16T13:25:51.069408Z"
    }
   },
   "outputs": [
    {
     "data": {
      "text/plain": [
       "0.5684803001876173"
      ]
     },
     "execution_count": 14,
     "metadata": {},
     "output_type": "execute_result"
    }
   ],
   "source": [
    "model_score = model.score(x_test,y_test)\n",
    "model_score"
   ]
  },
  {
   "cell_type": "code",
   "execution_count": 15,
   "metadata": {
    "ExecuteTime": {
     "end_time": "2021-05-16T13:26:17.001903Z",
     "start_time": "2021-05-16T13:26:16.979917Z"
    }
   },
   "outputs": [
    {
     "data": {
      "text/plain": [
       "array([[145, 113],\n",
       "       [117, 158]], dtype=int64)"
      ]
     },
     "execution_count": 15,
     "metadata": {},
     "output_type": "execute_result"
    }
   ],
   "source": [
    "metrics.confusion_matrix(y_test, y_predict)"
   ]
  },
  {
   "cell_type": "code",
   "execution_count": 17,
   "metadata": {
    "ExecuteTime": {
     "end_time": "2021-05-16T13:26:43.172633Z",
     "start_time": "2021-05-16T13:26:43.157639Z"
    }
   },
   "outputs": [
    {
     "name": "stdout",
     "output_type": "stream",
     "text": [
      "              precision    recall  f1-score   support\n",
      "\n",
      "           1       0.55      0.56      0.56       258\n",
      "           2       0.58      0.57      0.58       275\n",
      "\n",
      "    accuracy                           0.57       533\n",
      "   macro avg       0.57      0.57      0.57       533\n",
      "weighted avg       0.57      0.57      0.57       533\n",
      "\n"
     ]
    }
   ],
   "source": [
    "print(metrics.classification_report(y_test, y_predict))"
   ]
  },
  {
   "cell_type": "code",
   "execution_count": null,
   "metadata": {},
   "outputs": [],
   "source": []
  }
 ],
 "metadata": {
  "kernelspec": {
   "display_name": "Python 3",
   "language": "python",
   "name": "python3"
  },
  "language_info": {
   "codemirror_mode": {
    "name": "ipython",
    "version": 3
   },
   "file_extension": ".py",
   "mimetype": "text/x-python",
   "name": "python",
   "nbconvert_exporter": "python",
   "pygments_lexer": "ipython3",
   "version": "3.8.5"
  },
  "toc": {
   "base_numbering": 1,
   "nav_menu": {},
   "number_sections": true,
   "sideBar": true,
   "skip_h1_title": false,
   "title_cell": "Table of Contents",
   "title_sidebar": "Contents",
   "toc_cell": false,
   "toc_position": {},
   "toc_section_display": true,
   "toc_window_display": false
  }
 },
 "nbformat": 4,
 "nbformat_minor": 4
}
