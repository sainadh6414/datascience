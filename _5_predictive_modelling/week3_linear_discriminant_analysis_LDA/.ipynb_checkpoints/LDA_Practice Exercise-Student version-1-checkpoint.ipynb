{
 "cells": [
  {
   "cell_type": "markdown",
   "metadata": {},
   "source": [
    "# Import the necessary libraries."
   ]
  },
  {
   "cell_type": "code",
   "execution_count": null,
   "metadata": {},
   "outputs": [],
   "source": []
  },
  {
   "cell_type": "markdown",
   "metadata": {},
   "source": [
    "# Load the dataset and check the first 10 rows of the dataset."
   ]
  },
  {
   "cell_type": "code",
   "execution_count": 3,
   "metadata": {},
   "outputs": [
    {
     "data": {
      "text/html": [
       "<div>\n",
       "<style scoped>\n",
       "    .dataframe tbody tr th:only-of-type {\n",
       "        vertical-align: middle;\n",
       "    }\n",
       "\n",
       "    .dataframe tbody tr th {\n",
       "        vertical-align: top;\n",
       "    }\n",
       "\n",
       "    .dataframe thead th {\n",
       "        text-align: right;\n",
       "    }\n",
       "</style>\n",
       "<table border=\"1\" class=\"dataframe\">\n",
       "  <thead>\n",
       "    <tr style=\"text-align: right;\">\n",
       "      <th></th>\n",
       "      <th>Cust_ID</th>\n",
       "      <th>Target</th>\n",
       "      <th>Age</th>\n",
       "      <th>Gender</th>\n",
       "      <th>Balance</th>\n",
       "      <th>Occupation</th>\n",
       "      <th>No_OF_CR_TXNS</th>\n",
       "      <th>SCR</th>\n",
       "      <th>Holding_Period</th>\n",
       "    </tr>\n",
       "  </thead>\n",
       "  <tbody>\n",
       "    <tr>\n",
       "      <td>0</td>\n",
       "      <td>C1</td>\n",
       "      <td>0</td>\n",
       "      <td>30</td>\n",
       "      <td>M</td>\n",
       "      <td>160378.60</td>\n",
       "      <td>SAL</td>\n",
       "      <td>2</td>\n",
       "      <td>826</td>\n",
       "      <td>9</td>\n",
       "    </tr>\n",
       "    <tr>\n",
       "      <td>1</td>\n",
       "      <td>C10</td>\n",
       "      <td>1</td>\n",
       "      <td>41</td>\n",
       "      <td>M</td>\n",
       "      <td>84370.59</td>\n",
       "      <td>SELF-EMP</td>\n",
       "      <td>14</td>\n",
       "      <td>843</td>\n",
       "      <td>9</td>\n",
       "    </tr>\n",
       "    <tr>\n",
       "      <td>2</td>\n",
       "      <td>C100</td>\n",
       "      <td>0</td>\n",
       "      <td>49</td>\n",
       "      <td>F</td>\n",
       "      <td>60849.26</td>\n",
       "      <td>PROF</td>\n",
       "      <td>49</td>\n",
       "      <td>328</td>\n",
       "      <td>26</td>\n",
       "    </tr>\n",
       "    <tr>\n",
       "      <td>3</td>\n",
       "      <td>C1000</td>\n",
       "      <td>0</td>\n",
       "      <td>49</td>\n",
       "      <td>M</td>\n",
       "      <td>10558.81</td>\n",
       "      <td>SAL</td>\n",
       "      <td>23</td>\n",
       "      <td>619</td>\n",
       "      <td>19</td>\n",
       "    </tr>\n",
       "    <tr>\n",
       "      <td>4</td>\n",
       "      <td>C10000</td>\n",
       "      <td>0</td>\n",
       "      <td>43</td>\n",
       "      <td>M</td>\n",
       "      <td>97100.48</td>\n",
       "      <td>SENP</td>\n",
       "      <td>3</td>\n",
       "      <td>397</td>\n",
       "      <td>8</td>\n",
       "    </tr>\n",
       "    <tr>\n",
       "      <td>5</td>\n",
       "      <td>C10001</td>\n",
       "      <td>0</td>\n",
       "      <td>30</td>\n",
       "      <td>M</td>\n",
       "      <td>160378.60</td>\n",
       "      <td>SAL</td>\n",
       "      <td>2</td>\n",
       "      <td>781</td>\n",
       "      <td>11</td>\n",
       "    </tr>\n",
       "    <tr>\n",
       "      <td>6</td>\n",
       "      <td>C10002</td>\n",
       "      <td>0</td>\n",
       "      <td>43</td>\n",
       "      <td>M</td>\n",
       "      <td>26275.55</td>\n",
       "      <td>PROF</td>\n",
       "      <td>23</td>\n",
       "      <td>354</td>\n",
       "      <td>12</td>\n",
       "    </tr>\n",
       "    <tr>\n",
       "      <td>7</td>\n",
       "      <td>C10003</td>\n",
       "      <td>0</td>\n",
       "      <td>53</td>\n",
       "      <td>M</td>\n",
       "      <td>33616.47</td>\n",
       "      <td>SAL</td>\n",
       "      <td>45</td>\n",
       "      <td>239</td>\n",
       "      <td>5</td>\n",
       "    </tr>\n",
       "    <tr>\n",
       "      <td>8</td>\n",
       "      <td>C10004</td>\n",
       "      <td>0</td>\n",
       "      <td>45</td>\n",
       "      <td>M</td>\n",
       "      <td>1881.37</td>\n",
       "      <td>PROF</td>\n",
       "      <td>3</td>\n",
       "      <td>339</td>\n",
       "      <td>13</td>\n",
       "    </tr>\n",
       "    <tr>\n",
       "      <td>9</td>\n",
       "      <td>C10005</td>\n",
       "      <td>0</td>\n",
       "      <td>37</td>\n",
       "      <td>M</td>\n",
       "      <td>3274.37</td>\n",
       "      <td>PROF</td>\n",
       "      <td>33</td>\n",
       "      <td>535</td>\n",
       "      <td>9</td>\n",
       "    </tr>\n",
       "  </tbody>\n",
       "</table>\n",
       "</div>"
      ],
      "text/plain": [
       "  Cust_ID  Target  Age Gender    Balance Occupation  No_OF_CR_TXNS  SCR  \\\n",
       "0      C1       0   30      M  160378.60        SAL              2  826   \n",
       "1     C10       1   41      M   84370.59   SELF-EMP             14  843   \n",
       "2    C100       0   49      F   60849.26       PROF             49  328   \n",
       "3   C1000       0   49      M   10558.81        SAL             23  619   \n",
       "4  C10000       0   43      M   97100.48       SENP              3  397   \n",
       "5  C10001       0   30      M  160378.60        SAL              2  781   \n",
       "6  C10002       0   43      M   26275.55       PROF             23  354   \n",
       "7  C10003       0   53      M   33616.47        SAL             45  239   \n",
       "8  C10004       0   45      M    1881.37       PROF              3  339   \n",
       "9  C10005       0   37      M    3274.37       PROF             33  535   \n",
       "\n",
       "   Holding_Period  \n",
       "0               9  \n",
       "1               9  \n",
       "2              26  \n",
       "3              19  \n",
       "4               8  \n",
       "5              11  \n",
       "6              12  \n",
       "7               5  \n",
       "8              13  \n",
       "9               9  "
      ]
     },
     "execution_count": 3,
     "metadata": {},
     "output_type": "execute_result"
    }
   ],
   "source": []
  },
  {
   "cell_type": "markdown",
   "metadata": {},
   "source": [
    "# Drop the column which is not useful to us in the Linear Discriminant Analysis algorithm."
   ]
  },
  {
   "cell_type": "code",
   "execution_count": null,
   "metadata": {},
   "outputs": [],
   "source": []
  },
  {
   "cell_type": "markdown",
   "metadata": {},
   "source": [
    "# Check the basic measures of Descriptive Statistics of the dataframe."
   ]
  },
  {
   "cell_type": "code",
   "execution_count": null,
   "metadata": {},
   "outputs": [],
   "source": []
  },
  {
   "cell_type": "markdown",
   "metadata": {},
   "source": [
    "# Check the information about the various data types of the variables in the data frame. Also check for missing values."
   ]
  },
  {
   "cell_type": "code",
   "execution_count": null,
   "metadata": {},
   "outputs": [],
   "source": []
  },
  {
   "cell_type": "markdown",
   "metadata": {},
   "source": [
    "# Convert the values into the dummy variables. "
   ]
  },
  {
   "cell_type": "code",
   "execution_count": 8,
   "metadata": {},
   "outputs": [
    {
     "data": {
      "text/html": [
       "<div>\n",
       "<style scoped>\n",
       "    .dataframe tbody tr th:only-of-type {\n",
       "        vertical-align: middle;\n",
       "    }\n",
       "\n",
       "    .dataframe tbody tr th {\n",
       "        vertical-align: top;\n",
       "    }\n",
       "\n",
       "    .dataframe thead th {\n",
       "        text-align: right;\n",
       "    }\n",
       "</style>\n",
       "<table border=\"1\" class=\"dataframe\">\n",
       "  <thead>\n",
       "    <tr style=\"text-align: right;\">\n",
       "      <th></th>\n",
       "      <th>Target</th>\n",
       "      <th>Age</th>\n",
       "      <th>Balance</th>\n",
       "      <th>No_OF_CR_TXNS</th>\n",
       "      <th>SCR</th>\n",
       "      <th>Holding_Period</th>\n",
       "      <th>Gender_M</th>\n",
       "      <th>Gender_O</th>\n",
       "      <th>Occupation_SAL</th>\n",
       "      <th>Occupation_SELF-EMP</th>\n",
       "      <th>Occupation_SENP</th>\n",
       "    </tr>\n",
       "  </thead>\n",
       "  <tbody>\n",
       "    <tr>\n",
       "      <td>0</td>\n",
       "      <td>0</td>\n",
       "      <td>30</td>\n",
       "      <td>160378.60</td>\n",
       "      <td>2</td>\n",
       "      <td>826</td>\n",
       "      <td>9</td>\n",
       "      <td>1</td>\n",
       "      <td>0</td>\n",
       "      <td>1</td>\n",
       "      <td>0</td>\n",
       "      <td>0</td>\n",
       "    </tr>\n",
       "    <tr>\n",
       "      <td>1</td>\n",
       "      <td>1</td>\n",
       "      <td>41</td>\n",
       "      <td>84370.59</td>\n",
       "      <td>14</td>\n",
       "      <td>843</td>\n",
       "      <td>9</td>\n",
       "      <td>1</td>\n",
       "      <td>0</td>\n",
       "      <td>0</td>\n",
       "      <td>1</td>\n",
       "      <td>0</td>\n",
       "    </tr>\n",
       "    <tr>\n",
       "      <td>2</td>\n",
       "      <td>0</td>\n",
       "      <td>49</td>\n",
       "      <td>60849.26</td>\n",
       "      <td>49</td>\n",
       "      <td>328</td>\n",
       "      <td>26</td>\n",
       "      <td>0</td>\n",
       "      <td>0</td>\n",
       "      <td>0</td>\n",
       "      <td>0</td>\n",
       "      <td>0</td>\n",
       "    </tr>\n",
       "    <tr>\n",
       "      <td>3</td>\n",
       "      <td>0</td>\n",
       "      <td>49</td>\n",
       "      <td>10558.81</td>\n",
       "      <td>23</td>\n",
       "      <td>619</td>\n",
       "      <td>19</td>\n",
       "      <td>1</td>\n",
       "      <td>0</td>\n",
       "      <td>1</td>\n",
       "      <td>0</td>\n",
       "      <td>0</td>\n",
       "    </tr>\n",
       "    <tr>\n",
       "      <td>4</td>\n",
       "      <td>0</td>\n",
       "      <td>43</td>\n",
       "      <td>97100.48</td>\n",
       "      <td>3</td>\n",
       "      <td>397</td>\n",
       "      <td>8</td>\n",
       "      <td>1</td>\n",
       "      <td>0</td>\n",
       "      <td>0</td>\n",
       "      <td>0</td>\n",
       "      <td>1</td>\n",
       "    </tr>\n",
       "  </tbody>\n",
       "</table>\n",
       "</div>"
      ],
      "text/plain": [
       "   Target  Age    Balance  No_OF_CR_TXNS  SCR  Holding_Period  Gender_M  \\\n",
       "0       0   30  160378.60              2  826               9         1   \n",
       "1       1   41   84370.59             14  843               9         1   \n",
       "2       0   49   60849.26             49  328              26         0   \n",
       "3       0   49   10558.81             23  619              19         1   \n",
       "4       0   43   97100.48              3  397               8         1   \n",
       "\n",
       "   Gender_O  Occupation_SAL  Occupation_SELF-EMP  Occupation_SENP  \n",
       "0         0               1                    0                0  \n",
       "1         0               0                    1                0  \n",
       "2         0               0                    0                0  \n",
       "3         0               1                    0                0  \n",
       "4         0               0                    0                1  "
      ]
     },
     "execution_count": 8,
     "metadata": {},
     "output_type": "execute_result"
    }
   ],
   "source": []
  },
  {
   "cell_type": "markdown",
   "metadata": {},
   "source": [
    "# Plot the correlation heatmap of the predictor variables."
   ]
  },
  {
   "cell_type": "code",
   "execution_count": 9,
   "metadata": {},
   "outputs": [
    {
     "data": {
      "text/html": [
       "<div>\n",
       "<style scoped>\n",
       "    .dataframe tbody tr th:only-of-type {\n",
       "        vertical-align: middle;\n",
       "    }\n",
       "\n",
       "    .dataframe tbody tr th {\n",
       "        vertical-align: top;\n",
       "    }\n",
       "\n",
       "    .dataframe thead th {\n",
       "        text-align: right;\n",
       "    }\n",
       "</style>\n",
       "<table border=\"1\" class=\"dataframe\">\n",
       "  <thead>\n",
       "    <tr style=\"text-align: right;\">\n",
       "      <th></th>\n",
       "      <th>Age</th>\n",
       "      <th>Balance</th>\n",
       "      <th>No_OF_CR_TXNS</th>\n",
       "      <th>SCR</th>\n",
       "      <th>Holding_Period</th>\n",
       "      <th>Gender_M</th>\n",
       "      <th>Gender_O</th>\n",
       "      <th>Occupation_SAL</th>\n",
       "      <th>Occupation_SELF-EMP</th>\n",
       "      <th>Occupation_SENP</th>\n",
       "    </tr>\n",
       "  </thead>\n",
       "  <tbody>\n",
       "    <tr>\n",
       "      <td>Age</td>\n",
       "      <td>1.000000</td>\n",
       "      <td>-0.146920</td>\n",
       "      <td>0.058350</td>\n",
       "      <td>-0.005501</td>\n",
       "      <td>-0.011765</td>\n",
       "      <td>0.082920</td>\n",
       "      <td>0.014294</td>\n",
       "      <td>0.054031</td>\n",
       "      <td>-0.018301</td>\n",
       "      <td>-0.059572</td>\n",
       "    </tr>\n",
       "    <tr>\n",
       "      <td>Balance</td>\n",
       "      <td>-0.146920</td>\n",
       "      <td>1.000000</td>\n",
       "      <td>-0.135032</td>\n",
       "      <td>-0.015087</td>\n",
       "      <td>0.022917</td>\n",
       "      <td>-0.179496</td>\n",
       "      <td>-0.022501</td>\n",
       "      <td>-0.084633</td>\n",
       "      <td>-0.047212</td>\n",
       "      <td>0.124165</td>\n",
       "    </tr>\n",
       "    <tr>\n",
       "      <td>No_OF_CR_TXNS</td>\n",
       "      <td>0.058350</td>\n",
       "      <td>-0.135032</td>\n",
       "      <td>1.000000</td>\n",
       "      <td>0.003036</td>\n",
       "      <td>-0.026593</td>\n",
       "      <td>0.216527</td>\n",
       "      <td>0.069619</td>\n",
       "      <td>0.230691</td>\n",
       "      <td>0.010132</td>\n",
       "      <td>-0.239398</td>\n",
       "    </tr>\n",
       "    <tr>\n",
       "      <td>SCR</td>\n",
       "      <td>-0.005501</td>\n",
       "      <td>-0.015087</td>\n",
       "      <td>0.003036</td>\n",
       "      <td>1.000000</td>\n",
       "      <td>-0.030739</td>\n",
       "      <td>-0.000934</td>\n",
       "      <td>0.000774</td>\n",
       "      <td>-0.014518</td>\n",
       "      <td>0.014688</td>\n",
       "      <td>0.005216</td>\n",
       "    </tr>\n",
       "    <tr>\n",
       "      <td>Holding_Period</td>\n",
       "      <td>-0.011765</td>\n",
       "      <td>0.022917</td>\n",
       "      <td>-0.026593</td>\n",
       "      <td>-0.030739</td>\n",
       "      <td>1.000000</td>\n",
       "      <td>-0.026714</td>\n",
       "      <td>-0.001329</td>\n",
       "      <td>0.002393</td>\n",
       "      <td>-0.017739</td>\n",
       "      <td>0.016538</td>\n",
       "    </tr>\n",
       "    <tr>\n",
       "      <td>Gender_M</td>\n",
       "      <td>0.082920</td>\n",
       "      <td>-0.179496</td>\n",
       "      <td>0.216527</td>\n",
       "      <td>-0.000934</td>\n",
       "      <td>-0.026714</td>\n",
       "      <td>1.000000</td>\n",
       "      <td>-0.157168</td>\n",
       "      <td>0.224427</td>\n",
       "      <td>0.016810</td>\n",
       "      <td>-0.234147</td>\n",
       "    </tr>\n",
       "    <tr>\n",
       "      <td>Gender_O</td>\n",
       "      <td>0.014294</td>\n",
       "      <td>-0.022501</td>\n",
       "      <td>0.069619</td>\n",
       "      <td>0.000774</td>\n",
       "      <td>-0.001329</td>\n",
       "      <td>-0.157168</td>\n",
       "      <td>1.000000</td>\n",
       "      <td>0.034360</td>\n",
       "      <td>-0.001339</td>\n",
       "      <td>-0.059981</td>\n",
       "    </tr>\n",
       "    <tr>\n",
       "      <td>Occupation_SAL</td>\n",
       "      <td>0.054031</td>\n",
       "      <td>-0.084633</td>\n",
       "      <td>0.230691</td>\n",
       "      <td>-0.014518</td>\n",
       "      <td>0.002393</td>\n",
       "      <td>0.224427</td>\n",
       "      <td>0.034360</td>\n",
       "      <td>1.000000</td>\n",
       "      <td>-0.288856</td>\n",
       "      <td>-0.387152</td>\n",
       "    </tr>\n",
       "    <tr>\n",
       "      <td>Occupation_SELF-EMP</td>\n",
       "      <td>-0.018301</td>\n",
       "      <td>-0.047212</td>\n",
       "      <td>0.010132</td>\n",
       "      <td>0.014688</td>\n",
       "      <td>-0.017739</td>\n",
       "      <td>0.016810</td>\n",
       "      <td>-0.001339</td>\n",
       "      <td>-0.288856</td>\n",
       "      <td>1.000000</td>\n",
       "      <td>-0.271218</td>\n",
       "    </tr>\n",
       "    <tr>\n",
       "      <td>Occupation_SENP</td>\n",
       "      <td>-0.059572</td>\n",
       "      <td>0.124165</td>\n",
       "      <td>-0.239398</td>\n",
       "      <td>0.005216</td>\n",
       "      <td>0.016538</td>\n",
       "      <td>-0.234147</td>\n",
       "      <td>-0.059981</td>\n",
       "      <td>-0.387152</td>\n",
       "      <td>-0.271218</td>\n",
       "      <td>1.000000</td>\n",
       "    </tr>\n",
       "  </tbody>\n",
       "</table>\n",
       "</div>"
      ],
      "text/plain": [
       "                          Age   Balance  No_OF_CR_TXNS       SCR  \\\n",
       "Age                  1.000000 -0.146920       0.058350 -0.005501   \n",
       "Balance             -0.146920  1.000000      -0.135032 -0.015087   \n",
       "No_OF_CR_TXNS        0.058350 -0.135032       1.000000  0.003036   \n",
       "SCR                 -0.005501 -0.015087       0.003036  1.000000   \n",
       "Holding_Period      -0.011765  0.022917      -0.026593 -0.030739   \n",
       "Gender_M             0.082920 -0.179496       0.216527 -0.000934   \n",
       "Gender_O             0.014294 -0.022501       0.069619  0.000774   \n",
       "Occupation_SAL       0.054031 -0.084633       0.230691 -0.014518   \n",
       "Occupation_SELF-EMP -0.018301 -0.047212       0.010132  0.014688   \n",
       "Occupation_SENP     -0.059572  0.124165      -0.239398  0.005216   \n",
       "\n",
       "                     Holding_Period  Gender_M  Gender_O  Occupation_SAL  \\\n",
       "Age                       -0.011765  0.082920  0.014294        0.054031   \n",
       "Balance                    0.022917 -0.179496 -0.022501       -0.084633   \n",
       "No_OF_CR_TXNS             -0.026593  0.216527  0.069619        0.230691   \n",
       "SCR                       -0.030739 -0.000934  0.000774       -0.014518   \n",
       "Holding_Period             1.000000 -0.026714 -0.001329        0.002393   \n",
       "Gender_M                  -0.026714  1.000000 -0.157168        0.224427   \n",
       "Gender_O                  -0.001329 -0.157168  1.000000        0.034360   \n",
       "Occupation_SAL             0.002393  0.224427  0.034360        1.000000   \n",
       "Occupation_SELF-EMP       -0.017739  0.016810 -0.001339       -0.288856   \n",
       "Occupation_SENP            0.016538 -0.234147 -0.059981       -0.387152   \n",
       "\n",
       "                     Occupation_SELF-EMP  Occupation_SENP  \n",
       "Age                            -0.018301        -0.059572  \n",
       "Balance                        -0.047212         0.124165  \n",
       "No_OF_CR_TXNS                   0.010132        -0.239398  \n",
       "SCR                             0.014688         0.005216  \n",
       "Holding_Period                 -0.017739         0.016538  \n",
       "Gender_M                        0.016810        -0.234147  \n",
       "Gender_O                       -0.001339        -0.059981  \n",
       "Occupation_SAL                 -0.288856        -0.387152  \n",
       "Occupation_SELF-EMP             1.000000        -0.271218  \n",
       "Occupation_SENP                -0.271218         1.000000  "
      ]
     },
     "execution_count": 9,
     "metadata": {},
     "output_type": "execute_result"
    }
   ],
   "source": []
  },
  {
   "cell_type": "markdown",
   "metadata": {},
   "source": [
    "It is difficult to understand the extent of correlation by painstakingly looking at the numbers of the above matrix. So, let us plot a correlation heatmap."
   ]
  },
  {
   "cell_type": "code",
   "execution_count": 33,
   "metadata": {},
   "outputs": [
    {
     "data": {
      "image/png": "[encoded data removed]",
      "text/plain": [
       "<Figure size 1080x864 with 2 Axes>"
      ]
     },
     "metadata": {
      "needs_background": "light"
     },
     "output_type": "display_data"
    }
   ],
   "source": []
  },
  {
   "cell_type": "markdown",
   "metadata": {},
   "source": [
    "###### Note: If the plot of the heatmap has the two extreme truncated please do run the following code snippet to downagrade the library 'matplotlib' and then try to plot the heatmap once more. You may have to restart Jupyter Notebook to make sure that these changes take place.\n",
    "\n",
    "###### '!pip install --upgrade matplotlib==3.0.3 --user' - run this line in a cell of the Jupyter Notebook."
   ]
  },
  {
   "cell_type": "markdown",
   "metadata": {},
   "source": [
    "# Plot graphs based on bivariate analysis."
   ]
  },
  {
   "cell_type": "code",
   "execution_count": null,
   "metadata": {},
   "outputs": [],
   "source": []
  },
  {
   "cell_type": "markdown",
   "metadata": {},
   "source": [
    "##### Note: Since this is a practice assessment, please do go ahead and practice various types of Exploratory Data Analysis. Please do practice various kinds of univariate analysis as well. Try to develop your own business solutions for this dataset."
   ]
  },
  {
   "cell_type": "markdown",
   "metadata": {},
   "source": [
    "# Check the distribution of values in the 'Target' column and check the percentage of Ones and Zeroes."
   ]
  },
  {
   "cell_type": "code",
   "execution_count": 46,
   "metadata": {},
   "outputs": [
    {
     "data": {
      "text/plain": [
       "0    18267\n",
       "1     1733\n",
       "Name: Target, dtype: int64"
      ]
     },
     "execution_count": 46,
     "metadata": {},
     "output_type": "execute_result"
    }
   ],
   "source": []
  },
  {
   "cell_type": "markdown",
   "metadata": {},
   "source": [
    "Now that we know the distribution of Ones and Zeroes, let us go ahead and check the percentage of Ones and Zeroes."
   ]
  },
  {
   "cell_type": "code",
   "execution_count": 59,
   "metadata": {},
   "outputs": [
    {
     "name": "stdout",
     "output_type": "stream",
     "text": [
      "The percentage of zeroes in the Target variable is 91.335 \n",
      " and the percentage of ones in the Target variable is 8.665000000000001\n"
     ]
    }
   ],
   "source": []
  },
  {
   "cell_type": "markdown",
   "metadata": {},
   "source": [
    "# Split the data into training and test set to build and evaluate the model respectively."
   ]
  },
  {
   "cell_type": "code",
   "execution_count": null,
   "metadata": {},
   "outputs": [],
   "source": []
  },
  {
   "cell_type": "markdown",
   "metadata": {},
   "source": [
    "Now since the data has been split in the 70:30 (train:test) ratio, let us check the distribution of Ones and Zeroes in the Y ('Target') variable."
   ]
  },
  {
   "cell_type": "code",
   "execution_count": 77,
   "metadata": {},
   "outputs": [
    {
     "data": {
      "text/plain": [
       "0    0.913\n",
       "1    0.087\n",
       "Name: Target, dtype: float64"
      ]
     },
     "execution_count": 77,
     "metadata": {},
     "output_type": "execute_result"
    }
   ],
   "source": []
  },
  {
   "cell_type": "code",
   "execution_count": 78,
   "metadata": {},
   "outputs": [
    {
     "data": {
      "text/plain": [
       "0    0.914167\n",
       "1    0.085833\n",
       "Name: Target, dtype: float64"
      ]
     },
     "execution_count": 78,
     "metadata": {},
     "output_type": "execute_result"
    }
   ],
   "source": []
  },
  {
   "cell_type": "markdown",
   "metadata": {},
   "source": [
    "From the above two code snippets, we can see that the proportion of Ones and Zeroes in the training and test set is the same as the proportion of Ones and Zeroes that were present in the whole dataset."
   ]
  },
  {
   "cell_type": "markdown",
   "metadata": {},
   "source": [
    "# Build the LDA algorithm without scaling the predictor variables and use this model to predict on the test set and compute the confusion matrix. \n",
    "### For further reference in this codebook, we will refer to this model as Model1."
   ]
  },
  {
   "cell_type": "code",
   "execution_count": null,
   "metadata": {},
   "outputs": [],
   "source": []
  },
  {
   "cell_type": "markdown",
   "metadata": {},
   "source": [
    "# Build the LDA algorithm with scaling the predictor variables and use this model to predict on the test set and compute the confusion matrix. \n",
    "### For further reference in this codebook, we will refer to this model as Model2."
   ]
  },
  {
   "cell_type": "code",
   "execution_count": null,
   "metadata": {},
   "outputs": [],
   "source": []
  },
  {
   "cell_type": "markdown",
   "metadata": {},
   "source": [
    "### Please do try to calculate other model performance measures. Do play around with the data and check whether the accuracy can be increased or not."
   ]
  },
  {
   "cell_type": "code",
   "execution_count": null,
   "metadata": {},
   "outputs": [],
   "source": [
    "\n"
   ]
  }
 ],
 "metadata": {
  "kernelspec": {
   "display_name": "Python 3",
   "language": "python",
   "name": "python3"
  },
  "language_info": {
   "codemirror_mode": {
    "name": "ipython",
    "version": 3
   },
   "file_extension": ".py",
   "mimetype": "text/x-python",
   "name": "python",
   "nbconvert_exporter": "python",
   "pygments_lexer": "ipython3",
   "version": "3.8.5"
  },
  "toc": {
   "base_numbering": 1,
   "nav_menu": {},
   "number_sections": true,
   "sideBar": true,
   "skip_h1_title": false,
   "title_cell": "Table of Contents",
   "title_sidebar": "Contents",
   "toc_cell": false,
   "toc_position": {},
   "toc_section_display": true,
   "toc_window_display": false
  },
  "varInspector": {
   "cols": {
    "lenName": 16,
    "lenType": 16,
    "lenVar": 40
   },
   "kernels_config": {
    "python": {
     "delete_cmd_postfix": "",
     "delete_cmd_prefix": "del ",
     "library": "var_list.py",
     "varRefreshCmd": "print(var_dic_list())"
    },
    "r": {
     "delete_cmd_postfix": ") ",
     "delete_cmd_prefix": "rm(",
     "library": "var_list.r",
     "varRefreshCmd": "cat(var_dic_list()) "
    }
   },
   "types_to_exclude": [
    "module",
    "function",
    "builtin_function_or_method",
    "instance",
    "_Feature"
   ],
   "window_display": false
  }
 },
 "nbformat": 4,
 "nbformat_minor": 2
}
