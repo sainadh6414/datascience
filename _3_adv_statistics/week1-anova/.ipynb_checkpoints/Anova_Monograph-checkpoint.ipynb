{
 "cells": [
  {
   "cell_type": "code",
   "execution_count": 12,
   "metadata": {},
   "outputs": [],
   "source": [
    "import pandas as pd\n",
    "import numpy as np\n",
    "import seaborn as sns\n",
    "import matplotlib.pyplot as plt"
   ]
  },
  {
   "cell_type": "code",
   "execution_count": 13,
   "metadata": {},
   "outputs": [
    {
     "name": "stdout",
     "output_type": "stream",
     "text": [
      "(510, 4)\n",
      "   Car_ID manufacturer fuel_type  co_emissions\n",
      "0       1         Audi    Petrol        441.55\n",
      "1       2          BMW       E85        376.47\n",
      "2       3          BMW       E85        414.12\n",
      "3       4          BMW       E85        351.41\n",
      "4       5        Volvo       E85        284.59\n"
     ]
    }
   ],
   "source": [
    "# Example 1\n",
    "\n",
    "# Traffic management inspector in a certain city wants to understand whether carbon emissions from different cars are different. The inspector has reasons to believe that Fuel type (LPG, Petrol or Petrol (E85-Flex Fuel)) and car manufacturer (Audi, BMW, Ford, Volvo) may be the factors responsible for differences in carbon emission. For this purpose, she has taken random samples from all registered cars on the road in that city and would like to compare the amount of carbon emission release due to fuel type and/or manufacturers.\n",
    "# This problem is essentially a problem of identification of the source(s) of variation in the data. ANOVA will be applied to see whether\n",
    "#  Carbon emission depends on fuel type only (One-way ANOVA)\n",
    "#  Carbon emission depends on manufacturer only (One-way ANOVA)\n",
    "#  Carbon emission depends on both fuel type and manufacturer both (Two-way ANOVA)\n",
    "\n",
    "# Solution: The objective is to determine whether CO2 emission from cards depend on manufacturer, fuel or both\n",
    "\n",
    "aovdf = pd.read_csv('./AOVData.csv')\n",
    "\n",
    "print(aovdf.shape)\n",
    "print(aovdf.head())\n",
    "\n",
    "# Factor 1: Fuel Type\n",
    "# Factor 2: Manufacturer\n",
    "# Response: CO_Emissions\n"
   ]
  },
  {
   "cell_type": "code",
   "execution_count": 14,
   "metadata": {},
   "outputs": [
    {
     "data": {
      "text/plain": [
       "count    510.000000\n",
       "mean     358.456882\n",
       "std       66.912999\n",
       "min      162.070000\n",
       "25%      312.630000\n",
       "50%      356.190000\n",
       "75%      410.645000\n",
       "max      544.560000\n",
       "Name: co_emissions, dtype: float64"
      ]
     },
     "execution_count": 14,
     "metadata": {},
     "output_type": "execute_result"
    }
   ],
   "source": [
    "aovdf['co_emissions'].describe().transpose()"
   ]
  },
  {
   "cell_type": "code",
   "execution_count": 15,
   "metadata": {},
   "outputs": [
    {
     "data": {
      "text/plain": [
       "(array([ 1.,  2.,  4., 12., 14., 26., 37., 57., 53., 64., 57., 39., 48.,\n",
       "        39., 23., 16.,  9.,  3.,  5.]),\n",
       " array([160, 180, 200, 220, 240, 260, 280, 300, 320, 340, 360, 380, 400,\n",
       "        420, 440, 460, 480, 500, 520, 540]),\n",
       " <BarContainer object of 19 artists>)"
      ]
     },
     "execution_count": 15,
     "metadata": {},
     "output_type": "execute_result"
    },
    {
     "data": {
      "image/png": "[encoded data removed]",
      "text/plain": [
       "<Figure size 432x288 with 1 Axes>"
      ]
     },
     "metadata": {
      "needs_background": "light"
     },
     "output_type": "display_data"
    }
   ],
   "source": [
    "# Min value is 162 and max value is 544 and a step of 20 creates a normal distribution\n",
    "bin_edges = np.arange(160, 560, 20)\n",
    "\n",
    "\n",
    "# Visualize the pattern\n",
    "plt.hist(aovdf.co_emissions, \n",
    "         bins=bin_edges, \n",
    "         density=False, \n",
    "         histtype='bar',\n",
    "         color='b',\n",
    "         edgecolor='k',\n",
    "         alpha=0.5)\n"
   ]
  },
  {
   "cell_type": "code",
   "execution_count": 16,
   "metadata": {},
   "outputs": [
    {
     "name": "stderr",
     "output_type": "stream",
     "text": [
      "C:\\ProgramData\\Anaconda3\\lib\\site-packages\\seaborn\\_decorators.py:36: FutureWarning: Pass the following variable as a keyword arg: x. From version 0.12, the only valid positional argument will be `data`, and passing other arguments without an explicit keyword will result in an error or misinterpretation.\n",
      "  warnings.warn(\n",
      "C:\\ProgramData\\Anaconda3\\lib\\site-packages\\seaborn\\_core.py:1303: UserWarning: Vertical orientation ignored with only `x` specified.\n",
      "  warnings.warn(single_var_warning.format(\"Vertical\", \"x\"))\n"
     ]
    },
    {
     "data": {
      "image/png": "[encoded data removed]",
      "text/plain": [
       "<Figure size 432x288 with 1 Axes>"
      ]
     },
     "metadata": {
      "needs_background": "light"
     },
     "output_type": "display_data"
    }
   ],
   "source": [
    "# Are there anu outliers?\n",
    "\n",
    "sns.boxplot(aovdf['co_emissions'], orient='v')\n",
    "plt.show()"
   ]
  },
  {
   "cell_type": "code",
   "execution_count": 20,
   "metadata": {},
   "outputs": [
    {
     "name": "stdout",
     "output_type": "stream",
     "text": [
      "Petrol    179\n",
      "LPG       170\n",
      "E85       161\n",
      "Name: fuel_type, dtype: int64\n",
      "fuel_type\n",
      "E85       338.124534\n",
      "LPG       363.744412\n",
      "Petrol    371.722961\n",
      "Name: co_emissions, dtype: float64\n"
     ]
    }
   ],
   "source": [
    "# Frequency-counts and mean of carbon emission at \n",
    "# different levels of the factors\n",
    "\n",
    "# Factor 1: fuel_type\n",
    "\n",
    "# Frequency count\n",
    "print(aovdf['fuel_type'].value_counts())\n",
    "\n",
    "# Mean\n",
    "print(aovdf.groupby('fuel_type')['co_emissions'].mean())\n"
   ]
  },
  {
   "cell_type": "code",
   "execution_count": 21,
   "metadata": {},
   "outputs": [
    {
     "name": "stdout",
     "output_type": "stream",
     "text": [
      "Audi     142\n",
      "Ford     132\n",
      "Volvo    123\n",
      "BMW      113\n",
      "Name: manufacturer, dtype: int64\n",
      "manufacturer\n",
      "Audi     349.727254\n",
      "BMW      377.538761\n",
      "Ford     365.078561\n",
      "Volvo    343.898293\n",
      "Name: co_emissions, dtype: float64\n"
     ]
    }
   ],
   "source": [
    "# Factor 2: Manufacturer\n",
    "\n",
    "# Frequency\n",
    "print(aovdf['manufacturer'].value_counts())\n",
    "\n",
    "# Mean\n",
    "print(aovdf.groupby('manufacturer')['co_emissions'].mean())"
   ]
  },
  {
   "cell_type": "code",
   "execution_count": 22,
   "metadata": {
    "scrolled": true
   },
   "outputs": [
    {
     "data": {
      "image/png": "[encoded data removed]",
      "text/plain": [
       "<Figure size 504x504 with 1 Axes>"
      ]
     },
     "metadata": {
      "needs_background": "light"
     },
     "output_type": "display_data"
    }
   ],
   "source": [
    "# Problem 1: Whether there is any dependency on 𝑌 of 𝑋1: Fuel Type\n",
    "# Whether there is any dependency on Co-Emissions of Fuel_Type\n",
    "\n",
    "# We need to test the hypothesis that the use of \n",
    "# three different fuel types does not impact carbon emission.\n",
    "\n",
    "# H0: Mean for Carbon Emissions of all fuel_type are the same.\n",
    "# H1: Mean for Carbon Emissions of atleast one fuel_type is different from the other.\n",
    "\n",
    "# The normality and equality of variance assumptions need to be checked.\n",
    "\n",
    "\n",
    "a4_dims = (7,7)\n",
    "fig, ax = plt.subplots(figsize=a4_dims)\n",
    "a = sns.boxplot(x='fuel_type', y='co_emissions', data=aovdf, hue='fuel_type')\n",
    "a.set_title('Co-Emissions w.r.t to Fuel Type (3 Levels)', fontsize=15)\n",
    "plt.show()\n"
   ]
  },
  {
   "cell_type": "code",
   "execution_count": 23,
   "metadata": {},
   "outputs": [
    {
     "name": "stdout",
     "output_type": "stream",
     "text": [
      "W=0.9970714449882507 and p_value=0.49723097681999207\n"
     ]
    }
   ],
   "source": [
    "# For testing of normality, Shapiro-Wilk’s test is applied to the response\n",
    "\n",
    "# H0: Co-Emission follow a normal distribution\n",
    "# Ha: Co-Emission doesn't follow a normal distribution.\n",
    "\n",
    "# Assumption 1: Is the Dependant Variable normally distributed?\n",
    "\n",
    "from scipy import stats\n",
    "\n",
    "w, p_value = stats.shapiro(aovdf['co_emissions'])\n",
    "\n",
    "print(\"W={} and p_value={}\".format(w, p_value))\n",
    "\n",
    "# p_value is not less than alpha i.e. 0.05, hence we fail to reject H0 and \n",
    "# The reponse vairable \"co-emissions\" follow a normal distribution"
   ]
  },
  {
   "cell_type": "code",
   "execution_count": 24,
   "metadata": {},
   "outputs": [
    {
     "name": "stdout",
     "output_type": "stream",
     "text": [
      "Statistic is 1.6432552897712633  and P_value is 0.19437768490117\n"
     ]
    }
   ],
   "source": [
    "# Assumption 2: Variance of co_emissions is equal at all levels of fuel_type\n",
    "\n",
    "# we need to test the assumption that \n",
    "# at all three levels of the factor fuel_type, population variance is equal\n",
    "\n",
    "# H0: variance1 = variance2 = variance3 \n",
    "# Ha: Atleast one variabce is different from the rest.\n",
    "\n",
    "co_emissions_col = aovdf['co_emissions']\n",
    "fuel_type_col = aovdf['fuel_type']\n",
    "\n",
    "statistic, p_value = stats.levene(co_emissions_col[fuel_type_col == 'Petrol'], \n",
    "             co_emissions_col[fuel_type_col == 'E85'], \n",
    "             co_emissions_col[fuel_type_col == 'LPG'])\n",
    "\n",
    "print('Statistic is {}  and P_value is {}'.format(statistic, p_value))\n",
    "\n",
    "# P value is not less than alpha 0.05, hence we fail to reject H0:\n",
    "# Variances of the co-emissions of fuel_type are the same."
   ]
  },
  {
   "cell_type": "code",
   "execution_count": 27,
   "metadata": {},
   "outputs": [
    {
     "name": "stdout",
     "output_type": "stream",
     "text": [
      "                 df        sum_sq       mean_sq          F    PR(>F)\n",
      "C(fuel_type)    2.0  1.028130e+05  51406.481215  11.976652  0.000008\n",
      "Residual      507.0  2.176158e+06   4292.224647        NaN       NaN\n"
     ]
    }
   ],
   "source": [
    "# Once the two assumptions of one-way ANOVA are satisfied, \n",
    "# we can now compare the population means.\n",
    "\n",
    "# Apply one-way ANOVA\n",
    "# H0: meanFuel1 = meanFuel2 = meanFuel3\n",
    "# Ha: Atleast one mean is different\n",
    "\n",
    "from statsmodels.formula.api import ols # for n-way- anova\n",
    "from statsmodels.stats.anova import _get_covariance, anova_lm\n",
    "\n",
    "formula = 'co_emissions ~ C(fuel_type)'\n",
    "\n",
    "model = ols(formula, data=aovdf).fit()\n",
    "aov_tbl = anova_lm(model, type=1)\n",
    "print(aov_tbl)\n",
    "\n",
    "# Obtained P Value 0.000008 is less than Alpha 0.05 hence the Null Hypothesis\n",
    "# H0: Mean(s) for the fuel types are identical is Rejected.\n"
   ]
  },
  {
   "cell_type": "code",
   "execution_count": 28,
   "metadata": {},
   "outputs": [
    {
     "name": "stderr",
     "output_type": "stream",
     "text": [
      "C:\\ProgramData\\Anaconda3\\lib\\site-packages\\seaborn\\_decorators.py:36: FutureWarning: Pass the following variables as keyword args: x, y. From version 0.12, the only valid positional argument will be `data`, and passing other arguments without an explicit keyword will result in an error or misinterpretation.\n",
      "  warnings.warn(\n"
     ]
    },
    {
     "data": {
      "text/plain": [
       "Text(0, 0.5, 'Residuals')"
      ]
     },
     "execution_count": 28,
     "metadata": {},
     "output_type": "execute_result"
    },
    {
     "data": {
      "image/png": "[encoded data removed]",
      "text/plain": [
       "<Figure size 432x288 with 1 Axes>"
      ]
     },
     "metadata": {
      "needs_background": "light"
     },
     "output_type": "display_data"
    }
   ],
   "source": [
    "# Residuals are defined as the difference between the observed values \n",
    "# and the expected values. \n",
    "# Detail discussion on residuals will be taken up along with Simple Linear Regression. \n",
    "# The following two graphs are introduced to check the distribution of the residuals. \n",
    "# Fig 10 indicates that the mean carbon emission of two groups are close but the other group means stands out. \n",
    "# It also supports the homoscedasticity of variances.\n",
    "# Fig 11 indicates that the normality assumption holds.\n",
    "\n",
    "\n",
    "# model values\n",
    "model_fitted_y = model.fittedvalues\n",
    "\n",
    "# model residuals\n",
    "model_residuals = model.resid\n",
    "\n",
    "# normalized residuals\n",
    "model_norm_residuals = model.get_influence().resid_studentized_internal\n",
    "\n",
    "# absolute squared normalized residuals\n",
    "model_norm_residuals_abs_sqrt = np.sqrt(np.abs(model_norm_residuals))\n",
    "\n",
    "# absolute residuals\n",
    "model_abs_resid = np.abs(model_residuals)\n",
    "\n",
    "# leverage, from statsmodels internals\n",
    "model_leverage = model.get_influence().hat_matrix_diag\n",
    "\n",
    "# cooks dist ance, from statsmodels internals\n",
    "model_cooks = model.get_influence().cooks_distance[0]\n",
    "\n",
    "plot_lm_1 = plt.figure()\n",
    "plot_lm_1.axes[0] = sns.residplot(model_fitted_y, 'co_emissions', data=aovdf, lowess=True, scatter_kws={'alpha': 0.5}, line_kws={'color': 'red', 'lw': 1, 'alpha': 0.8})\n",
    "\n",
    "plot_lm_1.axes[0].set_title('Residuals vs Fitted')\n",
    "plot_lm_1.axes[0].set_xlabel('Fitted Values')\n",
    "plot_lm_1.axes[0].set_ylabel('Residuals')\n",
    "\n"
   ]
  },
  {
   "cell_type": "code",
   "execution_count": 29,
   "metadata": {},
   "outputs": [
    {
     "ename": "NameError",
     "evalue": "name 'ProbPlot' is not defined",
     "output_type": "error",
     "traceback": [
      "\u001b[1;31m---------------------------------------------------------------------------\u001b[0m",
      "\u001b[1;31mNameError\u001b[0m                                 Traceback (most recent call last)",
      "\u001b[1;32m<ipython-input-29-445d3ebf808b>\u001b[0m in \u001b[0;36m<module>\u001b[1;34m\u001b[0m\n\u001b[1;32m----> 1\u001b[1;33m \u001b[0mQQ\u001b[0m \u001b[1;33m=\u001b[0m \u001b[0mProbPlot\u001b[0m\u001b[1;33m(\u001b[0m\u001b[0mmodel_norm_residuals\u001b[0m\u001b[1;33m)\u001b[0m\u001b[1;33m\u001b[0m\u001b[1;33m\u001b[0m\u001b[0m\n\u001b[0m\u001b[0;32m      2\u001b[0m \u001b[0mplot_lm_2\u001b[0m \u001b[1;33m=\u001b[0m \u001b[0mQQ\u001b[0m\u001b[1;33m.\u001b[0m\u001b[0mqqplot\u001b[0m\u001b[1;33m(\u001b[0m\u001b[0mline\u001b[0m\u001b[1;33m=\u001b[0m\u001b[1;34m'45'\u001b[0m\u001b[1;33m,\u001b[0m \u001b[0malpha\u001b[0m\u001b[1;33m=\u001b[0m\u001b[1;36m0.5\u001b[0m\u001b[1;33m,\u001b[0m \u001b[0mcolor\u001b[0m\u001b[1;33m=\u001b[0m\u001b[1;34m'#4C72B0'\u001b[0m\u001b[1;33m,\u001b[0m \u001b[0mlw\u001b[0m\u001b[1;33m=\u001b[0m\u001b[1;36m1\u001b[0m\u001b[1;33m)\u001b[0m\u001b[1;33m\u001b[0m\u001b[1;33m\u001b[0m\u001b[0m\n\u001b[0;32m      3\u001b[0m \u001b[0mplot_lm_2\u001b[0m\u001b[1;33m.\u001b[0m\u001b[0maxes\u001b[0m\u001b[1;33m[\u001b[0m\u001b[1;36m0\u001b[0m\u001b[1;33m]\u001b[0m\u001b[1;33m.\u001b[0m\u001b[0mset_title\u001b[0m\u001b[1;33m(\u001b[0m\u001b[1;34m'Normal Q-Q'\u001b[0m\u001b[1;33m)\u001b[0m\u001b[1;33m\u001b[0m\u001b[1;33m\u001b[0m\u001b[0m\n",
      "\u001b[1;31mNameError\u001b[0m: name 'ProbPlot' is not defined"
     ]
    }
   ],
   "source": [
    "# QQ = ProbPlot(model_norm_residuals) \n",
    "# plot_lm_2 = QQ.qqplot(line='45', alpha=0.5, color='#4C72B0', lw=1) \n",
    "# plot_lm_2.axes[0].set_title('Normal Q-Q')\n",
    "\n",
    "# plot_lm_2.axes[0].set_xlabel('Theoretical Quantiles') \n",
    "# plot_lm_2.axes[0].set_ylabel('Standardized Residuals'); \n",
    "# # annotations \n",
    "# abs_norm_resid = np.flip(np.argsort(np.abs(model_norm_residuals)), 0) \n",
    "# abs_norm_resid_top_3 = abs_norm_resid[:3] \n",
    "# for r, i in enumerate(abs_norm_resid_top_3): plot_lm_2.axes[0].annotate(i,xy=(np.flip(QQ.theoretical_quantiles, 0)[r],model_norm_residuals[i]))"
   ]
  },
  {
   "cell_type": "code",
   "execution_count": 30,
   "metadata": {},
   "outputs": [],
   "source": [
    "# Problem 1: Whether there is any dependency on 𝑌 of 𝑋2: Maufacturer\n",
    "# Whether there is any dependency on Co-Emissions of Maufacturer"
   ]
  },
  {
   "cell_type": "code",
   "execution_count": 32,
   "metadata": {},
   "outputs": [
    {
     "data": {
      "image/png": "[encoded data removed]",
      "text/plain": [
       "<Figure size 504x504 with 1 Axes>"
      ]
     },
     "metadata": {
      "needs_background": "light"
     },
     "output_type": "display_data"
    }
   ],
   "source": [
    "# visual comparo of group means\n",
    "\n",
    "a4_dims = (7,7)\n",
    "fig, ax = plt.subplots(figsize=a4_dims)\n",
    "a = sns.boxplot(x='manufacturer', y='co_emissions', data=aovdf, hue='manufacturer')\n",
    "a.set_title('Co-Emissions w.r.t to Manufacturer (3 Levels)', fontsize=15)\n",
    "plt.show()"
   ]
  },
  {
   "cell_type": "code",
   "execution_count": 34,
   "metadata": {},
   "outputs": [
    {
     "name": "stdout",
     "output_type": "stream",
     "text": [
      "Statistic is 1.5475641565613962  and P_value is 0.20131599109069698\n"
     ]
    }
   ],
   "source": [
    "# Assumption 1: Is the Dependant Variable normally distributed is already tested\n",
    "# And it is normally distributed\n",
    "\n",
    "# Assumption 2: Variance of co_emissions is equal at all levels of manufacturer\n",
    "\n",
    "# we need to test the assumption that \n",
    "# at all four levels of the factor manufacturer, population variance is equal\n",
    "\n",
    "# H0: variance1 = variance2 = variance3 \n",
    "# Ha: Atleast one variabce is different from the rest.\n",
    "\n",
    "co_emissions_col = aovdf['co_emissions']\n",
    "manufacturer_col = aovdf['manufacturer']\n",
    "\n",
    "statistic, p_value = stats.levene(co_emissions_col[manufacturer_col == 'Audi'], \n",
    "             co_emissions_col[manufacturer_col == 'BMW'], \n",
    "             co_emissions_col[manufacturer_col == 'Volvo'],\n",
    "             co_emissions_col[manufacturer_col == 'Ford'])\n",
    "\n",
    "print('Statistic is {}  and P_value is {}'.format(statistic, p_value))\n",
    "\n",
    "# P value is not less than alpha 0.05, hence we fail to reject H0:\n",
    "# Variances of co-emissions of all levels of manufacturer are the same."
   ]
  },
  {
   "cell_type": "code",
   "execution_count": 35,
   "metadata": {},
   "outputs": [
    {
     "name": "stdout",
     "output_type": "stream",
     "text": [
      "                    df        sum_sq       mean_sq        F    PR(>F)\n",
      "C(manufacturer)    3.0  8.382457e+04  27941.524040  6.44076  0.000276\n",
      "Residual         506.0  2.195146e+06   4338.233767      NaN       NaN\n"
     ]
    }
   ],
   "source": [
    "# One-way ANOVA for factor Manufacturer\n",
    "\n",
    "formula = 'co_emissions ~ C(manufacturer)'\n",
    "\n",
    "model = ols(formula, data=aovdf).fit()\n",
    "aov_tbl = anova_lm(model, type=1)\n",
    "print(aov_tbl)\n",
    "\n",
    "# As the P Value is less than Alpha 0.05 we reject the null hypothesis \n",
    "# H0 Means for co-emissions for various manufacturers is Rejected.\n"
   ]
  },
  {
   "cell_type": "code",
   "execution_count": 41,
   "metadata": {},
   "outputs": [
    {
     "name": "stdout",
     "output_type": "stream",
     "text": [
      "manufacturer  Audi  BMW  Ford  Volvo\n",
      "fuel_type                           \n",
      "E85             47   34    41     39\n",
      "LPG             47   35    46     42\n",
      "Petrol          48   44    45     42\n",
      "fuel_type  manufacturer\n",
      "E85        Audi            330.330638\n",
      "           BMW             339.697353\n",
      "           Ford            337.320488\n",
      "           Volvo           346.991282\n",
      "LPG        Audi            356.111702\n",
      "           BMW             382.215429\n",
      "           Ford            379.806739\n",
      "           Volvo           339.301190\n",
      "Petrol     Audi            362.468333\n",
      "           BMW             403.059773\n",
      "           Ford            375.313778\n",
      "           Volvo           345.623333\n",
      "Name: co_emissions, dtype: float64\n"
     ]
    },
    {
     "data": {
      "image/png": "[encoded data removed]",
      "text/plain": [
       "<Figure size 720x720 with 1 Axes>"
      ]
     },
     "metadata": {
      "needs_background": "light"
     },
     "output_type": "display_data"
    }
   ],
   "source": [
    "# Two-Way ANOVA\n",
    "\n",
    "# Problem 3: whether there is any dependency on 𝑌 of 𝑋1 𝑎𝑛𝑑 𝑋2 (Fuel type and Manufacturer) together\n",
    "\n",
    "# Before two-way ANOVA procedure is applied to the data, descriptive analysis is done.\n",
    "\n",
    "print(pd.crosstab(aovdf['fuel_type'], aovdf['manufacturer']))\n",
    "\n",
    "print(aovdf.groupby(['fuel_type', 'manufacturer'])['co_emissions'].mean())\n",
    "\n",
    "fig, axes = plt.subplots()\n",
    "fig.set_size_inches(10, 10)\n",
    "a = sns.boxplot(data=aovdf, y='co_emissions', x='fuel_type', hue='manufacturer', orient='v')"
   ]
  },
  {
   "cell_type": "code",
   "execution_count": 46,
   "metadata": {},
   "outputs": [
    {
     "data": {
      "image/png": "[encoded data removed]",
      "text/plain": [
       "<Figure size 720x432 with 1 Axes>"
      ]
     },
     "metadata": {
      "needs_background": "light"
     },
     "output_type": "display_data"
    }
   ],
   "source": [
    "from statsmodels.graphics.factorplots import interaction_plot\n",
    "fig, ax = plt.subplots(figsize=(10, 6)) \n",
    "fig = interaction_plot(x=aovdf['fuel_type'], trace=aovdf['manufacturer'], response=aovdf[\"co_emissions\"],colors=['red', 'blue','green','yellow'], ylabel='co_emissions', xlabel='fuel_type',ax=ax) \n",
    "plt.show()"
   ]
  },
  {
   "cell_type": "code",
   "execution_count": 48,
   "metadata": {},
   "outputs": [
    {
     "name": "stdout",
     "output_type": "stream",
     "text": [
      "statistic = 0.9970714449882507 p_value = 0.06799587238101185\n"
     ]
    }
   ],
   "source": [
    "# Assumption1 is already tested\n",
    "# Assumnption2 varaince equality needs to be tested\n",
    "\n",
    "statistic, p_value = stats.levene(aovdf['co_emissions'][aovdf['fuel_type']==\"Petrol\"][aovdf['manufacturer']==\"Audi\"], \n",
    "                                  aovdf['co_emissions'][aovdf['fuel_type']==\"E85\"][aovdf['manufacturer']==\"Audi\"],\n",
    "                                  aovdf['co_emissions'][aovdf['fuel_type']==\"LPG\"][aovdf['manufacturer']==\"Audi\"],\n",
    "                                  aovdf['co_emissions'][aovdf['fuel_type']==\"Petrol\"][aovdf['manufacturer']==\"BMW\"],\n",
    "                                  aovdf['co_emissions'][aovdf['fuel_type']==\"E85\"][aovdf['manufacturer']==\"BMW\"],\n",
    "                                  aovdf['co_emissions'][aovdf['fuel_type']==\"LPG\"][aovdf['manufacturer']==\"BMW\"], \n",
    "                                  aovdf['co_emissions'][aovdf['fuel_type']==\"Petrol\"][aovdf['manufacturer']==\"Ford\"],\n",
    "                                  aovdf['co_emissions'][aovdf['fuel_type']==\"E85\"][aovdf['manufacturer']==\"Ford\"],\n",
    "                                  aovdf['co_emissions'][aovdf['fuel_type']==\"LPG\"][aovdf['manufacturer']==\"Ford\"],\n",
    "                                  aovdf['co_emissions'][aovdf['fuel_type']==\"Petrol\"][aovdf['manufacturer']==\"Volvo\"],\n",
    "                                  aovdf['co_emissions'][aovdf['fuel_type']==\"E85\"][aovdf['manufacturer']==\"Volvo\"],\n",
    "                                  aovdf['co_emissions'][aovdf['fuel_type']==\"LPG\"][aovdf['manufacturer']==\"Volvo\"]) \n",
    "print(\"statistic = {}\".format(w), \"p_value = {}\".format(p_value))\n",
    "\n",
    "# P value is greater than alpha 0.05, hence the H0 Variances are equal is not rejected."
   ]
  },
  {
   "cell_type": "code",
   "execution_count": 51,
   "metadata": {},
   "outputs": [
    {
     "name": "stdout",
     "output_type": "stream",
     "text": [
      "                                 df        sum_sq       mean_sq          F  \\\n",
      "C(fuel_type)                    2.0  1.028130e+05  51406.481215  12.537086   \n",
      "C(manufacturer)                 3.0  7.933563e+04  26445.211438   6.449496   \n",
      "C(fuel_type):C(manufacturer)    6.0  5.484639e+04   9141.064215   2.229336   \n",
      "Residual                      498.0  2.041976e+06   4100.353165        NaN   \n",
      "\n",
      "                                PR(>F)  \n",
      "C(fuel_type)                  0.000005  \n",
      "C(manufacturer)               0.000273  \n",
      "C(fuel_type):C(manufacturer)  0.039199  \n",
      "Residual                           NaN  \n"
     ]
    }
   ],
   "source": [
    "# Two-Way ANOVA\n",
    "formula = 'co_emissions ~ C(fuel_type) + C(manufacturer) + C(fuel_type):C(manufacturer)'\n",
    "model = ols(formula, data=aovdf).fit()\n",
    "aov_tbl = anova_lm(model, type=2)\n",
    "print(aov_tbl)\n",
    "\n",
    "# P value is less than alpha 0.05 hence the null hypothesis that equality of means for manufacturer and fuel level is also rejected"
   ]
  },
  {
   "cell_type": "code",
   "execution_count": null,
   "metadata": {},
   "outputs": [],
   "source": []
  }
 ],
 "metadata": {
  "kernelspec": {
   "display_name": "Python 3",
   "language": "python",
   "name": "python3"
  },
  "language_info": {
   "codemirror_mode": {
    "name": "ipython",
    "version": 3
   },
   "file_extension": ".py",
   "mimetype": "text/x-python",
   "name": "python",
   "nbconvert_exporter": "python",
   "pygments_lexer": "ipython3",
   "version": "3.8.5"
  }
 },
 "nbformat": 4,
 "nbformat_minor": 4
}
