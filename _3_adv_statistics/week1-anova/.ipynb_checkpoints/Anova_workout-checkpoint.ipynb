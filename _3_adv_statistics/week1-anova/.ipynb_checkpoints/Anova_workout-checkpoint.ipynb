{
 "cells": [
  {
   "cell_type": "code",
   "execution_count": 2,
   "metadata": {},
   "outputs": [],
   "source": [
    "import numpy as no\n",
    "import pandas as pd\n",
    "import seaborn as sns\n",
    "from statsmodels.formula.api import ols # for n-way- anova\n",
    "from statsmodels.stats.anova import _get_covariance, anova_lm\n",
    "%matplotlib inline"
   ]
  },
  {
   "cell_type": "code",
   "execution_count": 3,
   "metadata": {},
   "outputs": [],
   "source": [
    "df = pd.read_csv('paul-newfood.csv')"
   ]
  },
  {
   "cell_type": "code",
   "execution_count": 4,
   "metadata": {},
   "outputs": [
    {
     "data": {
      "text/html": [
       "<div>\n",
       "<style scoped>\n",
       "    .dataframe tbody tr th:only-of-type {\n",
       "        vertical-align: middle;\n",
       "    }\n",
       "\n",
       "    .dataframe tbody tr th {\n",
       "        vertical-align: top;\n",
       "    }\n",
       "\n",
       "    .dataframe thead th {\n",
       "        text-align: right;\n",
       "    }\n",
       "</style>\n",
       "<table border=\"1\" class=\"dataframe\">\n",
       "  <thead>\n",
       "    <tr style=\"text-align: right;\">\n",
       "      <th></th>\n",
       "      <th>Sales</th>\n",
       "      <th>PriceLevel</th>\n",
       "      <th>AdLevel</th>\n",
       "      <th>StoreSize</th>\n",
       "    </tr>\n",
       "  </thead>\n",
       "  <tbody>\n",
       "    <tr>\n",
       "      <th>0</th>\n",
       "      <td>620</td>\n",
       "      <td>1</td>\n",
       "      <td>1</td>\n",
       "      <td>34</td>\n",
       "    </tr>\n",
       "    <tr>\n",
       "      <th>1</th>\n",
       "      <td>774</td>\n",
       "      <td>1</td>\n",
       "      <td>1</td>\n",
       "      <td>41</td>\n",
       "    </tr>\n",
       "    <tr>\n",
       "      <th>2</th>\n",
       "      <td>955</td>\n",
       "      <td>1</td>\n",
       "      <td>2</td>\n",
       "      <td>32</td>\n",
       "    </tr>\n",
       "    <tr>\n",
       "      <th>3</th>\n",
       "      <td>669</td>\n",
       "      <td>1</td>\n",
       "      <td>2</td>\n",
       "      <td>28</td>\n",
       "    </tr>\n",
       "    <tr>\n",
       "      <th>4</th>\n",
       "      <td>623</td>\n",
       "      <td>1</td>\n",
       "      <td>1</td>\n",
       "      <td>34</td>\n",
       "    </tr>\n",
       "  </tbody>\n",
       "</table>\n",
       "</div>"
      ],
      "text/plain": [
       "   Sales  PriceLevel  AdLevel  StoreSize\n",
       "0    620           1        1         34\n",
       "1    774           1        1         41\n",
       "2    955           1        2         32\n",
       "3    669           1        2         28\n",
       "4    623           1        1         34"
      ]
     },
     "execution_count": 4,
     "metadata": {},
     "output_type": "execute_result"
    }
   ],
   "source": [
    "df.head()"
   ]
  },
  {
   "cell_type": "code",
   "execution_count": 5,
   "metadata": {},
   "outputs": [
    {
     "data": {
      "text/html": [
       "<div>\n",
       "<style scoped>\n",
       "    .dataframe tbody tr th:only-of-type {\n",
       "        vertical-align: middle;\n",
       "    }\n",
       "\n",
       "    .dataframe tbody tr th {\n",
       "        vertical-align: top;\n",
       "    }\n",
       "\n",
       "    .dataframe thead th {\n",
       "        text-align: right;\n",
       "    }\n",
       "</style>\n",
       "<table border=\"1\" class=\"dataframe\">\n",
       "  <thead>\n",
       "    <tr style=\"text-align: right;\">\n",
       "      <th></th>\n",
       "      <th>Sales</th>\n",
       "      <th>PriceLevel</th>\n",
       "      <th>AdLevel</th>\n",
       "      <th>StoreSize</th>\n",
       "    </tr>\n",
       "  </thead>\n",
       "  <tbody>\n",
       "    <tr>\n",
       "      <th>count</th>\n",
       "      <td>24.000000</td>\n",
       "      <td>24.000000</td>\n",
       "      <td>24.000000</td>\n",
       "      <td>24.000000</td>\n",
       "    </tr>\n",
       "    <tr>\n",
       "      <th>mean</th>\n",
       "      <td>571.416667</td>\n",
       "      <td>2.000000</td>\n",
       "      <td>1.500000</td>\n",
       "      <td>32.333333</td>\n",
       "    </tr>\n",
       "    <tr>\n",
       "      <th>std</th>\n",
       "      <td>212.629279</td>\n",
       "      <td>0.834058</td>\n",
       "      <td>0.510754</td>\n",
       "      <td>6.424590</td>\n",
       "    </tr>\n",
       "    <tr>\n",
       "      <th>min</th>\n",
       "      <td>294.000000</td>\n",
       "      <td>1.000000</td>\n",
       "      <td>1.000000</td>\n",
       "      <td>19.000000</td>\n",
       "    </tr>\n",
       "    <tr>\n",
       "      <th>25%</th>\n",
       "      <td>393.250000</td>\n",
       "      <td>1.000000</td>\n",
       "      <td>1.000000</td>\n",
       "      <td>28.750000</td>\n",
       "    </tr>\n",
       "    <tr>\n",
       "      <th>50%</th>\n",
       "      <td>550.000000</td>\n",
       "      <td>2.000000</td>\n",
       "      <td>1.500000</td>\n",
       "      <td>32.000000</td>\n",
       "    </tr>\n",
       "    <tr>\n",
       "      <th>75%</th>\n",
       "      <td>677.000000</td>\n",
       "      <td>3.000000</td>\n",
       "      <td>2.000000</td>\n",
       "      <td>37.000000</td>\n",
       "    </tr>\n",
       "    <tr>\n",
       "      <th>max</th>\n",
       "      <td>1208.000000</td>\n",
       "      <td>3.000000</td>\n",
       "      <td>2.000000</td>\n",
       "      <td>43.000000</td>\n",
       "    </tr>\n",
       "  </tbody>\n",
       "</table>\n",
       "</div>"
      ],
      "text/plain": [
       "             Sales  PriceLevel    AdLevel  StoreSize\n",
       "count    24.000000   24.000000  24.000000  24.000000\n",
       "mean    571.416667    2.000000   1.500000  32.333333\n",
       "std     212.629279    0.834058   0.510754   6.424590\n",
       "min     294.000000    1.000000   1.000000  19.000000\n",
       "25%     393.250000    1.000000   1.000000  28.750000\n",
       "50%     550.000000    2.000000   1.500000  32.000000\n",
       "75%     677.000000    3.000000   2.000000  37.000000\n",
       "max    1208.000000    3.000000   2.000000  43.000000"
      ]
     },
     "execution_count": 5,
     "metadata": {},
     "output_type": "execute_result"
    }
   ],
   "source": [
    "df.describe()"
   ]
  },
  {
   "cell_type": "code",
   "execution_count": 6,
   "metadata": {},
   "outputs": [
    {
     "name": "stdout",
     "output_type": "stream",
     "text": [
      "<class 'pandas.core.frame.DataFrame'>\n",
      "RangeIndex: 24 entries, 0 to 23\n",
      "Data columns (total 4 columns):\n",
      " #   Column      Non-Null Count  Dtype\n",
      "---  ------      --------------  -----\n",
      " 0   Sales       24 non-null     int64\n",
      " 1   PriceLevel  24 non-null     int64\n",
      " 2   AdLevel     24 non-null     int64\n",
      " 3   StoreSize   24 non-null     int64\n",
      "dtypes: int64(4)\n",
      "memory usage: 896.0 bytes\n"
     ]
    }
   ],
   "source": [
    "df.info()"
   ]
  },
  {
   "cell_type": "code",
   "execution_count": 8,
   "metadata": {},
   "outputs": [],
   "source": [
    "df['PriceLevel'] = pd.Categorical(df['PriceLevel'])"
   ]
  },
  {
   "cell_type": "code",
   "execution_count": 9,
   "metadata": {},
   "outputs": [
    {
     "data": {
      "text/plain": [
       "<bound method IndexOpsMixin.value_counts of 0     1\n",
       "1     1\n",
       "2     1\n",
       "3     1\n",
       "4     1\n",
       "5     1\n",
       "6     1\n",
       "7     1\n",
       "8     2\n",
       "9     2\n",
       "10    2\n",
       "11    2\n",
       "12    2\n",
       "13    2\n",
       "14    2\n",
       "15    2\n",
       "16    3\n",
       "17    3\n",
       "18    3\n",
       "19    3\n",
       "20    3\n",
       "21    3\n",
       "22    3\n",
       "23    3\n",
       "Name: PriceLevel, dtype: category\n",
       "Categories (3, int64): [1, 2, 3]>"
      ]
     },
     "execution_count": 9,
     "metadata": {},
     "output_type": "execute_result"
    }
   ],
   "source": [
    "df['PriceLevel'].value_counts"
   ]
  },
  {
   "cell_type": "code",
   "execution_count": 11,
   "metadata": {},
   "outputs": [],
   "source": [
    "df['AdLevel'] = pd.Categorical(df['AdLevel'])"
   ]
  },
  {
   "cell_type": "code",
   "execution_count": 12,
   "metadata": {},
   "outputs": [
    {
     "data": {
      "text/plain": [
       "<bound method IndexOpsMixin.value_counts of 0     1\n",
       "1     1\n",
       "2     2\n",
       "3     2\n",
       "4     1\n",
       "5     1\n",
       "6     2\n",
       "7     2\n",
       "8     1\n",
       "9     1\n",
       "10    2\n",
       "11    2\n",
       "12    1\n",
       "13    1\n",
       "14    2\n",
       "15    2\n",
       "16    1\n",
       "17    1\n",
       "18    2\n",
       "19    2\n",
       "20    1\n",
       "21    1\n",
       "22    2\n",
       "23    2\n",
       "Name: AdLevel, dtype: category\n",
       "Categories (2, int64): [1, 2]>"
      ]
     },
     "execution_count": 12,
     "metadata": {},
     "output_type": "execute_result"
    }
   ],
   "source": [
    "df['AdLevel'].value_counts"
   ]
  },
  {
   "cell_type": "code",
   "execution_count": 13,
   "metadata": {},
   "outputs": [
    {
     "name": "stdout",
     "output_type": "stream",
     "text": [
      "                 df         sum_sq        mean_sq          F    PR(>F)\n",
      "C(PriceLevel)   2.0  600412.583333  300206.291667  13.663982  0.000182\n",
      "C(AdLevel)      1.0      32.666667      32.666667   0.001487  0.969624\n",
      "Residual       20.0  439412.583333   21970.629167        NaN       NaN\n"
     ]
    }
   ],
   "source": [
    "# Sales is a dependant variable\n",
    "# PriceLevel and AdLevel are independent variables\n",
    "# Plus does not mean addition, it means AND\n",
    "# PriceLevel and AdLevel affect Sales\n",
    "# C() tells the python to consider the columns to be categories and it's not a number\n",
    "formula = 'Sales ~ C(PriceLevel) + C(AdLevel)'\n",
    "\n",
    "# build a model for Sales\n",
    "# Ordinary Least Squares, algorithm is used to calculate Sum of Squares at C and E\n",
    "model = ols(formula, df).fit()\n",
    "aov_table = anova_lm(model)\n",
    "print(aov_table)\n"
   ]
  },
  {
   "cell_type": "code",
   "execution_count": 14,
   "metadata": {},
   "outputs": [
    {
     "data": {
      "text/plain": [
       "<AxesSubplot:xlabel='PriceLevel', ylabel='Sales'>"
      ]
     },
     "execution_count": 14,
     "metadata": {},
     "output_type": "execute_result"
    },
    {
     "data": {
      "image/png": "[encoded data removed]",
      "text/plain": [
       "<Figure size 432x288 with 1 Axes>"
      ]
     },
     "metadata": {
      "needs_background": "light"
     },
     "output_type": "display_data"
    }
   ],
   "source": [
    "sns.pointplot(x='PriceLevel', y='Sales', data=df, hue='AdLevel')"
   ]
  },
  {
   "cell_type": "code",
   "execution_count": 15,
   "metadata": {},
   "outputs": [
    {
     "data": {
      "text/plain": [
       "<AxesSubplot:xlabel='PriceLevel', ylabel='Sales'>"
      ]
     },
     "execution_count": 15,
     "metadata": {},
     "output_type": "execute_result"
    },
    {
     "data": {
      "image/png": "[encoded data removed]",
      "text/plain": [
       "<Figure size 432x288 with 1 Axes>"
      ]
     },
     "metadata": {
      "needs_background": "light"
     },
     "output_type": "display_data"
    }
   ],
   "source": [
    "sns.pointplot(x='PriceLevel', y='Sales', data=df, hue='AdLevel', ci=None)"
   ]
  },
  {
   "cell_type": "code",
   "execution_count": 16,
   "metadata": {},
   "outputs": [
    {
     "name": "stdout",
     "output_type": "stream",
     "text": [
      "                            df         sum_sq        mean_sq          F  \\\n",
      "C(PriceLevel)              2.0  600412.583333  300206.291667  14.781913   \n",
      "C(AdLevel)                 1.0      32.666667      32.666667   0.001608   \n",
      "C(PriceLevel):C(AdLevel)   2.0   73850.083333   36925.041667   1.818159   \n",
      "Residual                  18.0  365562.500000   20309.027778        NaN   \n",
      "\n",
      "                            PR(>F)  \n",
      "C(PriceLevel)             0.000159  \n",
      "C(AdLevel)                0.968450  \n",
      "C(PriceLevel):C(AdLevel)  0.190898  \n",
      "Residual                       NaN  \n"
     ]
    }
   ],
   "source": [
    "# anova with interaction\n",
    "# H0: Is there any interaction effect on mean sales?\n",
    "formula = 'Sales ~ C(PriceLevel) + C(AdLevel) + C(PriceLevel):C(AdLevel)'\n",
    "model = ols(formula, df).fit()\n",
    "aov_table = anova_lm(model)\n",
    "print(aov_table)"
   ]
  },
  {
   "cell_type": "code",
   "execution_count": 17,
   "metadata": {},
   "outputs": [
    {
     "data": {
      "text/html": [
       "<div>\n",
       "<style scoped>\n",
       "    .dataframe tbody tr th:only-of-type {\n",
       "        vertical-align: middle;\n",
       "    }\n",
       "\n",
       "    .dataframe tbody tr th {\n",
       "        vertical-align: top;\n",
       "    }\n",
       "\n",
       "    .dataframe thead th {\n",
       "        text-align: right;\n",
       "    }\n",
       "</style>\n",
       "<table border=\"1\" class=\"dataframe\">\n",
       "  <thead>\n",
       "    <tr style=\"text-align: right;\">\n",
       "      <th></th>\n",
       "      <th>df</th>\n",
       "      <th>sum_sq</th>\n",
       "      <th>mean_sq</th>\n",
       "      <th>F</th>\n",
       "      <th>PR(&gt;F)</th>\n",
       "    </tr>\n",
       "  </thead>\n",
       "  <tbody>\n",
       "    <tr>\n",
       "      <th>C(PriceLevel)</th>\n",
       "      <td>2.0</td>\n",
       "      <td>600412.583333</td>\n",
       "      <td>300206.291667</td>\n",
       "      <td>29.483426</td>\n",
       "      <td>0.000003</td>\n",
       "    </tr>\n",
       "    <tr>\n",
       "      <th>C(AdLevel)</th>\n",
       "      <td>1.0</td>\n",
       "      <td>32.666667</td>\n",
       "      <td>32.666667</td>\n",
       "      <td>0.003208</td>\n",
       "      <td>0.955492</td>\n",
       "    </tr>\n",
       "    <tr>\n",
       "      <th>C(PriceLevel):C(AdLevel)</th>\n",
       "      <td>2.0</td>\n",
       "      <td>73850.083333</td>\n",
       "      <td>36925.041667</td>\n",
       "      <td>3.626429</td>\n",
       "      <td>0.048790</td>\n",
       "    </tr>\n",
       "    <tr>\n",
       "      <th>StoreSize</th>\n",
       "      <td>1.0</td>\n",
       "      <td>192465.010526</td>\n",
       "      <td>192465.010526</td>\n",
       "      <td>18.902095</td>\n",
       "      <td>0.000438</td>\n",
       "    </tr>\n",
       "    <tr>\n",
       "      <th>Residual</th>\n",
       "      <td>17.0</td>\n",
       "      <td>173097.489474</td>\n",
       "      <td>10182.205263</td>\n",
       "      <td>NaN</td>\n",
       "      <td>NaN</td>\n",
       "    </tr>\n",
       "  </tbody>\n",
       "</table>\n",
       "</div>"
      ],
      "text/plain": [
       "                            df         sum_sq        mean_sq          F  \\\n",
       "C(PriceLevel)              2.0  600412.583333  300206.291667  29.483426   \n",
       "C(AdLevel)                 1.0      32.666667      32.666667   0.003208   \n",
       "C(PriceLevel):C(AdLevel)   2.0   73850.083333   36925.041667   3.626429   \n",
       "StoreSize                  1.0  192465.010526  192465.010526  18.902095   \n",
       "Residual                  17.0  173097.489474   10182.205263        NaN   \n",
       "\n",
       "                            PR(>F)  \n",
       "C(PriceLevel)             0.000003  \n",
       "C(AdLevel)                0.955492  \n",
       "C(PriceLevel):C(AdLevel)  0.048790  \n",
       "StoreSize                 0.000438  \n",
       "Residual                       NaN  "
      ]
     },
     "execution_count": 17,
     "metadata": {},
     "output_type": "execute_result"
    }
   ],
   "source": [
    "# \n",
    "formula = 'Sales ~ C(PriceLevel) + C(AdLevel) + StoreSize + C(PriceLevel):C(AdLevel)'\n",
    "model = ols(formula, df).fit()\n",
    "aov_table=anova_lm(model, type=2)\n",
    "aov_table\n"
   ]
  },
  {
   "cell_type": "code",
   "execution_count": null,
   "metadata": {},
   "outputs": [],
   "source": []
  }
 ],
 "metadata": {
  "kernelspec": {
   "display_name": "Python 3",
   "language": "python",
   "name": "python3"
  },
  "language_info": {
   "codemirror_mode": {
    "name": "ipython",
    "version": 3
   },
   "file_extension": ".py",
   "mimetype": "text/x-python",
   "name": "python",
   "nbconvert_exporter": "python",
   "pygments_lexer": "ipython3",
   "version": "3.8.5"
  }
 },
 "nbformat": 4,
 "nbformat_minor": 4
}
