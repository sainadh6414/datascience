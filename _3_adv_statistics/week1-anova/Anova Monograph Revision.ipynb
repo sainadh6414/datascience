{
 "cells": [
  {
   "cell_type": "code",
   "execution_count": 23,
   "metadata": {
    "ExecuteTime": {
     "end_time": "2021-03-19T22:58:46.946546Z",
     "start_time": "2021-03-19T22:58:46.750658Z"
    }
   },
   "outputs": [],
   "source": [
    "import pandas as pd\n",
    "import numpy as np\n",
    "import seaborn as sns\n",
    "import matplotlib.pyplot as plt\n",
    "\n",
    "df = pd.read_csv('AOVData.csv')"
   ]
  },
  {
   "cell_type": "code",
   "execution_count": 24,
   "metadata": {
    "ExecuteTime": {
     "end_time": "2021-03-19T22:58:46.976529Z",
     "start_time": "2021-03-19T22:58:46.950544Z"
    }
   },
   "outputs": [
    {
     "data": {
      "text/plain": [
       "(510, 4)"
      ]
     },
     "execution_count": 24,
     "metadata": {},
     "output_type": "execute_result"
    }
   ],
   "source": [
    "df.shape"
   ]
  },
  {
   "cell_type": "code",
   "execution_count": 25,
   "metadata": {
    "ExecuteTime": {
     "end_time": "2021-03-19T22:58:47.087466Z",
     "start_time": "2021-03-19T22:58:46.984524Z"
    }
   },
   "outputs": [
    {
     "data": {
      "text/html": [
       "<div>\n",
       "<style scoped>\n",
       "    .dataframe tbody tr th:only-of-type {\n",
       "        vertical-align: middle;\n",
       "    }\n",
       "\n",
       "    .dataframe tbody tr th {\n",
       "        vertical-align: top;\n",
       "    }\n",
       "\n",
       "    .dataframe thead th {\n",
       "        text-align: right;\n",
       "    }\n",
       "</style>\n",
       "<table border=\"1\" class=\"dataframe\">\n",
       "  <thead>\n",
       "    <tr style=\"text-align: right;\">\n",
       "      <th></th>\n",
       "      <th>Car_ID</th>\n",
       "      <th>manufacturer</th>\n",
       "      <th>fuel_type</th>\n",
       "      <th>co_emissions</th>\n",
       "    </tr>\n",
       "  </thead>\n",
       "  <tbody>\n",
       "    <tr>\n",
       "      <th>0</th>\n",
       "      <td>1</td>\n",
       "      <td>Audi</td>\n",
       "      <td>Petrol</td>\n",
       "      <td>441.55</td>\n",
       "    </tr>\n",
       "    <tr>\n",
       "      <th>1</th>\n",
       "      <td>2</td>\n",
       "      <td>BMW</td>\n",
       "      <td>E85</td>\n",
       "      <td>376.47</td>\n",
       "    </tr>\n",
       "    <tr>\n",
       "      <th>2</th>\n",
       "      <td>3</td>\n",
       "      <td>BMW</td>\n",
       "      <td>E85</td>\n",
       "      <td>414.12</td>\n",
       "    </tr>\n",
       "    <tr>\n",
       "      <th>3</th>\n",
       "      <td>4</td>\n",
       "      <td>BMW</td>\n",
       "      <td>E85</td>\n",
       "      <td>351.41</td>\n",
       "    </tr>\n",
       "    <tr>\n",
       "      <th>4</th>\n",
       "      <td>5</td>\n",
       "      <td>Volvo</td>\n",
       "      <td>E85</td>\n",
       "      <td>284.59</td>\n",
       "    </tr>\n",
       "    <tr>\n",
       "      <th>5</th>\n",
       "      <td>6</td>\n",
       "      <td>Audi</td>\n",
       "      <td>E85</td>\n",
       "      <td>200.18</td>\n",
       "    </tr>\n",
       "    <tr>\n",
       "      <th>6</th>\n",
       "      <td>7</td>\n",
       "      <td>Ford</td>\n",
       "      <td>LPG</td>\n",
       "      <td>479.92</td>\n",
       "    </tr>\n",
       "    <tr>\n",
       "      <th>7</th>\n",
       "      <td>8</td>\n",
       "      <td>Audi</td>\n",
       "      <td>LPG</td>\n",
       "      <td>315.45</td>\n",
       "    </tr>\n",
       "    <tr>\n",
       "      <th>8</th>\n",
       "      <td>9</td>\n",
       "      <td>Audi</td>\n",
       "      <td>E85</td>\n",
       "      <td>347.61</td>\n",
       "    </tr>\n",
       "    <tr>\n",
       "      <th>9</th>\n",
       "      <td>10</td>\n",
       "      <td>Volvo</td>\n",
       "      <td>E85</td>\n",
       "      <td>412.86</td>\n",
       "    </tr>\n",
       "  </tbody>\n",
       "</table>\n",
       "</div>"
      ],
      "text/plain": [
       "   Car_ID manufacturer fuel_type  co_emissions\n",
       "0       1         Audi    Petrol        441.55\n",
       "1       2          BMW       E85        376.47\n",
       "2       3          BMW       E85        414.12\n",
       "3       4          BMW       E85        351.41\n",
       "4       5        Volvo       E85        284.59\n",
       "5       6         Audi       E85        200.18\n",
       "6       7         Ford       LPG        479.92\n",
       "7       8         Audi       LPG        315.45\n",
       "8       9         Audi       E85        347.61\n",
       "9      10        Volvo       E85        412.86"
      ]
     },
     "execution_count": 25,
     "metadata": {},
     "output_type": "execute_result"
    }
   ],
   "source": [
    "df.head(10)"
   ]
  },
  {
   "cell_type": "code",
   "execution_count": 26,
   "metadata": {
    "ExecuteTime": {
     "end_time": "2021-03-19T22:58:47.150429Z",
     "start_time": "2021-03-19T22:58:47.090464Z"
    }
   },
   "outputs": [
    {
     "data": {
      "text/plain": [
       "count    510.000000\n",
       "mean     358.456882\n",
       "std       66.912999\n",
       "min      162.070000\n",
       "25%      312.630000\n",
       "50%      356.190000\n",
       "75%      410.645000\n",
       "max      544.560000\n",
       "Name: co_emissions, dtype: float64"
      ]
     },
     "execution_count": 26,
     "metadata": {},
     "output_type": "execute_result"
    }
   ],
   "source": [
    "df['co_emissions'].describe()"
   ]
  },
  {
   "cell_type": "code",
   "execution_count": 27,
   "metadata": {
    "ExecuteTime": {
     "end_time": "2021-03-19T22:58:47.671130Z",
     "start_time": "2021-03-19T22:58:47.154427Z"
    }
   },
   "outputs": [
    {
     "data": {
      "text/plain": [
       "(array([ 1.,  2.,  4., 12., 14., 26., 37., 57., 53., 64., 57., 39., 48.,\n",
       "        39., 23., 16.,  9.,  3.,  5.]),\n",
       " array([160, 180, 200, 220, 240, 260, 280, 300, 320, 340, 360, 380, 400,\n",
       "        420, 440, 460, 480, 500, 520, 540]),\n",
       " <BarContainer object of 19 artists>)"
      ]
     },
     "execution_count": 27,
     "metadata": {},
     "output_type": "execute_result"
    },
    {
     "data": {
      "image/png": "[encoded data removed]",
      "text/plain": [
       "<Figure size 432x288 with 1 Axes>"
      ]
     },
     "metadata": {
      "needs_background": "light"
     },
     "output_type": "display_data"
    }
   ],
   "source": [
    "bin_edges = np.arange(160, 560, 20)\n",
    "plt.hist(df.co_emissions, bins=bin_edges, density=False, histtype='bar', color='b', edgecolor='k', alpha=0.5)"
   ]
  },
  {
   "cell_type": "code",
   "execution_count": 28,
   "metadata": {
    "ExecuteTime": {
     "end_time": "2021-03-19T22:58:47.955967Z",
     "start_time": "2021-03-19T22:58:47.674129Z"
    }
   },
   "outputs": [
    {
     "name": "stderr",
     "output_type": "stream",
     "text": [
      "C:\\ProgramData\\Anaconda3\\lib\\site-packages\\seaborn\\_decorators.py:36: FutureWarning: Pass the following variable as a keyword arg: x. From version 0.12, the only valid positional argument will be `data`, and passing other arguments without an explicit keyword will result in an error or misinterpretation.\n",
      "  warnings.warn(\n",
      "C:\\ProgramData\\Anaconda3\\lib\\site-packages\\seaborn\\_core.py:1303: UserWarning: Vertical orientation ignored with only `x` specified.\n",
      "  warnings.warn(single_var_warning.format(\"Vertical\", \"x\"))\n"
     ]
    },
    {
     "data": {
      "image/png": "[encoded data removed]",
      "text/plain": [
       "<Figure size 432x288 with 1 Axes>"
      ]
     },
     "metadata": {
      "needs_background": "light"
     },
     "output_type": "display_data"
    }
   ],
   "source": [
    "sns.boxplot(df['co_emissions'], orient='v')\n",
    "plt.show()"
   ]
  },
  {
   "cell_type": "markdown",
   "metadata": {},
   "source": [
    "### Factor1 - Fuel Type"
   ]
  },
  {
   "cell_type": "code",
   "execution_count": 29,
   "metadata": {
    "ExecuteTime": {
     "end_time": "2021-03-19T22:58:47.986950Z",
     "start_time": "2021-03-19T22:58:47.958966Z"
    }
   },
   "outputs": [
    {
     "data": {
      "text/plain": [
       "Petrol    179\n",
       "LPG       170\n",
       "E85       161\n",
       "Name: fuel_type, dtype: int64"
      ]
     },
     "execution_count": 29,
     "metadata": {},
     "output_type": "execute_result"
    }
   ],
   "source": [
    "# Factor1 - Fuel Type\n",
    "\n",
    "df.fuel_type.value_counts()"
   ]
  },
  {
   "cell_type": "code",
   "execution_count": 30,
   "metadata": {
    "ExecuteTime": {
     "end_time": "2021-03-19T22:58:48.034922Z",
     "start_time": "2021-03-19T22:58:47.992948Z"
    }
   },
   "outputs": [
    {
     "data": {
      "text/plain": [
       "fuel_type\n",
       "E85       338.124534\n",
       "LPG       363.744412\n",
       "Petrol    371.722961\n",
       "Name: co_emissions, dtype: float64"
      ]
     },
     "execution_count": 30,
     "metadata": {},
     "output_type": "execute_result"
    }
   ],
   "source": [
    "df.groupby('fuel_type')['co_emissions'].mean()"
   ]
  },
  {
   "cell_type": "markdown",
   "metadata": {},
   "source": [
    "### Factor 2 - Manufacturer"
   ]
  },
  {
   "cell_type": "code",
   "execution_count": 31,
   "metadata": {
    "ExecuteTime": {
     "end_time": "2021-03-19T22:58:48.065914Z",
     "start_time": "2021-03-19T22:58:48.051913Z"
    }
   },
   "outputs": [
    {
     "data": {
      "text/plain": [
       "Audi     142\n",
       "Ford     132\n",
       "Volvo    123\n",
       "BMW      113\n",
       "Name: manufacturer, dtype: int64"
      ]
     },
     "execution_count": 31,
     "metadata": {},
     "output_type": "execute_result"
    }
   ],
   "source": [
    "df.manufacturer.value_counts()"
   ]
  },
  {
   "cell_type": "code",
   "execution_count": 32,
   "metadata": {
    "ExecuteTime": {
     "end_time": "2021-03-19T22:58:48.098899Z",
     "start_time": "2021-03-19T22:58:48.068902Z"
    }
   },
   "outputs": [
    {
     "data": {
      "text/plain": [
       "manufacturer\n",
       "Audi     349.727254\n",
       "BMW      377.538761\n",
       "Ford     365.078561\n",
       "Volvo    343.898293\n",
       "Name: co_emissions, dtype: float64"
      ]
     },
     "execution_count": 32,
     "metadata": {},
     "output_type": "execute_result"
    }
   ],
   "source": [
    "df.groupby('manufacturer')['co_emissions'].mean()"
   ]
  },
  {
   "cell_type": "markdown",
   "metadata": {},
   "source": [
    "## Problem 1: Is there any dependency on 'co_emissions' due to 'fuel_type'"
   ]
  },
  {
   "cell_type": "code",
   "execution_count": 33,
   "metadata": {
    "ExecuteTime": {
     "end_time": "2021-03-19T22:58:48.113883Z",
     "start_time": "2021-03-19T22:58:48.103883Z"
    }
   },
   "outputs": [],
   "source": [
    "# Null Hyp: Emissions from one fuel type == Other fuel type\n",
    "# Ho = mu1 = mu2 = mu3\n",
    "# Ha = alteast one carbon emission level is different from others"
   ]
  },
  {
   "cell_type": "code",
   "execution_count": 34,
   "metadata": {
    "ExecuteTime": {
     "end_time": "2021-03-19T22:58:48.600599Z",
     "start_time": "2021-03-19T22:58:48.116875Z"
    }
   },
   "outputs": [
    {
     "data": {
      "image/png": "[encoded data removed]",
      "text/plain": [
       "<Figure size 504x504 with 1 Axes>"
      ]
     },
     "metadata": {
      "needs_background": "light"
     },
     "output_type": "display_data"
    }
   ],
   "source": [
    "fig, ax = plt.subplots(figsize=(7,7))\n",
    "a = sns.boxplot(x='fuel_type', y='co_emissions', data=df, hue='fuel_type')\n",
    "a.set_title('Carbon Emission w.r.t Fuel type (3 levels)', fontsize=15)\n",
    "plt.show()"
   ]
  },
  {
   "cell_type": "code",
   "execution_count": 35,
   "metadata": {
    "ExecuteTime": {
     "end_time": "2021-03-19T22:58:48.632590Z",
     "start_time": "2021-03-19T22:58:48.603596Z"
    }
   },
   "outputs": [
    {
     "name": "stdout",
     "output_type": "stream",
     "text": [
      "W value: 0.9970714449882507  P Value  0.49723097681999207\n"
     ]
    }
   ],
   "source": [
    "# Assumption1: Normality\n",
    "# For testing of normality, Shapiro-Wilks test is applied to the response\n",
    "\n",
    "# Ho: Carbon emission follows a normal distribution\n",
    "# Ha: Carbon emission does not follow a normal distribution\n",
    "\n",
    "from scipy import stats\n",
    "\n",
    "w, p_value = stats.shapiro(df['co_emissions'])\n",
    "print('W value:', w, ' P Value ',p_value)\n",
    "\n",
    "# P value is greater than 0.49 and we fail to reject null hyp\n",
    "# We accept null hypothesis"
   ]
  },
  {
   "cell_type": "code",
   "execution_count": 44,
   "metadata": {
    "ExecuteTime": {
     "end_time": "2021-03-19T22:59:01.671100Z",
     "start_time": "2021-03-19T22:59:01.651111Z"
    }
   },
   "outputs": [
    {
     "name": "stdout",
     "output_type": "stream",
     "text": [
      "0      441.55\n",
      "17     479.15\n",
      "19     544.56\n",
      "24     331.37\n",
      "30     334.48\n",
      "        ...  \n",
      "501    487.88\n",
      "503    420.66\n",
      "505    348.62\n",
      "506    348.42\n",
      "507    330.01\n",
      "Name: co_emissions, Length: 179, dtype: float64\n",
      "statistic:  1.6432552897712633  p_value:  0.19437768490117\n"
     ]
    }
   ],
   "source": [
    "# Assumption 2: Homogenity of Variance\n",
    "\n",
    "print(df['co_emissions'][df.fuel_type == 'Petrol'])\n",
    "\n",
    "statistic, p_value = stats.levene(\n",
    "    df['co_emissions'][df.fuel_type == 'Petrol'],\n",
    "    df['co_emissions'][df.fuel_type == 'E85'],\n",
    "    df['co_emissions'][df.fuel_type == 'LPG'])\n",
    "print('statistic: ', statistic, ' p_value: ', p_value)\n",
    "\n",
    "# P value is large, we fail to reject null hypothesis"
   ]
  },
  {
   "cell_type": "code",
   "execution_count": 37,
   "metadata": {
    "ExecuteTime": {
     "end_time": "2021-03-19T22:58:48.757507Z",
     "start_time": "2021-03-19T22:58:48.685551Z"
    }
   },
   "outputs": [
    {
     "name": "stdout",
     "output_type": "stream",
     "text": [
      "              df        sum_sq       mean_sq          F    PR(>F)\n",
      "fuel_type    2.0  1.028130e+05  51406.481215  11.976652  0.000008\n",
      "Residual   507.0  2.176158e+06   4292.224647        NaN       NaN\n"
     ]
    }
   ],
   "source": [
    "# Once 2 assumptions of One-Way ANOVA are statisfied, we can now compare population means\n",
    "from statsmodels.formula.api import ols\n",
    "from statsmodels.stats.anova import _get_covariance, anova_lm\n",
    "\n",
    "formula = 'co_emissions ~ fuel_type'\n",
    "mod = ols(formula, data=df).fit()\n",
    "anovatbl = anova_lm(mod, type=1)\n",
    "print(anovatbl)"
   ]
  },
  {
   "cell_type": "code",
   "execution_count": 38,
   "metadata": {
    "ExecuteTime": {
     "end_time": "2021-03-19T22:58:49.496084Z",
     "start_time": "2021-03-19T22:58:48.761506Z"
    }
   },
   "outputs": [
    {
     "name": "stderr",
     "output_type": "stream",
     "text": [
      "C:\\ProgramData\\Anaconda3\\lib\\site-packages\\seaborn\\_decorators.py:36: FutureWarning: Pass the following variables as keyword args: x, y. From version 0.12, the only valid positional argument will be `data`, and passing other arguments without an explicit keyword will result in an error or misinterpretation.\n",
      "  warnings.warn(\n"
     ]
    },
    {
     "data": {
      "text/plain": [
       "Text(0, 0.5, 'Residuals')"
      ]
     },
     "execution_count": 38,
     "metadata": {},
     "output_type": "execute_result"
    },
    {
     "data": {
      "image/png": "[encoded data removed]",
      "text/plain": [
       "<Figure size 432x288 with 1 Axes>"
      ]
     },
     "metadata": {
      "needs_background": "light"
     },
     "output_type": "display_data"
    }
   ],
   "source": [
    "# model values\n",
    "model_fitted_y = mod.fittedvalues\n",
    "\n",
    "# model residuals\n",
    "model_residuals = mod.resid\n",
    "\n",
    "# normalized residuals\n",
    "model_norm_residuals = mod.get_influence().resid_studentized_internal\n",
    "\n",
    "# absolute squared normalized residuals\n",
    "model_norm_residuals_abs_sqrt = np.sqrt(np.abs(model_norm_residuals))\n",
    "\n",
    "# absolute residuals\n",
    "model_abs_resid = np.abs(model_residuals)\n",
    "\n",
    "# leverage, from statsmodels internals\n",
    "model_leverage = mod.get_influence().hat_matrix_diag\n",
    "\n",
    "# cook's distance, from statsmodels internals\n",
    "model_cooks = mod.get_influence().cooks_distance[0]\n",
    "\n",
    "plot_lm_1 = plt.figure()\n",
    "plot_lm_1.axes[0] = sns.residplot(model_fitted_y, 'co_emissions', data=df, lowess=True, scatter_kws={'alpha': 0.5}, line_kws={'color': 'red', 'lw': 1, 'alpha': 0.8})\n",
    "plot_lm_1.axes[0].set_title('Residuals vs Fitted')\n",
    "plot_lm_1.axes[0].set_xlabel('Fitted values')\n",
    "plot_lm_1.axes[0].set_ylabel('Residuals')"
   ]
  },
  {
   "cell_type": "code",
   "execution_count": 39,
   "metadata": {
    "ExecuteTime": {
     "end_time": "2021-03-19T22:58:49.558048Z",
     "start_time": "2021-03-19T22:58:49.501080Z"
    }
   },
   "outputs": [
    {
     "name": "stdout",
     "output_type": "stream",
     "text": [
      "                 df        sum_sq       mean_sq        F    PR(>F)\n",
      "manufacturer    3.0  8.382457e+04  27941.524040  6.44076  0.000276\n",
      "Residual      506.0  2.195146e+06   4338.233767      NaN       NaN\n"
     ]
    }
   ],
   "source": [
    "# apply oneway anova for manufacturer\n",
    "\n",
    "formula = 'co_emissions ~ manufacturer'\n",
    "mod = ols(formula, data=df).fit()\n",
    "aov_tbl = anova_lm(mod, type=1)\n",
    "print(aov_tbl)\n",
    "# We reject the null hypothesis as the p value is smaller"
   ]
  },
  {
   "cell_type": "code",
   "execution_count": 40,
   "metadata": {
    "ExecuteTime": {
     "end_time": "2021-03-19T22:58:49.665985Z",
     "start_time": "2021-03-19T22:58:49.561047Z"
    }
   },
   "outputs": [
    {
     "name": "stdout",
     "output_type": "stream",
     "text": [
      "Multiple Comparison of Means - Tukey HSD, FWER=0.05 \n",
      "====================================================\n",
      "group1 group2 meandiff p-adj   lower   upper  reject\n",
      "----------------------------------------------------\n",
      "   E85    LPG  25.6199 0.0012  8.6837  42.556   True\n",
      "   E85 Petrol  33.5984  0.001 16.8707 50.3262   True\n",
      "   LPG Petrol   7.9785 0.4931 -8.5144 24.4715  False\n",
      "----------------------------------------------------\n"
     ]
    }
   ],
   "source": [
    "# Multiple mean comparison tests for Fuel Type\n",
    "# Posthoc test: Tukey Test\n",
    "from statsmodels.sandbox.stats.multicomp import MultiComparison\n",
    "\n",
    "multicomp = MultiComparison(df.co_emissions, df.fuel_type)\n",
    "print(multicomp.tukeyhsd().summary())"
   ]
  },
  {
   "cell_type": "code",
   "execution_count": 41,
   "metadata": {
    "ExecuteTime": {
     "end_time": "2021-03-19T22:58:49.774923Z",
     "start_time": "2021-03-19T22:58:49.668986Z"
    }
   },
   "outputs": [],
   "source": [
    "results = multicomp.tukeyhsd()\n",
    "rdf = results.summary()\n",
    "results_as_html = rdf.as_html()\n"
   ]
  },
  {
   "cell_type": "code",
   "execution_count": 42,
   "metadata": {
    "ExecuteTime": {
     "end_time": "2021-03-19T22:58:49.945826Z",
     "start_time": "2021-03-19T22:58:49.776922Z"
    }
   },
   "outputs": [
    {
     "name": "stdout",
     "output_type": "stream",
     "text": [
      " Multiple Comparison of Means - Tukey HSD, FWER=0.05  \n",
      "======================================================\n",
      "group1 group2 meandiff p-adj   lower    upper   reject\n",
      "------------------------------------------------------\n",
      "  Audi    BMW  27.8115 0.0048   6.4089  49.2141   True\n",
      "  Audi   Ford  15.3513 0.2178  -5.1756  35.8782  False\n",
      "  Audi  Volvo   -5.829  0.882 -26.7415  15.0835  False\n",
      "   BMW   Ford -12.4602 0.4541 -34.2191   9.2987  False\n",
      "   BMW  Volvo -33.6405  0.001 -55.7635 -11.5175   True\n",
      "  Ford  Volvo -21.1803 0.0516 -42.4573   0.0967  False\n",
      "------------------------------------------------------\n"
     ]
    }
   ],
   "source": [
    "multicomp = MultiComparison(df.co_emissions, df.manufacturer)\n",
    "print(multicomp.tukeyhsd().summary())"
   ]
  },
  {
   "cell_type": "code",
   "execution_count": 43,
   "metadata": {
    "ExecuteTime": {
     "end_time": "2021-03-19T22:58:49.961816Z",
     "start_time": "2021-03-19T22:58:49.949823Z"
    }
   },
   "outputs": [
    {
     "data": {
      "text/plain": [
       "'0.11.0'"
      ]
     },
     "execution_count": 43,
     "metadata": {},
     "output_type": "execute_result"
    }
   ],
   "source": [
    "sns.__version__"
   ]
  },
  {
   "cell_type": "code",
   "execution_count": null,
   "metadata": {},
   "outputs": [],
   "source": []
  }
 ],
 "metadata": {
  "kernelspec": {
   "display_name": "Python 3",
   "language": "python",
   "name": "python3"
  },
  "language_info": {
   "codemirror_mode": {
    "name": "ipython",
    "version": 3
   },
   "file_extension": ".py",
   "mimetype": "text/x-python",
   "name": "python",
   "nbconvert_exporter": "python",
   "pygments_lexer": "ipython3",
   "version": "3.8.5"
  },
  "toc": {
   "base_numbering": 1,
   "nav_menu": {},
   "number_sections": true,
   "sideBar": true,
   "skip_h1_title": false,
   "title_cell": "Table of Contents",
   "title_sidebar": "Contents",
   "toc_cell": false,
   "toc_position": {},
   "toc_section_display": true,
   "toc_window_display": false
  }
 },
 "nbformat": 4,
 "nbformat_minor": 4
}
