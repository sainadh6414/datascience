{
 "cells": [
  {
   "cell_type": "code",
   "execution_count": 203,
   "metadata": {
    "ExecuteTime": {
     "end_time": "2021-03-20T15:40:17.707335Z",
     "start_time": "2021-03-20T15:40:17.575410Z"
    }
   },
   "outputs": [],
   "source": [
    "import pandas as pd\n",
    "import numpy as np\n",
    "import seaborn as sns\n",
    "import os\n",
    "import matplotlib.pyplot as plt\n",
    "%matplotlib inline"
   ]
  },
  {
   "cell_type": "markdown",
   "metadata": {},
   "source": [
    "# Problem 1\n",
    "Salary is hypothesized to depend on educational qualification and occupation. To understand the dependency, the salaries of 40 individuals [SalaryData.csv] are collected and each person’s educational qualification and occupation are noted. Educational qualification is at three levels, High school graduate, Bachelor, and Doctorate. Occupation is at four levels, Administrative and clerical, Sales, Professional or specialty, and Executive or managerial. A different number of observations are in each level of education – occupation combination.\n",
    " [Assume that the data follows a normal distribution. In reality, the normality assumption may not always hold if the sample size is small.]\n"
   ]
  },
  {
   "cell_type": "code",
   "execution_count": 204,
   "metadata": {
    "ExecuteTime": {
     "end_time": "2021-03-20T15:40:17.799281Z",
     "start_time": "2021-03-20T15:40:17.715329Z"
    }
   },
   "outputs": [],
   "source": [
    "df = pd.read_csv('./SalaryData.csv')"
   ]
  },
  {
   "cell_type": "code",
   "execution_count": 205,
   "metadata": {
    "ExecuteTime": {
     "end_time": "2021-03-20T15:40:17.815274Z",
     "start_time": "2021-03-20T15:40:17.804279Z"
    }
   },
   "outputs": [
    {
     "data": {
      "text/plain": [
       "(40, 3)"
      ]
     },
     "execution_count": 205,
     "metadata": {},
     "output_type": "execute_result"
    }
   ],
   "source": [
    "df.shape\n",
    "\n",
    "# We have 40 rows and 3 columns with no null values."
   ]
  },
  {
   "cell_type": "code",
   "execution_count": 206,
   "metadata": {
    "ExecuteTime": {
     "end_time": "2021-03-20T15:40:17.877237Z",
     "start_time": "2021-03-20T15:40:17.819271Z"
    }
   },
   "outputs": [
    {
     "data": {
      "text/html": [
       "<div>\n",
       "<style scoped>\n",
       "    .dataframe tbody tr th:only-of-type {\n",
       "        vertical-align: middle;\n",
       "    }\n",
       "\n",
       "    .dataframe tbody tr th {\n",
       "        vertical-align: top;\n",
       "    }\n",
       "\n",
       "    .dataframe thead th {\n",
       "        text-align: right;\n",
       "    }\n",
       "</style>\n",
       "<table border=\"1\" class=\"dataframe\">\n",
       "  <thead>\n",
       "    <tr style=\"text-align: right;\">\n",
       "      <th></th>\n",
       "      <th>Education</th>\n",
       "      <th>Occupation</th>\n",
       "      <th>Salary</th>\n",
       "    </tr>\n",
       "  </thead>\n",
       "  <tbody>\n",
       "    <tr>\n",
       "      <th>0</th>\n",
       "      <td>Doctorate</td>\n",
       "      <td>Adm-clerical</td>\n",
       "      <td>153197</td>\n",
       "    </tr>\n",
       "    <tr>\n",
       "      <th>1</th>\n",
       "      <td>Doctorate</td>\n",
       "      <td>Adm-clerical</td>\n",
       "      <td>115945</td>\n",
       "    </tr>\n",
       "    <tr>\n",
       "      <th>2</th>\n",
       "      <td>Doctorate</td>\n",
       "      <td>Adm-clerical</td>\n",
       "      <td>175935</td>\n",
       "    </tr>\n",
       "    <tr>\n",
       "      <th>3</th>\n",
       "      <td>Doctorate</td>\n",
       "      <td>Adm-clerical</td>\n",
       "      <td>220754</td>\n",
       "    </tr>\n",
       "    <tr>\n",
       "      <th>4</th>\n",
       "      <td>Doctorate</td>\n",
       "      <td>Sales</td>\n",
       "      <td>170769</td>\n",
       "    </tr>\n",
       "    <tr>\n",
       "      <th>5</th>\n",
       "      <td>Doctorate</td>\n",
       "      <td>Sales</td>\n",
       "      <td>219420</td>\n",
       "    </tr>\n",
       "    <tr>\n",
       "      <th>6</th>\n",
       "      <td>Doctorate</td>\n",
       "      <td>Sales</td>\n",
       "      <td>237920</td>\n",
       "    </tr>\n",
       "    <tr>\n",
       "      <th>7</th>\n",
       "      <td>Doctorate</td>\n",
       "      <td>Sales</td>\n",
       "      <td>160540</td>\n",
       "    </tr>\n",
       "    <tr>\n",
       "      <th>8</th>\n",
       "      <td>Doctorate</td>\n",
       "      <td>Sales</td>\n",
       "      <td>180934</td>\n",
       "    </tr>\n",
       "    <tr>\n",
       "      <th>9</th>\n",
       "      <td>Doctorate</td>\n",
       "      <td>Prof-specialty</td>\n",
       "      <td>248156</td>\n",
       "    </tr>\n",
       "  </tbody>\n",
       "</table>\n",
       "</div>"
      ],
      "text/plain": [
       "    Education       Occupation  Salary\n",
       "0   Doctorate     Adm-clerical  153197\n",
       "1   Doctorate     Adm-clerical  115945\n",
       "2   Doctorate     Adm-clerical  175935\n",
       "3   Doctorate     Adm-clerical  220754\n",
       "4   Doctorate            Sales  170769\n",
       "5   Doctorate            Sales  219420\n",
       "6   Doctorate            Sales  237920\n",
       "7   Doctorate            Sales  160540\n",
       "8   Doctorate            Sales  180934\n",
       "9   Doctorate   Prof-specialty  248156"
      ]
     },
     "execution_count": 206,
     "metadata": {},
     "output_type": "execute_result"
    }
   ],
   "source": [
    "df.head(10)"
   ]
  },
  {
   "cell_type": "code",
   "execution_count": 207,
   "metadata": {
    "ExecuteTime": {
     "end_time": "2021-03-20T15:40:17.956191Z",
     "start_time": "2021-03-20T15:40:17.881235Z"
    }
   },
   "outputs": [
    {
     "data": {
      "text/html": [
       "<div>\n",
       "<style scoped>\n",
       "    .dataframe tbody tr th:only-of-type {\n",
       "        vertical-align: middle;\n",
       "    }\n",
       "\n",
       "    .dataframe tbody tr th {\n",
       "        vertical-align: top;\n",
       "    }\n",
       "\n",
       "    .dataframe thead th {\n",
       "        text-align: right;\n",
       "    }\n",
       "</style>\n",
       "<table border=\"1\" class=\"dataframe\">\n",
       "  <thead>\n",
       "    <tr style=\"text-align: right;\">\n",
       "      <th></th>\n",
       "      <th>count</th>\n",
       "      <th>mean</th>\n",
       "      <th>std</th>\n",
       "      <th>min</th>\n",
       "      <th>25%</th>\n",
       "      <th>50%</th>\n",
       "      <th>75%</th>\n",
       "      <th>max</th>\n",
       "    </tr>\n",
       "  </thead>\n",
       "  <tbody>\n",
       "    <tr>\n",
       "      <th>Salary</th>\n",
       "      <td>40.0</td>\n",
       "      <td>162186.875</td>\n",
       "      <td>64860.407506</td>\n",
       "      <td>50103.0</td>\n",
       "      <td>99897.5</td>\n",
       "      <td>169100.0</td>\n",
       "      <td>214440.75</td>\n",
       "      <td>260151.0</td>\n",
       "    </tr>\n",
       "  </tbody>\n",
       "</table>\n",
       "</div>"
      ],
      "text/plain": [
       "        count        mean           std      min      25%       50%  \\\n",
       "Salary   40.0  162186.875  64860.407506  50103.0  99897.5  169100.0   \n",
       "\n",
       "              75%       max  \n",
       "Salary  214440.75  260151.0  "
      ]
     },
     "execution_count": 207,
     "metadata": {},
     "output_type": "execute_result"
    }
   ],
   "source": [
    "# Summary of the reponse variable: Salary\n",
    "df.describe().T"
   ]
  },
  {
   "cell_type": "code",
   "execution_count": 208,
   "metadata": {
    "ExecuteTime": {
     "end_time": "2021-03-20T15:40:18.535863Z",
     "start_time": "2021-03-20T15:40:17.960189Z"
    }
   },
   "outputs": [
    {
     "data": {
      "image/png": "[encoded data removed]",
      "text/plain": [
       "<Figure size 432x288 with 1 Axes>"
      ]
     },
     "metadata": {
      "needs_background": "light"
     },
     "output_type": "display_data"
    }
   ],
   "source": [
    "# Preliminary analysis of Response Variable Salary:\n",
    "\n",
    "# Mean and the Median seem to be near.\n",
    "# The 25%, 50% and 75% indicate that the Response variable 'Salary' could be Normally-Distributed.\n",
    "# Pictorial and data analysis will be performed in the below sections.\n",
    "\n",
    "# Histogram to show the distribution of the Salary\n",
    "sns.histplot(data=df, x='Salary', kde=True, bins=10)\n",
    "plt.show()\n",
    "\n",
    "# Pictorially the Salary variable seems to have a near to normal distribution.\n",
    "# Minimum and Maximum values can be visualized along with the mean and median."
   ]
  },
  {
   "cell_type": "code",
   "execution_count": 209,
   "metadata": {
    "ExecuteTime": {
     "end_time": "2021-03-20T15:40:18.819697Z",
     "start_time": "2021-03-20T15:40:18.542855Z"
    },
    "scrolled": true
   },
   "outputs": [
    {
     "name": "stderr",
     "output_type": "stream",
     "text": [
      "C:\\ProgramData\\Anaconda3\\lib\\site-packages\\seaborn\\_decorators.py:36: FutureWarning: Pass the following variable as a keyword arg: x. From version 0.12, the only valid positional argument will be `data`, and passing other arguments without an explicit keyword will result in an error or misinterpretation.\n",
      "  warnings.warn(\n"
     ]
    },
    {
     "data": {
      "image/png": "[encoded data removed]",
      "text/plain": [
       "<Figure size 432x288 with 1 Axes>"
      ]
     },
     "metadata": {
      "needs_background": "light"
     },
     "output_type": "display_data"
    }
   ],
   "source": [
    "# Identify outliers\n",
    "\n",
    "sns.boxplot(df.Salary)\n",
    "plt.show()\n",
    "\n",
    "# No outliers exist for Salary variable, data seems to be clean enough to proceed."
   ]
  },
  {
   "cell_type": "code",
   "execution_count": 210,
   "metadata": {
    "ExecuteTime": {
     "end_time": "2021-03-20T15:40:18.850678Z",
     "start_time": "2021-03-20T15:40:18.823694Z"
    }
   },
   "outputs": [
    {
     "name": "stdout",
     "output_type": "stream",
     "text": [
      "<class 'pandas.core.frame.DataFrame'>\n",
      "RangeIndex: 40 entries, 0 to 39\n",
      "Data columns (total 3 columns):\n",
      " #   Column      Non-Null Count  Dtype \n",
      "---  ------      --------------  ----- \n",
      " 0   Education   40 non-null     object\n",
      " 1   Occupation  40 non-null     object\n",
      " 2   Salary      40 non-null     int64 \n",
      "dtypes: int64(1), object(2)\n",
      "memory usage: 1.1+ KB\n"
     ]
    }
   ],
   "source": [
    "df.info()\n",
    "\n",
    "# Dataframe information:\n",
    "# Columns: Education and Occupation are of Object type, we can infer them to be Categorical\n",
    "# Column;Salary is of type numeric."
   ]
  },
  {
   "cell_type": "markdown",
   "metadata": {},
   "source": [
    "**Factor1: Occupation**"
   ]
  },
  {
   "cell_type": "code",
   "execution_count": 211,
   "metadata": {
    "ExecuteTime": {
     "end_time": "2021-03-20T15:40:18.882660Z",
     "start_time": "2021-03-20T15:40:18.864670Z"
    }
   },
   "outputs": [
    {
     "data": {
      "text/plain": [
       " Prof-specialty     13\n",
       " Sales              12\n",
       " Adm-clerical       10\n",
       " Exec-managerial     5\n",
       "Name: Occupation, dtype: int64"
      ]
     },
     "execution_count": 211,
     "metadata": {},
     "output_type": "execute_result"
    }
   ],
   "source": [
    "df.Occupation.value_counts()\n",
    "\n",
    "# Occupation Levels:\n",
    "# 13 people have Occupation Prof-Speciality \n",
    "# 12 people have Occupation Sales\n",
    "# 10 people have Occupation Adm-clerical\n",
    "# 5 people have Occupation Exec-managerial\n",
    "\n",
    "# Multiple Levels for Occupation:\n",
    "# It was identified above that we have 4 Levels of Occupation."
   ]
  },
  {
   "cell_type": "code",
   "execution_count": 212,
   "metadata": {
    "ExecuteTime": {
     "end_time": "2021-03-20T15:40:18.913641Z",
     "start_time": "2021-03-20T15:40:18.887657Z"
    }
   },
   "outputs": [
    {
     "data": {
      "text/plain": [
       "Occupation\n",
       " Adm-clerical       141424.300000\n",
       " Exec-managerial    197117.600000\n",
       " Prof-specialty     168953.153846\n",
       " Sales              157604.416667\n",
       "Name: Salary, dtype: float64"
      ]
     },
     "execution_count": 212,
     "metadata": {},
     "output_type": "execute_result"
    }
   ],
   "source": [
    "# Identify Salary pattern for the variable Occupation\n",
    "df.groupby('Occupation')['Salary'].mean()\n",
    "\n",
    "# Means were different with Exec-Managerial with a higher Salary value stating that the people with this,\n",
    "# Occupation seem to earn better and Occupation Sales seem to earn less."
   ]
  },
  {
   "cell_type": "markdown",
   "metadata": {},
   "source": [
    "**Factor2: Education**"
   ]
  },
  {
   "cell_type": "code",
   "execution_count": 213,
   "metadata": {
    "ExecuteTime": {
     "end_time": "2021-03-20T15:40:18.929633Z",
     "start_time": "2021-03-20T15:40:18.916640Z"
    }
   },
   "outputs": [
    {
     "data": {
      "text/plain": [
       " Doctorate    16\n",
       " Bachelors    15\n",
       " HS-grad       9\n",
       "Name: Education, dtype: int64"
      ]
     },
     "execution_count": 213,
     "metadata": {},
     "output_type": "execute_result"
    }
   ],
   "source": [
    "df.Education.value_counts()\n",
    "\n",
    "# Education Levels:\n",
    "# 16 people were Doctorate\n",
    "# 15 people were Bachelors\n",
    "# 9 people were HS-Grad\n",
    "\n",
    "# Multiple Levels for X2 i.e. Education:\n",
    "# It was identified above that we have 3 Levels of Education."
   ]
  },
  {
   "cell_type": "code",
   "execution_count": 214,
   "metadata": {
    "ExecuteTime": {
     "end_time": "2021-03-20T15:40:18.945622Z",
     "start_time": "2021-03-20T15:40:18.932632Z"
    }
   },
   "outputs": [
    {
     "data": {
      "text/plain": [
       "Education\n",
       " Bachelors    165152.933333\n",
       " Doctorate    208427.000000\n",
       " HS-grad       75038.777778\n",
       "Name: Salary, dtype: float64"
      ]
     },
     "execution_count": 214,
     "metadata": {},
     "output_type": "execute_result"
    }
   ],
   "source": [
    "# Identify Salary pattern for the variable Education\n",
    "df.groupby('Education')['Salary'].mean()\n",
    "\n",
    "# Means were different with Doctorate with a higher Salary value stating that the people with this,\n",
    "# Education seem to earn better and Education HS-Grad seem to earn less."
   ]
  },
  {
   "cell_type": "code",
   "execution_count": 215,
   "metadata": {
    "ExecuteTime": {
     "end_time": "2021-03-20T15:40:19.590254Z",
     "start_time": "2021-03-20T15:40:18.948623Z"
    }
   },
   "outputs": [
    {
     "data": {
      "image/png": "[encoded data removed]",
      "text/plain": [
       "<Figure size 720x720 with 1 Axes>"
      ]
     },
     "metadata": {
      "needs_background": "light"
     },
     "output_type": "display_data"
    }
   ],
   "source": [
    "# Visual comparison of means for Occupation\n",
    "fig, ax = plt.subplots(figsize=(10, 10))\n",
    "a = sns.boxplot(x='Occupation', y='Salary', data=df, hue='Occupation')\n",
    "a.set_title('Salary w.r.t Occupation (4 levels)', fontsize=16)\n",
    "plt.show()\n",
    "\n",
    "# Sales seem to have hight salary and a better median.\n",
    "# Prof-Speciality has wide spread of people with different salaries and it seem to be right skewed."
   ]
  },
  {
   "cell_type": "code",
   "execution_count": 216,
   "metadata": {
    "ExecuteTime": {
     "end_time": "2021-03-20T15:40:20.075975Z",
     "start_time": "2021-03-20T15:40:19.593253Z"
    }
   },
   "outputs": [
    {
     "data": {
      "image/png": "[encoded data removed]",
      "text/plain": [
       "<Figure size 720x720 with 1 Axes>"
      ]
     },
     "metadata": {
      "needs_background": "light"
     },
     "output_type": "display_data"
    }
   ],
   "source": [
    "# Visual comparison of means for Education\n",
    "fig, ax = plt.subplots(figsize=(10, 10))\n",
    "a = sns.boxplot(x='Education', y='Salary', data=df, hue='Education')\n",
    "a.set_title('Salary w.r.t Education (3 levels)', fontsize=16)\n",
    "plt.show()\n",
    "\n",
    "# Bachelors education has nice spread of Salaries.\n",
    "# Doctorate seems to have most of the data on it's left, suggesting left skewness."
   ]
  },
  {
   "cell_type": "markdown",
   "metadata": {},
   "source": [
    "## Hypothesis derivation for Occupation\n",
    "\n",
    "***Is there is any dependency on Salary due to Occupation?***\n",
    "\n",
    "**We need to test the hypothesis; Does Salary gets impacted due to 4 Occupation levels**\n",
    "\n",
    "**Null Hypothesis**\n",
    "\n",
    "*Ho: mU1 = mU2 = mU3 = mU4*\n",
    "\n",
    "**Alternate Hypothesis**\n",
    "\n",
    "*Ha: At lease one Occupation's mean is different from the other*\n",
    "\n"
   ]
  },
  {
   "cell_type": "markdown",
   "metadata": {},
   "source": [
    "## Hypothesis derivation for Education\n",
    "\n",
    "***Is there is any dependency on Salary due to Education?***\n",
    "\n",
    "**We need to test the hypothesis; Does Salary gets impacted due to 3 Education levels**\n",
    "\n",
    "**Null Hypothesis**\n",
    "\n",
    "*Ho: mU1 = mU2 = mU3*\n",
    "\n",
    "**Alternate Hypothesis**\n",
    "\n",
    "*Ha: At lease one Education's mean is different from the other*"
   ]
  },
  {
   "cell_type": "markdown",
   "metadata": {},
   "source": [
    "## One-Way Anova for Education with respect to Response Varaible Salary"
   ]
  },
  {
   "cell_type": "code",
   "execution_count": 217,
   "metadata": {
    "ExecuteTime": {
     "end_time": "2021-03-20T15:40:20.091968Z",
     "start_time": "2021-03-20T15:40:20.078973Z"
    }
   },
   "outputs": [
    {
     "name": "stdout",
     "output_type": "stream",
     "text": [
      "W =  0.9401417970657349  P Value  0.03496258333325386\n"
     ]
    }
   ],
   "source": [
    "# Test for Normality: Shapiro-Wilks Test\n",
    "\n",
    "# Assumption1: Normality\n",
    "# Ho: Salary follows a normal distribution.\n",
    "# Ha: Salary does not follow a normal distribution.\n",
    "\n",
    "from scipy import stats\n",
    "\n",
    "w, pvalue = stats.shapiro(df.Salary)\n",
    "print('W = ', w, ' P Value ', pvalue)\n",
    "\n",
    "# As p value is less, we reject the null hypothesis of normality, however, \n",
    "# it's said in the Problem statement to assume that the data to follow normal distribution we go ahead wit the Anova."
   ]
  },
  {
   "cell_type": "code",
   "execution_count": 218,
   "metadata": {
    "ExecuteTime": {
     "end_time": "2021-03-20T15:40:20.138938Z",
     "start_time": "2021-03-20T15:40:20.094965Z"
    }
   },
   "outputs": [
    {
     "name": "stdout",
     "output_type": "stream",
     "text": [
      "Statistic:  nan pvalue:  nan\n"
     ]
    },
    {
     "name": "stderr",
     "output_type": "stream",
     "text": [
      "C:\\ProgramData\\Anaconda3\\lib\\site-packages\\numpy\\core\\fromnumeric.py:3372: RuntimeWarning: Mean of empty slice.\n",
      "  return _methods._mean(a, axis=axis, dtype=dtype,\n",
      "C:\\ProgramData\\Anaconda3\\lib\\site-packages\\numpy\\core\\_methods.py:170: RuntimeWarning: invalid value encountered in double_scalars\n",
      "  ret = ret.dtype.type(ret / rcount)\n"
     ]
    }
   ],
   "source": [
    "# Assumption2: Homogenity of Variance\n",
    "\n",
    "statistic, pvalue = stats.levene(df['Salary'][df['Education'] == 'Doctorate'],\n",
    "                                df['Salary'][df['Education'] == 'Bachelors'],\n",
    "                                df['Salary'][df['Education'] == 'HS-grad'])\n",
    "print('Statistic: ', statistic, 'pvalue: ', pvalue)\n",
    "\n",
    "# Seems to have a data issue returns nan and df['Education'] == 'Doctorate' is always empty.\n",
    "# Going ahead with Anova anyways"
   ]
  },
  {
   "cell_type": "code",
   "execution_count": 219,
   "metadata": {
    "ExecuteTime": {
     "end_time": "2021-03-20T15:40:20.279858Z",
     "start_time": "2021-03-20T15:40:20.141938Z"
    }
   },
   "outputs": [
    {
     "name": "stdout",
     "output_type": "stream",
     "text": [
      "             df        sum_sq       mean_sq         F        PR(>F)\n",
      "Education   2.0  1.026955e+11  5.134773e+10  30.95628  1.257709e-08\n",
      "Residual   37.0  6.137256e+10  1.658718e+09       NaN           NaN\n"
     ]
    }
   ],
   "source": [
    "# Apply One-Way Anova for Education\n",
    "from statsmodels.formula.api import ols\n",
    "from statsmodels.stats.anova import _get_covariance, anova_lm\n",
    "\n",
    "formula = 'Salary ~ Education'\n",
    "mod = ols(formula, data=df).fit()\n",
    "anovatbl = anova_lm(mod, type=1)\n",
    "print(anovatbl)\n",
    "\n",
    "# The F-Statistic is approximately 31 and P Value is highly significant.\n",
    "# Based on the ANOVA test we, reject the null hypothesis that the three population means\n",
    "# are Identical.Atleast for one Education mean the Salary is different from the rest."
   ]
  },
  {
   "cell_type": "markdown",
   "metadata": {},
   "source": [
    " ## One-Way Anova for Occupation with respect to Response Varaible Salary"
   ]
  },
  {
   "cell_type": "code",
   "execution_count": 220,
   "metadata": {
    "ExecuteTime": {
     "end_time": "2021-03-20T15:40:20.327831Z",
     "start_time": "2021-03-20T15:40:20.282857Z"
    }
   },
   "outputs": [
    {
     "name": "stdout",
     "output_type": "stream",
     "text": [
      "              df        sum_sq       mean_sq         F    PR(>F)\n",
      "Occupation   3.0  1.125878e+10  3.752928e+09  0.884144  0.458508\n",
      "Residual    36.0  1.528092e+11  4.244701e+09       NaN       NaN\n"
     ]
    }
   ],
   "source": [
    "formula = 'Salary ~ Occupation'\n",
    "mod = ols(formula, data=df).fit()\n",
    "anovatbl = anova_lm(mod, type=1)\n",
    "print(anovatbl)\n",
    "\n",
    "# The F-Statistic is approximately 0.884 and P Value is not highly significant.\n",
    "# Based on the ANOVA test we, fail to reject the null hypothesis and the four population means\n",
    "# are Identical. Occupation does impact the Salary."
   ]
  },
  {
   "cell_type": "code",
   "execution_count": 221,
   "metadata": {
    "ExecuteTime": {
     "end_time": "2021-03-20T15:40:20.422777Z",
     "start_time": "2021-03-20T15:40:20.332829Z"
    }
   },
   "outputs": [
    {
     "name": "stdout",
     "output_type": "stream",
     "text": [
      "           Multiple Comparison of Means - Tukey HSD, FWER=0.05           \n",
      "=========================================================================\n",
      "  group1     group2     meandiff   p-adj     lower        upper    reject\n",
      "-------------------------------------------------------------------------\n",
      " Bachelors  Doctorate   43274.0667 0.0146    7541.1439  79006.9894   True\n",
      " Bachelors    HS-grad  -90114.1556  0.001 -132035.1958 -48193.1153   True\n",
      " Doctorate    HS-grad -133388.2222  0.001 -174815.0876 -91961.3569   True\n",
      "-------------------------------------------------------------------------\n"
     ]
    }
   ],
   "source": [
    "# Multiple mean comparison tests for Education\n",
    "# Posthoc test: Tukey Test\n",
    "from statsmodels.sandbox.stats.multicomp import MultiComparison\n",
    "\n",
    "multicomp = MultiComparison(df.Salary, df.Education)\n",
    "print(multicomp.tukeyhsd().summary())\n",
    "\n",
    "# None of the means are equal as the P value is significant for the all mean comparisions, \n",
    "# that makes us to reject the Null Hypothesis i.e. Equality of all population means is rejected."
   ]
  },
  {
   "cell_type": "code",
   "execution_count": 222,
   "metadata": {
    "ExecuteTime": {
     "end_time": "2021-03-20T15:40:20.642653Z",
     "start_time": "2021-03-20T15:40:20.426774Z"
    }
   },
   "outputs": [
    {
     "name": "stdout",
     "output_type": "stream",
     "text": [
      "                Multiple Comparison of Means - Tukey HSD, FWER=0.05                 \n",
      "====================================================================================\n",
      "     group1           group2        meandiff  p-adj     lower        upper    reject\n",
      "------------------------------------------------------------------------------------\n",
      "    Adm-clerical  Exec-managerial     55693.3 0.4146  -40415.1459 151801.7459  False\n",
      "    Adm-clerical   Prof-specialty  27528.8538 0.7252  -46277.4011 101335.1088  False\n",
      "    Adm-clerical            Sales  16180.1167    0.9  -58951.3115  91311.5449  False\n",
      " Exec-managerial   Prof-specialty -28164.4462 0.8263 -120502.4542  64173.5618  False\n",
      " Exec-managerial            Sales -39513.1833 0.6507 -132913.8041  53887.4374  False\n",
      "  Prof-specialty            Sales -11348.7372    0.9  -81592.6398  58895.1655  False\n",
      "------------------------------------------------------------------------------------\n"
     ]
    }
   ],
   "source": [
    "# Multiple mean comparison tests for Occupation\n",
    "\n",
    "multicomp = MultiComparison(df.Salary, df.Occupation)\n",
    "print(multicomp.tukeyhsd().summary())\n",
    "\n",
    "# P value is not significant for all mean comparisions, \n",
    "# that makes us to fail to reject the Null Hypothesis i.e. Equality of all population means is accepted."
   ]
  },
  {
   "cell_type": "code",
   "execution_count": 223,
   "metadata": {
    "ExecuteTime": {
     "end_time": "2021-03-20T15:40:20.722604Z",
     "start_time": "2021-03-20T15:40:20.645648Z"
    }
   },
   "outputs": [
    {
     "data": {
      "text/html": [
       "<div>\n",
       "<style scoped>\n",
       "    .dataframe tbody tr th:only-of-type {\n",
       "        vertical-align: middle;\n",
       "    }\n",
       "\n",
       "    .dataframe tbody tr th {\n",
       "        vertical-align: top;\n",
       "    }\n",
       "\n",
       "    .dataframe thead th {\n",
       "        text-align: right;\n",
       "    }\n",
       "</style>\n",
       "<table border=\"1\" class=\"dataframe\">\n",
       "  <thead>\n",
       "    <tr style=\"text-align: right;\">\n",
       "      <th>Occupation</th>\n",
       "      <th>Adm-clerical</th>\n",
       "      <th>Exec-managerial</th>\n",
       "      <th>Prof-specialty</th>\n",
       "      <th>Sales</th>\n",
       "    </tr>\n",
       "    <tr>\n",
       "      <th>Education</th>\n",
       "      <th></th>\n",
       "      <th></th>\n",
       "      <th></th>\n",
       "      <th></th>\n",
       "    </tr>\n",
       "  </thead>\n",
       "  <tbody>\n",
       "    <tr>\n",
       "      <th>Bachelors</th>\n",
       "      <td>3</td>\n",
       "      <td>4</td>\n",
       "      <td>4</td>\n",
       "      <td>4</td>\n",
       "    </tr>\n",
       "    <tr>\n",
       "      <th>Doctorate</th>\n",
       "      <td>4</td>\n",
       "      <td>1</td>\n",
       "      <td>6</td>\n",
       "      <td>5</td>\n",
       "    </tr>\n",
       "    <tr>\n",
       "      <th>HS-grad</th>\n",
       "      <td>3</td>\n",
       "      <td>0</td>\n",
       "      <td>3</td>\n",
       "      <td>3</td>\n",
       "    </tr>\n",
       "  </tbody>\n",
       "</table>\n",
       "</div>"
      ],
      "text/plain": [
       "Occupation   Adm-clerical   Exec-managerial   Prof-specialty   Sales\n",
       "Education                                                           \n",
       " Bachelors              3                 4                4       4\n",
       " Doctorate              4                 1                6       5\n",
       " HS-grad                3                 0                3       3"
      ]
     },
     "execution_count": 223,
     "metadata": {},
     "output_type": "execute_result"
    }
   ],
   "source": [
    "# Is there any dependency on Salary of Education and Occupation needs to be tested?\n",
    "\n",
    "# Descriptive Analysis:\n",
    "pd.crosstab(df.Education, df.Occupation)\n",
    "\n",
    "# It is noted that HS-grad is the only Education that does not have a Exec-managerial Occupation,\n",
    "# Other Education categories seem to have each other Occupations."
   ]
  },
  {
   "cell_type": "code",
   "execution_count": 224,
   "metadata": {
    "ExecuteTime": {
     "end_time": "2021-03-20T15:40:20.753587Z",
     "start_time": "2021-03-20T15:40:20.725603Z"
    }
   },
   "outputs": [
    {
     "data": {
      "text/plain": [
       "Education   Occupation      \n",
       " Bachelors   Adm-clerical       170711.000000\n",
       "             Exec-managerial    193201.750000\n",
       "             Prof-specialty     105787.750000\n",
       "             Sales              192300.750000\n",
       " Doctorate   Adm-clerical       166457.750000\n",
       "             Exec-managerial    212781.000000\n",
       "             Prof-specialty     247772.833333\n",
       "             Sales              193916.600000\n",
       " HS-grad     Adm-clerical        78759.666667\n",
       "             Prof-specialty      95534.333333\n",
       "             Sales               50822.333333\n",
       "Name: Salary, dtype: float64"
      ]
     },
     "execution_count": 224,
     "metadata": {},
     "output_type": "execute_result"
    }
   ],
   "source": [
    "df.groupby(['Education', 'Occupation'])['Salary'].mean()\n",
    "\n",
    "# Bachelors with Exec-Managerial seem to have a higher Salary\n",
    "# Doctorates with Prof-speciality seem to have a higher Salary\n",
    "# HS-grads with Prof-Speciality seem to have a higher Salary"
   ]
  },
  {
   "cell_type": "code",
   "execution_count": 225,
   "metadata": {
    "ExecuteTime": {
     "end_time": "2021-03-20T15:40:21.397234Z",
     "start_time": "2021-03-20T15:40:20.756585Z"
    }
   },
   "outputs": [
    {
     "data": {
      "image/png": "[encoded data removed]",
      "text/plain": [
       "<Figure size 720x720 with 1 Axes>"
      ]
     },
     "metadata": {
      "needs_background": "light"
     },
     "output_type": "display_data"
    }
   ],
   "source": [
    "fig, ax = plt.subplots()\n",
    "fig.set_size_inches(10, 10)\n",
    "a = sns.boxplot(data=df, y='Salary', x='Occupation', hue='Education', orient='v')\n",
    "\n",
    "# HS-Grad data seems not be not sufficient to depict any clear information moving to interaction plot."
   ]
  },
  {
   "cell_type": "code",
   "execution_count": 226,
   "metadata": {
    "ExecuteTime": {
     "end_time": "2021-03-20T15:40:21.821992Z",
     "start_time": "2021-03-20T15:40:21.400234Z"
    }
   },
   "outputs": [
    {
     "data": {
      "image/png": "[encoded data removed]",
      "text/plain": [
       "<Figure size 720x432 with 1 Axes>"
      ]
     },
     "metadata": {
      "needs_background": "light"
     },
     "output_type": "display_data"
    }
   ],
   "source": [
    "from statsmodels.graphics.factorplots import interaction_plot\n",
    "\n",
    "fig, ax = plt.subplots(figsize=(10, 6))\n",
    "fig = interaction_plot(x=df.Education, trace=df.Occupation, response=df.Salary, colors=['red', 'blue', 'green', 'yellow'], ylabel='Salary', xlabel='Education', ax=ax)\n",
    "plt.show()\n",
    "\n",
    "# Lines are not parallel.\n",
    "# Mean Salary is lowest for all Occupations with HS-Grad except for Exec-managerial Occupation. \n",
    "# This indicates interaction effect between Education and Occupation."
   ]
  },
  {
   "cell_type": "code",
   "execution_count": 227,
   "metadata": {
    "ExecuteTime": {
     "end_time": "2021-03-20T15:40:21.883957Z",
     "start_time": "2021-03-20T15:40:21.824990Z"
    }
   },
   "outputs": [
    {
     "name": "stdout",
     "output_type": "stream",
     "text": [
      "                        df        sum_sq       mean_sq          F  \\\n",
      "Education              2.0  1.026955e+11  5.134773e+10  72.211958   \n",
      "Occupation             3.0  5.519946e+09  1.839982e+09   2.587626   \n",
      "Education:Occupation   6.0  3.634909e+10  6.058182e+09   8.519815   \n",
      "Residual              29.0  2.062102e+10  7.110697e+08        NaN   \n",
      "\n",
      "                            PR(>F)  \n",
      "Education             5.466264e-12  \n",
      "Occupation            7.211580e-02  \n",
      "Education:Occupation  2.232500e-05  \n",
      "Residual                       NaN  \n"
     ]
    }
   ],
   "source": [
    "# Two way Anova with interaction between Education and Occupation\n",
    "\n",
    "formula = 'Salary ~ Education*Occupation'\n",
    "model = ols(formula, df).fit()\n",
    "aov_table = anova_lm(model, type=2)\n",
    "print(aov_table)\n",
    "\n",
    "# Hypothesis\n",
    "# Factor Education (row) effects ->  Ho: mU1 = mU2 = mU3 ; Ha: Not all mU are equal\n",
    "# Factor Occupation (row) effects ->  Ho: mU1 = mU2 = mU3 = mU4 ; Ha: Not all mU are equal\n",
    "# Interaction effects ->  Ho: Interaction effect does not exist ; Ha: Interaction Effect exists\n",
    "\n",
    "# Out of 3 hypothesis 2 are significant and 1 is not.\n",
    "# Significance is tested at 5% level.\n",
    "# Conclusion of Two-Way anova is:\n",
    "# We reject Null Hypothesis; Group means are equal for Education.\n",
    "# We reject Null Hypothesis; Equality of means at each combination of Education and Occupation. Hence there will be an interaction effect on Salary.\n",
    "# We fail to reject the null hypothesis, Group means are equal for Occupation."
   ]
  }
 ],
 "metadata": {
  "kernelspec": {
   "display_name": "Python 3",
   "language": "python",
   "name": "python3"
  },
  "language_info": {
   "codemirror_mode": {
    "name": "ipython",
    "version": 3
   },
   "file_extension": ".py",
   "mimetype": "text/x-python",
   "name": "python",
   "nbconvert_exporter": "python",
   "pygments_lexer": "ipython3",
   "version": "3.8.5"
  },
  "toc": {
   "base_numbering": 1,
   "nav_menu": {},
   "number_sections": true,
   "sideBar": true,
   "skip_h1_title": false,
   "title_cell": "Table of Contents",
   "title_sidebar": "Contents",
   "toc_cell": false,
   "toc_position": {},
   "toc_section_display": true,
   "toc_window_display": false
  }
 },
 "nbformat": 4,
 "nbformat_minor": 4
}
