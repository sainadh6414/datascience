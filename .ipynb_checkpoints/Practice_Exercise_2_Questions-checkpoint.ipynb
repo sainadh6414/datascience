{
 "cells": [
  {
   "cell_type": "markdown",
   "metadata": {
    "colab_type": "text",
    "id": "42-KAc9Y8HeQ"
   },
   "source": [
    "Q1.Check the data types of the below variables:\n",
    "a=50, b=10.4, c=\"Hello\""
   ]
  },
  {
   "cell_type": "code",
   "execution_count": 7,
   "metadata": {
    "colab": {},
    "colab_type": "code",
    "id": "BlsI6Ndn8VNV"
   },
   "outputs": [
    {
     "name": "stdout",
     "output_type": "stream",
     "text": [
      "<class 'int'>\n",
      "<class 'float'>\n",
      "<class 'str'>\n"
     ]
    }
   ],
   "source": [
    "a=50\n",
    "b=10.4\n",
    "c=\"Hello\"\n",
    "\n",
    "print(type(a))\n",
    "print(type(b))\n",
    "print(type(c))\n"
   ]
  },
  {
   "cell_type": "markdown",
   "metadata": {
    "colab_type": "text",
    "id": "rqsPIAw5-lVO"
   },
   "source": [
    "Q2.Check whether the given string is in Upper case?\n",
    "\n",
    "String - \" My Name is Adam\""
   ]
  },
  {
   "cell_type": "code",
   "execution_count": 4,
   "metadata": {
    "colab": {},
    "colab_type": "code",
    "id": "YXkpHrMR-s1b"
   },
   "outputs": [
    {
     "data": {
      "text/plain": [
       "False"
      ]
     },
     "execution_count": 4,
     "metadata": {},
     "output_type": "execute_result"
    }
   ],
   "source": [
    "nameString = 'My Name is Adam'\n",
    "nameString.isupper()\n"
   ]
  },
  {
   "cell_type": "markdown",
   "metadata": {
    "colab_type": "text",
    "id": "xzUsyo3m_BHS"
   },
   "source": [
    "Q3.What is the length of the given string?\n",
    "\n",
    "String- \"My Name is Adam\""
   ]
  },
  {
   "cell_type": "code",
   "execution_count": 10,
   "metadata": {
    "colab": {},
    "colab_type": "code",
    "id": "KU1QQPs9_Jim"
   },
   "outputs": [
    {
     "data": {
      "text/plain": [
       "15"
      ]
     },
     "execution_count": 10,
     "metadata": {},
     "output_type": "execute_result"
    }
   ],
   "source": [
    "nameString = 'My Name is Adam'\n",
    "len(nameString)"
   ]
  },
  {
   "cell_type": "markdown",
   "metadata": {
    "colab_type": "text",
    "id": "HFSUOTfE6JIg"
   },
   "source": [
    "Q4.Write a code (using \"for\" loop) to print the sum of all elements in the list = [6, 5, 3, 8, 4, 2, 5, 4, 11, 43]?"
   ]
  },
  {
   "cell_type": "code",
   "execution_count": 18,
   "metadata": {
    "colab": {},
    "colab_type": "code",
    "id": "3XB7hVCG6U56"
   },
   "outputs": [
    {
     "name": "stdout",
     "output_type": "stream",
     "text": [
      "91\n"
     ]
    }
   ],
   "source": [
    "listToSum = [6, 5, 3, 8, 4, 2, 5, 4, 11, 43]\n",
    "valueToSum = 0\n",
    "for i  in listToSum:\n",
    "    valueToSum += i\n",
    "print(valueToSum)\n"
   ]
  },
  {
   "cell_type": "code",
   "execution_count": 38,
   "metadata": {
    "colab": {},
    "colab_type": "code",
    "id": "ZB9xkZjG6a5l"
   },
   "outputs": [],
   "source": [
    "\n",
    "    "
   ]
  },
  {
   "cell_type": "markdown",
   "metadata": {
    "colab_type": "text",
    "id": "pLga0cw17K3Y"
   },
   "source": [
    "Q5. Write a python code( using only while loop) which will only print the even numbers from 2 to 12. "
   ]
  },
  {
   "cell_type": "code",
   "execution_count": 22,
   "metadata": {
    "colab": {},
    "colab_type": "code",
    "id": "AAlqvWY-_y_1"
   },
   "outputs": [
    {
     "name": "stdout",
     "output_type": "stream",
     "text": [
      "2\n",
      "4\n",
      "6\n",
      "8\n",
      "10\n",
      "12\n"
     ]
    }
   ],
   "source": [
    "inRangeList = list(range(2, 13, 2))\n",
    "index = 0\n",
    "while index < len(inRangeList):\n",
    "    print(inRangeList[index])\n",
    "    index += 1\n"
   ]
  },
  {
   "cell_type": "markdown",
   "metadata": {
    "colab_type": "text",
    "id": "Lhk0pYd6JdEy"
   },
   "source": [
    "Q6.Write a python code( using the combination of if statement and while loop) which will only print the even numbers from 2 to 12."
   ]
  },
  {
   "cell_type": "code",
   "execution_count": 20,
   "metadata": {
    "colab": {},
    "colab_type": "code",
    "id": "_0HGsd6f60Nx"
   },
   "outputs": [
    {
     "name": "stdout",
     "output_type": "stream",
     "text": [
      "even 2\n",
      "even 4\n",
      "even 6\n",
      "even 8\n",
      "even 10\n",
      "even 12\n"
     ]
    }
   ],
   "source": [
    "# Quirky way without using an index to retrieve the list items\n",
    "rangeList = list(range(2, 13))\n",
    "rangeList.reverse() # To get items from 2 to 12\n",
    "while len(rangeList) != 0:\n",
    "    poppedValue = rangeList.pop();\n",
    "    if poppedValue % 2 == 0:\n",
    "        print('even', poppedValue)"
   ]
  },
  {
   "cell_type": "markdown",
   "metadata": {
    "colab_type": "text",
    "id": "RvD0Q2FfKEQl"
   },
   "source": [
    "Q7.Write a code( using if-else statement), which will print the minimum of the below given numbers.\n",
    "x=50,y=30,z=40"
   ]
  },
  {
   "cell_type": "code",
   "execution_count": 38,
   "metadata": {
    "colab": {},
    "colab_type": "code",
    "id": "0jAK2hSARHy_"
   },
   "outputs": [],
   "source": [
    "# Crude way to do it, but, that was the ask\n",
    "\n",
    "x = 50\n",
    "y = 30\n",
    "z = 40\n",
    "\n",
    "if x < y and  x < z:\n",
    "        print(x, 'is the smallest')\n",
    "elif y < z and y < x:\n",
    "        print(y, 'is the smallest')\n",
    "elif z < x and z < y:\n",
    "        print(z, 'is the smallest')"
   ]
  }
 ],
 "metadata": {
  "colab": {
   "collapsed_sections": [],
   "name": "Practice Exercise-2_Questions",
   "provenance": []
  },
  "kernelspec": {
   "display_name": "Python 3",
   "language": "python",
   "name": "python3"
  },
  "language_info": {
   "codemirror_mode": {
    "name": "ipython",
    "version": 3
   },
   "file_extension": ".py",
   "mimetype": "text/x-python",
   "name": "python",
   "nbconvert_exporter": "python",
   "pygments_lexer": "ipython3",
   "version": "3.8.5"
  }
 },
 "nbformat": 4,
 "nbformat_minor": 1
}
