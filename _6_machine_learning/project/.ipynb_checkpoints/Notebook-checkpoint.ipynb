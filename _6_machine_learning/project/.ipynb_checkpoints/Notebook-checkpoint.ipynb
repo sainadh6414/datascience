{
 "cells": [
  {
   "cell_type": "markdown",
   "id": "82fff94e",
   "metadata": {},
   "source": [
    "<b>Problem-1: \n",
    "You are hired by one of the leading news channels CNBE who wants to analyze recent elections. This survey was conducted on 1525 voters with 9 variables. You have to build a model, to predict which party a voter will vote for on the basis of the given information, to create an exit poll that will help in predicting overall win and seats covered by a particular party.\n"
   ]
  },
  {
   "cell_type": "code",
   "execution_count": 259,
   "id": "5d0bf180",
   "metadata": {},
   "outputs": [],
   "source": [
    "import pandas as pd\n",
    "import numpy as np\n",
    "import matplotlib.pyplot as plt   \n",
    "import seaborn as sns\n",
    "from sklearn.model_selection import train_test_split,GridSearchCV\n",
    "from sklearn.linear_model import LogisticRegression\n",
    "from sklearn.metrics import roc_auc_score, roc_curve, classification_report, confusion_matrix, plot_confusion_matrix, plot_roc_curve\n",
    "from sklearn.discriminant_analysis import LinearDiscriminantAnalysis\n",
    "from sklearn.metrics import accuracy_score,f1_score, recall_score\n",
    "\n",
    "from sklearn.preprocessing import scale\n",
    "# For preprocessing the data\n",
    "from sklearn import preprocessing\n",
    "\n",
    "# To model the Gaussian Navie Bayes classifier\n",
    "from sklearn.naive_bayes import GaussianNB\n",
    "from scipy.stats import zscore\n",
    "import re # this is the regular expression library which helps us search for or extract matching patterns from a given string\n",
    "import nltk # this is the Natural Language Tool Kit which contains a lot of functionalities for text analytics\n",
    "\n",
    "import string # this is used for string manipulations\n",
    "import warnings\n",
    "warnings.filterwarnings('ignore')"
   ]
  },
  {
   "cell_type": "code",
   "execution_count": 260,
   "id": "20aba45d",
   "metadata": {},
   "outputs": [],
   "source": [
    "df = pd.read_excel('Election_Data.xlsx', sheet_name=1).drop(\"Unnamed: 0\",axis=1)\n"
   ]
  },
  {
   "cell_type": "markdown",
   "id": "b54adcf7",
   "metadata": {},
   "source": [
    "1.1.\tData description and Inferences"
   ]
  },
  {
   "cell_type": "code",
   "execution_count": 261,
   "id": "7a32b248",
   "metadata": {},
   "outputs": [
    {
     "name": "stdout",
     "output_type": "stream",
     "text": [
      "<class 'pandas.core.frame.DataFrame'>\n",
      "RangeIndex: 1525 entries, 0 to 1524\n",
      "Data columns (total 9 columns):\n",
      " #   Column                   Non-Null Count  Dtype \n",
      "---  ------                   --------------  ----- \n",
      " 0   vote                     1525 non-null   object\n",
      " 1   age                      1525 non-null   int64 \n",
      " 2   economic.cond.national   1525 non-null   int64 \n",
      " 3   economic.cond.household  1525 non-null   int64 \n",
      " 4   Blair                    1525 non-null   int64 \n",
      " 5   Hague                    1525 non-null   int64 \n",
      " 6   Europe                   1525 non-null   int64 \n",
      " 7   political.knowledge      1525 non-null   int64 \n",
      " 8   gender                   1525 non-null   object\n",
      "dtypes: int64(7), object(2)\n",
      "memory usage: 107.4+ KB\n"
     ]
    }
   ],
   "source": [
    "df.info()"
   ]
  },
  {
   "cell_type": "code",
   "execution_count": 262,
   "id": "d4304b28",
   "metadata": {},
   "outputs": [
    {
     "data": {
      "text/html": [
       "<div>\n",
       "<style scoped>\n",
       "    .dataframe tbody tr th:only-of-type {\n",
       "        vertical-align: middle;\n",
       "    }\n",
       "\n",
       "    .dataframe tbody tr th {\n",
       "        vertical-align: top;\n",
       "    }\n",
       "\n",
       "    .dataframe thead th {\n",
       "        text-align: right;\n",
       "    }\n",
       "</style>\n",
       "<table border=\"1\" class=\"dataframe\">\n",
       "  <thead>\n",
       "    <tr style=\"text-align: right;\">\n",
       "      <th></th>\n",
       "      <th>count</th>\n",
       "      <th>mean</th>\n",
       "      <th>std</th>\n",
       "      <th>min</th>\n",
       "      <th>25%</th>\n",
       "      <th>50%</th>\n",
       "      <th>75%</th>\n",
       "      <th>max</th>\n",
       "    </tr>\n",
       "  </thead>\n",
       "  <tbody>\n",
       "    <tr>\n",
       "      <th>age</th>\n",
       "      <td>1525.0</td>\n",
       "      <td>54.182295</td>\n",
       "      <td>15.711209</td>\n",
       "      <td>24.0</td>\n",
       "      <td>41.0</td>\n",
       "      <td>53.0</td>\n",
       "      <td>67.0</td>\n",
       "      <td>93.0</td>\n",
       "    </tr>\n",
       "    <tr>\n",
       "      <th>economic.cond.national</th>\n",
       "      <td>1525.0</td>\n",
       "      <td>3.245902</td>\n",
       "      <td>0.880969</td>\n",
       "      <td>1.0</td>\n",
       "      <td>3.0</td>\n",
       "      <td>3.0</td>\n",
       "      <td>4.0</td>\n",
       "      <td>5.0</td>\n",
       "    </tr>\n",
       "    <tr>\n",
       "      <th>economic.cond.household</th>\n",
       "      <td>1525.0</td>\n",
       "      <td>3.140328</td>\n",
       "      <td>0.929951</td>\n",
       "      <td>1.0</td>\n",
       "      <td>3.0</td>\n",
       "      <td>3.0</td>\n",
       "      <td>4.0</td>\n",
       "      <td>5.0</td>\n",
       "    </tr>\n",
       "    <tr>\n",
       "      <th>Blair</th>\n",
       "      <td>1525.0</td>\n",
       "      <td>3.334426</td>\n",
       "      <td>1.174824</td>\n",
       "      <td>1.0</td>\n",
       "      <td>2.0</td>\n",
       "      <td>4.0</td>\n",
       "      <td>4.0</td>\n",
       "      <td>5.0</td>\n",
       "    </tr>\n",
       "    <tr>\n",
       "      <th>Hague</th>\n",
       "      <td>1525.0</td>\n",
       "      <td>2.746885</td>\n",
       "      <td>1.230703</td>\n",
       "      <td>1.0</td>\n",
       "      <td>2.0</td>\n",
       "      <td>2.0</td>\n",
       "      <td>4.0</td>\n",
       "      <td>5.0</td>\n",
       "    </tr>\n",
       "    <tr>\n",
       "      <th>Europe</th>\n",
       "      <td>1525.0</td>\n",
       "      <td>6.728525</td>\n",
       "      <td>3.297538</td>\n",
       "      <td>1.0</td>\n",
       "      <td>4.0</td>\n",
       "      <td>6.0</td>\n",
       "      <td>10.0</td>\n",
       "      <td>11.0</td>\n",
       "    </tr>\n",
       "    <tr>\n",
       "      <th>political.knowledge</th>\n",
       "      <td>1525.0</td>\n",
       "      <td>1.542295</td>\n",
       "      <td>1.083315</td>\n",
       "      <td>0.0</td>\n",
       "      <td>0.0</td>\n",
       "      <td>2.0</td>\n",
       "      <td>2.0</td>\n",
       "      <td>3.0</td>\n",
       "    </tr>\n",
       "  </tbody>\n",
       "</table>\n",
       "</div>"
      ],
      "text/plain": [
       "                          count       mean        std   min   25%   50%   75%  \\\n",
       "age                      1525.0  54.182295  15.711209  24.0  41.0  53.0  67.0   \n",
       "economic.cond.national   1525.0   3.245902   0.880969   1.0   3.0   3.0   4.0   \n",
       "economic.cond.household  1525.0   3.140328   0.929951   1.0   3.0   3.0   4.0   \n",
       "Blair                    1525.0   3.334426   1.174824   1.0   2.0   4.0   4.0   \n",
       "Hague                    1525.0   2.746885   1.230703   1.0   2.0   2.0   4.0   \n",
       "Europe                   1525.0   6.728525   3.297538   1.0   4.0   6.0  10.0   \n",
       "political.knowledge      1525.0   1.542295   1.083315   0.0   0.0   2.0   2.0   \n",
       "\n",
       "                          max  \n",
       "age                      93.0  \n",
       "economic.cond.national    5.0  \n",
       "economic.cond.household   5.0  \n",
       "Blair                     5.0  \n",
       "Hague                     5.0  \n",
       "Europe                   11.0  \n",
       "political.knowledge       3.0  "
      ]
     },
     "execution_count": 262,
     "metadata": {},
     "output_type": "execute_result"
    }
   ],
   "source": [
    "df.describe().T"
   ]
  },
  {
   "cell_type": "markdown",
   "id": "0a6aa4f1",
   "metadata": {},
   "source": [
    "1.2.\tData walkthrough (head() .info(), shape)"
   ]
  },
  {
   "cell_type": "code",
   "execution_count": 263,
   "id": "414c9199",
   "metadata": {},
   "outputs": [
    {
     "name": "stdout",
     "output_type": "stream",
     "text": [
      "<class 'pandas.core.frame.DataFrame'>\n",
      "RangeIndex: 1525 entries, 0 to 1524\n",
      "Data columns (total 9 columns):\n",
      " #   Column                   Non-Null Count  Dtype \n",
      "---  ------                   --------------  ----- \n",
      " 0   vote                     1525 non-null   object\n",
      " 1   age                      1525 non-null   int64 \n",
      " 2   economic.cond.national   1525 non-null   int64 \n",
      " 3   economic.cond.household  1525 non-null   int64 \n",
      " 4   Blair                    1525 non-null   int64 \n",
      " 5   Hague                    1525 non-null   int64 \n",
      " 6   Europe                   1525 non-null   int64 \n",
      " 7   political.knowledge      1525 non-null   int64 \n",
      " 8   gender                   1525 non-null   object\n",
      "dtypes: int64(7), object(2)\n",
      "memory usage: 107.4+ KB\n"
     ]
    }
   ],
   "source": [
    "df.info()"
   ]
  },
  {
   "cell_type": "code",
   "execution_count": 264,
   "id": "7f368769",
   "metadata": {},
   "outputs": [
    {
     "data": {
      "text/html": [
       "<div>\n",
       "<style scoped>\n",
       "    .dataframe tbody tr th:only-of-type {\n",
       "        vertical-align: middle;\n",
       "    }\n",
       "\n",
       "    .dataframe tbody tr th {\n",
       "        vertical-align: top;\n",
       "    }\n",
       "\n",
       "    .dataframe thead th {\n",
       "        text-align: right;\n",
       "    }\n",
       "</style>\n",
       "<table border=\"1\" class=\"dataframe\">\n",
       "  <thead>\n",
       "    <tr style=\"text-align: right;\">\n",
       "      <th></th>\n",
       "      <th>vote</th>\n",
       "      <th>age</th>\n",
       "      <th>economic.cond.national</th>\n",
       "      <th>economic.cond.household</th>\n",
       "      <th>Blair</th>\n",
       "      <th>Hague</th>\n",
       "      <th>Europe</th>\n",
       "      <th>political.knowledge</th>\n",
       "      <th>gender</th>\n",
       "    </tr>\n",
       "  </thead>\n",
       "  <tbody>\n",
       "    <tr>\n",
       "      <th>0</th>\n",
       "      <td>Labour</td>\n",
       "      <td>43</td>\n",
       "      <td>3</td>\n",
       "      <td>3</td>\n",
       "      <td>4</td>\n",
       "      <td>1</td>\n",
       "      <td>2</td>\n",
       "      <td>2</td>\n",
       "      <td>female</td>\n",
       "    </tr>\n",
       "    <tr>\n",
       "      <th>1</th>\n",
       "      <td>Labour</td>\n",
       "      <td>36</td>\n",
       "      <td>4</td>\n",
       "      <td>4</td>\n",
       "      <td>4</td>\n",
       "      <td>4</td>\n",
       "      <td>5</td>\n",
       "      <td>2</td>\n",
       "      <td>male</td>\n",
       "    </tr>\n",
       "    <tr>\n",
       "      <th>2</th>\n",
       "      <td>Labour</td>\n",
       "      <td>35</td>\n",
       "      <td>4</td>\n",
       "      <td>4</td>\n",
       "      <td>5</td>\n",
       "      <td>2</td>\n",
       "      <td>3</td>\n",
       "      <td>2</td>\n",
       "      <td>male</td>\n",
       "    </tr>\n",
       "    <tr>\n",
       "      <th>3</th>\n",
       "      <td>Labour</td>\n",
       "      <td>24</td>\n",
       "      <td>4</td>\n",
       "      <td>2</td>\n",
       "      <td>2</td>\n",
       "      <td>1</td>\n",
       "      <td>4</td>\n",
       "      <td>0</td>\n",
       "      <td>female</td>\n",
       "    </tr>\n",
       "    <tr>\n",
       "      <th>4</th>\n",
       "      <td>Labour</td>\n",
       "      <td>41</td>\n",
       "      <td>2</td>\n",
       "      <td>2</td>\n",
       "      <td>1</td>\n",
       "      <td>1</td>\n",
       "      <td>6</td>\n",
       "      <td>2</td>\n",
       "      <td>male</td>\n",
       "    </tr>\n",
       "  </tbody>\n",
       "</table>\n",
       "</div>"
      ],
      "text/plain": [
       "     vote  age  economic.cond.national  economic.cond.household  Blair  Hague  \\\n",
       "0  Labour   43                       3                        3      4      1   \n",
       "1  Labour   36                       4                        4      4      4   \n",
       "2  Labour   35                       4                        4      5      2   \n",
       "3  Labour   24                       4                        2      2      1   \n",
       "4  Labour   41                       2                        2      1      1   \n",
       "\n",
       "   Europe  political.knowledge  gender  \n",
       "0       2                    2  female  \n",
       "1       5                    2    male  \n",
       "2       3                    2    male  \n",
       "3       4                    0  female  \n",
       "4       6                    2    male  "
      ]
     },
     "execution_count": 264,
     "metadata": {},
     "output_type": "execute_result"
    }
   ],
   "source": [
    "df.head()"
   ]
  },
  {
   "cell_type": "code",
   "execution_count": 265,
   "id": "04a60b80",
   "metadata": {},
   "outputs": [
    {
     "data": {
      "text/plain": [
       "(1525, 9)"
      ]
     },
     "execution_count": 265,
     "metadata": {},
     "output_type": "execute_result"
    }
   ],
   "source": [
    "df.shape"
   ]
  },
  {
   "cell_type": "markdown",
   "id": "3f3127f3",
   "metadata": {},
   "source": [
    "1.3.\tData validation (Null check, Summary and Skewness)"
   ]
  },
  {
   "cell_type": "markdown",
   "id": "d14af3b1",
   "metadata": {},
   "source": [
    "1.4.\tExploratory Data Analysis (Null, Data Types, Shape, Univariate & Bivariate Analysis, Outliers)"
   ]
  },
  {
   "cell_type": "code",
   "execution_count": 266,
   "id": "1ad36026",
   "metadata": {},
   "outputs": [
    {
     "data": {
      "text/plain": [
       "vote                       0\n",
       "age                        0\n",
       "economic.cond.national     0\n",
       "economic.cond.household    0\n",
       "Blair                      0\n",
       "Hague                      0\n",
       "Europe                     0\n",
       "political.knowledge        0\n",
       "gender                     0\n",
       "dtype: int64"
      ]
     },
     "execution_count": 266,
     "metadata": {},
     "output_type": "execute_result"
    }
   ],
   "source": [
    "df.isnull().sum()"
   ]
  },
  {
   "cell_type": "code",
   "execution_count": 267,
   "id": "5c624908",
   "metadata": {},
   "outputs": [
    {
     "data": {
      "text/plain": [
       "8"
      ]
     },
     "execution_count": 267,
     "metadata": {},
     "output_type": "execute_result"
    }
   ],
   "source": [
    "df.duplicated().sum()"
   ]
  },
  {
   "cell_type": "code",
   "execution_count": 268,
   "id": "3749b9ab",
   "metadata": {},
   "outputs": [
    {
     "name": "stdout",
     "output_type": "stream",
     "text": [
      "Data frame shape is (1525, 9)\n",
      "Duplicated no: 8\n",
      "After removing duplicates  0\n"
     ]
    }
   ],
   "source": [
    "print('Data frame shape is', df.shape)\n",
    "print('Duplicated no:', df.duplicated().sum())\n",
    "df.drop_duplicates(inplace=True)\n",
    "print('After removing duplicates ', df.duplicated().sum())"
   ]
  },
  {
   "cell_type": "code",
   "execution_count": 269,
   "id": "ae4a92bb",
   "metadata": {},
   "outputs": [
    {
     "data": {
      "text/plain": [
       "(1517, 9)"
      ]
     },
     "execution_count": 269,
     "metadata": {},
     "output_type": "execute_result"
    }
   ],
   "source": [
    "df.shape"
   ]
  },
  {
   "cell_type": "markdown",
   "id": "bbd24300",
   "metadata": {},
   "source": [
    "Check for the spread of non-numeric data"
   ]
  },
  {
   "cell_type": "code",
   "execution_count": 270,
   "id": "468d465a",
   "metadata": {},
   "outputs": [
    {
     "name": "stdout",
     "output_type": "stream",
     "text": [
      "vote  Number of Levels 2\n",
      "Labour          1057\n",
      "Conservative     460\n",
      "Name: vote, dtype: int64\n",
      "\n",
      "\n",
      "gender  Number of Levels 2\n",
      "female    808\n",
      "male      709\n",
      "Name: gender, dtype: int64\n",
      "\n",
      "\n"
     ]
    }
   ],
   "source": [
    "for feature in df.columns: \n",
    "    if df[feature].dtype == 'object': \n",
    "        print(feature, ' Number of Levels', df[feature].nunique())\n",
    "        print(df[feature].value_counts())\n",
    "        print('\\n')"
   ]
  },
  {
   "cell_type": "markdown",
   "id": "68208d27",
   "metadata": {},
   "source": [
    "Check for Outliers"
   ]
  },
  {
   "cell_type": "code",
   "execution_count": 271,
   "id": "016ecf3b",
   "metadata": {},
   "outputs": [
    {
     "data": {
      "image/png": "[encoded data removed]",
      "text/plain": [
       "<Figure size 864x576 with 7 Axes>"
      ]
     },
     "metadata": {
      "needs_background": "light"
     },
     "output_type": "display_data"
    }
   ],
   "source": [
    "cols = ['age','economic.cond.national','economic.cond.household','Blair', 'Hague', 'Europe', 'political.knowledge']\n",
    "df[cols].plot(kind = 'box',subplots=True, figsize = (12,8));\n",
    "plt.tight_layout();"
   ]
  },
  {
   "cell_type": "markdown",
   "id": "8139f6f1",
   "metadata": {},
   "source": [
    "Check for Correlations"
   ]
  },
  {
   "cell_type": "code",
   "execution_count": 272,
   "id": "a6cafc69",
   "metadata": {},
   "outputs": [
    {
     "data": {
      "text/html": [
       "<div>\n",
       "<style scoped>\n",
       "    .dataframe tbody tr th:only-of-type {\n",
       "        vertical-align: middle;\n",
       "    }\n",
       "\n",
       "    .dataframe tbody tr th {\n",
       "        vertical-align: top;\n",
       "    }\n",
       "\n",
       "    .dataframe thead th {\n",
       "        text-align: right;\n",
       "    }\n",
       "</style>\n",
       "<table border=\"1\" class=\"dataframe\">\n",
       "  <thead>\n",
       "    <tr style=\"text-align: right;\">\n",
       "      <th></th>\n",
       "      <th>age</th>\n",
       "      <th>economic.cond.national</th>\n",
       "      <th>economic.cond.household</th>\n",
       "      <th>Blair</th>\n",
       "      <th>Hague</th>\n",
       "      <th>Europe</th>\n",
       "      <th>political.knowledge</th>\n",
       "    </tr>\n",
       "  </thead>\n",
       "  <tbody>\n",
       "    <tr>\n",
       "      <th>age</th>\n",
       "      <td>1.00</td>\n",
       "      <td>0.02</td>\n",
       "      <td>-0.04</td>\n",
       "      <td>0.03</td>\n",
       "      <td>0.03</td>\n",
       "      <td>0.06</td>\n",
       "      <td>-0.05</td>\n",
       "    </tr>\n",
       "    <tr>\n",
       "      <th>economic.cond.national</th>\n",
       "      <td>0.02</td>\n",
       "      <td>1.00</td>\n",
       "      <td>0.35</td>\n",
       "      <td>0.33</td>\n",
       "      <td>-0.20</td>\n",
       "      <td>-0.21</td>\n",
       "      <td>-0.02</td>\n",
       "    </tr>\n",
       "    <tr>\n",
       "      <th>economic.cond.household</th>\n",
       "      <td>-0.04</td>\n",
       "      <td>0.35</td>\n",
       "      <td>1.00</td>\n",
       "      <td>0.22</td>\n",
       "      <td>-0.10</td>\n",
       "      <td>-0.11</td>\n",
       "      <td>-0.04</td>\n",
       "    </tr>\n",
       "    <tr>\n",
       "      <th>Blair</th>\n",
       "      <td>0.03</td>\n",
       "      <td>0.33</td>\n",
       "      <td>0.22</td>\n",
       "      <td>1.00</td>\n",
       "      <td>-0.24</td>\n",
       "      <td>-0.30</td>\n",
       "      <td>-0.02</td>\n",
       "    </tr>\n",
       "    <tr>\n",
       "      <th>Hague</th>\n",
       "      <td>0.03</td>\n",
       "      <td>-0.20</td>\n",
       "      <td>-0.10</td>\n",
       "      <td>-0.24</td>\n",
       "      <td>1.00</td>\n",
       "      <td>0.29</td>\n",
       "      <td>-0.03</td>\n",
       "    </tr>\n",
       "    <tr>\n",
       "      <th>Europe</th>\n",
       "      <td>0.06</td>\n",
       "      <td>-0.21</td>\n",
       "      <td>-0.11</td>\n",
       "      <td>-0.30</td>\n",
       "      <td>0.29</td>\n",
       "      <td>1.00</td>\n",
       "      <td>-0.15</td>\n",
       "    </tr>\n",
       "    <tr>\n",
       "      <th>political.knowledge</th>\n",
       "      <td>-0.05</td>\n",
       "      <td>-0.02</td>\n",
       "      <td>-0.04</td>\n",
       "      <td>-0.02</td>\n",
       "      <td>-0.03</td>\n",
       "      <td>-0.15</td>\n",
       "      <td>1.00</td>\n",
       "    </tr>\n",
       "  </tbody>\n",
       "</table>\n",
       "</div>"
      ],
      "text/plain": [
       "                          age  economic.cond.national  \\\n",
       "age                      1.00                    0.02   \n",
       "economic.cond.national   0.02                    1.00   \n",
       "economic.cond.household -0.04                    0.35   \n",
       "Blair                    0.03                    0.33   \n",
       "Hague                    0.03                   -0.20   \n",
       "Europe                   0.06                   -0.21   \n",
       "political.knowledge     -0.05                   -0.02   \n",
       "\n",
       "                         economic.cond.household  Blair  Hague  Europe  \\\n",
       "age                                        -0.04   0.03   0.03    0.06   \n",
       "economic.cond.national                      0.35   0.33  -0.20   -0.21   \n",
       "economic.cond.household                     1.00   0.22  -0.10   -0.11   \n",
       "Blair                                       0.22   1.00  -0.24   -0.30   \n",
       "Hague                                      -0.10  -0.24   1.00    0.29   \n",
       "Europe                                     -0.11  -0.30   0.29    1.00   \n",
       "political.knowledge                        -0.04  -0.02  -0.03   -0.15   \n",
       "\n",
       "                         political.knowledge  \n",
       "age                                    -0.05  \n",
       "economic.cond.national                 -0.02  \n",
       "economic.cond.household                -0.04  \n",
       "Blair                                  -0.02  \n",
       "Hague                                  -0.03  \n",
       "Europe                                 -0.15  \n",
       "political.knowledge                     1.00  "
      ]
     },
     "execution_count": 272,
     "metadata": {},
     "output_type": "execute_result"
    }
   ],
   "source": [
    "df.corr().round(2)"
   ]
  },
  {
   "cell_type": "code",
   "execution_count": 273,
   "id": "f4aef13b",
   "metadata": {},
   "outputs": [
    {
     "data": {
      "image/png": "[encoded data removed]",
      "text/plain": [
       "<Figure size 864x504 with 2 Axes>"
      ]
     },
     "metadata": {
      "needs_background": "light"
     },
     "output_type": "display_data"
    }
   ],
   "source": [
    "plt.figure(figsize=(12,7))\n",
    "sns.heatmap(df.corr().round(2), cmap='plasma', vmin=-1, \n",
    "            vmax=1, annot=True,\n",
    "            annot_kws={'size':20},\n",
    "            mask=np.triu(df.corr(),+1))\n",
    "plt.yticks(rotation = 0);"
   ]
  },
  {
   "cell_type": "markdown",
   "id": "e474a55d",
   "metadata": {},
   "source": [
    "Uni variate, Bi Variate and Multi variate analysis"
   ]
  },
  {
   "cell_type": "code",
   "execution_count": 274,
   "id": "cf340ece",
   "metadata": {},
   "outputs": [
    {
     "data": {
      "image/png": "[encoded data removed]",
      "text/plain": [
       "<Figure size 1296x1800 with 12 Axes>"
      ]
     },
     "metadata": {
      "needs_background": "light"
     },
     "output_type": "display_data"
    }
   ],
   "source": [
    "# age                        0\n",
    "# economic.cond.national     0\n",
    "# economic.cond.household    0\n",
    "# Blair                      0\n",
    "# Hague                      0\n",
    "# Europe                     0\n",
    "# political.knowledge        0\n",
    "# gender                     0\n",
    "\n",
    "fig, axes = plt.subplots(nrows=6,ncols=2)\n",
    "fig.set_size_inches(18,25)\n",
    "fig.tight_layout()\n",
    "\n",
    "a = sns.distplot(df['age'] , ax=axes[0][0])\n",
    "a.set_title(\"Age Distribution\",fontsize=10)\n",
    "\n",
    "a = sns.boxplot(df['age'] , orient = \"v\" , ax=axes[0][1])\n",
    "a.set_title(\"Aocst Boxplot\",fontsize=10)\n",
    "\n",
    "a = sns.distplot(df['economic.cond.national'] , ax=axes[1][0])\n",
    "a.set_title(\"National Economy Distribution\",fontsize=10)\n",
    "\n",
    "a = sns.boxplot(df['economic.cond.national'] , orient = \"v\" , ax=axes[1][1])\n",
    "a.set_title(\"National Economy Distribution\",fontsize=10)\n",
    "\n",
    "a = sns.distplot(df['economic.cond.household'] , ax=axes[1][0])\n",
    "a.set_title(\"Household Economy Distribution\",fontsize=10)\n",
    "\n",
    "a = sns.boxplot(df['economic.cond.household'] , orient = \"v\" , ax=axes[1][1])\n",
    "a.set_title(\"Household Economy Distribution\",fontsize=10)\n",
    "\n",
    "a = sns.distplot(df['Blair'] , ax=axes[2][0])\n",
    "a.set_title(\"Blair Distribution\",fontsize=10)\n",
    "\n",
    "a = sns.boxplot(df['Blair'] , orient = \"v\" , ax=axes[2][1])\n",
    "a.set_title(\"Blair Distribution\",fontsize=10)\n",
    "\n",
    "a = sns.distplot(df['Hague'] , ax=axes[3][0])\n",
    "a.set_title(\"Hague Distribution\",fontsize=10)\n",
    "\n",
    "a = sns.boxplot(df['Hague'] , orient = \"v\" , ax=axes[3][1])\n",
    "a.set_title(\"Hague Distribution\",fontsize=10)\n",
    "\n",
    "a = sns.distplot(df['Europe'] , ax=axes[4][0])\n",
    "a.set_title(\"Europe Distribution\",fontsize=10)\n",
    "\n",
    "a = sns.boxplot(df['Europe'] , orient = \"v\" , ax=axes[4][1])\n",
    "a.set_title(\"Europe Distribution\",fontsize=10)\n",
    "\n",
    "a = sns.distplot(df['political.knowledge'] , ax=axes[5][0])\n",
    "a.set_title(\"Political Knowledge Distribution\",fontsize=10)\n",
    "\n",
    "a = sns.boxplot(df['political.knowledge'] , orient = \"v\" , ax=axes[5][1])\n",
    "a.set_title(\"Political Knowledge Distribution\",fontsize=10)\n",
    "\n",
    "plt.show()"
   ]
  },
  {
   "cell_type": "code",
   "execution_count": 275,
   "id": "c78d5841",
   "metadata": {},
   "outputs": [
    {
     "data": {
      "image/png": "[encoded data removed]",
      "text/plain": [
       "<Figure size 1260x1260 with 56 Axes>"
      ]
     },
     "metadata": {
      "needs_background": "light"
     },
     "output_type": "display_data"
    }
   ],
   "source": [
    "# Pairplot using sns\n",
    "sns.pairplot(df ,diag_kind='hist');"
   ]
  },
  {
   "cell_type": "markdown",
   "id": "cb0b95a5",
   "metadata": {},
   "source": [
    "1.6.\tEncode the data for the features with String Values."
   ]
  },
  {
   "cell_type": "markdown",
   "id": "aa00ace2",
   "metadata": {},
   "source": [
    "1.7.\tIs Scaling necessary or not? Check the 5-point summary to support the Scaling."
   ]
  },
  {
   "cell_type": "markdown",
   "id": "078d437e",
   "metadata": {},
   "source": [
    "1.8.\tObject data should be converted into Categorical/Number type and fit to models."
   ]
  },
  {
   "cell_type": "code",
   "execution_count": 276,
   "id": "36728875",
   "metadata": {},
   "outputs": [],
   "source": [
    "df_dummy = pd.get_dummies(df,drop_first=True)\n",
    "df_dummy.head()\n",
    "df_dummy['vote_Labour'] = df_dummy['vote_Labour'].astype('int64')\n",
    "df_dummy['gender_male'] = df_dummy['gender_male'].astype('int64')"
   ]
  },
  {
   "cell_type": "code",
   "execution_count": 277,
   "id": "54d847d6",
   "metadata": {},
   "outputs": [
    {
     "data": {
      "text/html": [
       "<div>\n",
       "<style scoped>\n",
       "    .dataframe tbody tr th:only-of-type {\n",
       "        vertical-align: middle;\n",
       "    }\n",
       "\n",
       "    .dataframe tbody tr th {\n",
       "        vertical-align: top;\n",
       "    }\n",
       "\n",
       "    .dataframe thead th {\n",
       "        text-align: right;\n",
       "    }\n",
       "</style>\n",
       "<table border=\"1\" class=\"dataframe\">\n",
       "  <thead>\n",
       "    <tr style=\"text-align: right;\">\n",
       "      <th></th>\n",
       "      <th>count</th>\n",
       "      <th>mean</th>\n",
       "      <th>std</th>\n",
       "      <th>min</th>\n",
       "      <th>25%</th>\n",
       "      <th>50%</th>\n",
       "      <th>75%</th>\n",
       "      <th>max</th>\n",
       "    </tr>\n",
       "  </thead>\n",
       "  <tbody>\n",
       "    <tr>\n",
       "      <th>age</th>\n",
       "      <td>1517.0</td>\n",
       "      <td>54.241266</td>\n",
       "      <td>15.701741</td>\n",
       "      <td>24.0</td>\n",
       "      <td>41.0</td>\n",
       "      <td>53.0</td>\n",
       "      <td>67.0</td>\n",
       "      <td>93.0</td>\n",
       "    </tr>\n",
       "    <tr>\n",
       "      <th>economic.cond.national</th>\n",
       "      <td>1517.0</td>\n",
       "      <td>3.245221</td>\n",
       "      <td>0.881792</td>\n",
       "      <td>1.0</td>\n",
       "      <td>3.0</td>\n",
       "      <td>3.0</td>\n",
       "      <td>4.0</td>\n",
       "      <td>5.0</td>\n",
       "    </tr>\n",
       "    <tr>\n",
       "      <th>economic.cond.household</th>\n",
       "      <td>1517.0</td>\n",
       "      <td>3.137772</td>\n",
       "      <td>0.931069</td>\n",
       "      <td>1.0</td>\n",
       "      <td>3.0</td>\n",
       "      <td>3.0</td>\n",
       "      <td>4.0</td>\n",
       "      <td>5.0</td>\n",
       "    </tr>\n",
       "    <tr>\n",
       "      <th>Blair</th>\n",
       "      <td>1517.0</td>\n",
       "      <td>3.335531</td>\n",
       "      <td>1.174772</td>\n",
       "      <td>1.0</td>\n",
       "      <td>2.0</td>\n",
       "      <td>4.0</td>\n",
       "      <td>4.0</td>\n",
       "      <td>5.0</td>\n",
       "    </tr>\n",
       "    <tr>\n",
       "      <th>Hague</th>\n",
       "      <td>1517.0</td>\n",
       "      <td>2.749506</td>\n",
       "      <td>1.232479</td>\n",
       "      <td>1.0</td>\n",
       "      <td>2.0</td>\n",
       "      <td>2.0</td>\n",
       "      <td>4.0</td>\n",
       "      <td>5.0</td>\n",
       "    </tr>\n",
       "    <tr>\n",
       "      <th>Europe</th>\n",
       "      <td>1517.0</td>\n",
       "      <td>6.740277</td>\n",
       "      <td>3.299043</td>\n",
       "      <td>1.0</td>\n",
       "      <td>4.0</td>\n",
       "      <td>6.0</td>\n",
       "      <td>10.0</td>\n",
       "      <td>11.0</td>\n",
       "    </tr>\n",
       "    <tr>\n",
       "      <th>political.knowledge</th>\n",
       "      <td>1517.0</td>\n",
       "      <td>1.540541</td>\n",
       "      <td>1.084417</td>\n",
       "      <td>0.0</td>\n",
       "      <td>0.0</td>\n",
       "      <td>2.0</td>\n",
       "      <td>2.0</td>\n",
       "      <td>3.0</td>\n",
       "    </tr>\n",
       "    <tr>\n",
       "      <th>vote_Labour</th>\n",
       "      <td>1517.0</td>\n",
       "      <td>0.696770</td>\n",
       "      <td>0.459805</td>\n",
       "      <td>0.0</td>\n",
       "      <td>0.0</td>\n",
       "      <td>1.0</td>\n",
       "      <td>1.0</td>\n",
       "      <td>1.0</td>\n",
       "    </tr>\n",
       "    <tr>\n",
       "      <th>gender_male</th>\n",
       "      <td>1517.0</td>\n",
       "      <td>0.467370</td>\n",
       "      <td>0.499099</td>\n",
       "      <td>0.0</td>\n",
       "      <td>0.0</td>\n",
       "      <td>0.0</td>\n",
       "      <td>1.0</td>\n",
       "      <td>1.0</td>\n",
       "    </tr>\n",
       "  </tbody>\n",
       "</table>\n",
       "</div>"
      ],
      "text/plain": [
       "                          count       mean        std   min   25%   50%   75%  \\\n",
       "age                      1517.0  54.241266  15.701741  24.0  41.0  53.0  67.0   \n",
       "economic.cond.national   1517.0   3.245221   0.881792   1.0   3.0   3.0   4.0   \n",
       "economic.cond.household  1517.0   3.137772   0.931069   1.0   3.0   3.0   4.0   \n",
       "Blair                    1517.0   3.335531   1.174772   1.0   2.0   4.0   4.0   \n",
       "Hague                    1517.0   2.749506   1.232479   1.0   2.0   2.0   4.0   \n",
       "Europe                   1517.0   6.740277   3.299043   1.0   4.0   6.0  10.0   \n",
       "political.knowledge      1517.0   1.540541   1.084417   0.0   0.0   2.0   2.0   \n",
       "vote_Labour              1517.0   0.696770   0.459805   0.0   0.0   1.0   1.0   \n",
       "gender_male              1517.0   0.467370   0.499099   0.0   0.0   0.0   1.0   \n",
       "\n",
       "                          max  \n",
       "age                      93.0  \n",
       "economic.cond.national    5.0  \n",
       "economic.cond.household   5.0  \n",
       "Blair                     5.0  \n",
       "Hague                     5.0  \n",
       "Europe                   11.0  \n",
       "political.knowledge       3.0  \n",
       "vote_Labour               1.0  \n",
       "gender_male               1.0  "
      ]
     },
     "execution_count": 277,
     "metadata": {},
     "output_type": "execute_result"
    }
   ],
   "source": [
    "df_dummy.describe().T"
   ]
  },
  {
   "cell_type": "code",
   "execution_count": 278,
   "id": "2b9412c7",
   "metadata": {},
   "outputs": [],
   "source": [
    "df_dummy['age'] = zscore(df_dummy['age'])"
   ]
  },
  {
   "cell_type": "code",
   "execution_count": 279,
   "id": "cf0f7705",
   "metadata": {},
   "outputs": [
    {
     "data": {
      "text/html": [
       "<div>\n",
       "<style scoped>\n",
       "    .dataframe tbody tr th:only-of-type {\n",
       "        vertical-align: middle;\n",
       "    }\n",
       "\n",
       "    .dataframe tbody tr th {\n",
       "        vertical-align: top;\n",
       "    }\n",
       "\n",
       "    .dataframe thead th {\n",
       "        text-align: right;\n",
       "    }\n",
       "</style>\n",
       "<table border=\"1\" class=\"dataframe\">\n",
       "  <thead>\n",
       "    <tr style=\"text-align: right;\">\n",
       "      <th></th>\n",
       "      <th>count</th>\n",
       "      <th>mean</th>\n",
       "      <th>std</th>\n",
       "      <th>min</th>\n",
       "      <th>25%</th>\n",
       "      <th>50%</th>\n",
       "      <th>75%</th>\n",
       "      <th>max</th>\n",
       "    </tr>\n",
       "  </thead>\n",
       "  <tbody>\n",
       "    <tr>\n",
       "      <th>age</th>\n",
       "      <td>1517.0</td>\n",
       "      <td>0.0</td>\n",
       "      <td>1.0</td>\n",
       "      <td>-2.0</td>\n",
       "      <td>-1.0</td>\n",
       "      <td>-0.0</td>\n",
       "      <td>1.0</td>\n",
       "      <td>2.0</td>\n",
       "    </tr>\n",
       "    <tr>\n",
       "      <th>economic.cond.national</th>\n",
       "      <td>1517.0</td>\n",
       "      <td>3.0</td>\n",
       "      <td>1.0</td>\n",
       "      <td>1.0</td>\n",
       "      <td>3.0</td>\n",
       "      <td>3.0</td>\n",
       "      <td>4.0</td>\n",
       "      <td>5.0</td>\n",
       "    </tr>\n",
       "    <tr>\n",
       "      <th>economic.cond.household</th>\n",
       "      <td>1517.0</td>\n",
       "      <td>3.0</td>\n",
       "      <td>1.0</td>\n",
       "      <td>1.0</td>\n",
       "      <td>3.0</td>\n",
       "      <td>3.0</td>\n",
       "      <td>4.0</td>\n",
       "      <td>5.0</td>\n",
       "    </tr>\n",
       "    <tr>\n",
       "      <th>Blair</th>\n",
       "      <td>1517.0</td>\n",
       "      <td>3.0</td>\n",
       "      <td>1.0</td>\n",
       "      <td>1.0</td>\n",
       "      <td>2.0</td>\n",
       "      <td>4.0</td>\n",
       "      <td>4.0</td>\n",
       "      <td>5.0</td>\n",
       "    </tr>\n",
       "    <tr>\n",
       "      <th>Hague</th>\n",
       "      <td>1517.0</td>\n",
       "      <td>3.0</td>\n",
       "      <td>1.0</td>\n",
       "      <td>1.0</td>\n",
       "      <td>2.0</td>\n",
       "      <td>2.0</td>\n",
       "      <td>4.0</td>\n",
       "      <td>5.0</td>\n",
       "    </tr>\n",
       "    <tr>\n",
       "      <th>Europe</th>\n",
       "      <td>1517.0</td>\n",
       "      <td>7.0</td>\n",
       "      <td>3.0</td>\n",
       "      <td>1.0</td>\n",
       "      <td>4.0</td>\n",
       "      <td>6.0</td>\n",
       "      <td>10.0</td>\n",
       "      <td>11.0</td>\n",
       "    </tr>\n",
       "    <tr>\n",
       "      <th>political.knowledge</th>\n",
       "      <td>1517.0</td>\n",
       "      <td>2.0</td>\n",
       "      <td>1.0</td>\n",
       "      <td>0.0</td>\n",
       "      <td>0.0</td>\n",
       "      <td>2.0</td>\n",
       "      <td>2.0</td>\n",
       "      <td>3.0</td>\n",
       "    </tr>\n",
       "    <tr>\n",
       "      <th>vote_Labour</th>\n",
       "      <td>1517.0</td>\n",
       "      <td>1.0</td>\n",
       "      <td>0.0</td>\n",
       "      <td>0.0</td>\n",
       "      <td>0.0</td>\n",
       "      <td>1.0</td>\n",
       "      <td>1.0</td>\n",
       "      <td>1.0</td>\n",
       "    </tr>\n",
       "    <tr>\n",
       "      <th>gender_male</th>\n",
       "      <td>1517.0</td>\n",
       "      <td>0.0</td>\n",
       "      <td>0.0</td>\n",
       "      <td>0.0</td>\n",
       "      <td>0.0</td>\n",
       "      <td>0.0</td>\n",
       "      <td>1.0</td>\n",
       "      <td>1.0</td>\n",
       "    </tr>\n",
       "  </tbody>\n",
       "</table>\n",
       "</div>"
      ],
      "text/plain": [
       "                          count  mean  std  min  25%  50%   75%   max\n",
       "age                      1517.0   0.0  1.0 -2.0 -1.0 -0.0   1.0   2.0\n",
       "economic.cond.national   1517.0   3.0  1.0  1.0  3.0  3.0   4.0   5.0\n",
       "economic.cond.household  1517.0   3.0  1.0  1.0  3.0  3.0   4.0   5.0\n",
       "Blair                    1517.0   3.0  1.0  1.0  2.0  4.0   4.0   5.0\n",
       "Hague                    1517.0   3.0  1.0  1.0  2.0  2.0   4.0   5.0\n",
       "Europe                   1517.0   7.0  3.0  1.0  4.0  6.0  10.0  11.0\n",
       "political.knowledge      1517.0   2.0  1.0  0.0  0.0  2.0   2.0   3.0\n",
       "vote_Labour              1517.0   1.0  0.0  0.0  0.0  1.0   1.0   1.0\n",
       "gender_male              1517.0   0.0  0.0  0.0  0.0  0.0   1.0   1.0"
      ]
     },
     "execution_count": 279,
     "metadata": {},
     "output_type": "execute_result"
    }
   ],
   "source": [
    "df_dummy.describe().T.round(0)"
   ]
  },
  {
   "cell_type": "markdown",
   "id": "b14ac7a0",
   "metadata": {},
   "source": [
    "1.9.\tRatio for the split and train-test-split should be explained."
   ]
  },
  {
   "cell_type": "code",
   "execution_count": 280,
   "id": "911ee11c",
   "metadata": {},
   "outputs": [],
   "source": [
    "X = df_dummy.drop(['vote_Labour'], axis=1)\n",
    "y = df_dummy['vote_Labour']"
   ]
  },
  {
   "cell_type": "code",
   "execution_count": 281,
   "id": "65108c41",
   "metadata": {},
   "outputs": [],
   "source": [
    "X_train, X_test, y_train, y_test = train_test_split(X, y, test_size=0.30 , random_state=1, stratify=df_dummy['vote_Labour']) # stratify = y"
   ]
  },
  {
   "cell_type": "code",
   "execution_count": 282,
   "id": "3702809f",
   "metadata": {},
   "outputs": [
    {
     "data": {
      "text/plain": [
       "1    0.696513\n",
       "0    0.303487\n",
       "Name: vote_Labour, dtype: float64"
      ]
     },
     "execution_count": 282,
     "metadata": {},
     "output_type": "execute_result"
    }
   ],
   "source": [
    "y_train.value_counts(1)"
   ]
  },
  {
   "cell_type": "code",
   "execution_count": 283,
   "id": "aa17f2d2",
   "metadata": {},
   "outputs": [
    {
     "data": {
      "text/plain": [
       "1    0.697368\n",
       "0    0.302632\n",
       "Name: vote_Labour, dtype: float64"
      ]
     },
     "execution_count": 283,
     "metadata": {},
     "output_type": "execute_result"
    }
   ],
   "source": [
    "y_test.value_counts(1)"
   ]
  },
  {
   "cell_type": "markdown",
   "id": "f8f0b69e",
   "metadata": {},
   "source": [
    "1.10.\tApply Logistic Regression and LDA and Interpret inferences of both models. Logical explanation to select the hyper parameters involved in each model. Comment if model is overfit or underfit."
   ]
  },
  {
   "cell_type": "markdown",
   "id": "a82c3c1f",
   "metadata": {},
   "source": [
    "1.13.\tApply GridSearchCV on all models and make models on best params. Explain the hyper parameters for GridSearch. Comment on feature importance. "
   ]
  },
  {
   "cell_type": "markdown",
   "id": "25f2d442",
   "metadata": {},
   "source": [
    "1.14.\tPerformance Metrics for train and test sets using Accuracy, Confusion Matrix, ROC curve and ROC_AUC score, classification report. Compare and comment on all model’s performance metrics in a table. Describe which model is optimized, also explain which model is best for the current problem."
   ]
  },
  {
   "cell_type": "markdown",
   "id": "67fa1d27",
   "metadata": {},
   "source": [
    "Logistic Regression"
   ]
  },
  {
   "cell_type": "code",
   "execution_count": 284,
   "id": "64ed3976",
   "metadata": {},
   "outputs": [
    {
     "name": "stderr",
     "output_type": "stream",
     "text": [
      "[Parallel(n_jobs=2)]: Using backend LokyBackend with 2 concurrent workers.\n",
      "[Parallel(n_jobs=2)]: Done   1 out of   1 | elapsed:    1.8s finished\n"
     ]
    },
    {
     "data": {
      "text/plain": [
       "LogisticRegression(max_iter=10000, n_jobs=2, penalty='none', random_state=123,\n",
       "                   solver='newton-cg', verbose=True)"
      ]
     },
     "execution_count": 284,
     "metadata": {},
     "output_type": "execute_result"
    }
   ],
   "source": [
    "# Fit the Logistic Regression model\n",
    "model = LogisticRegression(solver='newton-cg',max_iter=10000,penalty='none',verbose=True,n_jobs=2,\n",
    "                          random_state=123)\n",
    "\n",
    "model.fit(X_train, y_train)"
   ]
  },
  {
   "cell_type": "code",
   "execution_count": 285,
   "id": "9e34c972",
   "metadata": {},
   "outputs": [],
   "source": [
    "ytrain_predict = model.predict(X_train)\n",
    "ytest_predict = model.predict(X_test)"
   ]
  },
  {
   "cell_type": "code",
   "execution_count": 286,
   "id": "38223af0",
   "metadata": {},
   "outputs": [
    {
     "data": {
      "text/html": [
       "<div>\n",
       "<style scoped>\n",
       "    .dataframe tbody tr th:only-of-type {\n",
       "        vertical-align: middle;\n",
       "    }\n",
       "\n",
       "    .dataframe tbody tr th {\n",
       "        vertical-align: top;\n",
       "    }\n",
       "\n",
       "    .dataframe thead th {\n",
       "        text-align: right;\n",
       "    }\n",
       "</style>\n",
       "<table border=\"1\" class=\"dataframe\">\n",
       "  <thead>\n",
       "    <tr style=\"text-align: right;\">\n",
       "      <th></th>\n",
       "      <th>0</th>\n",
       "      <th>1</th>\n",
       "    </tr>\n",
       "  </thead>\n",
       "  <tbody>\n",
       "    <tr>\n",
       "      <th>0</th>\n",
       "      <td>0.199511</td>\n",
       "      <td>0.800489</td>\n",
       "    </tr>\n",
       "    <tr>\n",
       "      <th>1</th>\n",
       "      <td>0.610744</td>\n",
       "      <td>0.389256</td>\n",
       "    </tr>\n",
       "    <tr>\n",
       "      <th>2</th>\n",
       "      <td>0.083468</td>\n",
       "      <td>0.916532</td>\n",
       "    </tr>\n",
       "    <tr>\n",
       "      <th>3</th>\n",
       "      <td>0.030816</td>\n",
       "      <td>0.969184</td>\n",
       "    </tr>\n",
       "    <tr>\n",
       "      <th>4</th>\n",
       "      <td>0.135993</td>\n",
       "      <td>0.864007</td>\n",
       "    </tr>\n",
       "  </tbody>\n",
       "</table>\n",
       "</div>"
      ],
      "text/plain": [
       "          0         1\n",
       "0  0.199511  0.800489\n",
       "1  0.610744  0.389256\n",
       "2  0.083468  0.916532\n",
       "3  0.030816  0.969184\n",
       "4  0.135993  0.864007"
      ]
     },
     "execution_count": 286,
     "metadata": {},
     "output_type": "execute_result"
    }
   ],
   "source": [
    "ytest_predict_prob=model.predict_proba(X_test)\n",
    "pd.DataFrame(ytest_predict_prob).head()"
   ]
  },
  {
   "cell_type": "code",
   "execution_count": 287,
   "id": "0762a765",
   "metadata": {},
   "outputs": [
    {
     "data": {
      "text/plain": [
       "0.827521206409048"
      ]
     },
     "execution_count": 287,
     "metadata": {},
     "output_type": "execute_result"
    }
   ],
   "source": [
    "# Accuracy - Training Data\n",
    "model.score(X_train, y_train)"
   ]
  },
  {
   "cell_type": "code",
   "execution_count": 288,
   "id": "1e2aa7db",
   "metadata": {},
   "outputs": [
    {
     "data": {
      "image/png": "[encoded data removed]",
      "text/plain": [
       "<Figure size 432x288 with 1 Axes>"
      ]
     },
     "metadata": {
      "needs_background": "light"
     },
     "output_type": "display_data"
    }
   ],
   "source": [
    "plot_roc_curve(model, X_train,y_train)\n",
    "plt.plot([0, 1], [0, 1], linestyle='--');"
   ]
  },
  {
   "cell_type": "code",
   "execution_count": 289,
   "id": "6d4e56ed",
   "metadata": {},
   "outputs": [
    {
     "data": {
      "text/plain": [
       "0.8552631578947368"
      ]
     },
     "execution_count": 289,
     "metadata": {},
     "output_type": "execute_result"
    }
   ],
   "source": [
    "# Accuracy - Test Data\n",
    "model.score(X_test, y_test)"
   ]
  },
  {
   "cell_type": "code",
   "execution_count": 290,
   "id": "668461b0",
   "metadata": {},
   "outputs": [
    {
     "data": {
      "image/png": "[encoded data removed]",
      "text/plain": [
       "<Figure size 432x288 with 1 Axes>"
      ]
     },
     "metadata": {
      "needs_background": "light"
     },
     "output_type": "display_data"
    }
   ],
   "source": [
    "plot_roc_curve(model, X_test, y_test);\n",
    "plt.plot([0,1],[0,1], linestyle='--');"
   ]
  },
  {
   "cell_type": "markdown",
   "id": "a9e9076b",
   "metadata": {},
   "source": [
    "Confusion Matrix - Training Data"
   ]
  },
  {
   "cell_type": "code",
   "execution_count": 291,
   "id": "d5d246a7",
   "metadata": {},
   "outputs": [
    {
     "data": {
      "image/png": "[encoded data removed]",
      "text/plain": [
       "<Figure size 432x288 with 1 Axes>"
      ]
     },
     "metadata": {
      "needs_background": "light"
     },
     "output_type": "display_data"
    }
   ],
   "source": [
    "plot_confusion_matrix(model,X_train,y_train, colorbar=False);"
   ]
  },
  {
   "cell_type": "code",
   "execution_count": 292,
   "id": "41258a5e",
   "metadata": {},
   "outputs": [
    {
     "name": "stdout",
     "output_type": "stream",
     "text": [
      "              precision    recall  f1-score   support\n",
      "\n",
      "           0       0.74      0.66      0.70       322\n",
      "           1       0.86      0.90      0.88       739\n",
      "\n",
      "    accuracy                           0.83      1061\n",
      "   macro avg       0.80      0.78      0.79      1061\n",
      "weighted avg       0.82      0.83      0.82      1061\n",
      "\n"
     ]
    }
   ],
   "source": [
    "print(classification_report(y_train, ytrain_predict))"
   ]
  },
  {
   "cell_type": "markdown",
   "id": "529c3208",
   "metadata": {},
   "source": [
    "Confusion Matrix - Testing Data"
   ]
  },
  {
   "cell_type": "code",
   "execution_count": 293,
   "id": "7886c7d1",
   "metadata": {},
   "outputs": [
    {
     "data": {
      "image/png": "[encoded data removed]",
      "text/plain": [
       "<Figure size 432x288 with 1 Axes>"
      ]
     },
     "metadata": {
      "needs_background": "light"
     },
     "output_type": "display_data"
    }
   ],
   "source": [
    "plot_confusion_matrix(model,X_test,y_test, colorbar=False);"
   ]
  },
  {
   "cell_type": "code",
   "execution_count": 294,
   "id": "e56171e8",
   "metadata": {},
   "outputs": [
    {
     "name": "stdout",
     "output_type": "stream",
     "text": [
      "              precision    recall  f1-score   support\n",
      "\n",
      "           0       0.81      0.68      0.74       138\n",
      "           1       0.87      0.93      0.90       318\n",
      "\n",
      "    accuracy                           0.86       456\n",
      "   macro avg       0.84      0.81      0.82       456\n",
      "weighted avg       0.85      0.86      0.85       456\n",
      "\n"
     ]
    }
   ],
   "source": [
    "print(classification_report(y_test, ytest_predict))"
   ]
  },
  {
   "cell_type": "code",
   "execution_count": 295,
   "id": "4cc8b910",
   "metadata": {},
   "outputs": [],
   "source": [
    "grid={'penalty':['l2','none','l1','elasticnet'],\n",
    "      'solver':['sag','lbfgs','saga','newton-cg','liblinear'],\n",
    "      'tol':[0.0001,0.00001], # 0.1, 0.01,0.001,\n",
    "     'l1_ratio':[0.25,0.5,0.75]} #'max_iter':[100,1000,10000]"
   ]
  },
  {
   "cell_type": "code",
   "execution_count": 296,
   "id": "5e467817",
   "metadata": {},
   "outputs": [],
   "source": [
    "model = LogisticRegression(max_iter=10000,n_jobs=2,random_state=1)"
   ]
  },
  {
   "cell_type": "code",
   "execution_count": 297,
   "id": "c00fe145",
   "metadata": {},
   "outputs": [],
   "source": [
    "grid_search = GridSearchCV(estimator = model, param_grid = grid, cv = 3,n_jobs=-1,scoring='f1')"
   ]
  },
  {
   "cell_type": "code",
   "execution_count": 298,
   "id": "62ced025",
   "metadata": {},
   "outputs": [
    {
     "data": {
      "text/plain": [
       "GridSearchCV(cv=3,\n",
       "             estimator=LogisticRegression(max_iter=10000, n_jobs=2,\n",
       "                                          random_state=1),\n",
       "             n_jobs=-1,\n",
       "             param_grid={'l1_ratio': [0.25, 0.5, 0.75],\n",
       "                         'penalty': ['l2', 'none', 'l1', 'elasticnet'],\n",
       "                         'solver': ['sag', 'lbfgs', 'saga', 'newton-cg',\n",
       "                                    'liblinear'],\n",
       "                         'tol': [0.0001, 1e-05]},\n",
       "             scoring='f1')"
      ]
     },
     "execution_count": 298,
     "metadata": {},
     "output_type": "execute_result"
    }
   ],
   "source": [
    " grid_search.fit(X_train, y_train)"
   ]
  },
  {
   "cell_type": "code",
   "execution_count": 299,
   "id": "37d5eda2",
   "metadata": {},
   "outputs": [],
   "source": [
    "best_model = grid_search.best_estimator_"
   ]
  },
  {
   "cell_type": "code",
   "execution_count": 300,
   "id": "eff38967",
   "metadata": {},
   "outputs": [
    {
     "data": {
      "text/plain": [
       "LogisticRegression(l1_ratio=0.25, max_iter=10000, n_jobs=2, penalty='l1',\n",
       "                   random_state=1, solver='saga')"
      ]
     },
     "execution_count": 300,
     "metadata": {},
     "output_type": "execute_result"
    }
   ],
   "source": [
    "best_model.fit(X_train,y_train)"
   ]
  },
  {
   "cell_type": "markdown",
   "id": "2a427bbe",
   "metadata": {},
   "source": [
    "Prediction on the training set"
   ]
  },
  {
   "cell_type": "code",
   "execution_count": 301,
   "id": "d6d4d8eb",
   "metadata": {},
   "outputs": [],
   "source": [
    "ytrain_predict = best_model.predict(X_train)\n",
    "ytest_predict = best_model.predict(X_test)"
   ]
  },
  {
   "cell_type": "markdown",
   "id": "eed46e39",
   "metadata": {},
   "source": [
    "Getting the probabilities on the test set"
   ]
  },
  {
   "cell_type": "code",
   "execution_count": 302,
   "id": "cea01bef",
   "metadata": {},
   "outputs": [
    {
     "data": {
      "text/html": [
       "<div>\n",
       "<style scoped>\n",
       "    .dataframe tbody tr th:only-of-type {\n",
       "        vertical-align: middle;\n",
       "    }\n",
       "\n",
       "    .dataframe tbody tr th {\n",
       "        vertical-align: top;\n",
       "    }\n",
       "\n",
       "    .dataframe thead th {\n",
       "        text-align: right;\n",
       "    }\n",
       "</style>\n",
       "<table border=\"1\" class=\"dataframe\">\n",
       "  <thead>\n",
       "    <tr style=\"text-align: right;\">\n",
       "      <th></th>\n",
       "      <th>0</th>\n",
       "      <th>1</th>\n",
       "    </tr>\n",
       "  </thead>\n",
       "  <tbody>\n",
       "    <tr>\n",
       "      <th>0</th>\n",
       "      <td>0.199881</td>\n",
       "      <td>0.800119</td>\n",
       "    </tr>\n",
       "    <tr>\n",
       "      <th>1</th>\n",
       "      <td>0.613892</td>\n",
       "      <td>0.386108</td>\n",
       "    </tr>\n",
       "    <tr>\n",
       "      <th>2</th>\n",
       "      <td>0.087125</td>\n",
       "      <td>0.912875</td>\n",
       "    </tr>\n",
       "    <tr>\n",
       "      <th>3</th>\n",
       "      <td>0.031959</td>\n",
       "      <td>0.968041</td>\n",
       "    </tr>\n",
       "    <tr>\n",
       "      <th>4</th>\n",
       "      <td>0.139152</td>\n",
       "      <td>0.860848</td>\n",
       "    </tr>\n",
       "  </tbody>\n",
       "</table>\n",
       "</div>"
      ],
      "text/plain": [
       "          0         1\n",
       "0  0.199881  0.800119\n",
       "1  0.613892  0.386108\n",
       "2  0.087125  0.912875\n",
       "3  0.031959  0.968041\n",
       "4  0.139152  0.860848"
      ]
     },
     "execution_count": 302,
     "metadata": {},
     "output_type": "execute_result"
    }
   ],
   "source": [
    "ytest_predict_prob=best_model.predict_proba(X_test)\n",
    "pd.DataFrame(ytest_predict_prob).head()"
   ]
  },
  {
   "cell_type": "markdown",
   "id": "a0f833ed",
   "metadata": {},
   "source": [
    "Confusion matrix on the training data"
   ]
  },
  {
   "cell_type": "code",
   "execution_count": 303,
   "id": "cf0827d8",
   "metadata": {},
   "outputs": [
    {
     "name": "stdout",
     "output_type": "stream",
     "text": [
      "              precision    recall  f1-score   support\n",
      "\n",
      "           0       0.74      0.66      0.70       322\n",
      "           1       0.86      0.90      0.88       739\n",
      "\n",
      "    accuracy                           0.83      1061\n",
      "   macro avg       0.80      0.78      0.79      1061\n",
      "weighted avg       0.82      0.83      0.82      1061\n",
      " \n",
      "\n"
     ]
    },
    {
     "data": {
      "image/png": "[encoded data removed]",
      "text/plain": [
       "<Figure size 432x288 with 1 Axes>"
      ]
     },
     "metadata": {
      "needs_background": "light"
     },
     "output_type": "display_data"
    }
   ],
   "source": [
    "plot_confusion_matrix(best_model,X_train,y_train, colorbar=False)\n",
    "print(classification_report(y_train, ytrain_predict),'\\n');"
   ]
  },
  {
   "cell_type": "markdown",
   "id": "e106a1fe",
   "metadata": {},
   "source": [
    "Confusion matrix on the test data"
   ]
  },
  {
   "cell_type": "code",
   "execution_count": 304,
   "id": "5fb456fc",
   "metadata": {},
   "outputs": [
    {
     "name": "stdout",
     "output_type": "stream",
     "text": [
      "              precision    recall  f1-score   support\n",
      "\n",
      "           0       0.81      0.68      0.74       138\n",
      "           1       0.87      0.93      0.90       318\n",
      "\n",
      "    accuracy                           0.86       456\n",
      "   macro avg       0.84      0.81      0.82       456\n",
      "weighted avg       0.85      0.86      0.85       456\n",
      " \n",
      "\n"
     ]
    },
    {
     "data": {
      "image/png": "[encoded data removed]",
      "text/plain": [
       "<Figure size 432x288 with 1 Axes>"
      ]
     },
     "metadata": {
      "needs_background": "light"
     },
     "output_type": "display_data"
    }
   ],
   "source": [
    "plot_confusion_matrix(best_model,X_test,y_test, colorbar=False)\n",
    "print(classification_report(y_test, ytest_predict),'\\n');"
   ]
  },
  {
   "cell_type": "code",
   "execution_count": 305,
   "id": "666214af",
   "metadata": {},
   "outputs": [
    {
     "data": {
      "text/plain": [
       "array([[-0.20120277,  0.3462253 ,  0.03090638,  0.54957463, -0.85131994,\n",
       "        -0.2065396 , -0.39532559,  0.02063638]])"
      ]
     },
     "execution_count": 305,
     "metadata": {},
     "output_type": "execute_result"
    }
   ],
   "source": [
    "best_model.coef_"
   ]
  },
  {
   "cell_type": "markdown",
   "id": "2866f4a8",
   "metadata": {},
   "source": [
    "Linear Discriminant Analysis"
   ]
  },
  {
   "cell_type": "code",
   "execution_count": 306,
   "id": "8443c0da",
   "metadata": {},
   "outputs": [],
   "source": [
    "X = df_dummy.drop('vote_Labour',axis=1)\n",
    "y = df_dummy['vote_Labour']"
   ]
  },
  {
   "cell_type": "code",
   "execution_count": 307,
   "id": "a8582131",
   "metadata": {},
   "outputs": [],
   "source": [
    "X_train,X_test,y_train,y_test=train_test_split(X,\n",
    "                                               y,\n",
    "                                               test_size=0.30,\n",
    "                                               random_state=1,\n",
    "                                               stratify = y)"
   ]
  },
  {
   "cell_type": "markdown",
   "id": "8b6a97b8",
   "metadata": {},
   "source": [
    "Build LDA Model & Train"
   ]
  },
  {
   "cell_type": "code",
   "execution_count": 308,
   "id": "da756cf8",
   "metadata": {},
   "outputs": [],
   "source": [
    "clf = LinearDiscriminantAnalysis()\n",
    "model=clf.fit(X_train,y_train)"
   ]
  },
  {
   "cell_type": "code",
   "execution_count": 309,
   "id": "66c85a3d",
   "metadata": {},
   "outputs": [
    {
     "name": "stdout",
     "output_type": "stream",
     "text": [
      "0.822808671065033 0.8876860622462788\n",
      "0.8530701754385965 0.9245283018867925\n"
     ]
    }
   ],
   "source": [
    "# Training Data Class Prediction with a cut-off value of 0.5\n",
    "pred_class_train = model.predict(X_train)\n",
    "\n",
    "# Test Data Class Prediction with a cut-off value of 0.5\n",
    "pred_class_test = model.predict(X_test)\n",
    "\n",
    "LDA_train_score = model.score(X_train, y_train)\n",
    "LDA_train_recall_score = recall_score(y_train,pred_class_train)\n",
    "print(LDA_train_score,LDA_train_recall_score)\n",
    "\n",
    "\n",
    "LDA_test_predict = model.predict(X_test)\n",
    "LDA_test_score = model.score(X_test, y_test)\n",
    "LDA_test_recall_score = recall_score(y_test,pred_class_test)\n",
    "print(LDA_test_score,LDA_test_recall_score)"
   ]
  },
  {
   "cell_type": "code",
   "execution_count": 310,
   "id": "14a1c5bf",
   "metadata": {},
   "outputs": [
    {
     "data": {
      "image/png": "[encoded data removed]",
      "text/plain": [
       "<Figure size 432x288 with 1 Axes>"
      ]
     },
     "metadata": {
      "needs_background": "light"
     },
     "output_type": "display_data"
    }
   ],
   "source": [
    "plot_confusion_matrix(model,X_train,y_train,colorbar = False);"
   ]
  },
  {
   "cell_type": "code",
   "execution_count": 311,
   "id": "2972714a",
   "metadata": {},
   "outputs": [
    {
     "name": "stdout",
     "output_type": "stream",
     "text": [
      "              precision    recall  f1-score   support\n",
      "\n",
      "           0       0.72      0.67      0.70       322\n",
      "           1       0.86      0.89      0.87       739\n",
      "\n",
      "    accuracy                           0.82      1061\n",
      "   macro avg       0.79      0.78      0.79      1061\n",
      "weighted avg       0.82      0.82      0.82      1061\n",
      "\n"
     ]
    }
   ],
   "source": [
    "print(classification_report(y_train,pred_class_train))"
   ]
  },
  {
   "cell_type": "code",
   "execution_count": 312,
   "id": "f9121616",
   "metadata": {},
   "outputs": [
    {
     "data": {
      "image/png": "[encoded data removed]",
      "text/plain": [
       "<Figure size 432x288 with 1 Axes>"
      ]
     },
     "metadata": {
      "needs_background": "light"
     },
     "output_type": "display_data"
    }
   ],
   "source": [
    "plot_confusion_matrix(model,X_test,y_test, colorbar=False);"
   ]
  },
  {
   "cell_type": "code",
   "execution_count": 313,
   "id": "ca9334d0",
   "metadata": {},
   "outputs": [
    {
     "name": "stdout",
     "output_type": "stream",
     "text": [
      "              precision    recall  f1-score   support\n",
      "\n",
      "           0       0.80      0.69      0.74       138\n",
      "           1       0.87      0.92      0.90       318\n",
      "\n",
      "    accuracy                           0.85       456\n",
      "   macro avg       0.84      0.81      0.82       456\n",
      "weighted avg       0.85      0.85      0.85       456\n",
      "\n"
     ]
    }
   ],
   "source": [
    "print(classification_report(y_test,pred_class_test))"
   ]
  },
  {
   "cell_type": "code",
   "execution_count": 314,
   "id": "68e95033",
   "metadata": {},
   "outputs": [],
   "source": [
    "pred_train_prob = model.predict_proba(X_train)\n",
    "pred_test_prob = model.predict_proba(X_test)\n",
    "\n",
    "auc_train = roc_auc_score(y_train,pred_train_prob[:,1])\n",
    "auc_test = roc_auc_score(y_test,pred_test_prob[:,1])"
   ]
  },
  {
   "cell_type": "code",
   "execution_count": 315,
   "id": "fa82ef76",
   "metadata": {},
   "outputs": [
    {
     "data": {
      "image/png": "[encoded data removed]",
      "text/plain": [
       "<Figure size 432x288 with 1 Axes>"
      ]
     },
     "metadata": {
      "needs_background": "light"
     },
     "output_type": "display_data"
    }
   ],
   "source": [
    "fig,ax = plt.subplots()\n",
    "plot_roc_curve(model, X_train,y_train,ax=ax, \n",
    "               label = 'Train Curve : AUC: '+str(round(auc_train,2)));\n",
    "plot_roc_curve(model, X_test, y_test, ax=ax,\n",
    "              label = 'Test Curve : AUC: '+ str(round(auc_test,2)));\n",
    "plt.plot([0,1],[0,1], linestyle='--', color = 'grey');"
   ]
  },
  {
   "cell_type": "markdown",
   "id": "4c26d5d4",
   "metadata": {},
   "source": [
    "1.11.\tApply KNN and Naïve Bayes and explain the choice of Hyper parameters. Calculate Train-Test accuracies for each model. Comment if the model is overfit or underfit."
   ]
  },
  {
   "cell_type": "markdown",
   "id": "39ca3534",
   "metadata": {},
   "source": [
    "Naive Bayes"
   ]
  },
  {
   "cell_type": "code",
   "execution_count": 316,
   "id": "eafd0bab",
   "metadata": {},
   "outputs": [],
   "source": [
    "from sklearn import metrics\n",
    "\n",
    "X = df_dummy.drop('vote_Labour',axis=1)\n",
    "y = df_dummy['vote_Labour']"
   ]
  },
  {
   "cell_type": "code",
   "execution_count": 317,
   "id": "0619e1ea",
   "metadata": {},
   "outputs": [],
   "source": [
    "X_train,X_test,y_train,y_test=train_test_split(X,\n",
    "                                               y,\n",
    "                                               test_size=0.30,\n",
    "                                               random_state=1,\n",
    "                                               stratify = y)"
   ]
  },
  {
   "cell_type": "code",
   "execution_count": 318,
   "id": "3d333699",
   "metadata": {},
   "outputs": [
    {
     "data": {
      "text/plain": [
       "GaussianNB()"
      ]
     },
     "execution_count": 318,
     "metadata": {},
     "output_type": "execute_result"
    }
   ],
   "source": [
    "NB_model = GaussianNB()\n",
    "NB_model.fit(X_train, y_train)"
   ]
  },
  {
   "cell_type": "code",
   "execution_count": 319,
   "id": "e35fecba",
   "metadata": {},
   "outputs": [
    {
     "name": "stdout",
     "output_type": "stream",
     "text": [
      "0.8199811498586239\n",
      "[[226  96]\n",
      " [ 95 644]]\n",
      "              precision    recall  f1-score   support\n",
      "\n",
      "           0       0.70      0.70      0.70       322\n",
      "           1       0.87      0.87      0.87       739\n",
      "\n",
      "    accuracy                           0.82      1061\n",
      "   macro avg       0.79      0.79      0.79      1061\n",
      "weighted avg       0.82      0.82      0.82      1061\n",
      "\n"
     ]
    }
   ],
   "source": [
    "y_train_predict = NB_model.predict(X_train)\n",
    "model_score = NB_model.score(X_train, y_train)   \n",
    "nb_train_recall_score = recall_score(y_train, y_train_predict)## Accuracy\n",
    "print(model_score)\n",
    "print(metrics.confusion_matrix(y_train, y_train_predict))          ## confusion_matrix\n",
    "print(metrics.classification_report(y_train, y_train_predict))     ## classification_report"
   ]
  },
  {
   "cell_type": "code",
   "execution_count": 320,
   "id": "9076e268",
   "metadata": {},
   "outputs": [
    {
     "name": "stdout",
     "output_type": "stream",
     "text": [
      "0.8574561403508771\n",
      "[[100  38]\n",
      " [ 27 291]]\n",
      "              precision    recall  f1-score   support\n",
      "\n",
      "           0       0.79      0.72      0.75       138\n",
      "           1       0.88      0.92      0.90       318\n",
      "\n",
      "    accuracy                           0.86       456\n",
      "   macro avg       0.84      0.82      0.83       456\n",
      "weighted avg       0.86      0.86      0.86       456\n",
      "\n"
     ]
    }
   ],
   "source": [
    "## Performance Matrix on test data set\n",
    "y_test_predict = NB_model.predict(X_test)\n",
    "model_score = NB_model.score(X_test, y_test)    \n",
    "nb_test_recall_score = recall_score(y_test, y_test_predict)## Accuracy## Accuracy\n",
    "print(model_score)\n",
    "print(metrics.confusion_matrix(y_test, y_test_predict))         ## confusion_matrix\n",
    "print(metrics.classification_report(y_test, y_test_predict))    ## classification_report"
   ]
  },
  {
   "cell_type": "markdown",
   "id": "dcf664dc",
   "metadata": {},
   "source": [
    "KNN"
   ]
  },
  {
   "cell_type": "code",
   "execution_count": 321,
   "id": "db333c5d",
   "metadata": {},
   "outputs": [],
   "source": [
    "X = df_dummy.drop('vote_Labour',axis=1)\n",
    "y = df_dummy['vote_Labour']"
   ]
  },
  {
   "cell_type": "code",
   "execution_count": 322,
   "id": "c3ce6b9b",
   "metadata": {},
   "outputs": [],
   "source": [
    "X_train,X_test,y_train,y_test=train_test_split(X,\n",
    "                                               y,\n",
    "                                               test_size=0.30,\n",
    "                                               random_state=1,\n",
    "                                               stratify = y)"
   ]
  },
  {
   "cell_type": "code",
   "execution_count": 323,
   "id": "68d524c9",
   "metadata": {},
   "outputs": [
    {
     "data": {
      "text/plain": [
       "KNeighborsClassifier()"
      ]
     },
     "execution_count": 323,
     "metadata": {},
     "output_type": "execute_result"
    }
   ],
   "source": [
    "from sklearn.neighbors import KNeighborsClassifier\n",
    "\n",
    "KNN_model=KNeighborsClassifier()\n",
    "KNN_model.fit(X_train,y_train)"
   ]
  },
  {
   "cell_type": "code",
   "execution_count": 324,
   "id": "afce2734",
   "metadata": {},
   "outputs": [
    {
     "name": "stdout",
     "output_type": "stream",
     "text": [
      "0.8586239396795476\n",
      "[[234  88]\n",
      " [ 62 677]]\n",
      "              precision    recall  f1-score   support\n",
      "\n",
      "           0       0.79      0.73      0.76       322\n",
      "           1       0.88      0.92      0.90       739\n",
      "\n",
      "    accuracy                           0.86      1061\n",
      "   macro avg       0.84      0.82      0.83      1061\n",
      "weighted avg       0.86      0.86      0.86      1061\n",
      "\n"
     ]
    }
   ],
   "source": [
    "## Performance Matrix on train data set\n",
    "y_train_predict = KNN_model.predict(X_train)\n",
    "model_score = KNN_model.score(X_train, y_train)\n",
    "knn_train_recall_score = recall_score(y_train, y_train_predict)## Accuracy\n",
    "print(model_score)\n",
    "print(metrics.confusion_matrix(y_train, y_train_predict))\n",
    "print(metrics.classification_report(y_train, y_train_predict))"
   ]
  },
  {
   "cell_type": "code",
   "execution_count": 325,
   "id": "a08a1189",
   "metadata": {
    "scrolled": true
   },
   "outputs": [
    {
     "name": "stdout",
     "output_type": "stream",
     "text": [
      "0.8486842105263158\n",
      "[[ 99  39]\n",
      " [ 30 288]]\n",
      "              precision    recall  f1-score   support\n",
      "\n",
      "           0       0.77      0.72      0.74       138\n",
      "           1       0.88      0.91      0.89       318\n",
      "\n",
      "    accuracy                           0.85       456\n",
      "   macro avg       0.82      0.81      0.82       456\n",
      "weighted avg       0.85      0.85      0.85       456\n",
      "\n"
     ]
    }
   ],
   "source": [
    "## Performance Matrix on test data set\n",
    "y_test_predict = KNN_model.predict(X_test)\n",
    "model_score = KNN_model.score(X_test, y_test)\n",
    "knn_test_recall_score = recall_score(y_test, y_test_predict)## Accuracy## Accuracy\n",
    "print(model_score)\n",
    "print(metrics.confusion_matrix(y_test, y_test_predict))\n",
    "print(metrics.classification_report(y_test, y_test_predict))"
   ]
  },
  {
   "cell_type": "markdown",
   "id": "55cfc74f",
   "metadata": {},
   "source": [
    "Default value n_neighbors=5, lets check the performance for K=7"
   ]
  },
  {
   "cell_type": "code",
   "execution_count": 326,
   "id": "15588230",
   "metadata": {},
   "outputs": [
    {
     "data": {
      "text/plain": [
       "KNeighborsClassifier(n_neighbors=7)"
      ]
     },
     "execution_count": 326,
     "metadata": {},
     "output_type": "execute_result"
    }
   ],
   "source": [
    "KNN_model=KNeighborsClassifier(n_neighbors=7)\n",
    "KNN_model.fit(X_train,y_train)"
   ]
  },
  {
   "cell_type": "code",
   "execution_count": 327,
   "id": "126392e2",
   "metadata": {},
   "outputs": [
    {
     "name": "stdout",
     "output_type": "stream",
     "text": [
      "0.8463713477851084\n",
      "[[229  93]\n",
      " [ 70 669]]\n",
      "              precision    recall  f1-score   support\n",
      "\n",
      "           0       0.77      0.71      0.74       322\n",
      "           1       0.88      0.91      0.89       739\n",
      "\n",
      "    accuracy                           0.85      1061\n",
      "   macro avg       0.82      0.81      0.81      1061\n",
      "weighted avg       0.84      0.85      0.84      1061\n",
      "\n"
     ]
    }
   ],
   "source": [
    "## Performance Matrix on train data set\n",
    "y_train_predict = KNN_model.predict(X_train)\n",
    "model_score = KNN_model.score(X_train, y_train)\n",
    "print(model_score)\n",
    "print(metrics.confusion_matrix(y_train, y_train_predict))\n",
    "print(metrics.classification_report(y_train, y_train_predict))"
   ]
  },
  {
   "cell_type": "code",
   "execution_count": 328,
   "id": "3e5cee34",
   "metadata": {},
   "outputs": [
    {
     "name": "stdout",
     "output_type": "stream",
     "text": [
      "0.8508771929824561\n",
      "[[ 98  40]\n",
      " [ 28 290]]\n",
      "              precision    recall  f1-score   support\n",
      "\n",
      "           0       0.78      0.71      0.74       138\n",
      "           1       0.88      0.91      0.90       318\n",
      "\n",
      "    accuracy                           0.85       456\n",
      "   macro avg       0.83      0.81      0.82       456\n",
      "weighted avg       0.85      0.85      0.85       456\n",
      "\n"
     ]
    }
   ],
   "source": [
    "## Performance Matrix on test data set\n",
    "y_test_predict = KNN_model.predict(X_test)\n",
    "model_score = KNN_model.score(X_test, y_test)\n",
    "print(model_score)\n",
    "print(metrics.confusion_matrix(y_test, y_test_predict))\n",
    "print(metrics.classification_report(y_test, y_test_predict))"
   ]
  },
  {
   "cell_type": "markdown",
   "id": "56a8a1ab",
   "metadata": {},
   "source": [
    "1.12.\tModel Tuning, Bagging and Boosting."
   ]
  },
  {
   "cell_type": "markdown",
   "id": "e5494e96",
   "metadata": {},
   "source": [
    "Bagging"
   ]
  },
  {
   "cell_type": "code",
   "execution_count": 329,
   "id": "1fd925b4",
   "metadata": {},
   "outputs": [],
   "source": [
    "X = df_dummy.drop('vote_Labour',axis=1)\n",
    "y = df_dummy['vote_Labour']"
   ]
  },
  {
   "cell_type": "code",
   "execution_count": 330,
   "id": "1b27821b",
   "metadata": {},
   "outputs": [],
   "source": [
    "X_train,X_test,y_train,y_test=train_test_split(X,\n",
    "                                               y,\n",
    "                                               test_size=0.30,\n",
    "                                               random_state=1,\n",
    "                                               stratify = y)"
   ]
  },
  {
   "cell_type": "code",
   "execution_count": 331,
   "id": "4eac78a2",
   "metadata": {},
   "outputs": [
    {
     "data": {
      "text/plain": [
       "BaggingClassifier(base_estimator=DecisionTreeClassifier(), n_estimators=100,\n",
       "                  random_state=1)"
      ]
     },
     "execution_count": 331,
     "metadata": {},
     "output_type": "execute_result"
    }
   ],
   "source": [
    "from sklearn.ensemble import BaggingClassifier\n",
    "from sklearn.tree import DecisionTreeClassifier\n",
    "cart = DecisionTreeClassifier()\n",
    "Bagging_model=BaggingClassifier(base_estimator=cart,\n",
    "                                n_estimators=100,\n",
    "                                random_state=1)\n",
    "Bagging_model.fit(X_train, y_train)"
   ]
  },
  {
   "cell_type": "code",
   "execution_count": 332,
   "id": "787a5db1",
   "metadata": {},
   "outputs": [
    {
     "name": "stdout",
     "output_type": "stream",
     "text": [
      "1.0 1.0\n"
     ]
    }
   ],
   "source": [
    "## Performance Matrix on train data set\n",
    "Bagging_train_predict = Bagging_model.predict(X_train)\n",
    "Bagging_train_score =Bagging_model.score(X_train, y_train)\n",
    "Bagging_train_recall_score = recall_score(y_train,Bagging_train_predict)\n",
    "print(Bagging_train_score, Bagging_train_recall_score)"
   ]
  },
  {
   "cell_type": "code",
   "execution_count": 333,
   "id": "2727d96a",
   "metadata": {},
   "outputs": [
    {
     "data": {
      "image/png": "[encoded data removed]",
      "text/plain": [
       "<Figure size 432x288 with 2 Axes>"
      ]
     },
     "metadata": {
      "needs_background": "light"
     },
     "output_type": "display_data"
    }
   ],
   "source": [
    "plot_confusion_matrix(Bagging_model,X_train, y_train)\n",
    "plt.grid(b=False);"
   ]
  },
  {
   "cell_type": "code",
   "execution_count": 334,
   "id": "e5121c98",
   "metadata": {
    "scrolled": true
   },
   "outputs": [
    {
     "name": "stdout",
     "output_type": "stream",
     "text": [
      "              precision    recall  f1-score   support\n",
      "\n",
      "           0       1.00      1.00      1.00       322\n",
      "           1       1.00      1.00      1.00       739\n",
      "\n",
      "    accuracy                           1.00      1061\n",
      "   macro avg       1.00      1.00      1.00      1061\n",
      "weighted avg       1.00      1.00      1.00      1061\n",
      "\n"
     ]
    }
   ],
   "source": [
    "print(classification_report(y_train, Bagging_train_predict))"
   ]
  },
  {
   "cell_type": "code",
   "execution_count": 335,
   "id": "5c8e1500",
   "metadata": {},
   "outputs": [
    {
     "name": "stdout",
     "output_type": "stream",
     "text": [
      "0.8399122807017544 0.9056603773584906\n"
     ]
    }
   ],
   "source": [
    "## Performance Matrix on test data set\n",
    "Bagging_test_predict = Bagging_model.predict(X_test)\n",
    "Bagging_test_score = Bagging_model.score(X_test, y_test)\n",
    "Bagging_test_recall_score = recall_score(y_test, Bagging_test_predict)\n",
    "print(Bagging_test_score, Bagging_test_recall_score)"
   ]
  },
  {
   "cell_type": "code",
   "execution_count": 336,
   "id": "39b5cde3",
   "metadata": {},
   "outputs": [
    {
     "data": {
      "image/png": "[encoded data removed]",
      "text/plain": [
       "<Figure size 432x288 with 2 Axes>"
      ]
     },
     "metadata": {
      "needs_background": "light"
     },
     "output_type": "display_data"
    }
   ],
   "source": [
    "plot_confusion_matrix(Bagging_model,X_test,y_test)\n",
    "plt.grid(b=False);"
   ]
  },
  {
   "cell_type": "markdown",
   "id": "4037c278",
   "metadata": {},
   "source": [
    "Boosting"
   ]
  },
  {
   "cell_type": "code",
   "execution_count": 337,
   "id": "0fbcae9c",
   "metadata": {},
   "outputs": [],
   "source": [
    "from sklearn.ensemble import AdaBoostClassifier"
   ]
  },
  {
   "cell_type": "code",
   "execution_count": 338,
   "id": "7431f4cb",
   "metadata": {},
   "outputs": [],
   "source": [
    "X = df_dummy.drop('vote_Labour',axis=1)\n",
    "y = df_dummy['vote_Labour']"
   ]
  },
  {
   "cell_type": "code",
   "execution_count": 339,
   "id": "637bf3dd",
   "metadata": {},
   "outputs": [],
   "source": [
    "X_train,X_test,y_train,y_test=train_test_split(X,\n",
    "                                               y,\n",
    "                                               test_size=0.30,\n",
    "                                               random_state=1,\n",
    "                                               stratify = y)"
   ]
  },
  {
   "cell_type": "code",
   "execution_count": 340,
   "id": "819ae426",
   "metadata": {},
   "outputs": [
    {
     "data": {
      "text/plain": [
       "AdaBoostClassifier(n_estimators=100, random_state=1)"
      ]
     },
     "execution_count": 340,
     "metadata": {},
     "output_type": "execute_result"
    }
   ],
   "source": [
    "ADB_model = AdaBoostClassifier(n_estimators=100,random_state=1)\n",
    "ADB_model.fit(X_train,y_train)"
   ]
  },
  {
   "cell_type": "code",
   "execution_count": 341,
   "id": "1532caa6",
   "metadata": {},
   "outputs": [
    {
     "name": "stdout",
     "output_type": "stream",
     "text": [
      "0.8491988689915174 0.9106901217861976\n"
     ]
    }
   ],
   "source": [
    "ADB_train_predict = ADB_model.predict(X_train)\n",
    "ADB_train_score = ADB_model.score(X_train, y_train)\n",
    "ADB_train_recall_score = recall_score(y_train,ADB_train_predict)\n",
    "print(ADB_train_score,ADB_train_recall_score)"
   ]
  },
  {
   "cell_type": "code",
   "execution_count": 342,
   "id": "ee8a40c6",
   "metadata": {},
   "outputs": [
    {
     "data": {
      "image/png": "[encoded data removed]",
      "text/plain": [
       "<Figure size 432x288 with 2 Axes>"
      ]
     },
     "metadata": {
      "needs_background": "light"
     },
     "output_type": "display_data"
    }
   ],
   "source": [
    "plot_confusion_matrix(ADB_model,X_train,y_train);\n",
    "plt.grid(b=False);"
   ]
  },
  {
   "cell_type": "code",
   "execution_count": 343,
   "id": "fbccb057",
   "metadata": {},
   "outputs": [
    {
     "name": "stdout",
     "output_type": "stream",
     "text": [
      "              precision    recall  f1-score   support\n",
      "\n",
      "           0       0.78      0.71      0.74       322\n",
      "           1       0.88      0.91      0.89       739\n",
      "\n",
      "    accuracy                           0.85      1061\n",
      "   macro avg       0.83      0.81      0.82      1061\n",
      "weighted avg       0.85      0.85      0.85      1061\n",
      "\n"
     ]
    }
   ],
   "source": [
    "print(classification_report(y_train, ADB_train_predict))"
   ]
  },
  {
   "cell_type": "code",
   "execution_count": 344,
   "id": "50aab5c3",
   "metadata": {},
   "outputs": [
    {
     "name": "stdout",
     "output_type": "stream",
     "text": [
      "0.8355263157894737 0.89937106918239\n"
     ]
    }
   ],
   "source": [
    "## Performance Matrix on test data set\n",
    "ADB_test_predict = ADB_model.predict(X_test)\n",
    "ADB_test_score = ADB_model.score(X_test, y_test)\n",
    "ADB_test_recall_score = recall_score(y_test,ADB_test_predict)\n",
    "print(ADB_test_score,ADB_test_recall_score)"
   ]
  },
  {
   "cell_type": "code",
   "execution_count": 345,
   "id": "4ee6196d",
   "metadata": {},
   "outputs": [
    {
     "data": {
      "image/png": "[encoded data removed]",
      "text/plain": [
       "<Figure size 432x288 with 2 Axes>"
      ]
     },
     "metadata": {
      "needs_background": "light"
     },
     "output_type": "display_data"
    }
   ],
   "source": [
    "plot_confusion_matrix(ADB_model,X_test,y_test)\n",
    "plt.grid(b=False);"
   ]
  },
  {
   "cell_type": "code",
   "execution_count": 346,
   "id": "a855e7da",
   "metadata": {},
   "outputs": [
    {
     "name": "stdout",
     "output_type": "stream",
     "text": [
      "              precision    recall  f1-score   support\n",
      "\n",
      "           0       0.75      0.69      0.72       138\n",
      "           1       0.87      0.90      0.88       318\n",
      "\n",
      "    accuracy                           0.84       456\n",
      "   macro avg       0.81      0.79      0.80       456\n",
      "weighted avg       0.83      0.84      0.83       456\n",
      "\n"
     ]
    }
   ],
   "source": [
    "print(classification_report(y_test, ADB_test_predict))"
   ]
  },
  {
   "cell_type": "markdown",
   "id": "61e526b3",
   "metadata": {},
   "source": [
    "Gradient Boosting"
   ]
  },
  {
   "cell_type": "code",
   "execution_count": 347,
   "id": "aee812d9",
   "metadata": {},
   "outputs": [],
   "source": [
    "X = df_dummy.drop('vote_Labour',axis=1)\n",
    "y = df_dummy['vote_Labour']"
   ]
  },
  {
   "cell_type": "code",
   "execution_count": 348,
   "id": "fba0a86b",
   "metadata": {},
   "outputs": [],
   "source": [
    "X_train,X_test,y_train,y_test=train_test_split(X,\n",
    "                                               y,\n",
    "                                               test_size=0.30,\n",
    "                                               random_state=1,\n",
    "                                               stratify = y)"
   ]
  },
  {
   "cell_type": "code",
   "execution_count": 349,
   "id": "46990a4b",
   "metadata": {},
   "outputs": [],
   "source": [
    "from sklearn.ensemble import GradientBoostingClassifier\n",
    "gbcl = GradientBoostingClassifier(random_state=1)"
   ]
  },
  {
   "cell_type": "code",
   "execution_count": 350,
   "id": "d71953ae",
   "metadata": {},
   "outputs": [],
   "source": [
    "gbcl = gbcl.fit(X_train, y_train)"
   ]
  },
  {
   "cell_type": "code",
   "execution_count": 351,
   "id": "59ba7ce0",
   "metadata": {},
   "outputs": [
    {
     "name": "stdout",
     "output_type": "stream",
     "text": [
      "0.885956644674835 0.9336941813261164\n"
     ]
    }
   ],
   "source": [
    "## Performance Matrix on train data set\n",
    "gbcl_train_predict = gbcl.predict(X_train)\n",
    "gbcl_train_score = gbcl.score(X_train, y_train)\n",
    "gbcl_train_recall_score = recall_score(y_train,gbcl_train_predict)\n",
    "print(gbcl_train_score,gbcl_train_recall_score)"
   ]
  },
  {
   "cell_type": "code",
   "execution_count": 352,
   "id": "e579f966",
   "metadata": {},
   "outputs": [
    {
     "data": {
      "image/png": "[encoded data removed]",
      "text/plain": [
       "<Figure size 432x288 with 2 Axes>"
      ]
     },
     "metadata": {
      "needs_background": "light"
     },
     "output_type": "display_data"
    }
   ],
   "source": [
    "plot_confusion_matrix(gbcl,X_train,y_train)\n",
    "plt.grid(b=False);"
   ]
  },
  {
   "cell_type": "code",
   "execution_count": 353,
   "id": "a64350aa",
   "metadata": {},
   "outputs": [
    {
     "name": "stdout",
     "output_type": "stream",
     "text": [
      "              precision    recall  f1-score   support\n",
      "\n",
      "           0       0.84      0.78      0.81       322\n",
      "           1       0.91      0.93      0.92       739\n",
      "\n",
      "    accuracy                           0.89      1061\n",
      "   macro avg       0.87      0.86      0.86      1061\n",
      "weighted avg       0.88      0.89      0.88      1061\n",
      "\n"
     ]
    }
   ],
   "source": [
    "print(classification_report(y_train, gbcl_train_predict))"
   ]
  },
  {
   "cell_type": "code",
   "execution_count": 354,
   "id": "62034a07",
   "metadata": {},
   "outputs": [
    {
     "name": "stdout",
     "output_type": "stream",
     "text": [
      "0.8421052631578947 0.9088050314465409\n"
     ]
    }
   ],
   "source": [
    "## Performance Matrix on test data set\n",
    "gbcl_test_predict = gbcl.predict(X_test)\n",
    "gbcl_test_score = gbcl.score(X_test, y_test)\n",
    "gbcl_test_recall_score = recall_score(y_test, gbcl_test_predict)\n",
    "print(gbcl_test_score,gbcl_test_recall_score)"
   ]
  },
  {
   "cell_type": "code",
   "execution_count": 355,
   "id": "0553f18e",
   "metadata": {},
   "outputs": [
    {
     "data": {
      "image/png": "[encoded data removed]",
      "text/plain": [
       "<Figure size 432x288 with 2 Axes>"
      ]
     },
     "metadata": {
      "needs_background": "light"
     },
     "output_type": "display_data"
    }
   ],
   "source": [
    "plot_confusion_matrix(gbcl,X_test,y_test)\n",
    "plt.grid(b=False);"
   ]
  },
  {
   "cell_type": "code",
   "execution_count": 356,
   "id": "0fd58c0e",
   "metadata": {},
   "outputs": [
    {
     "name": "stdout",
     "output_type": "stream",
     "text": [
      "              precision    recall  f1-score   support\n",
      "\n",
      "           0       0.77      0.69      0.73       138\n",
      "           1       0.87      0.91      0.89       318\n",
      "\n",
      "    accuracy                           0.84       456\n",
      "   macro avg       0.82      0.80      0.81       456\n",
      "weighted avg       0.84      0.84      0.84       456\n",
      "\n"
     ]
    }
   ],
   "source": [
    "print(classification_report(y_test, gbcl_test_predict))"
   ]
  },
  {
   "cell_type": "markdown",
   "id": "f62a4dce",
   "metadata": {},
   "source": [
    "1.15.\tExplain the insights and recommendations."
   ]
  },
  {
   "cell_type": "code",
   "execution_count": 358,
   "id": "10f211e5",
   "metadata": {
    "scrolled": true
   },
   "outputs": [
    {
     "data": {
      "text/html": [
       "<div>\n",
       "<style scoped>\n",
       "    .dataframe tbody tr th:only-of-type {\n",
       "        vertical-align: middle;\n",
       "    }\n",
       "\n",
       "    .dataframe tbody tr th {\n",
       "        vertical-align: top;\n",
       "    }\n",
       "\n",
       "    .dataframe thead th {\n",
       "        text-align: right;\n",
       "    }\n",
       "</style>\n",
       "<table border=\"1\" class=\"dataframe\">\n",
       "  <thead>\n",
       "    <tr style=\"text-align: right;\">\n",
       "      <th></th>\n",
       "      <th>train_recall</th>\n",
       "      <th>test_recall</th>\n",
       "    </tr>\n",
       "  </thead>\n",
       "  <tbody>\n",
       "    <tr>\n",
       "      <th>Naive-Bayes</th>\n",
       "      <td>0.871448</td>\n",
       "      <td>0.915094</td>\n",
       "    </tr>\n",
       "    <tr>\n",
       "      <th>LDA</th>\n",
       "      <td>0.887686</td>\n",
       "      <td>0.924528</td>\n",
       "    </tr>\n",
       "    <tr>\n",
       "      <th>ADABoost</th>\n",
       "      <td>0.910690</td>\n",
       "      <td>0.899371</td>\n",
       "    </tr>\n",
       "    <tr>\n",
       "      <th>GradientBoost</th>\n",
       "      <td>0.933694</td>\n",
       "      <td>0.905660</td>\n",
       "    </tr>\n",
       "    <tr>\n",
       "      <th>KNN</th>\n",
       "      <td>0.916103</td>\n",
       "      <td>0.908805</td>\n",
       "    </tr>\n",
       "    <tr>\n",
       "      <th>Bagging</th>\n",
       "      <td>1.000000</td>\n",
       "      <td>0.905660</td>\n",
       "    </tr>\n",
       "  </tbody>\n",
       "</table>\n",
       "</div>"
      ],
      "text/plain": [
       "               train_recall  test_recall\n",
       "Naive-Bayes        0.871448     0.915094\n",
       "LDA                0.887686     0.924528\n",
       "ADABoost           0.910690     0.899371\n",
       "GradientBoost      0.933694     0.905660\n",
       "KNN                0.916103     0.908805\n",
       "Bagging            1.000000     0.905660"
      ]
     },
     "execution_count": 358,
     "metadata": {},
     "output_type": "execute_result"
    }
   ],
   "source": [
    "model_names = ['Naive-Bayes','LDA','ADABoost',\n",
    "              'GradientBoost','KNN','Bagging']\n",
    "\n",
    "train_recalls = [nb_train_recall_score,LDA_train_recall_score,\n",
    "                ADB_train_recall_score,gbcl_train_recall_score, \n",
    "                 knn_train_recall_score,\n",
    "                Bagging_train_recall_score]\n",
    "test_recalls = [nb_test_recall_score,LDA_test_recall_score,\n",
    "               ADB_test_recall_score,knn_test_recall_score,\n",
    "                gbcl_test_recall_score, Bagging_test_recall_score]\n",
    "\n",
    "recall_df = pd.DataFrame({'train_recall':train_recalls,\n",
    "                         'test_recall':test_recalls},\n",
    "                        index=model_names)\n",
    "recall_df\n",
    "\n"
   ]
  },
  {
   "cell_type": "markdown",
   "id": "9bf73428",
   "metadata": {},
   "source": [
    "<b>Problem-2: \n",
    "In this project, we are going to work on the inaugural corpora from the nltk in Python. We will be looking at the following speeches of the Presidents of the United States of America:\n",
    "\n",
    "President Franklin D. Roosevelt in 1941\n",
    "President John F. Kennedy in 1961\n",
    "President Richard Nixon in 1973\n"
   ]
  },
  {
   "cell_type": "markdown",
   "id": "b4b4581a",
   "metadata": {},
   "source": [
    "2.1.\tFind the number of characters, words and sentences for the mentioned documents. (Hint: use .words(), .raw(), .sent() for extracting counts)."
   ]
  },
  {
   "cell_type": "markdown",
   "id": "77d8fe2f",
   "metadata": {},
   "source": [
    "2.2.\tRemove all the stopwords from the three speeches. Show the word count before and after the removal of stopwords. Show a sample sentence after the removal of stopwords."
   ]
  },
  {
   "cell_type": "markdown",
   "id": "ff257044",
   "metadata": {},
   "source": [
    "2.3.\tWhich word occurs the most number of times in his inaugural address for each president? Mention the top three words. (after removing the stopwords)."
   ]
  },
  {
   "cell_type": "markdown",
   "id": "a3090558",
   "metadata": {},
   "source": [
    "2.4.\tPlot the word cloud of each of the three speeches. (after removing the stopwords). "
   ]
  },
  {
   "cell_type": "code",
   "execution_count": null,
   "id": "a85abb6a",
   "metadata": {},
   "outputs": [],
   "source": []
  }
 ],
 "metadata": {
  "kernelspec": {
   "display_name": "Python 3",
   "language": "python",
   "name": "python3"
  },
  "language_info": {
   "codemirror_mode": {
    "name": "ipython",
    "version": 3
   },
   "file_extension": ".py",
   "mimetype": "text/x-python",
   "name": "python",
   "nbconvert_exporter": "python",
   "pygments_lexer": "ipython3",
   "version": "3.8.8"
  },
  "toc": {
   "base_numbering": 1,
   "nav_menu": {},
   "number_sections": true,
   "sideBar": true,
   "skip_h1_title": false,
   "title_cell": "Table of Contents",
   "title_sidebar": "Contents",
   "toc_cell": false,
   "toc_position": {},
   "toc_section_display": true,
   "toc_window_display": false
  }
 },
 "nbformat": 4,
 "nbformat_minor": 5
}
