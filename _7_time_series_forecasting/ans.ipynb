{
 "cells": [
  {
   "cell_type": "markdown",
   "id": "a6855526",
   "metadata": {},
   "source": [
    "# DATA SET SPARKLING"
   ]
  },
  {
   "cell_type": "code",
   "execution_count": 1,
   "id": "1dd5b7ca",
   "metadata": {
    "ExecuteTime": {
     "end_time": "2021-08-15T14:54:36.174260Z",
     "start_time": "2021-08-15T14:54:33.465209Z"
    }
   },
   "outputs": [],
   "source": [
    "import numpy as np\n",
    "import pandas as pd\n",
    "import seaborn as sns\n",
    "from matplotlib import pyplot as plt\n",
    "import warnings\n",
    "warnings.filterwarnings('ignore')\n",
    "sns.set()\n",
    "from IPython.display import display"
   ]
  },
  {
   "cell_type": "code",
   "execution_count": 2,
   "id": "4a5488e0",
   "metadata": {
    "ExecuteTime": {
     "end_time": "2021-08-15T14:54:36.970212Z",
     "start_time": "2021-08-15T14:54:36.176207Z"
    }
   },
   "outputs": [
    {
     "ename": "FileNotFoundError",
     "evalue": "[Errno 2] No such file or directory: 'Sparkling.csv'",
     "output_type": "error",
     "traceback": [
      "\u001b[1;31m---------------------------------------------------------------------------\u001b[0m",
      "\u001b[1;31mFileNotFoundError\u001b[0m                         Traceback (most recent call last)",
      "\u001b[1;32m<ipython-input-2-7f64af7fdb8f>\u001b[0m in \u001b[0;36m<module>\u001b[1;34m\u001b[0m\n\u001b[1;32m----> 1\u001b[1;33m \u001b[0mspdf\u001b[0m \u001b[1;33m=\u001b[0m \u001b[0mpd\u001b[0m\u001b[1;33m.\u001b[0m\u001b[0mread_csv\u001b[0m\u001b[1;33m(\u001b[0m\u001b[1;34m\"Sparkling.csv\"\u001b[0m\u001b[1;33m)\u001b[0m\u001b[1;33m\u001b[0m\u001b[1;33m\u001b[0m\u001b[0m\n\u001b[0m",
      "\u001b[1;32mC:\\ProgramData\\Anaconda3\\lib\\site-packages\\pandas\\util\\_decorators.py\u001b[0m in \u001b[0;36mwrapper\u001b[1;34m(*args, **kwargs)\u001b[0m\n\u001b[0;32m    309\u001b[0m                     \u001b[0mstacklevel\u001b[0m\u001b[1;33m=\u001b[0m\u001b[0mstacklevel\u001b[0m\u001b[1;33m,\u001b[0m\u001b[1;33m\u001b[0m\u001b[1;33m\u001b[0m\u001b[0m\n\u001b[0;32m    310\u001b[0m                 )\n\u001b[1;32m--> 311\u001b[1;33m             \u001b[1;32mreturn\u001b[0m \u001b[0mfunc\u001b[0m\u001b[1;33m(\u001b[0m\u001b[1;33m*\u001b[0m\u001b[0margs\u001b[0m\u001b[1;33m,\u001b[0m \u001b[1;33m**\u001b[0m\u001b[0mkwargs\u001b[0m\u001b[1;33m)\u001b[0m\u001b[1;33m\u001b[0m\u001b[1;33m\u001b[0m\u001b[0m\n\u001b[0m\u001b[0;32m    312\u001b[0m \u001b[1;33m\u001b[0m\u001b[0m\n\u001b[0;32m    313\u001b[0m         \u001b[1;32mreturn\u001b[0m \u001b[0mwrapper\u001b[0m\u001b[1;33m\u001b[0m\u001b[1;33m\u001b[0m\u001b[0m\n",
      "\u001b[1;32mC:\\ProgramData\\Anaconda3\\lib\\site-packages\\pandas\\io\\parsers\\readers.py\u001b[0m in \u001b[0;36mread_csv\u001b[1;34m(filepath_or_buffer, sep, delimiter, header, names, index_col, usecols, squeeze, prefix, mangle_dupe_cols, dtype, engine, converters, true_values, false_values, skipinitialspace, skiprows, skipfooter, nrows, na_values, keep_default_na, na_filter, verbose, skip_blank_lines, parse_dates, infer_datetime_format, keep_date_col, date_parser, dayfirst, cache_dates, iterator, chunksize, compression, thousands, decimal, lineterminator, quotechar, quoting, doublequote, escapechar, comment, encoding, encoding_errors, dialect, error_bad_lines, warn_bad_lines, on_bad_lines, delim_whitespace, low_memory, memory_map, float_precision, storage_options)\u001b[0m\n\u001b[0;32m    584\u001b[0m     \u001b[0mkwds\u001b[0m\u001b[1;33m.\u001b[0m\u001b[0mupdate\u001b[0m\u001b[1;33m(\u001b[0m\u001b[0mkwds_defaults\u001b[0m\u001b[1;33m)\u001b[0m\u001b[1;33m\u001b[0m\u001b[1;33m\u001b[0m\u001b[0m\n\u001b[0;32m    585\u001b[0m \u001b[1;33m\u001b[0m\u001b[0m\n\u001b[1;32m--> 586\u001b[1;33m     \u001b[1;32mreturn\u001b[0m \u001b[0m_read\u001b[0m\u001b[1;33m(\u001b[0m\u001b[0mfilepath_or_buffer\u001b[0m\u001b[1;33m,\u001b[0m \u001b[0mkwds\u001b[0m\u001b[1;33m)\u001b[0m\u001b[1;33m\u001b[0m\u001b[1;33m\u001b[0m\u001b[0m\n\u001b[0m\u001b[0;32m    587\u001b[0m \u001b[1;33m\u001b[0m\u001b[0m\n\u001b[0;32m    588\u001b[0m \u001b[1;33m\u001b[0m\u001b[0m\n",
      "\u001b[1;32mC:\\ProgramData\\Anaconda3\\lib\\site-packages\\pandas\\io\\parsers\\readers.py\u001b[0m in \u001b[0;36m_read\u001b[1;34m(filepath_or_buffer, kwds)\u001b[0m\n\u001b[0;32m    480\u001b[0m \u001b[1;33m\u001b[0m\u001b[0m\n\u001b[0;32m    481\u001b[0m     \u001b[1;31m# Create the parser.\u001b[0m\u001b[1;33m\u001b[0m\u001b[1;33m\u001b[0m\u001b[1;33m\u001b[0m\u001b[0m\n\u001b[1;32m--> 482\u001b[1;33m     \u001b[0mparser\u001b[0m \u001b[1;33m=\u001b[0m \u001b[0mTextFileReader\u001b[0m\u001b[1;33m(\u001b[0m\u001b[0mfilepath_or_buffer\u001b[0m\u001b[1;33m,\u001b[0m \u001b[1;33m**\u001b[0m\u001b[0mkwds\u001b[0m\u001b[1;33m)\u001b[0m\u001b[1;33m\u001b[0m\u001b[1;33m\u001b[0m\u001b[0m\n\u001b[0m\u001b[0;32m    483\u001b[0m \u001b[1;33m\u001b[0m\u001b[0m\n\u001b[0;32m    484\u001b[0m     \u001b[1;32mif\u001b[0m \u001b[0mchunksize\u001b[0m \u001b[1;32mor\u001b[0m \u001b[0miterator\u001b[0m\u001b[1;33m:\u001b[0m\u001b[1;33m\u001b[0m\u001b[1;33m\u001b[0m\u001b[0m\n",
      "\u001b[1;32mC:\\ProgramData\\Anaconda3\\lib\\site-packages\\pandas\\io\\parsers\\readers.py\u001b[0m in \u001b[0;36m__init__\u001b[1;34m(self, f, engine, **kwds)\u001b[0m\n\u001b[0;32m    809\u001b[0m             \u001b[0mself\u001b[0m\u001b[1;33m.\u001b[0m\u001b[0moptions\u001b[0m\u001b[1;33m[\u001b[0m\u001b[1;34m\"has_index_names\"\u001b[0m\u001b[1;33m]\u001b[0m \u001b[1;33m=\u001b[0m \u001b[0mkwds\u001b[0m\u001b[1;33m[\u001b[0m\u001b[1;34m\"has_index_names\"\u001b[0m\u001b[1;33m]\u001b[0m\u001b[1;33m\u001b[0m\u001b[1;33m\u001b[0m\u001b[0m\n\u001b[0;32m    810\u001b[0m \u001b[1;33m\u001b[0m\u001b[0m\n\u001b[1;32m--> 811\u001b[1;33m         \u001b[0mself\u001b[0m\u001b[1;33m.\u001b[0m\u001b[0m_engine\u001b[0m \u001b[1;33m=\u001b[0m \u001b[0mself\u001b[0m\u001b[1;33m.\u001b[0m\u001b[0m_make_engine\u001b[0m\u001b[1;33m(\u001b[0m\u001b[0mself\u001b[0m\u001b[1;33m.\u001b[0m\u001b[0mengine\u001b[0m\u001b[1;33m)\u001b[0m\u001b[1;33m\u001b[0m\u001b[1;33m\u001b[0m\u001b[0m\n\u001b[0m\u001b[0;32m    812\u001b[0m \u001b[1;33m\u001b[0m\u001b[0m\n\u001b[0;32m    813\u001b[0m     \u001b[1;32mdef\u001b[0m \u001b[0mclose\u001b[0m\u001b[1;33m(\u001b[0m\u001b[0mself\u001b[0m\u001b[1;33m)\u001b[0m\u001b[1;33m:\u001b[0m\u001b[1;33m\u001b[0m\u001b[1;33m\u001b[0m\u001b[0m\n",
      "\u001b[1;32mC:\\ProgramData\\Anaconda3\\lib\\site-packages\\pandas\\io\\parsers\\readers.py\u001b[0m in \u001b[0;36m_make_engine\u001b[1;34m(self, engine)\u001b[0m\n\u001b[0;32m   1038\u001b[0m             )\n\u001b[0;32m   1039\u001b[0m         \u001b[1;31m# error: Too many arguments for \"ParserBase\"\u001b[0m\u001b[1;33m\u001b[0m\u001b[1;33m\u001b[0m\u001b[1;33m\u001b[0m\u001b[0m\n\u001b[1;32m-> 1040\u001b[1;33m         \u001b[1;32mreturn\u001b[0m \u001b[0mmapping\u001b[0m\u001b[1;33m[\u001b[0m\u001b[0mengine\u001b[0m\u001b[1;33m]\u001b[0m\u001b[1;33m(\u001b[0m\u001b[0mself\u001b[0m\u001b[1;33m.\u001b[0m\u001b[0mf\u001b[0m\u001b[1;33m,\u001b[0m \u001b[1;33m**\u001b[0m\u001b[0mself\u001b[0m\u001b[1;33m.\u001b[0m\u001b[0moptions\u001b[0m\u001b[1;33m)\u001b[0m  \u001b[1;31m# type: ignore[call-arg]\u001b[0m\u001b[1;33m\u001b[0m\u001b[1;33m\u001b[0m\u001b[0m\n\u001b[0m\u001b[0;32m   1041\u001b[0m \u001b[1;33m\u001b[0m\u001b[0m\n\u001b[0;32m   1042\u001b[0m     \u001b[1;32mdef\u001b[0m \u001b[0m_failover_to_python\u001b[0m\u001b[1;33m(\u001b[0m\u001b[0mself\u001b[0m\u001b[1;33m)\u001b[0m\u001b[1;33m:\u001b[0m\u001b[1;33m\u001b[0m\u001b[1;33m\u001b[0m\u001b[0m\n",
      "\u001b[1;32mC:\\ProgramData\\Anaconda3\\lib\\site-packages\\pandas\\io\\parsers\\c_parser_wrapper.py\u001b[0m in \u001b[0;36m__init__\u001b[1;34m(self, src, **kwds)\u001b[0m\n\u001b[0;32m     49\u001b[0m \u001b[1;33m\u001b[0m\u001b[0m\n\u001b[0;32m     50\u001b[0m         \u001b[1;31m# open handles\u001b[0m\u001b[1;33m\u001b[0m\u001b[1;33m\u001b[0m\u001b[1;33m\u001b[0m\u001b[0m\n\u001b[1;32m---> 51\u001b[1;33m         \u001b[0mself\u001b[0m\u001b[1;33m.\u001b[0m\u001b[0m_open_handles\u001b[0m\u001b[1;33m(\u001b[0m\u001b[0msrc\u001b[0m\u001b[1;33m,\u001b[0m \u001b[0mkwds\u001b[0m\u001b[1;33m)\u001b[0m\u001b[1;33m\u001b[0m\u001b[1;33m\u001b[0m\u001b[0m\n\u001b[0m\u001b[0;32m     52\u001b[0m         \u001b[1;32massert\u001b[0m \u001b[0mself\u001b[0m\u001b[1;33m.\u001b[0m\u001b[0mhandles\u001b[0m \u001b[1;32mis\u001b[0m \u001b[1;32mnot\u001b[0m \u001b[1;32mNone\u001b[0m\u001b[1;33m\u001b[0m\u001b[1;33m\u001b[0m\u001b[0m\n\u001b[0;32m     53\u001b[0m \u001b[1;33m\u001b[0m\u001b[0m\n",
      "\u001b[1;32mC:\\ProgramData\\Anaconda3\\lib\\site-packages\\pandas\\io\\parsers\\base_parser.py\u001b[0m in \u001b[0;36m_open_handles\u001b[1;34m(self, src, kwds)\u001b[0m\n\u001b[0;32m    220\u001b[0m         \u001b[0mLet\u001b[0m \u001b[0mthe\u001b[0m \u001b[0mreaders\u001b[0m \u001b[0mopen\u001b[0m \u001b[0mIOHandles\u001b[0m \u001b[0mafter\u001b[0m \u001b[0mthey\u001b[0m \u001b[0mare\u001b[0m \u001b[0mdone\u001b[0m \u001b[1;32mwith\u001b[0m \u001b[0mtheir\u001b[0m \u001b[0mpotential\u001b[0m \u001b[0mraises\u001b[0m\u001b[1;33m.\u001b[0m\u001b[1;33m\u001b[0m\u001b[1;33m\u001b[0m\u001b[0m\n\u001b[0;32m    221\u001b[0m         \"\"\"\n\u001b[1;32m--> 222\u001b[1;33m         self.handles = get_handle(\n\u001b[0m\u001b[0;32m    223\u001b[0m             \u001b[0msrc\u001b[0m\u001b[1;33m,\u001b[0m\u001b[1;33m\u001b[0m\u001b[1;33m\u001b[0m\u001b[0m\n\u001b[0;32m    224\u001b[0m             \u001b[1;34m\"r\"\u001b[0m\u001b[1;33m,\u001b[0m\u001b[1;33m\u001b[0m\u001b[1;33m\u001b[0m\u001b[0m\n",
      "\u001b[1;32mC:\\ProgramData\\Anaconda3\\lib\\site-packages\\pandas\\io\\common.py\u001b[0m in \u001b[0;36mget_handle\u001b[1;34m(path_or_buf, mode, encoding, compression, memory_map, is_text, errors, storage_options)\u001b[0m\n\u001b[0;32m    699\u001b[0m         \u001b[1;32mif\u001b[0m \u001b[0mioargs\u001b[0m\u001b[1;33m.\u001b[0m\u001b[0mencoding\u001b[0m \u001b[1;32mand\u001b[0m \u001b[1;34m\"b\"\u001b[0m \u001b[1;32mnot\u001b[0m \u001b[1;32min\u001b[0m \u001b[0mioargs\u001b[0m\u001b[1;33m.\u001b[0m\u001b[0mmode\u001b[0m\u001b[1;33m:\u001b[0m\u001b[1;33m\u001b[0m\u001b[1;33m\u001b[0m\u001b[0m\n\u001b[0;32m    700\u001b[0m             \u001b[1;31m# Encoding\u001b[0m\u001b[1;33m\u001b[0m\u001b[1;33m\u001b[0m\u001b[1;33m\u001b[0m\u001b[0m\n\u001b[1;32m--> 701\u001b[1;33m             handle = open(\n\u001b[0m\u001b[0;32m    702\u001b[0m                 \u001b[0mhandle\u001b[0m\u001b[1;33m,\u001b[0m\u001b[1;33m\u001b[0m\u001b[1;33m\u001b[0m\u001b[0m\n\u001b[0;32m    703\u001b[0m                 \u001b[0mioargs\u001b[0m\u001b[1;33m.\u001b[0m\u001b[0mmode\u001b[0m\u001b[1;33m,\u001b[0m\u001b[1;33m\u001b[0m\u001b[1;33m\u001b[0m\u001b[0m\n",
      "\u001b[1;31mFileNotFoundError\u001b[0m: [Errno 2] No such file or directory: 'Sparkling.csv'"
     ]
    }
   ],
   "source": [
    "spdf = pd.read_csv(\"Sparkling.csv\")"
   ]
  },
  {
   "cell_type": "markdown",
   "id": "27782d0b",
   "metadata": {},
   "source": [
    "# Data definition"
   ]
  },
  {
   "cell_type": "code",
   "execution_count": null,
   "id": "50c2de2d",
   "metadata": {
    "ExecuteTime": {
     "end_time": "2021-08-15T14:54:36.982208Z",
     "start_time": "2021-08-15T14:54:33.529Z"
    }
   },
   "outputs": [],
   "source": [
    "spdf.info()"
   ]
  },
  {
   "cell_type": "code",
   "execution_count": null,
   "id": "3ce23591",
   "metadata": {
    "ExecuteTime": {
     "end_time": "2021-08-15T14:54:36.983208Z",
     "start_time": "2021-08-15T14:54:33.560Z"
    }
   },
   "outputs": [],
   "source": [
    "spdf.describe()"
   ]
  },
  {
   "cell_type": "markdown",
   "id": "2b69c884",
   "metadata": {},
   "source": [
    "# Data description\n"
   ]
  },
  {
   "cell_type": "code",
   "execution_count": null,
   "id": "36c46c12",
   "metadata": {
    "ExecuteTime": {
     "end_time": "2021-08-15T14:54:36.985207Z",
     "start_time": "2021-08-15T14:54:33.595Z"
    }
   },
   "outputs": [],
   "source": [
    "spdf.head()"
   ]
  },
  {
   "cell_type": "code",
   "execution_count": null,
   "id": "f2bc3133",
   "metadata": {
    "ExecuteTime": {
     "end_time": "2021-08-15T14:54:36.986208Z",
     "start_time": "2021-08-15T14:54:33.628Z"
    }
   },
   "outputs": [],
   "source": [
    "spdf.tail()"
   ]
  },
  {
   "cell_type": "markdown",
   "id": "fdc64783",
   "metadata": {},
   "source": [
    "## Organize dataset"
   ]
  },
  {
   "cell_type": "code",
   "execution_count": null,
   "id": "876fa71b",
   "metadata": {
    "ExecuteTime": {
     "end_time": "2021-08-15T14:54:36.988207Z",
     "start_time": "2021-08-15T14:54:33.662Z"
    }
   },
   "outputs": [],
   "source": [
    "Date = pd.date_range(start=\"1980-01-01\", periods=187, freq=\"M\")\n",
    "Date"
   ]
  },
  {
   "cell_type": "code",
   "execution_count": null,
   "id": "ba36c474",
   "metadata": {
    "ExecuteTime": {
     "end_time": "2021-08-15T14:54:36.990208Z",
     "start_time": "2021-08-15T14:54:33.690Z"
    }
   },
   "outputs": [],
   "source": [
    "spdf[\"Date\"] = Date"
   ]
  },
  {
   "cell_type": "code",
   "execution_count": null,
   "id": "84f96413",
   "metadata": {
    "ExecuteTime": {
     "end_time": "2021-08-15T14:54:36.992207Z",
     "start_time": "2021-08-15T14:54:33.719Z"
    }
   },
   "outputs": [],
   "source": [
    "spdf.drop(\"YearMonth\", axis=1, inplace=True)"
   ]
  },
  {
   "cell_type": "code",
   "execution_count": null,
   "id": "227e500f",
   "metadata": {
    "ExecuteTime": {
     "end_time": "2021-08-15T14:54:36.993207Z",
     "start_time": "2021-08-15T14:54:33.747Z"
    }
   },
   "outputs": [],
   "source": [
    "spdf.set_index(\"Date\", inplace=True)"
   ]
  },
  {
   "cell_type": "code",
   "execution_count": null,
   "id": "5d137857",
   "metadata": {
    "ExecuteTime": {
     "end_time": "2021-08-15T14:54:36.995209Z",
     "start_time": "2021-08-15T14:54:33.777Z"
    }
   },
   "outputs": [],
   "source": [
    "spdf.head()"
   ]
  },
  {
   "cell_type": "code",
   "execution_count": null,
   "id": "ce0ea826",
   "metadata": {
    "ExecuteTime": {
     "end_time": "2021-08-15T14:54:36.997210Z",
     "start_time": "2021-08-15T14:54:33.802Z"
    }
   },
   "outputs": [],
   "source": [
    "spdf.index.freq = \"M\""
   ]
  },
  {
   "cell_type": "markdown",
   "id": "f9f6e7f8",
   "metadata": {},
   "source": [
    "# Time series plot"
   ]
  },
  {
   "cell_type": "code",
   "execution_count": null,
   "id": "91ce0368",
   "metadata": {
    "ExecuteTime": {
     "end_time": "2021-08-15T14:54:36.998208Z",
     "start_time": "2021-08-15T14:54:33.829Z"
    }
   },
   "outputs": [],
   "source": [
    "from pylab import rcParams # or we can write plt.rcParams['figure.figsize'] = 15,8\n",
    "rcParams['figure.figsize'] = 15,8"
   ]
  },
  {
   "cell_type": "code",
   "execution_count": null,
   "id": "47370f07",
   "metadata": {
    "ExecuteTime": {
     "end_time": "2021-08-15T14:54:37.000208Z",
     "start_time": "2021-08-15T14:54:33.855Z"
    }
   },
   "outputs": [],
   "source": [
    "spdf.plot()\n",
    "plt.show()"
   ]
  },
  {
   "cell_type": "markdown",
   "id": "5f5a1823",
   "metadata": {},
   "source": [
    "# Box plot"
   ]
  },
  {
   "cell_type": "markdown",
   "id": "a50e572b",
   "metadata": {},
   "source": [
    "## Yearly box plot"
   ]
  },
  {
   "cell_type": "code",
   "execution_count": null,
   "id": "5d7b3128",
   "metadata": {
    "ExecuteTime": {
     "end_time": "2021-08-15T14:54:37.002207Z",
     "start_time": "2021-08-15T14:54:33.887Z"
    }
   },
   "outputs": [],
   "source": [
    "sns.boxplot(x = spdf.index.year, y = spdf[\"Sparkling\"])\n",
    "plt.xlabel('Year')\n",
    "plt.show()"
   ]
  },
  {
   "cell_type": "markdown",
   "id": "0c2f5cab",
   "metadata": {},
   "source": [
    "## Monthly box plot"
   ]
  },
  {
   "cell_type": "code",
   "execution_count": null,
   "id": "79fda946",
   "metadata": {
    "ExecuteTime": {
     "end_time": "2021-08-15T14:54:37.003207Z",
     "start_time": "2021-08-15T14:54:33.916Z"
    }
   },
   "outputs": [],
   "source": [
    "sns.boxplot(x = spdf.index.month_name(), y = spdf[\"Sparkling\"])\n",
    "plt.xlabel('Month')\n",
    "plt.show()"
   ]
  },
  {
   "cell_type": "markdown",
   "id": "cd7408dc",
   "metadata": {},
   "source": [
    "## Monthly sales for Sparkling Wine across years for each month"
   ]
  },
  {
   "cell_type": "code",
   "execution_count": null,
   "id": "acfb75cf",
   "metadata": {
    "ExecuteTime": {
     "end_time": "2021-08-15T14:54:37.004207Z",
     "start_time": "2021-08-15T14:54:33.944Z"
    }
   },
   "outputs": [],
   "source": [
    "from statsmodels.graphics.tsaplots import month_plot"
   ]
  },
  {
   "cell_type": "code",
   "execution_count": null,
   "id": "43294c3d",
   "metadata": {
    "ExecuteTime": {
     "end_time": "2021-08-15T14:54:37.006208Z",
     "start_time": "2021-08-15T14:54:33.972Z"
    }
   },
   "outputs": [],
   "source": [
    "month_plot(spdf, ylabel=\"Sparkling Wine Sales\")"
   ]
  },
  {
   "cell_type": "markdown",
   "id": "1b918dd3",
   "metadata": {
    "ExecuteTime": {
     "end_time": "2021-08-07T22:37:51.112285Z",
     "start_time": "2021-08-07T22:37:51.106284Z"
    }
   },
   "source": [
    "# Decompose the Time Series"
   ]
  },
  {
   "cell_type": "code",
   "execution_count": null,
   "id": "5f2db0e4",
   "metadata": {
    "ExecuteTime": {
     "end_time": "2021-08-15T14:54:37.007208Z",
     "start_time": "2021-08-15T14:54:34.001Z"
    }
   },
   "outputs": [],
   "source": [
    "from statsmodels.tsa.seasonal import seasonal_decompose"
   ]
  },
  {
   "cell_type": "code",
   "execution_count": null,
   "id": "5572cab1",
   "metadata": {
    "ExecuteTime": {
     "end_time": "2021-08-15T14:54:37.008208Z",
     "start_time": "2021-08-15T14:54:34.029Z"
    }
   },
   "outputs": [],
   "source": [
    "decomposition = seasonal_decompose(spdf, model=\"multiplicative\")\n",
    "decomposition.plot()\n",
    "plt.show()"
   ]
  },
  {
   "cell_type": "markdown",
   "id": "11cbe87e",
   "metadata": {},
   "source": [
    "## Trend, Seasonality and Residual"
   ]
  },
  {
   "cell_type": "code",
   "execution_count": null,
   "id": "2defcd1e",
   "metadata": {
    "ExecuteTime": {
     "end_time": "2021-08-15T14:54:37.010224Z",
     "start_time": "2021-08-15T14:54:34.060Z"
    }
   },
   "outputs": [],
   "source": [
    "trend = decomposition.trend\n",
    "seasonality = decomposition.seasonal\n",
    "residual = decomposition.resid\n",
    "\n",
    "print(\"Trend\", \"\\n\", trend.head(12), \"\\n\")\n",
    "print(\"Seasonality\", \"\\n\", seasonality.head(12), \"\\n\")\n",
    "print(\"Residual\", \"\\n\", residual.head(12), \"\\n\")"
   ]
  },
  {
   "cell_type": "markdown",
   "id": "e4bc4157",
   "metadata": {},
   "source": [
    "# Train test split & plot"
   ]
  },
  {
   "cell_type": "code",
   "execution_count": null,
   "id": "a9d0a2de",
   "metadata": {
    "ExecuteTime": {
     "end_time": "2021-08-15T14:54:37.011207Z",
     "start_time": "2021-08-15T14:54:34.091Z"
    }
   },
   "outputs": [],
   "source": [
    "train = spdf[spdf.index.year < 1991]\n",
    "test = spdf[spdf.index.year >= 1991]"
   ]
  },
  {
   "cell_type": "code",
   "execution_count": null,
   "id": "a6e2fa8d",
   "metadata": {
    "ExecuteTime": {
     "end_time": "2021-08-15T14:54:37.013208Z",
     "start_time": "2021-08-15T14:54:34.119Z"
    }
   },
   "outputs": [],
   "source": [
    "train.shape, test.shape"
   ]
  },
  {
   "cell_type": "code",
   "execution_count": null,
   "id": "096ab573",
   "metadata": {
    "ExecuteTime": {
     "end_time": "2021-08-15T14:54:37.014208Z",
     "start_time": "2021-08-15T14:54:34.147Z"
    },
    "scrolled": false
   },
   "outputs": [],
   "source": [
    "train[\"Sparkling\"].plot(legend = True, label = \"Train\", fontsize = 14)\n",
    "test[\"Sparkling\"].plot(legend = True, label = \"Test\", fontsize = 14)\n",
    "plt.show()"
   ]
  },
  {
   "cell_type": "markdown",
   "id": "c1bbf23a",
   "metadata": {},
   "source": [
    "# Linear regression model – RMSE"
   ]
  },
  {
   "cell_type": "markdown",
   "id": "78575be9",
   "metadata": {},
   "source": [
    "We are going to regress the \"Sparkling\" variable against the order of the occurrence. For this we need to modify our training data before fitting it into a linear regression."
   ]
  },
  {
   "cell_type": "code",
   "execution_count": null,
   "id": "e0631e4d",
   "metadata": {
    "ExecuteTime": {
     "end_time": "2021-08-15T14:54:37.016206Z",
     "start_time": "2021-08-15T14:54:34.182Z"
    }
   },
   "outputs": [],
   "source": [
    "train_time  = [i + 1 for i in range(len(train))]\n",
    "test_time  = [i + 133 for i in range(len(test))]\n",
    "print(\"Training time instance\", \"\\n\", train_time)\n",
    "print(\"Test time instance\", \"\\n\", test_time)\n",
    "print(len(train), len(test))"
   ]
  },
  {
   "cell_type": "code",
   "execution_count": null,
   "id": "8541197b",
   "metadata": {
    "ExecuteTime": {
     "end_time": "2021-08-15T14:54:37.017206Z",
     "start_time": "2021-08-15T14:54:34.209Z"
    }
   },
   "outputs": [],
   "source": [
    "LinearRegression_train = train.copy()\n",
    "LinearRegression_test = test.copy()"
   ]
  },
  {
   "cell_type": "code",
   "execution_count": null,
   "id": "0ad02b47",
   "metadata": {
    "ExecuteTime": {
     "end_time": "2021-08-15T14:54:37.019207Z",
     "start_time": "2021-08-15T14:54:34.235Z"
    }
   },
   "outputs": [],
   "source": [
    "LinearRegression_train['time'] = train_time\n",
    "LinearRegression_test['time'] = test_time"
   ]
  },
  {
   "cell_type": "code",
   "execution_count": null,
   "id": "3953c9b0",
   "metadata": {
    "ExecuteTime": {
     "end_time": "2021-08-15T14:54:37.021209Z",
     "start_time": "2021-08-15T14:54:34.265Z"
    }
   },
   "outputs": [],
   "source": [
    "display(LinearRegression_train.head())\n",
    "display(LinearRegression_train.tail())"
   ]
  },
  {
   "cell_type": "code",
   "execution_count": null,
   "id": "d2521e37",
   "metadata": {
    "ExecuteTime": {
     "end_time": "2021-08-15T14:54:37.022208Z",
     "start_time": "2021-08-15T14:54:34.291Z"
    }
   },
   "outputs": [],
   "source": [
    "from sklearn.linear_model import LinearRegression"
   ]
  },
  {
   "cell_type": "code",
   "execution_count": null,
   "id": "929e0a19",
   "metadata": {
    "ExecuteTime": {
     "end_time": "2021-08-15T14:54:37.024208Z",
     "start_time": "2021-08-15T14:54:34.317Z"
    }
   },
   "outputs": [],
   "source": [
    "lr = LinearRegression()"
   ]
  },
  {
   "cell_type": "code",
   "execution_count": null,
   "id": "4f84f97b",
   "metadata": {
    "ExecuteTime": {
     "end_time": "2021-08-15T14:54:37.025208Z",
     "start_time": "2021-08-15T14:54:34.345Z"
    }
   },
   "outputs": [],
   "source": [
    "lr.fit(LinearRegression_train[[\"time\"]], LinearRegression_train[\"Sparkling\"])"
   ]
  },
  {
   "cell_type": "code",
   "execution_count": null,
   "id": "e43e6e4a",
   "metadata": {
    "ExecuteTime": {
     "end_time": "2021-08-15T14:54:37.027209Z",
     "start_time": "2021-08-15T14:54:34.371Z"
    }
   },
   "outputs": [],
   "source": [
    "test_predictions_model1 = lr.predict(LinearRegression_test[['time']])\n",
    "LinearRegression_test['RegOnTime'] = test_predictions_model1"
   ]
  },
  {
   "cell_type": "code",
   "execution_count": null,
   "id": "b513736e",
   "metadata": {
    "ExecuteTime": {
     "end_time": "2021-08-15T14:54:37.028209Z",
     "start_time": "2021-08-15T14:54:34.405Z"
    }
   },
   "outputs": [],
   "source": [
    "LinearRegression_test.head(12)"
   ]
  },
  {
   "cell_type": "markdown",
   "id": "b90f201d",
   "metadata": {},
   "source": [
    "Plot"
   ]
  },
  {
   "cell_type": "code",
   "execution_count": null,
   "id": "b270565a",
   "metadata": {
    "ExecuteTime": {
     "end_time": "2021-08-15T14:54:37.030208Z",
     "start_time": "2021-08-15T14:54:34.439Z"
    }
   },
   "outputs": [],
   "source": [
    "train[\"Sparkling\"].plot(legend = True, label = 'Train')\n",
    "test[\"Sparkling\"].plot(legend = True, label = 'Test')\n",
    "LinearRegression_test['RegOnTime'].plot(legend = True, label = 'Test Preds using Linear Regression')\n",
    "plt.show()"
   ]
  },
  {
   "cell_type": "markdown",
   "id": "eb6df2a7",
   "metadata": {},
   "source": [
    "Accuracy Metrics"
   ]
  },
  {
   "cell_type": "code",
   "execution_count": null,
   "id": "890a2081",
   "metadata": {
    "ExecuteTime": {
     "end_time": "2021-08-15T14:54:37.032207Z",
     "start_time": "2021-08-15T14:54:34.469Z"
    }
   },
   "outputs": [],
   "source": [
    "from statsmodels.tools.eval_measures import rmse"
   ]
  },
  {
   "cell_type": "markdown",
   "id": "75de10ee",
   "metadata": {},
   "source": [
    "## Model Evaluation and RMSE"
   ]
  },
  {
   "cell_type": "code",
   "execution_count": null,
   "id": "2930bbc2",
   "metadata": {
    "ExecuteTime": {
     "end_time": "2021-08-15T14:54:37.033208Z",
     "start_time": "2021-08-15T14:54:34.499Z"
    }
   },
   "outputs": [],
   "source": [
    "rmse_model1_test = rmse(test[\"Sparkling\"], test_predictions_model1)\n",
    "rmse_model1_test"
   ]
  },
  {
   "cell_type": "code",
   "execution_count": null,
   "id": "7b067267",
   "metadata": {
    "ExecuteTime": {
     "end_time": "2021-08-15T14:54:37.035207Z",
     "start_time": "2021-08-15T14:54:34.528Z"
    }
   },
   "outputs": [],
   "source": [
    "resultsDf = pd.DataFrame({\"Test RMSE\": [rmse_model1_test]}, index = [\"RegressionOnTime\"])\n",
    "resultsDf"
   ]
  },
  {
   "cell_type": "markdown",
   "id": "48c701bb",
   "metadata": {},
   "source": [
    "# Naïve model – RMSE"
   ]
  },
  {
   "cell_type": "code",
   "execution_count": null,
   "id": "68f70fde",
   "metadata": {
    "ExecuteTime": {
     "end_time": "2021-08-15T14:54:37.037208Z",
     "start_time": "2021-08-15T14:54:34.556Z"
    }
   },
   "outputs": [],
   "source": [
    "NaiveModel_train = train.copy()\n",
    "NaiveModel_test = test.copy()"
   ]
  },
  {
   "cell_type": "code",
   "execution_count": null,
   "id": "611c1cd2",
   "metadata": {
    "ExecuteTime": {
     "end_time": "2021-08-15T14:54:37.039208Z",
     "start_time": "2021-08-15T14:54:34.584Z"
    }
   },
   "outputs": [],
   "source": [
    "NaiveModel_test[\"naive\"] = train[\"Sparkling\"][len(train[\"Sparkling\"])-1]"
   ]
  },
  {
   "cell_type": "code",
   "execution_count": null,
   "id": "aa127a03",
   "metadata": {
    "ExecuteTime": {
     "end_time": "2021-08-15T14:54:37.040207Z",
     "start_time": "2021-08-15T14:54:34.612Z"
    }
   },
   "outputs": [],
   "source": [
    "NaiveModel_test[\"naive\"].head()"
   ]
  },
  {
   "cell_type": "code",
   "execution_count": null,
   "id": "a372bf4c",
   "metadata": {
    "ExecuteTime": {
     "end_time": "2021-08-15T14:54:37.042207Z",
     "start_time": "2021-08-15T14:54:34.644Z"
    }
   },
   "outputs": [],
   "source": [
    "train[\"Sparkling\"].plot(legend = True, label = \"Train\")\n",
    "test[\"Sparkling\"].plot(legend = True, label = \"Test\")\n",
    "NaiveModel_test[\"naive\"].plot(legend = True, label = \"Naive Model Test Preds\")\n",
    "plt.show()"
   ]
  },
  {
   "cell_type": "markdown",
   "id": "21a56de9",
   "metadata": {},
   "source": [
    "Model Evaluation"
   ]
  },
  {
   "cell_type": "code",
   "execution_count": null,
   "id": "f2c62917",
   "metadata": {
    "ExecuteTime": {
     "end_time": "2021-08-15T14:54:37.044207Z",
     "start_time": "2021-08-15T14:54:34.677Z"
    }
   },
   "outputs": [],
   "source": [
    "rmse_model2_test = rmse(test[\"Sparkling\"], NaiveModel_test[\"naive\"])\n",
    "print(\"RMSE for Naive Bayes\",rmse_model2_test)\n",
    "\n",
    "\n",
    "resultsDf_2 = pd.DataFrame({\"Test RMSE\": [rmse_model2_test]}, index=[\"NaiveModel\"])\n",
    "resultsDf = pd.concat([resultsDf, resultsDf_2])\n",
    "display(resultsDf)"
   ]
  },
  {
   "cell_type": "markdown",
   "id": "73832708",
   "metadata": {},
   "source": [
    "# Simple average model – RMSE"
   ]
  },
  {
   "cell_type": "code",
   "execution_count": null,
   "id": "8b0f2edf",
   "metadata": {
    "ExecuteTime": {
     "end_time": "2021-08-15T14:54:37.046207Z",
     "start_time": "2021-08-15T14:54:34.705Z"
    }
   },
   "outputs": [],
   "source": [
    "SimpleAverage_train = train.copy()\n",
    "SimpleAverage_test = test.copy()"
   ]
  },
  {
   "cell_type": "code",
   "execution_count": null,
   "id": "4bcf293c",
   "metadata": {
    "ExecuteTime": {
     "end_time": "2021-08-15T14:54:37.047207Z",
     "start_time": "2021-08-15T14:54:34.736Z"
    }
   },
   "outputs": [],
   "source": [
    "SimpleAverage_test[\"mean_Sparkling\"] = train[\"Sparkling\"].mean()\n",
    "SimpleAverage_test.head()"
   ]
  },
  {
   "cell_type": "code",
   "execution_count": null,
   "id": "4b7f8fb5",
   "metadata": {
    "ExecuteTime": {
     "end_time": "2021-08-15T14:54:37.049208Z",
     "start_time": "2021-08-15T14:54:34.764Z"
    }
   },
   "outputs": [],
   "source": [
    "train[\"Sparkling\"].plot(legend = True, label = \"Train\")\n",
    "test[\"Sparkling\"].plot(legend = True, label = \"Test\")\n",
    "SimpleAverage_test[\"mean_Sparkling\"].plot(legend = True, label = \"Simple Avg Test Predictions\")\n",
    "plt.show()"
   ]
  },
  {
   "cell_type": "markdown",
   "id": "87fd85b4",
   "metadata": {},
   "source": [
    "Model Evaluation"
   ]
  },
  {
   "cell_type": "code",
   "execution_count": null,
   "id": "32175caa",
   "metadata": {
    "ExecuteTime": {
     "end_time": "2021-08-15T14:54:37.050207Z",
     "start_time": "2021-08-15T14:54:34.795Z"
    }
   },
   "outputs": [],
   "source": [
    "rmse_model3_test = rmse(test[\"Sparkling\"], SimpleAverage_test[\"mean_Sparkling\"])\n",
    "print(\"RMSE for Simple Average Model is\", rmse_model3_test)"
   ]
  },
  {
   "cell_type": "code",
   "execution_count": null,
   "id": "fb828c86",
   "metadata": {
    "ExecuteTime": {
     "end_time": "2021-08-15T14:54:37.052208Z",
     "start_time": "2021-08-15T14:54:34.823Z"
    }
   },
   "outputs": [],
   "source": [
    "reultsDf_3 = pd.DataFrame({\"Test RMSE\": [rmse_model3_test]}, index = [\"SimpleAverageModel\"])\n",
    "resultsDf = pd.concat([resultsDf, reultsDf_3])\n",
    "resultsDf                     \n"
   ]
  },
  {
   "cell_type": "markdown",
   "id": "75a6c090",
   "metadata": {},
   "source": [
    "# Moving average model – RMSE"
   ]
  },
  {
   "cell_type": "markdown",
   "id": "e9ccf190",
   "metadata": {},
   "source": [
    "For the moving average model, we are going to calculate rolling means (or moving averages) for different intervals. The best interval can be determined by the maximum accuracy (or the minimum error) over here.\n",
    "\n",
    "For Moving Average, we are going to average over the entire data."
   ]
  },
  {
   "cell_type": "code",
   "execution_count": null,
   "id": "50addb5d",
   "metadata": {
    "ExecuteTime": {
     "end_time": "2021-08-15T14:54:37.054208Z",
     "start_time": "2021-08-15T14:54:34.856Z"
    }
   },
   "outputs": [],
   "source": [
    "MovingAverage = spdf.copy()\n",
    "MovingAverage.head()"
   ]
  },
  {
   "cell_type": "markdown",
   "id": "a702cb86",
   "metadata": {},
   "source": [
    "Trailing moving averages"
   ]
  },
  {
   "cell_type": "code",
   "execution_count": null,
   "id": "723214dd",
   "metadata": {
    "ExecuteTime": {
     "end_time": "2021-08-15T14:54:37.055208Z",
     "start_time": "2021-08-15T14:54:34.889Z"
    }
   },
   "outputs": [],
   "source": [
    "MovingAverage[\"Trailing_2\"] = MovingAverage[\"Sparkling\"].rolling(2).mean()\n",
    "MovingAverage[\"Trailing_4\"] = MovingAverage[\"Sparkling\"].rolling(4).mean()\n",
    "MovingAverage[\"Trailing_6\"] = MovingAverage[\"Sparkling\"].rolling(6).mean()\n",
    "MovingAverage[\"Trailing_9\"] = MovingAverage[\"Sparkling\"].rolling(9).mean()\n",
    "\n",
    "MovingAverage.head()"
   ]
  },
  {
   "cell_type": "markdown",
   "id": "d2910d08",
   "metadata": {},
   "source": [
    "Plot the data"
   ]
  },
  {
   "cell_type": "code",
   "execution_count": null,
   "id": "1ebe8800",
   "metadata": {
    "ExecuteTime": {
     "end_time": "2021-08-15T14:54:37.057208Z",
     "start_time": "2021-08-15T14:54:34.920Z"
    }
   },
   "outputs": [],
   "source": [
    "plt.figure(figsize=(16,8))\n",
    "plt.plot(MovingAverage[\"Sparkling\"], label=\"Train\")\n",
    "plt.plot(MovingAverage[\"Trailing_2\"], label=\"2 point Moving Average\")\n",
    "plt.plot(MovingAverage[\"Trailing_4\"], label=\"4 point Moving Average\")\n",
    "plt.plot(MovingAverage[\"Trailing_6\"], label=\"6 point Moving Average\")\n",
    "plt.plot(MovingAverage[\"Trailing_9\"], label=\"9 point Moving Average\")\n",
    "\n",
    "plt.legend(loc=\"best\")\n",
    "plt.grid()\n",
    "plt.show()"
   ]
  },
  {
   "cell_type": "markdown",
   "id": "8fd9f5e8",
   "metadata": {},
   "source": [
    "Split the data into train and test and plot"
   ]
  },
  {
   "cell_type": "code",
   "execution_count": null,
   "id": "091a2919",
   "metadata": {
    "ExecuteTime": {
     "end_time": "2021-08-15T14:54:37.059208Z",
     "start_time": "2021-08-15T14:54:34.948Z"
    }
   },
   "outputs": [],
   "source": [
    "trailing_MovingAverage_train = MovingAverage[MovingAverage.index.year < 1991]\n",
    "trailing_MovingAverage_test = MovingAverage[MovingAverage.index.year >= 1991]"
   ]
  },
  {
   "cell_type": "code",
   "execution_count": null,
   "id": "28172a94",
   "metadata": {
    "ExecuteTime": {
     "end_time": "2021-08-15T14:54:37.061207Z",
     "start_time": "2021-08-15T14:54:34.975Z"
    }
   },
   "outputs": [],
   "source": [
    "plt.figure(figsize=(16,8))\n",
    "\n",
    "plt.plot(trailing_MovingAverage_train[\"Sparkling\"], label=\"Train\")\n",
    "plt.plot(trailing_MovingAverage_test[\"Sparkling\"], label=\"Test\")\n",
    "\n",
    "plt.plot(trailing_MovingAverage_train[\"Trailing_2\"], label=\"2 point Trailing Moving Average on Training Set\")\n",
    "plt.plot(trailing_MovingAverage_train[\"Trailing_4\"], label=\"4 point Trailing Moving Average on Training Set\")\n",
    "plt.plot(trailing_MovingAverage_train[\"Trailing_6\"], label=\"6 point Trailing Moving Average on Training Set\")\n",
    "plt.plot(trailing_MovingAverage_train[\"Trailing_9\"], label=\"9 point Trailing Moving Average on Training Set\")\n",
    "\n",
    "plt.plot(trailing_MovingAverage_test[\"Trailing_2\"], label=\"2 point Trailing Moving Average on Test Set\")\n",
    "plt.plot(trailing_MovingAverage_test[\"Trailing_4\"], label=\"4 point Trailing Moving Average on Test Set\")\n",
    "plt.plot(trailing_MovingAverage_test[\"Trailing_6\"], label=\"6 point Trailing Moving Average on Test Set\")\n",
    "plt.plot(trailing_MovingAverage_test[\"Trailing_9\"], label=\"9 point Trailing Moving Average on Test Set\")\n",
    "\n",
    "plt.legend(loc=\"best\")\n",
    "plt.grid()\n",
    "plt.show()"
   ]
  },
  {
   "cell_type": "markdown",
   "id": "5605bbc7",
   "metadata": {},
   "source": [
    "Model Evaluation"
   ]
  },
  {
   "cell_type": "code",
   "execution_count": null,
   "id": "eb9e00a0",
   "metadata": {
    "ExecuteTime": {
     "end_time": "2021-08-15T14:54:37.062208Z",
     "start_time": "2021-08-15T14:54:35.006Z"
    }
   },
   "outputs": [],
   "source": [
    "rmse_model4_test_2 = rmse(test[\"Sparkling\"], trailing_MovingAverage_test[\"Trailing_2\"])\n",
    "print(\"Rmse for trailing_2\", rmse_model4_test_2)\n",
    "\n",
    "rmse_model4_test_4 = rmse(test[\"Sparkling\"], trailing_MovingAverage_test[\"Trailing_4\"])\n",
    "print(\"Rmse for trailing_4\", rmse_model4_test_4)\n",
    "\n",
    "rmse_model4_test_6 = rmse(test[\"Sparkling\"], trailing_MovingAverage_test[\"Trailing_6\"])\n",
    "print(\"Rmse for trailing_6\", rmse_model4_test_6)\n",
    "\n",
    "\n",
    "rmse_model4_test_9 = rmse(test[\"Sparkling\"], trailing_MovingAverage_test[\"Trailing_9\"])\n",
    "print(\"Rmse for trailing_9\", rmse_model4_test_9)\n",
    "\n",
    "resultsDf_4 = pd.DataFrame({\"Test RMSE\": [rmse_model4_test_2, rmse_model4_test_4, rmse_model4_test_6, rmse_model4_test_9]},\n",
    "                          index = [\"2_point_trailing_Moving_Average\", \"4_point_trailing_Moving_Average\", \"6_point_trailing_Moving_Average\", \"9_point_trailing_Moving_Average\"])\n",
    "\n",
    "resultsDf = pd.concat([resultsDf, resultsDf_4])\n",
    "resultsDf"
   ]
  },
  {
   "cell_type": "markdown",
   "id": "60809a1d",
   "metadata": {},
   "source": [
    "Plot of all models derived till now"
   ]
  },
  {
   "cell_type": "code",
   "execution_count": null,
   "id": "b650c451",
   "metadata": {
    "ExecuteTime": {
     "end_time": "2021-08-15T14:54:37.064207Z",
     "start_time": "2021-08-15T14:54:35.035Z"
    }
   },
   "outputs": [],
   "source": [
    "train[\"Sparkling\"].plot(legend=True, label=\"Train\")\n",
    "test[\"Sparkling\"].plot(legend=True, label=\"Test\")\n",
    "\n",
    "LinearRegression_test[\"RegOnTime\"].plot(legend=True, label=\"Test Preds using Linear Regression\")\n",
    "\n",
    "NaiveModel_test[\"naive\"].plot(legend=True, label=\"Naive Model Test Preds\")\n",
    "\n",
    "SimpleAverage_test[\"mean_Sparkling\"].plot(legend=True, label=\"Simple Avg Test Preds\")\n",
    "\n",
    "trailing_MovingAverage_test[\"Trailing_2\"].plot(legend=True, label=\"Trailing MA 2 test preds\")\n",
    "\n",
    "plt.show()"
   ]
  },
  {
   "cell_type": "markdown",
   "id": "d6e8f1c0",
   "metadata": {},
   "source": [
    "# Simple exponential smoothening – RMSE analysis"
   ]
  },
  {
   "cell_type": "code",
   "execution_count": null,
   "id": "5f3fd99d",
   "metadata": {
    "ExecuteTime": {
     "end_time": "2021-08-15T14:54:37.065208Z",
     "start_time": "2021-08-15T14:54:35.062Z"
    }
   },
   "outputs": [],
   "source": [
    "from statsmodels.tsa.api import ExponentialSmoothing, SimpleExpSmoothing, Holt"
   ]
  },
  {
   "cell_type": "code",
   "execution_count": null,
   "id": "1f586c5e",
   "metadata": {
    "ExecuteTime": {
     "end_time": "2021-08-15T14:54:37.067208Z",
     "start_time": "2021-08-15T14:54:35.091Z"
    },
    "scrolled": false
   },
   "outputs": [],
   "source": [
    "SES_train = train.copy()\n",
    "SES_test = test.copy()\n",
    "\n",
    "model_SES = SimpleExpSmoothing(SES_train[\"Sparkling\"]);\n",
    "\n",
    "model_SES_autofit = model_SES.fit()\n",
    "\n",
    "display(\"SES Params\", model_SES_autofit.params)\n",
    "\n",
    "SES_test[\"predict\"] = model_SES_autofit.forecast(steps=len(test))\n",
    "\n",
    "display(SES_test.head().style)\n",
    "\n",
    "SES_train[\"Sparkling\"].plot(legend=True, label=\"Train\")\n",
    "SES_test[\"Sparkling\"].plot(legend=True, label=\"Test\")\n",
    "SES_test[\"predict\"].plot(legend=True, label=\"SES Preds on Test\")\n",
    "plt.show()\n"
   ]
  },
  {
   "cell_type": "markdown",
   "id": "54d360f8",
   "metadata": {},
   "source": [
    "## Model Evaluation"
   ]
  },
  {
   "cell_type": "code",
   "execution_count": null,
   "id": "cc871e84",
   "metadata": {
    "ExecuteTime": {
     "end_time": "2021-08-15T14:54:37.068207Z",
     "start_time": "2021-08-15T14:54:35.121Z"
    }
   },
   "outputs": [],
   "source": [
    "rmse_model5_test_1 = rmse(SES_test[\"Sparkling\"], SES_test[\"predict\"])\n",
    "display(rmse_model5_test_1)\n",
    "\n",
    "resultsDf_5 = pd.DataFrame({\"Test RMSE\": [rmse_model5_test_1]}, index=[\"Alpha=0.03,SimpleExponentialSmoothing\"])\n",
    "resultsDf = pd.concat([resultsDf, resultsDf_5])\n",
    "display(resultsDf)\n"
   ]
  },
  {
   "cell_type": "markdown",
   "id": "b5f4d685",
   "metadata": {},
   "source": [
    "## Set different alpha values"
   ]
  },
  {
   "cell_type": "code",
   "execution_count": null,
   "id": "a551dc5b",
   "metadata": {
    "ExecuteTime": {
     "end_time": "2021-08-15T14:54:37.070208Z",
     "start_time": "2021-08-15T14:54:35.154Z"
    },
    "scrolled": true
   },
   "outputs": [],
   "source": [
    "resultsDf_6 = pd.DataFrame({\"Alpha Values\":[], \"Train RMSE\": [], \"Test RMSE\": []})\n",
    "\n",
    "\n",
    "alpha_list = [0.3,0.4,0.5,0.6,0.7,0.8,0.9]\n",
    "\n",
    "for i in alpha_list:\n",
    "    model_SES_alpha_i = model_SES.fit(smoothing_level=i)\n",
    "    \n",
    "    SES_train[\"predict\",i] = model_SES_alpha_i.fittedvalues\n",
    "    SES_test[\"predict\",i] = model_SES_alpha_i.forecast(steps=len(test))\n",
    "    \n",
    "    rmse_model5_train_i = rmse(SES_train[\"Sparkling\"],SES_train[\"predict\",i])\n",
    "        \n",
    "    rmse_model5_test_i = rmse(SES_test[\"Sparkling\"],SES_test[\"predict\",i])\n",
    "    \n",
    "    resultsDf_6 = resultsDf_6.append({\"Alpha Values\":i,\n",
    "                                      \"Train RMSE\": rmse_model5_train_i,\"Test RMSE\":rmse_model5_test_i}, \n",
    "                                     ignore_index=True)\n",
    "    \n",
    "display(SES_test.head().style)\n",
    "\n",
    "display(\"Model Evaluation\", resultsDf_6.sort_values(by=[\"Test RMSE\"],ascending=True))\n",
    "\n"
   ]
  },
  {
   "cell_type": "markdown",
   "id": "afe10bac",
   "metadata": {},
   "source": [
    "## Plot"
   ]
  },
  {
   "cell_type": "code",
   "execution_count": null,
   "id": "8b10c64f",
   "metadata": {
    "ExecuteTime": {
     "end_time": "2021-08-15T14:54:37.071208Z",
     "start_time": "2021-08-15T14:54:35.185Z"
    }
   },
   "outputs": [],
   "source": [
    "plt.figure(figsize=(18,9))\n",
    "plt.plot(SES_train[\"Sparkling\"], label=\"Train\")\n",
    "plt.plot(SES_test[\"Sparkling\"], label=\"Test\")\n",
    "plt.plot(SES_test[\"predict\"], label=\"Alpha=1 Simple Exponential Smoothing predictions on Test Set\")\n",
    "plt.plot(SES_test[\"predict\", 0.3], label=\"Alpha=0.3 Simple Exponential Smoothing predictions on Test Set\")\n",
    "plt.legend(loc=\"best\")\n",
    "plt.grid()\n",
    "plt.show()"
   ]
  },
  {
   "cell_type": "code",
   "execution_count": null,
   "id": "417b7377",
   "metadata": {
    "ExecuteTime": {
     "end_time": "2021-08-15T14:54:37.073208Z",
     "start_time": "2021-08-15T14:54:35.213Z"
    }
   },
   "outputs": [],
   "source": [
    "resultsDf_6_1 = pd.DataFrame({\"Test RMSE\": [resultsDf_6.sort_values(by=[\"Test RMSE\"], ascending=True).values[0][2]]},\n",
    "                          index = [\"Alpha=0.4,SimpleExponentialSmoothing\"])\n",
    "\n",
    "resultsDf = pd.concat([resultsDf, resultsDf_6_1])\n",
    "\n",
    "display(resultsDf.style)"
   ]
  },
  {
   "cell_type": "markdown",
   "id": "12f1afb6",
   "metadata": {},
   "source": [
    "# Double exponential smoothening (Holt’s method) – RMSE analysis"
   ]
  },
  {
   "cell_type": "markdown",
   "id": "a46d21a4",
   "metadata": {},
   "source": [
    "## RMSE for alpha and beta values"
   ]
  },
  {
   "cell_type": "code",
   "execution_count": null,
   "id": "c7d07e4f",
   "metadata": {
    "ExecuteTime": {
     "end_time": "2021-08-15T14:54:37.075208Z",
     "start_time": "2021-08-15T14:54:35.245Z"
    }
   },
   "outputs": [],
   "source": [
    "DES_train = train.copy()\n",
    "DES_test = test.copy()\n",
    "\n",
    "model_DES = Holt(DES_train[\"Sparkling\"])\n",
    "\n",
    "resultsDf_7 = pd.DataFrame({\"Alpha Values\": [], \"Beta Values\": [], \"Train RMSE\": [], \"Test RMSE\": []})\n",
    "\n",
    "alpha_list = [0.3,0.4,0.5,0.6,0.7,0.8,0.9,1.0]\n",
    "beta_list = [0.3,0.4,0.5,0.6,0.7,0.8,0.9,1.0]\n",
    "\n",
    "for i in alpha_list:\n",
    "    for j in beta_list:\n",
    "        model_DES_alpha_i_j = model_DES.fit(smoothing_level=i,smoothing_trend=j)\n",
    "        \n",
    "        DES_train[\"predict\",i,j] = model_DES_alpha_i_j.fittedvalues\n",
    "        DES_test[\"predict\",i,j] = model_DES_alpha_i_j.forecast(steps=len(test))\n",
    "        \n",
    "        rmse_model6_train = rmse(DES_train[\"Sparkling\"],DES_train[\"predict\",i,j])\n",
    "        \n",
    "        rmse_model6_test = rmse(DES_test[\"Sparkling\"],DES_test[\"predict\",i,j])\n",
    "        \n",
    "        resultsDf_7 = resultsDf_7.append({\"Alpha Values\":i,\n",
    "                                          \"Beta Values\":j,\n",
    "                                          \"Train RMSE\": rmse_model6_train,\n",
    "                                          \"Test RMSE\": rmse_model6_test}, ignore_index=True)\n",
    "        \n",
    "display(resultsDf_7.sort_values(by=[\"Test RMSE\"]).head(10))        \n"
   ]
  },
  {
   "cell_type": "code",
   "execution_count": null,
   "id": "e9ce2f13",
   "metadata": {
    "ExecuteTime": {
     "end_time": "2021-08-15T14:54:37.077208Z",
     "start_time": "2021-08-15T14:54:35.276Z"
    }
   },
   "outputs": [],
   "source": [
    "plt.figure(figsize=(18,9))\n",
    "plt.plot(DES_train[\"Sparkling\"], label=\"Train\")\n",
    "plt.plot(DES_test[\"Sparkling\"], label=\"Test\")\n",
    "\n",
    "plt.plot(DES_test[\"predict\", 0.3, 0.3],  label=\"Alpha=0.3,Beta=0.3,DoubleExponentialSmoothing predictions on Test Set\")\n",
    "plt.legend(loc=\"best\")\n",
    "plt.grid()\n",
    "plt.show()"
   ]
  },
  {
   "cell_type": "code",
   "execution_count": null,
   "id": "c34c9796",
   "metadata": {
    "ExecuteTime": {
     "end_time": "2021-08-15T14:54:37.078207Z",
     "start_time": "2021-08-15T14:54:35.304Z"
    }
   },
   "outputs": [],
   "source": [
    "resultsDf_7_1 = pd.DataFrame({\"Test RMSE\": [resultsDf_7.sort_values(by=[\"Test RMSE\"]).values[0][3]]}, index=[\"Alpha=0.3,Beta=0.3,DoubleExponentialSmoothing\"])\n",
    "resultsDf = pd.concat([resultsDf, resultsDf_7_1])\n",
    "display(resultsDf)"
   ]
  },
  {
   "cell_type": "markdown",
   "id": "8950dc83",
   "metadata": {},
   "source": [
    "# Triple exponential smoothening (Holt’s winter model) – RMSE analysis"
   ]
  },
  {
   "cell_type": "code",
   "execution_count": null,
   "id": "ed5cec19",
   "metadata": {
    "ExecuteTime": {
     "end_time": "2021-08-15T14:54:37.080207Z",
     "start_time": "2021-08-15T14:54:35.337Z"
    },
    "scrolled": true
   },
   "outputs": [],
   "source": [
    "TES_train = train.copy()\n",
    "TES_test = test.copy()\n",
    "\n",
    "model_TES = ExponentialSmoothing(TES_train[\"Sparkling\"], trend=\"additive\", seasonal=\"multiplicative\", freq=\"M\")\n",
    "\n",
    "model_TES_autofit = model_TES.fit()\n",
    "\n",
    "display(model_TES_autofit.params)\n",
    "\n",
    "\n",
    "TES_test[\"auto_predict\"] = model_TES_autofit.forecast(steps=len(test)).round(0)\n",
    "display(TES_test.head())\n",
    "\n",
    "plt.figure(figsize=(18,9))\n",
    "plt.plot(TES_train[\"Sparkling\"], label=\"Train\")\n",
    "plt.plot(TES_test[\"Sparkling\"], label=\"Test\")\n",
    "plt.plot(TES_test[\"auto_predict\"], label=\"Alpha=0.146,Beta=0.053,Gamma=0.393,TripleExponentialSmoothing\")\n",
    "plt.legend(loc=\"best\")\n",
    "plt.title(\"Plot with Autofit\")\n",
    "plt.grid()\n",
    "\n",
    "plt.show()\n",
    "\n"
   ]
  },
  {
   "cell_type": "markdown",
   "id": "75f12a28",
   "metadata": {},
   "source": [
    "## RMSE"
   ]
  },
  {
   "cell_type": "code",
   "execution_count": null,
   "id": "0ac9c445",
   "metadata": {
    "ExecuteTime": {
     "end_time": "2021-08-15T14:54:37.082207Z",
     "start_time": "2021-08-15T14:54:35.369Z"
    }
   },
   "outputs": [],
   "source": [
    "rmse_model6_test_1 = rmse(TES_test[\"Sparkling\"], TES_test[\"auto_predict\"])\n",
    "display(rmse_model6_test_1)\n",
    "\n",
    "resultsDf_8_1 = pd.DataFrame({\"Test RMSE\": [rmse_model6_test_1]}, index=[\"Alpha=0.146,Beta=0.053,Gamma=0.393,TripleExponentialSmoothing\"])\n",
    "resultsDf = pd.concat([resultsDf, resultsDf_8_1])\n",
    "display(resultsDf)"
   ]
  },
  {
   "cell_type": "markdown",
   "id": "d35bd90c",
   "metadata": {},
   "source": [
    "## Identify best alpha, beta and gamma"
   ]
  },
  {
   "cell_type": "code",
   "execution_count": null,
   "id": "5b466273",
   "metadata": {
    "ExecuteTime": {
     "end_time": "2021-08-15T14:54:37.083207Z",
     "start_time": "2021-08-15T14:54:35.462Z"
    }
   },
   "outputs": [],
   "source": [
    "resultsDf_8_2 = pd.DataFrame({\"Alpha Values\":[],\"Beta Values\":[],\"Gamma Values\":[],\"Train RMSE\":[],\"Test RMSE\": []})\n",
    "\n",
    "\n",
    "gamma_list = [0.3,0.4,0.5,0.6,0.7,0.8,0.9,1.0]\n",
    "\n",
    "\n",
    "for i in alpha_list:\n",
    "    for j in beta_list:\n",
    "        for k in gamma_list:\n",
    "            model_TES_alpha_i_j_k = model_TES.fit(smoothing_level=i,\n",
    "                                                  smoothing_trend=j,\n",
    "                                                  smoothing_seasonal=k)\n",
    "            \n",
    "            TES_train[\"predict\",i,j,k] = model_TES_alpha_i_j_k.fittedvalues\n",
    "            \n",
    "            TES_test[\"predict\",i,j,k] = model_TES_alpha_i_j_k.forecast(steps=len(test))\n",
    "        \n",
    "            rmse_model8_train = rmse(TES_train[\"Sparkling\"],\n",
    "                                     TES_train[\"predict\",i,j,k])\n",
    "            \n",
    "            rmse_model8_test = rmse(TES_test[\"Sparkling\"],\n",
    "                                    TES_test[\"predict\",i,j,k])\n",
    "            \n",
    "            resultsDf_8_2 = resultsDf_8_2.append({\"Alpha Values\":i,\n",
    "                                                  \"Beta Values\":j,\n",
    "                                                  \"Gamma Values\":k,\n",
    "                                                  \"Train RMSE\":rmse_model8_train,\n",
    "                                                  \"Test RMSE\":rmse_model8_test},ignore_index=True)\n",
    "            \n",
    "display(TES_test.head().style)\n",
    "display(resultsDf_8_2.sort_values(by=[\"Test RMSE\"]).head())\n",
    "\n",
    "\n",
    "resultsDf_8_3 = pd.DataFrame({\"Test RMSE\": [resultsDf_8_2.sort_values(by=[\"Test RMSE\"]).values[0][4]]}\n",
    "                           ,index=[\"Alpha=0.7,Beta=0.3,Gamma=0.3,TripleExponentialSmoothing\"])\n",
    "\n",
    "resultsDf = pd.concat([resultsDf, resultsDf_8_3])\n",
    "display(resultsDf.sort_values(by=[\"Test RMSE\"]))\n",
    "\n"
   ]
  },
  {
   "cell_type": "markdown",
   "id": "0c68c106",
   "metadata": {},
   "source": [
    "## Plot SES, DES and TES"
   ]
  },
  {
   "cell_type": "code",
   "execution_count": null,
   "id": "5ca32959",
   "metadata": {
    "ExecuteTime": {
     "end_time": "2021-08-15T14:54:37.085208Z",
     "start_time": "2021-08-15T14:54:35.489Z"
    }
   },
   "outputs": [],
   "source": [
    "plt.figure(figsize=(18,9))\n",
    "plt.plot(train[\"Sparkling\"], label=\"Train\")\n",
    "plt.plot(test[\"Sparkling\"], label=\"Test\")\n",
    "\n",
    "plt.plot(SES_test[\"predict\"], label=\"Alpha =0.03 Simple Exponential Smoothing predictions on Test Set\")\n",
    "\n",
    "plt.plot(DES_test[\"predict\", 0.3, 0.3], label=\"Alpha=0.3,Beta=0.3,DoubleExponentialSmoothing predictions on Test Set\")\n",
    "\n",
    "plt.plot(TES_test[\"predict\", 0.3, 0.3, 0.3], label=\"Alpha=0.3,Beta=0.3,Gamma=0.3,TripleExponentialSmoothing predictions on Test Set\")\n",
    "\n",
    "plt.legend(loc=\"best\")\n",
    "plt.grid();\n",
    "plt.title(\"Plot of Exponential Smoothing Predictions and the Acutal Values\");\n",
    "plt.show()"
   ]
  },
  {
   "cell_type": "markdown",
   "id": "9830b0de",
   "metadata": {},
   "source": [
    "## Training TES model with full data"
   ]
  },
  {
   "cell_type": "code",
   "execution_count": null,
   "id": "20290fa7",
   "metadata": {
    "ExecuteTime": {
     "end_time": "2021-08-15T14:54:37.087209Z",
     "start_time": "2021-08-15T14:54:35.519Z"
    }
   },
   "outputs": [],
   "source": [
    "fullmodel1 = ExponentialSmoothing(spdf,trend=\"additive\",seasonal=\"multiplicative\")\n",
    "fullmodel1= fullmodel1.fit(smoothing_level=0.3, smoothing_trend=0.3, smoothing_seasonal=0.3)\n",
    "\n",
    "RMSE_fullmodel1 = rmse(spdf[\"Sparkling\"], fullmodel1.fittedvalues)\n",
    "display(\"RMSE\", RMSE_fullmodel1)\n",
    "\n",
    "prediction_1 = fullmodel1.forecast(steps=len(test))\n",
    "\n",
    "spdf.plot(legend=True, label=\"Actual\")\n",
    "prediction_1.plot(legend=True, label=\"Forecast\")\n",
    "\n",
    "plt.show()\n"
   ]
  },
  {
   "cell_type": "markdown",
   "id": "9e8d1776",
   "metadata": {},
   "source": [
    "## Margin of Error"
   ]
  },
  {
   "cell_type": "code",
   "execution_count": null,
   "id": "91d8fc7d",
   "metadata": {
    "ExecuteTime": {
     "end_time": "2021-08-15T14:54:37.089209Z",
     "start_time": "2021-08-15T14:54:35.550Z"
    }
   },
   "outputs": [],
   "source": [
    "pred_1_df = pd.DataFrame({\"lower_CI\":prediction_1 - 1.96*fullmodel1.resid.std(),\n",
    "                          \"prediction\":prediction_1,\n",
    "                          \"upper_ci\": prediction_1 + 1.96*fullmodel1.resid.std()})\n",
    "display(pred_1_df.head().style)\n",
    "\n",
    "\n",
    "axis = spdf.plot(label=\"Actual\", figsize=(15,8))\n",
    "pred_1_df[\"prediction\"].plot(ax=axis, label=\"Forecast\", alpha=1) # alpha here is for transparency of the prediction line\n",
    "\n",
    "axis.fill_between(pred_1_df.index, pred_1_df[\"lower_CI\"], pred_1_df[\"upper_ci\"], color=\"green\", alpha=.15) # alpha here denotes the transparency of the shaded region\n",
    "\n",
    "axis.set_xlabel(\"Year-Months\")\n",
    "axis.set_ylabel(\"Sparkling\")\n",
    "plt.legend(loc=\"best\")\n",
    "plt.grid()\n",
    "plt.show();"
   ]
  },
  {
   "cell_type": "markdown",
   "id": "90db0743",
   "metadata": {},
   "source": [
    "# Build ARIMA model with lowest AIC score – test this model on test data using RMSE"
   ]
  },
  {
   "cell_type": "markdown",
   "id": "247d3453",
   "metadata": {},
   "source": [
    "## Automated AIC "
   ]
  },
  {
   "cell_type": "code",
   "execution_count": null,
   "id": "97aa73be",
   "metadata": {
    "ExecuteTime": {
     "end_time": "2021-08-15T14:54:37.090207Z",
     "start_time": "2021-08-15T14:54:35.590Z"
    }
   },
   "outputs": [],
   "source": [
    "import itertools # library for generating all possible combinations of given number sets\n",
    "from statsmodels.tsa.arima_model import ARIMA\n",
    "\n",
    "p = q = range(0, 4)\n",
    "d= range(1,2) # required as itertools product function expects the parameters as range objects, even if it is only value\n",
    "\n",
    "pdq = list(itertools.product(p, d, q))\n",
    " \n",
    "# Creating an empty Dataframe with column names only\n",
    "ARIMA_AIC = pd.DataFrame(columns=[\"Param\", \"AIC\"])\n",
    "ARIMA_AIC\n",
    "\n",
    "for param in pdq:\n",
    "    ARIMA_model = ARIMA(train[\"Sparkling\"], order=param).fit()\n",
    "    \n",
    "    display(f\"ARIMA{param} - AIC:{ARIMA_model.aic}\")\n",
    "    \n",
    "    ARIMA_AIC=ARIMA_AIC.append({\"Param\":param, \"AIC\": ARIMA_model.aic}, ignore_index=True)\n",
    "    \n",
    "display(ARIMA_AIC.sort_values(by=[\"AIC\"],ascending=True))    "
   ]
  },
  {
   "cell_type": "code",
   "execution_count": null,
   "id": "1a7615f4",
   "metadata": {
    "ExecuteTime": {
     "end_time": "2021-08-15T14:54:37.091207Z",
     "start_time": "2021-08-15T14:54:35.617Z"
    }
   },
   "outputs": [],
   "source": [
    "auto_ARIMA = ARIMA(train[\"Sparkling\"], order=(2,1,2),freq='M')\n",
    "\n",
    "results_auto_ARIMA = auto_ARIMA.fit()\n",
    "\n",
    "display(results_auto_ARIMA.summary())"
   ]
  },
  {
   "cell_type": "markdown",
   "id": "ea5b68ec",
   "metadata": {},
   "source": [
    "## Prediction"
   ]
  },
  {
   "cell_type": "code",
   "execution_count": null,
   "id": "6235bc1e",
   "metadata": {
    "ExecuteTime": {
     "end_time": "2021-08-15T14:54:37.093209Z",
     "start_time": "2021-08-15T14:54:35.647Z"
    }
   },
   "outputs": [],
   "source": [
    "predicted_auto_ARIMA = results_auto_ARIMA.forecast(steps=len(test))\n",
    "\n",
    "RMSE_autoarima = rmse(test[\"Sparkling\"],predicted_auto_ARIMA[0])\n",
    "display(RMSE_autoarima)\n",
    "\n",
    "resultsDf_arima = pd.DataFrame({'Test RMSE': [RMSE_autoarima]}\n",
    "                           ,index=['ARIMA(2,1,2)'])\n",
    "\n",
    "resultsDf = pd.concat([resultsDf, resultsDf_arima])\n",
    "\n",
    "display(resultsDf)"
   ]
  },
  {
   "cell_type": "markdown",
   "id": "10848756",
   "metadata": {},
   "source": [
    "## Stationarity check with AdFuller"
   ]
  },
  {
   "cell_type": "code",
   "execution_count": null,
   "id": "b7f12b0c",
   "metadata": {
    "ExecuteTime": {
     "end_time": "2021-08-15T14:54:37.094209Z",
     "start_time": "2021-08-15T14:54:35.677Z"
    },
    "scrolled": true
   },
   "outputs": [],
   "source": [
    "from statsmodels.tsa.stattools import adfuller\n",
    "\n",
    "display(\"Results of Dickey-Fuller Test:\")\n",
    "dftest = adfuller(spdf[\"Sparkling\"])\n",
    "\n",
    "dfoutput = pd.Series(dftest[0:4], index=[\"Test Statistic\",\"p-value\",\"#Lags Used\",\"Number of Observations Used\"])\n",
    "\n",
    "for key,value in dftest[4].items():\n",
    "        dfoutput[\"Critical Value (%s)\"%key] = value\n",
    "\n",
    "display(dfoutput)\n",
    "display(\"P Value: \", dftest[1], \"H0 rejected and the time series is stationary\")"
   ]
  },
  {
   "cell_type": "markdown",
   "id": "7e4c8772",
   "metadata": {},
   "source": [
    "## Manual Arima using ACF and PACF plots"
   ]
  },
  {
   "cell_type": "code",
   "execution_count": null,
   "id": "34333c44",
   "metadata": {
    "ExecuteTime": {
     "end_time": "2021-08-15T14:54:37.096218Z",
     "start_time": "2021-08-15T14:54:35.709Z"
    },
    "scrolled": false
   },
   "outputs": [],
   "source": [
    "from statsmodels.graphics.tsaplots import plot_acf, plot_pacf\n",
    "\n",
    "plot_acf(spdf[\"Sparkling\"].diff().dropna(),lags=50,title='Differenced Data Autocorrelation');\n",
    "plot_pacf(spdf[\"Sparkling\"].diff().dropna(),lags=50,title='Differenced Data Partial Autocorrelation');\n",
    "plt.show()\n",
    "\n",
    "display(\"p value from PACF: 3 & q value from ACF: 2\")\n",
    "\n",
    "manual_ARIMA = ARIMA(train[\"Sparkling\"].astype(\"float64\"), order=(3,1,2),freq=\"M\")\n",
    "results_manual_ARIMA = manual_ARIMA.fit()\n",
    "display(results_manual_ARIMA.summary())\n",
    "\n",
    "predicted_manual_ARIMA = results_manual_ARIMA.forecast(steps=len(test))\n",
    "\n",
    "RMSE_manualarima = rmse(test[\"Sparkling\"],\n",
    "                        predicted_manual_ARIMA[0])\n",
    "\n",
    "resultsDf_manual_arima = pd.DataFrame({'Test RMSE': [RMSE_manualarima]}\n",
    "                           ,index=['Manual ARIMA(3,1,2)'])\n",
    "\n",
    "resultsDf = pd.concat([resultsDf, resultsDf_manual_arima])\n",
    "\n",
    "display(resultsDf)"
   ]
  },
  {
   "cell_type": "markdown",
   "id": "0b1e3fcc",
   "metadata": {},
   "source": [
    "# Build SARIMA model with lowest AIC score – test this model on test data using RMSE"
   ]
  },
  {
   "cell_type": "code",
   "execution_count": null,
   "id": "5a5771e6",
   "metadata": {
    "ExecuteTime": {
     "end_time": "2021-08-15T14:54:37.098207Z",
     "start_time": "2021-08-15T14:54:35.739Z"
    }
   },
   "outputs": [],
   "source": [
    "plot_acf(spdf[\"Sparkling\"].diff().dropna(),lags=50,title=\"Differenced Data Autocorrelation\");\n",
    "plt.show()\n",
    "\n",
    "display(\"Seasonality is observed for 6 and 12\")"
   ]
  },
  {
   "cell_type": "markdown",
   "id": "0b0daa47",
   "metadata": {},
   "source": [
    "## Automated AIC for seasonality 6"
   ]
  },
  {
   "cell_type": "code",
   "execution_count": null,
   "id": "1c5067de",
   "metadata": {
    "ExecuteTime": {
     "end_time": "2021-08-15T14:54:37.100207Z",
     "start_time": "2021-08-15T14:54:35.766Z"
    }
   },
   "outputs": [],
   "source": [
    "from  statsmodels.tsa.statespace.sarimax import SARIMAX\n",
    "\n",
    "p = q = range(0, 3)\n",
    "d= range(1,2)\n",
    "D = range(0,1)\n",
    "pdq = list(itertools.product(p, d, q))\n",
    "model_pdq = [(x[0], x[1], x[2], 6) for x in list(itertools.product(p, D, q))] # seasonal PDQ\n",
    "\n",
    "\n",
    "SARIMA_AIC = pd.DataFrame(columns=['param','seasonal', 'AIC'])\n",
    "\n",
    "\n"
   ]
  },
  {
   "cell_type": "code",
   "execution_count": null,
   "id": "7566084f",
   "metadata": {
    "ExecuteTime": {
     "end_time": "2021-08-15T14:54:37.101207Z",
     "start_time": "2021-08-15T14:54:35.791Z"
    }
   },
   "outputs": [],
   "source": [
    "for param in pdq:\n",
    "    for param_seasonal in model_pdq:\n",
    "        SARIMA_model = SARIMAX(train[\"Sparkling\"],order=param, \n",
    "                               seasonal_order = param_seasonal,enforce_stationarity=False,\n",
    "                               enforce_invertibility=False)\n",
    "            \n",
    "        results_SARIMA = SARIMA_model.fit(maxiter=1000)\n",
    "        \n",
    "        SARIMA_AIC = SARIMA_AIC.append({\"param\":param,\n",
    "                                        \"seasonal\":param_seasonal, \n",
    "                                        \"AIC\": results_SARIMA.aic},\n",
    "                                       ignore_index=True)\n"
   ]
  },
  {
   "cell_type": "code",
   "execution_count": null,
   "id": "0e736f17",
   "metadata": {
    "ExecuteTime": {
     "end_time": "2021-08-15T14:54:37.102207Z",
     "start_time": "2021-08-15T14:54:35.818Z"
    }
   },
   "outputs": [],
   "source": [
    "SARIMA_AIC.sort_values(by=['AIC']).head()"
   ]
  },
  {
   "cell_type": "code",
   "execution_count": null,
   "id": "5fe5731f",
   "metadata": {
    "ExecuteTime": {
     "end_time": "2021-08-15T14:54:37.104209Z",
     "start_time": "2021-08-15T14:54:35.843Z"
    }
   },
   "outputs": [],
   "source": [
    "auto_SARIMA_6 = SARIMAX(train[\"Sparkling\"].values,\n",
    "                       order=(1,1,2),\n",
    "                       seasonal_order=(2,0,2,6),\n",
    "                       enforce_stationarity=False,\n",
    "                       enforce_ivertibility=False)\n",
    "results_auto_SARIMA_6 = auto_SARIMA_6.fit(maxiter=1000)\n",
    "display(results_auto_SARIMA_6.summary())"
   ]
  },
  {
   "cell_type": "markdown",
   "id": "6535c4bb",
   "metadata": {},
   "source": [
    "## Prediction on the Test Set and Evaluation"
   ]
  },
  {
   "cell_type": "code",
   "execution_count": null,
   "id": "a6830e54",
   "metadata": {
    "ExecuteTime": {
     "end_time": "2021-08-15T14:54:37.105207Z",
     "start_time": "2021-08-15T14:54:35.871Z"
    }
   },
   "outputs": [],
   "source": [
    "predicted_auto_SARIMA_6 = results_auto_SARIMA_6.get_forecast(steps=len(test))\n",
    "\n",
    "display(predicted_auto_SARIMA_6.summary_frame(alpha=0.05).head())\n",
    "\n",
    "rmse_autosarima6 = rmse(test[\"Sparkling\"], predicted_auto_SARIMA_6.predicted_mean)\n",
    "display(rmse_autosarima6)\n",
    "\n",
    "temp_resultsDf = pd.DataFrame({\"Test RMSE\" : [rmse_autosarima6]}, index = [\"SARIMA(1,1,2)(2,0,2,6)\"])\n",
    "resultsDf = pd.concat([resultsDf, temp_resultsDf])\n",
    "\n",
    "display(resultsDf)\n"
   ]
  },
  {
   "cell_type": "markdown",
   "id": "cfe6d589",
   "metadata": {
    "ExecuteTime": {
     "end_time": "2021-08-11T23:33:26.560064Z",
     "start_time": "2021-08-11T23:33:07.932Z"
    }
   },
   "source": [
    "## Automated AIC for 12 Seasonality"
   ]
  },
  {
   "cell_type": "code",
   "execution_count": null,
   "id": "2ba34899",
   "metadata": {
    "ExecuteTime": {
     "end_time": "2021-08-15T14:54:37.107209Z",
     "start_time": "2021-08-15T14:54:35.897Z"
    }
   },
   "outputs": [],
   "source": [
    "p = q = range(0, 3)\n",
    "d= range(1,2)\n",
    "D = range(0,1)\n",
    "pdq = list(itertools.product(p, d, q))\n",
    "model_pdq = [(x[0], x[1], x[2], 12) for x in list(itertools.product(p, D, q))]\n",
    "\n",
    "\n",
    "SARIMA_AIC = pd.DataFrame(columns=['param','seasonal', 'AIC'])\n"
   ]
  },
  {
   "cell_type": "code",
   "execution_count": null,
   "id": "fc3c9829",
   "metadata": {
    "ExecuteTime": {
     "end_time": "2021-08-15T14:54:37.109208Z",
     "start_time": "2021-08-15T14:54:35.921Z"
    }
   },
   "outputs": [],
   "source": [
    "\n",
    "for param in pdq:\n",
    "    for param_seasonal in model_pdq:\n",
    "        SARIMA_model =SARIMAX(train[\"Sparkling\"],\n",
    "                                            order=param,\n",
    "                                            seasonal_order = param_seasonal,\n",
    "                                            enforce_stationarity=False,\n",
    "                                            enforce_invertibility=False)\n",
    "            \n",
    "        results_SARIMA = SARIMA_model.fit(maxiter=1000)\n",
    "        \n",
    "        SARIMA_AIC = SARIMA_AIC.append({\"param\":param,\n",
    "                                        \"seasonal\":param_seasonal, \n",
    "                                        \"AIC\": results_SARIMA.aic},\n",
    "                                       ignore_index=True)"
   ]
  },
  {
   "cell_type": "code",
   "execution_count": null,
   "id": "8c59eadf",
   "metadata": {
    "ExecuteTime": {
     "end_time": "2021-08-15T14:54:37.110208Z",
     "start_time": "2021-08-15T14:54:35.946Z"
    }
   },
   "outputs": [],
   "source": [
    "SARIMA_AIC.sort_values(by=[\"AIC\"]).head()"
   ]
  },
  {
   "cell_type": "code",
   "execution_count": null,
   "id": "7bc56da9",
   "metadata": {
    "ExecuteTime": {
     "end_time": "2021-08-15T14:54:37.112214Z",
     "start_time": "2021-08-15T14:54:35.974Z"
    }
   },
   "outputs": [],
   "source": [
    "auto_SARIMA_12 =SARIMAX(train[\"Sparkling\"],\n",
    "                                order=(1, 1, 2),\n",
    "                                seasonal_order=(2, 0, 2, 12),\n",
    "                                enforce_stationarity=False,\n",
    "                                enforce_invertibility=False)\n",
    "\n",
    "results_auto_SARIMA_12 = auto_SARIMA_12.fit(maxiter=1000)\n",
    "\n",
    "display(results_auto_SARIMA_12.summary())"
   ]
  },
  {
   "cell_type": "markdown",
   "id": "e3e335e8",
   "metadata": {},
   "source": [
    "## Predict on the Test Set and Evaluation"
   ]
  },
  {
   "cell_type": "code",
   "execution_count": null,
   "id": "7a1ae945",
   "metadata": {
    "ExecuteTime": {
     "end_time": "2021-08-15T14:54:37.113209Z",
     "start_time": "2021-08-15T14:54:36.005Z"
    }
   },
   "outputs": [],
   "source": [
    "predicted_auto_SARIMA_12 = results_auto_SARIMA_12.get_forecast(steps=len(test))\n",
    "\n",
    "display(predicted_auto_SARIMA_12.summary_frame(alpha=0.05).head())\n",
    "\n",
    "rmse_autosarima12 = rmse(test[\"Sparkling\"], predicted_auto_SARIMA_12.predicted_mean)\n",
    "\n",
    "display(\"RMSE\", rmse_autosarima12)\n",
    "\n",
    "temp_resultsDf = pd.DataFrame({\"Test RMSE\": [rmse_autosarima12]}, index=['SARIMA(1,1,2)(2,0,2,12)'])\n",
    "\n",
    "resultsDf = pd.concat([resultsDf, temp_resultsDf])\n",
    "\n",
    "display(resultsDf)\n"
   ]
  },
  {
   "cell_type": "markdown",
   "id": "b51e593e",
   "metadata": {},
   "source": [
    "## Manual SARIMA model - Best Params seleced from ACF and PACF plots "
   ]
  },
  {
   "cell_type": "code",
   "execution_count": null,
   "id": "2788fc76",
   "metadata": {
    "ExecuteTime": {
     "end_time": "2021-08-15T14:54:37.115209Z",
     "start_time": "2021-08-15T14:54:36.034Z"
    },
    "scrolled": false
   },
   "outputs": [],
   "source": [
    "plot_acf(spdf[\"Sparkling\"].diff().dropna(), lags=50, title=\"Differenced Data Autocorrelation\")\n",
    "plot_pacf(spdf[\"Sparkling\"].diff().dropna(), lags=50, title=\"Differenced Data Partial Autocorrelation\")\n",
    "\n",
    "plt.show()"
   ]
  },
  {
   "cell_type": "code",
   "execution_count": null,
   "id": "0122988a",
   "metadata": {
    "ExecuteTime": {
     "end_time": "2021-08-15T14:54:37.117210Z",
     "start_time": "2021-08-15T14:54:36.061Z"
    }
   },
   "outputs": [],
   "source": [
    "spdf.plot()\n",
    "plt.grid()\n",
    "plt.show()\n",
    "\n",
    "(spdf[\"Sparkling\"].diff(6)).plot()\n",
    "plt.grid()\n",
    "plt.show()"
   ]
  },
  {
   "cell_type": "markdown",
   "id": "41775024",
   "metadata": {},
   "source": [
    "We see that there might be a slight trend which can be noticed in the data. So we take a differencing of first order on the seasonally differenced series."
   ]
  },
  {
   "cell_type": "code",
   "execution_count": null,
   "id": "ab1792f8",
   "metadata": {
    "ExecuteTime": {
     "end_time": "2021-08-15T14:54:37.118208Z",
     "start_time": "2021-08-15T14:54:36.090Z"
    }
   },
   "outputs": [],
   "source": [
    "(spdf[\"Sparkling\"].diff(6)).diff().plot()\n",
    "plt.grid()\n",
    "plt.show()"
   ]
  },
  {
   "cell_type": "markdown",
   "id": "53328682",
   "metadata": {},
   "source": [
    "check the stationarity of the above series before fitting the SARIMA model."
   ]
  },
  {
   "cell_type": "markdown",
   "id": "be1f41a9",
   "metadata": {},
   "source": [
    "## Stationarity Check"
   ]
  },
  {
   "cell_type": "code",
   "execution_count": null,
   "id": "be3b187e",
   "metadata": {
    "ExecuteTime": {
     "end_time": "2021-08-15T14:54:37.120210Z",
     "start_time": "2021-08-15T14:54:36.120Z"
    }
   },
   "outputs": [],
   "source": [
    "adfuller(train[\"Sparkling\"])[1]"
   ]
  },
  {
   "cell_type": "markdown",
   "id": "d4daeb0d",
   "metadata": {},
   "source": [
    "Here, we have taken alpha=0.05.\n",
    "\n",
    "We are going to take the seasonal period as 6. We will keep the p(0) and q(0) parameters same as the ARIMA model.\n",
    "\n",
    "The Auto-Regressive parameter in an SARIMA model is 'P' which comes from the significant lag after which the PACF plot cuts-off to 2.\n",
    "The Moving-Average parameter in an SARIMA model is 'Q' which comes from the significant lag after which the ACF plot cuts-off to 2. "
   ]
  },
  {
   "cell_type": "markdown",
   "id": "e7115ec5",
   "metadata": {},
   "source": [
    "## Manual SARIMA 6"
   ]
  },
  {
   "cell_type": "code",
   "execution_count": null,
   "id": "70fd95f5",
   "metadata": {
    "ExecuteTime": {
     "end_time": "2021-08-15T14:54:37.121208Z",
     "start_time": "2021-08-15T14:54:36.152Z"
    }
   },
   "outputs": [],
   "source": [
    "manual_SARIMA_6 = SARIMAX(train[\"Sparkling\"],\n",
    "                         order=(3,1,2),\n",
    "                         seasonal_order=(3,1,2,6),\n",
    "                         enforce_stationarity=False,\n",
    "                         enforce_invertibility=False)\n",
    "results_manual_SARIMA_6 = manual_SARIMA_6.fit(maxiter=1000)\n",
    "display(results_manual_SARIMA_6.summary())"
   ]
  },
  {
   "cell_type": "markdown",
   "id": "1f8b3b00",
   "metadata": {},
   "source": [
    "## Manual SARIMA 12"
   ]
  },
  {
   "cell_type": "code",
   "execution_count": null,
   "id": "e06868d9",
   "metadata": {
    "ExecuteTime": {
     "end_time": "2021-08-15T14:54:37.123208Z",
     "start_time": "2021-08-15T14:54:36.183Z"
    }
   },
   "outputs": [],
   "source": [
    "manual_SARIMA_12 = SARIMAX(train[\"Sparkling\"],\n",
    "                         order=(3,1,2),\n",
    "                         seasonal_order=(3,1,2,12),\n",
    "                         enforce_stationarity=False,\n",
    "                         enforce_invertibility=False)\n",
    "results_manual_SARIMA_12 = manual_SARIMA_12.fit(maxiter=1000)\n",
    "display(results_manual_SARIMA_12.summary())"
   ]
  },
  {
   "cell_type": "markdown",
   "id": "b6336168",
   "metadata": {},
   "source": [
    "## Prediction on the Test Set and Evaluation"
   ]
  },
  {
   "cell_type": "code",
   "execution_count": null,
   "id": "6e04ce8c",
   "metadata": {
    "ExecuteTime": {
     "end_time": "2021-08-15T14:54:37.125209Z",
     "start_time": "2021-08-15T14:54:36.215Z"
    }
   },
   "outputs": [],
   "source": [
    "predicted_manual_SARIMA_6 = results_manual_SARIMA_6.get_forecast(steps=len(test))\n",
    "\n",
    "display(predicted_manual_SARIMA_6.summary_frame(alpha=0.05).head())\n",
    "\n",
    "\n",
    "rmse_manualsarima6 = rmse(test[\"Sparkling\"], predicted_manual_SARIMA_6.predicted_mean)\n",
    "display(\"Test RMSE Manual SARIMA 6\", rmse_manualsarima6)\n",
    "\n",
    "temp_resultsDf = pd.DataFrame({\"Test RMSE\": [rmse_manualsarima6]}, index=[\"SARIMA(3,1,2)(3,1,2,6)\"])\n",
    "\n",
    "resultsDf = pd.concat([resultsDf, temp_resultsDf])\n",
    "\n",
    "\n",
    "predicted_manual_SARIMA_12 = results_manual_SARIMA_12.get_forecast(steps=len(test))\n",
    "\n",
    "display(predicted_manual_SARIMA_12.summary_frame(alpha=0.05).head())\n",
    "\n",
    "\n",
    "rmse_manualsarima12 = rmse(test[\"Sparkling\"], predicted_manual_SARIMA_12.predicted_mean)\n",
    "display(\"Test RMSE Manual SARIMA 12\",rmse_manualsarima12)\n",
    "\n",
    "temp_resultsDf = pd.DataFrame({\"Test RMSE\": [rmse_manualsarima12]}, index=[\"SARIMA(3,1,2)(3,1,2,12)\"])\n",
    "\n",
    "resultsDf = pd.concat([resultsDf, temp_resultsDf])"
   ]
  },
  {
   "cell_type": "markdown",
   "id": "5790c2a8",
   "metadata": {},
   "source": [
    "# Build table with all the above models with RMSE scores"
   ]
  },
  {
   "cell_type": "code",
   "execution_count": null,
   "id": "85df9b28",
   "metadata": {
    "ExecuteTime": {
     "end_time": "2021-08-15T14:54:37.126208Z",
     "start_time": "2021-08-15T14:54:36.246Z"
    },
    "scrolled": false
   },
   "outputs": [],
   "source": [
    "display(resultsDf.sort_values(by=[\"Test RMSE\"],ascending=True))"
   ]
  },
  {
   "cell_type": "code",
   "execution_count": null,
   "id": "5d413f52",
   "metadata": {
    "ExecuteTime": {
     "end_time": "2021-08-15T14:54:37.128208Z",
     "start_time": "2021-08-15T14:54:36.270Z"
    }
   },
   "outputs": [],
   "source": [
    "res_df = pd.DataFrame({'columns': resultsDf.index, 'Test RMSE': resultsDf[\"Test RMSE\"]})\n",
    "sorted_resDf_values = res_df.sort_values('Test RMSE', ascending=True)\n",
    "plt.figure(figsize=(10,10))\n",
    "sns.barplot(x='Test RMSE', y='columns', data=sorted_resDf_values)\n",
    "plt.xlabel('Test RMSE for all models')\n",
    "plt.ylabel('Model')\n",
    "plt.title('Best Models')\n",
    "plt.show()"
   ]
  },
  {
   "cell_type": "markdown",
   "id": "fca6a84c",
   "metadata": {},
   "source": [
    "## Build most optimum model on the Full Data"
   ]
  },
  {
   "cell_type": "code",
   "execution_count": null,
   "id": "741bf1f1",
   "metadata": {
    "ExecuteTime": {
     "end_time": "2021-08-15T14:54:37.130209Z",
     "start_time": "2021-08-15T14:54:36.298Z"
    }
   },
   "outputs": [],
   "source": [
    "full_data_model = SARIMAX(spdf[\"Sparkling\"], order=(3,1,2), seasonal_order=(3,1,2,12),\n",
    "                         enforce_stationarity=False,\n",
    "                         enforce_invertibility=False)\n",
    "results_full_data_model = full_data_model.fit(maxiter=1000)\n",
    "display(results_full_data_model.summary())"
   ]
  },
  {
   "cell_type": "markdown",
   "id": "656ce137",
   "metadata": {},
   "source": [
    "# Use optimal model with lowest RMSE to predict 12 months into future with a plot and confidence intervals"
   ]
  },
  {
   "cell_type": "code",
   "execution_count": null,
   "id": "4551a00c",
   "metadata": {
    "ExecuteTime": {
     "end_time": "2021-08-15T14:54:37.131208Z",
     "start_time": "2021-08-15T14:54:36.330Z"
    }
   },
   "outputs": [],
   "source": [
    "predicted_manual_SARIMA_12_full_data = results_full_data_model.get_forecast(steps=12)\n",
    "\n",
    "display(predicted_manual_SARIMA_12_full_data.summary_frame(alpha=0.05).head())\n",
    "\n",
    "rmse_full_data = rmse(spdf[\"Sparkling\"], results_full_data_model.fittedvalues)\n",
    "display(rmse_full_data)"
   ]
  },
  {
   "cell_type": "code",
   "execution_count": null,
   "id": "914e8136",
   "metadata": {
    "ExecuteTime": {
     "end_time": "2021-08-15T14:54:37.133208Z",
     "start_time": "2021-08-15T14:54:36.353Z"
    }
   },
   "outputs": [],
   "source": [
    "pred_full_manual_SARIMA_data = predicted_manual_SARIMA_12_full_data.summary_frame(alpha=0.05).set_index(pd.date_range(start=\"1995-08-31\", end=\"1996-07-31\", freq=\"M\"))"
   ]
  },
  {
   "cell_type": "code",
   "execution_count": null,
   "id": "cbc849bd",
   "metadata": {
    "ExecuteTime": {
     "end_time": "2021-08-15T14:54:37.134207Z",
     "start_time": "2021-08-15T14:54:36.377Z"
    },
    "scrolled": true
   },
   "outputs": [],
   "source": [
    "axis = spdf[\"Sparkling\"].plot(label=\"Observed\")\n",
    "\n",
    "pred_full_manual_SARIMA_data[\"mean\"].plot(ax=axis, label=\"Forecast\", alpha=0.7)\n",
    "\n",
    "axis.fill_between(pred_full_manual_SARIMA_data.index,\n",
    "                 pred_full_manual_SARIMA_data[\"mean_ci_lower\"],\n",
    "                 pred_full_manual_SARIMA_data[\"mean_ci_upper\"],\n",
    "                 color=\"green\",\n",
    "                 alpha=0.15)\n",
    "\n",
    "axis.set_xlabel(\"Year-Months\")\n",
    "axis.set_ylabel(\"Sparkling\")\n",
    "plt.title(\"Prediction for future 12 months\")\n",
    "plt.legend(loc=\"best\")\n",
    "plt.show()\n"
   ]
  },
  {
   "cell_type": "markdown",
   "id": "54a9a0c6",
   "metadata": {
    "ExecuteTime": {
     "end_time": "2021-08-15T12:47:47.408092Z",
     "start_time": "2021-08-15T12:47:47.401087Z"
    }
   },
   "source": [
    "<h1><u><i> DATASET ROSE"
   ]
  },
  {
   "cell_type": "code",
   "execution_count": null,
   "id": "02475b0e",
   "metadata": {
    "ExecuteTime": {
     "end_time": "2021-08-15T14:54:37.136209Z",
     "start_time": "2021-08-15T14:54:36.402Z"
    }
   },
   "outputs": [],
   "source": [
    "import numpy as np\n",
    "import pandas as pd\n",
    "import seaborn as sns\n",
    "from matplotlib import pyplot as plt\n",
    "import warnings\n",
    "warnings.filterwarnings(\"ignore\")\n",
    "sns.set()\n",
    "from IPython.display import display"
   ]
  },
  {
   "cell_type": "code",
   "execution_count": null,
   "id": "84451e9c",
   "metadata": {
    "ExecuteTime": {
     "end_time": "2021-08-15T14:54:37.138208Z",
     "start_time": "2021-08-15T14:54:36.424Z"
    }
   },
   "outputs": [],
   "source": [
    "rdf = pd.read_csv(\"Rose.csv\")"
   ]
  },
  {
   "cell_type": "markdown",
   "id": "998398cd",
   "metadata": {},
   "source": [
    "# Data definition"
   ]
  },
  {
   "cell_type": "code",
   "execution_count": null,
   "id": "34078d19",
   "metadata": {
    "ExecuteTime": {
     "end_time": "2021-08-15T14:54:37.140209Z",
     "start_time": "2021-08-15T14:54:36.450Z"
    }
   },
   "outputs": [],
   "source": [
    "rdf.info()"
   ]
  },
  {
   "cell_type": "code",
   "execution_count": null,
   "id": "37c83553",
   "metadata": {
    "ExecuteTime": {
     "end_time": "2021-08-15T14:54:37.141207Z",
     "start_time": "2021-08-15T14:54:36.474Z"
    }
   },
   "outputs": [],
   "source": [
    "rdf.describe()"
   ]
  },
  {
   "cell_type": "markdown",
   "id": "f82fa424",
   "metadata": {},
   "source": [
    "# Data description\n"
   ]
  },
  {
   "cell_type": "code",
   "execution_count": null,
   "id": "2ed36147",
   "metadata": {
    "ExecuteTime": {
     "end_time": "2021-08-15T14:54:37.143208Z",
     "start_time": "2021-08-15T14:54:36.501Z"
    }
   },
   "outputs": [],
   "source": [
    "rdf.head()"
   ]
  },
  {
   "cell_type": "code",
   "execution_count": null,
   "id": "0386c793",
   "metadata": {
    "ExecuteTime": {
     "end_time": "2021-08-15T14:54:37.145209Z",
     "start_time": "2021-08-15T14:54:36.525Z"
    }
   },
   "outputs": [],
   "source": [
    "rdf.tail()"
   ]
  },
  {
   "cell_type": "code",
   "execution_count": null,
   "id": "a65dd553",
   "metadata": {
    "ExecuteTime": {
     "end_time": "2021-08-15T14:54:37.146207Z",
     "start_time": "2021-08-15T14:54:36.549Z"
    }
   },
   "outputs": [],
   "source": [
    "rdf[rdf[\"Rose\"].isnull()]"
   ]
  },
  {
   "cell_type": "code",
   "execution_count": null,
   "id": "379d7f6e",
   "metadata": {
    "ExecuteTime": {
     "end_time": "2021-08-15T14:54:37.149209Z",
     "start_time": "2021-08-15T14:54:36.570Z"
    }
   },
   "outputs": [],
   "source": [
    "rdf = rdf.interpolate()"
   ]
  },
  {
   "cell_type": "code",
   "execution_count": null,
   "id": "bfebedb2",
   "metadata": {
    "ExecuteTime": {
     "end_time": "2021-08-15T14:54:37.150208Z",
     "start_time": "2021-08-15T14:54:36.595Z"
    }
   },
   "outputs": [],
   "source": [
    "rdf[rdf[\"Rose\"].isnull()]"
   ]
  },
  {
   "cell_type": "markdown",
   "id": "c0ffcc4b",
   "metadata": {},
   "source": [
    "## Organize dataset"
   ]
  },
  {
   "cell_type": "code",
   "execution_count": null,
   "id": "70ad9c3d",
   "metadata": {
    "ExecuteTime": {
     "end_time": "2021-08-15T14:54:37.152209Z",
     "start_time": "2021-08-15T14:54:36.622Z"
    }
   },
   "outputs": [],
   "source": [
    "Date = pd.date_range(start=\"1980-01-01\", periods=187, freq=\"M\")\n",
    "Date"
   ]
  },
  {
   "cell_type": "code",
   "execution_count": null,
   "id": "fc1b7af6",
   "metadata": {
    "ExecuteTime": {
     "end_time": "2021-08-15T14:54:37.153208Z",
     "start_time": "2021-08-15T14:54:36.644Z"
    }
   },
   "outputs": [],
   "source": [
    "rdf[\"Date\"] = Date"
   ]
  },
  {
   "cell_type": "code",
   "execution_count": null,
   "id": "a66989de",
   "metadata": {
    "ExecuteTime": {
     "end_time": "2021-08-15T14:54:37.155208Z",
     "start_time": "2021-08-15T14:54:36.667Z"
    }
   },
   "outputs": [],
   "source": [
    "rdf.drop(\"YearMonth\", axis=1, inplace=True)"
   ]
  },
  {
   "cell_type": "code",
   "execution_count": null,
   "id": "8fa5909a",
   "metadata": {
    "ExecuteTime": {
     "end_time": "2021-08-15T14:54:37.157208Z",
     "start_time": "2021-08-15T14:54:36.689Z"
    }
   },
   "outputs": [],
   "source": [
    "rdf.set_index(\"Date\", inplace=True)"
   ]
  },
  {
   "cell_type": "code",
   "execution_count": null,
   "id": "495bb329",
   "metadata": {
    "ExecuteTime": {
     "end_time": "2021-08-15T14:54:37.158206Z",
     "start_time": "2021-08-15T14:54:36.713Z"
    }
   },
   "outputs": [],
   "source": [
    "rdf.head()"
   ]
  },
  {
   "cell_type": "code",
   "execution_count": null,
   "id": "cf07275c",
   "metadata": {
    "ExecuteTime": {
     "end_time": "2021-08-15T14:54:37.160207Z",
     "start_time": "2021-08-15T14:54:36.736Z"
    }
   },
   "outputs": [],
   "source": [
    "rdf.index.freq = \"M\""
   ]
  },
  {
   "cell_type": "markdown",
   "id": "1b930b02",
   "metadata": {},
   "source": [
    "# Time series plot"
   ]
  },
  {
   "cell_type": "code",
   "execution_count": null,
   "id": "dc1abe82",
   "metadata": {
    "ExecuteTime": {
     "end_time": "2021-08-15T14:54:37.161207Z",
     "start_time": "2021-08-15T14:54:36.759Z"
    }
   },
   "outputs": [],
   "source": [
    "from pylab import rcParams # or we can write plt.rcParams['figure.figsize'] = 15,8\n",
    "rcParams['figure.figsize'] = 15,8"
   ]
  },
  {
   "cell_type": "code",
   "execution_count": null,
   "id": "52fe6e71",
   "metadata": {
    "ExecuteTime": {
     "end_time": "2021-08-15T14:54:37.163208Z",
     "start_time": "2021-08-15T14:54:36.783Z"
    }
   },
   "outputs": [],
   "source": [
    "rdf.plot()\n",
    "plt.show()"
   ]
  },
  {
   "cell_type": "markdown",
   "id": "19919347",
   "metadata": {},
   "source": [
    "# Box plot"
   ]
  },
  {
   "cell_type": "markdown",
   "id": "095b64ba",
   "metadata": {},
   "source": [
    "## Yearly box plot"
   ]
  },
  {
   "cell_type": "code",
   "execution_count": null,
   "id": "5d9aee25",
   "metadata": {
    "ExecuteTime": {
     "end_time": "2021-08-15T14:54:37.165210Z",
     "start_time": "2021-08-15T14:54:36.810Z"
    }
   },
   "outputs": [],
   "source": [
    "sns.boxplot(x = rdf.index.year, y = rdf[\"Rose\"])\n",
    "plt.xlabel('Year')\n",
    "plt.show()"
   ]
  },
  {
   "cell_type": "markdown",
   "id": "42d06e8a",
   "metadata": {},
   "source": [
    "## Monthly box plot"
   ]
  },
  {
   "cell_type": "code",
   "execution_count": null,
   "id": "e8ed2fd3",
   "metadata": {
    "ExecuteTime": {
     "end_time": "2021-08-15T14:54:37.166209Z",
     "start_time": "2021-08-15T14:54:36.836Z"
    }
   },
   "outputs": [],
   "source": [
    "sns.boxplot(x = rdf.index.month_name(), y = rdf[\"Rose\"])\n",
    "plt.xlabel('Month')\n",
    "plt.show()"
   ]
  },
  {
   "cell_type": "markdown",
   "id": "6767cd06",
   "metadata": {},
   "source": [
    "## Monthly sales for Rose Wine across years for each month"
   ]
  },
  {
   "cell_type": "code",
   "execution_count": null,
   "id": "96c6f5f1",
   "metadata": {
    "ExecuteTime": {
     "end_time": "2021-08-15T14:54:37.168207Z",
     "start_time": "2021-08-15T14:54:36.860Z"
    }
   },
   "outputs": [],
   "source": [
    "from statsmodels.graphics.tsaplots import month_plot"
   ]
  },
  {
   "cell_type": "code",
   "execution_count": null,
   "id": "527b79b2",
   "metadata": {
    "ExecuteTime": {
     "end_time": "2021-08-15T14:54:37.169207Z",
     "start_time": "2021-08-15T14:54:36.883Z"
    },
    "scrolled": true
   },
   "outputs": [],
   "source": [
    "month_plot(rdf, ylabel=\"Rose Wine Sales\")"
   ]
  },
  {
   "cell_type": "markdown",
   "id": "d8b623c2",
   "metadata": {
    "ExecuteTime": {
     "end_time": "2021-08-07T22:37:51.112285Z",
     "start_time": "2021-08-07T22:37:51.106284Z"
    }
   },
   "source": [
    "# Decompose the Time Series"
   ]
  },
  {
   "cell_type": "code",
   "execution_count": null,
   "id": "9f2e7f38",
   "metadata": {
    "ExecuteTime": {
     "end_time": "2021-08-15T14:54:37.171206Z",
     "start_time": "2021-08-15T14:54:36.908Z"
    }
   },
   "outputs": [],
   "source": [
    "from statsmodels.tsa.seasonal import seasonal_decompose"
   ]
  },
  {
   "cell_type": "code",
   "execution_count": null,
   "id": "0efcb516",
   "metadata": {
    "ExecuteTime": {
     "end_time": "2021-08-15T14:54:37.173208Z",
     "start_time": "2021-08-15T14:54:36.932Z"
    }
   },
   "outputs": [],
   "source": [
    "decomposition = seasonal_decompose(rdf, model=\"multiplicative\")\n",
    "decomposition.plot()\n",
    "plt.show()"
   ]
  },
  {
   "cell_type": "markdown",
   "id": "53e00589",
   "metadata": {},
   "source": [
    "## Trend, Seasonality and Residual"
   ]
  },
  {
   "cell_type": "code",
   "execution_count": null,
   "id": "c1415654",
   "metadata": {
    "ExecuteTime": {
     "end_time": "2021-08-15T14:54:37.174207Z",
     "start_time": "2021-08-15T14:54:36.958Z"
    }
   },
   "outputs": [],
   "source": [
    "trend = decomposition.trend\n",
    "seasonality = decomposition.seasonal\n",
    "residual = decomposition.resid\n",
    "\n",
    "print(\"Trend\", \"\\n\", trend.head(12), \"\\n\")\n",
    "print(\"Seasonality\", \"\\n\", seasonality.head(12), \"\\n\")\n",
    "print(\"Residual\", \"\\n\", residual.head(12), \"\\n\")"
   ]
  },
  {
   "cell_type": "markdown",
   "id": "ce61a5ad",
   "metadata": {},
   "source": [
    "# Train test split & plot"
   ]
  },
  {
   "cell_type": "code",
   "execution_count": 3,
   "id": "ff2d74fd",
   "metadata": {
    "ExecuteTime": {
     "end_time": "2021-08-15T14:54:37.288208Z",
     "start_time": "2021-08-15T14:54:37.274209Z"
    }
   },
   "outputs": [
    {
     "ename": "NameError",
     "evalue": "name 'rdf' is not defined",
     "output_type": "error",
     "traceback": [
      "\u001b[1;31m---------------------------------------------------------------------------\u001b[0m",
      "\u001b[1;31mNameError\u001b[0m                                 Traceback (most recent call last)",
      "\u001b[1;32m<ipython-input-3-5b8d786ee9e0>\u001b[0m in \u001b[0;36m<module>\u001b[1;34m\u001b[0m\n\u001b[1;32m----> 1\u001b[1;33m \u001b[0mtrain\u001b[0m \u001b[1;33m=\u001b[0m \u001b[0mrdf\u001b[0m\u001b[1;33m[\u001b[0m\u001b[0mrdf\u001b[0m\u001b[1;33m.\u001b[0m\u001b[0mindex\u001b[0m\u001b[1;33m.\u001b[0m\u001b[0myear\u001b[0m \u001b[1;33m<\u001b[0m \u001b[1;36m1991\u001b[0m\u001b[1;33m]\u001b[0m\u001b[1;33m\u001b[0m\u001b[1;33m\u001b[0m\u001b[0m\n\u001b[0m\u001b[0;32m      2\u001b[0m \u001b[0mtest\u001b[0m \u001b[1;33m=\u001b[0m \u001b[0mrdf\u001b[0m\u001b[1;33m[\u001b[0m\u001b[0mrdf\u001b[0m\u001b[1;33m.\u001b[0m\u001b[0mindex\u001b[0m\u001b[1;33m.\u001b[0m\u001b[0myear\u001b[0m \u001b[1;33m>=\u001b[0m \u001b[1;36m1991\u001b[0m\u001b[1;33m]\u001b[0m\u001b[1;33m\u001b[0m\u001b[1;33m\u001b[0m\u001b[0m\n",
      "\u001b[1;31mNameError\u001b[0m: name 'rdf' is not defined"
     ]
    }
   ],
   "source": [
    "train = rdf[rdf.index.year < 1991]\n",
    "test = rdf[rdf.index.year >= 1991]"
   ]
  },
  {
   "cell_type": "code",
   "execution_count": null,
   "id": "494f8ebe",
   "metadata": {
    "ExecuteTime": {
     "end_time": "2021-08-15T14:54:37.290209Z",
     "start_time": "2021-08-15T14:54:37.022Z"
    }
   },
   "outputs": [],
   "source": [
    "print(train)\n",
    "print(test)"
   ]
  },
  {
   "cell_type": "code",
   "execution_count": null,
   "id": "c0b305f1",
   "metadata": {
    "ExecuteTime": {
     "end_time": "2021-08-15T14:54:37.292209Z",
     "start_time": "2021-08-15T14:54:37.050Z"
    }
   },
   "outputs": [],
   "source": [
    "train.shape, test.shape"
   ]
  },
  {
   "cell_type": "code",
   "execution_count": null,
   "id": "0d10ac31",
   "metadata": {
    "ExecuteTime": {
     "end_time": "2021-08-15T14:54:37.293208Z",
     "start_time": "2021-08-15T14:54:37.078Z"
    }
   },
   "outputs": [],
   "source": [
    "train[\"Rose\"].plot(legend = True, label = \"Train\", fontsize = 14)\n",
    "test[\"Rose\"].plot(legend = True, label = \"Test\", fontsize = 14)\n",
    "plt.show()"
   ]
  },
  {
   "cell_type": "markdown",
   "id": "b4e29f28",
   "metadata": {},
   "source": [
    "# Linear regression model – RMSE"
   ]
  },
  {
   "cell_type": "markdown",
   "id": "824008f0",
   "metadata": {},
   "source": [
    "We are going to regress the \"Rose\" variable against the order of the occurrence. For this we need to modify our training data before fitting it into a linear regression."
   ]
  },
  {
   "cell_type": "code",
   "execution_count": null,
   "id": "19171b20",
   "metadata": {
    "ExecuteTime": {
     "end_time": "2021-08-15T14:54:37.295210Z",
     "start_time": "2021-08-15T14:54:37.112Z"
    }
   },
   "outputs": [],
   "source": [
    "train_time  = [i + 1 for i in range(len(train))]\n",
    "test_time  = [i + 133 for i in range(len(test))]\n",
    "\n",
    "print(\"Train Length:\", len(train), \"Test Length:\", len(test))"
   ]
  },
  {
   "cell_type": "code",
   "execution_count": null,
   "id": "d4bf1933",
   "metadata": {
    "ExecuteTime": {
     "end_time": "2021-08-15T14:54:37.297211Z",
     "start_time": "2021-08-15T14:54:37.138Z"
    }
   },
   "outputs": [],
   "source": [
    "LinearRegression_train = train.copy()\n",
    "LinearRegression_test = test.copy()"
   ]
  },
  {
   "cell_type": "code",
   "execution_count": null,
   "id": "a5f14ba6",
   "metadata": {
    "ExecuteTime": {
     "end_time": "2021-08-15T14:54:37.299211Z",
     "start_time": "2021-08-15T14:54:37.164Z"
    }
   },
   "outputs": [],
   "source": [
    "LinearRegression_train['time'] = train_time\n",
    "LinearRegression_test['time'] = test_time"
   ]
  },
  {
   "cell_type": "code",
   "execution_count": null,
   "id": "30b5c425",
   "metadata": {
    "ExecuteTime": {
     "end_time": "2021-08-15T14:54:37.300208Z",
     "start_time": "2021-08-15T14:54:37.196Z"
    }
   },
   "outputs": [],
   "source": [
    "display(LinearRegression_train.head())\n",
    "display(LinearRegression_train.tail())"
   ]
  },
  {
   "cell_type": "code",
   "execution_count": null,
   "id": "aa44ef53",
   "metadata": {
    "ExecuteTime": {
     "end_time": "2021-08-15T14:54:37.302212Z",
     "start_time": "2021-08-15T14:54:37.219Z"
    }
   },
   "outputs": [],
   "source": [
    "from sklearn.linear_model import LinearRegression"
   ]
  },
  {
   "cell_type": "code",
   "execution_count": null,
   "id": "b1dc724e",
   "metadata": {
    "ExecuteTime": {
     "end_time": "2021-08-15T14:54:37.303206Z",
     "start_time": "2021-08-15T14:54:37.241Z"
    }
   },
   "outputs": [],
   "source": [
    "lr = LinearRegression()"
   ]
  },
  {
   "cell_type": "code",
   "execution_count": null,
   "id": "8304ad31",
   "metadata": {
    "ExecuteTime": {
     "end_time": "2021-08-15T14:54:37.305209Z",
     "start_time": "2021-08-15T14:54:37.266Z"
    }
   },
   "outputs": [],
   "source": [
    "lr.fit(LinearRegression_train[[\"time\"]], LinearRegression_train[\"Rose\"])"
   ]
  },
  {
   "cell_type": "code",
   "execution_count": 4,
   "id": "48026623",
   "metadata": {
    "ExecuteTime": {
     "end_time": "2021-08-15T14:54:37.416208Z",
     "start_time": "2021-08-15T14:54:37.397210Z"
    }
   },
   "outputs": [
    {
     "ename": "NameError",
     "evalue": "name 'lr' is not defined",
     "output_type": "error",
     "traceback": [
      "\u001b[1;31m---------------------------------------------------------------------------\u001b[0m",
      "\u001b[1;31mNameError\u001b[0m                                 Traceback (most recent call last)",
      "\u001b[1;32m<ipython-input-4-8e8d4fb0894f>\u001b[0m in \u001b[0;36m<module>\u001b[1;34m\u001b[0m\n\u001b[1;32m----> 1\u001b[1;33m \u001b[0mtest_predictions_model1\u001b[0m \u001b[1;33m=\u001b[0m \u001b[0mlr\u001b[0m\u001b[1;33m.\u001b[0m\u001b[0mpredict\u001b[0m\u001b[1;33m(\u001b[0m\u001b[0mLinearRegression_test\u001b[0m\u001b[1;33m[\u001b[0m\u001b[1;33m[\u001b[0m\u001b[1;34m'time'\u001b[0m\u001b[1;33m]\u001b[0m\u001b[1;33m]\u001b[0m\u001b[1;33m)\u001b[0m\u001b[1;33m\u001b[0m\u001b[1;33m\u001b[0m\u001b[0m\n\u001b[0m\u001b[0;32m      2\u001b[0m \u001b[0mLinearRegression_test\u001b[0m\u001b[1;33m[\u001b[0m\u001b[1;34m'RegOnTime'\u001b[0m\u001b[1;33m]\u001b[0m \u001b[1;33m=\u001b[0m \u001b[0mtest_predictions_model1\u001b[0m\u001b[1;33m\u001b[0m\u001b[1;33m\u001b[0m\u001b[0m\n",
      "\u001b[1;31mNameError\u001b[0m: name 'lr' is not defined"
     ]
    }
   ],
   "source": [
    "test_predictions_model1 = lr.predict(LinearRegression_test[['time']])\n",
    "LinearRegression_test['RegOnTime'] = test_predictions_model1"
   ]
  },
  {
   "cell_type": "code",
   "execution_count": null,
   "id": "20f757aa",
   "metadata": {
    "ExecuteTime": {
     "end_time": "2021-08-15T14:54:37.418209Z",
     "start_time": "2021-08-15T14:54:37.316Z"
    }
   },
   "outputs": [],
   "source": [
    "LinearRegression_test.head(12)"
   ]
  },
  {
   "cell_type": "markdown",
   "id": "fd042902",
   "metadata": {},
   "source": [
    "## Plot"
   ]
  },
  {
   "cell_type": "code",
   "execution_count": null,
   "id": "099aac2d",
   "metadata": {
    "ExecuteTime": {
     "end_time": "2021-08-15T14:54:37.420209Z",
     "start_time": "2021-08-15T14:54:37.341Z"
    }
   },
   "outputs": [],
   "source": [
    "train[\"Rose\"].plot(legend = True, label = 'Train')\n",
    "test[\"Rose\"].plot(legend = True, label = 'Test')\n",
    "LinearRegression_test['RegOnTime'].plot(legend = True, label = 'Test Preds using Linear Regression')\n",
    "plt.show()"
   ]
  },
  {
   "cell_type": "markdown",
   "id": "baf703fe",
   "metadata": {},
   "source": [
    "## Accuracy Metrics and Model Evaluation"
   ]
  },
  {
   "cell_type": "code",
   "execution_count": null,
   "id": "340f99e0",
   "metadata": {
    "ExecuteTime": {
     "end_time": "2021-08-15T14:54:37.422211Z",
     "start_time": "2021-08-15T14:54:37.365Z"
    }
   },
   "outputs": [],
   "source": [
    "from statsmodels.tools.eval_measures import rmse"
   ]
  },
  {
   "cell_type": "markdown",
   "id": "ef17ef45",
   "metadata": {},
   "source": [
    "## Model Evaluation"
   ]
  },
  {
   "cell_type": "code",
   "execution_count": null,
   "id": "8e9ae140",
   "metadata": {
    "ExecuteTime": {
     "end_time": "2021-08-15T14:54:37.423207Z",
     "start_time": "2021-08-15T14:54:37.390Z"
    }
   },
   "outputs": [],
   "source": [
    "rmse_model1_test = rmse(test[\"Rose\"], test_predictions_model1)\n",
    "rmse_model1_test"
   ]
  },
  {
   "cell_type": "code",
   "execution_count": 5,
   "id": "0d3610de",
   "metadata": {
    "ExecuteTime": {
     "end_time": "2021-08-15T14:54:37.560206Z",
     "start_time": "2021-08-15T14:54:37.544214Z"
    }
   },
   "outputs": [
    {
     "ename": "NameError",
     "evalue": "name 'rmse_model1_test' is not defined",
     "output_type": "error",
     "traceback": [
      "\u001b[1;31m---------------------------------------------------------------------------\u001b[0m",
      "\u001b[1;31mNameError\u001b[0m                                 Traceback (most recent call last)",
      "\u001b[1;32m<ipython-input-5-16120ab5f1d5>\u001b[0m in \u001b[0;36m<module>\u001b[1;34m\u001b[0m\n\u001b[1;32m----> 1\u001b[1;33m \u001b[0mresultsDf\u001b[0m \u001b[1;33m=\u001b[0m \u001b[0mpd\u001b[0m\u001b[1;33m.\u001b[0m\u001b[0mDataFrame\u001b[0m\u001b[1;33m(\u001b[0m\u001b[1;33m{\u001b[0m\u001b[1;34m\"Test RMSE\"\u001b[0m\u001b[1;33m:\u001b[0m \u001b[1;33m[\u001b[0m\u001b[0mrmse_model1_test\u001b[0m\u001b[1;33m]\u001b[0m\u001b[1;33m}\u001b[0m\u001b[1;33m,\u001b[0m \u001b[0mindex\u001b[0m \u001b[1;33m=\u001b[0m \u001b[1;33m[\u001b[0m\u001b[1;34m\"RegressionOnTime\"\u001b[0m\u001b[1;33m]\u001b[0m\u001b[1;33m)\u001b[0m\u001b[1;33m\u001b[0m\u001b[1;33m\u001b[0m\u001b[0m\n\u001b[0m\u001b[0;32m      2\u001b[0m \u001b[0mresultsDf\u001b[0m\u001b[1;33m\u001b[0m\u001b[1;33m\u001b[0m\u001b[0m\n",
      "\u001b[1;31mNameError\u001b[0m: name 'rmse_model1_test' is not defined"
     ]
    }
   ],
   "source": [
    "resultsDf = pd.DataFrame({\"Test RMSE\": [rmse_model1_test]}, index = [\"RegressionOnTime\"])\n",
    "resultsDf"
   ]
  },
  {
   "cell_type": "markdown",
   "id": "e5b2e4e8",
   "metadata": {},
   "source": [
    "# Naïve model – RMSE"
   ]
  },
  {
   "cell_type": "code",
   "execution_count": null,
   "id": "8e406a74",
   "metadata": {
    "ExecuteTime": {
     "end_time": "2021-08-15T14:54:37.562207Z",
     "start_time": "2021-08-15T14:54:37.445Z"
    }
   },
   "outputs": [],
   "source": [
    "NaiveModel_train = train.copy()\n",
    "NaiveModel_test = test.copy()"
   ]
  },
  {
   "cell_type": "code",
   "execution_count": null,
   "id": "8bd68982",
   "metadata": {
    "ExecuteTime": {
     "end_time": "2021-08-15T14:54:37.563207Z",
     "start_time": "2021-08-15T14:54:37.468Z"
    }
   },
   "outputs": [],
   "source": [
    "NaiveModel_test[\"naive\"] = train[\"Rose\"][len(train[\"Rose\"])-1]"
   ]
  },
  {
   "cell_type": "code",
   "execution_count": null,
   "id": "af348c6d",
   "metadata": {
    "ExecuteTime": {
     "end_time": "2021-08-15T14:54:37.564207Z",
     "start_time": "2021-08-15T14:54:37.491Z"
    }
   },
   "outputs": [],
   "source": [
    "NaiveModel_test[\"naive\"].head()"
   ]
  },
  {
   "cell_type": "code",
   "execution_count": null,
   "id": "7590a18b",
   "metadata": {
    "ExecuteTime": {
     "end_time": "2021-08-15T14:54:37.566207Z",
     "start_time": "2021-08-15T14:54:37.513Z"
    }
   },
   "outputs": [],
   "source": [
    "train[\"Rose\"].plot(legend = True, label = \"Train\")\n",
    "test[\"Rose\"].plot(legend = True, label = \"Test\")\n",
    "NaiveModel_test[\"naive\"].plot(legend = True, label = \"Naive Model Test Preds\")\n",
    "plt.show()"
   ]
  },
  {
   "cell_type": "markdown",
   "id": "e5f44172",
   "metadata": {},
   "source": [
    "## Model Evaluation"
   ]
  },
  {
   "cell_type": "code",
   "execution_count": null,
   "id": "f6f789f6",
   "metadata": {
    "ExecuteTime": {
     "end_time": "2021-08-15T14:54:37.568207Z",
     "start_time": "2021-08-15T14:54:37.541Z"
    }
   },
   "outputs": [],
   "source": [
    "rmse_model2_test = rmse(test[\"Rose\"], NaiveModel_test[\"naive\"])\n",
    "print(\"RMSE for Naive Bayes\",rmse_model2_test)\n",
    "\n",
    "\n",
    "resultsDf_2 = pd.DataFrame({\"Test RMSE\": [rmse_model2_test]}, index=[\"NaiveModel\"])\n",
    "resultsDf = pd.concat([resultsDf, resultsDf_2])\n",
    "display(resultsDf)"
   ]
  },
  {
   "cell_type": "markdown",
   "id": "3d53c717",
   "metadata": {},
   "source": [
    "# Simple average model – RMSE"
   ]
  },
  {
   "cell_type": "code",
   "execution_count": 6,
   "id": "f0506c63",
   "metadata": {
    "ExecuteTime": {
     "end_time": "2021-08-15T14:54:37.686206Z",
     "start_time": "2021-08-15T14:54:37.670207Z"
    }
   },
   "outputs": [
    {
     "ename": "NameError",
     "evalue": "name 'train' is not defined",
     "output_type": "error",
     "traceback": [
      "\u001b[1;31m---------------------------------------------------------------------------\u001b[0m",
      "\u001b[1;31mNameError\u001b[0m                                 Traceback (most recent call last)",
      "\u001b[1;32m<ipython-input-6-d43dfc1e672a>\u001b[0m in \u001b[0;36m<module>\u001b[1;34m\u001b[0m\n\u001b[1;32m----> 1\u001b[1;33m \u001b[0mSimpleAverage_train\u001b[0m \u001b[1;33m=\u001b[0m \u001b[0mtrain\u001b[0m\u001b[1;33m.\u001b[0m\u001b[0mcopy\u001b[0m\u001b[1;33m(\u001b[0m\u001b[1;33m)\u001b[0m\u001b[1;33m\u001b[0m\u001b[1;33m\u001b[0m\u001b[0m\n\u001b[0m\u001b[0;32m      2\u001b[0m \u001b[0mSimpleAverage_test\u001b[0m \u001b[1;33m=\u001b[0m \u001b[0mtest\u001b[0m\u001b[1;33m.\u001b[0m\u001b[0mcopy\u001b[0m\u001b[1;33m(\u001b[0m\u001b[1;33m)\u001b[0m\u001b[1;33m\u001b[0m\u001b[1;33m\u001b[0m\u001b[0m\n",
      "\u001b[1;31mNameError\u001b[0m: name 'train' is not defined"
     ]
    }
   ],
   "source": [
    "SimpleAverage_train = train.copy()\n",
    "SimpleAverage_test = test.copy()"
   ]
  },
  {
   "cell_type": "code",
   "execution_count": null,
   "id": "6976556c",
   "metadata": {
    "ExecuteTime": {
     "end_time": "2021-08-15T14:54:37.688207Z",
     "start_time": "2021-08-15T14:54:37.596Z"
    }
   },
   "outputs": [],
   "source": [
    "SimpleAverage_test[\"mean_Rose\"] = train[\"Rose\"].mean()\n",
    "SimpleAverage_test.head()"
   ]
  },
  {
   "cell_type": "code",
   "execution_count": null,
   "id": "d261d594",
   "metadata": {
    "ExecuteTime": {
     "end_time": "2021-08-15T14:54:37.689207Z",
     "start_time": "2021-08-15T14:54:37.619Z"
    }
   },
   "outputs": [],
   "source": [
    "train[\"Rose\"].plot(legend = True, label = \"Train\")\n",
    "test[\"Rose\"].plot(legend = True, label = \"Test\")\n",
    "SimpleAverage_test[\"mean_Rose\"].plot(legend = True, label = \"Simple Avg Test Predictions\")\n",
    "plt.show()"
   ]
  },
  {
   "cell_type": "markdown",
   "id": "1c341911",
   "metadata": {},
   "source": [
    "## Model Evaluation"
   ]
  },
  {
   "cell_type": "code",
   "execution_count": null,
   "id": "39c0a3db",
   "metadata": {
    "ExecuteTime": {
     "end_time": "2021-08-15T14:54:37.690207Z",
     "start_time": "2021-08-15T14:54:37.644Z"
    }
   },
   "outputs": [],
   "source": [
    "rmse_model3_test = rmse(test[\"Rose\"], SimpleAverage_test[\"mean_Rose\"])\n",
    "print(\"RMSE for Simple Average Model is\", rmse_model3_test)"
   ]
  },
  {
   "cell_type": "code",
   "execution_count": null,
   "id": "96a708dc",
   "metadata": {
    "ExecuteTime": {
     "end_time": "2021-08-15T14:54:37.692207Z",
     "start_time": "2021-08-15T14:54:37.666Z"
    }
   },
   "outputs": [],
   "source": [
    "reultsDf_3 = pd.DataFrame({\"Test RMSE\": [rmse_model3_test]}, index = [\"SimpleAverageModel\"])\n",
    "resultsDf = pd.concat([resultsDf, reultsDf_3])\n",
    "resultsDf                     \n"
   ]
  },
  {
   "cell_type": "markdown",
   "id": "27ca902c",
   "metadata": {},
   "source": [
    "# Moving average model – RMSE"
   ]
  },
  {
   "cell_type": "markdown",
   "id": "026e3511",
   "metadata": {},
   "source": [
    "For the moving average model, we are going to calculate rolling means (or moving averages) for different intervals. The best interval can be determined by the maximum accuracy (or the minimum error) over here.\n",
    "\n",
    "For Moving Average, we are going to average over the entire data."
   ]
  },
  {
   "cell_type": "code",
   "execution_count": 7,
   "id": "a5ed4ce1",
   "metadata": {
    "ExecuteTime": {
     "end_time": "2021-08-15T14:54:37.812207Z",
     "start_time": "2021-08-15T14:54:37.799208Z"
    }
   },
   "outputs": [
    {
     "ename": "NameError",
     "evalue": "name 'rdf' is not defined",
     "output_type": "error",
     "traceback": [
      "\u001b[1;31m---------------------------------------------------------------------------\u001b[0m",
      "\u001b[1;31mNameError\u001b[0m                                 Traceback (most recent call last)",
      "\u001b[1;32m<ipython-input-7-0d4f48c18ef1>\u001b[0m in \u001b[0;36m<module>\u001b[1;34m\u001b[0m\n\u001b[1;32m----> 1\u001b[1;33m \u001b[0mMovingAverage\u001b[0m \u001b[1;33m=\u001b[0m \u001b[0mrdf\u001b[0m\u001b[1;33m.\u001b[0m\u001b[0mcopy\u001b[0m\u001b[1;33m(\u001b[0m\u001b[1;33m)\u001b[0m\u001b[1;33m\u001b[0m\u001b[1;33m\u001b[0m\u001b[0m\n\u001b[0m\u001b[0;32m      2\u001b[0m \u001b[0mMovingAverage\u001b[0m\u001b[1;33m.\u001b[0m\u001b[0mhead\u001b[0m\u001b[1;33m(\u001b[0m\u001b[1;33m)\u001b[0m\u001b[1;33m\u001b[0m\u001b[1;33m\u001b[0m\u001b[0m\n",
      "\u001b[1;31mNameError\u001b[0m: name 'rdf' is not defined"
     ]
    }
   ],
   "source": [
    "MovingAverage = rdf.copy()\n",
    "MovingAverage.head()"
   ]
  },
  {
   "cell_type": "markdown",
   "id": "f331bf8b",
   "metadata": {},
   "source": [
    "## Trailing moving averages"
   ]
  },
  {
   "cell_type": "code",
   "execution_count": null,
   "id": "dba4a925",
   "metadata": {
    "ExecuteTime": {
     "end_time": "2021-08-15T14:54:37.814207Z",
     "start_time": "2021-08-15T14:54:37.724Z"
    }
   },
   "outputs": [],
   "source": [
    "MovingAverage[\"Trailing_2\"] = MovingAverage[\"Rose\"].rolling(2).mean()\n",
    "MovingAverage[\"Trailing_4\"] = MovingAverage[\"Rose\"].rolling(4).mean()\n",
    "MovingAverage[\"Trailing_6\"] = MovingAverage[\"Rose\"].rolling(6).mean()\n",
    "MovingAverage[\"Trailing_9\"] = MovingAverage[\"Rose\"].rolling(9).mean()\n",
    "\n",
    "MovingAverage.head()"
   ]
  },
  {
   "cell_type": "markdown",
   "id": "0125ac02",
   "metadata": {},
   "source": [
    "## Plot"
   ]
  },
  {
   "cell_type": "code",
   "execution_count": null,
   "id": "d4c8b3b9",
   "metadata": {
    "ExecuteTime": {
     "end_time": "2021-08-15T14:54:37.815207Z",
     "start_time": "2021-08-15T14:54:37.749Z"
    }
   },
   "outputs": [],
   "source": [
    "plt.figure(figsize=(16,8))\n",
    "plt.plot(MovingAverage[\"Rose\"], label=\"Train\")\n",
    "plt.plot(MovingAverage[\"Trailing_2\"], label=\"2 point Moving Average\")\n",
    "plt.plot(MovingAverage[\"Trailing_4\"], label=\"4 point Moving Average\")\n",
    "plt.plot(MovingAverage[\"Trailing_6\"], label=\"6 point Moving Average\")\n",
    "plt.plot(MovingAverage[\"Trailing_9\"], label=\"9 point Moving Average\")\n",
    "\n",
    "plt.legend(loc=\"best\")\n",
    "plt.grid()\n",
    "plt.show()"
   ]
  },
  {
   "cell_type": "markdown",
   "id": "fb5ffa2b",
   "metadata": {},
   "source": [
    "## Split the data into train and test and plot"
   ]
  },
  {
   "cell_type": "code",
   "execution_count": null,
   "id": "c7e06709",
   "metadata": {
    "ExecuteTime": {
     "end_time": "2021-08-15T14:54:37.816208Z",
     "start_time": "2021-08-15T14:54:37.772Z"
    }
   },
   "outputs": [],
   "source": [
    "trailing_MovingAverage_train = MovingAverage[MovingAverage.index.year < 1991]\n",
    "trailing_MovingAverage_test = MovingAverage[MovingAverage.index.year >= 1991]"
   ]
  },
  {
   "cell_type": "code",
   "execution_count": null,
   "id": "c6c2a35f",
   "metadata": {
    "ExecuteTime": {
     "end_time": "2021-08-15T14:54:37.817207Z",
     "start_time": "2021-08-15T14:54:37.795Z"
    }
   },
   "outputs": [],
   "source": [
    "plt.figure(figsize=(16,8))\n",
    "\n",
    "plt.plot(trailing_MovingAverage_train[\"Rose\"], label=\"Train\")\n",
    "plt.plot(trailing_MovingAverage_test[\"Rose\"], label=\"Test\")\n",
    "\n",
    "plt.plot(trailing_MovingAverage_train[\"Trailing_2\"], label=\"2 point Trailing Moving Average on Training Set\")\n",
    "plt.plot(trailing_MovingAverage_train[\"Trailing_4\"], label=\"4 point Trailing Moving Average on Training Set\")\n",
    "plt.plot(trailing_MovingAverage_train[\"Trailing_6\"], label=\"6 point Trailing Moving Average on Training Set\")\n",
    "plt.plot(trailing_MovingAverage_train[\"Trailing_9\"], label=\"9 point Trailing Moving Average on Training Set\")\n",
    "\n",
    "plt.plot(trailing_MovingAverage_test[\"Trailing_2\"], label=\"2 point Trailing Moving Average on Test Set\")\n",
    "plt.plot(trailing_MovingAverage_test[\"Trailing_4\"], label=\"4 point Trailing Moving Average on Test Set\")\n",
    "plt.plot(trailing_MovingAverage_test[\"Trailing_6\"], label=\"6 point Trailing Moving Average on Test Set\")\n",
    "plt.plot(trailing_MovingAverage_test[\"Trailing_9\"], label=\"9 point Trailing Moving Average on Test Set\")\n",
    "\n",
    "plt.legend(loc=\"best\")\n",
    "plt.grid()\n",
    "plt.show()"
   ]
  },
  {
   "cell_type": "markdown",
   "id": "5cce169b",
   "metadata": {},
   "source": [
    "## Model Evaluation"
   ]
  },
  {
   "cell_type": "code",
   "execution_count": 8,
   "id": "5952959e",
   "metadata": {
    "ExecuteTime": {
     "end_time": "2021-08-15T14:54:37.954206Z",
     "start_time": "2021-08-15T14:54:37.929209Z"
    }
   },
   "outputs": [
    {
     "ename": "NameError",
     "evalue": "name 'rmse' is not defined",
     "output_type": "error",
     "traceback": [
      "\u001b[1;31m---------------------------------------------------------------------------\u001b[0m",
      "\u001b[1;31mNameError\u001b[0m                                 Traceback (most recent call last)",
      "\u001b[1;32m<ipython-input-8-63a681e5c2d6>\u001b[0m in \u001b[0;36m<module>\u001b[1;34m\u001b[0m\n\u001b[1;32m----> 1\u001b[1;33m \u001b[0mrmse_model4_test_2\u001b[0m \u001b[1;33m=\u001b[0m \u001b[0mrmse\u001b[0m\u001b[1;33m(\u001b[0m\u001b[0mtest\u001b[0m\u001b[1;33m[\u001b[0m\u001b[1;34m\"Rose\"\u001b[0m\u001b[1;33m]\u001b[0m\u001b[1;33m,\u001b[0m \u001b[0mtrailing_MovingAverage_test\u001b[0m\u001b[1;33m[\u001b[0m\u001b[1;34m\"Trailing_2\"\u001b[0m\u001b[1;33m]\u001b[0m\u001b[1;33m)\u001b[0m\u001b[1;33m\u001b[0m\u001b[1;33m\u001b[0m\u001b[0m\n\u001b[0m\u001b[0;32m      2\u001b[0m \u001b[0mprint\u001b[0m\u001b[1;33m(\u001b[0m\u001b[1;34m\"Rmse for trailing_2\"\u001b[0m\u001b[1;33m,\u001b[0m \u001b[0mrmse_model4_test_2\u001b[0m\u001b[1;33m)\u001b[0m\u001b[1;33m\u001b[0m\u001b[1;33m\u001b[0m\u001b[0m\n\u001b[0;32m      3\u001b[0m \u001b[1;33m\u001b[0m\u001b[0m\n\u001b[0;32m      4\u001b[0m \u001b[0mrmse_model4_test_4\u001b[0m \u001b[1;33m=\u001b[0m \u001b[0mrmse\u001b[0m\u001b[1;33m(\u001b[0m\u001b[0mtest\u001b[0m\u001b[1;33m[\u001b[0m\u001b[1;34m\"Rose\"\u001b[0m\u001b[1;33m]\u001b[0m\u001b[1;33m,\u001b[0m \u001b[0mtrailing_MovingAverage_test\u001b[0m\u001b[1;33m[\u001b[0m\u001b[1;34m\"Trailing_4\"\u001b[0m\u001b[1;33m]\u001b[0m\u001b[1;33m)\u001b[0m\u001b[1;33m\u001b[0m\u001b[1;33m\u001b[0m\u001b[0m\n\u001b[0;32m      5\u001b[0m \u001b[0mprint\u001b[0m\u001b[1;33m(\u001b[0m\u001b[1;34m\"Rmse for trailing_4\"\u001b[0m\u001b[1;33m,\u001b[0m \u001b[0mrmse_model4_test_4\u001b[0m\u001b[1;33m)\u001b[0m\u001b[1;33m\u001b[0m\u001b[1;33m\u001b[0m\u001b[0m\n",
      "\u001b[1;31mNameError\u001b[0m: name 'rmse' is not defined"
     ]
    }
   ],
   "source": [
    "rmse_model4_test_2 = rmse(test[\"Rose\"], trailing_MovingAverage_test[\"Trailing_2\"])\n",
    "print(\"Rmse for trailing_2\", rmse_model4_test_2)\n",
    "\n",
    "rmse_model4_test_4 = rmse(test[\"Rose\"], trailing_MovingAverage_test[\"Trailing_4\"])\n",
    "print(\"Rmse for trailing_4\", rmse_model4_test_4)\n",
    "\n",
    "rmse_model4_test_6 = rmse(test[\"Rose\"], trailing_MovingAverage_test[\"Trailing_6\"])\n",
    "print(\"Rmse for trailing_6\", rmse_model4_test_6)\n",
    "\n",
    "\n",
    "rmse_model4_test_9 = rmse(test[\"Rose\"], trailing_MovingAverage_test[\"Trailing_9\"])\n",
    "print(\"Rmse for trailing_9\", rmse_model4_test_9)\n",
    "\n",
    "resultsDf_4 = pd.DataFrame({\"Test RMSE\": [rmse_model4_test_2, rmse_model4_test_4, rmse_model4_test_6, rmse_model4_test_9]},\n",
    "                          index = [\"2_point_trailing_Moving_Average\", \"4_point_trailing_Moving_Average\", \"6_point_trailing_Moving_Average\", \"9_point_trailing_Moving_Average\"])\n",
    "\n",
    "resultsDf = pd.concat([resultsDf, resultsDf_4])\n",
    "resultsDf"
   ]
  },
  {
   "cell_type": "markdown",
   "id": "d111625b",
   "metadata": {},
   "source": [
    "# Plot of all models derived till now"
   ]
  },
  {
   "cell_type": "code",
   "execution_count": null,
   "id": "13a891bd",
   "metadata": {
    "ExecuteTime": {
     "end_time": "2021-08-15T14:54:37.956208Z",
     "start_time": "2021-08-15T14:54:37.852Z"
    }
   },
   "outputs": [],
   "source": [
    "train[\"Rose\"].plot(legend=True, label=\"Train\")\n",
    "test[\"Rose\"].plot(legend=True, label=\"Test\")\n",
    "\n",
    "LinearRegression_test[\"RegOnTime\"].plot(legend=True, label=\"Test Preds using Linear Regression\")\n",
    "\n",
    "NaiveModel_test[\"naive\"].plot(legend=True, label=\"Naive Model Test Preds\")\n",
    "\n",
    "SimpleAverage_test[\"mean_Rose\"].plot(legend=True, label=\"Simple Avg Test Preds\")\n",
    "\n",
    "trailing_MovingAverage_test[\"Trailing_2\"].plot(legend=True, label=\"Trailing MA 2 test preds\")\n",
    "\n",
    "plt.show()"
   ]
  },
  {
   "cell_type": "markdown",
   "id": "b168daa5",
   "metadata": {},
   "source": [
    "# Simple exponential smoothening – RMSE analysis"
   ]
  },
  {
   "cell_type": "code",
   "execution_count": null,
   "id": "dfddabc4",
   "metadata": {
    "ExecuteTime": {
     "end_time": "2021-08-15T14:54:37.957207Z",
     "start_time": "2021-08-15T14:54:37.876Z"
    }
   },
   "outputs": [],
   "source": [
    "from statsmodels.tsa.api import ExponentialSmoothing, SimpleExpSmoothing, Holt"
   ]
  },
  {
   "cell_type": "code",
   "execution_count": null,
   "id": "2f440e93",
   "metadata": {
    "ExecuteTime": {
     "end_time": "2021-08-15T14:54:37.958208Z",
     "start_time": "2021-08-15T14:54:37.900Z"
    },
    "scrolled": false
   },
   "outputs": [],
   "source": [
    "SES_train = train.copy()\n",
    "SES_test = test.copy()\n",
    "\n",
    "model_SES = SimpleExpSmoothing(SES_train[\"Rose\"]);\n",
    "\n",
    "model_SES_autofit = model_SES.fit()\n",
    "\n",
    "display(\"SES Params\", model_SES_autofit.params)\n",
    "\n",
    "SES_test[\"predict\"] = model_SES_autofit.forecast(steps=len(test))\n",
    "\n",
    "display(SES_test.head().style)\n",
    "\n",
    "SES_train[\"Rose\"].plot(legend=True, label=\"Train\")\n",
    "SES_test[\"Rose\"].plot(legend=True, label=\"Test\")\n",
    "SES_test[\"predict\"].plot(legend=True, label=\"SES Preds on Test\")\n",
    "plt.show()\n"
   ]
  },
  {
   "cell_type": "markdown",
   "id": "1c4b1d03",
   "metadata": {},
   "source": [
    "## Model Evaluation"
   ]
  },
  {
   "cell_type": "code",
   "execution_count": null,
   "id": "5e402afa",
   "metadata": {
    "ExecuteTime": {
     "end_time": "2021-08-15T14:54:37.959207Z",
     "start_time": "2021-08-15T14:54:37.926Z"
    }
   },
   "outputs": [],
   "source": [
    "rmse_model5_test_1 = rmse(SES_test[\"Rose\"], SES_test[\"predict\"])\n",
    "display(rmse_model5_test_1)\n",
    "\n",
    "resultsDf_5 = pd.DataFrame({\"Test RMSE\": [+rmse_model5_test_1]}, index=[\"Alpha=0.102,SimpleExponentialSmoothing\"])\n",
    "resultsDf = pd.concat([resultsDf, resultsDf_5])\n",
    "display(resultsDf)\n"
   ]
  },
  {
   "cell_type": "markdown",
   "id": "e9dbe045",
   "metadata": {},
   "source": [
    "## Set different alpha values"
   ]
  },
  {
   "cell_type": "code",
   "execution_count": 9,
   "id": "d90c141f",
   "metadata": {
    "ExecuteTime": {
     "end_time": "2021-08-15T14:54:38.080208Z",
     "start_time": "2021-08-15T14:54:38.051207Z"
    },
    "scrolled": false
   },
   "outputs": [
    {
     "ename": "NameError",
     "evalue": "name 'model_SES' is not defined",
     "output_type": "error",
     "traceback": [
      "\u001b[1;31m---------------------------------------------------------------------------\u001b[0m",
      "\u001b[1;31mNameError\u001b[0m                                 Traceback (most recent call last)",
      "\u001b[1;32m<ipython-input-9-ccf9b83ccad2>\u001b[0m in \u001b[0;36m<module>\u001b[1;34m\u001b[0m\n\u001b[0;32m      5\u001b[0m \u001b[1;33m\u001b[0m\u001b[0m\n\u001b[0;32m      6\u001b[0m \u001b[1;32mfor\u001b[0m \u001b[0mi\u001b[0m \u001b[1;32min\u001b[0m \u001b[0malpha_list\u001b[0m\u001b[1;33m:\u001b[0m\u001b[1;33m\u001b[0m\u001b[1;33m\u001b[0m\u001b[0m\n\u001b[1;32m----> 7\u001b[1;33m     \u001b[0mmodel_SES_alpha_i\u001b[0m \u001b[1;33m=\u001b[0m \u001b[0mmodel_SES\u001b[0m\u001b[1;33m.\u001b[0m\u001b[0mfit\u001b[0m\u001b[1;33m(\u001b[0m\u001b[0msmoothing_level\u001b[0m\u001b[1;33m=\u001b[0m\u001b[0mi\u001b[0m\u001b[1;33m)\u001b[0m\u001b[1;33m\u001b[0m\u001b[1;33m\u001b[0m\u001b[0m\n\u001b[0m\u001b[0;32m      8\u001b[0m \u001b[1;33m\u001b[0m\u001b[0m\n\u001b[0;32m      9\u001b[0m     \u001b[0mSES_train\u001b[0m\u001b[1;33m[\u001b[0m\u001b[1;34m\"predict\"\u001b[0m\u001b[1;33m,\u001b[0m\u001b[0mi\u001b[0m\u001b[1;33m]\u001b[0m \u001b[1;33m=\u001b[0m \u001b[0mmodel_SES_alpha_i\u001b[0m\u001b[1;33m.\u001b[0m\u001b[0mfittedvalues\u001b[0m\u001b[1;33m\u001b[0m\u001b[1;33m\u001b[0m\u001b[0m\n",
      "\u001b[1;31mNameError\u001b[0m: name 'model_SES' is not defined"
     ]
    }
   ],
   "source": [
    "resultsDf_6 = pd.DataFrame({\"Alpha Values\":[], \"Train RMSE\": [], \"Test RMSE\": []})\n",
    "\n",
    "\n",
    "alpha_list = [0.3,0.4,0.5,0.6,0.7,0.8,0.9]\n",
    "\n",
    "for i in alpha_list:\n",
    "    model_SES_alpha_i = model_SES.fit(smoothing_level=i)\n",
    "    \n",
    "    SES_train[\"predict\",i] = model_SES_alpha_i.fittedvalues\n",
    "    SES_test[\"predict\",i] = model_SES_alpha_i.forecast(steps=len(test))\n",
    "    \n",
    "    rmse_model5_train_i = rmse(SES_train[\"Rose\"],SES_train[\"predict\",i])\n",
    "        \n",
    "    rmse_model5_test_i = rmse(SES_test[\"Rose\"],SES_test[\"predict\",i])\n",
    "    \n",
    "    resultsDf_6 = resultsDf_6.append({\"Alpha Values\":i,\n",
    "                                      \"Train RMSE\": rmse_model5_train_i,\"Test RMSE\":rmse_model5_test_i}, \n",
    "                                     ignore_index=True)\n",
    "    \n",
    "display(SES_test.head().style)\n",
    "\n",
    "display(\"Model Evaluation\", resultsDf_6.sort_values(by=[\"Test RMSE\"],ascending=True))\n",
    "\n"
   ]
  },
  {
   "cell_type": "markdown",
   "id": "b94d03f7",
   "metadata": {},
   "source": [
    "## Plot"
   ]
  },
  {
   "cell_type": "code",
   "execution_count": null,
   "id": "55633b20",
   "metadata": {
    "ExecuteTime": {
     "end_time": "2021-08-15T14:54:38.082207Z",
     "start_time": "2021-08-15T14:54:37.999Z"
    }
   },
   "outputs": [],
   "source": [
    "plt.figure(figsize=(18,9))\n",
    "plt.plot(SES_train[\"Rose\"], label=\"Train\")\n",
    "plt.plot(SES_test[\"Rose\"], label=\"Test\")\n",
    "plt.plot(SES_test[\"predict\"], label=\"Alpha=1 Simple Exponential Smoothing predictions on Test Set\")\n",
    "plt.plot(SES_test[\"predict\", 0.3], label=\"Alpha=0.3 Simple Exponential Smoothing predictions on Test Set\")\n",
    "plt.legend(loc=\"best\")\n",
    "plt.grid()\n",
    "plt.show()"
   ]
  },
  {
   "cell_type": "code",
   "execution_count": null,
   "id": "42a3d2a9",
   "metadata": {
    "ExecuteTime": {
     "end_time": "2021-08-15T14:54:38.084207Z",
     "start_time": "2021-08-15T14:54:38.023Z"
    }
   },
   "outputs": [],
   "source": [
    "resultsDf_6_1 = pd.DataFrame({\"Test RMSE\": [resultsDf_6.sort_values(by=[\"Test RMSE\"], ascending=True).values[0][2]]},\n",
    "                          index = [\"Alpha=0.9,SimpleExponentialSmoothing\"])\n",
    "\n",
    "resultsDf = pd.concat([resultsDf, resultsDf_6_1])\n",
    "\n",
    "display(resultsDf.style)"
   ]
  },
  {
   "cell_type": "markdown",
   "id": "582f3dc2",
   "metadata": {},
   "source": [
    "# Double exponential smoothening (Holt’s method) – RMSE analysis"
   ]
  },
  {
   "cell_type": "code",
   "execution_count": null,
   "id": "eb09b618",
   "metadata": {
    "ExecuteTime": {
     "end_time": "2021-08-15T14:54:38.085208Z",
     "start_time": "2021-08-15T14:54:38.048Z"
    }
   },
   "outputs": [],
   "source": [
    "DES_train = train.copy()\n",
    "DES_test = test.copy()\n",
    "\n",
    "model_DES = Holt(DES_train[\"Rose\"])\n",
    "\n",
    "resultsDf_7 = pd.DataFrame({\"Alpha Values\": [], \"Beta Values\": [], \"Train RMSE\": [], \"Test RMSE\": []})\n",
    "\n",
    "alpha_list = [0.3,0.4,0.5,0.6,0.7,0.8,0.9,1.0]\n",
    "beta_list = [0.3,0.4,0.5,0.6,0.7,0.8,0.9,1.0]\n",
    "\n",
    "for i in alpha_list:\n",
    "    for j in beta_list:\n",
    "        model_DES_alpha_i_j = model_DES.fit(smoothing_level=i,smoothing_trend=j)\n",
    "        \n",
    "        DES_train[\"predict\",i,j] = model_DES_alpha_i_j.fittedvalues\n",
    "        DES_test[\"predict\",i,j] = model_DES_alpha_i_j.forecast(steps=len(test))\n",
    "        \n",
    "        rmse_model6_train = rmse(DES_train[\"Rose\"],DES_train[\"predict\",i,j])\n",
    "        \n",
    "        rmse_model6_test = rmse(DES_test[\"Rose\"],DES_test[\"predict\",i,j])\n",
    "        \n",
    "        resultsDf_7 = resultsDf_7.append({\"Alpha Values\":i,\n",
    "                                          \"Beta Values\":j,\n",
    "                                          \"Train RMSE\": rmse_model6_train,\n",
    "                                          \"Test RMSE\": rmse_model6_test}, ignore_index=True)\n",
    "        \n",
    "display(resultsDf_7.sort_values(by=[\"Test RMSE\"]).head(10))        \n"
   ]
  },
  {
   "cell_type": "code",
   "execution_count": null,
   "id": "b89e4d95",
   "metadata": {
    "ExecuteTime": {
     "end_time": "2021-08-15T14:54:38.087208Z",
     "start_time": "2021-08-15T14:54:38.073Z"
    }
   },
   "outputs": [],
   "source": [
    "plt.figure(figsize=(18,9))\n",
    "plt.plot(DES_train[\"Rose\"], label=\"Train\")\n",
    "plt.plot(DES_test[\"Rose\"], label=\"Test\")\n",
    "\n",
    "plt.plot(DES_test[\"predict\", 0.3, 0.3],  label=\"Alpha=0.3,Beta=0.3,DoubleExponentialSmoothing predictions on Test Set\")\n",
    "plt.legend(loc=\"best\")\n",
    "plt.grid()\n",
    "plt.show()"
   ]
  },
  {
   "cell_type": "code",
   "execution_count": 10,
   "id": "7dcc54ba",
   "metadata": {
    "ExecuteTime": {
     "end_time": "2021-08-15T14:54:38.208209Z",
     "start_time": "2021-08-15T14:54:38.193206Z"
    }
   },
   "outputs": [
    {
     "ename": "NameError",
     "evalue": "name 'resultsDf_7' is not defined",
     "output_type": "error",
     "traceback": [
      "\u001b[1;31m---------------------------------------------------------------------------\u001b[0m",
      "\u001b[1;31mNameError\u001b[0m                                 Traceback (most recent call last)",
      "\u001b[1;32m<ipython-input-10-97d93a89bfc5>\u001b[0m in \u001b[0;36m<module>\u001b[1;34m\u001b[0m\n\u001b[1;32m----> 1\u001b[1;33m resultsDf_7_1 = pd.DataFrame({\"Test RMSE\": [resultsDf_7.sort_values(by=[\"Test RMSE\"]).values[0][3]]}, \n\u001b[0m\u001b[0;32m      2\u001b[0m                              index=[\"Alpha=0.3,Beta=0.3,DoubleExponentialSmoothing\"])\n\u001b[0;32m      3\u001b[0m \u001b[0mresultsDf\u001b[0m \u001b[1;33m=\u001b[0m \u001b[0mpd\u001b[0m\u001b[1;33m.\u001b[0m\u001b[0mconcat\u001b[0m\u001b[1;33m(\u001b[0m\u001b[1;33m[\u001b[0m\u001b[0mresultsDf\u001b[0m\u001b[1;33m,\u001b[0m \u001b[0mresultsDf_7_1\u001b[0m\u001b[1;33m]\u001b[0m\u001b[1;33m)\u001b[0m\u001b[1;33m\u001b[0m\u001b[1;33m\u001b[0m\u001b[0m\n\u001b[0;32m      4\u001b[0m \u001b[0mdisplay\u001b[0m\u001b[1;33m(\u001b[0m\u001b[0mresultsDf\u001b[0m\u001b[1;33m)\u001b[0m\u001b[1;33m\u001b[0m\u001b[1;33m\u001b[0m\u001b[0m\n",
      "\u001b[1;31mNameError\u001b[0m: name 'resultsDf_7' is not defined"
     ]
    }
   ],
   "source": [
    "resultsDf_7_1 = pd.DataFrame({\"Test RMSE\": [resultsDf_7.sort_values(by=[\"Test RMSE\"]).values[0][3]]}, \n",
    "                             index=[\"Alpha=0.3,Beta=0.3,DoubleExponentialSmoothing\"])\n",
    "resultsDf = pd.concat([resultsDf, resultsDf_7_1])\n",
    "display(resultsDf)"
   ]
  },
  {
   "cell_type": "markdown",
   "id": "0dec600b",
   "metadata": {},
   "source": [
    "# Triple exponential smoothening (Holt’s winter model) – RMSE analysis"
   ]
  },
  {
   "cell_type": "code",
   "execution_count": null,
   "id": "84c14901",
   "metadata": {
    "ExecuteTime": {
     "end_time": "2021-08-15T14:54:38.210207Z",
     "start_time": "2021-08-15T14:54:38.125Z"
    },
    "scrolled": false
   },
   "outputs": [],
   "source": [
    "TES_train = train.copy()\n",
    "TES_test = test.copy()\n",
    "\n",
    "model_TES = ExponentialSmoothing(TES_train[\"Rose\"], trend=\"additive\", seasonal=\"multiplicative\", freq=\"M\")\n",
    "\n",
    "model_TES_autofit = model_TES.fit()\n",
    "\n",
    "display(model_TES_autofit.params)\n",
    "\n",
    "\n",
    "TES_test[\"auto_predict\"] = model_TES_autofit.forecast(steps=len(test)).round(0)\n",
    "display(TES_test.head())\n",
    "\n",
    "plt.figure(figsize=(18,9))\n",
    "plt.plot(TES_train[\"Rose\"], label=\"Train\")\n",
    "plt.plot(TES_test[\"Rose\"], label=\"Test\")\n",
    "plt.plot(TES_test[\"auto_predict\"], label=\"Alpha=0.0994,Beta=3.501,Gamma=0.0003,TripleExponentialSmoothing\")\n",
    "plt.legend(loc=\"best\")\n",
    "plt.title(\"Plot with Autofit\")\n",
    "plt.grid()\n",
    "\n",
    "plt.show()\n",
    "\n"
   ]
  },
  {
   "cell_type": "markdown",
   "id": "5f83eb1b",
   "metadata": {},
   "source": [
    "## RMSE"
   ]
  },
  {
   "cell_type": "code",
   "execution_count": null,
   "id": "13ec46a3",
   "metadata": {
    "ExecuteTime": {
     "end_time": "2021-08-15T14:54:38.211207Z",
     "start_time": "2021-08-15T14:54:38.150Z"
    }
   },
   "outputs": [],
   "source": [
    "rmse_model6_test_1 = rmse(TES_test[\"Rose\"], TES_test[\"auto_predict\"])\n",
    "display(rmse_model6_test_1)\n",
    "\n",
    "resultsDf_8_1 = pd.DataFrame({\"Test RMSE\": [rmse_model6_test_1]}, index=[\"Alpha=0.0994,Beta=3.501,Gamma=0.0003,TripleExponentialSmoothing\"])\n",
    "resultsDf = pd.concat([resultsDf, resultsDf_8_1])\n",
    "display(resultsDf)"
   ]
  },
  {
   "cell_type": "markdown",
   "id": "961994d2",
   "metadata": {},
   "source": [
    "## Identify best alpha, beta and gamma"
   ]
  },
  {
   "cell_type": "code",
   "execution_count": 11,
   "id": "4f5260f3",
   "metadata": {
    "ExecuteTime": {
     "end_time": "2021-08-15T14:54:38.351208Z",
     "start_time": "2021-08-15T14:54:38.319208Z"
    }
   },
   "outputs": [
    {
     "ename": "NameError",
     "evalue": "name 'beta_list' is not defined",
     "output_type": "error",
     "traceback": [
      "\u001b[1;31m---------------------------------------------------------------------------\u001b[0m",
      "\u001b[1;31mNameError\u001b[0m                                 Traceback (most recent call last)",
      "\u001b[1;32m<ipython-input-11-49bdaec111f2>\u001b[0m in \u001b[0;36m<module>\u001b[1;34m\u001b[0m\n\u001b[0;32m      9\u001b[0m \u001b[1;33m\u001b[0m\u001b[0m\n\u001b[0;32m     10\u001b[0m \u001b[1;32mfor\u001b[0m \u001b[0mi\u001b[0m \u001b[1;32min\u001b[0m \u001b[0malpha_list\u001b[0m\u001b[1;33m:\u001b[0m\u001b[1;33m\u001b[0m\u001b[1;33m\u001b[0m\u001b[0m\n\u001b[1;32m---> 11\u001b[1;33m     \u001b[1;32mfor\u001b[0m \u001b[0mj\u001b[0m \u001b[1;32min\u001b[0m \u001b[0mbeta_list\u001b[0m\u001b[1;33m:\u001b[0m\u001b[1;33m\u001b[0m\u001b[1;33m\u001b[0m\u001b[0m\n\u001b[0m\u001b[0;32m     12\u001b[0m         \u001b[1;32mfor\u001b[0m \u001b[0mk\u001b[0m \u001b[1;32min\u001b[0m \u001b[0mgamma_list\u001b[0m\u001b[1;33m:\u001b[0m\u001b[1;33m\u001b[0m\u001b[1;33m\u001b[0m\u001b[0m\n\u001b[0;32m     13\u001b[0m             model_TES_alpha_i_j_k = model_TES.fit(smoothing_level=i,\n",
      "\u001b[1;31mNameError\u001b[0m: name 'beta_list' is not defined"
     ]
    }
   ],
   "source": [
    "import warnings\n",
    "warnings.filterwarnings('ignore')\n",
    "\n",
    "resultsDf_8_2 = pd.DataFrame({\"Alpha Values\":[],\"Beta Values\":[],\"Gamma Values\":[],\"Train RMSE\":[],\"Test RMSE\": []})\n",
    "\n",
    "\n",
    "gamma_list = [0.3,0.4,0.5,0.6,0.7,0.8,0.9,1.0]\n",
    "\n",
    "\n",
    "for i in alpha_list:\n",
    "    for j in beta_list:\n",
    "        for k in gamma_list:\n",
    "            model_TES_alpha_i_j_k = model_TES.fit(smoothing_level=i,\n",
    "                                                  smoothing_trend=j,\n",
    "                                                  smoothing_seasonal=k)\n",
    "            \n",
    "            TES_train[\"predict\",i,j,k] = model_TES_alpha_i_j_k.fittedvalues\n",
    "            \n",
    "            TES_test[\"predict\",i,j,k] = model_TES_alpha_i_j_k.forecast(steps=len(test))\n",
    "        \n",
    "            rmse_model8_train = rmse(TES_train[\"Rose\"],\n",
    "                                     TES_train[\"predict\",i,j,k])\n",
    "            \n",
    "            rmse_model8_test = rmse(TES_test[\"Rose\"],\n",
    "                                    TES_test[\"predict\",i,j,k])\n",
    "            \n",
    "            resultsDf_8_2 = resultsDf_8_2.append({\"Alpha Values\":i,\n",
    "                                                  \"Beta Values\":j,\n",
    "                                                  \"Gamma Values\":k,\n",
    "                                                  \"Train RMSE\":rmse_model8_train,\n",
    "                                                  \"Test RMSE\":rmse_model8_test},ignore_index=True)\n",
    "            \n",
    "display(TES_test.head().style)\n",
    "display(resultsDf_8_2.sort_values(by=[\"Test RMSE\"]).head())\n",
    "\n",
    "\n",
    "resultsDf_8_3 = pd.DataFrame({\"Test RMSE\": [resultsDf_8_2.sort_values(by=[\"Test RMSE\"]).values[0][4]]}\n",
    "                           ,index=[\"Alpha=0.3,Beta=0.3,Gamma=0.8,TripleExponentialSmoothing\"])\n",
    "\n",
    "resultsDf = pd.concat([resultsDf, resultsDf_8_3])\n",
    "display(resultsDf.sort_values(by=[\"Test RMSE\"]))\n",
    "\n"
   ]
  },
  {
   "cell_type": "markdown",
   "id": "b37e1937",
   "metadata": {},
   "source": [
    "## Plot SES, DES and TES"
   ]
  },
  {
   "cell_type": "code",
   "execution_count": null,
   "id": "da3c2c46",
   "metadata": {
    "ExecuteTime": {
     "end_time": "2021-08-15T14:54:38.353208Z",
     "start_time": "2021-08-15T14:54:38.242Z"
    }
   },
   "outputs": [],
   "source": [
    "# 'smoothing_level': 0.09942398570261507,\n",
    "#  'smoothing_trend': 3.5015167744954147e-06,\n",
    "#  'smoothing_seasonal': 0.0003177759456525393,\n",
    "\n",
    "plt.figure(figsize=(18,9))\n",
    "plt.plot(train[\"Rose\"], label=\"Train\")\n",
    "plt.plot(test[\"Rose\"], label=\"Test\")\n",
    "\n",
    "plt.plot(SES_test[\"predict\"], label=\"Alpha =0.03 Simple Exponential Smoothing predictions on Test Set\")\n",
    "\n",
    "plt.plot(DES_test[\"predict\", 0.3, 0.3], label=\"Alpha=0.3,Beta=0.3,DoubleExponentialSmoothing predictions on Test Set\")\n",
    "\n",
    "plt.plot(TES_test[\"predict\", 0.3, 0.3, 0.4], label=\"Alpha=0.3,Beta=0.3,Gamma=0.4,TripleExponentialSmoothing predictions on Test Set\")\n",
    "\n",
    "plt.legend(loc=\"best\")\n",
    "plt.grid();\n",
    "plt.title(\"Plot of Exponential Smoothing Predictions and the Acutal Values\");\n",
    "plt.show()"
   ]
  },
  {
   "cell_type": "markdown",
   "id": "17be4027",
   "metadata": {},
   "source": [
    "## Training TES model with full data"
   ]
  },
  {
   "cell_type": "code",
   "execution_count": null,
   "id": "d2e17a16",
   "metadata": {
    "ExecuteTime": {
     "end_time": "2021-08-15T14:54:38.354207Z",
     "start_time": "2021-08-15T14:54:38.267Z"
    }
   },
   "outputs": [],
   "source": [
    "fullmodel1 = ExponentialSmoothing(rdf,trend=\"additive\",seasonal=\"multiplicative\")\n",
    "fullmodel1= fullmodel1.fit(smoothing_level=0.3, smoothing_trend=0.3, smoothing_seasonal=0.4)\n",
    "\n",
    "RMSE_fullmodel1 = rmse(rdf[\"Rose\"], fullmodel1.fittedvalues)\n",
    "display(\"Full model RMSE\", RMSE_fullmodel1)\n",
    "\n",
    "prediction_1 = fullmodel1.forecast(steps=len(test))\n",
    "\n",
    "rdf.plot(legend=True, label=\"Actual\")\n",
    "prediction_1.plot(legend=True, label=\"Forecast\")\n",
    "\n",
    "plt.show()\n"
   ]
  },
  {
   "cell_type": "markdown",
   "id": "8afd72d4",
   "metadata": {},
   "source": [
    "## Margin of Error"
   ]
  },
  {
   "cell_type": "code",
   "execution_count": null,
   "id": "903200ea",
   "metadata": {
    "ExecuteTime": {
     "end_time": "2021-08-15T14:54:38.356207Z",
     "start_time": "2021-08-15T14:54:38.291Z"
    }
   },
   "outputs": [],
   "source": [
    "pred_1_df = pd.DataFrame({\"lower_CI\":prediction_1 - 1.96*fullmodel1.resid.std(),\n",
    "                          \"prediction\":prediction_1,\n",
    "                          \"upper_ci\": prediction_1 + 1.96*fullmodel1.resid.std()})\n",
    "display(pred_1_df.head().style)\n",
    "\n",
    "\n",
    "axis = rdf.plot(label=\"Actual\", figsize=(15,8))\n",
    "pred_1_df[\"prediction\"].plot(ax=axis, label=\"Forecast\", alpha=1) # alpha here is for transparency of the prediction line\n",
    "\n",
    "axis.fill_between(pred_1_df.index, pred_1_df[\"lower_CI\"], pred_1_df[\"upper_ci\"], color=\"green\", alpha=.15) # alpha here denotes the transparency of the shaded region\n",
    "\n",
    "axis.set_xlabel(\"Year-Months\")\n",
    "axis.set_ylabel(\"Rose\")\n",
    "plt.legend(loc=\"best\")\n",
    "plt.grid()\n",
    "plt.show();"
   ]
  },
  {
   "cell_type": "markdown",
   "id": "b714fe96",
   "metadata": {},
   "source": [
    "# Stationarity check with AdFuller"
   ]
  },
  {
   "cell_type": "code",
   "execution_count": null,
   "id": "f43ffa5a",
   "metadata": {
    "ExecuteTime": {
     "end_time": "2021-08-15T14:54:38.357207Z",
     "start_time": "2021-08-15T14:54:38.316Z"
    }
   },
   "outputs": [],
   "source": [
    "from statsmodels.tsa.stattools import adfuller\n",
    "\n",
    "display(\"Results of Dickey-Fuller Test:\")\n",
    "dftest = adfuller(rdf[\"Rose\"])\n",
    "\n",
    "dfoutput = pd.Series(dftest[0:4], index=[\"Test Statistic\",\"p-value\",\"#Lags Used\",\"Number of Observations Used\"])\n",
    "\n",
    "for key,value in dftest[4].items():\n",
    "        dfoutput[\"Critical Value (%s)\"%key] = value\n",
    "\n",
    "display(dfoutput)\n",
    "display(\"P Value: \", dftest[1], \"H0 rejected and the time series is stationary\")"
   ]
  },
  {
   "cell_type": "markdown",
   "id": "b8c1a34c",
   "metadata": {},
   "source": [
    "# Build ARIMA model with lowest AIC score – test this model on test data using RMSE"
   ]
  },
  {
   "cell_type": "code",
   "execution_count": 12,
   "id": "f6d60e6b",
   "metadata": {
    "ExecuteTime": {
     "end_time": "2021-08-15T14:54:38.810212Z",
     "start_time": "2021-08-15T14:54:38.443207Z"
    }
   },
   "outputs": [
    {
     "ename": "NameError",
     "evalue": "name 'train' is not defined",
     "output_type": "error",
     "traceback": [
      "\u001b[1;31m---------------------------------------------------------------------------\u001b[0m",
      "\u001b[1;31mNameError\u001b[0m                                 Traceback (most recent call last)",
      "\u001b[1;32m<ipython-input-12-6b9583322d88>\u001b[0m in \u001b[0;36m<module>\u001b[1;34m\u001b[0m\n\u001b[0;32m     12\u001b[0m \u001b[1;33m\u001b[0m\u001b[0m\n\u001b[0;32m     13\u001b[0m \u001b[1;32mfor\u001b[0m \u001b[0mparam\u001b[0m \u001b[1;32min\u001b[0m \u001b[0mpdq\u001b[0m\u001b[1;33m:\u001b[0m\u001b[1;33m\u001b[0m\u001b[1;33m\u001b[0m\u001b[0m\n\u001b[1;32m---> 14\u001b[1;33m     \u001b[0mARIMA_model\u001b[0m \u001b[1;33m=\u001b[0m \u001b[0mARIMA\u001b[0m\u001b[1;33m(\u001b[0m\u001b[0mtrain\u001b[0m\u001b[1;33m[\u001b[0m\u001b[1;34m\"Rose\"\u001b[0m\u001b[1;33m]\u001b[0m\u001b[1;33m,\u001b[0m \u001b[0morder\u001b[0m\u001b[1;33m=\u001b[0m\u001b[0mparam\u001b[0m\u001b[1;33m)\u001b[0m\u001b[1;33m.\u001b[0m\u001b[0mfit\u001b[0m\u001b[1;33m(\u001b[0m\u001b[1;33m)\u001b[0m\u001b[1;33m\u001b[0m\u001b[1;33m\u001b[0m\u001b[0m\n\u001b[0m\u001b[0;32m     15\u001b[0m \u001b[1;33m\u001b[0m\u001b[0m\n\u001b[0;32m     16\u001b[0m     \u001b[0mdisplay\u001b[0m\u001b[1;33m(\u001b[0m\u001b[1;34mf\"ARIMA{param} - AIC:{ARIMA_model.aic}\"\u001b[0m\u001b[1;33m)\u001b[0m\u001b[1;33m\u001b[0m\u001b[1;33m\u001b[0m\u001b[0m\n",
      "\u001b[1;31mNameError\u001b[0m: name 'train' is not defined"
     ]
    }
   ],
   "source": [
    "import itertools # library for generating all possible combinations of given number sets\n",
    "from statsmodels.tsa.arima_model import ARIMA\n",
    "\n",
    "p = q = range(0, 4)\n",
    "d= range(1,2) # required as itertools product function expects the parameters as range objects, even if it is only value\n",
    "\n",
    "pdq = list(itertools.product(p, d, q))\n",
    " \n",
    "# Creating an empty Dataframe with column names only\n",
    "ARIMA_AIC = pd.DataFrame(columns=[\"Param\", \"AIC\"])\n",
    "ARIMA_AIC\n",
    "\n",
    "for param in pdq:\n",
    "    ARIMA_model = ARIMA(train[\"Rose\"], order=param).fit()\n",
    "    \n",
    "    display(f\"ARIMA{param} - AIC:{ARIMA_model.aic}\")\n",
    "    \n",
    "    ARIMA_AIC=ARIMA_AIC.append({\"Param\":param, \"AIC\": ARIMA_model.aic}, ignore_index=True)\n",
    "    \n",
    "display(ARIMA_AIC.sort_values(by=[\"AIC\"],ascending=True))    "
   ]
  },
  {
   "cell_type": "code",
   "execution_count": null,
   "id": "6bafa3d7",
   "metadata": {
    "ExecuteTime": {
     "end_time": "2021-08-15T14:54:38.813207Z",
     "start_time": "2021-08-15T14:54:38.390Z"
    }
   },
   "outputs": [],
   "source": [
    "auto_ARIMA = ARIMA(train[\"Rose\"], order=(3,1,3),freq='M')\n",
    "\n",
    "results_auto_ARIMA = auto_ARIMA.fit()\n",
    "\n",
    "display(results_auto_ARIMA.summary())"
   ]
  },
  {
   "cell_type": "markdown",
   "id": "6b6e9823",
   "metadata": {},
   "source": [
    "## Prediction"
   ]
  },
  {
   "cell_type": "code",
   "execution_count": null,
   "id": "02ffdb93",
   "metadata": {
    "ExecuteTime": {
     "end_time": "2021-08-15T14:54:38.815207Z",
     "start_time": "2021-08-15T14:54:38.414Z"
    }
   },
   "outputs": [],
   "source": [
    "predicted_auto_ARIMA = results_auto_ARIMA.forecast(steps=len(test))\n",
    "\n",
    "RMSE_autoarima = rmse(test[\"Rose\"],predicted_auto_ARIMA[0])\n",
    "display(RMSE_autoarima)\n",
    "\n",
    "resultsDf_arima = pd.DataFrame({'Test RMSE': [RMSE_autoarima]}\n",
    "                           ,index=['ARIMA(3,1,3)'])\n",
    "\n",
    "resultsDf = pd.concat([resultsDf, resultsDf_arima])\n",
    "\n",
    "display(resultsDf)"
   ]
  },
  {
   "cell_type": "markdown",
   "id": "4437d5ff",
   "metadata": {},
   "source": [
    "## Manual Arima using ACF and PACF plots"
   ]
  },
  {
   "cell_type": "code",
   "execution_count": null,
   "id": "0d4ae150",
   "metadata": {
    "ExecuteTime": {
     "end_time": "2021-08-15T14:54:38.817208Z",
     "start_time": "2021-08-15T14:54:38.440Z"
    },
    "scrolled": false
   },
   "outputs": [],
   "source": [
    "from statsmodels.graphics.tsaplots import plot_acf, plot_pacf\n",
    "\n",
    "plot_acf(rdf[\"Rose\"].diff().dropna(),lags=50,title='Differenced Data Autocorrelation');\n",
    "plot_pacf(rdf[\"Rose\"].diff().dropna(),lags=50,title='Differenced Data Partial Autocorrelation');\n",
    "plt.show()\n",
    "\n",
    "display(\"p value from PACF: 4 & q value from ACF: 2\")\n",
    "\n",
    "manual_ARIMA = ARIMA(train[\"Rose\"].astype(\"float64\"), order=(4,1,2),freq=\"M\")\n",
    "results_manual_ARIMA = manual_ARIMA.fit()\n",
    "display(results_manual_ARIMA.summary())\n",
    "\n",
    "predicted_manual_ARIMA = results_manual_ARIMA.forecast(steps=len(test))\n",
    "\n",
    "RMSE_manualarima = rmse(test[\"Rose\"],\n",
    "                        predicted_manual_ARIMA[0])\n",
    "\n",
    "resultsDf_manual_arima = pd.DataFrame({'Test RMSE': [RMSE_manualarima]}\n",
    "                           ,index=['Manual ARIMA(4,1,2)'])\n",
    "\n",
    "resultsDf = pd.concat([resultsDf, resultsDf_manual_arima])\n",
    "\n",
    "display(resultsDf)"
   ]
  },
  {
   "cell_type": "markdown",
   "id": "a19a30f9",
   "metadata": {},
   "source": [
    "# Build SARIMA model with lowest AIC score – test this model on test data using RMSE"
   ]
  },
  {
   "cell_type": "code",
   "execution_count": null,
   "id": "02985494",
   "metadata": {
    "ExecuteTime": {
     "end_time": "2021-08-15T14:54:38.818207Z",
     "start_time": "2021-08-15T14:54:38.467Z"
    }
   },
   "outputs": [],
   "source": [
    "plot_acf(rdf[\"Rose\"].diff().dropna(),lags=50,title=\"Differenced Data Autocorrelation\");\n",
    "plt.show()\n",
    "\n",
    "display(\"Seasonality is observed for 6 and 12\")"
   ]
  },
  {
   "cell_type": "code",
   "execution_count": null,
   "id": "dc3ff3e1",
   "metadata": {
    "ExecuteTime": {
     "end_time": "2021-08-15T14:54:38.820207Z",
     "start_time": "2021-08-15T14:54:38.488Z"
    }
   },
   "outputs": [],
   "source": [
    "from  statsmodels.tsa.statespace.sarimax import SARIMAX\n",
    "\n",
    "p = q = range(0, 3)\n",
    "d= range(1,2)\n",
    "D = range(0,1)\n",
    "pdq = list(itertools.product(p, d, q))\n",
    "model_pdq = [(x[0], x[1], x[2], 6) for x in list(itertools.product(p, D, q))] # seasonal PDQ\n",
    "\n",
    "\n",
    "SARIMA_AIC = pd.DataFrame(columns=['param','seasonal', 'AIC'])\n",
    "\n",
    "\n"
   ]
  },
  {
   "cell_type": "code",
   "execution_count": null,
   "id": "afa0ed58",
   "metadata": {
    "ExecuteTime": {
     "end_time": "2021-08-15T14:54:38.821207Z",
     "start_time": "2021-08-15T14:54:38.511Z"
    }
   },
   "outputs": [],
   "source": [
    "for param in pdq:\n",
    "    for param_seasonal in model_pdq:\n",
    "        SARIMA_model = SARIMAX(train[\"Rose\"],order=param, \n",
    "                               seasonal_order = param_seasonal,enforce_stationarity=False,\n",
    "                               enforce_invertibility=False)\n",
    "            \n",
    "        results_SARIMA = SARIMA_model.fit(maxiter=1000)\n",
    "        \n",
    "        SARIMA_AIC = SARIMA_AIC.append({\"param\":param,\n",
    "                                        \"seasonal\":param_seasonal, \n",
    "                                        \"AIC\": results_SARIMA.aic},\n",
    "                                       ignore_index=True)\n"
   ]
  },
  {
   "cell_type": "code",
   "execution_count": null,
   "id": "5f26a3ed",
   "metadata": {
    "ExecuteTime": {
     "end_time": "2021-08-15T14:54:38.822207Z",
     "start_time": "2021-08-15T14:54:38.534Z"
    }
   },
   "outputs": [],
   "source": [
    "SARIMA_AIC.sort_values(by=['AIC']).head()"
   ]
  },
  {
   "cell_type": "code",
   "execution_count": null,
   "id": "255bbce1",
   "metadata": {
    "ExecuteTime": {
     "end_time": "2021-08-15T14:54:38.824207Z",
     "start_time": "2021-08-15T14:54:38.559Z"
    }
   },
   "outputs": [],
   "source": [
    "auto_SARIMA_6 = SARIMAX(train[\"Rose\"].values,\n",
    "                       order=(0,1,2),\n",
    "                       seasonal_order=(2,0,2,6),\n",
    "                       enforce_stationarity=False,\n",
    "                       enforce_ivertibility=False)\n",
    "results_auto_SARIMA_6 = auto_SARIMA_6.fit(maxiter=1000)\n",
    "display(results_auto_SARIMA_6.summary())"
   ]
  },
  {
   "cell_type": "markdown",
   "id": "8f5ef9f8",
   "metadata": {},
   "source": [
    "## Prediction on the Test Set and Evaluation"
   ]
  },
  {
   "cell_type": "code",
   "execution_count": null,
   "id": "c9212279",
   "metadata": {
    "ExecuteTime": {
     "end_time": "2021-08-15T14:54:38.825208Z",
     "start_time": "2021-08-15T14:54:38.587Z"
    }
   },
   "outputs": [],
   "source": [
    "predicted_auto_SARIMA_6 = results_auto_SARIMA_6.get_forecast(steps=len(test))\n",
    "\n",
    "display(predicted_auto_SARIMA_6.summary_frame(alpha=0.05).head())\n",
    "\n",
    "rmse_autosarima6 = rmse(test[\"Rose\"], predicted_auto_SARIMA_6.predicted_mean)\n",
    "display(rmse_autosarima6)\n",
    "\n",
    "temp_resultsDf = pd.DataFrame({\"Test RMSE\" : [rmse_autosarima6]}, index = [\"SARIMA(0,1,2)(2,0,2,6)\"])\n",
    "resultsDf = pd.concat([resultsDf, temp_resultsDf])\n",
    "\n",
    "display(resultsDf)\n"
   ]
  },
  {
   "cell_type": "markdown",
   "id": "f1ae5035",
   "metadata": {
    "ExecuteTime": {
     "end_time": "2021-08-11T23:33:26.560064Z",
     "start_time": "2021-08-11T23:33:07.932Z"
    }
   },
   "source": [
    "## SARIMA for 12 Seasonality"
   ]
  },
  {
   "cell_type": "code",
   "execution_count": null,
   "id": "217f6206",
   "metadata": {
    "ExecuteTime": {
     "end_time": "2021-08-15T14:54:38.827208Z",
     "start_time": "2021-08-15T14:54:38.610Z"
    }
   },
   "outputs": [],
   "source": [
    "p = q = range(0, 3)\n",
    "d= range(1,2)\n",
    "D = range(0,1)\n",
    "pdq = list(itertools.product(p, d, q))\n",
    "model_pdq = [(x[0], x[1], x[2], 12) for x in list(itertools.product(p, D, q))]\n",
    "\n",
    "\n",
    "SARIMA_AIC = pd.DataFrame(columns=['param','seasonal', 'AIC'])\n"
   ]
  },
  {
   "cell_type": "code",
   "execution_count": null,
   "id": "4ff28cd8",
   "metadata": {
    "ExecuteTime": {
     "end_time": "2021-08-15T14:54:38.829207Z",
     "start_time": "2021-08-15T14:54:38.631Z"
    }
   },
   "outputs": [],
   "source": [
    "\n",
    "for param in pdq:\n",
    "    for param_seasonal in model_pdq:\n",
    "        SARIMA_model =SARIMAX(train[\"Rose\"],\n",
    "                                            order=param,\n",
    "                                            seasonal_order = param_seasonal,\n",
    "                                            enforce_stationarity=False,\n",
    "                                            enforce_invertibility=False)\n",
    "            \n",
    "        results_SARIMA = SARIMA_model.fit(maxiter=1000)\n",
    "        \n",
    "        SARIMA_AIC = SARIMA_AIC.append({\"param\":param,\n",
    "                                        \"seasonal\":param_seasonal, \n",
    "                                        \"AIC\": results_SARIMA.aic},\n",
    "                                       ignore_index=True)"
   ]
  },
  {
   "cell_type": "code",
   "execution_count": null,
   "id": "ec51b261",
   "metadata": {
    "ExecuteTime": {
     "end_time": "2021-08-15T14:54:38.830207Z",
     "start_time": "2021-08-15T14:54:38.654Z"
    }
   },
   "outputs": [],
   "source": [
    "SARIMA_AIC.sort_values(by=[\"AIC\"]).head()"
   ]
  },
  {
   "cell_type": "code",
   "execution_count": null,
   "id": "a3928bf6",
   "metadata": {
    "ExecuteTime": {
     "end_time": "2021-08-15T14:54:38.832207Z",
     "start_time": "2021-08-15T14:54:38.678Z"
    }
   },
   "outputs": [],
   "source": [
    "auto_SARIMA_12 =SARIMAX(train[\"Rose\"],\n",
    "                                order=(0, 1, 2),\n",
    "                                seasonal_order=(2, 0, 2, 12),\n",
    "                                enforce_stationarity=False,\n",
    "                                enforce_invertibility=False)\n",
    "\n",
    "results_auto_SARIMA_12 = auto_SARIMA_12.fit(maxiter=1000)\n",
    "\n",
    "display(results_auto_SARIMA_12.summary())"
   ]
  },
  {
   "cell_type": "markdown",
   "id": "38391f4f",
   "metadata": {},
   "source": [
    "## Predict on the Test Set and Evaluation"
   ]
  },
  {
   "cell_type": "code",
   "execution_count": null,
   "id": "a0d5e495",
   "metadata": {
    "ExecuteTime": {
     "end_time": "2021-08-15T14:54:38.833208Z",
     "start_time": "2021-08-15T14:54:38.706Z"
    }
   },
   "outputs": [],
   "source": [
    "predicted_auto_SARIMA_12 = results_auto_SARIMA_12.get_forecast(steps=len(test))\n",
    "\n",
    "display(predicted_auto_SARIMA_12.summary_frame(alpha=0.05).head())\n",
    "\n",
    "rmse_autosarima12 = rmse(test[\"Rose\"], predicted_auto_SARIMA_12.predicted_mean)\n",
    "\n",
    "display(\"RMSE\", rmse_autosarima12)\n",
    "\n",
    "temp_resultsDf = pd.DataFrame({\"Test RMSE\": [rmse_autosarima12]}, index=['SARIMA(0,1,2)(2,0,2,12)'])\n",
    "\n",
    "resultsDf = pd.concat([resultsDf, temp_resultsDf])\n",
    "\n",
    "display(resultsDf)\n"
   ]
  },
  {
   "cell_type": "markdown",
   "id": "b9b45e5c",
   "metadata": {},
   "source": [
    "## Manual SARIMA model - Best Params seleced from ACF and PACF plots - Seasonality 6"
   ]
  },
  {
   "cell_type": "code",
   "execution_count": null,
   "id": "f389a46c",
   "metadata": {
    "ExecuteTime": {
     "end_time": "2021-08-15T14:54:38.835208Z",
     "start_time": "2021-08-15T14:54:38.732Z"
    },
    "scrolled": false
   },
   "outputs": [],
   "source": [
    "plot_acf(rdf[\"Rose\"].diff().dropna(), lags=50, title=\"Differenced Data Autocorrelation\")\n",
    "plot_pacf(rdf[\"Rose\"].diff().dropna(), lags=50, title=\"Differenced Data Partial Autocorrelation\")\n",
    "\n",
    "plt.show()"
   ]
  },
  {
   "cell_type": "code",
   "execution_count": null,
   "id": "90caa4e7",
   "metadata": {
    "ExecuteTime": {
     "end_time": "2021-08-15T14:54:38.836207Z",
     "start_time": "2021-08-15T14:54:38.754Z"
    }
   },
   "outputs": [],
   "source": [
    "rdf.plot()\n",
    "plt.grid()\n",
    "plt.show()\n",
    "\n",
    "(rdf[\"Rose\"].diff(6)).plot()\n",
    "plt.grid()\n",
    "plt.show()"
   ]
  },
  {
   "cell_type": "markdown",
   "id": "25f741ba",
   "metadata": {},
   "source": [
    "We see that there might be a slight trend which can be noticed in the data. So we take a differencing of first order on the seasonally differenced series."
   ]
  },
  {
   "cell_type": "code",
   "execution_count": null,
   "id": "12100777",
   "metadata": {
    "ExecuteTime": {
     "end_time": "2021-08-15T14:54:38.838207Z",
     "start_time": "2021-08-15T14:54:38.778Z"
    }
   },
   "outputs": [],
   "source": [
    "(rdf[\"Rose\"].diff(6)).diff().plot()\n",
    "plt.grid()\n",
    "plt.show()"
   ]
  },
  {
   "cell_type": "code",
   "execution_count": null,
   "id": "32a49331",
   "metadata": {
    "ExecuteTime": {
     "end_time": "2021-08-15T14:54:38.839222Z",
     "start_time": "2021-08-15T14:54:38.800Z"
    }
   },
   "outputs": [],
   "source": [
    "pValue = adfuller(train[\"Rose\"])[1]\n",
    "\n",
    "print(\"P value: \",pValue, \" is greater than 0.05, there by H0 - Series in Not-Stationary is rejected\")"
   ]
  },
  {
   "cell_type": "markdown",
   "id": "b4c1cfba",
   "metadata": {},
   "source": [
    "check the stationarity of the above series before fitting the SARIMA model."
   ]
  },
  {
   "cell_type": "code",
   "execution_count": 13,
   "id": "33afc06f",
   "metadata": {
    "ExecuteTime": {
     "end_time": "2021-08-15T14:54:38.938208Z",
     "start_time": "2021-08-15T14:54:38.925208Z"
    }
   },
   "outputs": [],
   "source": [
    "# adfuller((train[\"Rose\"].diff(6).dropna()).diff(1).dropna())[1]"
   ]
  },
  {
   "cell_type": "markdown",
   "id": "29ba7547",
   "metadata": {},
   "source": [
    "Checking the ACF and the PACF plots for the new modified Time Series."
   ]
  },
  {
   "cell_type": "code",
   "execution_count": 14,
   "id": "4a621265",
   "metadata": {
    "ExecuteTime": {
     "end_time": "2021-08-15T14:54:38.954210Z",
     "start_time": "2021-08-15T14:54:38.940208Z"
    }
   },
   "outputs": [
    {
     "ename": "NameError",
     "evalue": "name 'plot_acf' is not defined",
     "output_type": "error",
     "traceback": [
      "\u001b[1;31m---------------------------------------------------------------------------\u001b[0m",
      "\u001b[1;31mNameError\u001b[0m                                 Traceback (most recent call last)",
      "\u001b[1;32m<ipython-input-14-72b22f991137>\u001b[0m in \u001b[0;36m<module>\u001b[1;34m\u001b[0m\n\u001b[0;32m      3\u001b[0m \u001b[1;31m# plt.show()\u001b[0m\u001b[1;33m\u001b[0m\u001b[1;33m\u001b[0m\u001b[1;33m\u001b[0m\u001b[0m\n\u001b[0;32m      4\u001b[0m \u001b[1;33m\u001b[0m\u001b[0m\n\u001b[1;32m----> 5\u001b[1;33m \u001b[0mplot_acf\u001b[0m\u001b[1;33m(\u001b[0m\u001b[0mrdf\u001b[0m\u001b[1;33m[\u001b[0m\u001b[1;34m\"Rose\"\u001b[0m\u001b[1;33m]\u001b[0m\u001b[1;33m.\u001b[0m\u001b[0mdiff\u001b[0m\u001b[1;33m(\u001b[0m\u001b[1;33m)\u001b[0m\u001b[1;33m.\u001b[0m\u001b[0mdropna\u001b[0m\u001b[1;33m(\u001b[0m\u001b[1;33m)\u001b[0m\u001b[1;33m,\u001b[0m \u001b[0mlags\u001b[0m\u001b[1;33m=\u001b[0m\u001b[1;36m30\u001b[0m\u001b[1;33m)\u001b[0m\u001b[1;33m\u001b[0m\u001b[1;33m\u001b[0m\u001b[0m\n\u001b[0m\u001b[0;32m      6\u001b[0m \u001b[0mplot_pacf\u001b[0m\u001b[1;33m(\u001b[0m\u001b[0mrdf\u001b[0m\u001b[1;33m[\u001b[0m\u001b[1;34m\"Rose\"\u001b[0m\u001b[1;33m]\u001b[0m\u001b[1;33m.\u001b[0m\u001b[0mdiff\u001b[0m\u001b[1;33m(\u001b[0m\u001b[1;33m)\u001b[0m\u001b[1;33m.\u001b[0m\u001b[0mdropna\u001b[0m\u001b[1;33m(\u001b[0m\u001b[1;33m)\u001b[0m\u001b[1;33m,\u001b[0m \u001b[0mlags\u001b[0m\u001b[1;33m=\u001b[0m\u001b[1;36m30\u001b[0m\u001b[1;33m)\u001b[0m\u001b[1;33m\u001b[0m\u001b[1;33m\u001b[0m\u001b[0m\n\u001b[0;32m      7\u001b[0m \u001b[0mplt\u001b[0m\u001b[1;33m.\u001b[0m\u001b[0mshow\u001b[0m\u001b[1;33m(\u001b[0m\u001b[1;33m)\u001b[0m\u001b[1;33m\u001b[0m\u001b[1;33m\u001b[0m\u001b[0m\n",
      "\u001b[1;31mNameError\u001b[0m: name 'plot_acf' is not defined"
     ]
    }
   ],
   "source": [
    "# plot_acf((rdf[\"Rose\"].diff(6).dropna()).diff(1).dropna(), lags=30)\n",
    "# plot_pacf((rdf[\"Rose\"].diff(6).dropna()).diff(1).dropna(), lags=30)\n",
    "# plt.show()\n",
    "\n",
    "plot_acf(rdf[\"Rose\"].diff().dropna(), lags=30)\n",
    "plot_pacf(rdf[\"Rose\"].diff().dropna(), lags=30)\n",
    "plt.show()"
   ]
  },
  {
   "cell_type": "markdown",
   "id": "8bcf6ea0",
   "metadata": {},
   "source": [
    "Here, we have taken alpha=0.05.\n",
    "\n",
    "We are going to take the seasonal period as 6. We will keep the p(0) and q(0) parameters same as the ARIMA model.\n",
    "\n",
    "The Auto-Regressive parameter in an SARIMA model is 'P' which comes from the significant lag after which the PACF plot cuts-off to 2.\n",
    "The Moving-Average parameter in an SARIMA model is 'Q' which comes from the significant lag after which the ACF plot cuts-off to 2. "
   ]
  },
  {
   "cell_type": "code",
   "execution_count": null,
   "id": "8a257a7f",
   "metadata": {
    "ExecuteTime": {
     "end_time": "2021-08-15T14:54:38.957213Z",
     "start_time": "2021-08-15T14:54:38.877Z"
    }
   },
   "outputs": [],
   "source": [
    "manual_SARIMA_6 = SARIMAX(train[\"Rose\"],\n",
    "                         order=(4,1,2),\n",
    "                         seasonal_order=(4,1,2,6),\n",
    "                         enforce_stationarity=False,\n",
    "                         enforce_invertibility=False)\n",
    "results_manual_SARIMA_6 = manual_SARIMA_6.fit(maxiter=1000)\n",
    "display(results_manual_SARIMA_6.summary())"
   ]
  },
  {
   "cell_type": "code",
   "execution_count": null,
   "id": "b1bbd32c",
   "metadata": {
    "ExecuteTime": {
     "end_time": "2021-08-15T14:54:38.958208Z",
     "start_time": "2021-08-15T14:54:38.898Z"
    }
   },
   "outputs": [],
   "source": [
    "manual_SARIMA_12 = SARIMAX(train[\"Rose\"],\n",
    "                         order=(4,1,2),\n",
    "                         seasonal_order=(4,1,2,12),\n",
    "                         enforce_stationarity=False,\n",
    "                         enforce_invertibility=False)\n",
    "results_manual_SARIMA_12 = manual_SARIMA_12.fit(maxiter=1000)\n",
    "display(results_manual_SARIMA_12.summary())"
   ]
  },
  {
   "cell_type": "markdown",
   "id": "e713cca3",
   "metadata": {},
   "source": [
    "## Prediction on the Test Set and Evaluation"
   ]
  },
  {
   "cell_type": "code",
   "execution_count": null,
   "id": "a3c20342",
   "metadata": {
    "ExecuteTime": {
     "end_time": "2021-08-15T14:54:38.960207Z",
     "start_time": "2021-08-15T14:54:38.923Z"
    }
   },
   "outputs": [],
   "source": [
    "predicted_manual_SARIMA_6 = results_manual_SARIMA_6.get_forecast(steps=len(test))\n",
    "\n",
    "display(predicted_manual_SARIMA_6.summary_frame(alpha=0.05).head())\n",
    "\n",
    "\n",
    "rmse_manualsarima6 = rmse(test[\"Rose\"], predicted_manual_SARIMA_6.predicted_mean)\n",
    "display(rmse_manualsarima6)\n",
    "\n",
    "temp_resultsDf = pd.DataFrame({\"Test RMSE\": [rmse_manualsarima6]}, index=[\"SARIMA(4,1,2)(4,1,2,6)\"])\n",
    "\n",
    "resultsDf = pd.concat([resultsDf, temp_resultsDf])\n",
    "\n",
    "\n",
    "predicted_manual_SARIMA_12 = results_manual_SARIMA_12.get_forecast(steps=len(test))\n",
    "\n",
    "display(predicted_manual_SARIMA_12.summary_frame(alpha=0.05).head())\n",
    "\n",
    "\n",
    "rmse_manualsarima12 = rmse(test[\"Rose\"], predicted_manual_SARIMA_12.predicted_mean)\n",
    "display(rmse_manualsarima12)\n",
    "\n",
    "temp_resultsDf = pd.DataFrame({\"Test RMSE\": [rmse_manualsarima12]}, index=[\"SARIMA(4,1,2)(4,1,2,12)\"])\n",
    "\n",
    "resultsDf = pd.concat([resultsDf, temp_resultsDf])"
   ]
  },
  {
   "cell_type": "markdown",
   "id": "b6270d18",
   "metadata": {},
   "source": [
    "# Build table with all the above models with RMSE scores"
   ]
  },
  {
   "cell_type": "code",
   "execution_count": null,
   "id": "a2063105",
   "metadata": {
    "ExecuteTime": {
     "end_time": "2021-08-15T14:54:38.961207Z",
     "start_time": "2021-08-15T14:54:38.949Z"
    }
   },
   "outputs": [],
   "source": [
    "display(resultsDf.sort_values(by=[\"Test RMSE\"],ascending=True))"
   ]
  },
  {
   "cell_type": "code",
   "execution_count": 15,
   "id": "7c7ebf21",
   "metadata": {
    "ExecuteTime": {
     "end_time": "2021-08-15T14:54:39.096260Z",
     "start_time": "2021-08-15T14:54:39.065209Z"
    }
   },
   "outputs": [
    {
     "ename": "NameError",
     "evalue": "name 'resultsDf' is not defined",
     "output_type": "error",
     "traceback": [
      "\u001b[1;31m---------------------------------------------------------------------------\u001b[0m",
      "\u001b[1;31mNameError\u001b[0m                                 Traceback (most recent call last)",
      "\u001b[1;32m<ipython-input-15-5f3c149178d2>\u001b[0m in \u001b[0;36m<module>\u001b[1;34m\u001b[0m\n\u001b[1;32m----> 1\u001b[1;33m \u001b[0mres_df\u001b[0m \u001b[1;33m=\u001b[0m \u001b[0mpd\u001b[0m\u001b[1;33m.\u001b[0m\u001b[0mDataFrame\u001b[0m\u001b[1;33m(\u001b[0m\u001b[1;33m{\u001b[0m\u001b[1;34m'columns'\u001b[0m\u001b[1;33m:\u001b[0m \u001b[0mresultsDf\u001b[0m\u001b[1;33m.\u001b[0m\u001b[0mindex\u001b[0m\u001b[1;33m,\u001b[0m \u001b[1;34m'Test RMSE'\u001b[0m\u001b[1;33m:\u001b[0m \u001b[0mresultsDf\u001b[0m\u001b[1;33m[\u001b[0m\u001b[1;34m\"Test RMSE\"\u001b[0m\u001b[1;33m]\u001b[0m\u001b[1;33m}\u001b[0m\u001b[1;33m)\u001b[0m\u001b[1;33m\u001b[0m\u001b[1;33m\u001b[0m\u001b[0m\n\u001b[0m\u001b[0;32m      2\u001b[0m \u001b[0msorted_resDf_values\u001b[0m \u001b[1;33m=\u001b[0m \u001b[0mres_df\u001b[0m\u001b[1;33m.\u001b[0m\u001b[0msort_values\u001b[0m\u001b[1;33m(\u001b[0m\u001b[1;34m'Test RMSE'\u001b[0m\u001b[1;33m,\u001b[0m \u001b[0mascending\u001b[0m\u001b[1;33m=\u001b[0m\u001b[1;32mTrue\u001b[0m\u001b[1;33m)\u001b[0m\u001b[1;33m\u001b[0m\u001b[1;33m\u001b[0m\u001b[0m\n\u001b[0;32m      3\u001b[0m \u001b[0mplt\u001b[0m\u001b[1;33m.\u001b[0m\u001b[0mfigure\u001b[0m\u001b[1;33m(\u001b[0m\u001b[0mfigsize\u001b[0m\u001b[1;33m=\u001b[0m\u001b[1;33m(\u001b[0m\u001b[1;36m10\u001b[0m\u001b[1;33m,\u001b[0m\u001b[1;36m10\u001b[0m\u001b[1;33m)\u001b[0m\u001b[1;33m)\u001b[0m\u001b[1;33m\u001b[0m\u001b[1;33m\u001b[0m\u001b[0m\n\u001b[0;32m      4\u001b[0m \u001b[0msns\u001b[0m\u001b[1;33m.\u001b[0m\u001b[0mbarplot\u001b[0m\u001b[1;33m(\u001b[0m\u001b[0mx\u001b[0m\u001b[1;33m=\u001b[0m\u001b[1;34m'Test RMSE'\u001b[0m\u001b[1;33m,\u001b[0m \u001b[0my\u001b[0m\u001b[1;33m=\u001b[0m\u001b[1;34m'columns'\u001b[0m\u001b[1;33m,\u001b[0m \u001b[0mdata\u001b[0m\u001b[1;33m=\u001b[0m\u001b[0msorted_resDf_values\u001b[0m\u001b[1;33m)\u001b[0m\u001b[1;33m\u001b[0m\u001b[1;33m\u001b[0m\u001b[0m\n\u001b[0;32m      5\u001b[0m \u001b[0mplt\u001b[0m\u001b[1;33m.\u001b[0m\u001b[0mxlabel\u001b[0m\u001b[1;33m(\u001b[0m\u001b[1;34m'Test RMSE for all models'\u001b[0m\u001b[1;33m)\u001b[0m\u001b[1;33m\u001b[0m\u001b[1;33m\u001b[0m\u001b[0m\n",
      "\u001b[1;31mNameError\u001b[0m: name 'resultsDf' is not defined"
     ]
    }
   ],
   "source": [
    "res_df = pd.DataFrame({'columns': resultsDf.index, 'Test RMSE': resultsDf[\"Test RMSE\"]})\n",
    "sorted_resDf_values = res_df.sort_values('Test RMSE', ascending=True)\n",
    "plt.figure(figsize=(10,10))\n",
    "sns.barplot(x='Test RMSE', y='columns', data=sorted_resDf_values)\n",
    "plt.xlabel('Test RMSE for all models')\n",
    "plt.ylabel('Model')\n",
    "plt.title('Best Models')\n",
    "plt.show()"
   ]
  },
  {
   "cell_type": "markdown",
   "id": "ef161912",
   "metadata": {},
   "source": [
    "## Build most optimum model on the Full Data"
   ]
  },
  {
   "cell_type": "code",
   "execution_count": null,
   "id": "c9dfbeb0",
   "metadata": {
    "ExecuteTime": {
     "end_time": "2021-08-15T14:54:39.098207Z",
     "start_time": "2021-08-15T14:54:38.993Z"
    }
   },
   "outputs": [],
   "source": [
    "fullmodel1 = ExponentialSmoothing(rdf,trend=\"additive\",seasonal=\"multiplicative\")\n",
    "fullmodel1= fullmodel1.fit(smoothing_level=0.3, smoothing_trend=0.3, smoothing_seasonal=0.4)\n"
   ]
  },
  {
   "cell_type": "markdown",
   "id": "97cce943",
   "metadata": {},
   "source": [
    "# Use optimal model with lowest RMSE to predict 12 months into future with a plot and confidence intervals"
   ]
  },
  {
   "cell_type": "code",
   "execution_count": null,
   "id": "85eef353",
   "metadata": {
    "ExecuteTime": {
     "end_time": "2021-08-15T14:54:39.100208Z",
     "start_time": "2021-08-15T14:54:39.016Z"
    }
   },
   "outputs": [],
   "source": [
    "\n",
    "RMSE_fullmodel1 = rmse(rdf[\"Rose\"], fullmodel1.fittedvalues)\n",
    "display(\"Full model RMSE\", RMSE_fullmodel1)\n",
    "\n",
    "prediction_1 = fullmodel1.forecast(steps=len(test))\n",
    "\n",
    "rdf.plot(legend=True, label=\"Actual\")\n",
    "prediction_1.plot(legend=True, label=\"Forecast\")\n",
    "\n",
    "plt.show()\n"
   ]
  },
  {
   "cell_type": "code",
   "execution_count": null,
   "id": "2ed4cd01",
   "metadata": {
    "ExecuteTime": {
     "end_time": "2021-08-15T14:54:39.101207Z",
     "start_time": "2021-08-15T14:54:39.037Z"
    },
    "scrolled": false
   },
   "outputs": [],
   "source": [
    "pred_1_df = pd.DataFrame({\"lower_CI\":prediction_1 - 1.96*fullmodel1.resid.std(),\n",
    "                          \"prediction\":prediction_1,\n",
    "                          \"upper_ci\": prediction_1 + 1.96*fullmodel1.resid.std()})\n",
    "display(pred_1_df.head().style)\n",
    "\n",
    "\n",
    "axis = rdf.plot(label=\"Actual\", figsize=(15,8))\n",
    "pred_1_df[\"prediction\"].plot(ax=axis, label=\"Forecast\", alpha=1) # alpha here is for transparency of the prediction line\n",
    "\n",
    "axis.fill_between(pred_1_df.index, pred_1_df[\"lower_CI\"], pred_1_df[\"upper_ci\"], color=\"green\", alpha=.15) # alpha here denotes the transparency of the shaded region\n",
    "\n",
    "axis.set_xlabel(\"Year-Months\")\n",
    "axis.set_ylabel(\"Rose\")\n",
    "plt.legend(loc=\"best\")\n",
    "plt.grid()\n",
    "plt.show();\n"
   ]
  }
 ],
 "metadata": {
  "kernelspec": {
   "display_name": "Python 3",
   "language": "python",
   "name": "python3"
  },
  "language_info": {
   "codemirror_mode": {
    "name": "ipython",
    "version": 3
   },
   "file_extension": ".py",
   "mimetype": "text/x-python",
   "name": "python",
   "nbconvert_exporter": "python",
   "pygments_lexer": "ipython3",
   "version": "3.8.11"
  },
  "toc": {
   "base_numbering": 1,
   "nav_menu": {},
   "number_sections": true,
   "sideBar": true,
   "skip_h1_title": false,
   "title_cell": "Table of Contents",
   "title_sidebar": "Contents",
   "toc_cell": false,
   "toc_position": {
    "height": "calc(100% - 180px)",
    "left": "10px",
    "top": "150px",
    "width": "641.008px"
   },
   "toc_section_display": true,
   "toc_window_display": true
  }
 },
 "nbformat": 4,
 "nbformat_minor": 5
}
