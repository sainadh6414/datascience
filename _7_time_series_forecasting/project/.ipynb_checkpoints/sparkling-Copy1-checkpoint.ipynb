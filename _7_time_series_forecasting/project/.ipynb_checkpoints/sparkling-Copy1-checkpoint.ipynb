{
 "cells": [
  {
   "cell_type": "code",
   "execution_count": null,
   "id": "1dd5b7ca",
   "metadata": {
    "ExecuteTime": {
     "end_time": "2021-08-15T13:04:29.214395Z",
     "start_time": "2021-08-15T13:04:29.193371Z"
    }
   },
   "outputs": [],
   "source": [
    "import numpy as np\n",
    "import pandas as pd\n",
    "import seaborn as sns\n",
    "from matplotlib import pyplot as plt\n",
    "import warnings\n",
    "warnings.filterwarnings('ignore')\n",
    "sns.set()\n",
    "from IPython.display import display"
   ]
  },
  {
   "cell_type": "code",
   "execution_count": null,
   "id": "4a5488e0",
   "metadata": {
    "ExecuteTime": {
     "end_time": "2021-08-15T13:04:29.230395Z",
     "start_time": "2021-08-15T13:04:29.217395Z"
    }
   },
   "outputs": [],
   "source": [
    "spdf = pd.read_csv(\"Sparkling.csv\")"
   ]
  },
  {
   "cell_type": "markdown",
   "id": "27782d0b",
   "metadata": {},
   "source": [
    "# Data definition"
   ]
  },
  {
   "cell_type": "code",
   "execution_count": null,
   "id": "50c2de2d",
   "metadata": {
    "ExecuteTime": {
     "end_time": "2021-08-15T13:04:29.261402Z",
     "start_time": "2021-08-15T13:04:29.233396Z"
    }
   },
   "outputs": [],
   "source": [
    "spdf.info()"
   ]
  },
  {
   "cell_type": "code",
   "execution_count": null,
   "id": "3ce23591",
   "metadata": {
    "ExecuteTime": {
     "end_time": "2021-08-15T13:04:29.292396Z",
     "start_time": "2021-08-15T13:04:29.263397Z"
    }
   },
   "outputs": [],
   "source": [
    "spdf.describe()"
   ]
  },
  {
   "cell_type": "markdown",
   "id": "2b69c884",
   "metadata": {},
   "source": [
    "# Data description\n"
   ]
  },
  {
   "cell_type": "code",
   "execution_count": null,
   "id": "36c46c12",
   "metadata": {
    "ExecuteTime": {
     "end_time": "2021-08-15T13:04:29.307835Z",
     "start_time": "2021-08-15T13:04:29.294397Z"
    }
   },
   "outputs": [],
   "source": [
    "spdf.head()"
   ]
  },
  {
   "cell_type": "code",
   "execution_count": null,
   "id": "f2bc3133",
   "metadata": {
    "ExecuteTime": {
     "end_time": "2021-08-15T13:04:29.323648Z",
     "start_time": "2021-08-15T13:04:29.309818Z"
    }
   },
   "outputs": [],
   "source": [
    "spdf.tail()"
   ]
  },
  {
   "cell_type": "markdown",
   "id": "fdc64783",
   "metadata": {},
   "source": [
    "## Organize dataset"
   ]
  },
  {
   "cell_type": "code",
   "execution_count": null,
   "id": "876fa71b",
   "metadata": {
    "ExecuteTime": {
     "end_time": "2021-08-15T13:04:29.339334Z",
     "start_time": "2021-08-15T13:04:29.325627Z"
    }
   },
   "outputs": [],
   "source": [
    "Date = pd.date_range(start=\"1980-01-01\", periods=187, freq=\"M\")\n",
    "Date"
   ]
  },
  {
   "cell_type": "code",
   "execution_count": null,
   "id": "ba36c474",
   "metadata": {
    "ExecuteTime": {
     "end_time": "2021-08-15T13:04:29.355266Z",
     "start_time": "2021-08-15T13:04:29.344314Z"
    }
   },
   "outputs": [],
   "source": [
    "spdf[\"Date\"] = Date"
   ]
  },
  {
   "cell_type": "code",
   "execution_count": null,
   "id": "84f96413",
   "metadata": {
    "ExecuteTime": {
     "end_time": "2021-08-15T13:04:29.370406Z",
     "start_time": "2021-08-15T13:04:29.358263Z"
    }
   },
   "outputs": [],
   "source": [
    "spdf.drop(\"YearMonth\", axis=1, inplace=True)"
   ]
  },
  {
   "cell_type": "code",
   "execution_count": null,
   "id": "227e500f",
   "metadata": {
    "ExecuteTime": {
     "end_time": "2021-08-15T13:04:29.385273Z",
     "start_time": "2021-08-15T13:04:29.372352Z"
    }
   },
   "outputs": [],
   "source": [
    "spdf.set_index(\"Date\", inplace=True)"
   ]
  },
  {
   "cell_type": "code",
   "execution_count": null,
   "id": "5d137857",
   "metadata": {
    "ExecuteTime": {
     "end_time": "2021-08-15T13:04:29.401258Z",
     "start_time": "2021-08-15T13:04:29.387273Z"
    }
   },
   "outputs": [],
   "source": [
    "spdf.head()"
   ]
  },
  {
   "cell_type": "code",
   "execution_count": null,
   "id": "ce0ea826",
   "metadata": {
    "ExecuteTime": {
     "end_time": "2021-08-15T13:04:29.417256Z",
     "start_time": "2021-08-15T13:04:29.403257Z"
    }
   },
   "outputs": [],
   "source": [
    "spdf.index.freq = \"M\""
   ]
  },
  {
   "cell_type": "markdown",
   "id": "f9f6e7f8",
   "metadata": {},
   "source": [
    "# Time series plot"
   ]
  },
  {
   "cell_type": "code",
   "execution_count": null,
   "id": "91ce0368",
   "metadata": {
    "ExecuteTime": {
     "end_time": "2021-08-15T13:04:29.433310Z",
     "start_time": "2021-08-15T13:04:29.420257Z"
    }
   },
   "outputs": [],
   "source": [
    "from pylab import rcParams # or we can write plt.rcParams['figure.figsize'] = 15,8\n",
    "rcParams['figure.figsize'] = 15,8"
   ]
  },
  {
   "cell_type": "code",
   "execution_count": null,
   "id": "47370f07",
   "metadata": {
    "ExecuteTime": {
     "end_time": "2021-08-15T13:04:29.940177Z",
     "start_time": "2021-08-15T13:04:29.435257Z"
    }
   },
   "outputs": [],
   "source": [
    "spdf.plot()\n",
    "plt.show()"
   ]
  },
  {
   "cell_type": "markdown",
   "id": "5f5a1823",
   "metadata": {},
   "source": [
    "# Box plot"
   ]
  },
  {
   "cell_type": "markdown",
   "id": "a50e572b",
   "metadata": {},
   "source": [
    "## Yearly box plot"
   ]
  },
  {
   "cell_type": "code",
   "execution_count": null,
   "id": "5d7b3128",
   "metadata": {
    "ExecuteTime": {
     "end_time": "2021-08-15T13:04:30.945276Z",
     "start_time": "2021-08-15T13:04:29.942177Z"
    }
   },
   "outputs": [],
   "source": [
    "sns.boxplot(x = spdf.index.year, y = spdf[\"Sparkling\"])\n",
    "plt.xlabel('Year')\n",
    "plt.show()"
   ]
  },
  {
   "cell_type": "markdown",
   "id": "0c2f5cab",
   "metadata": {},
   "source": [
    "## Monthly box plot"
   ]
  },
  {
   "cell_type": "code",
   "execution_count": null,
   "id": "79fda946",
   "metadata": {
    "ExecuteTime": {
     "end_time": "2021-08-15T13:04:31.592216Z",
     "start_time": "2021-08-15T13:04:30.948276Z"
    }
   },
   "outputs": [],
   "source": [
    "sns.boxplot(x = spdf.index.month_name(), y = spdf[\"Sparkling\"])\n",
    "plt.xlabel('Month')\n",
    "plt.show()"
   ]
  },
  {
   "cell_type": "markdown",
   "id": "cd7408dc",
   "metadata": {},
   "source": [
    "## Monthly sales for Sparkling Wine across years for each month"
   ]
  },
  {
   "cell_type": "code",
   "execution_count": null,
   "id": "acfb75cf",
   "metadata": {
    "ExecuteTime": {
     "end_time": "2021-08-15T13:04:31.608218Z",
     "start_time": "2021-08-15T13:04:31.595217Z"
    }
   },
   "outputs": [],
   "source": [
    "from statsmodels.graphics.tsaplots import month_plot"
   ]
  },
  {
   "cell_type": "code",
   "execution_count": null,
   "id": "43294c3d",
   "metadata": {
    "ExecuteTime": {
     "end_time": "2021-08-15T13:04:32.084253Z",
     "start_time": "2021-08-15T13:04:31.613216Z"
    }
   },
   "outputs": [],
   "source": [
    "month_plot(spdf, ylabel=\"Sparkling Wine Sales\")"
   ]
  },
  {
   "cell_type": "markdown",
   "id": "1b918dd3",
   "metadata": {
    "ExecuteTime": {
     "end_time": "2021-08-07T22:37:51.112285Z",
     "start_time": "2021-08-07T22:37:51.106284Z"
    }
   },
   "source": [
    "# Decompose the Time Series"
   ]
  },
  {
   "cell_type": "code",
   "execution_count": null,
   "id": "5f2db0e4",
   "metadata": {
    "ExecuteTime": {
     "end_time": "2021-08-15T13:04:32.100263Z",
     "start_time": "2021-08-15T13:04:32.086202Z"
    }
   },
   "outputs": [],
   "source": [
    "from statsmodels.tsa.seasonal import seasonal_decompose"
   ]
  },
  {
   "cell_type": "code",
   "execution_count": null,
   "id": "5572cab1",
   "metadata": {
    "ExecuteTime": {
     "end_time": "2021-08-15T13:04:33.784157Z",
     "start_time": "2021-08-15T13:04:32.102210Z"
    }
   },
   "outputs": [],
   "source": [
    "decomposition = seasonal_decompose(spdf, model=\"multiplicative\")\n",
    "decomposition.plot()\n",
    "plt.show()"
   ]
  },
  {
   "cell_type": "markdown",
   "id": "11cbe87e",
   "metadata": {},
   "source": [
    "## Trend, Seasonality and Residual"
   ]
  },
  {
   "cell_type": "code",
   "execution_count": null,
   "id": "2defcd1e",
   "metadata": {
    "ExecuteTime": {
     "end_time": "2021-08-15T13:04:33.800244Z",
     "start_time": "2021-08-15T13:04:33.786158Z"
    }
   },
   "outputs": [],
   "source": [
    "trend = decomposition.trend\n",
    "seasonality = decomposition.seasonal\n",
    "residual = decomposition.resid\n",
    "\n",
    "print(\"Trend\", \"\\n\", trend.head(12), \"\\n\")\n",
    "print(\"Seasonality\", \"\\n\", seasonality.head(12), \"\\n\")\n",
    "print(\"Residual\", \"\\n\", residual.head(12), \"\\n\")"
   ]
  },
  {
   "cell_type": "markdown",
   "id": "e4bc4157",
   "metadata": {},
   "source": [
    "# Train test split & plot"
   ]
  },
  {
   "cell_type": "code",
   "execution_count": null,
   "id": "a9d0a2de",
   "metadata": {
    "ExecuteTime": {
     "end_time": "2021-08-15T13:04:33.816246Z",
     "start_time": "2021-08-15T13:04:33.808245Z"
    }
   },
   "outputs": [],
   "source": [
    "train = spdf[spdf.index.year < 1991]\n",
    "test = spdf[spdf.index.year >= 1991]"
   ]
  },
  {
   "cell_type": "code",
   "execution_count": null,
   "id": "a6e2fa8d",
   "metadata": {
    "ExecuteTime": {
     "end_time": "2021-08-15T13:04:33.832013Z",
     "start_time": "2021-08-15T13:04:33.821006Z"
    }
   },
   "outputs": [],
   "source": [
    "train.shape, test.shape"
   ]
  },
  {
   "cell_type": "code",
   "execution_count": null,
   "id": "096ab573",
   "metadata": {
    "ExecuteTime": {
     "end_time": "2021-08-15T13:04:34.352436Z",
     "start_time": "2021-08-15T13:04:33.834009Z"
    },
    "scrolled": false
   },
   "outputs": [],
   "source": [
    "train[\"Sparkling\"].plot(legend = True, label = \"Train\", fontsize = 14)\n",
    "test[\"Sparkling\"].plot(legend = True, label = \"Test\", fontsize = 14)\n",
    "plt.show()"
   ]
  },
  {
   "cell_type": "markdown",
   "id": "c1bbf23a",
   "metadata": {},
   "source": [
    "# Linear regression model – RMSE"
   ]
  },
  {
   "cell_type": "markdown",
   "id": "78575be9",
   "metadata": {},
   "source": [
    "We are going to regress the \"Sparkling\" variable against the order of the occurrence. For this we need to modify our training data before fitting it into a linear regression."
   ]
  },
  {
   "cell_type": "code",
   "execution_count": null,
   "id": "e0631e4d",
   "metadata": {
    "ExecuteTime": {
     "end_time": "2021-08-15T13:04:34.367922Z",
     "start_time": "2021-08-15T13:04:34.354384Z"
    }
   },
   "outputs": [],
   "source": [
    "train_time  = [i + 1 for i in range(len(train))]\n",
    "test_time  = [i + 133 for i in range(len(test))]\n",
    "print(\"Training time instance\", \"\\n\", train_time)\n",
    "print(\"Test time instance\", \"\\n\", test_time)\n",
    "print(len(train), len(test))"
   ]
  },
  {
   "cell_type": "code",
   "execution_count": null,
   "id": "8541197b",
   "metadata": {
    "ExecuteTime": {
     "end_time": "2021-08-15T13:04:34.383860Z",
     "start_time": "2021-08-15T13:04:34.369856Z"
    }
   },
   "outputs": [],
   "source": [
    "LinearRegression_train = train.copy()\n",
    "LinearRegression_test = test.copy()"
   ]
  },
  {
   "cell_type": "code",
   "execution_count": null,
   "id": "0ad02b47",
   "metadata": {
    "ExecuteTime": {
     "end_time": "2021-08-15T13:04:34.399201Z",
     "start_time": "2021-08-15T13:04:34.385856Z"
    }
   },
   "outputs": [],
   "source": [
    "LinearRegression_train['time'] = train_time\n",
    "LinearRegression_test['time'] = test_time"
   ]
  },
  {
   "cell_type": "code",
   "execution_count": null,
   "id": "3953c9b0",
   "metadata": {
    "ExecuteTime": {
     "end_time": "2021-08-15T13:04:34.430219Z",
     "start_time": "2021-08-15T13:04:34.400856Z"
    }
   },
   "outputs": [],
   "source": [
    "display(LinearRegression_train.head())\n",
    "display(LinearRegression_train.tail())"
   ]
  },
  {
   "cell_type": "code",
   "execution_count": null,
   "id": "d2521e37",
   "metadata": {
    "ExecuteTime": {
     "end_time": "2021-08-15T13:04:34.445167Z",
     "start_time": "2021-08-15T13:04:34.433166Z"
    }
   },
   "outputs": [],
   "source": [
    "from sklearn.linear_model import LinearRegression"
   ]
  },
  {
   "cell_type": "code",
   "execution_count": null,
   "id": "929e0a19",
   "metadata": {
    "ExecuteTime": {
     "end_time": "2021-08-15T13:04:34.461224Z",
     "start_time": "2021-08-15T13:04:34.448167Z"
    }
   },
   "outputs": [],
   "source": [
    "lr = LinearRegression()"
   ]
  },
  {
   "cell_type": "code",
   "execution_count": null,
   "id": "4f84f97b",
   "metadata": {
    "ExecuteTime": {
     "end_time": "2021-08-15T13:04:34.477211Z",
     "start_time": "2021-08-15T13:04:34.463211Z"
    }
   },
   "outputs": [],
   "source": [
    "lr.fit(LinearRegression_train[[\"time\"]], LinearRegression_train[\"Sparkling\"])"
   ]
  },
  {
   "cell_type": "code",
   "execution_count": null,
   "id": "e43e6e4a",
   "metadata": {
    "ExecuteTime": {
     "end_time": "2021-08-15T13:04:34.493210Z",
     "start_time": "2021-08-15T13:04:34.480302Z"
    }
   },
   "outputs": [],
   "source": [
    "test_predictions_model1 = lr.predict(LinearRegression_test[['time']])\n",
    "LinearRegression_test['RegOnTime'] = test_predictions_model1"
   ]
  },
  {
   "cell_type": "code",
   "execution_count": null,
   "id": "b513736e",
   "metadata": {
    "ExecuteTime": {
     "end_time": "2021-08-15T13:04:34.509209Z",
     "start_time": "2021-08-15T13:04:34.495233Z"
    }
   },
   "outputs": [],
   "source": [
    "LinearRegression_test.head(12)"
   ]
  },
  {
   "cell_type": "markdown",
   "id": "b90f201d",
   "metadata": {},
   "source": [
    "Plot"
   ]
  },
  {
   "cell_type": "code",
   "execution_count": null,
   "id": "b270565a",
   "metadata": {
    "ExecuteTime": {
     "end_time": "2021-08-15T13:04:35.069203Z",
     "start_time": "2021-08-15T13:04:34.511211Z"
    }
   },
   "outputs": [],
   "source": [
    "train[\"Sparkling\"].plot(legend = True, label = 'Train')\n",
    "test[\"Sparkling\"].plot(legend = True, label = 'Test')\n",
    "LinearRegression_test['RegOnTime'].plot(legend = True, label = 'Test Preds using Linear Regression')\n",
    "plt.show()"
   ]
  },
  {
   "cell_type": "markdown",
   "id": "eb6df2a7",
   "metadata": {},
   "source": [
    "Accuracy Metrics"
   ]
  },
  {
   "cell_type": "code",
   "execution_count": null,
   "id": "890a2081",
   "metadata": {
    "ExecuteTime": {
     "end_time": "2021-08-15T13:04:35.085206Z",
     "start_time": "2021-08-15T13:04:35.071237Z"
    }
   },
   "outputs": [],
   "source": [
    "from statsmodels.tools.eval_measures import rmse"
   ]
  },
  {
   "cell_type": "markdown",
   "id": "75de10ee",
   "metadata": {},
   "source": [
    "## Model Evaluation and RMSE"
   ]
  },
  {
   "cell_type": "code",
   "execution_count": null,
   "id": "2930bbc2",
   "metadata": {
    "ExecuteTime": {
     "end_time": "2021-08-15T13:04:35.101201Z",
     "start_time": "2021-08-15T13:04:35.089277Z"
    }
   },
   "outputs": [],
   "source": [
    "rmse_model1_test = rmse(test[\"Sparkling\"], test_predictions_model1)\n",
    "rmse_model1_test"
   ]
  },
  {
   "cell_type": "code",
   "execution_count": null,
   "id": "7b067267",
   "metadata": {
    "ExecuteTime": {
     "end_time": "2021-08-15T13:04:35.149279Z",
     "start_time": "2021-08-15T13:04:35.112245Z"
    }
   },
   "outputs": [],
   "source": [
    "resultsDf = pd.DataFrame({\"Test RMSE\": [rmse_model1_test]}, index = [\"RegressionOnTime\"])\n",
    "resultsDf"
   ]
  },
  {
   "cell_type": "markdown",
   "id": "48c701bb",
   "metadata": {},
   "source": [
    "# Naïve model – RMSE"
   ]
  },
  {
   "cell_type": "code",
   "execution_count": null,
   "id": "68f70fde",
   "metadata": {
    "ExecuteTime": {
     "end_time": "2021-08-15T13:04:35.165226Z",
     "start_time": "2021-08-15T13:04:35.152226Z"
    }
   },
   "outputs": [],
   "source": [
    "NaiveModel_train = train.copy()\n",
    "NaiveModel_test = test.copy()"
   ]
  },
  {
   "cell_type": "code",
   "execution_count": null,
   "id": "611c1cd2",
   "metadata": {
    "ExecuteTime": {
     "end_time": "2021-08-15T13:04:35.181225Z",
     "start_time": "2021-08-15T13:04:35.169226Z"
    }
   },
   "outputs": [],
   "source": [
    "NaiveModel_test[\"naive\"] = train[\"Sparkling\"][len(train[\"Sparkling\"])-1]"
   ]
  },
  {
   "cell_type": "code",
   "execution_count": null,
   "id": "aa127a03",
   "metadata": {
    "ExecuteTime": {
     "end_time": "2021-08-15T13:04:35.196752Z",
     "start_time": "2021-08-15T13:04:35.184225Z"
    }
   },
   "outputs": [],
   "source": [
    "NaiveModel_test[\"naive\"].head()"
   ]
  },
  {
   "cell_type": "code",
   "execution_count": null,
   "id": "a372bf4c",
   "metadata": {
    "ExecuteTime": {
     "end_time": "2021-08-15T13:04:35.834164Z",
     "start_time": "2021-08-15T13:04:35.200676Z"
    }
   },
   "outputs": [],
   "source": [
    "train[\"Sparkling\"].plot(legend = True, label = \"Train\")\n",
    "test[\"Sparkling\"].plot(legend = True, label = \"Test\")\n",
    "NaiveModel_test[\"naive\"].plot(legend = True, label = \"Naive Model Test Preds\")\n",
    "plt.show()"
   ]
  },
  {
   "cell_type": "markdown",
   "id": "21a56de9",
   "metadata": {},
   "source": [
    "Model Evaluation"
   ]
  },
  {
   "cell_type": "code",
   "execution_count": null,
   "id": "f2c62917",
   "metadata": {
    "ExecuteTime": {
     "end_time": "2021-08-15T13:04:35.866164Z",
     "start_time": "2021-08-15T13:04:35.837164Z"
    }
   },
   "outputs": [],
   "source": [
    "rmse_model2_test = rmse(test[\"Sparkling\"], NaiveModel_test[\"naive\"])\n",
    "print(\"RMSE for Naive Bayes\",rmse_model2_test)\n",
    "\n",
    "\n",
    "resultsDf_2 = pd.DataFrame({\"Test RMSE\": [rmse_model2_test]}, index=[\"NaiveModel\"])\n",
    "resultsDf = pd.concat([resultsDf, resultsDf_2])\n",
    "display(resultsDf)"
   ]
  },
  {
   "cell_type": "markdown",
   "id": "73832708",
   "metadata": {},
   "source": [
    "# Simple average model – RMSE"
   ]
  },
  {
   "cell_type": "code",
   "execution_count": null,
   "id": "8b0f2edf",
   "metadata": {
    "ExecuteTime": {
     "end_time": "2021-08-15T13:04:35.882169Z",
     "start_time": "2021-08-15T13:04:35.869163Z"
    }
   },
   "outputs": [],
   "source": [
    "SimpleAverage_train = train.copy()\n",
    "SimpleAverage_test = test.copy()"
   ]
  },
  {
   "cell_type": "code",
   "execution_count": null,
   "id": "4bcf293c",
   "metadata": {
    "ExecuteTime": {
     "end_time": "2021-08-15T13:04:35.898164Z",
     "start_time": "2021-08-15T13:04:35.885176Z"
    }
   },
   "outputs": [],
   "source": [
    "SimpleAverage_test[\"mean_Sparkling\"] = train[\"Sparkling\"].mean()\n",
    "SimpleAverage_test.head()"
   ]
  },
  {
   "cell_type": "code",
   "execution_count": null,
   "id": "4b7f8fb5",
   "metadata": {
    "ExecuteTime": {
     "end_time": "2021-08-15T13:04:36.544166Z",
     "start_time": "2021-08-15T13:04:35.900165Z"
    }
   },
   "outputs": [],
   "source": [
    "train[\"Sparkling\"].plot(legend = True, label = \"Train\")\n",
    "test[\"Sparkling\"].plot(legend = True, label = \"Test\")\n",
    "SimpleAverage_test[\"mean_Sparkling\"].plot(legend = True, label = \"Simple Avg Test Predictions\")\n",
    "plt.show()"
   ]
  },
  {
   "cell_type": "markdown",
   "id": "87fd85b4",
   "metadata": {},
   "source": [
    "Model Evaluation"
   ]
  },
  {
   "cell_type": "code",
   "execution_count": null,
   "id": "32175caa",
   "metadata": {
    "ExecuteTime": {
     "end_time": "2021-08-15T13:04:36.560191Z",
     "start_time": "2021-08-15T13:04:36.546166Z"
    }
   },
   "outputs": [],
   "source": [
    "rmse_model3_test = rmse(test[\"Sparkling\"], SimpleAverage_test[\"mean_Sparkling\"])\n",
    "print(\"RMSE for Simple Average Model is\", rmse_model3_test)"
   ]
  },
  {
   "cell_type": "code",
   "execution_count": null,
   "id": "fb828c86",
   "metadata": {
    "ExecuteTime": {
     "end_time": "2021-08-15T13:04:36.576166Z",
     "start_time": "2021-08-15T13:04:36.562166Z"
    }
   },
   "outputs": [],
   "source": [
    "reultsDf_3 = pd.DataFrame({\"Test RMSE\": [rmse_model3_test]}, index = [\"SimpleAverageModel\"])\n",
    "resultsDf = pd.concat([resultsDf, reultsDf_3])\n",
    "resultsDf                     \n"
   ]
  },
  {
   "cell_type": "markdown",
   "id": "75a6c090",
   "metadata": {},
   "source": [
    "# Moving average model – RMSE"
   ]
  },
  {
   "cell_type": "markdown",
   "id": "e9ccf190",
   "metadata": {},
   "source": [
    "For the moving average model, we are going to calculate rolling means (or moving averages) for different intervals. The best interval can be determined by the maximum accuracy (or the minimum error) over here.\n",
    "\n",
    "For Moving Average, we are going to average over the entire data."
   ]
  },
  {
   "cell_type": "code",
   "execution_count": null,
   "id": "50addb5d",
   "metadata": {
    "ExecuteTime": {
     "end_time": "2021-08-15T13:04:36.592171Z",
     "start_time": "2021-08-15T13:04:36.579166Z"
    }
   },
   "outputs": [],
   "source": [
    "MovingAverage = spdf.copy()\n",
    "MovingAverage.head()"
   ]
  },
  {
   "cell_type": "markdown",
   "id": "a702cb86",
   "metadata": {},
   "source": [
    "Trailing moving averages"
   ]
  },
  {
   "cell_type": "code",
   "execution_count": null,
   "id": "723214dd",
   "metadata": {
    "ExecuteTime": {
     "end_time": "2021-08-15T13:04:36.624165Z",
     "start_time": "2021-08-15T13:04:36.594166Z"
    }
   },
   "outputs": [],
   "source": [
    "MovingAverage[\"Trailing_2\"] = MovingAverage[\"Sparkling\"].rolling(2).mean()\n",
    "MovingAverage[\"Trailing_4\"] = MovingAverage[\"Sparkling\"].rolling(4).mean()\n",
    "MovingAverage[\"Trailing_6\"] = MovingAverage[\"Sparkling\"].rolling(6).mean()\n",
    "MovingAverage[\"Trailing_9\"] = MovingAverage[\"Sparkling\"].rolling(9).mean()\n",
    "\n",
    "MovingAverage.head()"
   ]
  },
  {
   "cell_type": "markdown",
   "id": "d2910d08",
   "metadata": {},
   "source": [
    "Plot the data"
   ]
  },
  {
   "cell_type": "code",
   "execution_count": null,
   "id": "1ebe8800",
   "metadata": {
    "ExecuteTime": {
     "end_time": "2021-08-15T13:04:37.166144Z",
     "start_time": "2021-08-15T13:04:36.626166Z"
    }
   },
   "outputs": [],
   "source": [
    "plt.figure(figsize=(16,8))\n",
    "plt.plot(MovingAverage[\"Sparkling\"], label=\"Train\")\n",
    "plt.plot(MovingAverage[\"Trailing_2\"], label=\"2 point Moving Average\")\n",
    "plt.plot(MovingAverage[\"Trailing_4\"], label=\"4 point Moving Average\")\n",
    "plt.plot(MovingAverage[\"Trailing_6\"], label=\"6 point Moving Average\")\n",
    "plt.plot(MovingAverage[\"Trailing_9\"], label=\"9 point Moving Average\")\n",
    "\n",
    "plt.legend(loc=\"best\")\n",
    "plt.grid()\n",
    "plt.show()"
   ]
  },
  {
   "cell_type": "markdown",
   "id": "8fd9f5e8",
   "metadata": {},
   "source": [
    "Split the data into train and test and plot"
   ]
  },
  {
   "cell_type": "code",
   "execution_count": null,
   "id": "091a2919",
   "metadata": {
    "ExecuteTime": {
     "end_time": "2021-08-15T13:04:37.182145Z",
     "start_time": "2021-08-15T13:04:37.168091Z"
    }
   },
   "outputs": [],
   "source": [
    "trailing_MovingAverage_train = MovingAverage[MovingAverage.index.year < 1991]\n",
    "trailing_MovingAverage_test = MovingAverage[MovingAverage.index.year >= 1991]"
   ]
  },
  {
   "cell_type": "code",
   "execution_count": null,
   "id": "28172a94",
   "metadata": {
    "ExecuteTime": {
     "end_time": "2021-08-15T13:04:38.124132Z",
     "start_time": "2021-08-15T13:04:37.184092Z"
    }
   },
   "outputs": [],
   "source": [
    "plt.figure(figsize=(16,8))\n",
    "\n",
    "plt.plot(trailing_MovingAverage_train[\"Sparkling\"], label=\"Train\")\n",
    "plt.plot(trailing_MovingAverage_test[\"Sparkling\"], label=\"Test\")\n",
    "\n",
    "plt.plot(trailing_MovingAverage_train[\"Trailing_2\"], label=\"2 point Trailing Moving Average on Training Set\")\n",
    "plt.plot(trailing_MovingAverage_train[\"Trailing_4\"], label=\"4 point Trailing Moving Average on Training Set\")\n",
    "plt.plot(trailing_MovingAverage_train[\"Trailing_6\"], label=\"6 point Trailing Moving Average on Training Set\")\n",
    "plt.plot(trailing_MovingAverage_train[\"Trailing_9\"], label=\"9 point Trailing Moving Average on Training Set\")\n",
    "\n",
    "plt.plot(trailing_MovingAverage_test[\"Trailing_2\"], label=\"2 point Trailing Moving Average on Test Set\")\n",
    "plt.plot(trailing_MovingAverage_test[\"Trailing_4\"], label=\"4 point Trailing Moving Average on Test Set\")\n",
    "plt.plot(trailing_MovingAverage_test[\"Trailing_6\"], label=\"6 point Trailing Moving Average on Test Set\")\n",
    "plt.plot(trailing_MovingAverage_test[\"Trailing_9\"], label=\"9 point Trailing Moving Average on Test Set\")\n",
    "\n",
    "plt.legend(loc=\"best\")\n",
    "plt.grid()\n",
    "plt.show()"
   ]
  },
  {
   "cell_type": "markdown",
   "id": "5605bbc7",
   "metadata": {},
   "source": [
    "Model Evaluation"
   ]
  },
  {
   "cell_type": "code",
   "execution_count": null,
   "id": "eb9e00a0",
   "metadata": {
    "ExecuteTime": {
     "end_time": "2021-08-15T13:04:38.156127Z",
     "start_time": "2021-08-15T13:04:38.126127Z"
    }
   },
   "outputs": [],
   "source": [
    "rmse_model4_test_2 = rmse(test[\"Sparkling\"], trailing_MovingAverage_test[\"Trailing_2\"])\n",
    "print(\"Rmse for trailing_2\", rmse_model4_test_2)\n",
    "\n",
    "rmse_model4_test_4 = rmse(test[\"Sparkling\"], trailing_MovingAverage_test[\"Trailing_4\"])\n",
    "print(\"Rmse for trailing_4\", rmse_model4_test_4)\n",
    "\n",
    "rmse_model4_test_6 = rmse(test[\"Sparkling\"], trailing_MovingAverage_test[\"Trailing_6\"])\n",
    "print(\"Rmse for trailing_6\", rmse_model4_test_6)\n",
    "\n",
    "\n",
    "rmse_model4_test_9 = rmse(test[\"Sparkling\"], trailing_MovingAverage_test[\"Trailing_9\"])\n",
    "print(\"Rmse for trailing_9\", rmse_model4_test_9)\n",
    "\n",
    "resultsDf_4 = pd.DataFrame({\"Test RMSE\": [rmse_model4_test_2, rmse_model4_test_4, rmse_model4_test_6, rmse_model4_test_9]},\n",
    "                          index = [\"2_point_trailing_Moving_Average\", \"4_point_trailing_Moving_Average\", \"6_point_trailing_Moving_Average\", \"9_point_trailing_Moving_Average\"])\n",
    "\n",
    "resultsDf = pd.concat([resultsDf, resultsDf_4])\n",
    "resultsDf"
   ]
  },
  {
   "cell_type": "markdown",
   "id": "60809a1d",
   "metadata": {},
   "source": [
    "Plot of all models derived till now"
   ]
  },
  {
   "cell_type": "code",
   "execution_count": null,
   "id": "b650c451",
   "metadata": {
    "ExecuteTime": {
     "end_time": "2021-08-15T13:04:38.872270Z",
     "start_time": "2021-08-15T13:04:38.159127Z"
    }
   },
   "outputs": [],
   "source": [
    "train[\"Sparkling\"].plot(legend=True, label=\"Train\")\n",
    "test[\"Sparkling\"].plot(legend=True, label=\"Test\")\n",
    "\n",
    "LinearRegression_test[\"RegOnTime\"].plot(legend=True, label=\"Test Preds using Linear Regression\")\n",
    "\n",
    "NaiveModel_test[\"naive\"].plot(legend=True, label=\"Naive Model Test Preds\")\n",
    "\n",
    "SimpleAverage_test[\"mean_Sparkling\"].plot(legend=True, label=\"Simple Avg Test Preds\")\n",
    "\n",
    "trailing_MovingAverage_test[\"Trailing_2\"].plot(legend=True, label=\"Trailing MA 2 test preds\")\n",
    "\n",
    "plt.show()"
   ]
  },
  {
   "cell_type": "markdown",
   "id": "d6e8f1c0",
   "metadata": {},
   "source": [
    "# Simple exponential smoothening – RMSE analysis"
   ]
  },
  {
   "cell_type": "code",
   "execution_count": null,
   "id": "5f3fd99d",
   "metadata": {
    "ExecuteTime": {
     "end_time": "2021-08-15T13:04:38.888265Z",
     "start_time": "2021-08-15T13:04:38.874265Z"
    }
   },
   "outputs": [],
   "source": [
    "from statsmodels.tsa.api import ExponentialSmoothing, SimpleExpSmoothing, Holt"
   ]
  },
  {
   "cell_type": "code",
   "execution_count": null,
   "id": "1f586c5e",
   "metadata": {
    "ExecuteTime": {
     "end_time": "2021-08-15T13:04:39.512048Z",
     "start_time": "2021-08-15T13:04:38.890273Z"
    },
    "scrolled": false
   },
   "outputs": [],
   "source": [
    "SES_train = train.copy()\n",
    "SES_test = test.copy()\n",
    "\n",
    "model_SES = SimpleExpSmoothing(SES_train[\"Sparkling\"]);\n",
    "\n",
    "model_SES_autofit = model_SES.fit()\n",
    "\n",
    "display(\"SES Params\", model_SES_autofit.params)\n",
    "\n",
    "SES_test[\"predict\"] = model_SES_autofit.forecast(steps=len(test))\n",
    "\n",
    "display(SES_test.head().style)\n",
    "\n",
    "SES_train[\"Sparkling\"].plot(legend=True, label=\"Train\")\n",
    "SES_test[\"Sparkling\"].plot(legend=True, label=\"Test\")\n",
    "SES_test[\"predict\"].plot(legend=True, label=\"SES Preds on Test\")\n",
    "plt.show()\n"
   ]
  },
  {
   "cell_type": "markdown",
   "id": "54d360f8",
   "metadata": {},
   "source": [
    "## Model Evaluation"
   ]
  },
  {
   "cell_type": "code",
   "execution_count": null,
   "id": "cc871e84",
   "metadata": {
    "ExecuteTime": {
     "end_time": "2021-08-15T13:04:39.544095Z",
     "start_time": "2021-08-15T13:04:39.514048Z"
    }
   },
   "outputs": [],
   "source": [
    "rmse_model5_test_1 = rmse(SES_test[\"Sparkling\"], SES_test[\"predict\"])\n",
    "display(rmse_model5_test_1)\n",
    "\n",
    "resultsDf_5 = pd.DataFrame({\"Test RMSE\": [rmse_model5_test_1]}, index=[\"Alpha=0.03,SimpleExponentialSmoothing\"])\n",
    "resultsDf = pd.concat([resultsDf, resultsDf_5])\n",
    "display(resultsDf)\n"
   ]
  },
  {
   "cell_type": "markdown",
   "id": "b5f4d685",
   "metadata": {},
   "source": [
    "## Set different alpha values"
   ]
  },
  {
   "cell_type": "code",
   "execution_count": null,
   "id": "a551dc5b",
   "metadata": {
    "ExecuteTime": {
     "end_time": "2021-08-15T13:04:39.720183Z",
     "start_time": "2021-08-15T13:04:39.546095Z"
    },
    "scrolled": true
   },
   "outputs": [],
   "source": [
    "resultsDf_6 = pd.DataFrame({\"Alpha Values\":[], \"Train RMSE\": [], \"Test RMSE\": []})\n",
    "\n",
    "\n",
    "alpha_list = [0.3,0.4,0.5,0.6,0.7,0.8,0.9]\n",
    "\n",
    "for i in alpha_list:\n",
    "    model_SES_alpha_i = model_SES.fit(smoothing_level=i)\n",
    "    \n",
    "    SES_train[\"predict\",i] = model_SES_alpha_i.fittedvalues\n",
    "    SES_test[\"predict\",i] = model_SES_alpha_i.forecast(steps=len(test))\n",
    "    \n",
    "    rmse_model5_train_i = rmse(SES_train[\"Sparkling\"],SES_train[\"predict\",i])\n",
    "        \n",
    "    rmse_model5_test_i = rmse(SES_test[\"Sparkling\"],SES_test[\"predict\",i])\n",
    "    \n",
    "    resultsDf_6 = resultsDf_6.append({\"Alpha Values\":i,\n",
    "                                      \"Train RMSE\": rmse_model5_train_i,\"Test RMSE\":rmse_model5_test_i}, \n",
    "                                     ignore_index=True)\n",
    "    \n",
    "display(SES_test.head().style)\n",
    "\n",
    "display(\"Model Evaluation\", resultsDf_6.sort_values(by=[\"Test RMSE\"],ascending=True))\n",
    "\n"
   ]
  },
  {
   "cell_type": "markdown",
   "id": "afe10bac",
   "metadata": {},
   "source": [
    "## Plot"
   ]
  },
  {
   "cell_type": "code",
   "execution_count": null,
   "id": "8b10c64f",
   "metadata": {
    "ExecuteTime": {
     "end_time": "2021-08-15T13:04:40.198038Z",
     "start_time": "2021-08-15T13:04:39.722164Z"
    }
   },
   "outputs": [],
   "source": [
    "plt.figure(figsize=(18,9))\n",
    "plt.plot(SES_train[\"Sparkling\"], label=\"Train\")\n",
    "plt.plot(SES_test[\"Sparkling\"], label=\"Test\")\n",
    "plt.plot(SES_test[\"predict\"], label=\"Alpha=1 Simple Exponential Smoothing predictions on Test Set\")\n",
    "plt.plot(SES_test[\"predict\", 0.3], label=\"Alpha=0.3 Simple Exponential Smoothing predictions on Test Set\")\n",
    "plt.legend(loc=\"best\")\n",
    "plt.grid()\n",
    "plt.show()"
   ]
  },
  {
   "cell_type": "code",
   "execution_count": null,
   "id": "417b7377",
   "metadata": {
    "ExecuteTime": {
     "end_time": "2021-08-15T13:04:40.214033Z",
     "start_time": "2021-08-15T13:04:40.200032Z"
    }
   },
   "outputs": [],
   "source": [
    "resultsDf_6_1 = pd.DataFrame({\"Test RMSE\": [resultsDf_6.sort_values(by=[\"Test RMSE\"], ascending=True).values[0][2]]},\n",
    "                          index = [\"Alpha=0.4,SimpleExponentialSmoothing\"])\n",
    "\n",
    "resultsDf = pd.concat([resultsDf, resultsDf_6_1])\n",
    "\n",
    "display(resultsDf.style)"
   ]
  },
  {
   "cell_type": "markdown",
   "id": "12f1afb6",
   "metadata": {},
   "source": [
    "# Double exponential smoothening (Holt’s method) – RMSE analysis"
   ]
  },
  {
   "cell_type": "markdown",
   "id": "f6686e96",
   "metadata": {},
   "source": [
    "## RMSE for alpha and beta values"
   ]
  },
  {
   "cell_type": "code",
   "execution_count": null,
   "id": "a79d9286",
   "metadata": {
    "ExecuteTime": {
     "end_time": "2021-08-15T13:04:42.100004Z",
     "start_time": "2021-08-15T13:04:40.216033Z"
    }
   },
   "outputs": [],
   "source": [
    "DES_train = train.copy()\n",
    "DES_test = test.copy()\n",
    "\n",
    "model_DES = Holt(DES_train[\"Sparkling\"])\n",
    "\n",
    "resultsDf_7 = pd.DataFrame({\"Alpha Values\": [], \"Beta Values\": [], \"Train RMSE\": [], \"Test RMSE\": []})\n",
    "\n",
    "alpha_list = [0.3,0.4,0.5,0.6,0.7,0.8,0.9,1.0]\n",
    "beta_list = [0.3,0.4,0.5,0.6,0.7,0.8,0.9,1.0]\n",
    "\n",
    "for i in alpha_list:\n",
    "    for j in beta_list:\n",
    "        model_DES_alpha_i_j = model_DES.fit(smoothing_level=i,smoothing_trend=j)\n",
    "        \n",
    "        DES_train[\"predict\",i,j] = model_DES_alpha_i_j.fittedvalues\n",
    "        DES_test[\"predict\",i,j] = model_DES_alpha_i_j.forecast(steps=len(test))\n",
    "        \n",
    "        rmse_model6_train = rmse(DES_train[\"Sparkling\"],DES_train[\"predict\",i,j])\n",
    "        \n",
    "        rmse_model6_test = rmse(DES_test[\"Sparkling\"],DES_test[\"predict\",i,j])\n",
    "        \n",
    "        resultsDf_7 = resultsDf_7.append({\"Alpha Values\":i,\n",
    "                                          \"Beta Values\":j,\n",
    "                                          \"Train RMSE\": rmse_model6_train,\n",
    "                                          \"Test RMSE\": rmse_model6_test}, ignore_index=True)\n",
    "        \n",
    "display(resultsDf_7.sort_values(by=[\"Test RMSE\"]).head(10))        \n"
   ]
  },
  {
   "cell_type": "code",
   "execution_count": null,
   "id": "e9ce2f13",
   "metadata": {
    "ExecuteTime": {
     "end_time": "2021-08-15T13:04:42.670003Z",
     "start_time": "2021-08-15T13:04:42.103004Z"
    }
   },
   "outputs": [],
   "source": [
    "plt.figure(figsize=(18,9))\n",
    "plt.plot(DES_train[\"Sparkling\"], label=\"Train\")\n",
    "plt.plot(DES_test[\"Sparkling\"], label=\"Test\")\n",
    "\n",
    "plt.plot(DES_test[\"predict\", 0.3, 0.3],  label=\"Alpha=0.3,Beta=0.3,DoubleExponentialSmoothing predictions on Test Set\")\n",
    "plt.legend(loc=\"best\")\n",
    "plt.grid()\n",
    "plt.show()"
   ]
  },
  {
   "cell_type": "code",
   "execution_count": null,
   "id": "c34c9796",
   "metadata": {
    "ExecuteTime": {
     "end_time": "2021-08-15T13:04:42.702003Z",
     "start_time": "2021-08-15T13:04:42.673007Z"
    }
   },
   "outputs": [],
   "source": [
    "resultsDf_7_1 = pd.DataFrame({\"Test RMSE\": [resultsDf_7.sort_values(by=[\"Test RMSE\"]).values[0][3]]}, index=[\"Alpha=0.3,Beta=0.3,DoubleExponentialSmoothing\"])\n",
    "resultsDf = pd.concat([resultsDf, resultsDf_7_1])\n",
    "display(resultsDf)"
   ]
  },
  {
   "cell_type": "markdown",
   "id": "8950dc83",
   "metadata": {},
   "source": [
    "# Triple exponential smoothening (Holt’s winter model) – RMSE analysis"
   ]
  },
  {
   "cell_type": "code",
   "execution_count": null,
   "id": "ed5cec19",
   "metadata": {
    "ExecuteTime": {
     "end_time": "2021-08-15T13:04:43.651976Z",
     "start_time": "2021-08-15T13:04:42.716004Z"
    },
    "scrolled": true
   },
   "outputs": [],
   "source": [
    "TES_train = train.copy()\n",
    "TES_test = test.copy()\n",
    "\n",
    "model_TES = ExponentialSmoothing(TES_train[\"Sparkling\"], trend=\"additive\", seasonal=\"multiplicative\", freq=\"M\")\n",
    "\n",
    "model_TES_autofit = model_TES.fit()\n",
    "\n",
    "display(model_TES_autofit.params)\n",
    "\n",
    "\n",
    "TES_test[\"auto_predict\"] = model_TES_autofit.forecast(steps=len(test)).round(0)\n",
    "display(TES_test.head())\n",
    "\n",
    "plt.figure(figsize=(18,9))\n",
    "plt.plot(TES_train[\"Sparkling\"], label=\"Train\")\n",
    "plt.plot(TES_test[\"Sparkling\"], label=\"Test\")\n",
    "plt.plot(TES_test[\"auto_predict\"], label=\"Alpha=0.146,Beta=0.053,Gamma=0.393,TripleExponentialSmoothing\")\n",
    "plt.legend(loc=\"best\")\n",
    "plt.title(\"Plot with Autofit\")\n",
    "plt.grid()\n",
    "\n",
    "plt.show()\n",
    "\n"
   ]
  },
  {
   "cell_type": "markdown",
   "id": "75f12a28",
   "metadata": {},
   "source": [
    "## RMSE"
   ]
  },
  {
   "cell_type": "code",
   "execution_count": null,
   "id": "0ac9c445",
   "metadata": {
    "ExecuteTime": {
     "end_time": "2021-08-15T13:04:43.683972Z",
     "start_time": "2021-08-15T13:04:43.656974Z"
    }
   },
   "outputs": [],
   "source": [
    "rmse_model6_test_1 = rmse(TES_test[\"Sparkling\"], TES_test[\"auto_predict\"])\n",
    "display(rmse_model6_test_1)\n",
    "\n",
    "resultsDf_8_1 = pd.DataFrame({\"Test RMSE\": [rmse_model6_test_1]}, index=[\"Alpha=0.146,Beta=0.053,Gamma=0.393,TripleExponentialSmoothing\"])\n",
    "resultsDf = pd.concat([resultsDf, resultsDf_8_1])\n",
    "display(resultsDf)"
   ]
  },
  {
   "cell_type": "markdown",
   "id": "d35bd90c",
   "metadata": {},
   "source": [
    "## Identify best alpha, beta and gamma"
   ]
  },
  {
   "cell_type": "code",
   "execution_count": null,
   "id": "5b466273",
   "metadata": {
    "ExecuteTime": {
     "end_time": "2021-08-15T13:05:05.648517Z",
     "start_time": "2021-08-15T13:04:43.686971Z"
    }
   },
   "outputs": [],
   "source": [
    "resultsDf_8_2 = pd.DataFrame({\"Alpha Values\":[],\"Beta Values\":[],\"Gamma Values\":[],\"Train RMSE\":[],\"Test RMSE\": []})\n",
    "\n",
    "\n",
    "gamma_list = [0.3,0.4,0.5,0.6,0.7,0.8,0.9,1.0]\n",
    "\n",
    "\n",
    "for i in alpha_list:\n",
    "    for j in beta_list:\n",
    "        for k in gamma_list:\n",
    "            model_TES_alpha_i_j_k = model_TES.fit(smoothing_level=i,\n",
    "                                                  smoothing_trend=j,\n",
    "                                                  smoothing_seasonal=k)\n",
    "            \n",
    "            TES_train[\"predict\",i,j,k] = model_TES_alpha_i_j_k.fittedvalues\n",
    "            \n",
    "            TES_test[\"predict\",i,j,k] = model_TES_alpha_i_j_k.forecast(steps=len(test))\n",
    "        \n",
    "            rmse_model8_train = rmse(TES_train[\"Sparkling\"],\n",
    "                                     TES_train[\"predict\",i,j,k])\n",
    "            \n",
    "            rmse_model8_test = rmse(TES_test[\"Sparkling\"],\n",
    "                                    TES_test[\"predict\",i,j,k])\n",
    "            \n",
    "            resultsDf_8_2 = resultsDf_8_2.append({\"Alpha Values\":i,\n",
    "                                                  \"Beta Values\":j,\n",
    "                                                  \"Gamma Values\":k,\n",
    "                                                  \"Train RMSE\":rmse_model8_train,\n",
    "                                                  \"Test RMSE\":rmse_model8_test},ignore_index=True)\n",
    "            \n",
    "display(TES_test.head().style)\n",
    "display(resultsDf_8_2.sort_values(by=[\"Test RMSE\"]).head())\n",
    "\n",
    "\n",
    "resultsDf_8_3 = pd.DataFrame({\"Test RMSE\": [resultsDf_8_2.sort_values(by=[\"Test RMSE\"]).values[0][4]]}\n",
    "                           ,index=[\"Alpha=0.7,Beta=0.3,Gamma=0.3,TripleExponentialSmoothing\"])\n",
    "\n",
    "resultsDf = pd.concat([resultsDf, resultsDf_8_3])\n",
    "display(resultsDf.sort_values(by=[\"Test RMSE\"]))\n",
    "\n"
   ]
  },
  {
   "cell_type": "markdown",
   "id": "0c68c106",
   "metadata": {},
   "source": [
    "## Plot SES, DES and TES"
   ]
  },
  {
   "cell_type": "code",
   "execution_count": null,
   "id": "5ca32959",
   "metadata": {
    "ExecuteTime": {
     "end_time": "2021-08-15T13:05:06.314464Z",
     "start_time": "2021-08-15T13:05:05.650517Z"
    }
   },
   "outputs": [],
   "source": [
    "plt.figure(figsize=(18,9))\n",
    "plt.plot(train[\"Sparkling\"], label=\"Train\")\n",
    "plt.plot(test[\"Sparkling\"], label=\"Test\")\n",
    "\n",
    "plt.plot(SES_test[\"predict\"], label=\"Alpha =0.03 Simple Exponential Smoothing predictions on Test Set\")\n",
    "\n",
    "plt.plot(DES_test[\"predict\", 0.3, 0.3], label=\"Alpha=0.3,Beta=0.3,DoubleExponentialSmoothing predictions on Test Set\")\n",
    "\n",
    "plt.plot(TES_test[\"predict\", 0.3, 0.3, 0.3], label=\"Alpha=0.3,Beta=0.3,Gamma=0.3,TripleExponentialSmoothing predictions on Test Set\")\n",
    "\n",
    "plt.legend(loc=\"best\")\n",
    "plt.grid();\n",
    "plt.title(\"Plot of Exponential Smoothing Predictions and the Acutal Values\");\n",
    "plt.show()"
   ]
  },
  {
   "cell_type": "markdown",
   "id": "9830b0de",
   "metadata": {},
   "source": [
    "## Training TES model with full data"
   ]
  },
  {
   "cell_type": "code",
   "execution_count": null,
   "id": "20290fa7",
   "metadata": {
    "ExecuteTime": {
     "end_time": "2021-08-15T13:05:07.235785Z",
     "start_time": "2021-08-15T13:05:06.316464Z"
    }
   },
   "outputs": [],
   "source": [
    "fullmodel1 = ExponentialSmoothing(spdf,trend=\"additive\",seasonal=\"multiplicative\")\n",
    "fullmodel1= fullmodel1.fit(smoothing_level=0.3, smoothing_trend=0.3, smoothing_seasonal=0.3)\n",
    "\n",
    "RMSE_fullmodel1 = rmse(spdf[\"Sparkling\"], fullmodel1.fittedvalues)\n",
    "display(\"RMSE\", RMSE_fullmodel1)\n",
    "\n",
    "prediction_1 = fullmodel1.forecast(steps=len(test))\n",
    "\n",
    "spdf.plot(legend=True, label=\"Actual\")\n",
    "prediction_1.plot(legend=True, label=\"Forecast\")\n",
    "\n",
    "plt.show()\n"
   ]
  },
  {
   "cell_type": "markdown",
   "id": "9e8d1776",
   "metadata": {},
   "source": [
    "## Margin of Error"
   ]
  },
  {
   "cell_type": "code",
   "execution_count": null,
   "id": "91d8fc7d",
   "metadata": {
    "ExecuteTime": {
     "end_time": "2021-08-15T13:05:07.964785Z",
     "start_time": "2021-08-15T13:05:07.237784Z"
    }
   },
   "outputs": [],
   "source": [
    "pred_1_df = pd.DataFrame({\"lower_CI\":prediction_1 - 1.96*fullmodel1.resid.std(),\n",
    "                          \"prediction\":prediction_1,\n",
    "                          \"upper_ci\": prediction_1 + 1.96*fullmodel1.resid.std()})\n",
    "display(pred_1_df.head().style)\n",
    "\n",
    "\n",
    "axis = spdf.plot(label=\"Actual\", figsize=(15,8))\n",
    "pred_1_df[\"prediction\"].plot(ax=axis, label=\"Forecast\", alpha=1) # alpha here is for transparency of the prediction line\n",
    "\n",
    "axis.fill_between(pred_1_df.index, pred_1_df[\"lower_CI\"], pred_1_df[\"upper_ci\"], color=\"green\", alpha=.15) # alpha here denotes the transparency of the shaded region\n",
    "\n",
    "axis.set_xlabel(\"Year-Months\")\n",
    "axis.set_ylabel(\"Sparkling\")\n",
    "plt.legend(loc=\"best\")\n",
    "plt.grid()\n",
    "plt.show();"
   ]
  },
  {
   "cell_type": "markdown",
   "id": "90db0743",
   "metadata": {},
   "source": [
    "# Build ARIMA model with lowest AIC score – test this model on test data using RMSE"
   ]
  },
  {
   "cell_type": "markdown",
   "id": "6256bdb5",
   "metadata": {},
   "source": [
    "## Automated AIC "
   ]
  },
  {
   "cell_type": "code",
   "execution_count": null,
   "id": "97aa73be",
   "metadata": {
    "ExecuteTime": {
     "end_time": "2021-08-15T13:05:13.162400Z",
     "start_time": "2021-08-15T13:05:07.966784Z"
    }
   },
   "outputs": [],
   "source": [
    "import itertools # library for generating all possible combinations of given number sets\n",
    "from statsmodels.tsa.arima_model import ARIMA\n",
    "\n",
    "p = q = range(0, 4)\n",
    "d= range(1,2) # required as itertools product function expects the parameters as range objects, even if it is only value\n",
    "\n",
    "pdq = list(itertools.product(p, d, q))\n",
    " \n",
    "# Creating an empty Dataframe with column names only\n",
    "ARIMA_AIC = pd.DataFrame(columns=[\"Param\", \"AIC\"])\n",
    "ARIMA_AIC\n",
    "\n",
    "for param in pdq:\n",
    "    ARIMA_model = ARIMA(train[\"Sparkling\"], order=param).fit()\n",
    "    \n",
    "    display(f\"ARIMA{param} - AIC:{ARIMA_model.aic}\")\n",
    "    \n",
    "    ARIMA_AIC=ARIMA_AIC.append({\"Param\":param, \"AIC\": ARIMA_model.aic}, ignore_index=True)\n",
    "    \n",
    "display(ARIMA_AIC.sort_values(by=[\"AIC\"],ascending=True))    "
   ]
  },
  {
   "cell_type": "code",
   "execution_count": null,
   "id": "1a7615f4",
   "metadata": {
    "ExecuteTime": {
     "end_time": "2021-08-15T13:05:13.987282Z",
     "start_time": "2021-08-15T13:05:13.164400Z"
    }
   },
   "outputs": [],
   "source": [
    "auto_ARIMA = ARIMA(train[\"Sparkling\"], order=(2,1,2),freq='M')\n",
    "\n",
    "results_auto_ARIMA = auto_ARIMA.fit()\n",
    "\n",
    "display(results_auto_ARIMA.summary())"
   ]
  },
  {
   "cell_type": "markdown",
   "id": "ea5b68ec",
   "metadata": {},
   "source": [
    "## Prediction"
   ]
  },
  {
   "cell_type": "code",
   "execution_count": null,
   "id": "6235bc1e",
   "metadata": {
    "ExecuteTime": {
     "end_time": "2021-08-15T13:05:14.019329Z",
     "start_time": "2021-08-15T13:05:13.989347Z"
    }
   },
   "outputs": [],
   "source": [
    "predicted_auto_ARIMA = results_auto_ARIMA.forecast(steps=len(test))\n",
    "\n",
    "RMSE_autoarima = rmse(test[\"Sparkling\"],predicted_auto_ARIMA[0])\n",
    "display(RMSE_autoarima)\n",
    "\n",
    "resultsDf_arima = pd.DataFrame({'Test RMSE': [RMSE_autoarima]}\n",
    "                           ,index=['ARIMA(2,1,2)'])\n",
    "\n",
    "resultsDf = pd.concat([resultsDf, resultsDf_arima])\n",
    "\n",
    "display(resultsDf)"
   ]
  },
  {
   "cell_type": "markdown",
   "id": "9989639f",
   "metadata": {},
   "source": [
    "## Stationarity check with AdFuller"
   ]
  },
  {
   "cell_type": "code",
   "execution_count": null,
   "id": "470518c0",
   "metadata": {
    "ExecuteTime": {
     "end_time": "2021-08-15T13:05:14.067282Z",
     "start_time": "2021-08-15T13:05:14.021282Z"
    },
    "scrolled": true
   },
   "outputs": [],
   "source": [
    "from statsmodels.tsa.stattools import adfuller\n",
    "\n",
    "display(\"Results of Dickey-Fuller Test:\")\n",
    "dftest = adfuller(spdf[\"Sparkling\"])\n",
    "\n",
    "dfoutput = pd.Series(dftest[0:4], index=[\"Test Statistic\",\"p-value\",\"#Lags Used\",\"Number of Observations Used\"])\n",
    "\n",
    "for key,value in dftest[4].items():\n",
    "        dfoutput[\"Critical Value (%s)\"%key] = value\n",
    "\n",
    "display(dfoutput)\n",
    "display(\"P Value: \", dftest[1], \"H0 rejected and the time series is stationary\")"
   ]
  },
  {
   "cell_type": "markdown",
   "id": "7e4c8772",
   "metadata": {},
   "source": [
    "## Manual Arima using ACF and PACF plots"
   ]
  },
  {
   "cell_type": "code",
   "execution_count": null,
   "id": "34333c44",
   "metadata": {
    "ExecuteTime": {
     "end_time": "2021-08-15T13:05:15.404128Z",
     "start_time": "2021-08-15T13:05:14.069283Z"
    },
    "scrolled": false
   },
   "outputs": [],
   "source": [
    "from statsmodels.graphics.tsaplots import plot_acf, plot_pacf\n",
    "\n",
    "plot_acf(spdf[\"Sparkling\"].diff().dropna(),lags=50,title='Differenced Data Autocorrelation');\n",
    "plot_pacf(spdf[\"Sparkling\"].diff().dropna(),lags=50,title='Differenced Data Partial Autocorrelation');\n",
    "plt.show()\n",
    "\n",
    "display(\"p value from PACF: 3 & q value from ACF: 2\")\n",
    "\n",
    "manual_ARIMA = ARIMA(train[\"Sparkling\"].astype(\"float64\"), order=(3,1,2),freq=\"M\")\n",
    "results_manual_ARIMA = manual_ARIMA.fit()\n",
    "display(results_manual_ARIMA.summary())\n",
    "\n",
    "predicted_manual_ARIMA = results_manual_ARIMA.forecast(steps=len(test))\n",
    "\n",
    "RMSE_manualarima = rmse(test[\"Sparkling\"],\n",
    "                        predicted_manual_ARIMA[0])\n",
    "\n",
    "resultsDf_manual_arima = pd.DataFrame({'Test RMSE': [RMSE_manualarima]}\n",
    "                           ,index=['Manual ARIMA(3,1,2)'])\n",
    "\n",
    "resultsDf = pd.concat([resultsDf, resultsDf_manual_arima])\n",
    "\n",
    "display(resultsDf)"
   ]
  },
  {
   "cell_type": "markdown",
   "id": "0b1e3fcc",
   "metadata": {},
   "source": [
    "# Build SARIMA model with lowest AIC score – test this model on test data using RMSE"
   ]
  },
  {
   "cell_type": "code",
   "execution_count": null,
   "id": "5a5771e6",
   "metadata": {
    "ExecuteTime": {
     "end_time": "2021-08-15T13:05:15.752363Z",
     "start_time": "2021-08-15T13:05:15.408128Z"
    }
   },
   "outputs": [],
   "source": [
    "plot_acf(spdf[\"Sparkling\"].diff().dropna(),lags=50,title=\"Differenced Data Autocorrelation\");\n",
    "plt.show()\n",
    "\n",
    "display(\"Seasonality is observed for 6 and 12\")"
   ]
  },
  {
   "cell_type": "markdown",
   "id": "0bb2ea87",
   "metadata": {},
   "source": [
    "## Automated AIC for seasonality 6"
   ]
  },
  {
   "cell_type": "code",
   "execution_count": null,
   "id": "1c5067de",
   "metadata": {
    "ExecuteTime": {
     "end_time": "2021-08-15T13:05:15.768057Z",
     "start_time": "2021-08-15T13:05:15.754319Z"
    }
   },
   "outputs": [],
   "source": [
    "from  statsmodels.tsa.statespace.sarimax import SARIMAX\n",
    "\n",
    "p = q = range(0, 3)\n",
    "d= range(1,2)\n",
    "D = range(0,1)\n",
    "pdq = list(itertools.product(p, d, q))\n",
    "model_pdq = [(x[0], x[1], x[2], 6) for x in list(itertools.product(p, D, q))] # seasonal PDQ\n",
    "\n",
    "\n",
    "SARIMA_AIC = pd.DataFrame(columns=['param','seasonal', 'AIC'])\n",
    "\n",
    "\n"
   ]
  },
  {
   "cell_type": "code",
   "execution_count": null,
   "id": "7566084f",
   "metadata": {
    "ExecuteTime": {
     "end_time": "2021-08-15T13:06:33.588224Z",
     "start_time": "2021-08-15T13:05:15.772057Z"
    }
   },
   "outputs": [],
   "source": [
    "for param in pdq:\n",
    "    for param_seasonal in model_pdq:\n",
    "        SARIMA_model = SARIMAX(train[\"Sparkling\"],order=param, \n",
    "                               seasonal_order = param_seasonal,enforce_stationarity=False,\n",
    "                               enforce_invertibility=False)\n",
    "            \n",
    "        results_SARIMA = SARIMA_model.fit(maxiter=1000)\n",
    "        \n",
    "        SARIMA_AIC = SARIMA_AIC.append({\"param\":param,\n",
    "                                        \"seasonal\":param_seasonal, \n",
    "                                        \"AIC\": results_SARIMA.aic},\n",
    "                                       ignore_index=True)\n"
   ]
  },
  {
   "cell_type": "code",
   "execution_count": null,
   "id": "0e736f17",
   "metadata": {
    "ExecuteTime": {
     "end_time": "2021-08-15T13:06:33.620225Z",
     "start_time": "2021-08-15T13:06:33.590225Z"
    }
   },
   "outputs": [],
   "source": [
    "SARIMA_AIC.sort_values(by=['AIC']).head()"
   ]
  },
  {
   "cell_type": "code",
   "execution_count": null,
   "id": "5fe5731f",
   "metadata": {
    "ExecuteTime": {
     "end_time": "2021-08-15T13:06:36.000224Z",
     "start_time": "2021-08-15T13:06:33.623226Z"
    }
   },
   "outputs": [],
   "source": [
    "auto_SARIMA_6 = SARIMAX(train[\"Sparkling\"].values,\n",
    "                       order=(1,1,2),\n",
    "                       seasonal_order=(2,0,2,6),\n",
    "                       enforce_stationarity=False,\n",
    "                       enforce_ivertibility=False)\n",
    "results_auto_SARIMA_6 = auto_SARIMA_6.fit(maxiter=1000)\n",
    "display(results_auto_SARIMA_6.summary())"
   ]
  },
  {
   "cell_type": "markdown",
   "id": "6535c4bb",
   "metadata": {},
   "source": [
    "## Prediction on the Test Set and Evaluation"
   ]
  },
  {
   "cell_type": "code",
   "execution_count": null,
   "id": "a6830e54",
   "metadata": {
    "ExecuteTime": {
     "end_time": "2021-08-15T13:06:36.048224Z",
     "start_time": "2021-08-15T13:06:36.002225Z"
    }
   },
   "outputs": [],
   "source": [
    "predicted_auto_SARIMA_6 = results_auto_SARIMA_6.get_forecast(steps=len(test))\n",
    "\n",
    "display(predicted_auto_SARIMA_6.summary_frame(alpha=0.05).head())\n",
    "\n",
    "rmse_autosarima6 = rmse(test[\"Sparkling\"], predicted_auto_SARIMA_6.predicted_mean)\n",
    "display(rmse_autosarima6)\n",
    "\n",
    "temp_resultsDf = pd.DataFrame({\"Test RMSE\" : [rmse_autosarima6]}, index = [\"SARIMA(1,1,2)(2,0,2,6)\"])\n",
    "resultsDf = pd.concat([resultsDf, temp_resultsDf])\n",
    "\n",
    "display(resultsDf)\n"
   ]
  },
  {
   "cell_type": "markdown",
   "id": "cfe6d589",
   "metadata": {
    "ExecuteTime": {
     "end_time": "2021-08-11T23:33:26.560064Z",
     "start_time": "2021-08-11T23:33:07.932Z"
    }
   },
   "source": [
    "## Automated AIC for 12 Seasonality"
   ]
  },
  {
   "cell_type": "code",
   "execution_count": null,
   "id": "2ba34899",
   "metadata": {
    "ExecuteTime": {
     "end_time": "2021-08-15T13:06:36.064225Z",
     "start_time": "2021-08-15T13:06:36.050225Z"
    }
   },
   "outputs": [],
   "source": [
    "p = q = range(0, 3)\n",
    "d= range(1,2)\n",
    "D = range(0,1)\n",
    "pdq = list(itertools.product(p, d, q))\n",
    "model_pdq = [(x[0], x[1], x[2], 12) for x in list(itertools.product(p, D, q))]\n",
    "\n",
    "\n",
    "SARIMA_AIC = pd.DataFrame(columns=['param','seasonal', 'AIC'])\n"
   ]
  },
  {
   "cell_type": "code",
   "execution_count": null,
   "id": "fc3c9829",
   "metadata": {
    "ExecuteTime": {
     "end_time": "2021-08-15T13:09:42.492757Z",
     "start_time": "2021-08-15T13:06:36.066225Z"
    }
   },
   "outputs": [],
   "source": [
    "\n",
    "for param in pdq:\n",
    "    for param_seasonal in model_pdq:\n",
    "        SARIMA_model =SARIMAX(train[\"Sparkling\"],\n",
    "                                            order=param,\n",
    "                                            seasonal_order = param_seasonal,\n",
    "                                            enforce_stationarity=False,\n",
    "                                            enforce_invertibility=False)\n",
    "            \n",
    "        results_SARIMA = SARIMA_model.fit(maxiter=1000)\n",
    "        \n",
    "        SARIMA_AIC = SARIMA_AIC.append({\"param\":param,\n",
    "                                        \"seasonal\":param_seasonal, \n",
    "                                        \"AIC\": results_SARIMA.aic},\n",
    "                                       ignore_index=True)"
   ]
  },
  {
   "cell_type": "code",
   "execution_count": null,
   "id": "8c59eadf",
   "metadata": {
    "ExecuteTime": {
     "end_time": "2021-08-15T13:09:42.522758Z",
     "start_time": "2021-08-15T13:09:42.494759Z"
    }
   },
   "outputs": [],
   "source": [
    "SARIMA_AIC.sort_values(by=[\"AIC\"]).head()"
   ]
  },
  {
   "cell_type": "code",
   "execution_count": null,
   "id": "7bc56da9",
   "metadata": {
    "ExecuteTime": {
     "end_time": "2021-08-15T13:09:54.082757Z",
     "start_time": "2021-08-15T13:09:42.525758Z"
    }
   },
   "outputs": [],
   "source": [
    "auto_SARIMA_12 =SARIMAX(train[\"Sparkling\"],\n",
    "                                order=(1, 1, 2),\n",
    "                                seasonal_order=(2, 0, 2, 12),\n",
    "                                enforce_stationarity=False,\n",
    "                                enforce_invertibility=False)\n",
    "\n",
    "results_auto_SARIMA_12 = auto_SARIMA_12.fit(maxiter=1000)\n",
    "\n",
    "display(results_auto_SARIMA_12.summary())"
   ]
  },
  {
   "cell_type": "markdown",
   "id": "e3e335e8",
   "metadata": {},
   "source": [
    "## Predict on the Test Set and Evaluation"
   ]
  },
  {
   "cell_type": "code",
   "execution_count": null,
   "id": "7a1ae945",
   "metadata": {
    "ExecuteTime": {
     "end_time": "2021-08-15T13:09:54.161757Z",
     "start_time": "2021-08-15T13:09:54.085759Z"
    }
   },
   "outputs": [],
   "source": [
    "predicted_auto_SARIMA_12 = results_auto_SARIMA_12.get_forecast(steps=len(test))\n",
    "\n",
    "display(predicted_auto_SARIMA_12.summary_frame(alpha=0.05).head())\n",
    "\n",
    "rmse_autosarima12 = rmse(test[\"Sparkling\"], predicted_auto_SARIMA_12.predicted_mean)\n",
    "\n",
    "display(\"RMSE\", rmse_autosarima12)\n",
    "\n",
    "temp_resultsDf = pd.DataFrame({\"Test RMSE\": [rmse_autosarima12]}, index=['SARIMA(1,1,2)(2,0,2,12)'])\n",
    "\n",
    "resultsDf = pd.concat([resultsDf, temp_resultsDf])\n",
    "\n",
    "display(resultsDf)\n"
   ]
  },
  {
   "cell_type": "markdown",
   "id": "b51e593e",
   "metadata": {},
   "source": [
    "## Manual SARIMA model - Best Params seleced from ACF and PACF plots "
   ]
  },
  {
   "cell_type": "code",
   "execution_count": null,
   "id": "2788fc76",
   "metadata": {
    "ExecuteTime": {
     "end_time": "2021-08-15T13:09:54.938757Z",
     "start_time": "2021-08-15T13:09:54.164758Z"
    },
    "scrolled": false
   },
   "outputs": [],
   "source": [
    "plot_acf(spdf[\"Sparkling\"].diff().dropna(), lags=50, title=\"Differenced Data Autocorrelation\")\n",
    "plot_pacf(spdf[\"Sparkling\"].diff().dropna(), lags=50, title=\"Differenced Data Partial Autocorrelation\")\n",
    "\n",
    "plt.show()"
   ]
  },
  {
   "cell_type": "code",
   "execution_count": null,
   "id": "0122988a",
   "metadata": {
    "ExecuteTime": {
     "end_time": "2021-08-15T13:09:55.966749Z",
     "start_time": "2021-08-15T13:09:54.940758Z"
    }
   },
   "outputs": [],
   "source": [
    "spdf.plot()\n",
    "plt.grid()\n",
    "plt.show()\n",
    "\n",
    "(spdf[\"Sparkling\"].diff(6)).plot()\n",
    "plt.grid()\n",
    "plt.show()"
   ]
  },
  {
   "cell_type": "markdown",
   "id": "41775024",
   "metadata": {},
   "source": [
    "We see that there might be a slight trend which can be noticed in the data. So we take a differencing of first order on the seasonally differenced series."
   ]
  },
  {
   "cell_type": "code",
   "execution_count": null,
   "id": "ab1792f8",
   "metadata": {
    "ExecuteTime": {
     "end_time": "2021-08-15T13:09:56.499743Z",
     "start_time": "2021-08-15T13:09:55.968745Z"
    }
   },
   "outputs": [],
   "source": [
    "(spdf[\"Sparkling\"].diff(6)).diff().plot()\n",
    "plt.grid()\n",
    "plt.show()"
   ]
  },
  {
   "cell_type": "markdown",
   "id": "53328682",
   "metadata": {},
   "source": [
    "check the stationarity of the above series before fitting the SARIMA model."
   ]
  },
  {
   "cell_type": "markdown",
   "id": "78d01b76",
   "metadata": {},
   "source": [
    "## Stationarity Check"
   ]
  },
  {
   "cell_type": "code",
   "execution_count": null,
   "id": "be3b187e",
   "metadata": {
    "ExecuteTime": {
     "end_time": "2021-08-15T13:09:56.530744Z",
     "start_time": "2021-08-15T13:09:56.502743Z"
    }
   },
   "outputs": [],
   "source": [
    "adfuller(train[\"Sparkling\"])[1]"
   ]
  },
  {
   "cell_type": "markdown",
   "id": "d4daeb0d",
   "metadata": {},
   "source": [
    "Here, we have taken alpha=0.05.\n",
    "\n",
    "We are going to take the seasonal period as 6. We will keep the p(0) and q(0) parameters same as the ARIMA model.\n",
    "\n",
    "The Auto-Regressive parameter in an SARIMA model is 'P' which comes from the significant lag after which the PACF plot cuts-off to 2.\n",
    "The Moving-Average parameter in an SARIMA model is 'Q' which comes from the significant lag after which the ACF plot cuts-off to 2. "
   ]
  },
  {
   "cell_type": "markdown",
   "id": "19eaa048",
   "metadata": {},
   "source": [
    "## Manual SARIMA 6"
   ]
  },
  {
   "cell_type": "code",
   "execution_count": null,
   "id": "70fd95f5",
   "metadata": {
    "ExecuteTime": {
     "end_time": "2021-08-15T13:10:17.937005Z",
     "start_time": "2021-08-15T13:09:56.532745Z"
    }
   },
   "outputs": [],
   "source": [
    "manual_SARIMA_6 = SARIMAX(train[\"Sparkling\"],\n",
    "                         order=(3,1,2),\n",
    "                         seasonal_order=(3,1,2,6),\n",
    "                         enforce_stationarity=False,\n",
    "                         enforce_invertibility=False)\n",
    "results_manual_SARIMA_6 = manual_SARIMA_6.fit(maxiter=1000)\n",
    "display(results_manual_SARIMA_6.summary())"
   ]
  },
  {
   "cell_type": "markdown",
   "id": "a3bda8a4",
   "metadata": {},
   "source": [
    "## Manual SARIMA 12"
   ]
  },
  {
   "cell_type": "code",
   "execution_count": null,
   "id": "e06868d9",
   "metadata": {
    "ExecuteTime": {
     "end_time": "2021-08-15T13:10:29.014879Z",
     "start_time": "2021-08-15T13:10:17.939005Z"
    }
   },
   "outputs": [],
   "source": [
    "manual_SARIMA_12 = SARIMAX(train[\"Sparkling\"],\n",
    "                         order=(3,1,2),\n",
    "                         seasonal_order=(3,1,2,12),\n",
    "                         enforce_stationarity=False,\n",
    "                         enforce_invertibility=False)\n",
    "results_manual_SARIMA_12 = manual_SARIMA_12.fit(maxiter=1000)\n",
    "display(results_manual_SARIMA_12.summary())"
   ]
  },
  {
   "cell_type": "markdown",
   "id": "b6336168",
   "metadata": {},
   "source": [
    "## Prediction on the Test Set and Evaluation"
   ]
  },
  {
   "cell_type": "code",
   "execution_count": null,
   "id": "6e04ce8c",
   "metadata": {
    "ExecuteTime": {
     "end_time": "2021-08-15T13:10:29.110897Z",
     "start_time": "2021-08-15T13:10:29.016880Z"
    }
   },
   "outputs": [],
   "source": [
    "predicted_manual_SARIMA_6 = results_manual_SARIMA_6.get_forecast(steps=len(test))\n",
    "\n",
    "display(predicted_manual_SARIMA_6.summary_frame(alpha=0.05).head())\n",
    "\n",
    "\n",
    "rmse_manualsarima6 = rmse(test[\"Sparkling\"], predicted_manual_SARIMA_6.predicted_mean)\n",
    "display(\"Test RMSE Manual SARIMA 6\", rmse_manualsarima6)\n",
    "\n",
    "temp_resultsDf = pd.DataFrame({\"Test RMSE\": [rmse_manualsarima6]}, index=[\"SARIMA(3,1,2)(3,1,2,6)\"])\n",
    "\n",
    "resultsDf = pd.concat([resultsDf, temp_resultsDf])\n",
    "\n",
    "\n",
    "predicted_manual_SARIMA_12 = results_manual_SARIMA_12.get_forecast(steps=len(test))\n",
    "\n",
    "display(predicted_manual_SARIMA_12.summary_frame(alpha=0.05).head())\n",
    "\n",
    "\n",
    "rmse_manualsarima12 = rmse(test[\"Sparkling\"], predicted_manual_SARIMA_12.predicted_mean)\n",
    "display(\"Test RMSE Manual SARIMA 12\",rmse_manualsarima12)\n",
    "\n",
    "temp_resultsDf = pd.DataFrame({\"Test RMSE\": [rmse_manualsarima12]}, index=[\"SARIMA(3,1,2)(3,1,2,12)\"])\n",
    "\n",
    "resultsDf = pd.concat([resultsDf, temp_resultsDf])"
   ]
  },
  {
   "cell_type": "markdown",
   "id": "5790c2a8",
   "metadata": {},
   "source": [
    "# Build table with all the above models with RMSE scores"
   ]
  },
  {
   "cell_type": "code",
   "execution_count": null,
   "id": "85df9b28",
   "metadata": {
    "ExecuteTime": {
     "end_time": "2021-08-15T13:10:29.142880Z",
     "start_time": "2021-08-15T13:10:29.113880Z"
    },
    "scrolled": false
   },
   "outputs": [],
   "source": [
    "display(resultsDf.sort_values(by=[\"Test RMSE\"],ascending=True))"
   ]
  },
  {
   "cell_type": "code",
   "execution_count": null,
   "id": "bb62c0c7",
   "metadata": {
    "ExecuteTime": {
     "end_time": "2021-08-15T13:10:29.713907Z",
     "start_time": "2021-08-15T13:10:29.145880Z"
    }
   },
   "outputs": [],
   "source": [
    "res_df = pd.DataFrame({'columns': resultsDf.index, 'Test RMSE': resultsDf[\"Test RMSE\"]})\n",
    "sorted_resDf_values = res_df.sort_values('Test RMSE', ascending=True)\n",
    "plt.figure(figsize=(10,10))\n",
    "sns.barplot(x='Test RMSE', y='columns', data=sorted_resDf_values)\n",
    "plt.xlabel('Test RMSE for all models')\n",
    "plt.ylabel('Model')\n",
    "plt.title('Best Models')\n",
    "plt.show()"
   ]
  },
  {
   "cell_type": "markdown",
   "id": "fca6a84c",
   "metadata": {},
   "source": [
    "## Build most optimum model on the Full Data"
   ]
  },
  {
   "cell_type": "code",
   "execution_count": null,
   "id": "741bf1f1",
   "metadata": {
    "ExecuteTime": {
     "end_time": "2021-08-15T13:10:52.385232Z",
     "start_time": "2021-08-15T13:10:29.715905Z"
    }
   },
   "outputs": [],
   "source": [
    "full_data_model = SARIMAX(spdf[\"Sparkling\"], order=(3,1,2), seasonal_order=(3,1,2,12),\n",
    "                         enforce_stationarity=False,\n",
    "                         enforce_invertibility=False)\n",
    "results_full_data_model = full_data_model.fit(maxiter=1000)\n",
    "display(results_full_data_model.summary())"
   ]
  },
  {
   "cell_type": "markdown",
   "id": "656ce137",
   "metadata": {},
   "source": [
    "# Use optimal model with lowest RMSE to predict 12 months into future with a plot and confidence intervals"
   ]
  },
  {
   "cell_type": "code",
   "execution_count": null,
   "id": "4551a00c",
   "metadata": {
    "ExecuteTime": {
     "end_time": "2021-08-15T13:10:52.449237Z",
     "start_time": "2021-08-15T13:10:52.387231Z"
    }
   },
   "outputs": [],
   "source": [
    "predicted_manual_SARIMA_12_full_data = results_full_data_model.get_forecast(steps=12)\n",
    "\n",
    "display(predicted_manual_SARIMA_12_full_data.summary_frame(alpha=0.05).head())\n",
    "\n",
    "rmse_full_data = rmse(spdf[\"Sparkling\"], results_full_data_model.fittedvalues)\n",
    "display(rmse_full_data)"
   ]
  },
  {
   "cell_type": "code",
   "execution_count": null,
   "id": "914e8136",
   "metadata": {
    "ExecuteTime": {
     "end_time": "2021-08-15T13:10:52.465232Z",
     "start_time": "2021-08-15T13:10:52.452231Z"
    }
   },
   "outputs": [],
   "source": [
    "pred_full_manual_SARIMA_data = predicted_manual_SARIMA_12_full_data.summary_frame(alpha=0.05).set_index(pd.date_range(start=\"1995-08-31\", end=\"1996-07-31\", freq=\"M\"))"
   ]
  },
  {
   "cell_type": "code",
   "execution_count": null,
   "id": "cbc849bd",
   "metadata": {
    "ExecuteTime": {
     "end_time": "2021-08-15T13:10:52.989320Z",
     "start_time": "2021-08-15T13:10:52.468232Z"
    }
   },
   "outputs": [],
   "source": [
    "axis = spdf[\"Sparkling\"].plot(label=\"Observed\")\n",
    "\n",
    "pred_full_manual_SARIMA_data[\"mean\"].plot(ax=axis, label=\"Forecast\", alpha=0.7)\n",
    "\n",
    "axis.fill_between(pred_full_manual_SARIMA_data.index,\n",
    "                 pred_full_manual_SARIMA_data[\"mean_ci_lower\"],\n",
    "                 pred_full_manual_SARIMA_data[\"mean_ci_upper\"],\n",
    "                 color=\"green\",\n",
    "                 alpha=0.15)\n",
    "\n",
    "axis.set_xlabel(\"Year-Months\")\n",
    "axis.set_ylabel(\"Sparkling\")\n",
    "plt.title(\"Prediction for future 12 months\")\n",
    "plt.legend(loc=\"best\")\n",
    "plt.show()\n"
   ]
  },
  {
   "cell_type": "code",
   "execution_count": null,
   "id": "55eb2a61",
   "metadata": {},
   "outputs": [],
   "source": []
  }
 ],
 "metadata": {
  "kernelspec": {
   "display_name": "Python 3",
   "language": "python",
   "name": "python3"
  },
  "language_info": {
   "codemirror_mode": {
    "name": "ipython",
    "version": 3
   },
   "file_extension": ".py",
   "mimetype": "text/x-python",
   "name": "python",
   "nbconvert_exporter": "python",
   "pygments_lexer": "ipython3",
   "version": "3.8.11"
  },
  "toc": {
   "base_numbering": 1,
   "nav_menu": {},
   "number_sections": true,
   "sideBar": true,
   "skip_h1_title": false,
   "title_cell": "Table of Contents",
   "title_sidebar": "Contents",
   "toc_cell": false,
   "toc_position": {
    "height": "calc(100% - 180px)",
    "left": "10px",
    "top": "150px",
    "width": "241.009px"
   },
   "toc_section_display": true,
   "toc_window_display": true
  }
 },
 "nbformat": 4,
 "nbformat_minor": 5
}
