{
 "cells": [
  {
   "cell_type": "code",
   "execution_count": null,
   "id": "02475b0e",
   "metadata": {
    "ExecuteTime": {
     "end_time": "2021-08-15T13:45:17.351980Z",
     "start_time": "2021-08-15T13:45:17.329027Z"
    }
   },
   "outputs": [],
   "source": [
    "import numpy as np\n",
    "import pandas as pd\n",
    "import seaborn as sns\n",
    "from matplotlib import pyplot as plt\n",
    "import warnings\n",
    "warnings.filterwarnings(\"ignore\")\n",
    "sns.set()\n",
    "from IPython.display import display"
   ]
  },
  {
   "cell_type": "code",
   "execution_count": null,
   "id": "84451e9c",
   "metadata": {
    "ExecuteTime": {
     "end_time": "2021-08-15T13:45:17.367980Z",
     "start_time": "2021-08-15T13:45:17.354980Z"
    }
   },
   "outputs": [],
   "source": [
    "rdf = pd.read_csv(\"Rose.csv\")"
   ]
  },
  {
   "cell_type": "markdown",
   "id": "998398cd",
   "metadata": {},
   "source": [
    "# Data definition"
   ]
  },
  {
   "cell_type": "code",
   "execution_count": null,
   "id": "34078d19",
   "metadata": {
    "ExecuteTime": {
     "end_time": "2021-08-15T13:45:17.383981Z",
     "start_time": "2021-08-15T13:45:17.371981Z"
    }
   },
   "outputs": [],
   "source": [
    "rdf.info()"
   ]
  },
  {
   "cell_type": "code",
   "execution_count": null,
   "id": "37c83553",
   "metadata": {
    "ExecuteTime": {
     "end_time": "2021-08-15T13:45:17.415982Z",
     "start_time": "2021-08-15T13:45:17.386980Z"
    }
   },
   "outputs": [],
   "source": [
    "rdf.describe()"
   ]
  },
  {
   "cell_type": "markdown",
   "id": "f82fa424",
   "metadata": {},
   "source": [
    "# Data description\n"
   ]
  },
  {
   "cell_type": "code",
   "execution_count": null,
   "id": "2ed36147",
   "metadata": {
    "ExecuteTime": {
     "end_time": "2021-08-15T13:45:17.431981Z",
     "start_time": "2021-08-15T13:45:17.417982Z"
    }
   },
   "outputs": [],
   "source": [
    "rdf.head()"
   ]
  },
  {
   "cell_type": "code",
   "execution_count": null,
   "id": "0386c793",
   "metadata": {
    "ExecuteTime": {
     "end_time": "2021-08-15T13:45:17.447980Z",
     "start_time": "2021-08-15T13:45:17.434981Z"
    }
   },
   "outputs": [],
   "source": [
    "rdf.tail()"
   ]
  },
  {
   "cell_type": "code",
   "execution_count": null,
   "id": "a65dd553",
   "metadata": {
    "ExecuteTime": {
     "end_time": "2021-08-15T13:45:17.463981Z",
     "start_time": "2021-08-15T13:45:17.449981Z"
    }
   },
   "outputs": [],
   "source": [
    "rdf[rdf[\"Rose\"].isnull()]"
   ]
  },
  {
   "cell_type": "code",
   "execution_count": null,
   "id": "379d7f6e",
   "metadata": {
    "ExecuteTime": {
     "end_time": "2021-08-15T13:45:17.479981Z",
     "start_time": "2021-08-15T13:45:17.467980Z"
    }
   },
   "outputs": [],
   "source": [
    "rdf = rdf.interpolate()"
   ]
  },
  {
   "cell_type": "code",
   "execution_count": null,
   "id": "bfebedb2",
   "metadata": {
    "ExecuteTime": {
     "end_time": "2021-08-15T13:45:17.495983Z",
     "start_time": "2021-08-15T13:45:17.483981Z"
    }
   },
   "outputs": [],
   "source": [
    "rdf[rdf[\"Rose\"].isnull()]"
   ]
  },
  {
   "cell_type": "markdown",
   "id": "c0ffcc4b",
   "metadata": {},
   "source": [
    "## Organize dataset"
   ]
  },
  {
   "cell_type": "code",
   "execution_count": null,
   "id": "70ad9c3d",
   "metadata": {
    "ExecuteTime": {
     "end_time": "2021-08-15T13:45:17.527982Z",
     "start_time": "2021-08-15T13:45:17.498981Z"
    }
   },
   "outputs": [],
   "source": [
    "Date = pd.date_range(start=\"1980-01-01\", periods=187, freq=\"M\")\n",
    "Date"
   ]
  },
  {
   "cell_type": "code",
   "execution_count": null,
   "id": "fc1b7af6",
   "metadata": {
    "ExecuteTime": {
     "end_time": "2021-08-15T13:45:17.543979Z",
     "start_time": "2021-08-15T13:45:17.529981Z"
    }
   },
   "outputs": [],
   "source": [
    "rdf[\"Date\"] = Date"
   ]
  },
  {
   "cell_type": "code",
   "execution_count": null,
   "id": "a66989de",
   "metadata": {
    "ExecuteTime": {
     "end_time": "2021-08-15T13:45:17.559980Z",
     "start_time": "2021-08-15T13:45:17.545993Z"
    }
   },
   "outputs": [],
   "source": [
    "rdf.drop(\"YearMonth\", axis=1, inplace=True)"
   ]
  },
  {
   "cell_type": "code",
   "execution_count": null,
   "id": "8fa5909a",
   "metadata": {
    "ExecuteTime": {
     "end_time": "2021-08-15T13:45:17.575980Z",
     "start_time": "2021-08-15T13:45:17.561981Z"
    }
   },
   "outputs": [],
   "source": [
    "rdf.set_index(\"Date\", inplace=True)"
   ]
  },
  {
   "cell_type": "code",
   "execution_count": null,
   "id": "495bb329",
   "metadata": {
    "ExecuteTime": {
     "end_time": "2021-08-15T13:45:17.591982Z",
     "start_time": "2021-08-15T13:45:17.577981Z"
    }
   },
   "outputs": [],
   "source": [
    "rdf.head()"
   ]
  },
  {
   "cell_type": "code",
   "execution_count": null,
   "id": "cf07275c",
   "metadata": {
    "ExecuteTime": {
     "end_time": "2021-08-15T13:45:17.607981Z",
     "start_time": "2021-08-15T13:45:17.594980Z"
    }
   },
   "outputs": [],
   "source": [
    "rdf.index.freq = \"M\""
   ]
  },
  {
   "cell_type": "markdown",
   "id": "1b930b02",
   "metadata": {},
   "source": [
    "# Time series plot"
   ]
  },
  {
   "cell_type": "code",
   "execution_count": null,
   "id": "dc1abe82",
   "metadata": {
    "ExecuteTime": {
     "end_time": "2021-08-15T13:45:17.623982Z",
     "start_time": "2021-08-15T13:45:17.610981Z"
    }
   },
   "outputs": [],
   "source": [
    "from pylab import rcParams # or we can write plt.rcParams['figure.figsize'] = 15,8\n",
    "rcParams['figure.figsize'] = 15,8"
   ]
  },
  {
   "cell_type": "code",
   "execution_count": null,
   "id": "52fe6e71",
   "metadata": {
    "ExecuteTime": {
     "end_time": "2021-08-15T13:45:18.131933Z",
     "start_time": "2021-08-15T13:45:17.625981Z"
    }
   },
   "outputs": [],
   "source": [
    "rdf.plot()\n",
    "plt.show()"
   ]
  },
  {
   "cell_type": "markdown",
   "id": "19919347",
   "metadata": {},
   "source": [
    "# Box plot"
   ]
  },
  {
   "cell_type": "markdown",
   "id": "095b64ba",
   "metadata": {},
   "source": [
    "## Yearly box plot"
   ]
  },
  {
   "cell_type": "code",
   "execution_count": null,
   "id": "5d9aee25",
   "metadata": {
    "ExecuteTime": {
     "end_time": "2021-08-15T13:45:19.095973Z",
     "start_time": "2021-08-15T13:45:18.133933Z"
    }
   },
   "outputs": [],
   "source": [
    "sns.boxplot(x = rdf.index.year, y = rdf[\"Rose\"])\n",
    "plt.xlabel('Year')\n",
    "plt.show()"
   ]
  },
  {
   "cell_type": "markdown",
   "id": "42d06e8a",
   "metadata": {},
   "source": [
    "## Monthly box plot"
   ]
  },
  {
   "cell_type": "code",
   "execution_count": null,
   "id": "e8ed2fd3",
   "metadata": {
    "ExecuteTime": {
     "end_time": "2021-08-15T13:45:19.728989Z",
     "start_time": "2021-08-15T13:45:19.102973Z"
    }
   },
   "outputs": [],
   "source": [
    "sns.boxplot(x = rdf.index.month_name(), y = rdf[\"Rose\"])\n",
    "plt.xlabel('Month')\n",
    "plt.show()"
   ]
  },
  {
   "cell_type": "markdown",
   "id": "6767cd06",
   "metadata": {},
   "source": [
    "## Monthly sales for Rose Wine across years for each month"
   ]
  },
  {
   "cell_type": "code",
   "execution_count": null,
   "id": "96c6f5f1",
   "metadata": {
    "ExecuteTime": {
     "end_time": "2021-08-15T13:45:19.744981Z",
     "start_time": "2021-08-15T13:45:19.732982Z"
    }
   },
   "outputs": [],
   "source": [
    "from statsmodels.graphics.tsaplots import month_plot"
   ]
  },
  {
   "cell_type": "code",
   "execution_count": null,
   "id": "527b79b2",
   "metadata": {
    "ExecuteTime": {
     "end_time": "2021-08-15T13:45:20.247069Z",
     "start_time": "2021-08-15T13:45:19.746981Z"
    },
    "scrolled": true
   },
   "outputs": [],
   "source": [
    "month_plot(rdf, ylabel=\"Rose Wine Sales\")"
   ]
  },
  {
   "cell_type": "markdown",
   "id": "d8b623c2",
   "metadata": {
    "ExecuteTime": {
     "end_time": "2021-08-07T22:37:51.112285Z",
     "start_time": "2021-08-07T22:37:51.106284Z"
    }
   },
   "source": [
    "# Decompose the Time Series"
   ]
  },
  {
   "cell_type": "code",
   "execution_count": null,
   "id": "9f2e7f38",
   "metadata": {
    "ExecuteTime": {
     "end_time": "2021-08-15T13:45:20.263069Z",
     "start_time": "2021-08-15T13:45:20.249068Z"
    }
   },
   "outputs": [],
   "source": [
    "from statsmodels.tsa.seasonal import seasonal_decompose"
   ]
  },
  {
   "cell_type": "code",
   "execution_count": null,
   "id": "0efcb516",
   "metadata": {
    "ExecuteTime": {
     "end_time": "2021-08-15T13:45:21.997003Z",
     "start_time": "2021-08-15T13:45:20.265068Z"
    }
   },
   "outputs": [],
   "source": [
    "decomposition = seasonal_decompose(rdf, model=\"multiplicative\")\n",
    "decomposition.plot()\n",
    "plt.show()"
   ]
  },
  {
   "cell_type": "markdown",
   "id": "53e00589",
   "metadata": {},
   "source": [
    "## Trend, Seasonality and Residual"
   ]
  },
  {
   "cell_type": "code",
   "execution_count": null,
   "id": "c1415654",
   "metadata": {
    "ExecuteTime": {
     "end_time": "2021-08-15T13:45:22.013005Z",
     "start_time": "2021-08-15T13:45:21.998002Z"
    }
   },
   "outputs": [],
   "source": [
    "trend = decomposition.trend\n",
    "seasonality = decomposition.seasonal\n",
    "residual = decomposition.resid\n",
    "\n",
    "print(\"Trend\", \"\\n\", trend.head(12), \"\\n\")\n",
    "print(\"Seasonality\", \"\\n\", seasonality.head(12), \"\\n\")\n",
    "print(\"Residual\", \"\\n\", residual.head(12), \"\\n\")"
   ]
  },
  {
   "cell_type": "markdown",
   "id": "ce61a5ad",
   "metadata": {},
   "source": [
    "# Train test split & plot"
   ]
  },
  {
   "cell_type": "code",
   "execution_count": null,
   "id": "ff2d74fd",
   "metadata": {
    "ExecuteTime": {
     "end_time": "2021-08-15T13:45:22.029003Z",
     "start_time": "2021-08-15T13:45:22.016002Z"
    }
   },
   "outputs": [],
   "source": [
    "train = rdf[rdf.index.year < 1991]\n",
    "test = rdf[rdf.index.year >= 1991]"
   ]
  },
  {
   "cell_type": "code",
   "execution_count": null,
   "id": "494f8ebe",
   "metadata": {
    "ExecuteTime": {
     "end_time": "2021-08-15T13:45:22.044856Z",
     "start_time": "2021-08-15T13:45:22.031003Z"
    }
   },
   "outputs": [],
   "source": [
    "print(train)\n",
    "print(test)"
   ]
  },
  {
   "cell_type": "code",
   "execution_count": null,
   "id": "c0b305f1",
   "metadata": {
    "ExecuteTime": {
     "end_time": "2021-08-15T13:45:22.060003Z",
     "start_time": "2021-08-15T13:45:22.047004Z"
    }
   },
   "outputs": [],
   "source": [
    "train.shape, test.shape"
   ]
  },
  {
   "cell_type": "code",
   "execution_count": null,
   "id": "0d10ac31",
   "metadata": {
    "ExecuteTime": {
     "end_time": "2021-08-15T13:45:22.647969Z",
     "start_time": "2021-08-15T13:45:22.063003Z"
    }
   },
   "outputs": [],
   "source": [
    "train[\"Rose\"].plot(legend = True, label = \"Train\", fontsize = 14)\n",
    "test[\"Rose\"].plot(legend = True, label = \"Test\", fontsize = 14)\n",
    "plt.show()"
   ]
  },
  {
   "cell_type": "markdown",
   "id": "b4e29f28",
   "metadata": {},
   "source": [
    "# Linear regression model – RMSE"
   ]
  },
  {
   "cell_type": "markdown",
   "id": "824008f0",
   "metadata": {},
   "source": [
    "We are going to regress the \"Rose\" variable against the order of the occurrence. For this we need to modify our training data before fitting it into a linear regression."
   ]
  },
  {
   "cell_type": "code",
   "execution_count": null,
   "id": "19171b20",
   "metadata": {
    "ExecuteTime": {
     "end_time": "2021-08-15T13:45:22.663917Z",
     "start_time": "2021-08-15T13:45:22.649916Z"
    }
   },
   "outputs": [],
   "source": [
    "train_time  = [i + 1 for i in range(len(train))]\n",
    "test_time  = [i + 133 for i in range(len(test))]\n",
    "\n",
    "print(\"Train Length:\", len(train), \"Test Length:\", len(test))"
   ]
  },
  {
   "cell_type": "code",
   "execution_count": null,
   "id": "d4bf1933",
   "metadata": {
    "ExecuteTime": {
     "end_time": "2021-08-15T13:45:22.679915Z",
     "start_time": "2021-08-15T13:45:22.666916Z"
    }
   },
   "outputs": [],
   "source": [
    "LinearRegression_train = train.copy()\n",
    "LinearRegression_test = test.copy()"
   ]
  },
  {
   "cell_type": "code",
   "execution_count": null,
   "id": "a5f14ba6",
   "metadata": {
    "ExecuteTime": {
     "end_time": "2021-08-15T13:45:22.695921Z",
     "start_time": "2021-08-15T13:45:22.682916Z"
    }
   },
   "outputs": [],
   "source": [
    "LinearRegression_train['time'] = train_time\n",
    "LinearRegression_test['time'] = test_time"
   ]
  },
  {
   "cell_type": "code",
   "execution_count": null,
   "id": "30b5c425",
   "metadata": {
    "ExecuteTime": {
     "end_time": "2021-08-15T13:45:22.727921Z",
     "start_time": "2021-08-15T13:45:22.699916Z"
    }
   },
   "outputs": [],
   "source": [
    "display(LinearRegression_train.head())\n",
    "display(LinearRegression_train.tail())"
   ]
  },
  {
   "cell_type": "code",
   "execution_count": null,
   "id": "aa44ef53",
   "metadata": {
    "ExecuteTime": {
     "end_time": "2021-08-15T13:45:22.743921Z",
     "start_time": "2021-08-15T13:45:22.729915Z"
    }
   },
   "outputs": [],
   "source": [
    "from sklearn.linear_model import LinearRegression"
   ]
  },
  {
   "cell_type": "code",
   "execution_count": null,
   "id": "b1dc724e",
   "metadata": {
    "ExecuteTime": {
     "end_time": "2021-08-15T13:45:22.759921Z",
     "start_time": "2021-08-15T13:45:22.745919Z"
    }
   },
   "outputs": [],
   "source": [
    "lr = LinearRegression()"
   ]
  },
  {
   "cell_type": "code",
   "execution_count": null,
   "id": "8304ad31",
   "metadata": {
    "ExecuteTime": {
     "end_time": "2021-08-15T13:45:22.775916Z",
     "start_time": "2021-08-15T13:45:22.761916Z"
    }
   },
   "outputs": [],
   "source": [
    "lr.fit(LinearRegression_train[[\"time\"]], LinearRegression_train[\"Rose\"])"
   ]
  },
  {
   "cell_type": "code",
   "execution_count": null,
   "id": "48026623",
   "metadata": {
    "ExecuteTime": {
     "end_time": "2021-08-15T13:45:22.791917Z",
     "start_time": "2021-08-15T13:45:22.777928Z"
    }
   },
   "outputs": [],
   "source": [
    "test_predictions_model1 = lr.predict(LinearRegression_test[['time']])\n",
    "LinearRegression_test['RegOnTime'] = test_predictions_model1"
   ]
  },
  {
   "cell_type": "code",
   "execution_count": null,
   "id": "20f757aa",
   "metadata": {
    "ExecuteTime": {
     "end_time": "2021-08-15T13:45:22.823916Z",
     "start_time": "2021-08-15T13:45:22.793916Z"
    }
   },
   "outputs": [],
   "source": [
    "LinearRegression_test.head(12)"
   ]
  },
  {
   "cell_type": "markdown",
   "id": "fd042902",
   "metadata": {},
   "source": [
    "## Plot"
   ]
  },
  {
   "cell_type": "code",
   "execution_count": null,
   "id": "099aac2d",
   "metadata": {
    "ExecuteTime": {
     "end_time": "2021-08-15T13:45:23.455859Z",
     "start_time": "2021-08-15T13:45:22.825916Z"
    }
   },
   "outputs": [],
   "source": [
    "train[\"Rose\"].plot(legend = True, label = 'Train')\n",
    "test[\"Rose\"].plot(legend = True, label = 'Test')\n",
    "LinearRegression_test['RegOnTime'].plot(legend = True, label = 'Test Preds using Linear Regression')\n",
    "plt.show()"
   ]
  },
  {
   "cell_type": "markdown",
   "id": "baf703fe",
   "metadata": {},
   "source": [
    "## Accuracy Metrics and Model Evaluation"
   ]
  },
  {
   "cell_type": "code",
   "execution_count": null,
   "id": "340f99e0",
   "metadata": {
    "ExecuteTime": {
     "end_time": "2021-08-15T13:45:23.470952Z",
     "start_time": "2021-08-15T13:45:23.458861Z"
    }
   },
   "outputs": [],
   "source": [
    "from statsmodels.tools.eval_measures import rmse"
   ]
  },
  {
   "cell_type": "markdown",
   "id": "ef17ef45",
   "metadata": {},
   "source": [
    "## Model Evaluation"
   ]
  },
  {
   "cell_type": "code",
   "execution_count": null,
   "id": "8e9ae140",
   "metadata": {
    "ExecuteTime": {
     "end_time": "2021-08-15T13:45:23.485919Z",
     "start_time": "2021-08-15T13:45:23.473899Z"
    }
   },
   "outputs": [],
   "source": [
    "rmse_model1_test = rmse(test[\"Rose\"], test_predictions_model1)\n",
    "rmse_model1_test"
   ]
  },
  {
   "cell_type": "code",
   "execution_count": null,
   "id": "0d3610de",
   "metadata": {
    "ExecuteTime": {
     "end_time": "2021-08-15T13:45:23.501939Z",
     "start_time": "2021-08-15T13:45:23.487918Z"
    }
   },
   "outputs": [],
   "source": [
    "resultsDf = pd.DataFrame({\"Test RMSE\": [rmse_model1_test]}, index = [\"RegressionOnTime\"])\n",
    "resultsDf"
   ]
  },
  {
   "cell_type": "markdown",
   "id": "e5b2e4e8",
   "metadata": {},
   "source": [
    "# Naïve model – RMSE"
   ]
  },
  {
   "cell_type": "code",
   "execution_count": null,
   "id": "8e406a74",
   "metadata": {
    "ExecuteTime": {
     "end_time": "2021-08-15T13:45:23.517916Z",
     "start_time": "2021-08-15T13:45:23.503918Z"
    }
   },
   "outputs": [],
   "source": [
    "NaiveModel_train = train.copy()\n",
    "NaiveModel_test = test.copy()"
   ]
  },
  {
   "cell_type": "code",
   "execution_count": null,
   "id": "8bd68982",
   "metadata": {
    "ExecuteTime": {
     "end_time": "2021-08-15T13:45:23.533921Z",
     "start_time": "2021-08-15T13:45:23.520917Z"
    }
   },
   "outputs": [],
   "source": [
    "NaiveModel_test[\"naive\"] = train[\"Rose\"][len(train[\"Rose\"])-1]"
   ]
  },
  {
   "cell_type": "code",
   "execution_count": null,
   "id": "af348c6d",
   "metadata": {
    "ExecuteTime": {
     "end_time": "2021-08-15T13:45:23.549917Z",
     "start_time": "2021-08-15T13:45:23.535917Z"
    }
   },
   "outputs": [],
   "source": [
    "NaiveModel_test[\"naive\"].head()"
   ]
  },
  {
   "cell_type": "code",
   "execution_count": null,
   "id": "7590a18b",
   "metadata": {
    "ExecuteTime": {
     "end_time": "2021-08-15T13:45:24.212835Z",
     "start_time": "2021-08-15T13:45:23.551917Z"
    }
   },
   "outputs": [],
   "source": [
    "train[\"Rose\"].plot(legend = True, label = \"Train\")\n",
    "test[\"Rose\"].plot(legend = True, label = \"Test\")\n",
    "NaiveModel_test[\"naive\"].plot(legend = True, label = \"Naive Model Test Preds\")\n",
    "plt.show()"
   ]
  },
  {
   "cell_type": "markdown",
   "id": "e5f44172",
   "metadata": {},
   "source": [
    "## Model Evaluation"
   ]
  },
  {
   "cell_type": "code",
   "execution_count": null,
   "id": "f6f789f6",
   "metadata": {
    "ExecuteTime": {
     "end_time": "2021-08-15T13:45:24.243834Z",
     "start_time": "2021-08-15T13:45:24.214835Z"
    }
   },
   "outputs": [],
   "source": [
    "rmse_model2_test = rmse(test[\"Rose\"], NaiveModel_test[\"naive\"])\n",
    "print(\"RMSE for Naive Bayes\",rmse_model2_test)\n",
    "\n",
    "\n",
    "resultsDf_2 = pd.DataFrame({\"Test RMSE\": [rmse_model2_test]}, index=[\"NaiveModel\"])\n",
    "resultsDf = pd.concat([resultsDf, resultsDf_2])\n",
    "display(resultsDf)"
   ]
  },
  {
   "cell_type": "markdown",
   "id": "3d53c717",
   "metadata": {},
   "source": [
    "# Simple average model – RMSE"
   ]
  },
  {
   "cell_type": "code",
   "execution_count": null,
   "id": "f0506c63",
   "metadata": {
    "ExecuteTime": {
     "end_time": "2021-08-15T13:45:24.259840Z",
     "start_time": "2021-08-15T13:45:24.245834Z"
    }
   },
   "outputs": [],
   "source": [
    "SimpleAverage_train = train.copy()\n",
    "SimpleAverage_test = test.copy()"
   ]
  },
  {
   "cell_type": "code",
   "execution_count": null,
   "id": "6976556c",
   "metadata": {
    "ExecuteTime": {
     "end_time": "2021-08-15T13:45:24.290839Z",
     "start_time": "2021-08-15T13:45:24.262835Z"
    }
   },
   "outputs": [],
   "source": [
    "SimpleAverage_test[\"mean_Rose\"] = train[\"Rose\"].mean()\n",
    "SimpleAverage_test.head()"
   ]
  },
  {
   "cell_type": "code",
   "execution_count": null,
   "id": "d261d594",
   "metadata": {
    "ExecuteTime": {
     "end_time": "2021-08-15T13:45:24.905834Z",
     "start_time": "2021-08-15T13:45:24.292834Z"
    }
   },
   "outputs": [],
   "source": [
    "train[\"Rose\"].plot(legend = True, label = \"Train\")\n",
    "test[\"Rose\"].plot(legend = True, label = \"Test\")\n",
    "SimpleAverage_test[\"mean_Rose\"].plot(legend = True, label = \"Simple Avg Test Predictions\")\n",
    "plt.show()"
   ]
  },
  {
   "cell_type": "markdown",
   "id": "1c341911",
   "metadata": {},
   "source": [
    "## Model Evaluation"
   ]
  },
  {
   "cell_type": "code",
   "execution_count": null,
   "id": "39c0a3db",
   "metadata": {
    "ExecuteTime": {
     "end_time": "2021-08-15T13:45:24.937828Z",
     "start_time": "2021-08-15T13:45:24.917830Z"
    }
   },
   "outputs": [],
   "source": [
    "rmse_model3_test = rmse(test[\"Rose\"], SimpleAverage_test[\"mean_Rose\"])\n",
    "print(\"RMSE for Simple Average Model is\", rmse_model3_test)"
   ]
  },
  {
   "cell_type": "code",
   "execution_count": null,
   "id": "96a708dc",
   "metadata": {
    "ExecuteTime": {
     "end_time": "2021-08-15T13:45:24.969836Z",
     "start_time": "2021-08-15T13:45:24.942829Z"
    }
   },
   "outputs": [],
   "source": [
    "reultsDf_3 = pd.DataFrame({\"Test RMSE\": [rmse_model3_test]}, index = [\"SimpleAverageModel\"])\n",
    "resultsDf = pd.concat([resultsDf, reultsDf_3])\n",
    "resultsDf                     \n"
   ]
  },
  {
   "cell_type": "markdown",
   "id": "27ca902c",
   "metadata": {},
   "source": [
    "# Moving average model – RMSE"
   ]
  },
  {
   "cell_type": "markdown",
   "id": "026e3511",
   "metadata": {},
   "source": [
    "For the moving average model, we are going to calculate rolling means (or moving averages) for different intervals. The best interval can be determined by the maximum accuracy (or the minimum error) over here.\n",
    "\n",
    "For Moving Average, we are going to average over the entire data."
   ]
  },
  {
   "cell_type": "code",
   "execution_count": null,
   "id": "a5ed4ce1",
   "metadata": {
    "ExecuteTime": {
     "end_time": "2021-08-15T13:45:24.985829Z",
     "start_time": "2021-08-15T13:45:24.971828Z"
    }
   },
   "outputs": [],
   "source": [
    "MovingAverage = rdf.copy()\n",
    "MovingAverage.head()"
   ]
  },
  {
   "cell_type": "markdown",
   "id": "f331bf8b",
   "metadata": {},
   "source": [
    "## Trailing moving averages"
   ]
  },
  {
   "cell_type": "code",
   "execution_count": null,
   "id": "dba4a925",
   "metadata": {
    "ExecuteTime": {
     "end_time": "2021-08-15T13:45:25.017828Z",
     "start_time": "2021-08-15T13:45:24.987831Z"
    }
   },
   "outputs": [],
   "source": [
    "MovingAverage[\"Trailing_2\"] = MovingAverage[\"Rose\"].rolling(2).mean()\n",
    "MovingAverage[\"Trailing_4\"] = MovingAverage[\"Rose\"].rolling(4).mean()\n",
    "MovingAverage[\"Trailing_6\"] = MovingAverage[\"Rose\"].rolling(6).mean()\n",
    "MovingAverage[\"Trailing_9\"] = MovingAverage[\"Rose\"].rolling(9).mean()\n",
    "\n",
    "MovingAverage.head()"
   ]
  },
  {
   "cell_type": "markdown",
   "id": "0125ac02",
   "metadata": {},
   "source": [
    "## Plot"
   ]
  },
  {
   "cell_type": "code",
   "execution_count": null,
   "id": "d4c8b3b9",
   "metadata": {
    "ExecuteTime": {
     "end_time": "2021-08-15T13:45:25.571869Z",
     "start_time": "2021-08-15T13:45:25.020828Z"
    }
   },
   "outputs": [],
   "source": [
    "plt.figure(figsize=(16,8))\n",
    "plt.plot(MovingAverage[\"Rose\"], label=\"Train\")\n",
    "plt.plot(MovingAverage[\"Trailing_2\"], label=\"2 point Moving Average\")\n",
    "plt.plot(MovingAverage[\"Trailing_4\"], label=\"4 point Moving Average\")\n",
    "plt.plot(MovingAverage[\"Trailing_6\"], label=\"6 point Moving Average\")\n",
    "plt.plot(MovingAverage[\"Trailing_9\"], label=\"9 point Moving Average\")\n",
    "\n",
    "plt.legend(loc=\"best\")\n",
    "plt.grid()\n",
    "plt.show()"
   ]
  },
  {
   "cell_type": "markdown",
   "id": "fb5ffa2b",
   "metadata": {},
   "source": [
    "## Split the data into train and test and plot"
   ]
  },
  {
   "cell_type": "code",
   "execution_count": null,
   "id": "c7e06709",
   "metadata": {
    "ExecuteTime": {
     "end_time": "2021-08-15T13:45:25.587869Z",
     "start_time": "2021-08-15T13:45:25.573883Z"
    }
   },
   "outputs": [],
   "source": [
    "trailing_MovingAverage_train = MovingAverage[MovingAverage.index.year < 1991]\n",
    "trailing_MovingAverage_test = MovingAverage[MovingAverage.index.year >= 1991]"
   ]
  },
  {
   "cell_type": "code",
   "execution_count": null,
   "id": "c6c2a35f",
   "metadata": {
    "ExecuteTime": {
     "end_time": "2021-08-15T13:45:26.206806Z",
     "start_time": "2021-08-15T13:45:25.589869Z"
    }
   },
   "outputs": [],
   "source": [
    "plt.figure(figsize=(16,8))\n",
    "\n",
    "plt.plot(trailing_MovingAverage_train[\"Rose\"], label=\"Train\")\n",
    "plt.plot(trailing_MovingAverage_test[\"Rose\"], label=\"Test\")\n",
    "\n",
    "plt.plot(trailing_MovingAverage_train[\"Trailing_2\"], label=\"2 point Trailing Moving Average on Training Set\")\n",
    "plt.plot(trailing_MovingAverage_train[\"Trailing_4\"], label=\"4 point Trailing Moving Average on Training Set\")\n",
    "plt.plot(trailing_MovingAverage_train[\"Trailing_6\"], label=\"6 point Trailing Moving Average on Training Set\")\n",
    "plt.plot(trailing_MovingAverage_train[\"Trailing_9\"], label=\"9 point Trailing Moving Average on Training Set\")\n",
    "\n",
    "plt.plot(trailing_MovingAverage_test[\"Trailing_2\"], label=\"2 point Trailing Moving Average on Test Set\")\n",
    "plt.plot(trailing_MovingAverage_test[\"Trailing_4\"], label=\"4 point Trailing Moving Average on Test Set\")\n",
    "plt.plot(trailing_MovingAverage_test[\"Trailing_6\"], label=\"6 point Trailing Moving Average on Test Set\")\n",
    "plt.plot(trailing_MovingAverage_test[\"Trailing_9\"], label=\"9 point Trailing Moving Average on Test Set\")\n",
    "\n",
    "plt.legend(loc=\"best\")\n",
    "plt.grid()\n",
    "plt.show()"
   ]
  },
  {
   "cell_type": "markdown",
   "id": "5cce169b",
   "metadata": {},
   "source": [
    "## Model Evaluation"
   ]
  },
  {
   "cell_type": "code",
   "execution_count": null,
   "id": "5952959e",
   "metadata": {
    "ExecuteTime": {
     "end_time": "2021-08-15T13:45:26.237812Z",
     "start_time": "2021-08-15T13:45:26.209807Z"
    }
   },
   "outputs": [],
   "source": [
    "rmse_model4_test_2 = rmse(test[\"Rose\"], trailing_MovingAverage_test[\"Trailing_2\"])\n",
    "print(\"Rmse for trailing_2\", rmse_model4_test_2)\n",
    "\n",
    "rmse_model4_test_4 = rmse(test[\"Rose\"], trailing_MovingAverage_test[\"Trailing_4\"])\n",
    "print(\"Rmse for trailing_4\", rmse_model4_test_4)\n",
    "\n",
    "rmse_model4_test_6 = rmse(test[\"Rose\"], trailing_MovingAverage_test[\"Trailing_6\"])\n",
    "print(\"Rmse for trailing_6\", rmse_model4_test_6)\n",
    "\n",
    "\n",
    "rmse_model4_test_9 = rmse(test[\"Rose\"], trailing_MovingAverage_test[\"Trailing_9\"])\n",
    "print(\"Rmse for trailing_9\", rmse_model4_test_9)\n",
    "\n",
    "resultsDf_4 = pd.DataFrame({\"Test RMSE\": [rmse_model4_test_2, rmse_model4_test_4, rmse_model4_test_6, rmse_model4_test_9]},\n",
    "                          index = [\"2_point_trailing_Moving_Average\", \"4_point_trailing_Moving_Average\", \"6_point_trailing_Moving_Average\", \"9_point_trailing_Moving_Average\"])\n",
    "\n",
    "resultsDf = pd.concat([resultsDf, resultsDf_4])\n",
    "resultsDf"
   ]
  },
  {
   "cell_type": "markdown",
   "id": "d111625b",
   "metadata": {},
   "source": [
    "# Plot of all models derived till now"
   ]
  },
  {
   "cell_type": "code",
   "execution_count": null,
   "id": "13a891bd",
   "metadata": {
    "ExecuteTime": {
     "end_time": "2021-08-15T13:45:27.108566Z",
     "start_time": "2021-08-15T13:45:26.240808Z"
    }
   },
   "outputs": [],
   "source": [
    "train[\"Rose\"].plot(legend=True, label=\"Train\")\n",
    "test[\"Rose\"].plot(legend=True, label=\"Test\")\n",
    "\n",
    "LinearRegression_test[\"RegOnTime\"].plot(legend=True, label=\"Test Preds using Linear Regression\")\n",
    "\n",
    "NaiveModel_test[\"naive\"].plot(legend=True, label=\"Naive Model Test Preds\")\n",
    "\n",
    "SimpleAverage_test[\"mean_Rose\"].plot(legend=True, label=\"Simple Avg Test Preds\")\n",
    "\n",
    "trailing_MovingAverage_test[\"Trailing_2\"].plot(legend=True, label=\"Trailing MA 2 test preds\")\n",
    "\n",
    "plt.show()"
   ]
  },
  {
   "cell_type": "markdown",
   "id": "b168daa5",
   "metadata": {},
   "source": [
    "# Simple exponential smoothening – RMSE analysis"
   ]
  },
  {
   "cell_type": "code",
   "execution_count": null,
   "id": "dfddabc4",
   "metadata": {
    "ExecuteTime": {
     "end_time": "2021-08-15T13:45:27.123802Z",
     "start_time": "2021-08-15T13:45:27.111566Z"
    }
   },
   "outputs": [],
   "source": [
    "from statsmodels.tsa.api import ExponentialSmoothing, SimpleExpSmoothing, Holt"
   ]
  },
  {
   "cell_type": "code",
   "execution_count": null,
   "id": "2f440e93",
   "metadata": {
    "ExecuteTime": {
     "end_time": "2021-08-15T13:45:27.771790Z",
     "start_time": "2021-08-15T13:45:27.125783Z"
    },
    "scrolled": false
   },
   "outputs": [],
   "source": [
    "SES_train = train.copy()\n",
    "SES_test = test.copy()\n",
    "\n",
    "model_SES = SimpleExpSmoothing(SES_train[\"Rose\"]);\n",
    "\n",
    "model_SES_autofit = model_SES.fit()\n",
    "\n",
    "display(\"SES Params\", model_SES_autofit.params)\n",
    "\n",
    "SES_test[\"predict\"] = model_SES_autofit.forecast(steps=len(test))\n",
    "\n",
    "display(SES_test.head().style)\n",
    "\n",
    "SES_train[\"Rose\"].plot(legend=True, label=\"Train\")\n",
    "SES_test[\"Rose\"].plot(legend=True, label=\"Test\")\n",
    "SES_test[\"predict\"].plot(legend=True, label=\"SES Preds on Test\")\n",
    "plt.show()\n"
   ]
  },
  {
   "cell_type": "markdown",
   "id": "1c4b1d03",
   "metadata": {},
   "source": [
    "## Model Evaluation"
   ]
  },
  {
   "cell_type": "code",
   "execution_count": null,
   "id": "5e402afa",
   "metadata": {
    "ExecuteTime": {
     "end_time": "2021-08-15T13:45:27.803783Z",
     "start_time": "2021-08-15T13:45:27.774784Z"
    }
   },
   "outputs": [],
   "source": [
    "rmse_model5_test_1 = rmse(SES_test[\"Rose\"], SES_test[\"predict\"])\n",
    "display(rmse_model5_test_1)\n",
    "\n",
    "resultsDf_5 = pd.DataFrame({\"Test RMSE\": [+rmse_model5_test_1]}, index=[\"Alpha=0.102,SimpleExponentialSmoothing\"])\n",
    "resultsDf = pd.concat([resultsDf, resultsDf_5])\n",
    "display(resultsDf)\n"
   ]
  },
  {
   "cell_type": "markdown",
   "id": "e9dbe045",
   "metadata": {},
   "source": [
    "## Set different alpha values"
   ]
  },
  {
   "cell_type": "code",
   "execution_count": null,
   "id": "d90c141f",
   "metadata": {
    "ExecuteTime": {
     "end_time": "2021-08-15T13:45:27.995858Z",
     "start_time": "2021-08-15T13:45:27.806784Z"
    },
    "scrolled": false
   },
   "outputs": [],
   "source": [
    "resultsDf_6 = pd.DataFrame({\"Alpha Values\":[], \"Train RMSE\": [], \"Test RMSE\": []})\n",
    "\n",
    "\n",
    "alpha_list = [0.3,0.4,0.5,0.6,0.7,0.8,0.9]\n",
    "\n",
    "for i in alpha_list:\n",
    "    model_SES_alpha_i = model_SES.fit(smoothing_level=i)\n",
    "    \n",
    "    SES_train[\"predict\",i] = model_SES_alpha_i.fittedvalues\n",
    "    SES_test[\"predict\",i] = model_SES_alpha_i.forecast(steps=len(test))\n",
    "    \n",
    "    rmse_model5_train_i = rmse(SES_train[\"Rose\"],SES_train[\"predict\",i])\n",
    "        \n",
    "    rmse_model5_test_i = rmse(SES_test[\"Rose\"],SES_test[\"predict\",i])\n",
    "    \n",
    "    resultsDf_6 = resultsDf_6.append({\"Alpha Values\":i,\n",
    "                                      \"Train RMSE\": rmse_model5_train_i,\"Test RMSE\":rmse_model5_test_i}, \n",
    "                                     ignore_index=True)\n",
    "    \n",
    "display(SES_test.head().style)\n",
    "\n",
    "display(\"Model Evaluation\", resultsDf_6.sort_values(by=[\"Test RMSE\"],ascending=True))\n",
    "\n"
   ]
  },
  {
   "cell_type": "markdown",
   "id": "b94d03f7",
   "metadata": {},
   "source": [
    "## Plot"
   ]
  },
  {
   "cell_type": "code",
   "execution_count": null,
   "id": "55633b20",
   "metadata": {
    "ExecuteTime": {
     "end_time": "2021-08-15T13:45:28.523852Z",
     "start_time": "2021-08-15T13:45:27.997805Z"
    }
   },
   "outputs": [],
   "source": [
    "plt.figure(figsize=(18,9))\n",
    "plt.plot(SES_train[\"Rose\"], label=\"Train\")\n",
    "plt.plot(SES_test[\"Rose\"], label=\"Test\")\n",
    "plt.plot(SES_test[\"predict\"], label=\"Alpha=1 Simple Exponential Smoothing predictions on Test Set\")\n",
    "plt.plot(SES_test[\"predict\", 0.3], label=\"Alpha=0.3 Simple Exponential Smoothing predictions on Test Set\")\n",
    "plt.legend(loc=\"best\")\n",
    "plt.grid()\n",
    "plt.show()"
   ]
  },
  {
   "cell_type": "code",
   "execution_count": null,
   "id": "42a3d2a9",
   "metadata": {
    "ExecuteTime": {
     "end_time": "2021-08-15T13:45:28.555851Z",
     "start_time": "2021-08-15T13:45:28.526851Z"
    }
   },
   "outputs": [],
   "source": [
    "resultsDf_6_1 = pd.DataFrame({\"Test RMSE\": [resultsDf_6.sort_values(by=[\"Test RMSE\"], ascending=True).values[0][2]]},\n",
    "                          index = [\"Alpha=0.9,SimpleExponentialSmoothing\"])\n",
    "\n",
    "resultsDf = pd.concat([resultsDf, resultsDf_6_1])\n",
    "\n",
    "display(resultsDf.style)"
   ]
  },
  {
   "cell_type": "markdown",
   "id": "582f3dc2",
   "metadata": {},
   "source": [
    "# Double exponential smoothening (Holt’s method) – RMSE analysis"
   ]
  },
  {
   "cell_type": "code",
   "execution_count": null,
   "id": "eb09b618",
   "metadata": {
    "ExecuteTime": {
     "end_time": "2021-08-15T13:45:30.254954Z",
     "start_time": "2021-08-15T13:45:28.558852Z"
    }
   },
   "outputs": [],
   "source": [
    "DES_train = train.copy()\n",
    "DES_test = test.copy()\n",
    "\n",
    "model_DES = Holt(DES_train[\"Rose\"])\n",
    "\n",
    "resultsDf_7 = pd.DataFrame({\"Alpha Values\": [], \"Beta Values\": [], \"Train RMSE\": [], \"Test RMSE\": []})\n",
    "\n",
    "alpha_list = [0.3,0.4,0.5,0.6,0.7,0.8,0.9,1.0]\n",
    "beta_list = [0.3,0.4,0.5,0.6,0.7,0.8,0.9,1.0]\n",
    "\n",
    "for i in alpha_list:\n",
    "    for j in beta_list:\n",
    "        model_DES_alpha_i_j = model_DES.fit(smoothing_level=i,smoothing_trend=j)\n",
    "        \n",
    "        DES_train[\"predict\",i,j] = model_DES_alpha_i_j.fittedvalues\n",
    "        DES_test[\"predict\",i,j] = model_DES_alpha_i_j.forecast(steps=len(test))\n",
    "        \n",
    "        rmse_model6_train = rmse(DES_train[\"Rose\"],DES_train[\"predict\",i,j])\n",
    "        \n",
    "        rmse_model6_test = rmse(DES_test[\"Rose\"],DES_test[\"predict\",i,j])\n",
    "        \n",
    "        resultsDf_7 = resultsDf_7.append({\"Alpha Values\":i,\n",
    "                                          \"Beta Values\":j,\n",
    "                                          \"Train RMSE\": rmse_model6_train,\n",
    "                                          \"Test RMSE\": rmse_model6_test}, ignore_index=True)\n",
    "        \n",
    "display(resultsDf_7.sort_values(by=[\"Test RMSE\"]).head(10))        \n"
   ]
  },
  {
   "cell_type": "code",
   "execution_count": null,
   "id": "b89e4d95",
   "metadata": {
    "ExecuteTime": {
     "end_time": "2021-08-15T13:45:30.775787Z",
     "start_time": "2021-08-15T13:45:30.257899Z"
    }
   },
   "outputs": [],
   "source": [
    "plt.figure(figsize=(18,9))\n",
    "plt.plot(DES_train[\"Rose\"], label=\"Train\")\n",
    "plt.plot(DES_test[\"Rose\"], label=\"Test\")\n",
    "\n",
    "plt.plot(DES_test[\"predict\", 0.3, 0.3],  label=\"Alpha=0.3,Beta=0.3,DoubleExponentialSmoothing predictions on Test Set\")\n",
    "plt.legend(loc=\"best\")\n",
    "plt.grid()\n",
    "plt.show()"
   ]
  },
  {
   "cell_type": "code",
   "execution_count": null,
   "id": "7dcc54ba",
   "metadata": {
    "ExecuteTime": {
     "end_time": "2021-08-15T13:45:30.807788Z",
     "start_time": "2021-08-15T13:45:30.777788Z"
    }
   },
   "outputs": [],
   "source": [
    "resultsDf_7_1 = pd.DataFrame({\"Test RMSE\": [resultsDf_7.sort_values(by=[\"Test RMSE\"]).values[0][3]]}, \n",
    "                             index=[\"Alpha=0.3,Beta=0.3,DoubleExponentialSmoothing\"])\n",
    "resultsDf = pd.concat([resultsDf, resultsDf_7_1])\n",
    "display(resultsDf)"
   ]
  },
  {
   "cell_type": "markdown",
   "id": "0dec600b",
   "metadata": {},
   "source": [
    "# Triple exponential smoothening (Holt’s winter model) – RMSE analysis"
   ]
  },
  {
   "cell_type": "code",
   "execution_count": null,
   "id": "84c14901",
   "metadata": {
    "ExecuteTime": {
     "end_time": "2021-08-15T13:45:31.712077Z",
     "start_time": "2021-08-15T13:45:30.809787Z"
    },
    "scrolled": false
   },
   "outputs": [],
   "source": [
    "TES_train = train.copy()\n",
    "TES_test = test.copy()\n",
    "\n",
    "model_TES = ExponentialSmoothing(TES_train[\"Rose\"], trend=\"additive\", seasonal=\"multiplicative\", freq=\"M\")\n",
    "\n",
    "model_TES_autofit = model_TES.fit()\n",
    "\n",
    "display(model_TES_autofit.params)\n",
    "\n",
    "\n",
    "TES_test[\"auto_predict\"] = model_TES_autofit.forecast(steps=len(test)).round(0)\n",
    "display(TES_test.head())\n",
    "\n",
    "plt.figure(figsize=(18,9))\n",
    "plt.plot(TES_train[\"Rose\"], label=\"Train\")\n",
    "plt.plot(TES_test[\"Rose\"], label=\"Test\")\n",
    "plt.plot(TES_test[\"auto_predict\"], label=\"Alpha=0.0994,Beta=3.501,Gamma=0.0003,TripleExponentialSmoothing\")\n",
    "plt.legend(loc=\"best\")\n",
    "plt.title(\"Plot with Autofit\")\n",
    "plt.grid()\n",
    "\n",
    "plt.show()\n",
    "\n"
   ]
  },
  {
   "cell_type": "markdown",
   "id": "5f83eb1b",
   "metadata": {},
   "source": [
    "## RMSE"
   ]
  },
  {
   "cell_type": "code",
   "execution_count": null,
   "id": "13ec46a3",
   "metadata": {
    "ExecuteTime": {
     "end_time": "2021-08-15T13:45:31.744073Z",
     "start_time": "2021-08-15T13:45:31.715072Z"
    }
   },
   "outputs": [],
   "source": [
    "rmse_model6_test_1 = rmse(TES_test[\"Rose\"], TES_test[\"auto_predict\"])\n",
    "display(rmse_model6_test_1)\n",
    "\n",
    "resultsDf_8_1 = pd.DataFrame({\"Test RMSE\": [rmse_model6_test_1]}, index=[\"Alpha=0.0994,Beta=3.501,Gamma=0.0003,TripleExponentialSmoothing\"])\n",
    "resultsDf = pd.concat([resultsDf, resultsDf_8_1])\n",
    "display(resultsDf)"
   ]
  },
  {
   "cell_type": "markdown",
   "id": "961994d2",
   "metadata": {},
   "source": [
    "## Identify best alpha, beta and gamma"
   ]
  },
  {
   "cell_type": "code",
   "execution_count": null,
   "id": "4f5260f3",
   "metadata": {
    "ExecuteTime": {
     "end_time": "2021-08-15T13:45:54.082236Z",
     "start_time": "2021-08-15T13:45:31.747073Z"
    }
   },
   "outputs": [],
   "source": [
    "import warnings\n",
    "warnings.filterwarnings('ignore')\n",
    "\n",
    "resultsDf_8_2 = pd.DataFrame({\"Alpha Values\":[],\"Beta Values\":[],\"Gamma Values\":[],\"Train RMSE\":[],\"Test RMSE\": []})\n",
    "\n",
    "\n",
    "gamma_list = [0.3,0.4,0.5,0.6,0.7,0.8,0.9,1.0]\n",
    "\n",
    "\n",
    "for i in alpha_list:\n",
    "    for j in beta_list:\n",
    "        for k in gamma_list:\n",
    "            model_TES_alpha_i_j_k = model_TES.fit(smoothing_level=i,\n",
    "                                                  smoothing_trend=j,\n",
    "                                                  smoothing_seasonal=k)\n",
    "            \n",
    "            TES_train[\"predict\",i,j,k] = model_TES_alpha_i_j_k.fittedvalues\n",
    "            \n",
    "            TES_test[\"predict\",i,j,k] = model_TES_alpha_i_j_k.forecast(steps=len(test))\n",
    "        \n",
    "            rmse_model8_train = rmse(TES_train[\"Rose\"],\n",
    "                                     TES_train[\"predict\",i,j,k])\n",
    "            \n",
    "            rmse_model8_test = rmse(TES_test[\"Rose\"],\n",
    "                                    TES_test[\"predict\",i,j,k])\n",
    "            \n",
    "            resultsDf_8_2 = resultsDf_8_2.append({\"Alpha Values\":i,\n",
    "                                                  \"Beta Values\":j,\n",
    "                                                  \"Gamma Values\":k,\n",
    "                                                  \"Train RMSE\":rmse_model8_train,\n",
    "                                                  \"Test RMSE\":rmse_model8_test},ignore_index=True)\n",
    "            \n",
    "display(TES_test.head().style)\n",
    "display(resultsDf_8_2.sort_values(by=[\"Test RMSE\"]).head())\n",
    "\n",
    "\n",
    "resultsDf_8_3 = pd.DataFrame({\"Test RMSE\": [resultsDf_8_2.sort_values(by=[\"Test RMSE\"]).values[0][4]]}\n",
    "                           ,index=[\"Alpha=0.3,Beta=0.3,Gamma=0.8,TripleExponentialSmoothing\"])\n",
    "\n",
    "resultsDf = pd.concat([resultsDf, resultsDf_8_3])\n",
    "display(resultsDf.sort_values(by=[\"Test RMSE\"]))\n",
    "\n"
   ]
  },
  {
   "cell_type": "markdown",
   "id": "b37e1937",
   "metadata": {},
   "source": [
    "## Plot SES, DES and TES"
   ]
  },
  {
   "cell_type": "code",
   "execution_count": null,
   "id": "da3c2c46",
   "metadata": {
    "ExecuteTime": {
     "end_time": "2021-08-15T13:45:54.680217Z",
     "start_time": "2021-08-15T13:45:54.084466Z"
    }
   },
   "outputs": [],
   "source": [
    "# 'smoothing_level': 0.09942398570261507,\n",
    "#  'smoothing_trend': 3.5015167744954147e-06,\n",
    "#  'smoothing_seasonal': 0.0003177759456525393,\n",
    "\n",
    "plt.figure(figsize=(18,9))\n",
    "plt.plot(train[\"Rose\"], label=\"Train\")\n",
    "plt.plot(test[\"Rose\"], label=\"Test\")\n",
    "\n",
    "plt.plot(SES_test[\"predict\"], label=\"Alpha =0.03 Simple Exponential Smoothing predictions on Test Set\")\n",
    "\n",
    "plt.plot(DES_test[\"predict\", 0.3, 0.3], label=\"Alpha=0.3,Beta=0.3,DoubleExponentialSmoothing predictions on Test Set\")\n",
    "\n",
    "plt.plot(TES_test[\"predict\", 0.3, 0.3, 0.4], label=\"Alpha=0.3,Beta=0.3,Gamma=0.4,TripleExponentialSmoothing predictions on Test Set\")\n",
    "\n",
    "plt.legend(loc=\"best\")\n",
    "plt.grid();\n",
    "plt.title(\"Plot of Exponential Smoothing Predictions and the Acutal Values\");\n",
    "plt.show()"
   ]
  },
  {
   "cell_type": "markdown",
   "id": "17be4027",
   "metadata": {},
   "source": [
    "## Training TES model with full data"
   ]
  },
  {
   "cell_type": "code",
   "execution_count": null,
   "id": "d2e17a16",
   "metadata": {
    "ExecuteTime": {
     "end_time": "2021-08-15T13:45:55.310211Z",
     "start_time": "2021-08-15T13:45:54.682212Z"
    }
   },
   "outputs": [],
   "source": [
    "fullmodel1 = ExponentialSmoothing(rdf,trend=\"additive\",seasonal=\"multiplicative\")\n",
    "fullmodel1= fullmodel1.fit(smoothing_level=0.3, smoothing_trend=0.3, smoothing_seasonal=0.4)\n",
    "\n",
    "RMSE_fullmodel1 = rmse(rdf[\"Rose\"], fullmodel1.fittedvalues)\n",
    "display(\"Full model RMSE\", RMSE_fullmodel1)\n",
    "\n",
    "prediction_1 = fullmodel1.forecast(steps=len(test))\n",
    "\n",
    "rdf.plot(legend=True, label=\"Actual\")\n",
    "prediction_1.plot(legend=True, label=\"Forecast\")\n",
    "\n",
    "plt.show()\n"
   ]
  },
  {
   "cell_type": "markdown",
   "id": "8afd72d4",
   "metadata": {},
   "source": [
    "## Margin of Error"
   ]
  },
  {
   "cell_type": "code",
   "execution_count": null,
   "id": "903200ea",
   "metadata": {
    "ExecuteTime": {
     "end_time": "2021-08-15T13:45:55.896216Z",
     "start_time": "2021-08-15T13:45:55.312211Z"
    }
   },
   "outputs": [],
   "source": [
    "pred_1_df = pd.DataFrame({\"lower_CI\":prediction_1 - 1.96*fullmodel1.resid.std(),\n",
    "                          \"prediction\":prediction_1,\n",
    "                          \"upper_ci\": prediction_1 + 1.96*fullmodel1.resid.std()})\n",
    "display(pred_1_df.head().style)\n",
    "\n",
    "\n",
    "axis = rdf.plot(label=\"Actual\", figsize=(15,8))\n",
    "pred_1_df[\"prediction\"].plot(ax=axis, label=\"Forecast\", alpha=1) # alpha here is for transparency of the prediction line\n",
    "\n",
    "axis.fill_between(pred_1_df.index, pred_1_df[\"lower_CI\"], pred_1_df[\"upper_ci\"], color=\"green\", alpha=.15) # alpha here denotes the transparency of the shaded region\n",
    "\n",
    "axis.set_xlabel(\"Year-Months\")\n",
    "axis.set_ylabel(\"Rose\")\n",
    "plt.legend(loc=\"best\")\n",
    "plt.grid()\n",
    "plt.show();"
   ]
  },
  {
   "cell_type": "markdown",
   "id": "b714fe96",
   "metadata": {},
   "source": [
    "# Stationarity check with AdFuller"
   ]
  },
  {
   "cell_type": "code",
   "execution_count": null,
   "id": "f43ffa5a",
   "metadata": {
    "ExecuteTime": {
     "end_time": "2021-08-15T13:45:55.944211Z",
     "start_time": "2021-08-15T13:45:55.898212Z"
    }
   },
   "outputs": [],
   "source": [
    "from statsmodels.tsa.stattools import adfuller\n",
    "\n",
    "display(\"Results of Dickey-Fuller Test:\")\n",
    "dftest = adfuller(rdf[\"Rose\"])\n",
    "\n",
    "dfoutput = pd.Series(dftest[0:4], index=[\"Test Statistic\",\"p-value\",\"#Lags Used\",\"Number of Observations Used\"])\n",
    "\n",
    "for key,value in dftest[4].items():\n",
    "        dfoutput[\"Critical Value (%s)\"%key] = value\n",
    "\n",
    "display(dfoutput)\n",
    "display(\"P Value: \", dftest[1], \"H0 rejected and the time series is stationary\")"
   ]
  },
  {
   "cell_type": "markdown",
   "id": "b8c1a34c",
   "metadata": {},
   "source": [
    "# Build ARIMA model with lowest AIC score – test this model on test data using RMSE"
   ]
  },
  {
   "cell_type": "code",
   "execution_count": null,
   "id": "f6d60e6b",
   "metadata": {
    "ExecuteTime": {
     "end_time": "2021-08-15T13:46:00.673144Z",
     "start_time": "2021-08-15T13:45:55.946212Z"
    }
   },
   "outputs": [],
   "source": [
    "import itertools # library for generating all possible combinations of given number sets\n",
    "from statsmodels.tsa.arima_model import ARIMA\n",
    "\n",
    "p = q = range(0, 4)\n",
    "d= range(1,2) # required as itertools product function expects the parameters as range objects, even if it is only value\n",
    "\n",
    "pdq = list(itertools.product(p, d, q))\n",
    " \n",
    "# Creating an empty Dataframe with column names only\n",
    "ARIMA_AIC = pd.DataFrame(columns=[\"Param\", \"AIC\"])\n",
    "ARIMA_AIC\n",
    "\n",
    "for param in pdq:\n",
    "    ARIMA_model = ARIMA(train[\"Rose\"], order=param).fit()\n",
    "    \n",
    "    display(f\"ARIMA{param} - AIC:{ARIMA_model.aic}\")\n",
    "    \n",
    "    ARIMA_AIC=ARIMA_AIC.append({\"Param\":param, \"AIC\": ARIMA_model.aic}, ignore_index=True)\n",
    "    \n",
    "display(ARIMA_AIC.sort_values(by=[\"AIC\"],ascending=True))    "
   ]
  },
  {
   "cell_type": "code",
   "execution_count": null,
   "id": "6bafa3d7",
   "metadata": {
    "ExecuteTime": {
     "end_time": "2021-08-15T13:46:01.699663Z",
     "start_time": "2021-08-15T13:46:00.676145Z"
    }
   },
   "outputs": [],
   "source": [
    "auto_ARIMA = ARIMA(train[\"Rose\"], order=(3,1,3),freq='M')\n",
    "\n",
    "results_auto_ARIMA = auto_ARIMA.fit()\n",
    "\n",
    "display(results_auto_ARIMA.summary())"
   ]
  },
  {
   "cell_type": "markdown",
   "id": "6b6e9823",
   "metadata": {},
   "source": [
    "## Prediction"
   ]
  },
  {
   "cell_type": "code",
   "execution_count": null,
   "id": "02ffdb93",
   "metadata": {
    "ExecuteTime": {
     "end_time": "2021-08-15T13:46:01.731662Z",
     "start_time": "2021-08-15T13:46:01.703662Z"
    }
   },
   "outputs": [],
   "source": [
    "predicted_auto_ARIMA = results_auto_ARIMA.forecast(steps=len(test))\n",
    "\n",
    "RMSE_autoarima = rmse(test[\"Rose\"],predicted_auto_ARIMA[0])\n",
    "display(RMSE_autoarima)\n",
    "\n",
    "resultsDf_arima = pd.DataFrame({'Test RMSE': [RMSE_autoarima]}\n",
    "                           ,index=['ARIMA(3,1,3)'])\n",
    "\n",
    "resultsDf = pd.concat([resultsDf, resultsDf_arima])\n",
    "\n",
    "display(resultsDf)"
   ]
  },
  {
   "cell_type": "markdown",
   "id": "4437d5ff",
   "metadata": {},
   "source": [
    "## Manual Arima using ACF and PACF plots"
   ]
  },
  {
   "cell_type": "code",
   "execution_count": null,
   "id": "0d4ae150",
   "metadata": {
    "ExecuteTime": {
     "end_time": "2021-08-15T13:46:03.122046Z",
     "start_time": "2021-08-15T13:46:01.734054Z"
    },
    "scrolled": false
   },
   "outputs": [],
   "source": [
    "from statsmodels.graphics.tsaplots import plot_acf, plot_pacf\n",
    "\n",
    "plot_acf(rdf[\"Rose\"].diff().dropna(),lags=50,title='Differenced Data Autocorrelation');\n",
    "plot_pacf(rdf[\"Rose\"].diff().dropna(),lags=50,title='Differenced Data Partial Autocorrelation');\n",
    "plt.show()\n",
    "\n",
    "display(\"p value from PACF: 4 & q value from ACF: 2\")\n",
    "\n",
    "manual_ARIMA = ARIMA(train[\"Rose\"].astype(\"float64\"), order=(4,1,2),freq=\"M\")\n",
    "results_manual_ARIMA = manual_ARIMA.fit()\n",
    "display(results_manual_ARIMA.summary())\n",
    "\n",
    "predicted_manual_ARIMA = results_manual_ARIMA.forecast(steps=len(test))\n",
    "\n",
    "RMSE_manualarima = rmse(test[\"Rose\"],\n",
    "                        predicted_manual_ARIMA[0])\n",
    "\n",
    "resultsDf_manual_arima = pd.DataFrame({'Test RMSE': [RMSE_manualarima]}\n",
    "                           ,index=['Manual ARIMA(4,1,2)'])\n",
    "\n",
    "resultsDf = pd.concat([resultsDf, resultsDf_manual_arima])\n",
    "\n",
    "display(resultsDf)"
   ]
  },
  {
   "cell_type": "markdown",
   "id": "a19a30f9",
   "metadata": {},
   "source": [
    "# Build SARIMA model with lowest AIC score – test this model on test data using RMSE"
   ]
  },
  {
   "cell_type": "code",
   "execution_count": null,
   "id": "02985494",
   "metadata": {
    "ExecuteTime": {
     "end_time": "2021-08-15T13:46:03.487047Z",
     "start_time": "2021-08-15T13:46:03.125048Z"
    }
   },
   "outputs": [],
   "source": [
    "plot_acf(rdf[\"Rose\"].diff().dropna(),lags=50,title=\"Differenced Data Autocorrelation\");\n",
    "plt.show()\n",
    "\n",
    "display(\"Seasonality is observed for 6 and 12\")"
   ]
  },
  {
   "cell_type": "code",
   "execution_count": null,
   "id": "dc3ff3e1",
   "metadata": {
    "ExecuteTime": {
     "end_time": "2021-08-15T13:46:03.503047Z",
     "start_time": "2021-08-15T13:46:03.489047Z"
    }
   },
   "outputs": [],
   "source": [
    "from  statsmodels.tsa.statespace.sarimax import SARIMAX\n",
    "\n",
    "p = q = range(0, 3)\n",
    "d= range(1,2)\n",
    "D = range(0,1)\n",
    "pdq = list(itertools.product(p, d, q))\n",
    "model_pdq = [(x[0], x[1], x[2], 6) for x in list(itertools.product(p, D, q))] # seasonal PDQ\n",
    "\n",
    "\n",
    "SARIMA_AIC = pd.DataFrame(columns=['param','seasonal', 'AIC'])\n",
    "\n",
    "\n"
   ]
  },
  {
   "cell_type": "code",
   "execution_count": null,
   "id": "afa0ed58",
   "metadata": {
    "ExecuteTime": {
     "end_time": "2021-08-15T13:46:46.311255Z",
     "start_time": "2021-08-15T13:46:03.505047Z"
    }
   },
   "outputs": [],
   "source": [
    "for param in pdq:\n",
    "    for param_seasonal in model_pdq:\n",
    "        SARIMA_model = SARIMAX(train[\"Rose\"],order=param, \n",
    "                               seasonal_order = param_seasonal,enforce_stationarity=False,\n",
    "                               enforce_invertibility=False)\n",
    "            \n",
    "        results_SARIMA = SARIMA_model.fit(maxiter=1000)\n",
    "        \n",
    "        SARIMA_AIC = SARIMA_AIC.append({\"param\":param,\n",
    "                                        \"seasonal\":param_seasonal, \n",
    "                                        \"AIC\": results_SARIMA.aic},\n",
    "                                       ignore_index=True)\n"
   ]
  },
  {
   "cell_type": "code",
   "execution_count": null,
   "id": "5f26a3ed",
   "metadata": {
    "ExecuteTime": {
     "end_time": "2021-08-15T13:46:46.343200Z",
     "start_time": "2021-08-15T13:46:46.313201Z"
    }
   },
   "outputs": [],
   "source": [
    "SARIMA_AIC.sort_values(by=['AIC']).head()"
   ]
  },
  {
   "cell_type": "code",
   "execution_count": null,
   "id": "255bbce1",
   "metadata": {
    "ExecuteTime": {
     "end_time": "2021-08-15T13:46:47.072218Z",
     "start_time": "2021-08-15T13:46:46.346111Z"
    }
   },
   "outputs": [],
   "source": [
    "auto_SARIMA_6 = SARIMAX(train[\"Rose\"].values,\n",
    "                       order=(0,1,2),\n",
    "                       seasonal_order=(2,0,2,6),\n",
    "                       enforce_stationarity=False,\n",
    "                       enforce_ivertibility=False)\n",
    "results_auto_SARIMA_6 = auto_SARIMA_6.fit(maxiter=1000)\n",
    "display(results_auto_SARIMA_6.summary())"
   ]
  },
  {
   "cell_type": "markdown",
   "id": "8f5ef9f8",
   "metadata": {},
   "source": [
    "## Prediction on the Test Set and Evaluation"
   ]
  },
  {
   "cell_type": "code",
   "execution_count": null,
   "id": "c9212279",
   "metadata": {
    "ExecuteTime": {
     "end_time": "2021-08-15T13:46:47.120149Z",
     "start_time": "2021-08-15T13:46:47.074212Z"
    }
   },
   "outputs": [],
   "source": [
    "predicted_auto_SARIMA_6 = results_auto_SARIMA_6.get_forecast(steps=len(test))\n",
    "\n",
    "display(predicted_auto_SARIMA_6.summary_frame(alpha=0.05).head())\n",
    "\n",
    "rmse_autosarima6 = rmse(test[\"Rose\"], predicted_auto_SARIMA_6.predicted_mean)\n",
    "display(rmse_autosarima6)\n",
    "\n",
    "temp_resultsDf = pd.DataFrame({\"Test RMSE\" : [rmse_autosarima6]}, index = [\"SARIMA(0,1,2)(2,0,2,6)\"])\n",
    "resultsDf = pd.concat([resultsDf, temp_resultsDf])\n",
    "\n",
    "display(resultsDf)\n"
   ]
  },
  {
   "cell_type": "markdown",
   "id": "f1ae5035",
   "metadata": {
    "ExecuteTime": {
     "end_time": "2021-08-11T23:33:26.560064Z",
     "start_time": "2021-08-11T23:33:07.932Z"
    }
   },
   "source": [
    "## SARIMA for 12 Seasonality"
   ]
  },
  {
   "cell_type": "code",
   "execution_count": null,
   "id": "217f6206",
   "metadata": {
    "ExecuteTime": {
     "end_time": "2021-08-15T13:46:47.136196Z",
     "start_time": "2021-08-15T13:46:47.122149Z"
    }
   },
   "outputs": [],
   "source": [
    "p = q = range(0, 3)\n",
    "d= range(1,2)\n",
    "D = range(0,1)\n",
    "pdq = list(itertools.product(p, d, q))\n",
    "model_pdq = [(x[0], x[1], x[2], 12) for x in list(itertools.product(p, D, q))]\n",
    "\n",
    "\n",
    "SARIMA_AIC = pd.DataFrame(columns=['param','seasonal', 'AIC'])\n"
   ]
  },
  {
   "cell_type": "code",
   "execution_count": null,
   "id": "4ff28cd8",
   "metadata": {
    "ExecuteTime": {
     "end_time": "2021-08-15T13:48:16.910232Z",
     "start_time": "2021-08-15T13:46:47.139198Z"
    }
   },
   "outputs": [],
   "source": [
    "\n",
    "for param in pdq:\n",
    "    for param_seasonal in model_pdq:\n",
    "        SARIMA_model =SARIMAX(train[\"Rose\"],\n",
    "                                            order=param,\n",
    "                                            seasonal_order = param_seasonal,\n",
    "                                            enforce_stationarity=False,\n",
    "                                            enforce_invertibility=False)\n",
    "            \n",
    "        results_SARIMA = SARIMA_model.fit(maxiter=1000)\n",
    "        \n",
    "        SARIMA_AIC = SARIMA_AIC.append({\"param\":param,\n",
    "                                        \"seasonal\":param_seasonal, \n",
    "                                        \"AIC\": results_SARIMA.aic},\n",
    "                                       ignore_index=True)"
   ]
  },
  {
   "cell_type": "code",
   "execution_count": null,
   "id": "ec51b261",
   "metadata": {
    "ExecuteTime": {
     "end_time": "2021-08-15T13:48:16.942233Z",
     "start_time": "2021-08-15T13:48:16.912233Z"
    }
   },
   "outputs": [],
   "source": [
    "SARIMA_AIC.sort_values(by=[\"AIC\"]).head()"
   ]
  },
  {
   "cell_type": "code",
   "execution_count": null,
   "id": "a3928bf6",
   "metadata": {
    "ExecuteTime": {
     "end_time": "2021-08-15T13:48:18.726186Z",
     "start_time": "2021-08-15T13:48:16.945233Z"
    }
   },
   "outputs": [],
   "source": [
    "auto_SARIMA_12 =SARIMAX(train[\"Rose\"],\n",
    "                                order=(0, 1, 2),\n",
    "                                seasonal_order=(2, 0, 2, 12),\n",
    "                                enforce_stationarity=False,\n",
    "                                enforce_invertibility=False)\n",
    "\n",
    "results_auto_SARIMA_12 = auto_SARIMA_12.fit(maxiter=1000)\n",
    "\n",
    "display(results_auto_SARIMA_12.summary())"
   ]
  },
  {
   "cell_type": "markdown",
   "id": "38391f4f",
   "metadata": {},
   "source": [
    "## Predict on the Test Set and Evaluation"
   ]
  },
  {
   "cell_type": "code",
   "execution_count": null,
   "id": "a0d5e495",
   "metadata": {
    "ExecuteTime": {
     "end_time": "2021-08-15T13:48:18.790186Z",
     "start_time": "2021-08-15T13:48:18.729187Z"
    }
   },
   "outputs": [],
   "source": [
    "predicted_auto_SARIMA_12 = results_auto_SARIMA_12.get_forecast(steps=len(test))\n",
    "\n",
    "display(predicted_auto_SARIMA_12.summary_frame(alpha=0.05).head())\n",
    "\n",
    "rmse_autosarima12 = rmse(test[\"Rose\"], predicted_auto_SARIMA_12.predicted_mean)\n",
    "\n",
    "display(\"RMSE\", rmse_autosarima12)\n",
    "\n",
    "temp_resultsDf = pd.DataFrame({\"Test RMSE\": [rmse_autosarima12]}, index=['SARIMA(0,1,2)(2,0,2,12)'])\n",
    "\n",
    "resultsDf = pd.concat([resultsDf, temp_resultsDf])\n",
    "\n",
    "display(resultsDf)\n"
   ]
  },
  {
   "cell_type": "markdown",
   "id": "b9b45e5c",
   "metadata": {},
   "source": [
    "## Manual SARIMA model - Best Params seleced from ACF and PACF plots - Seasonality 6"
   ]
  },
  {
   "cell_type": "code",
   "execution_count": null,
   "id": "f389a46c",
   "metadata": {
    "ExecuteTime": {
     "end_time": "2021-08-15T13:48:19.517634Z",
     "start_time": "2021-08-15T13:48:18.792187Z"
    },
    "scrolled": false
   },
   "outputs": [],
   "source": [
    "plot_acf(rdf[\"Rose\"].diff().dropna(), lags=50, title=\"Differenced Data Autocorrelation\")\n",
    "plot_pacf(rdf[\"Rose\"].diff().dropna(), lags=50, title=\"Differenced Data Partial Autocorrelation\")\n",
    "\n",
    "plt.show()"
   ]
  },
  {
   "cell_type": "code",
   "execution_count": null,
   "id": "90caa4e7",
   "metadata": {
    "ExecuteTime": {
     "end_time": "2021-08-15T13:48:20.385152Z",
     "start_time": "2021-08-15T13:48:19.519613Z"
    }
   },
   "outputs": [],
   "source": [
    "rdf.plot()\n",
    "plt.grid()\n",
    "plt.show()\n",
    "\n",
    "(rdf[\"Rose\"].diff(6)).plot()\n",
    "plt.grid()\n",
    "plt.show()"
   ]
  },
  {
   "cell_type": "markdown",
   "id": "25f741ba",
   "metadata": {},
   "source": [
    "We see that there might be a slight trend which can be noticed in the data. So we take a differencing of first order on the seasonally differenced series."
   ]
  },
  {
   "cell_type": "code",
   "execution_count": null,
   "id": "12100777",
   "metadata": {
    "ExecuteTime": {
     "end_time": "2021-08-15T13:48:20.843181Z",
     "start_time": "2021-08-15T13:48:20.389152Z"
    }
   },
   "outputs": [],
   "source": [
    "(rdf[\"Rose\"].diff(6)).diff().plot()\n",
    "plt.grid()\n",
    "plt.show()"
   ]
  },
  {
   "cell_type": "code",
   "execution_count": null,
   "id": "32a49331",
   "metadata": {
    "ExecuteTime": {
     "end_time": "2021-08-15T13:48:20.875127Z",
     "start_time": "2021-08-15T13:48:20.845128Z"
    }
   },
   "outputs": [],
   "source": [
    "pValue = adfuller(train[\"Rose\"])[1]\n",
    "\n",
    "print(\"P value: \",pValue, \" is greater than 0.05, there by H0 - Series in Not-Stationary is rejected\")"
   ]
  },
  {
   "cell_type": "markdown",
   "id": "b4c1cfba",
   "metadata": {},
   "source": [
    "check the stationarity of the above series before fitting the SARIMA model."
   ]
  },
  {
   "cell_type": "code",
   "execution_count": null,
   "id": "33afc06f",
   "metadata": {
    "ExecuteTime": {
     "end_time": "2021-08-15T13:48:20.891127Z",
     "start_time": "2021-08-15T13:48:20.877128Z"
    }
   },
   "outputs": [],
   "source": [
    "# adfuller((train[\"Rose\"].diff(6).dropna()).diff(1).dropna())[1]"
   ]
  },
  {
   "cell_type": "markdown",
   "id": "29ba7547",
   "metadata": {},
   "source": [
    "Checking the ACF and the PACF plots for the new modified Time Series."
   ]
  },
  {
   "cell_type": "code",
   "execution_count": null,
   "id": "4a621265",
   "metadata": {
    "ExecuteTime": {
     "end_time": "2021-08-15T13:48:21.612152Z",
     "start_time": "2021-08-15T13:48:20.894129Z"
    }
   },
   "outputs": [],
   "source": [
    "# plot_acf((rdf[\"Rose\"].diff(6).dropna()).diff(1).dropna(), lags=30)\n",
    "# plot_pacf((rdf[\"Rose\"].diff(6).dropna()).diff(1).dropna(), lags=30)\n",
    "# plt.show()\n",
    "\n",
    "plot_acf(rdf[\"Rose\"].diff().dropna(), lags=30)\n",
    "plot_pacf(rdf[\"Rose\"].diff().dropna(), lags=30)\n",
    "plt.show()"
   ]
  },
  {
   "cell_type": "markdown",
   "id": "8bcf6ea0",
   "metadata": {},
   "source": [
    "Here, we have taken alpha=0.05.\n",
    "\n",
    "We are going to take the seasonal period as 6. We will keep the p(0) and q(0) parameters same as the ARIMA model.\n",
    "\n",
    "The Auto-Regressive parameter in an SARIMA model is 'P' which comes from the significant lag after which the PACF plot cuts-off to 2.\n",
    "The Moving-Average parameter in an SARIMA model is 'Q' which comes from the significant lag after which the ACF plot cuts-off to 2. "
   ]
  },
  {
   "cell_type": "code",
   "execution_count": null,
   "id": "8a257a7f",
   "metadata": {
    "ExecuteTime": {
     "end_time": "2021-08-15T13:48:57.841295Z",
     "start_time": "2021-08-15T13:48:21.614151Z"
    }
   },
   "outputs": [],
   "source": [
    "manual_SARIMA_6 = SARIMAX(train[\"Rose\"],\n",
    "                         order=(4,1,2),\n",
    "                         seasonal_order=(4,1,2,6),\n",
    "                         enforce_stationarity=False,\n",
    "                         enforce_invertibility=False)\n",
    "results_manual_SARIMA_6 = manual_SARIMA_6.fit(maxiter=1000)\n",
    "display(results_manual_SARIMA_6.summary())"
   ]
  },
  {
   "cell_type": "code",
   "execution_count": null,
   "id": "b1bbd32c",
   "metadata": {
    "ExecuteTime": {
     "end_time": "2021-08-15T13:49:17.285444Z",
     "start_time": "2021-08-15T13:48:57.843296Z"
    }
   },
   "outputs": [],
   "source": [
    "manual_SARIMA_12 = SARIMAX(train[\"Rose\"],\n",
    "                         order=(4,1,2),\n",
    "                         seasonal_order=(4,1,2,12),\n",
    "                         enforce_stationarity=False,\n",
    "                         enforce_invertibility=False)\n",
    "results_manual_SARIMA_12 = manual_SARIMA_12.fit(maxiter=1000)\n",
    "display(results_manual_SARIMA_12.summary())"
   ]
  },
  {
   "cell_type": "markdown",
   "id": "e713cca3",
   "metadata": {},
   "source": [
    "## Prediction on the Test Set and Evaluation"
   ]
  },
  {
   "cell_type": "code",
   "execution_count": null,
   "id": "a3c20342",
   "metadata": {
    "ExecuteTime": {
     "end_time": "2021-08-15T13:49:17.413445Z",
     "start_time": "2021-08-15T13:49:17.288446Z"
    }
   },
   "outputs": [],
   "source": [
    "predicted_manual_SARIMA_6 = results_manual_SARIMA_6.get_forecast(steps=len(test))\n",
    "\n",
    "display(predicted_manual_SARIMA_6.summary_frame(alpha=0.05).head())\n",
    "\n",
    "\n",
    "rmse_manualsarima6 = rmse(test[\"Rose\"], predicted_manual_SARIMA_6.predicted_mean)\n",
    "display(rmse_manualsarima6)\n",
    "\n",
    "temp_resultsDf = pd.DataFrame({\"Test RMSE\": [rmse_manualsarima6]}, index=[\"SARIMA(4,1,2)(4,1,2,6)\"])\n",
    "\n",
    "resultsDf = pd.concat([resultsDf, temp_resultsDf])\n",
    "\n",
    "\n",
    "predicted_manual_SARIMA_12 = results_manual_SARIMA_12.get_forecast(steps=len(test))\n",
    "\n",
    "display(predicted_manual_SARIMA_12.summary_frame(alpha=0.05).head())\n",
    "\n",
    "\n",
    "rmse_manualsarima12 = rmse(test[\"Rose\"], predicted_manual_SARIMA_12.predicted_mean)\n",
    "display(rmse_manualsarima12)\n",
    "\n",
    "temp_resultsDf = pd.DataFrame({\"Test RMSE\": [rmse_manualsarima12]}, index=[\"SARIMA(4,1,2)(4,1,2,12)\"])\n",
    "\n",
    "resultsDf = pd.concat([resultsDf, temp_resultsDf])"
   ]
  },
  {
   "cell_type": "markdown",
   "id": "b6270d18",
   "metadata": {},
   "source": [
    "# Build table with all the above models with RMSE scores"
   ]
  },
  {
   "cell_type": "code",
   "execution_count": null,
   "id": "a2063105",
   "metadata": {
    "ExecuteTime": {
     "end_time": "2021-08-15T13:49:17.429446Z",
     "start_time": "2021-08-15T13:49:17.416446Z"
    }
   },
   "outputs": [],
   "source": [
    "display(resultsDf.sort_values(by=[\"Test RMSE\"],ascending=True))"
   ]
  },
  {
   "cell_type": "code",
   "execution_count": null,
   "id": "7c7ebf21",
   "metadata": {
    "ExecuteTime": {
     "end_time": "2021-08-15T13:49:17.989446Z",
     "start_time": "2021-08-15T13:49:17.432446Z"
    }
   },
   "outputs": [],
   "source": [
    "res_df = pd.DataFrame({'columns': resultsDf.index, 'Test RMSE': resultsDf[\"Test RMSE\"]})\n",
    "sorted_resDf_values = res_df.sort_values('Test RMSE', ascending=True)\n",
    "plt.figure(figsize=(10,10))\n",
    "sns.barplot(x='Test RMSE', y='columns', data=sorted_resDf_values)\n",
    "plt.xlabel('Test RMSE for all models')\n",
    "plt.ylabel('Model')\n",
    "plt.title('Best Models')\n",
    "plt.show()"
   ]
  },
  {
   "cell_type": "markdown",
   "id": "ef161912",
   "metadata": {},
   "source": [
    "## Build most optimum model on the Full Data"
   ]
  },
  {
   "cell_type": "code",
   "execution_count": null,
   "id": "c9dfbeb0",
   "metadata": {},
   "outputs": [],
   "source": [
    "fullmodel1 = ExponentialSmoothing(rdf,trend=\"additive\",seasonal=\"multiplicative\")\n",
    "fullmodel1= fullmodel1.fit(smoothing_level=0.3, smoothing_trend=0.3, smoothing_seasonal=0.4)\n"
   ]
  },
  {
   "cell_type": "markdown",
   "id": "97cce943",
   "metadata": {},
   "source": [
    "# Use optimal model with lowest RMSE to predict 12 months into future with a plot and confidence intervals"
   ]
  },
  {
   "cell_type": "code",
   "execution_count": null,
   "id": "85eef353",
   "metadata": {
    "ExecuteTime": {
     "end_time": "2021-08-15T14:02:25.579582Z",
     "start_time": "2021-08-15T14:02:25.060576Z"
    }
   },
   "outputs": [],
   "source": [
    "\n",
    "RMSE_fullmodel1 = rmse(rdf[\"Rose\"], fullmodel1.fittedvalues)\n",
    "display(\"Full model RMSE\", RMSE_fullmodel1)\n",
    "\n",
    "prediction_1 = fullmodel1.forecast(steps=len(test))\n",
    "\n",
    "rdf.plot(legend=True, label=\"Actual\")\n",
    "prediction_1.plot(legend=True, label=\"Forecast\")\n",
    "\n",
    "plt.show()\n"
   ]
  },
  {
   "cell_type": "code",
   "execution_count": null,
   "id": "2ed4cd01",
   "metadata": {
    "ExecuteTime": {
     "end_time": "2021-08-15T14:03:13.105540Z",
     "start_time": "2021-08-15T14:03:12.580586Z"
    },
    "scrolled": false
   },
   "outputs": [],
   "source": [
    "pred_1_df = pd.DataFrame({\"lower_CI\":prediction_1 - 1.96*fullmodel1.resid.std(),\n",
    "                          \"prediction\":prediction_1,\n",
    "                          \"upper_ci\": prediction_1 + 1.96*fullmodel1.resid.std()})\n",
    "display(pred_1_df.head().style)\n",
    "\n",
    "\n",
    "axis = rdf.plot(label=\"Actual\", figsize=(15,8))\n",
    "pred_1_df[\"prediction\"].plot(ax=axis, label=\"Forecast\", alpha=1) # alpha here is for transparency of the prediction line\n",
    "\n",
    "axis.fill_between(pred_1_df.index, pred_1_df[\"lower_CI\"], pred_1_df[\"upper_ci\"], color=\"green\", alpha=.15) # alpha here denotes the transparency of the shaded region\n",
    "\n",
    "axis.set_xlabel(\"Year-Months\")\n",
    "axis.set_ylabel(\"Rose\")\n",
    "plt.legend(loc=\"best\")\n",
    "plt.grid()\n",
    "plt.show();\n"
   ]
  },
  {
   "cell_type": "code",
   "execution_count": null,
   "id": "44856aaf",
   "metadata": {},
   "outputs": [],
   "source": []
  }
 ],
 "metadata": {
  "interpreter": {
   "hash": "b3ba2566441a7c06988d0923437866b63cedc61552a5af99d1f4fb67d367b25f"
  },
  "kernelspec": {
   "display_name": "Python 3",
   "language": "python",
   "name": "python3"
  },
  "language_info": {
   "codemirror_mode": {
    "name": "ipython",
    "version": 3
   },
   "file_extension": ".py",
   "mimetype": "text/x-python",
   "name": "python",
   "nbconvert_exporter": "python",
   "pygments_lexer": "ipython3",
   "version": "3.8.11"
  },
  "toc": {
   "base_numbering": 1,
   "nav_menu": {},
   "number_sections": true,
   "sideBar": true,
   "skip_h1_title": false,
   "title_cell": "Table of Contents",
   "title_sidebar": "Contents",
   "toc_cell": false,
   "toc_position": {
    "height": "calc(100% - 180px)",
    "left": "10px",
    "top": "150px",
    "width": "165px"
   },
   "toc_section_display": true,
   "toc_window_display": true
  }
 },
 "nbformat": 4,
 "nbformat_minor": 5
}
