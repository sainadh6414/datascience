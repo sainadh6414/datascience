{
 "cells": [
  {
   "cell_type": "code",
   "execution_count": 74,
   "metadata": {
    "ExecuteTime": {
     "end_time": "2021-04-03T23:59:53.841921Z",
     "start_time": "2021-04-03T23:59:53.824931Z"
    }
   },
   "outputs": [],
   "source": [
    "import numpy as np\n",
    "import pandas as pd\n",
    "from sklearn.tree import DecisionTreeClassifier"
   ]
  },
  {
   "cell_type": "code",
   "execution_count": 75,
   "metadata": {
    "ExecuteTime": {
     "end_time": "2021-04-03T23:59:53.888895Z",
     "start_time": "2021-04-03T23:59:53.844919Z"
    }
   },
   "outputs": [],
   "source": [
    "df = pd.read_csv('heart.csv')"
   ]
  },
  {
   "cell_type": "code",
   "execution_count": 76,
   "metadata": {
    "ExecuteTime": {
     "end_time": "2021-04-03T23:59:53.934868Z",
     "start_time": "2021-04-03T23:59:53.892893Z"
    }
   },
   "outputs": [
    {
     "data": {
      "text/html": [
       "<div>\n",
       "<style scoped>\n",
       "    .dataframe tbody tr th:only-of-type {\n",
       "        vertical-align: middle;\n",
       "    }\n",
       "\n",
       "    .dataframe tbody tr th {\n",
       "        vertical-align: top;\n",
       "    }\n",
       "\n",
       "    .dataframe thead th {\n",
       "        text-align: right;\n",
       "    }\n",
       "</style>\n",
       "<table border=\"1\" class=\"dataframe\">\n",
       "  <thead>\n",
       "    <tr style=\"text-align: right;\">\n",
       "      <th></th>\n",
       "      <th>age</th>\n",
       "      <th>sex</th>\n",
       "      <th>cp</th>\n",
       "      <th>trestbps</th>\n",
       "      <th>chol</th>\n",
       "      <th>fbs</th>\n",
       "      <th>restecg</th>\n",
       "      <th>thalach</th>\n",
       "      <th>exang</th>\n",
       "      <th>oldpeak</th>\n",
       "      <th>slope</th>\n",
       "      <th>ca</th>\n",
       "      <th>thal</th>\n",
       "      <th>target</th>\n",
       "    </tr>\n",
       "  </thead>\n",
       "  <tbody>\n",
       "    <tr>\n",
       "      <th>0</th>\n",
       "      <td>63</td>\n",
       "      <td>1</td>\n",
       "      <td>3</td>\n",
       "      <td>145</td>\n",
       "      <td>233</td>\n",
       "      <td>1</td>\n",
       "      <td>0</td>\n",
       "      <td>150</td>\n",
       "      <td>0</td>\n",
       "      <td>2.3</td>\n",
       "      <td>0</td>\n",
       "      <td>0</td>\n",
       "      <td>1</td>\n",
       "      <td>1</td>\n",
       "    </tr>\n",
       "    <tr>\n",
       "      <th>1</th>\n",
       "      <td>37</td>\n",
       "      <td>1</td>\n",
       "      <td>2</td>\n",
       "      <td>130</td>\n",
       "      <td>250</td>\n",
       "      <td>0</td>\n",
       "      <td>1</td>\n",
       "      <td>187</td>\n",
       "      <td>0</td>\n",
       "      <td>3.5</td>\n",
       "      <td>0</td>\n",
       "      <td>0</td>\n",
       "      <td>2</td>\n",
       "      <td>1</td>\n",
       "    </tr>\n",
       "    <tr>\n",
       "      <th>2</th>\n",
       "      <td>41</td>\n",
       "      <td>0</td>\n",
       "      <td>1</td>\n",
       "      <td>130</td>\n",
       "      <td>204</td>\n",
       "      <td>0</td>\n",
       "      <td>0</td>\n",
       "      <td>172</td>\n",
       "      <td>0</td>\n",
       "      <td>1.4</td>\n",
       "      <td>2</td>\n",
       "      <td>0</td>\n",
       "      <td>2</td>\n",
       "      <td>1</td>\n",
       "    </tr>\n",
       "    <tr>\n",
       "      <th>3</th>\n",
       "      <td>56</td>\n",
       "      <td>1</td>\n",
       "      <td>1</td>\n",
       "      <td>120</td>\n",
       "      <td>236</td>\n",
       "      <td>0</td>\n",
       "      <td>1</td>\n",
       "      <td>178</td>\n",
       "      <td>0</td>\n",
       "      <td>0.8</td>\n",
       "      <td>2</td>\n",
       "      <td>0</td>\n",
       "      <td>2</td>\n",
       "      <td>1</td>\n",
       "    </tr>\n",
       "    <tr>\n",
       "      <th>4</th>\n",
       "      <td>57</td>\n",
       "      <td>0</td>\n",
       "      <td>0</td>\n",
       "      <td>120</td>\n",
       "      <td>354</td>\n",
       "      <td>0</td>\n",
       "      <td>1</td>\n",
       "      <td>163</td>\n",
       "      <td>1</td>\n",
       "      <td>0.6</td>\n",
       "      <td>2</td>\n",
       "      <td>0</td>\n",
       "      <td>2</td>\n",
       "      <td>1</td>\n",
       "    </tr>\n",
       "  </tbody>\n",
       "</table>\n",
       "</div>"
      ],
      "text/plain": [
       "   age  sex  cp  trestbps  chol  fbs  restecg  thalach  exang  oldpeak  slope  \\\n",
       "0   63    1   3       145   233    1        0      150      0      2.3      0   \n",
       "1   37    1   2       130   250    0        1      187      0      3.5      0   \n",
       "2   41    0   1       130   204    0        0      172      0      1.4      2   \n",
       "3   56    1   1       120   236    0        1      178      0      0.8      2   \n",
       "4   57    0   0       120   354    0        1      163      1      0.6      2   \n",
       "\n",
       "   ca  thal  target  \n",
       "0   0     1       1  \n",
       "1   0     2       1  \n",
       "2   0     2       1  \n",
       "3   0     2       1  \n",
       "4   0     2       1  "
      ]
     },
     "execution_count": 76,
     "metadata": {},
     "output_type": "execute_result"
    }
   ],
   "source": [
    "df.head()"
   ]
  },
  {
   "cell_type": "code",
   "execution_count": 77,
   "metadata": {
    "ExecuteTime": {
     "end_time": "2021-04-03T23:59:53.980842Z",
     "start_time": "2021-04-03T23:59:53.938867Z"
    }
   },
   "outputs": [
    {
     "name": "stdout",
     "output_type": "stream",
     "text": [
      "<class 'pandas.core.frame.DataFrame'>\n",
      "RangeIndex: 303 entries, 0 to 302\n",
      "Data columns (total 14 columns):\n",
      " #   Column    Non-Null Count  Dtype  \n",
      "---  ------    --------------  -----  \n",
      " 0   age       303 non-null    int64  \n",
      " 1   sex       303 non-null    int64  \n",
      " 2   cp        303 non-null    int64  \n",
      " 3   trestbps  303 non-null    int64  \n",
      " 4   chol      303 non-null    int64  \n",
      " 5   fbs       303 non-null    int64  \n",
      " 6   restecg   303 non-null    int64  \n",
      " 7   thalach   303 non-null    int64  \n",
      " 8   exang     303 non-null    int64  \n",
      " 9   oldpeak   303 non-null    float64\n",
      " 10  slope     303 non-null    int64  \n",
      " 11  ca        303 non-null    int64  \n",
      " 12  thal      303 non-null    int64  \n",
      " 13  target    303 non-null    int64  \n",
      "dtypes: float64(1), int64(13)\n",
      "memory usage: 33.3 KB\n"
     ]
    }
   ],
   "source": [
    "df.info()"
   ]
  },
  {
   "cell_type": "code",
   "execution_count": 78,
   "metadata": {
    "ExecuteTime": {
     "end_time": "2021-04-03T23:59:53.996833Z",
     "start_time": "2021-04-03T23:59:53.984840Z"
    }
   },
   "outputs": [],
   "source": [
    "from sklearn.model_selection import train_test_split"
   ]
  },
  {
   "cell_type": "code",
   "execution_count": 79,
   "metadata": {
    "ExecuteTime": {
     "end_time": "2021-04-03T23:59:54.012824Z",
     "start_time": "2021-04-03T23:59:54.000830Z"
    }
   },
   "outputs": [],
   "source": [
    "x = df.drop('target', axis=1)\n",
    "y = df.pop('target')"
   ]
  },
  {
   "cell_type": "code",
   "execution_count": 80,
   "metadata": {
    "ExecuteTime": {
     "end_time": "2021-04-03T23:59:54.043809Z",
     "start_time": "2021-04-03T23:59:54.017822Z"
    }
   },
   "outputs": [
    {
     "data": {
      "text/plain": [
       "array([165, 138], dtype=int64)"
      ]
     },
     "execution_count": 80,
     "metadata": {},
     "output_type": "execute_result"
    }
   ],
   "source": [
    "y.value_counts().unique()"
   ]
  },
  {
   "cell_type": "code",
   "execution_count": 81,
   "metadata": {
    "ExecuteTime": {
     "end_time": "2021-04-03T23:59:54.089779Z",
     "start_time": "2021-04-03T23:59:54.049803Z"
    }
   },
   "outputs": [],
   "source": [
    "x_train, x_test, y_train, y_test = train_test_split(x, y, test_size=.30, random_state=0) "
   ]
  },
  {
   "cell_type": "code",
   "execution_count": 82,
   "metadata": {
    "ExecuteTime": {
     "end_time": "2021-04-03T23:59:54.136752Z",
     "start_time": "2021-04-03T23:59:54.093777Z"
    }
   },
   "outputs": [
    {
     "data": {
      "text/plain": [
       "91"
      ]
     },
     "execution_count": 82,
     "metadata": {},
     "output_type": "execute_result"
    }
   ],
   "source": [
    "x_test.value_counts().sum()"
   ]
  },
  {
   "cell_type": "code",
   "execution_count": 83,
   "metadata": {
    "ExecuteTime": {
     "end_time": "2021-04-03T23:59:54.151744Z",
     "start_time": "2021-04-03T23:59:54.141750Z"
    }
   },
   "outputs": [],
   "source": [
    "dt_model = DecisionTreeClassifier(criterion = 'gini', random_state=0, max_depth=7)"
   ]
  },
  {
   "cell_type": "code",
   "execution_count": 84,
   "metadata": {
    "ExecuteTime": {
     "end_time": "2021-04-03T23:59:54.183726Z",
     "start_time": "2021-04-03T23:59:54.158740Z"
    }
   },
   "outputs": [
    {
     "data": {
      "text/plain": [
       "DecisionTreeClassifier(max_depth=7, random_state=0)"
      ]
     },
     "execution_count": 84,
     "metadata": {},
     "output_type": "execute_result"
    }
   ],
   "source": [
    "dt_model.fit(x_train, y_train)"
   ]
  },
  {
   "cell_type": "code",
   "execution_count": 85,
   "metadata": {
    "ExecuteTime": {
     "end_time": "2021-04-03T23:59:54.215706Z",
     "start_time": "2021-04-03T23:59:54.189722Z"
    }
   },
   "outputs": [],
   "source": [
    "preds_test = dt_model.predict(x_test)\n",
    "preds_train = dt_model.predict(x_train)"
   ]
  },
  {
   "cell_type": "code",
   "execution_count": 126,
   "metadata": {
    "ExecuteTime": {
     "end_time": "2021-04-04T00:01:45.990273Z",
     "start_time": "2021-04-04T00:01:45.971287Z"
    }
   },
   "outputs": [
    {
     "data": {
      "text/plain": [
       "98.6"
      ]
     },
     "execution_count": 126,
     "metadata": {},
     "output_type": "execute_result"
    }
   ],
   "source": [
    "round(accuracy_score(y_train, preds_train),3)*100\n"
   ]
  },
  {
   "cell_type": "code",
   "execution_count": 125,
   "metadata": {
    "ExecuteTime": {
     "end_time": "2021-04-04T00:01:42.661183Z",
     "start_time": "2021-04-04T00:01:42.652188Z"
    }
   },
   "outputs": [
    {
     "data": {
      "text/plain": [
       "75.8"
      ]
     },
     "execution_count": 125,
     "metadata": {},
     "output_type": "execute_result"
    }
   ],
   "source": [
    "round(accuracy_score(y_test, preds_test),3)*100"
   ]
  },
  {
   "cell_type": "code",
   "execution_count": 88,
   "metadata": {
    "ExecuteTime": {
     "end_time": "2021-04-03T23:59:54.278670Z",
     "start_time": "2021-04-03T23:59:54.251687Z"
    }
   },
   "outputs": [],
   "source": [
    "from sklearn import tree"
   ]
  },
  {
   "cell_type": "code",
   "execution_count": 89,
   "metadata": {
    "ExecuteTime": {
     "end_time": "2021-04-03T23:59:54.309653Z",
     "start_time": "2021-04-03T23:59:54.281669Z"
    }
   },
   "outputs": [],
   "source": [
    "train_char_label = ['No', 'Yes']"
   ]
  },
  {
   "cell_type": "code",
   "execution_count": 90,
   "metadata": {
    "ExecuteTime": {
     "end_time": "2021-04-03T23:59:54.325644Z",
     "start_time": "2021-04-03T23:59:54.313651Z"
    }
   },
   "outputs": [],
   "source": [
    "train_tree_file = open('train_tree.dot', 'w')"
   ]
  },
  {
   "cell_type": "code",
   "execution_count": 91,
   "metadata": {
    "ExecuteTime": {
     "end_time": "2021-04-03T23:59:54.356625Z",
     "start_time": "2021-04-03T23:59:54.328642Z"
    }
   },
   "outputs": [],
   "source": [
    "dot_data = tree.export_graphviz(dt_model, out_file=train_tree_file, feature_names=list(x_train), class_names=train_char_label)"
   ]
  },
  {
   "cell_type": "code",
   "execution_count": 92,
   "metadata": {
    "ExecuteTime": {
     "end_time": "2021-04-03T23:59:54.371617Z",
     "start_time": "2021-04-03T23:59:54.359626Z"
    }
   },
   "outputs": [],
   "source": [
    "train_tree_file.close()"
   ]
  },
  {
   "cell_type": "code",
   "execution_count": 93,
   "metadata": {
    "ExecuteTime": {
     "end_time": "2021-04-03T23:59:54.386608Z",
     "start_time": "2021-04-03T23:59:54.375615Z"
    }
   },
   "outputs": [],
   "source": [
    "reg_dt_model = DecisionTreeClassifier(criterion = 'gini', max_depth=7, min_samples_leaf=10, min_samples_split=30)"
   ]
  },
  {
   "cell_type": "code",
   "execution_count": 94,
   "metadata": {
    "ExecuteTime": {
     "end_time": "2021-04-03T23:59:54.418591Z",
     "start_time": "2021-04-03T23:59:54.390607Z"
    }
   },
   "outputs": [
    {
     "data": {
      "text/plain": [
       "DecisionTreeClassifier(max_depth=7, min_samples_leaf=10, min_samples_split=30)"
      ]
     },
     "execution_count": 94,
     "metadata": {},
     "output_type": "execute_result"
    }
   ],
   "source": [
    "reg_dt_model.fit(x_train, y_train)"
   ]
  },
  {
   "cell_type": "code",
   "execution_count": 95,
   "metadata": {
    "ExecuteTime": {
     "end_time": "2021-04-03T23:59:54.449572Z",
     "start_time": "2021-04-03T23:59:54.421588Z"
    }
   },
   "outputs": [],
   "source": [
    "train_tree_regularized = open('train_tree_regularized.dot', 'a')\n",
    "\n",
    "dot_data = tree.export_graphviz(reg_dt_model, out_file=train_tree_regularized, feature_names=list(x_train), class_names=train_char_label)\n",
    "\n",
    "train_tree_regularized.close()"
   ]
  },
  {
   "cell_type": "markdown",
   "metadata": {},
   "source": [
    "## Prediction"
   ]
  },
  {
   "cell_type": "code",
   "execution_count": 96,
   "metadata": {
    "ExecuteTime": {
     "end_time": "2021-04-03T23:59:54.479556Z",
     "start_time": "2021-04-03T23:59:54.462567Z"
    }
   },
   "outputs": [
    {
     "data": {
      "text/plain": [
       "array([0.03329785, 0.04896136, 0.43841361, 0.00260221, 0.        ,\n",
       "       0.        , 0.        , 0.05021219, 0.        , 0.08901448,\n",
       "       0.        , 0.21138956, 0.12610874])"
      ]
     },
     "execution_count": 96,
     "metadata": {},
     "output_type": "execute_result"
    }
   ],
   "source": [
    "reg_dt_model.feature_importances_"
   ]
  },
  {
   "cell_type": "code",
   "execution_count": 97,
   "metadata": {
    "ExecuteTime": {
     "end_time": "2021-04-03T23:59:54.511537Z",
     "start_time": "2021-04-03T23:59:54.484553Z"
    }
   },
   "outputs": [
    {
     "name": "stdout",
     "output_type": "stream",
     "text": [
      "               Imp\n",
      "age       0.056346\n",
      "sex       0.056416\n",
      "cp        0.268492\n",
      "trestbps  0.028319\n",
      "chol      0.069979\n",
      "fbs       0.029735\n",
      "restecg   0.013516\n",
      "thalach   0.049158\n",
      "exang     0.021546\n",
      "oldpeak   0.149242\n",
      "slope     0.050561\n",
      "ca        0.129459\n",
      "thal      0.077231\n"
     ]
    }
   ],
   "source": [
    "print(pd.DataFrame(dt_model.feature_importances_, columns=['Imp'], index=x_train.columns))"
   ]
  },
  {
   "cell_type": "code",
   "execution_count": 127,
   "metadata": {
    "ExecuteTime": {
     "end_time": "2021-04-04T00:02:17.537186Z",
     "start_time": "2021-04-04T00:02:17.523194Z"
    }
   },
   "outputs": [
    {
     "name": "stdout",
     "output_type": "stream",
     "text": [
      "               Imp\n",
      "age       0.033298\n",
      "sex       0.048961\n",
      "cp        0.438414\n",
      "trestbps  0.002602\n",
      "chol      0.000000\n",
      "fbs       0.000000\n",
      "restecg   0.000000\n",
      "thalach   0.050212\n",
      "exang     0.000000\n",
      "oldpeak   0.089014\n",
      "slope     0.000000\n",
      "ca        0.211390\n",
      "thal      0.126109\n"
     ]
    }
   ],
   "source": [
    "print(pd.DataFrame(reg_dt_model.feature_importances_, columns=['Imp'], index=x_train.columns))"
   ]
  },
  {
   "cell_type": "code",
   "execution_count": 99,
   "metadata": {
    "ExecuteTime": {
     "end_time": "2021-04-03T23:59:54.557511Z",
     "start_time": "2021-04-03T23:59:54.544520Z"
    }
   },
   "outputs": [],
   "source": [
    "# Get the predictions for train and test data\n",
    "\n",
    "ytrain_predict = reg_dt_model.predict(x_train);\n",
    "ytest_predict = reg_dt_model.predict(x_test);"
   ]
  },
  {
   "cell_type": "code",
   "execution_count": 100,
   "metadata": {
    "ExecuteTime": {
     "end_time": "2021-04-03T23:59:54.588493Z",
     "start_time": "2021-04-03T23:59:54.561509Z"
    }
   },
   "outputs": [],
   "source": [
    "# Get the proportions/probability for the train and test data\n",
    "\n",
    "ytrain_predict_proba = reg_dt_model.predict_proba(x_train);\n",
    "ytest_predict_proba = reg_dt_model.predict_proba(x_test);"
   ]
  },
  {
   "cell_type": "code",
   "execution_count": 101,
   "metadata": {
    "ExecuteTime": {
     "end_time": "2021-04-03T23:59:54.636466Z",
     "start_time": "2021-04-03T23:59:54.592490Z"
    }
   },
   "outputs": [
    {
     "name": "stdout",
     "output_type": "stream",
     "text": [
      "[0 0 0 1 0 0 0 1 0 0 1 0 1 0 0 1 1 1 1 0 0 0 0 0 0 0 1 1 0 1 1 1 0 1 1 0 1\n",
      " 1 1 1 0 0 1 1 0 1 1 0 1 1 1 1 0 0 1 0 1 1 1 1 1 1 0 0 1 0 0 0 1 1 1 0 1 0\n",
      " 0 1 0 1 1 1 1 1 0 0 1 0 1 0 0 1 0 0 1 1 1 0 1 0 1 0 1 0 1 0 1 1 0 0 0 1 1\n",
      " 0 0 0 0 1 1 1 1 0 1 0 0 0 1 0 1 0 1 0 1 0 0 0 1 1 0 1 0 1 1 1 0 1 0 0 1 0\n",
      " 1 1 1 1 1 0 0 1 0 0 0 0 1 1 1 1 0 0 1 1 0 1 1 0 1 1 0 0 0 1 1 0 1 0 1 1 1\n",
      " 1 0 0 1 0 1 1 0 0 0 0 1 0 1 0 1 0 0 0 0 1 0 0 0 1 1 1] [[0.5        0.5       ]\n",
      " [0.5        0.5       ]\n",
      " [1.         0.        ]\n",
      " [0.         1.        ]\n",
      " [0.72727273 0.27272727]\n",
      " [0.5        0.5       ]\n",
      " [1.         0.        ]\n",
      " [0.         1.        ]\n",
      " [1.         0.        ]\n",
      " [1.         0.        ]\n",
      " [0.2        0.8       ]\n",
      " [0.72727273 0.27272727]\n",
      " [0.20689655 0.79310345]\n",
      " [1.         0.        ]\n",
      " [0.5        0.5       ]\n",
      " [0.20689655 0.79310345]\n",
      " [0.20689655 0.79310345]\n",
      " [0.1        0.9       ]\n",
      " [0.07142857 0.92857143]\n",
      " [0.7        0.3       ]\n",
      " [1.         0.        ]\n",
      " [1.         0.        ]\n",
      " [1.         0.        ]\n",
      " [0.5        0.5       ]\n",
      " [1.         0.        ]\n",
      " [0.5        0.5       ]\n",
      " [0.         1.        ]\n",
      " [0.07142857 0.92857143]\n",
      " [0.5        0.5       ]\n",
      " [0.1        0.9       ]\n",
      " [0.07142857 0.92857143]\n",
      " [0.         1.        ]\n",
      " [0.7        0.3       ]\n",
      " [0.20689655 0.79310345]\n",
      " [0.         1.        ]\n",
      " [0.5        0.5       ]\n",
      " [0.20689655 0.79310345]\n",
      " [0.2        0.8       ]\n",
      " [0.         1.        ]\n",
      " [0.20689655 0.79310345]\n",
      " [1.         0.        ]\n",
      " [0.78947368 0.21052632]\n",
      " [0.20689655 0.79310345]\n",
      " [0.20689655 0.79310345]\n",
      " [0.5        0.5       ]\n",
      " [0.1        0.9       ]\n",
      " [0.         1.        ]\n",
      " [1.         0.        ]\n",
      " [0.20689655 0.79310345]\n",
      " [0.1        0.9       ]\n",
      " [0.20689655 0.79310345]\n",
      " [0.07142857 0.92857143]\n",
      " [0.78947368 0.21052632]\n",
      " [0.5        0.5       ]\n",
      " [0.20689655 0.79310345]\n",
      " [1.         0.        ]\n",
      " [0.         1.        ]\n",
      " [0.         1.        ]\n",
      " [0.         1.        ]\n",
      " [0.         1.        ]\n",
      " [0.1        0.9       ]\n",
      " [0.2        0.8       ]\n",
      " [1.         0.        ]\n",
      " [0.78947368 0.21052632]\n",
      " [0.07142857 0.92857143]\n",
      " [0.78947368 0.21052632]\n",
      " [0.78947368 0.21052632]\n",
      " [1.         0.        ]\n",
      " [0.1        0.9       ]\n",
      " [0.20689655 0.79310345]\n",
      " [0.         1.        ]\n",
      " [0.78947368 0.21052632]\n",
      " [0.         1.        ]\n",
      " [1.         0.        ]\n",
      " [0.5        0.5       ]\n",
      " [0.20689655 0.79310345]\n",
      " [1.         0.        ]\n",
      " [0.         1.        ]\n",
      " [0.         1.        ]\n",
      " [0.2        0.8       ]\n",
      " [0.20689655 0.79310345]\n",
      " [0.07142857 0.92857143]\n",
      " [0.78947368 0.21052632]\n",
      " [1.         0.        ]\n",
      " [0.1        0.9       ]\n",
      " [1.         0.        ]\n",
      " [0.         1.        ]\n",
      " [1.         0.        ]\n",
      " [0.5        0.5       ]\n",
      " [0.         1.        ]\n",
      " [0.78947368 0.21052632]\n",
      " [1.         0.        ]\n",
      " [0.20689655 0.79310345]\n",
      " [0.         1.        ]\n",
      " [0.20689655 0.79310345]\n",
      " [0.72727273 0.27272727]\n",
      " [0.2        0.8       ]\n",
      " [0.5        0.5       ]\n",
      " [0.07142857 0.92857143]\n",
      " [0.78947368 0.21052632]\n",
      " [0.         1.        ]\n",
      " [0.78947368 0.21052632]\n",
      " [0.         1.        ]\n",
      " [0.7        0.3       ]\n",
      " [0.         1.        ]\n",
      " [0.         1.        ]\n",
      " [0.78947368 0.21052632]\n",
      " [0.78947368 0.21052632]\n",
      " [0.7        0.3       ]\n",
      " [0.07142857 0.92857143]\n",
      " [0.20689655 0.79310345]\n",
      " [0.78947368 0.21052632]\n",
      " [0.5        0.5       ]\n",
      " [1.         0.        ]\n",
      " [1.         0.        ]\n",
      " [0.20689655 0.79310345]\n",
      " [0.20689655 0.79310345]\n",
      " [0.07142857 0.92857143]\n",
      " [0.2        0.8       ]\n",
      " [0.72727273 0.27272727]\n",
      " [0.20689655 0.79310345]\n",
      " [1.         0.        ]\n",
      " [0.5        0.5       ]\n",
      " [1.         0.        ]\n",
      " [0.         1.        ]\n",
      " [0.72727273 0.27272727]\n",
      " [0.         1.        ]\n",
      " [1.         0.        ]\n",
      " [0.         1.        ]\n",
      " [1.         0.        ]\n",
      " [0.         1.        ]\n",
      " [0.78947368 0.21052632]\n",
      " [1.         0.        ]\n",
      " [0.7        0.3       ]\n",
      " [0.         1.        ]\n",
      " [0.         1.        ]\n",
      " [0.5        0.5       ]\n",
      " [0.20689655 0.79310345]\n",
      " [0.5        0.5       ]\n",
      " [0.20689655 0.79310345]\n",
      " [0.         1.        ]\n",
      " [0.20689655 0.79310345]\n",
      " [1.         0.        ]\n",
      " [0.         1.        ]\n",
      " [0.7        0.3       ]\n",
      " [0.78947368 0.21052632]\n",
      " [0.2        0.8       ]\n",
      " [1.         0.        ]\n",
      " [0.07142857 0.92857143]\n",
      " [0.20689655 0.79310345]\n",
      " [0.2        0.8       ]\n",
      " [0.         1.        ]\n",
      " [0.20689655 0.79310345]\n",
      " [0.78947368 0.21052632]\n",
      " [1.         0.        ]\n",
      " [0.20689655 0.79310345]\n",
      " [0.7        0.3       ]\n",
      " [0.72727273 0.27272727]\n",
      " [0.5        0.5       ]\n",
      " [1.         0.        ]\n",
      " [0.20689655 0.79310345]\n",
      " [0.07142857 0.92857143]\n",
      " [0.         1.        ]\n",
      " [0.2        0.8       ]\n",
      " [0.7        0.3       ]\n",
      " [0.7        0.3       ]\n",
      " [0.07142857 0.92857143]\n",
      " [0.1        0.9       ]\n",
      " [0.72727273 0.27272727]\n",
      " [0.         1.        ]\n",
      " [0.2        0.8       ]\n",
      " [0.7        0.3       ]\n",
      " [0.         1.        ]\n",
      " [0.20689655 0.79310345]\n",
      " [1.         0.        ]\n",
      " [0.78947368 0.21052632]\n",
      " [0.78947368 0.21052632]\n",
      " [0.         1.        ]\n",
      " [0.2        0.8       ]\n",
      " [1.         0.        ]\n",
      " [0.20689655 0.79310345]\n",
      " [1.         0.        ]\n",
      " [0.2        0.8       ]\n",
      " [0.07142857 0.92857143]\n",
      " [0.2        0.8       ]\n",
      " [0.         1.        ]\n",
      " [0.72727273 0.27272727]\n",
      " [1.         0.        ]\n",
      " [0.         1.        ]\n",
      " [0.72727273 0.27272727]\n",
      " [0.         1.        ]\n",
      " [0.2        0.8       ]\n",
      " [0.72727273 0.27272727]\n",
      " [1.         0.        ]\n",
      " [1.         0.        ]\n",
      " [1.         0.        ]\n",
      " [0.07142857 0.92857143]\n",
      " [1.         0.        ]\n",
      " [0.1        0.9       ]\n",
      " [0.5        0.5       ]\n",
      " [0.1        0.9       ]\n",
      " [1.         0.        ]\n",
      " [0.72727273 0.27272727]\n",
      " [0.5        0.5       ]\n",
      " [1.         0.        ]\n",
      " [0.         1.        ]\n",
      " [0.78947368 0.21052632]\n",
      " [1.         0.        ]\n",
      " [1.         0.        ]\n",
      " [0.         1.        ]\n",
      " [0.         1.        ]\n",
      " [0.2        0.8       ]]\n",
      "[0 1 1 0 0 0 0 0 0 0 1 1 0 1 1 0 0 1 0 1 1 0 0 0 1 1 0 0 1 1 0 0 1 1 1 1 0\n",
      " 1 0 0 1 0 1 0 0 0 0 1 0 1 1 1 1 0 1 0 1 1 1 1 1 1 1 1 1 1 1 0 1 1 0 1 1 0\n",
      " 0 0 0 0 1 0 0 0 0 1 0 1 0 0 0 1 0] [[0.78947368 0.21052632]\n",
      " [0.2        0.8       ]\n",
      " [0.2        0.8       ]\n",
      " [1.         0.        ]\n",
      " [0.5        0.5       ]\n",
      " [0.78947368 0.21052632]\n",
      " [0.78947368 0.21052632]\n",
      " [1.         0.        ]\n",
      " [1.         0.        ]\n",
      " [1.         0.        ]\n",
      " [0.         1.        ]\n",
      " [0.20689655 0.79310345]\n",
      " [0.72727273 0.27272727]\n",
      " [0.         1.        ]\n",
      " [0.         1.        ]\n",
      " [0.5        0.5       ]\n",
      " [1.         0.        ]\n",
      " [0.         1.        ]\n",
      " [1.         0.        ]\n",
      " [0.         1.        ]\n",
      " [0.20689655 0.79310345]\n",
      " [0.78947368 0.21052632]\n",
      " [0.5        0.5       ]\n",
      " [1.         0.        ]\n",
      " [0.1        0.9       ]\n",
      " [0.07142857 0.92857143]\n",
      " [1.         0.        ]\n",
      " [0.78947368 0.21052632]\n",
      " [0.07142857 0.92857143]\n",
      " [0.         1.        ]\n",
      " [0.7        0.3       ]\n",
      " [1.         0.        ]\n",
      " [0.         1.        ]\n",
      " [0.         1.        ]\n",
      " [0.         1.        ]\n",
      " [0.20689655 0.79310345]\n",
      " [0.7        0.3       ]\n",
      " [0.         1.        ]\n",
      " [1.         0.        ]\n",
      " [1.         0.        ]\n",
      " [0.20689655 0.79310345]\n",
      " [1.         0.        ]\n",
      " [0.         1.        ]\n",
      " [1.         0.        ]\n",
      " [0.5        0.5       ]\n",
      " [0.5        0.5       ]\n",
      " [0.7        0.3       ]\n",
      " [0.         1.        ]\n",
      " [1.         0.        ]\n",
      " [0.         1.        ]\n",
      " [0.         1.        ]\n",
      " [0.07142857 0.92857143]\n",
      " [0.1        0.9       ]\n",
      " [0.5        0.5       ]\n",
      " [0.1        0.9       ]\n",
      " [0.78947368 0.21052632]\n",
      " [0.07142857 0.92857143]\n",
      " [0.         1.        ]\n",
      " [0.2        0.8       ]\n",
      " [0.         1.        ]\n",
      " [0.20689655 0.79310345]\n",
      " [0.         1.        ]\n",
      " [0.07142857 0.92857143]\n",
      " [0.2        0.8       ]\n",
      " [0.20689655 0.79310345]\n",
      " [0.         1.        ]\n",
      " [0.2        0.8       ]\n",
      " [1.         0.        ]\n",
      " [0.20689655 0.79310345]\n",
      " [0.20689655 0.79310345]\n",
      " [0.78947368 0.21052632]\n",
      " [0.         1.        ]\n",
      " [0.         1.        ]\n",
      " [1.         0.        ]\n",
      " [0.72727273 0.27272727]\n",
      " [0.5        0.5       ]\n",
      " [0.7        0.3       ]\n",
      " [1.         0.        ]\n",
      " [0.         1.        ]\n",
      " [0.7        0.3       ]\n",
      " [0.72727273 0.27272727]\n",
      " [0.72727273 0.27272727]\n",
      " [0.78947368 0.21052632]\n",
      " [0.         1.        ]\n",
      " [1.         0.        ]\n",
      " [0.         1.        ]\n",
      " [0.72727273 0.27272727]\n",
      " [0.5        0.5       ]\n",
      " [0.7        0.3       ]\n",
      " [0.20689655 0.79310345]\n",
      " [0.72727273 0.27272727]]\n"
     ]
    }
   ],
   "source": [
    "print(ytrain_predict, ytrain_predict_proba)\n",
    "print(ytest_predict, ytest_predict_proba)"
   ]
  },
  {
   "cell_type": "code",
   "execution_count": 132,
   "metadata": {
    "ExecuteTime": {
     "end_time": "2021-04-04T00:06:27.459715Z",
     "start_time": "2021-04-04T00:06:27.442723Z"
    }
   },
   "outputs": [
    {
     "data": {
      "text/plain": [
       "75.7979"
      ]
     },
     "execution_count": 132,
     "metadata": {},
     "output_type": "execute_result"
    }
   ],
   "source": [
    "round(roc_auc_score(y_test,dt_model.predict_proba(x_test)[:,1]),6)*100"
   ]
  },
  {
   "cell_type": "markdown",
   "metadata": {},
   "source": [
    "## CART"
   ]
  },
  {
   "cell_type": "code",
   "execution_count": 102,
   "metadata": {
    "ExecuteTime": {
     "end_time": "2021-04-03T23:59:54.651457Z",
     "start_time": "2021-04-03T23:59:54.639465Z"
    }
   },
   "outputs": [],
   "source": [
    "import matplotlib.pyplot as plt"
   ]
  },
  {
   "cell_type": "code",
   "execution_count": 103,
   "metadata": {
    "ExecuteTime": {
     "end_time": "2021-04-03T23:59:54.682439Z",
     "start_time": "2021-04-03T23:59:54.654456Z"
    }
   },
   "outputs": [],
   "source": [
    "probs = reg_dt_model.predict_proba(x_train)"
   ]
  },
  {
   "cell_type": "code",
   "execution_count": 104,
   "metadata": {
    "ExecuteTime": {
     "end_time": "2021-04-03T23:59:54.698432Z",
     "start_time": "2021-04-03T23:59:54.686437Z"
    }
   },
   "outputs": [],
   "source": [
    "probs = probs[:, 1]"
   ]
  },
  {
   "cell_type": "code",
   "execution_count": 105,
   "metadata": {
    "ExecuteTime": {
     "end_time": "2021-04-03T23:59:54.713421Z",
     "start_time": "2021-04-03T23:59:54.702428Z"
    }
   },
   "outputs": [],
   "source": [
    "from sklearn.metrics import roc_auc_score"
   ]
  },
  {
   "cell_type": "code",
   "execution_count": 106,
   "metadata": {
    "ExecuteTime": {
     "end_time": "2021-04-03T23:59:54.729412Z",
     "start_time": "2021-04-03T23:59:54.716420Z"
    }
   },
   "outputs": [],
   "source": [
    "auc_train = roc_auc_score(y_train, probs)"
   ]
  },
  {
   "cell_type": "code",
   "execution_count": 107,
   "metadata": {
    "ExecuteTime": {
     "end_time": "2021-04-03T23:59:54.744404Z",
     "start_time": "2021-04-03T23:59:54.734409Z"
    }
   },
   "outputs": [
    {
     "data": {
      "text/plain": [
       "0.9324287774972954"
      ]
     },
     "execution_count": 107,
     "metadata": {},
     "output_type": "execute_result"
    }
   ],
   "source": [
    "auc_train"
   ]
  },
  {
   "cell_type": "code",
   "execution_count": 108,
   "metadata": {
    "ExecuteTime": {
     "end_time": "2021-04-03T23:59:54.775394Z",
     "start_time": "2021-04-03T23:59:54.748401Z"
    }
   },
   "outputs": [],
   "source": [
    "probs_test = reg_dt_model.predict_proba(x_test)[:, 1]"
   ]
  },
  {
   "cell_type": "code",
   "execution_count": 109,
   "metadata": {
    "ExecuteTime": {
     "end_time": "2021-04-03T23:59:54.791379Z",
     "start_time": "2021-04-03T23:59:54.779385Z"
    }
   },
   "outputs": [
    {
     "data": {
      "text/plain": [
       "0.834139264990329"
      ]
     },
     "execution_count": 109,
     "metadata": {},
     "output_type": "execute_result"
    }
   ],
   "source": [
    "auc_test = roc_auc_score(y_test, probs_test)\n",
    "auc_test"
   ]
  },
  {
   "cell_type": "code",
   "execution_count": 110,
   "metadata": {
    "ExecuteTime": {
     "end_time": "2021-04-03T23:59:54.806369Z",
     "start_time": "2021-04-03T23:59:54.794376Z"
    }
   },
   "outputs": [],
   "source": [
    "from sklearn.metrics import roc_curve"
   ]
  },
  {
   "cell_type": "code",
   "execution_count": 111,
   "metadata": {
    "ExecuteTime": {
     "end_time": "2021-04-03T23:59:54.822359Z",
     "start_time": "2021-04-03T23:59:54.809367Z"
    }
   },
   "outputs": [],
   "source": [
    "fpr, tpr, thresholds = roc_curve(y_train, probs)"
   ]
  },
  {
   "cell_type": "code",
   "execution_count": 112,
   "metadata": {
    "ExecuteTime": {
     "end_time": "2021-04-03T23:59:55.135179Z",
     "start_time": "2021-04-03T23:59:54.825358Z"
    }
   },
   "outputs": [
    {
     "data": {
      "image/png": "[encoded data removed]",
      "text/plain": [
       "<Figure size 432x288 with 1 Axes>"
      ]
     },
     "metadata": {
      "needs_background": "light"
     },
     "output_type": "display_data"
    }
   ],
   "source": [
    "plt.plot([0,1], [0,1], linestyle='--')\n",
    "plt.plot(fpr, tpr, marker = '.')\n",
    "plt.show()"
   ]
  },
  {
   "cell_type": "code",
   "execution_count": 113,
   "metadata": {
    "ExecuteTime": {
     "end_time": "2021-04-03T23:59:55.445002Z",
     "start_time": "2021-04-03T23:59:55.138179Z"
    }
   },
   "outputs": [
    {
     "data": {
      "image/png": "[encoded data removed]",
      "text/plain": [
       "<Figure size 432x288 with 1 Axes>"
      ]
     },
     "metadata": {
      "needs_background": "light"
     },
     "output_type": "display_data"
    }
   ],
   "source": [
    "fpr, tpr, thresholds = roc_curve(y_test, probs_test)\n",
    "\n",
    "plt.plot([0,1], [0,1], linestyle='--')\n",
    "plt.plot(fpr, tpr, marker = '.')\n",
    "plt.show()"
   ]
  },
  {
   "cell_type": "markdown",
   "metadata": {},
   "source": [
    "# Create Classification Report and Confusion Matrix\n"
   ]
  },
  {
   "cell_type": "code",
   "execution_count": 114,
   "metadata": {
    "ExecuteTime": {
     "end_time": "2021-04-03T23:59:55.460992Z",
     "start_time": "2021-04-03T23:59:55.447001Z"
    }
   },
   "outputs": [],
   "source": [
    "from sklearn.metrics import classification_report,confusion_matrix,accuracy_score,plot_confusion_matrix"
   ]
  },
  {
   "cell_type": "code",
   "execution_count": 115,
   "metadata": {
    "ExecuteTime": {
     "end_time": "2021-04-03T23:59:55.491976Z",
     "start_time": "2021-04-03T23:59:55.463992Z"
    }
   },
   "outputs": [
    {
     "name": "stdout",
     "output_type": "stream",
     "text": [
      "              precision    recall  f1-score   support\n",
      "\n",
      "           0       0.81      0.88      0.84        94\n",
      "           1       0.90      0.83      0.86       118\n",
      "\n",
      "    accuracy                           0.85       212\n",
      "   macro avg       0.85      0.86      0.85       212\n",
      "weighted avg       0.86      0.85      0.85       212\n",
      "\n"
     ]
    }
   ],
   "source": [
    "print(classification_report(y_train, ytrain_predict))"
   ]
  },
  {
   "cell_type": "code",
   "execution_count": 116,
   "metadata": {
    "ExecuteTime": {
     "end_time": "2021-04-03T23:59:55.523960Z",
     "start_time": "2021-04-03T23:59:55.495973Z"
    }
   },
   "outputs": [
    {
     "name": "stdout",
     "output_type": "stream",
     "text": [
      "              precision    recall  f1-score   support\n",
      "\n",
      "           0       0.74      0.77      0.76        44\n",
      "           1       0.78      0.74      0.76        47\n",
      "\n",
      "    accuracy                           0.76        91\n",
      "   macro avg       0.76      0.76      0.76        91\n",
      "weighted avg       0.76      0.76      0.76        91\n",
      "\n"
     ]
    }
   ],
   "source": [
    "print(classification_report(y_test, ytest_predict))"
   ]
  },
  {
   "cell_type": "code",
   "execution_count": 141,
   "metadata": {
    "ExecuteTime": {
     "end_time": "2021-04-04T00:14:14.674038Z",
     "start_time": "2021-04-04T00:14:14.401522Z"
    }
   },
   "outputs": [
    {
     "data": {
      "image/png": "[encoded data removed]",
      "text/plain": [
       "<Figure size 432x288 with 2 Axes>"
      ]
     },
     "metadata": {
      "needs_background": "light"
     },
     "output_type": "display_data"
    }
   ],
   "source": [
    "ytrain_predict1 = dt_model.predict(x_train);\n",
    "confusion_matrix(y_train, ytrain_predict1)\n",
    "\n",
    "plot_confusion_matrix(dt_model,x_train, y_train);\n",
    "plt.grid(b=False, axis='both');"
   ]
  },
  {
   "cell_type": "code",
   "execution_count": 142,
   "metadata": {
    "ExecuteTime": {
     "end_time": "2021-04-04T00:14:36.359649Z",
     "start_time": "2021-04-04T00:14:36.075413Z"
    }
   },
   "outputs": [
    {
     "data": {
      "image/png": "[encoded data removed]",
      "text/plain": [
       "<Figure size 432x288 with 2 Axes>"
      ]
     },
     "metadata": {
      "needs_background": "light"
     },
     "output_type": "display_data"
    }
   ],
   "source": [
    "ytest_predict1 = dt_model.predict(x_test);\n",
    "confusion_matrix(y_test, ytest_predict1)\n",
    "\n",
    "plot_confusion_matrix(dt_model,x_test, y_test);\n",
    "plt.grid(b=False, axis='both');"
   ]
  },
  {
   "cell_type": "code",
   "execution_count": 118,
   "metadata": {
    "ExecuteTime": {
     "end_time": "2021-04-03T23:59:56.303509Z",
     "start_time": "2021-04-03T23:59:55.556938Z"
    }
   },
   "outputs": [
    {
     "data": {
      "image/png": "[encoded data removed]",
      "text/plain": [
       "<Figure size 432x288 with 2 Axes>"
      ]
     },
     "metadata": {
      "needs_background": "light"
     },
     "output_type": "display_data"
    }
   ],
   "source": [
    "plot_confusion_matrix(reg_dt_model,x_train, y_train);\n",
    "plt.grid(b=False, axis='both');"
   ]
  },
  {
   "cell_type": "code",
   "execution_count": 119,
   "metadata": {
    "ExecuteTime": {
     "end_time": "2021-04-03T23:59:56.319500Z",
     "start_time": "2021-04-03T23:59:56.308508Z"
    }
   },
   "outputs": [
    {
     "data": {
      "text/plain": [
       "array([[34, 10],\n",
       "       [12, 35]], dtype=int64)"
      ]
     },
     "execution_count": 119,
     "metadata": {},
     "output_type": "execute_result"
    }
   ],
   "source": [
    "confusion_matrix(y_test, ytest_predict)"
   ]
  },
  {
   "cell_type": "code",
   "execution_count": 120,
   "metadata": {
    "ExecuteTime": {
     "end_time": "2021-04-03T23:59:56.693286Z",
     "start_time": "2021-04-03T23:59:56.323500Z"
    }
   },
   "outputs": [
    {
     "data": {
      "image/png": "[encoded data removed]",
      "text/plain": [
       "<Figure size 432x288 with 2 Axes>"
      ]
     },
     "metadata": {
      "needs_background": "light"
     },
     "output_type": "display_data"
    }
   ],
   "source": [
    "plot_confusion_matrix(reg_dt_model,x_test, y_test);\n",
    "plt.grid(b=False, axis='both');"
   ]
  },
  {
   "cell_type": "code",
   "execution_count": 121,
   "metadata": {
    "ExecuteTime": {
     "end_time": "2021-04-03T23:59:56.725268Z",
     "start_time": "2021-04-03T23:59:56.696285Z"
    }
   },
   "outputs": [
    {
     "data": {
      "text/plain": [
       "0.7582417582417582"
      ]
     },
     "execution_count": 121,
     "metadata": {},
     "output_type": "execute_result"
    }
   ],
   "source": [
    "#Test Data Accuracy\n",
    "reg_dt_model.score(x_test,y_test)"
   ]
  },
  {
   "cell_type": "code",
   "execution_count": 122,
   "metadata": {
    "ExecuteTime": {
     "end_time": "2021-04-03T23:59:56.756249Z",
     "start_time": "2021-04-03T23:59:56.728267Z"
    }
   },
   "outputs": [
    {
     "data": {
      "text/plain": [
       "0.8537735849056604"
      ]
     },
     "execution_count": 122,
     "metadata": {},
     "output_type": "execute_result"
    }
   ],
   "source": [
    "reg_dt_model.score(x_train,y_train)"
   ]
  },
  {
   "cell_type": "code",
   "execution_count": null,
   "metadata": {
    "ExecuteTime": {
     "end_time": "2021-04-03T23:32:33.640409Z",
     "start_time": "2021-04-03T23:32:33.614423Z"
    }
   },
   "outputs": [],
   "source": []
  },
  {
   "cell_type": "code",
   "execution_count": null,
   "metadata": {},
   "outputs": [],
   "source": []
  }
 ],
 "metadata": {
  "kernelspec": {
   "display_name": "Python 3",
   "language": "python",
   "name": "python3"
  },
  "language_info": {
   "codemirror_mode": {
    "name": "ipython",
    "version": 3
   },
   "file_extension": ".py",
   "mimetype": "text/x-python",
   "name": "python",
   "nbconvert_exporter": "python",
   "pygments_lexer": "ipython3",
   "version": "3.8.5"
  },
  "toc": {
   "base_numbering": 1,
   "nav_menu": {},
   "number_sections": true,
   "sideBar": true,
   "skip_h1_title": false,
   "title_cell": "Table of Contents",
   "title_sidebar": "Contents",
   "toc_cell": false,
   "toc_position": {},
   "toc_section_display": true,
   "toc_window_display": false
  }
 },
 "nbformat": 4,
 "nbformat_minor": 4
}
