{
 "cells": [
  {
   "cell_type": "code",
   "execution_count": 7,
   "metadata": {
    "ExecuteTime": {
     "end_time": "2021-04-02T22:47:45.036018Z",
     "start_time": "2021-04-02T22:47:44.272081Z"
    }
   },
   "outputs": [],
   "source": [
    "import numpy as np\n",
    "import pandas as pd\n",
    "from sklearn.tree import DecisionTreeClassifier"
   ]
  },
  {
   "cell_type": "code",
   "execution_count": 8,
   "metadata": {
    "ExecuteTime": {
     "end_time": "2021-04-02T22:47:45.066003Z",
     "start_time": "2021-04-02T22:47:45.042370Z"
    }
   },
   "outputs": [],
   "source": [
    "df = pd.read_csv('credit.csv')"
   ]
  },
  {
   "cell_type": "code",
   "execution_count": 9,
   "metadata": {
    "ExecuteTime": {
     "end_time": "2021-04-02T22:47:45.144989Z",
     "start_time": "2021-04-02T22:47:45.071258Z"
    }
   },
   "outputs": [
    {
     "data": {
      "text/html": [
       "<div>\n",
       "<style scoped>\n",
       "    .dataframe tbody tr th:only-of-type {\n",
       "        vertical-align: middle;\n",
       "    }\n",
       "\n",
       "    .dataframe tbody tr th {\n",
       "        vertical-align: top;\n",
       "    }\n",
       "\n",
       "    .dataframe thead th {\n",
       "        text-align: right;\n",
       "    }\n",
       "</style>\n",
       "<table border=\"1\" class=\"dataframe\">\n",
       "  <thead>\n",
       "    <tr style=\"text-align: right;\">\n",
       "      <th></th>\n",
       "      <th>checking_balance</th>\n",
       "      <th>months_loan_duration</th>\n",
       "      <th>credit_history</th>\n",
       "      <th>purpose</th>\n",
       "      <th>amount</th>\n",
       "      <th>savings_balance</th>\n",
       "      <th>employment_duration</th>\n",
       "      <th>percent_of_income</th>\n",
       "      <th>years_at_residence</th>\n",
       "      <th>age</th>\n",
       "      <th>other_credit</th>\n",
       "      <th>housing</th>\n",
       "      <th>existing_loans_count</th>\n",
       "      <th>job</th>\n",
       "      <th>dependents</th>\n",
       "      <th>phone</th>\n",
       "      <th>default</th>\n",
       "    </tr>\n",
       "  </thead>\n",
       "  <tbody>\n",
       "    <tr>\n",
       "      <th>0</th>\n",
       "      <td>&lt; 0 DM</td>\n",
       "      <td>6</td>\n",
       "      <td>critical</td>\n",
       "      <td>furniture/appliances</td>\n",
       "      <td>1169</td>\n",
       "      <td>unknown</td>\n",
       "      <td>&gt; 7 years</td>\n",
       "      <td>4</td>\n",
       "      <td>4</td>\n",
       "      <td>67</td>\n",
       "      <td>none</td>\n",
       "      <td>own</td>\n",
       "      <td>2</td>\n",
       "      <td>skilled</td>\n",
       "      <td>1</td>\n",
       "      <td>yes</td>\n",
       "      <td>no</td>\n",
       "    </tr>\n",
       "    <tr>\n",
       "      <th>1</th>\n",
       "      <td>1 - 200 DM</td>\n",
       "      <td>48</td>\n",
       "      <td>good</td>\n",
       "      <td>furniture/appliances</td>\n",
       "      <td>5951</td>\n",
       "      <td>&lt; 100 DM</td>\n",
       "      <td>1 - 4 years</td>\n",
       "      <td>2</td>\n",
       "      <td>2</td>\n",
       "      <td>22</td>\n",
       "      <td>none</td>\n",
       "      <td>own</td>\n",
       "      <td>1</td>\n",
       "      <td>skilled</td>\n",
       "      <td>1</td>\n",
       "      <td>no</td>\n",
       "      <td>yes</td>\n",
       "    </tr>\n",
       "    <tr>\n",
       "      <th>2</th>\n",
       "      <td>unknown</td>\n",
       "      <td>12</td>\n",
       "      <td>critical</td>\n",
       "      <td>education</td>\n",
       "      <td>2096</td>\n",
       "      <td>&lt; 100 DM</td>\n",
       "      <td>4 - 7 years</td>\n",
       "      <td>2</td>\n",
       "      <td>3</td>\n",
       "      <td>49</td>\n",
       "      <td>none</td>\n",
       "      <td>own</td>\n",
       "      <td>1</td>\n",
       "      <td>unskilled</td>\n",
       "      <td>2</td>\n",
       "      <td>no</td>\n",
       "      <td>no</td>\n",
       "    </tr>\n",
       "    <tr>\n",
       "      <th>3</th>\n",
       "      <td>&lt; 0 DM</td>\n",
       "      <td>42</td>\n",
       "      <td>good</td>\n",
       "      <td>furniture/appliances</td>\n",
       "      <td>7882</td>\n",
       "      <td>&lt; 100 DM</td>\n",
       "      <td>4 - 7 years</td>\n",
       "      <td>2</td>\n",
       "      <td>4</td>\n",
       "      <td>45</td>\n",
       "      <td>none</td>\n",
       "      <td>other</td>\n",
       "      <td>1</td>\n",
       "      <td>skilled</td>\n",
       "      <td>2</td>\n",
       "      <td>no</td>\n",
       "      <td>no</td>\n",
       "    </tr>\n",
       "    <tr>\n",
       "      <th>4</th>\n",
       "      <td>&lt; 0 DM</td>\n",
       "      <td>24</td>\n",
       "      <td>poor</td>\n",
       "      <td>car</td>\n",
       "      <td>4870</td>\n",
       "      <td>&lt; 100 DM</td>\n",
       "      <td>1 - 4 years</td>\n",
       "      <td>3</td>\n",
       "      <td>4</td>\n",
       "      <td>53</td>\n",
       "      <td>none</td>\n",
       "      <td>other</td>\n",
       "      <td>2</td>\n",
       "      <td>skilled</td>\n",
       "      <td>2</td>\n",
       "      <td>no</td>\n",
       "      <td>yes</td>\n",
       "    </tr>\n",
       "  </tbody>\n",
       "</table>\n",
       "</div>"
      ],
      "text/plain": [
       "  checking_balance  months_loan_duration credit_history               purpose  \\\n",
       "0           < 0 DM                     6       critical  furniture/appliances   \n",
       "1       1 - 200 DM                    48           good  furniture/appliances   \n",
       "2          unknown                    12       critical             education   \n",
       "3           < 0 DM                    42           good  furniture/appliances   \n",
       "4           < 0 DM                    24           poor                   car   \n",
       "\n",
       "   amount savings_balance employment_duration  percent_of_income  \\\n",
       "0    1169         unknown           > 7 years                  4   \n",
       "1    5951        < 100 DM         1 - 4 years                  2   \n",
       "2    2096        < 100 DM         4 - 7 years                  2   \n",
       "3    7882        < 100 DM         4 - 7 years                  2   \n",
       "4    4870        < 100 DM         1 - 4 years                  3   \n",
       "\n",
       "   years_at_residence  age other_credit housing  existing_loans_count  \\\n",
       "0                   4   67         none     own                     2   \n",
       "1                   2   22         none     own                     1   \n",
       "2                   3   49         none     own                     1   \n",
       "3                   4   45         none   other                     1   \n",
       "4                   4   53         none   other                     2   \n",
       "\n",
       "         job  dependents phone default  \n",
       "0    skilled           1   yes      no  \n",
       "1    skilled           1    no     yes  \n",
       "2  unskilled           2    no      no  \n",
       "3    skilled           2    no      no  \n",
       "4    skilled           2    no     yes  "
      ]
     },
     "execution_count": 9,
     "metadata": {},
     "output_type": "execute_result"
    }
   ],
   "source": [
    "df.head()"
   ]
  },
  {
   "cell_type": "code",
   "execution_count": 10,
   "metadata": {
    "ExecuteTime": {
     "end_time": "2021-04-02T22:47:45.207960Z",
     "start_time": "2021-04-02T22:47:45.150987Z"
    }
   },
   "outputs": [
    {
     "name": "stdout",
     "output_type": "stream",
     "text": [
      "<class 'pandas.core.frame.DataFrame'>\n",
      "RangeIndex: 1000 entries, 0 to 999\n",
      "Data columns (total 17 columns):\n",
      " #   Column                Non-Null Count  Dtype \n",
      "---  ------                --------------  ----- \n",
      " 0   checking_balance      1000 non-null   object\n",
      " 1   months_loan_duration  1000 non-null   int64 \n",
      " 2   credit_history        1000 non-null   object\n",
      " 3   purpose               1000 non-null   object\n",
      " 4   amount                1000 non-null   int64 \n",
      " 5   savings_balance       1000 non-null   object\n",
      " 6   employment_duration   1000 non-null   object\n",
      " 7   percent_of_income     1000 non-null   int64 \n",
      " 8   years_at_residence    1000 non-null   int64 \n",
      " 9   age                   1000 non-null   int64 \n",
      " 10  other_credit          1000 non-null   object\n",
      " 11  housing               1000 non-null   object\n",
      " 12  existing_loans_count  1000 non-null   int64 \n",
      " 13  job                   1000 non-null   object\n",
      " 14  dependents            1000 non-null   int64 \n",
      " 15  phone                 1000 non-null   object\n",
      " 16  default               1000 non-null   object\n",
      "dtypes: int64(7), object(10)\n",
      "memory usage: 132.9+ KB\n"
     ]
    }
   ],
   "source": [
    "df.info()"
   ]
  },
  {
   "cell_type": "markdown",
   "metadata": {},
   "source": [
    "# Transform all object data types into integer data types"
   ]
  },
  {
   "cell_type": "code",
   "execution_count": 11,
   "metadata": {
    "ExecuteTime": {
     "end_time": "2021-04-02T22:47:45.251929Z",
     "start_time": "2021-04-02T22:47:45.213951Z"
    }
   },
   "outputs": [],
   "source": [
    "for feature in df.columns:\n",
    "    if df[feature].dtype == 'object':\n",
    "        df[feature] = pd.Categorical(df[feature]).codes # codes will give the Integer representation of the Cateorical Type                                                                              "
   ]
  },
  {
   "cell_type": "code",
   "execution_count": 12,
   "metadata": {
    "ExecuteTime": {
     "end_time": "2021-04-02T22:47:45.299251Z",
     "start_time": "2021-04-02T22:47:45.255926Z"
    }
   },
   "outputs": [
    {
     "name": "stdout",
     "output_type": "stream",
     "text": [
      "<class 'pandas.core.frame.DataFrame'>\n",
      "RangeIndex: 1000 entries, 0 to 999\n",
      "Data columns (total 17 columns):\n",
      " #   Column                Non-Null Count  Dtype\n",
      "---  ------                --------------  -----\n",
      " 0   checking_balance      1000 non-null   int8 \n",
      " 1   months_loan_duration  1000 non-null   int64\n",
      " 2   credit_history        1000 non-null   int8 \n",
      " 3   purpose               1000 non-null   int8 \n",
      " 4   amount                1000 non-null   int64\n",
      " 5   savings_balance       1000 non-null   int8 \n",
      " 6   employment_duration   1000 non-null   int8 \n",
      " 7   percent_of_income     1000 non-null   int64\n",
      " 8   years_at_residence    1000 non-null   int64\n",
      " 9   age                   1000 non-null   int64\n",
      " 10  other_credit          1000 non-null   int8 \n",
      " 11  housing               1000 non-null   int8 \n",
      " 12  existing_loans_count  1000 non-null   int64\n",
      " 13  job                   1000 non-null   int8 \n",
      " 14  dependents            1000 non-null   int64\n",
      " 15  phone                 1000 non-null   int8 \n",
      " 16  default               1000 non-null   int8 \n",
      "dtypes: int64(7), int8(10)\n",
      "memory usage: 64.6 KB\n"
     ]
    }
   ],
   "source": [
    "df.info()"
   ]
  },
  {
   "cell_type": "markdown",
   "metadata": {},
   "source": [
    "# Seperate the data into dependent and independent variables"
   ]
  },
  {
   "cell_type": "code",
   "execution_count": 13,
   "metadata": {
    "ExecuteTime": {
     "end_time": "2021-04-02T22:47:45.330165Z",
     "start_time": "2021-04-02T22:47:45.307179Z"
    }
   },
   "outputs": [],
   "source": [
    "x = df.drop('default', axis=1)\n",
    "y = df.pop('default')"
   ]
  },
  {
   "cell_type": "markdown",
   "metadata": {},
   "source": [
    "# Split the data into Testing and Training"
   ]
  },
  {
   "cell_type": "markdown",
   "metadata": {},
   "source": [
    "## Cart Model - Version 1"
   ]
  },
  {
   "cell_type": "code",
   "execution_count": 14,
   "metadata": {
    "ExecuteTime": {
     "end_time": "2021-04-02T22:47:45.346157Z",
     "start_time": "2021-04-02T22:47:45.337161Z"
    }
   },
   "outputs": [],
   "source": [
    "from sklearn.model_selection import train_test_split"
   ]
  },
  {
   "cell_type": "code",
   "execution_count": 15,
   "metadata": {
    "ExecuteTime": {
     "end_time": "2021-04-02T22:47:45.377141Z",
     "start_time": "2021-04-02T22:47:45.350153Z"
    }
   },
   "outputs": [],
   "source": [
    "x_train, x_test, train_labels, test_lables = train_test_split(x, y, test_size=.30, random_state=1) # Test set size proportion is 30%"
   ]
  },
  {
   "cell_type": "markdown",
   "metadata": {},
   "source": []
  },
  {
   "cell_type": "code",
   "execution_count": 16,
   "metadata": {
    "ExecuteTime": {
     "end_time": "2021-04-02T22:47:45.408673Z",
     "start_time": "2021-04-02T22:47:45.388138Z"
    }
   },
   "outputs": [],
   "source": [
    "dt_model = DecisionTreeClassifier(criterion = 'gini')"
   ]
  },
  {
   "cell_type": "code",
   "execution_count": 17,
   "metadata": {
    "ExecuteTime": {
     "end_time": "2021-04-02T22:47:45.455645Z",
     "start_time": "2021-04-02T22:47:45.413669Z"
    }
   },
   "outputs": [
    {
     "data": {
      "text/plain": [
       "DecisionTreeClassifier()"
      ]
     },
     "execution_count": 17,
     "metadata": {},
     "output_type": "execute_result"
    }
   ],
   "source": [
    "dt_model.fit(x_train, train_labels)"
   ]
  },
  {
   "cell_type": "code",
   "execution_count": 18,
   "metadata": {
    "ExecuteTime": {
     "end_time": "2021-04-02T22:47:45.470638Z",
     "start_time": "2021-04-02T22:47:45.460643Z"
    }
   },
   "outputs": [],
   "source": [
    "from sklearn import tree"
   ]
  },
  {
   "cell_type": "code",
   "execution_count": 19,
   "metadata": {
    "ExecuteTime": {
     "end_time": "2021-04-02T22:47:45.501054Z",
     "start_time": "2021-04-02T22:47:45.476633Z"
    }
   },
   "outputs": [],
   "source": [
    "train_char_label = ['No', 'Yes']"
   ]
  },
  {
   "cell_type": "code",
   "execution_count": 20,
   "metadata": {
    "ExecuteTime": {
     "end_time": "2021-04-02T22:47:45.517047Z",
     "start_time": "2021-04-02T22:47:45.510049Z"
    }
   },
   "outputs": [],
   "source": [
    "credit_tree_file = open('c:\\credit_tree.dot', 'w')"
   ]
  },
  {
   "cell_type": "code",
   "execution_count": 21,
   "metadata": {
    "ExecuteTime": {
     "end_time": "2021-04-02T22:47:45.690609Z",
     "start_time": "2021-04-02T22:47:45.521043Z"
    }
   },
   "outputs": [],
   "source": [
    "dot_data = tree.export_graphviz(dt_model, out_file=credit_tree_file, feature_names=list(x_train), class_names=train_char_label)"
   ]
  },
  {
   "cell_type": "code",
   "execution_count": 22,
   "metadata": {
    "ExecuteTime": {
     "end_time": "2021-04-02T22:48:05.211256Z",
     "start_time": "2021-04-02T22:48:05.200266Z"
    }
   },
   "outputs": [],
   "source": [
    "credit_tree_file.close()"
   ]
  },
  {
   "cell_type": "markdown",
   "metadata": {},
   "source": [
    "## Cart Model Version 2"
   ]
  },
  {
   "cell_type": "code",
   "execution_count": 23,
   "metadata": {
    "ExecuteTime": {
     "end_time": "2021-04-03T07:15:20.823748Z",
     "start_time": "2021-04-03T07:15:20.789458Z"
    }
   },
   "outputs": [],
   "source": [
    "# min_samples_leaf - Every leaf observation has 10 samples in it. (After split)\n",
    "# min_samples_split - For a node to be split, it should have 30 observations in it. (Before split)\n",
    "# mins_samples_leaf = 3 * min_samples_split\n",
    "\n",
    "reg_dt_model = DecisionTreeClassifier(criterion = 'gini', max_depth=7, min_samples_leaf=10, min_samples_split=30)"
   ]
  },
  {
   "cell_type": "code",
   "execution_count": 24,
   "metadata": {
    "ExecuteTime": {
     "end_time": "2021-04-03T07:15:59.567877Z",
     "start_time": "2021-04-03T07:15:59.444142Z"
    }
   },
   "outputs": [
    {
     "data": {
      "text/plain": [
       "DecisionTreeClassifier(max_depth=7, min_samples_leaf=10, min_samples_split=30)"
      ]
     },
     "execution_count": 24,
     "metadata": {},
     "output_type": "execute_result"
    }
   ],
   "source": [
    "reg_dt_model.fit(x_train, train_labels)"
   ]
  },
  {
   "cell_type": "code",
   "execution_count": 25,
   "metadata": {
    "ExecuteTime": {
     "end_time": "2021-04-03T08:11:06.170236Z",
     "start_time": "2021-04-03T08:11:06.104276Z"
    }
   },
   "outputs": [],
   "source": [
    "credit_tree_regularized = open('c:\\credit_tree_regularized.dot', 'a')\n",
    "\n",
    "dot_data = tree.export_graphviz(reg_dt_model, out_file=credit_tree_regularized, feature_names=list(x_train), class_names=train_char_label)\n",
    "\n",
    "credit_tree_regularized.close()"
   ]
  },
  {
   "cell_type": "markdown",
   "metadata": {},
   "source": [
    "# Check How to Predict for the Test Data"
   ]
  },
  {
   "cell_type": "markdown",
   "metadata": {},
   "source": [
    "## Understand model's feature importances"
   ]
  },
  {
   "cell_type": "markdown",
   "metadata": {},
   "source": [
    "It's a measure of Gini Gain Contribution made by every variable, you can use to remove some not important variables"
   ]
  },
  {
   "cell_type": "code",
   "execution_count": 26,
   "metadata": {
    "ExecuteTime": {
     "end_time": "2021-04-03T08:14:21.659667Z",
     "start_time": "2021-04-03T08:14:21.625052Z"
    }
   },
   "outputs": [
    {
     "data": {
      "text/plain": [
       "array([0.39825712, 0.14608975, 0.09986185, 0.06438364, 0.09635413,\n",
       "       0.07521616, 0.03116225, 0.02941814, 0.        , 0.00909944,\n",
       "       0.02221617, 0.        , 0.01221686, 0.01572449, 0.        ,\n",
       "       0.        ])"
      ]
     },
     "execution_count": 26,
     "metadata": {},
     "output_type": "execute_result"
    }
   ],
   "source": [
    "reg_dt_model.feature_importances_"
   ]
  },
  {
   "cell_type": "code",
   "execution_count": 28,
   "metadata": {
    "ExecuteTime": {
     "end_time": "2021-04-03T08:16:41.743473Z",
     "start_time": "2021-04-03T08:16:41.728480Z"
    }
   },
   "outputs": [
    {
     "name": "stdout",
     "output_type": "stream",
     "text": [
      "                           Imp\n",
      "checking_balance      0.139521\n",
      "months_loan_duration  0.083650\n",
      "credit_history        0.068862\n",
      "purpose               0.062547\n",
      "amount                0.182092\n",
      "savings_balance       0.067363\n",
      "employment_duration   0.072014\n",
      "percent_of_income     0.035592\n",
      "years_at_residence    0.038772\n",
      "age                   0.153625\n",
      "other_credit          0.017890\n",
      "housing               0.007973\n",
      "existing_loans_count  0.017788\n",
      "job                   0.023460\n",
      "dependents            0.017836\n",
      "phone                 0.011017\n"
     ]
    }
   ],
   "source": [
    "print(pd.DataFrame(dt_model.feature_importances_, columns=['Imp'], index=x_train.columns))"
   ]
  },
  {
   "cell_type": "code",
   "execution_count": 29,
   "metadata": {
    "ExecuteTime": {
     "end_time": "2021-04-03T08:16:44.548872Z",
     "start_time": "2021-04-03T08:16:44.527884Z"
    }
   },
   "outputs": [
    {
     "name": "stdout",
     "output_type": "stream",
     "text": [
      "                           Imp\n",
      "checking_balance      0.398257\n",
      "months_loan_duration  0.146090\n",
      "credit_history        0.099862\n",
      "purpose               0.064384\n",
      "amount                0.096354\n",
      "savings_balance       0.075216\n",
      "employment_duration   0.031162\n",
      "percent_of_income     0.029418\n",
      "years_at_residence    0.000000\n",
      "age                   0.009099\n",
      "other_credit          0.022216\n",
      "housing               0.000000\n",
      "existing_loans_count  0.012217\n",
      "job                   0.015724\n",
      "dependents            0.000000\n",
      "phone                 0.000000\n"
     ]
    }
   ],
   "source": [
    "print(pd.DataFrame(reg_dt_model.feature_importances_, columns=['Imp'], index=x_train.columns))"
   ]
  },
  {
   "cell_type": "markdown",
   "metadata": {},
   "source": [
    "## Prediction"
   ]
  },
  {
   "cell_type": "code",
   "execution_count": 30,
   "metadata": {
    "ExecuteTime": {
     "end_time": "2021-04-03T08:21:36.891681Z",
     "start_time": "2021-04-03T08:21:36.844706Z"
    }
   },
   "outputs": [],
   "source": [
    "# Get the predictions for train and test data\n",
    "\n",
    "ytrain_predict = reg_dt_model.predict(x_train);\n",
    "ytest_predict = reg_dt_model.predict(x_test);"
   ]
  },
  {
   "cell_type": "code",
   "execution_count": 31,
   "metadata": {
    "ExecuteTime": {
     "end_time": "2021-04-03T08:21:38.429532Z",
     "start_time": "2021-04-03T08:21:38.408547Z"
    }
   },
   "outputs": [],
   "source": [
    "# Get the proportions/probability for the train and test data\n",
    "\n",
    "ytrain_predict_proba = reg_dt_model.predict_proba(x_train);\n",
    "ytest_predict_proba = reg_dt_model.predict_proba(x_test);"
   ]
  },
  {
   "cell_type": "code",
   "execution_count": 32,
   "metadata": {
    "ExecuteTime": {
     "end_time": "2021-04-03T08:22:27.757366Z",
     "start_time": "2021-04-03T08:22:27.689818Z"
    }
   },
   "outputs": [
    {
     "name": "stdout",
     "output_type": "stream",
     "text": [
      "[1 0 1 1 0 0 1 0 0 0 0 0 0 0 0 0 1 0 1 0 0 0 1 0 0 0 1 0 0 0 1 0 0 0 0 1 0\n",
      " 1 0 0 1 0 0 0 0 0 0 0 0 0 0 0 0 1 1 0 0 0 0 0 0 1 0 1 0 0 1 1 0 0 1 0 0 0\n",
      " 1 0 0 1 0 0 0 0 0 1 0 0 1 0 1 0 0 0 0 0 1 1 0 0 0 0 0 0 1 0 1 0 0 1 0 0 0\n",
      " 0 0 0 0 0 0 0 0 1 0 0 0 0 0 0 0 0 0 0 0 1 0 1 0 0 1 0 1 1 1 1 0 0 0 0 0 1\n",
      " 0 0 0 0 1 0 0 0 0 1 0 0 0 0 0 1 1 1 0 0 1 0 0 1 1 0 1 0 0 0 0 0 1 1 0 1 0\n",
      " 0 0 1 0 0 0 0 0 0 0 0 1 0 1 0 1 0 0 0 1 0 0 0 1 0 0 1 0 0 1 1 0 1 0 1 0 0\n",
      " 0 0 1 1 1 0 0 0 1 0 0 0 0 0 0 0 1 0 0 0 0 0 0 0 0 0 1 1 0 1 0 1 1 1 0 0 0\n",
      " 0 0 0 0 0 1 1 0 0 0 0 0 1 0 0 1 1 0 0 0 0 0 1 0 0 1 0 0 0 0 0 0 1 1 1 0 1\n",
      " 0 0 1 1 1 0 1 0 0 0 1 0 0 0 0 1 0 0 1 0 0 0 1 0 1 0 0 0 0 1 0 1 0 1 1 0 1\n",
      " 0 1 0 0 0 0 0 0 1 1 0 0 0 0 0 1 0 0 0 1 0 0 1 0 0 1 0 0 0 1 1 0 1 1 1 0 0\n",
      " 0 0 0 0 0 0 0 1 0 1 0 0 1 1 0 0 0 0 0 0 1 0 1 0 0 0 0 1 0 1 0 1 0 0 0 1 0\n",
      " 1 1 0 1 1 0 0 0 0 0 0 0 0 0 1 1 0 0 1 0 0 0 0 1 1 0 0 0 1 0 0 0 1 0 0 1 0\n",
      " 0 0 0 1 0 0 1 0 0 0 0 0 0 0 0 1 1 0 0 0 0 0 0 0 0 1 0 0 1 0 0 0 0 0 0 0 1\n",
      " 0 0 1 0 0 1 0 0 0 0 0 0 0 0 0 0 0 0 0 0 0 0 0 0 0 0 0 0 0 1 0 0 0 0 0 0 0\n",
      " 0 0 1 0 0 0 1 0 0 1 0 0 1 0 1 0 0 0 0 0 0 0 1 0 0 0 0 0 0 0 0 0 1 0 1 0 1\n",
      " 0 0 0 0 1 1 1 1 1 0 0 0 1 0 0 0 0 1 0 0 0 0 0 0 0 0 0 1 0 0 1 0 0 0 0 0 0\n",
      " 0 0 0 1 1 1 0 0 0 0 0 1 1 0 1 0 0 0 1 1 0 0 0 0 0 0 1 0 1 0 0 0 1 1 0 0 0\n",
      " 1 0 0 1 0 0 0 0 1 1 0 0 0 0 1 0 0 1 1 1 1 0 0 1 1 0 1 0 0 1 0 0 1 0 0 1 1\n",
      " 0 0 0 0 1 1 0 0 1 0 0 1 0 0 0 0 0 0 0 0 1 1 0 0 0 0 0 0 1 0 0 0 1 0] [[0.24137931 0.75862069]\n",
      " [1.         0.        ]\n",
      " [0.43478261 0.56521739]\n",
      " ...\n",
      " [0.82142857 0.17857143]\n",
      " [0.24137931 0.75862069]\n",
      " [0.8125     0.1875    ]]\n",
      "[1 1 0 1 1 1 0 1 0 0 1 1 0 0 0 0 0 0 0 1 0 1 0 0 0 0 1 0 0 1 0 0 1 0 0 1 0\n",
      " 1 0 0 1 0 0 1 1 0 0 0 0 0 0 0 1 1 1 0 1 1 0 0 1 0 1 0 0 1 0 0 1 1 0 0 0 0\n",
      " 0 0 1 1 0 0 0 0 0 0 1 0 0 0 1 0 0 0 0 0 1 0 0 1 0 1 0 1 0 0 0 0 0 1 1 0 0\n",
      " 0 0 1 0 0 1 0 0 0 0 0 1 1 0 0 0 1 0 0 0 0 0 0 0 0 0 0 0 0 0 0 1 0 0 0 0 0\n",
      " 0 1 0 0 0 0 0 0 0 0 0 0 0 1 0 0 1 0 0 0 0 0 0 0 0 0 1 1 1 0 0 0 0 0 1 0 0\n",
      " 0 0 0 1 1 0 0 0 0 0 0 0 0 0 0 0 0 0 1 0 0 0 0 0 1 0 0 1 0 0 0 1 0 1 0 1 0\n",
      " 1 0 1 0 0 1 1 0 0 0 0 0 1 0 0 0 0 0 0 0 1 1 0 0 1 0 0 0 0 0 0 0 1 0 0 1 1\n",
      " 0 0 0 0 0 0 0 0 0 0 0 0 0 1 0 0 0 0 0 0 0 1 0 1 0 1 0 0 0 0 1 1 0 1 0 0 0\n",
      " 0 0 0 0] [[0.25       0.75      ]\n",
      " [0.21428571 0.78571429]\n",
      " [0.82142857 0.17857143]\n",
      " [0.4047619  0.5952381 ]\n",
      " [0.12       0.88      ]\n",
      " [0.27777778 0.72222222]\n",
      " [0.78571429 0.21428571]\n",
      " [0.27777778 0.72222222]\n",
      " [0.9        0.1       ]\n",
      " [0.96666667 0.03333333]\n",
      " [0.24137931 0.75862069]\n",
      " [0.4047619  0.5952381 ]\n",
      " [1.         0.        ]\n",
      " [1.         0.        ]\n",
      " [0.72413793 0.27586207]\n",
      " [0.82142857 0.17857143]\n",
      " [1.         0.        ]\n",
      " [0.8125     0.1875    ]\n",
      " [0.68181818 0.31818182]\n",
      " [0.21428571 0.78571429]\n",
      " [0.8125     0.1875    ]\n",
      " [0.27777778 0.72222222]\n",
      " [0.63636364 0.36363636]\n",
      " [0.96666667 0.03333333]\n",
      " [1.         0.        ]\n",
      " [0.78571429 0.21428571]\n",
      " [0.36363636 0.63636364]\n",
      " [0.96666667 0.03333333]\n",
      " [1.         0.        ]\n",
      " [0.12       0.88      ]\n",
      " [0.53846154 0.46153846]\n",
      " [1.         0.        ]\n",
      " [0.36363636 0.63636364]\n",
      " [0.78571429 0.21428571]\n",
      " [0.68181818 0.31818182]\n",
      " [0.21428571 0.78571429]\n",
      " [0.72413793 0.27586207]\n",
      " [0.25       0.75      ]\n",
      " [1.         0.        ]\n",
      " [0.8125     0.1875    ]\n",
      " [0.24137931 0.75862069]\n",
      " [1.         0.        ]\n",
      " [0.9        0.1       ]\n",
      " [0.4047619  0.5952381 ]\n",
      " [0.27777778 0.72222222]\n",
      " [1.         0.        ]\n",
      " [1.         0.        ]\n",
      " [0.76       0.24      ]\n",
      " [0.8125     0.1875    ]\n",
      " [0.72413793 0.27586207]\n",
      " [1.         0.        ]\n",
      " [0.96666667 0.03333333]\n",
      " [0.4047619  0.5952381 ]\n",
      " [0.4047619  0.5952381 ]\n",
      " [0.4047619  0.5952381 ]\n",
      " [0.8125     0.1875    ]\n",
      " [0.43478261 0.56521739]\n",
      " [0.12       0.88      ]\n",
      " [0.96666667 0.03333333]\n",
      " [1.         0.        ]\n",
      " [0.43478261 0.56521739]\n",
      " [1.         0.        ]\n",
      " [0.21428571 0.78571429]\n",
      " [1.         0.        ]\n",
      " [0.7037037  0.2962963 ]\n",
      " [0.21428571 0.78571429]\n",
      " [0.65517241 0.34482759]\n",
      " [0.96666667 0.03333333]\n",
      " [0.4047619  0.5952381 ]\n",
      " [0.36363636 0.63636364]\n",
      " [1.         0.        ]\n",
      " [1.         0.        ]\n",
      " [0.96666667 0.03333333]\n",
      " [0.76       0.24      ]\n",
      " [0.68181818 0.31818182]\n",
      " [0.53846154 0.46153846]\n",
      " [0.12       0.88      ]\n",
      " [0.4047619  0.5952381 ]\n",
      " [1.         0.        ]\n",
      " [0.96666667 0.03333333]\n",
      " [0.9047619  0.0952381 ]\n",
      " [1.         0.        ]\n",
      " [1.         0.        ]\n",
      " [1.         0.        ]\n",
      " [0.24137931 0.75862069]\n",
      " [0.73913043 0.26086957]\n",
      " [0.76       0.24      ]\n",
      " [0.65517241 0.34482759]\n",
      " [0.27777778 0.72222222]\n",
      " [1.         0.        ]\n",
      " [1.         0.        ]\n",
      " [1.         0.        ]\n",
      " [0.8        0.2       ]\n",
      " [1.         0.        ]\n",
      " [0.36363636 0.63636364]\n",
      " [0.65517241 0.34482759]\n",
      " [1.         0.        ]\n",
      " [0.4047619  0.5952381 ]\n",
      " [0.8125     0.1875    ]\n",
      " [0.4047619  0.5952381 ]\n",
      " [1.         0.        ]\n",
      " [0.24137931 0.75862069]\n",
      " [0.7037037  0.2962963 ]\n",
      " [1.         0.        ]\n",
      " [0.96666667 0.03333333]\n",
      " [1.         0.        ]\n",
      " [0.8125     0.1875    ]\n",
      " [0.12       0.88      ]\n",
      " [0.47619048 0.52380952]\n",
      " [0.68181818 0.31818182]\n",
      " [1.         0.        ]\n",
      " [1.         0.        ]\n",
      " [0.78571429 0.21428571]\n",
      " [0.4047619  0.5952381 ]\n",
      " [0.65517241 0.34482759]\n",
      " [1.         0.        ]\n",
      " [0.25       0.75      ]\n",
      " [1.         0.        ]\n",
      " [0.73913043 0.26086957]\n",
      " [0.8125     0.1875    ]\n",
      " [0.65517241 0.34482759]\n",
      " [0.8125     0.1875    ]\n",
      " [0.21428571 0.78571429]\n",
      " [0.4047619  0.5952381 ]\n",
      " [1.         0.        ]\n",
      " [1.         0.        ]\n",
      " [0.68181818 0.31818182]\n",
      " [0.47619048 0.52380952]\n",
      " [1.         0.        ]\n",
      " [0.7037037  0.2962963 ]\n",
      " [0.72413793 0.27586207]\n",
      " [0.8125     0.1875    ]\n",
      " [1.         0.        ]\n",
      " [1.         0.        ]\n",
      " [0.96666667 0.03333333]\n",
      " [1.         0.        ]\n",
      " [1.         0.        ]\n",
      " [1.         0.        ]\n",
      " [0.96666667 0.03333333]\n",
      " [1.         0.        ]\n",
      " [0.7037037  0.2962963 ]\n",
      " [1.         0.        ]\n",
      " [0.12       0.88      ]\n",
      " [1.         0.        ]\n",
      " [0.8125     0.1875    ]\n",
      " [0.8125     0.1875    ]\n",
      " [0.65517241 0.34482759]\n",
      " [0.96666667 0.03333333]\n",
      " [0.76       0.24      ]\n",
      " [0.12       0.88      ]\n",
      " [0.96666667 0.03333333]\n",
      " [1.         0.        ]\n",
      " [0.72413793 0.27586207]\n",
      " [0.78571429 0.21428571]\n",
      " [0.68181818 0.31818182]\n",
      " [1.         0.        ]\n",
      " [0.8125     0.1875    ]\n",
      " [1.         0.        ]\n",
      " [0.68181818 0.31818182]\n",
      " [0.96666667 0.03333333]\n",
      " [1.         0.        ]\n",
      " [0.21428571 0.78571429]\n",
      " [0.78571429 0.21428571]\n",
      " [0.96666667 0.03333333]\n",
      " [0.12       0.88      ]\n",
      " [1.         0.        ]\n",
      " [0.72413793 0.27586207]\n",
      " [0.7037037  0.2962963 ]\n",
      " [1.         0.        ]\n",
      " [1.         0.        ]\n",
      " [0.65517241 0.34482759]\n",
      " [0.8125     0.1875    ]\n",
      " [1.         0.        ]\n",
      " [0.72413793 0.27586207]\n",
      " [0.4047619  0.5952381 ]\n",
      " [0.27777778 0.72222222]\n",
      " [0.25       0.75      ]\n",
      " [0.78571429 0.21428571]\n",
      " [0.96666667 0.03333333]\n",
      " [0.8125     0.1875    ]\n",
      " [0.73913043 0.26086957]\n",
      " [0.9047619  0.0952381 ]\n",
      " [0.27777778 0.72222222]\n",
      " [0.8125     0.1875    ]\n",
      " [1.         0.        ]\n",
      " [0.72413793 0.27586207]\n",
      " [0.9        0.1       ]\n",
      " [0.65517241 0.34482759]\n",
      " [0.43478261 0.56521739]\n",
      " [0.21428571 0.78571429]\n",
      " [0.8125     0.1875    ]\n",
      " [0.78571429 0.21428571]\n",
      " [0.76       0.24      ]\n",
      " [1.         0.        ]\n",
      " [1.         0.        ]\n",
      " [0.65517241 0.34482759]\n",
      " [0.73913043 0.26086957]\n",
      " [1.         0.        ]\n",
      " [0.8125     0.1875    ]\n",
      " [1.         0.        ]\n",
      " [1.         0.        ]\n",
      " [1.         0.        ]\n",
      " [0.8125     0.1875    ]\n",
      " [0.27777778 0.72222222]\n",
      " [0.73913043 0.26086957]\n",
      " [0.8125     0.1875    ]\n",
      " [0.8125     0.1875    ]\n",
      " [1.         0.        ]\n",
      " [0.7037037  0.2962963 ]\n",
      " [0.4047619  0.5952381 ]\n",
      " [1.         0.        ]\n",
      " [0.72413793 0.27586207]\n",
      " [0.27777778 0.72222222]\n",
      " [1.         0.        ]\n",
      " [0.78571429 0.21428571]\n",
      " [0.63636364 0.36363636]\n",
      " [0.24137931 0.75862069]\n",
      " [1.         0.        ]\n",
      " [0.12       0.88      ]\n",
      " [1.         0.        ]\n",
      " [0.27777778 0.72222222]\n",
      " [0.78571429 0.21428571]\n",
      " [0.4047619  0.5952381 ]\n",
      " [1.         0.        ]\n",
      " [0.36363636 0.63636364]\n",
      " [1.         0.        ]\n",
      " [1.         0.        ]\n",
      " [0.27777778 0.72222222]\n",
      " [0.4047619  0.5952381 ]\n",
      " [0.76       0.24      ]\n",
      " [1.         0.        ]\n",
      " [0.78571429 0.21428571]\n",
      " [0.9047619  0.0952381 ]\n",
      " [1.         0.        ]\n",
      " [0.4047619  0.5952381 ]\n",
      " [0.72413793 0.27586207]\n",
      " [0.96666667 0.03333333]\n",
      " [0.96666667 0.03333333]\n",
      " [0.7037037  0.2962963 ]\n",
      " [1.         0.        ]\n",
      " [0.7037037  0.2962963 ]\n",
      " [0.65517241 0.34482759]\n",
      " [0.4047619  0.5952381 ]\n",
      " [0.43478261 0.56521739]\n",
      " [0.63636364 0.36363636]\n",
      " [1.         0.        ]\n",
      " [0.4047619  0.5952381 ]\n",
      " [0.65517241 0.34482759]\n",
      " [1.         0.        ]\n",
      " [1.         0.        ]\n",
      " [0.8125     0.1875    ]\n",
      " [1.         0.        ]\n",
      " [0.68181818 0.31818182]\n",
      " [0.7037037  0.2962963 ]\n",
      " [0.4047619  0.5952381 ]\n",
      " [0.76       0.24      ]\n",
      " [0.73913043 0.26086957]\n",
      " [0.21428571 0.78571429]\n",
      " [0.4047619  0.5952381 ]\n",
      " [0.65517241 0.34482759]\n",
      " [1.         0.        ]\n",
      " [0.72413793 0.27586207]\n",
      " [0.78571429 0.21428571]\n",
      " [1.         0.        ]\n",
      " [0.63636364 0.36363636]\n",
      " [0.76       0.24      ]\n",
      " [0.73913043 0.26086957]\n",
      " [1.         0.        ]\n",
      " [0.53846154 0.46153846]\n",
      " [0.53846154 0.46153846]\n",
      " [0.8125     0.1875    ]\n",
      " [0.78571429 0.21428571]\n",
      " [0.27777778 0.72222222]\n",
      " [1.         0.        ]\n",
      " [0.78571429 0.21428571]\n",
      " [1.         0.        ]\n",
      " [1.         0.        ]\n",
      " [0.65517241 0.34482759]\n",
      " [1.         0.        ]\n",
      " [1.         0.        ]\n",
      " [0.12       0.88      ]\n",
      " [1.         0.        ]\n",
      " [0.36363636 0.63636364]\n",
      " [0.7037037  0.2962963 ]\n",
      " [0.21428571 0.78571429]\n",
      " [0.76       0.24      ]\n",
      " [1.         0.        ]\n",
      " [0.68181818 0.31818182]\n",
      " [1.         0.        ]\n",
      " [0.21428571 0.78571429]\n",
      " [0.47619048 0.52380952]\n",
      " [1.         0.        ]\n",
      " [0.12       0.88      ]\n",
      " [0.96666667 0.03333333]\n",
      " [0.73913043 0.26086957]\n",
      " [0.8125     0.1875    ]\n",
      " [1.         0.        ]\n",
      " [1.         0.        ]\n",
      " [0.7037037  0.2962963 ]\n",
      " [1.         0.        ]]\n"
     ]
    }
   ],
   "source": [
    "print(ytrain_predict, ytrain_predict_proba)\n",
    "print(ytest_predict, ytest_predict_proba)"
   ]
  },
  {
   "cell_type": "markdown",
   "metadata": {},
   "source": [
    "# CART - Model performance measure hands on"
   ]
  },
  {
   "cell_type": "markdown",
   "metadata": {},
   "source": [
    "### Build an ROC Curve"
   ]
  },
  {
   "cell_type": "code",
   "execution_count": 33,
   "metadata": {
    "ExecuteTime": {
     "end_time": "2021-04-03T22:42:26.539049Z",
     "start_time": "2021-04-03T22:42:24.785026Z"
    }
   },
   "outputs": [],
   "source": [
    "import matplotlib.pyplot as plt"
   ]
  },
  {
   "cell_type": "code",
   "execution_count": 34,
   "metadata": {
    "ExecuteTime": {
     "end_time": "2021-04-03T22:42:39.721884Z",
     "start_time": "2021-04-03T22:42:39.676777Z"
    }
   },
   "outputs": [],
   "source": [
    "probs = reg_dt_model.predict_proba(x_train)"
   ]
  },
  {
   "cell_type": "code",
   "execution_count": 35,
   "metadata": {
    "ExecuteTime": {
     "end_time": "2021-04-03T22:42:51.034979Z",
     "start_time": "2021-04-03T22:42:51.012992Z"
    }
   },
   "outputs": [],
   "source": [
    "probs = probs[:, 1]"
   ]
  },
  {
   "cell_type": "code",
   "execution_count": 36,
   "metadata": {
    "ExecuteTime": {
     "end_time": "2021-04-03T22:43:24.172087Z",
     "start_time": "2021-04-03T22:43:24.154077Z"
    }
   },
   "outputs": [],
   "source": [
    "from sklearn.metrics import roc_auc_score"
   ]
  },
  {
   "cell_type": "code",
   "execution_count": 37,
   "metadata": {
    "ExecuteTime": {
     "end_time": "2021-04-03T22:43:37.452331Z",
     "start_time": "2021-04-03T22:43:37.403102Z"
    }
   },
   "outputs": [],
   "source": [
    "auc = roc_auc_score(train_labels, probs)"
   ]
  },
  {
   "cell_type": "code",
   "execution_count": 38,
   "metadata": {
    "ExecuteTime": {
     "end_time": "2021-04-03T22:43:38.666963Z",
     "start_time": "2021-04-03T22:43:38.650444Z"
    }
   },
   "outputs": [
    {
     "data": {
      "text/plain": [
       "0.8510586131302642"
      ]
     },
     "execution_count": 38,
     "metadata": {},
     "output_type": "execute_result"
    }
   ],
   "source": [
    "auc"
   ]
  },
  {
   "cell_type": "code",
   "execution_count": 48,
   "metadata": {
    "ExecuteTime": {
     "end_time": "2021-04-03T22:49:15.501708Z",
     "start_time": "2021-04-03T22:49:15.491713Z"
    }
   },
   "outputs": [],
   "source": [
    "probs_test = reg_dt_model.predict_proba(x_test)[:, 1]"
   ]
  },
  {
   "cell_type": "code",
   "execution_count": 49,
   "metadata": {
    "ExecuteTime": {
     "end_time": "2021-04-03T22:49:16.482712Z",
     "start_time": "2021-04-03T22:49:16.463619Z"
    }
   },
   "outputs": [
    {
     "data": {
      "text/plain": [
       "0.724788089545751"
      ]
     },
     "execution_count": 49,
     "metadata": {},
     "output_type": "execute_result"
    }
   ],
   "source": [
    "auc_test = roc_auc_score(test_lables, probs_test)\n",
    "auc_test"
   ]
  },
  {
   "cell_type": "code",
   "execution_count": 44,
   "metadata": {
    "ExecuteTime": {
     "end_time": "2021-04-03T22:46:22.060184Z",
     "start_time": "2021-04-03T22:46:22.056189Z"
    }
   },
   "outputs": [],
   "source": [
    "from sklearn.metrics import roc_curve"
   ]
  },
  {
   "cell_type": "code",
   "execution_count": 45,
   "metadata": {
    "ExecuteTime": {
     "end_time": "2021-04-03T22:46:53.112730Z",
     "start_time": "2021-04-03T22:46:53.089989Z"
    }
   },
   "outputs": [],
   "source": [
    "fpr, tpr, thresholds = roc_curve(train_labels, probs)"
   ]
  },
  {
   "cell_type": "code",
   "execution_count": 46,
   "metadata": {
    "ExecuteTime": {
     "end_time": "2021-04-03T22:48:00.452118Z",
     "start_time": "2021-04-03T22:48:00.071556Z"
    }
   },
   "outputs": [
    {
     "data": {
      "image/png": "[encoded data removed]",
      "text/plain": [
       "<Figure size 432x288 with 1 Axes>"
      ]
     },
     "metadata": {
      "needs_background": "light"
     },
     "output_type": "display_data"
    }
   ],
   "source": [
    "plt.plot([0,1], [0,1], linestyle='--')\n",
    "plt.plot(fpr, tpr, marker = '.')\n",
    "plt.show()"
   ]
  },
  {
   "cell_type": "code",
   "execution_count": 51,
   "metadata": {
    "ExecuteTime": {
     "end_time": "2021-04-03T22:51:02.865850Z",
     "start_time": "2021-04-03T22:51:02.604453Z"
    }
   },
   "outputs": [
    {
     "data": {
      "image/png": "[encoded data removed]",
      "text/plain": [
       "<Figure size 432x288 with 1 Axes>"
      ]
     },
     "metadata": {
      "needs_background": "light"
     },
     "output_type": "display_data"
    }
   ],
   "source": [
    "fpr, tpr, thresholds = roc_curve(test_lables, probs_test)\n",
    "\n",
    "plt.plot([0,1], [0,1], linestyle='--')\n",
    "plt.plot(fpr, tpr, marker = '.')\n",
    "plt.show()"
   ]
  },
  {
   "cell_type": "markdown",
   "metadata": {},
   "source": [
    "## Create Classification Report and Confusion Matrix"
   ]
  },
  {
   "cell_type": "code",
   "execution_count": 53,
   "metadata": {
    "ExecuteTime": {
     "end_time": "2021-04-03T22:52:02.765873Z",
     "start_time": "2021-04-03T22:52:02.747883Z"
    }
   },
   "outputs": [],
   "source": [
    "from sklearn.metrics import classification_report,confusion_matrix"
   ]
  },
  {
   "cell_type": "code",
   "execution_count": 56,
   "metadata": {
    "ExecuteTime": {
     "end_time": "2021-04-03T22:53:33.802072Z",
     "start_time": "2021-04-03T22:53:33.782085Z"
    }
   },
   "outputs": [
    {
     "name": "stdout",
     "output_type": "stream",
     "text": [
      "              precision    recall  f1-score   support\n",
      "\n",
      "           0       0.84      0.87      0.86       486\n",
      "           1       0.68      0.62      0.65       214\n",
      "\n",
      "    accuracy                           0.80       700\n",
      "   macro avg       0.76      0.75      0.75       700\n",
      "weighted avg       0.79      0.80      0.79       700\n",
      "\n"
     ]
    }
   ],
   "source": [
    "print(classification_report(train_labels, ytrain_predict))"
   ]
  },
  {
   "cell_type": "code",
   "execution_count": 57,
   "metadata": {
    "ExecuteTime": {
     "end_time": "2021-04-03T22:54:48.658142Z",
     "start_time": "2021-04-03T22:54:48.629869Z"
    }
   },
   "outputs": [
    {
     "name": "stdout",
     "output_type": "stream",
     "text": [
      "              precision    recall  f1-score   support\n",
      "\n",
      "           0       0.82      0.86      0.84       214\n",
      "           1       0.60      0.53      0.56        86\n",
      "\n",
      "    accuracy                           0.76       300\n",
      "   macro avg       0.71      0.70      0.70       300\n",
      "weighted avg       0.76      0.76      0.76       300\n",
      "\n"
     ]
    }
   ],
   "source": [
    "print(classification_report(test_lables, ytest_predict))"
   ]
  },
  {
   "cell_type": "code",
   "execution_count": 58,
   "metadata": {
    "ExecuteTime": {
     "end_time": "2021-04-03T22:55:43.386429Z",
     "start_time": "2021-04-03T22:55:43.353449Z"
    }
   },
   "outputs": [
    {
     "data": {
      "text/plain": [
       "array([[424,  62],\n",
       "       [ 81, 133]], dtype=int64)"
      ]
     },
     "execution_count": 58,
     "metadata": {},
     "output_type": "execute_result"
    }
   ],
   "source": [
    "confusion_matrix(train_labels, ytrain_predict)"
   ]
  },
  {
   "cell_type": "code",
   "execution_count": 59,
   "metadata": {
    "ExecuteTime": {
     "end_time": "2021-04-03T22:56:00.177816Z",
     "start_time": "2021-04-03T22:56:00.153437Z"
    }
   },
   "outputs": [
    {
     "data": {
      "text/plain": [
       "array([[183,  31],\n",
       "       [ 40,  46]], dtype=int64)"
      ]
     },
     "execution_count": 59,
     "metadata": {},
     "output_type": "execute_result"
    }
   ],
   "source": [
    "confusion_matrix(test_lables, ytest_predict)"
   ]
  },
  {
   "cell_type": "markdown",
   "metadata": {},
   "source": [
    "### Compute Accuracy"
   ]
  },
  {
   "cell_type": "code",
   "execution_count": 60,
   "metadata": {
    "ExecuteTime": {
     "end_time": "2021-04-03T22:56:49.632013Z",
     "start_time": "2021-04-03T22:56:49.612025Z"
    }
   },
   "outputs": [
    {
     "data": {
      "text/plain": [
       "0.7957142857142857"
      ]
     },
     "execution_count": 60,
     "metadata": {},
     "output_type": "execute_result"
    }
   ],
   "source": [
    "reg_dt_model.score(x_train, train_labels)"
   ]
  },
  {
   "cell_type": "code",
   "execution_count": 61,
   "metadata": {
    "ExecuteTime": {
     "end_time": "2021-04-03T22:57:32.510338Z",
     "start_time": "2021-04-03T22:57:32.483442Z"
    }
   },
   "outputs": [
    {
     "data": {
      "text/plain": [
       "0.7633333333333333"
      ]
     },
     "execution_count": 61,
     "metadata": {},
     "output_type": "execute_result"
    }
   ],
   "source": [
    "reg_dt_model.score(x_test, test_lables)"
   ]
  },
  {
   "cell_type": "code",
   "execution_count": null,
   "metadata": {},
   "outputs": [],
   "source": []
  }
 ],
 "metadata": {
  "kernelspec": {
   "display_name": "Python 3",
   "language": "python",
   "name": "python3"
  },
  "language_info": {
   "codemirror_mode": {
    "name": "ipython",
    "version": 3
   },
   "file_extension": ".py",
   "mimetype": "text/x-python",
   "name": "python",
   "nbconvert_exporter": "python",
   "pygments_lexer": "ipython3",
   "version": "3.8.5"
  },
  "toc": {
   "base_numbering": 1,
   "nav_menu": {},
   "number_sections": true,
   "sideBar": true,
   "skip_h1_title": false,
   "title_cell": "Table of Contents",
   "title_sidebar": "Contents",
   "toc_cell": false,
   "toc_position": {},
   "toc_section_display": true,
   "toc_window_display": false
  }
 },
 "nbformat": 4,
 "nbformat_minor": 4
}
