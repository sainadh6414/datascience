{
 "cells": [
  {
   "cell_type": "code",
   "execution_count": 5,
   "metadata": {
    "ExecuteTime": {
     "end_time": "2021-04-16T22:53:44.493717Z",
     "start_time": "2021-04-16T22:53:44.462733Z"
    }
   },
   "outputs": [],
   "source": [
    "import numpy as np\n",
    "import pandas as pd\n",
    "import seaborn as sns\n",
    "import matplotlib.pyplot as plt\n",
    "from sklearn.neural_network import MLPClassifier # Machine Learning Problems\n",
    "\n",
    "df = pd.read_csv('Bank Dataset.csv')"
   ]
  },
  {
   "cell_type": "code",
   "execution_count": 6,
   "metadata": {
    "ExecuteTime": {
     "end_time": "2021-04-16T22:53:48.106802Z",
     "start_time": "2021-04-16T22:53:48.077824Z"
    }
   },
   "outputs": [
    {
     "data": {
      "text/html": [
       "<div>\n",
       "<style scoped>\n",
       "    .dataframe tbody tr th:only-of-type {\n",
       "        vertical-align: middle;\n",
       "    }\n",
       "\n",
       "    .dataframe tbody tr th {\n",
       "        vertical-align: top;\n",
       "    }\n",
       "\n",
       "    .dataframe thead th {\n",
       "        text-align: right;\n",
       "    }\n",
       "</style>\n",
       "<table border=\"1\" class=\"dataframe\">\n",
       "  <thead>\n",
       "    <tr style=\"text-align: right;\">\n",
       "      <th></th>\n",
       "      <th>ID</th>\n",
       "      <th>Age</th>\n",
       "      <th>Experience</th>\n",
       "      <th>Income</th>\n",
       "      <th>ZIP_Code</th>\n",
       "      <th>Family_members</th>\n",
       "      <th>CCAvg</th>\n",
       "      <th>Education</th>\n",
       "      <th>Mortgage</th>\n",
       "      <th>Personal_Loan</th>\n",
       "      <th>Securities_Account</th>\n",
       "      <th>CD_Account</th>\n",
       "      <th>Online</th>\n",
       "      <th>CreditCard</th>\n",
       "    </tr>\n",
       "  </thead>\n",
       "  <tbody>\n",
       "    <tr>\n",
       "      <th>0</th>\n",
       "      <td>1</td>\n",
       "      <td>25</td>\n",
       "      <td>1</td>\n",
       "      <td>49</td>\n",
       "      <td>91107</td>\n",
       "      <td>4</td>\n",
       "      <td>1.6</td>\n",
       "      <td>1</td>\n",
       "      <td>0</td>\n",
       "      <td>0</td>\n",
       "      <td>1</td>\n",
       "      <td>0</td>\n",
       "      <td>0</td>\n",
       "      <td>0</td>\n",
       "    </tr>\n",
       "    <tr>\n",
       "      <th>1</th>\n",
       "      <td>2</td>\n",
       "      <td>45</td>\n",
       "      <td>19</td>\n",
       "      <td>34</td>\n",
       "      <td>90089</td>\n",
       "      <td>3</td>\n",
       "      <td>1.5</td>\n",
       "      <td>1</td>\n",
       "      <td>0</td>\n",
       "      <td>0</td>\n",
       "      <td>1</td>\n",
       "      <td>0</td>\n",
       "      <td>0</td>\n",
       "      <td>0</td>\n",
       "    </tr>\n",
       "    <tr>\n",
       "      <th>2</th>\n",
       "      <td>3</td>\n",
       "      <td>39</td>\n",
       "      <td>15</td>\n",
       "      <td>11</td>\n",
       "      <td>94720</td>\n",
       "      <td>1</td>\n",
       "      <td>1.0</td>\n",
       "      <td>1</td>\n",
       "      <td>0</td>\n",
       "      <td>0</td>\n",
       "      <td>0</td>\n",
       "      <td>0</td>\n",
       "      <td>0</td>\n",
       "      <td>0</td>\n",
       "    </tr>\n",
       "    <tr>\n",
       "      <th>3</th>\n",
       "      <td>4</td>\n",
       "      <td>35</td>\n",
       "      <td>9</td>\n",
       "      <td>100</td>\n",
       "      <td>94112</td>\n",
       "      <td>1</td>\n",
       "      <td>2.7</td>\n",
       "      <td>2</td>\n",
       "      <td>0</td>\n",
       "      <td>0</td>\n",
       "      <td>0</td>\n",
       "      <td>0</td>\n",
       "      <td>0</td>\n",
       "      <td>0</td>\n",
       "    </tr>\n",
       "    <tr>\n",
       "      <th>4</th>\n",
       "      <td>5</td>\n",
       "      <td>35</td>\n",
       "      <td>8</td>\n",
       "      <td>45</td>\n",
       "      <td>91330</td>\n",
       "      <td>4</td>\n",
       "      <td>1.0</td>\n",
       "      <td>2</td>\n",
       "      <td>0</td>\n",
       "      <td>0</td>\n",
       "      <td>0</td>\n",
       "      <td>0</td>\n",
       "      <td>0</td>\n",
       "      <td>1</td>\n",
       "    </tr>\n",
       "  </tbody>\n",
       "</table>\n",
       "</div>"
      ],
      "text/plain": [
       "   ID  Age  Experience  Income  ZIP_Code  Family_members  CCAvg  Education  \\\n",
       "0   1   25           1      49     91107               4    1.6          1   \n",
       "1   2   45          19      34     90089               3    1.5          1   \n",
       "2   3   39          15      11     94720               1    1.0          1   \n",
       "3   4   35           9     100     94112               1    2.7          2   \n",
       "4   5   35           8      45     91330               4    1.0          2   \n",
       "\n",
       "   Mortgage  Personal_Loan  Securities_Account  CD_Account  Online  CreditCard  \n",
       "0         0              0                   1           0       0           0  \n",
       "1         0              0                   1           0       0           0  \n",
       "2         0              0                   0           0       0           0  \n",
       "3         0              0                   0           0       0           0  \n",
       "4         0              0                   0           0       0           1  "
      ]
     },
     "execution_count": 6,
     "metadata": {},
     "output_type": "execute_result"
    }
   ],
   "source": [
    "df.head()"
   ]
  },
  {
   "cell_type": "code",
   "execution_count": 8,
   "metadata": {
    "ExecuteTime": {
     "end_time": "2021-04-16T22:53:52.609460Z",
     "start_time": "2021-04-16T22:53:52.587153Z"
    }
   },
   "outputs": [
    {
     "name": "stdout",
     "output_type": "stream",
     "text": [
      "<class 'pandas.core.frame.DataFrame'>\n",
      "RangeIndex: 4982 entries, 0 to 4981\n",
      "Data columns (total 14 columns):\n",
      " #   Column              Non-Null Count  Dtype  \n",
      "---  ------              --------------  -----  \n",
      " 0   ID                  4982 non-null   int64  \n",
      " 1   Age                 4982 non-null   int64  \n",
      " 2   Experience          4982 non-null   int64  \n",
      " 3   Income              4982 non-null   int64  \n",
      " 4   ZIP_Code            4982 non-null   int64  \n",
      " 5   Family_members      4982 non-null   int64  \n",
      " 6   CCAvg               4982 non-null   float64\n",
      " 7   Education           4982 non-null   int64  \n",
      " 8   Mortgage            4982 non-null   int64  \n",
      " 9   Personal_Loan       4982 non-null   int64  \n",
      " 10  Securities_Account  4982 non-null   int64  \n",
      " 11  CD_Account          4982 non-null   int64  \n",
      " 12  Online              4982 non-null   int64  \n",
      " 13  CreditCard          4982 non-null   int64  \n",
      "dtypes: float64(1), int64(13)\n",
      "memory usage: 545.0 KB\n"
     ]
    }
   ],
   "source": [
    "df.info()"
   ]
  },
  {
   "cell_type": "code",
   "execution_count": 7,
   "metadata": {
    "ExecuteTime": {
     "end_time": "2021-04-16T22:53:50.523731Z",
     "start_time": "2021-04-16T22:53:50.419773Z"
    }
   },
   "outputs": [
    {
     "data": {
      "text/html": [
       "<div>\n",
       "<style scoped>\n",
       "    .dataframe tbody tr th:only-of-type {\n",
       "        vertical-align: middle;\n",
       "    }\n",
       "\n",
       "    .dataframe tbody tr th {\n",
       "        vertical-align: top;\n",
       "    }\n",
       "\n",
       "    .dataframe thead th {\n",
       "        text-align: right;\n",
       "    }\n",
       "</style>\n",
       "<table border=\"1\" class=\"dataframe\">\n",
       "  <thead>\n",
       "    <tr style=\"text-align: right;\">\n",
       "      <th></th>\n",
       "      <th>ID</th>\n",
       "      <th>Age</th>\n",
       "      <th>Experience</th>\n",
       "      <th>Income</th>\n",
       "      <th>ZIP_Code</th>\n",
       "      <th>Family_members</th>\n",
       "      <th>CCAvg</th>\n",
       "      <th>Education</th>\n",
       "      <th>Mortgage</th>\n",
       "      <th>Personal_Loan</th>\n",
       "      <th>Securities_Account</th>\n",
       "      <th>CD_Account</th>\n",
       "      <th>Online</th>\n",
       "      <th>CreditCard</th>\n",
       "    </tr>\n",
       "  </thead>\n",
       "  <tbody>\n",
       "    <tr>\n",
       "      <th>count</th>\n",
       "      <td>4982.000000</td>\n",
       "      <td>4982.000000</td>\n",
       "      <td>4982.000000</td>\n",
       "      <td>4982.000000</td>\n",
       "      <td>4982.000000</td>\n",
       "      <td>4982.00000</td>\n",
       "      <td>4982.000000</td>\n",
       "      <td>4982.000000</td>\n",
       "      <td>4982.000000</td>\n",
       "      <td>4982.000000</td>\n",
       "      <td>4982.000000</td>\n",
       "      <td>4982.000000</td>\n",
       "      <td>4982.000000</td>\n",
       "      <td>4982.000000</td>\n",
       "    </tr>\n",
       "    <tr>\n",
       "      <th>mean</th>\n",
       "      <td>2502.352268</td>\n",
       "      <td>45.327178</td>\n",
       "      <td>20.096146</td>\n",
       "      <td>73.732637</td>\n",
       "      <td>93152.523485</td>\n",
       "      <td>2.39723</td>\n",
       "      <td>1.939962</td>\n",
       "      <td>1.880971</td>\n",
       "      <td>56.546367</td>\n",
       "      <td>0.095945</td>\n",
       "      <td>0.104175</td>\n",
       "      <td>0.060217</td>\n",
       "      <td>0.595945</td>\n",
       "      <td>0.294059</td>\n",
       "    </tr>\n",
       "    <tr>\n",
       "      <th>std</th>\n",
       "      <td>1441.813138</td>\n",
       "      <td>11.470821</td>\n",
       "      <td>11.475636</td>\n",
       "      <td>46.040144</td>\n",
       "      <td>2123.021796</td>\n",
       "      <td>1.14716</td>\n",
       "      <td>1.748566</td>\n",
       "      <td>0.839740</td>\n",
       "      <td>101.756369</td>\n",
       "      <td>0.294546</td>\n",
       "      <td>0.305518</td>\n",
       "      <td>0.237912</td>\n",
       "      <td>0.490757</td>\n",
       "      <td>0.455664</td>\n",
       "    </tr>\n",
       "    <tr>\n",
       "      <th>min</th>\n",
       "      <td>1.000000</td>\n",
       "      <td>23.000000</td>\n",
       "      <td>-3.000000</td>\n",
       "      <td>8.000000</td>\n",
       "      <td>9307.000000</td>\n",
       "      <td>1.00000</td>\n",
       "      <td>0.000000</td>\n",
       "      <td>1.000000</td>\n",
       "      <td>0.000000</td>\n",
       "      <td>0.000000</td>\n",
       "      <td>0.000000</td>\n",
       "      <td>0.000000</td>\n",
       "      <td>0.000000</td>\n",
       "      <td>0.000000</td>\n",
       "    </tr>\n",
       "    <tr>\n",
       "      <th>25%</th>\n",
       "      <td>1254.250000</td>\n",
       "      <td>35.000000</td>\n",
       "      <td>10.000000</td>\n",
       "      <td>39.000000</td>\n",
       "      <td>91911.000000</td>\n",
       "      <td>1.00000</td>\n",
       "      <td>0.700000</td>\n",
       "      <td>1.000000</td>\n",
       "      <td>0.000000</td>\n",
       "      <td>0.000000</td>\n",
       "      <td>0.000000</td>\n",
       "      <td>0.000000</td>\n",
       "      <td>0.000000</td>\n",
       "      <td>0.000000</td>\n",
       "    </tr>\n",
       "    <tr>\n",
       "      <th>50%</th>\n",
       "      <td>2502.500000</td>\n",
       "      <td>45.000000</td>\n",
       "      <td>20.000000</td>\n",
       "      <td>64.000000</td>\n",
       "      <td>93437.000000</td>\n",
       "      <td>2.00000</td>\n",
       "      <td>1.500000</td>\n",
       "      <td>2.000000</td>\n",
       "      <td>0.000000</td>\n",
       "      <td>0.000000</td>\n",
       "      <td>0.000000</td>\n",
       "      <td>0.000000</td>\n",
       "      <td>1.000000</td>\n",
       "      <td>0.000000</td>\n",
       "    </tr>\n",
       "    <tr>\n",
       "      <th>75%</th>\n",
       "      <td>3749.750000</td>\n",
       "      <td>55.000000</td>\n",
       "      <td>30.000000</td>\n",
       "      <td>98.000000</td>\n",
       "      <td>94608.000000</td>\n",
       "      <td>3.00000</td>\n",
       "      <td>2.500000</td>\n",
       "      <td>3.000000</td>\n",
       "      <td>101.000000</td>\n",
       "      <td>0.000000</td>\n",
       "      <td>0.000000</td>\n",
       "      <td>0.000000</td>\n",
       "      <td>1.000000</td>\n",
       "      <td>1.000000</td>\n",
       "    </tr>\n",
       "    <tr>\n",
       "      <th>max</th>\n",
       "      <td>5000.000000</td>\n",
       "      <td>67.000000</td>\n",
       "      <td>43.000000</td>\n",
       "      <td>224.000000</td>\n",
       "      <td>96651.000000</td>\n",
       "      <td>4.00000</td>\n",
       "      <td>10.000000</td>\n",
       "      <td>3.000000</td>\n",
       "      <td>635.000000</td>\n",
       "      <td>1.000000</td>\n",
       "      <td>1.000000</td>\n",
       "      <td>1.000000</td>\n",
       "      <td>1.000000</td>\n",
       "      <td>1.000000</td>\n",
       "    </tr>\n",
       "  </tbody>\n",
       "</table>\n",
       "</div>"
      ],
      "text/plain": [
       "                ID          Age   Experience       Income      ZIP_Code  \\\n",
       "count  4982.000000  4982.000000  4982.000000  4982.000000   4982.000000   \n",
       "mean   2502.352268    45.327178    20.096146    73.732637  93152.523485   \n",
       "std    1441.813138    11.470821    11.475636    46.040144   2123.021796   \n",
       "min       1.000000    23.000000    -3.000000     8.000000   9307.000000   \n",
       "25%    1254.250000    35.000000    10.000000    39.000000  91911.000000   \n",
       "50%    2502.500000    45.000000    20.000000    64.000000  93437.000000   \n",
       "75%    3749.750000    55.000000    30.000000    98.000000  94608.000000   \n",
       "max    5000.000000    67.000000    43.000000   224.000000  96651.000000   \n",
       "\n",
       "       Family_members        CCAvg    Education     Mortgage  Personal_Loan  \\\n",
       "count      4982.00000  4982.000000  4982.000000  4982.000000    4982.000000   \n",
       "mean          2.39723     1.939962     1.880971    56.546367       0.095945   \n",
       "std           1.14716     1.748566     0.839740   101.756369       0.294546   \n",
       "min           1.00000     0.000000     1.000000     0.000000       0.000000   \n",
       "25%           1.00000     0.700000     1.000000     0.000000       0.000000   \n",
       "50%           2.00000     1.500000     2.000000     0.000000       0.000000   \n",
       "75%           3.00000     2.500000     3.000000   101.000000       0.000000   \n",
       "max           4.00000    10.000000     3.000000   635.000000       1.000000   \n",
       "\n",
       "       Securities_Account   CD_Account       Online   CreditCard  \n",
       "count         4982.000000  4982.000000  4982.000000  4982.000000  \n",
       "mean             0.104175     0.060217     0.595945     0.294059  \n",
       "std              0.305518     0.237912     0.490757     0.455664  \n",
       "min              0.000000     0.000000     0.000000     0.000000  \n",
       "25%              0.000000     0.000000     0.000000     0.000000  \n",
       "50%              0.000000     0.000000     1.000000     0.000000  \n",
       "75%              0.000000     0.000000     1.000000     1.000000  \n",
       "max              1.000000     1.000000     1.000000     1.000000  "
      ]
     },
     "execution_count": 7,
     "metadata": {},
     "output_type": "execute_result"
    }
   ],
   "source": [
    "df.describe()"
   ]
  },
  {
   "cell_type": "code",
   "execution_count": 9,
   "metadata": {
    "ExecuteTime": {
     "end_time": "2021-04-16T22:54:35.941789Z",
     "start_time": "2021-04-16T22:54:35.919768Z"
    }
   },
   "outputs": [
    {
     "data": {
      "text/plain": [
       "0"
      ]
     },
     "execution_count": 9,
     "metadata": {},
     "output_type": "execute_result"
    }
   ],
   "source": [
    "df.duplicated().sum()"
   ]
  },
  {
   "cell_type": "code",
   "execution_count": 10,
   "metadata": {
    "ExecuteTime": {
     "end_time": "2021-04-16T22:54:41.448813Z",
     "start_time": "2021-04-16T22:54:41.432820Z"
    }
   },
   "outputs": [
    {
     "data": {
      "text/plain": [
       "ID                    0\n",
       "Age                   0\n",
       "Experience            0\n",
       "Income                0\n",
       "ZIP_Code              0\n",
       "Family_members        0\n",
       "CCAvg                 0\n",
       "Education             0\n",
       "Mortgage              0\n",
       "Personal_Loan         0\n",
       "Securities_Account    0\n",
       "CD_Account            0\n",
       "Online                0\n",
       "CreditCard            0\n",
       "dtype: int64"
      ]
     },
     "execution_count": 10,
     "metadata": {},
     "output_type": "execute_result"
    }
   ],
   "source": [
    "df.isna().sum()"
   ]
  },
  {
   "cell_type": "code",
   "execution_count": 11,
   "metadata": {
    "ExecuteTime": {
     "end_time": "2021-04-16T22:55:08.889775Z",
     "start_time": "2021-04-16T22:55:08.867082Z"
    }
   },
   "outputs": [],
   "source": [
    "df = df.drop(['ID', 'ZIP_Code'], axis=1)"
   ]
  },
  {
   "cell_type": "code",
   "execution_count": 12,
   "metadata": {
    "ExecuteTime": {
     "end_time": "2021-04-16T22:55:11.799535Z",
     "start_time": "2021-04-16T22:55:11.780546Z"
    }
   },
   "outputs": [
    {
     "data": {
      "text/html": [
       "<div>\n",
       "<style scoped>\n",
       "    .dataframe tbody tr th:only-of-type {\n",
       "        vertical-align: middle;\n",
       "    }\n",
       "\n",
       "    .dataframe tbody tr th {\n",
       "        vertical-align: top;\n",
       "    }\n",
       "\n",
       "    .dataframe thead th {\n",
       "        text-align: right;\n",
       "    }\n",
       "</style>\n",
       "<table border=\"1\" class=\"dataframe\">\n",
       "  <thead>\n",
       "    <tr style=\"text-align: right;\">\n",
       "      <th></th>\n",
       "      <th>Age</th>\n",
       "      <th>Experience</th>\n",
       "      <th>Income</th>\n",
       "      <th>Family_members</th>\n",
       "      <th>CCAvg</th>\n",
       "      <th>Education</th>\n",
       "      <th>Mortgage</th>\n",
       "      <th>Personal_Loan</th>\n",
       "      <th>Securities_Account</th>\n",
       "      <th>CD_Account</th>\n",
       "      <th>Online</th>\n",
       "      <th>CreditCard</th>\n",
       "    </tr>\n",
       "  </thead>\n",
       "  <tbody>\n",
       "    <tr>\n",
       "      <th>0</th>\n",
       "      <td>25</td>\n",
       "      <td>1</td>\n",
       "      <td>49</td>\n",
       "      <td>4</td>\n",
       "      <td>1.6</td>\n",
       "      <td>1</td>\n",
       "      <td>0</td>\n",
       "      <td>0</td>\n",
       "      <td>1</td>\n",
       "      <td>0</td>\n",
       "      <td>0</td>\n",
       "      <td>0</td>\n",
       "    </tr>\n",
       "    <tr>\n",
       "      <th>1</th>\n",
       "      <td>45</td>\n",
       "      <td>19</td>\n",
       "      <td>34</td>\n",
       "      <td>3</td>\n",
       "      <td>1.5</td>\n",
       "      <td>1</td>\n",
       "      <td>0</td>\n",
       "      <td>0</td>\n",
       "      <td>1</td>\n",
       "      <td>0</td>\n",
       "      <td>0</td>\n",
       "      <td>0</td>\n",
       "    </tr>\n",
       "    <tr>\n",
       "      <th>2</th>\n",
       "      <td>39</td>\n",
       "      <td>15</td>\n",
       "      <td>11</td>\n",
       "      <td>1</td>\n",
       "      <td>1.0</td>\n",
       "      <td>1</td>\n",
       "      <td>0</td>\n",
       "      <td>0</td>\n",
       "      <td>0</td>\n",
       "      <td>0</td>\n",
       "      <td>0</td>\n",
       "      <td>0</td>\n",
       "    </tr>\n",
       "    <tr>\n",
       "      <th>3</th>\n",
       "      <td>35</td>\n",
       "      <td>9</td>\n",
       "      <td>100</td>\n",
       "      <td>1</td>\n",
       "      <td>2.7</td>\n",
       "      <td>2</td>\n",
       "      <td>0</td>\n",
       "      <td>0</td>\n",
       "      <td>0</td>\n",
       "      <td>0</td>\n",
       "      <td>0</td>\n",
       "      <td>0</td>\n",
       "    </tr>\n",
       "    <tr>\n",
       "      <th>4</th>\n",
       "      <td>35</td>\n",
       "      <td>8</td>\n",
       "      <td>45</td>\n",
       "      <td>4</td>\n",
       "      <td>1.0</td>\n",
       "      <td>2</td>\n",
       "      <td>0</td>\n",
       "      <td>0</td>\n",
       "      <td>0</td>\n",
       "      <td>0</td>\n",
       "      <td>0</td>\n",
       "      <td>1</td>\n",
       "    </tr>\n",
       "  </tbody>\n",
       "</table>\n",
       "</div>"
      ],
      "text/plain": [
       "   Age  Experience  Income  Family_members  CCAvg  Education  Mortgage  \\\n",
       "0   25           1      49               4    1.6          1         0   \n",
       "1   45          19      34               3    1.5          1         0   \n",
       "2   39          15      11               1    1.0          1         0   \n",
       "3   35           9     100               1    2.7          2         0   \n",
       "4   35           8      45               4    1.0          2         0   \n",
       "\n",
       "   Personal_Loan  Securities_Account  CD_Account  Online  CreditCard  \n",
       "0              0                   1           0       0           0  \n",
       "1              0                   1           0       0           0  \n",
       "2              0                   0           0       0           0  \n",
       "3              0                   0           0       0           0  \n",
       "4              0                   0           0       0           1  "
      ]
     },
     "execution_count": 12,
     "metadata": {},
     "output_type": "execute_result"
    }
   ],
   "source": [
    "df.head()"
   ]
  },
  {
   "cell_type": "code",
   "execution_count": 13,
   "metadata": {
    "ExecuteTime": {
     "end_time": "2021-04-16T22:55:31.489469Z",
     "start_time": "2021-04-16T22:55:31.484472Z"
    }
   },
   "outputs": [],
   "source": [
    "from sklearn.model_selection import train_test_split"
   ]
  },
  {
   "cell_type": "code",
   "execution_count": 14,
   "metadata": {
    "ExecuteTime": {
     "end_time": "2021-04-16T22:56:06.874223Z",
     "start_time": "2021-04-16T22:56:06.862922Z"
    }
   },
   "outputs": [],
   "source": [
    "y = df['Personal_Loan']\n",
    "x = df.drop(['Personal_Loan'], axis=1)"
   ]
  },
  {
   "cell_type": "code",
   "execution_count": 15,
   "metadata": {
    "ExecuteTime": {
     "end_time": "2021-04-16T22:56:51.367800Z",
     "start_time": "2021-04-16T22:56:51.354809Z"
    }
   },
   "outputs": [],
   "source": [
    "x_train, x_test, y_train, y_test = train_test_split(x, y, test_size=30, random_state=27)"
   ]
  },
  {
   "cell_type": "code",
   "execution_count": 16,
   "metadata": {
    "ExecuteTime": {
     "end_time": "2021-04-16T22:57:32.234347Z",
     "start_time": "2021-04-16T22:57:32.224354Z"
    }
   },
   "outputs": [],
   "source": [
    "# Scaling is required for Neural Network Model\n",
    "\n",
    "from sklearn.preprocessing import StandardScaler"
   ]
  },
  {
   "cell_type": "code",
   "execution_count": 17,
   "metadata": {
    "ExecuteTime": {
     "end_time": "2021-04-16T22:58:00.414993Z",
     "start_time": "2021-04-16T22:58:00.404998Z"
    }
   },
   "outputs": [],
   "source": [
    "standardScaler = StandardScaler()"
   ]
  },
  {
   "cell_type": "code",
   "execution_count": 18,
   "metadata": {
    "ExecuteTime": {
     "end_time": "2021-04-16T22:58:58.158274Z",
     "start_time": "2021-04-16T22:58:58.118805Z"
    }
   },
   "outputs": [],
   "source": [
    "x_train = standardScaler.fit_transform(x_train)"
   ]
  },
  {
   "cell_type": "code",
   "execution_count": 19,
   "metadata": {
    "ExecuteTime": {
     "end_time": "2021-04-16T22:59:05.831539Z",
     "start_time": "2021-04-16T22:59:05.813059Z"
    }
   },
   "outputs": [
    {
     "data": {
      "text/plain": [
       "array([[ 0.40696035,  0.51403175,  0.78483884, ..., -0.2525913 ,\n",
       "         0.82345323, -0.64503559],\n",
       "       [ 0.3198061 ,  0.33980278, -0.69082208, ..., -0.2525913 ,\n",
       "         0.82345323, -0.64503559],\n",
       "       [ 0.66842309,  0.2526883 , -0.34360774, ..., -0.2525913 ,\n",
       "         0.82345323,  1.55030204],\n",
       "       ...,\n",
       "       [-0.37742787, -0.26999861, -0.0614961 , ..., -0.2525913 ,\n",
       "         0.82345323,  1.55030204],\n",
       "       [-0.29027362, -0.18288412, -1.12483999, ..., -0.2525913 ,\n",
       "         0.82345323, -0.64503559],\n",
       "       [ 1.71427404,  1.73363453,  0.95844601, ...,  3.9589646 ,\n",
       "         0.82345323,  1.55030204]])"
      ]
     },
     "execution_count": 19,
     "metadata": {},
     "output_type": "execute_result"
    }
   ],
   "source": [
    "x_train"
   ]
  },
  {
   "cell_type": "code",
   "execution_count": 20,
   "metadata": {
    "ExecuteTime": {
     "end_time": "2021-04-16T23:00:04.526833Z",
     "start_time": "2021-04-16T23:00:04.497340Z"
    }
   },
   "outputs": [
    {
     "data": {
      "text/plain": [
       "array([[-1.33612458e+00, -1.40248690e+00,  1.33811966e-01,\n",
       "         1.39927207e+00, -8.09476714e-02,  1.40905988e-01,\n",
       "        -5.55640282e-01, -3.40689619e-01, -2.52591296e-01,\n",
       "        -1.21439805e+00, -6.45035594e-01],\n",
       "       [ 1.45281130e+00,  1.47229108e+00, -1.38525074e+00,\n",
       "         5.27346149e-01, -8.24019338e-01, -1.04982174e+00,\n",
       "        -5.55640282e-01, -3.40689619e-01, -2.52591296e-01,\n",
       "         8.23453234e-01, -6.45035594e-01],\n",
       "       [-1.51043307e+00, -1.48960139e+00,  3.60659073e-03,\n",
       "         5.27346149e-01,  3.76327200e-01,  1.33163372e+00,\n",
       "        -5.55640282e-01, -3.40689619e-01, -2.52591296e-01,\n",
       "        -1.21439805e+00, -6.45035594e-01],\n",
       "       [ 9.29885826e-01,  1.03671866e+00, -2.13402368e-01,\n",
       "         1.39927207e+00, -2.52425748e-01, -1.04982174e+00,\n",
       "        -5.55640282e-01, -3.40689619e-01, -2.52591296e-01,\n",
       "         8.23453234e-01, -6.45035594e-01],\n",
       "       [-2.88108848e-02, -9.57696390e-02,  4.15923612e-01,\n",
       "        -3.44579771e-01, -1.38107030e-01,  1.40905988e-01,\n",
       "        -5.55640282e-01, -3.40689619e-01, -2.52591296e-01,\n",
       "        -1.21439805e+00, -6.45035594e-01],\n",
       "       [-1.68474157e+00, -1.75094484e+00, -1.29844716e+00,\n",
       "         1.39927207e+00, -8.81178697e-01, -1.04982174e+00,\n",
       "         3.67362657e-01, -3.40689619e-01, -2.52591296e-01,\n",
       "         8.23453234e-01, -6.45035594e-01],\n",
       "       [-2.88108848e-02, -8.65515474e-03,  3.50820924e-01,\n",
       "         1.39927207e+00, -4.81063184e-01,  1.40905988e-01,\n",
       "        -5.55640282e-01, -3.40689619e-01, -2.52591296e-01,\n",
       "         8.23453234e-01,  1.55030204e+00],\n",
       "       [ 1.45281130e+00,  1.55940556e+00,  1.26225855e+00,\n",
       "        -1.21650569e+00,  5.47805277e-01, -1.04982174e+00,\n",
       "        -5.55640282e-01, -3.40689619e-01, -2.52591296e-01,\n",
       "        -1.21439805e+00, -6.45035594e-01],\n",
       "       [-2.03119378e-01, -9.57696390e-02, -9.29531930e-01,\n",
       "         1.39927207e+00, -9.38338056e-01, -1.04982174e+00,\n",
       "         9.76151829e-01, -3.40689619e-01, -2.52591296e-01,\n",
       "         8.23453234e-01, -6.45035594e-01],\n",
       "       [-2.88108848e-02, -9.57696390e-02, -8.64429243e-01,\n",
       "         5.27346149e-01, -2.52425748e-01, -1.04982174e+00,\n",
       "        -5.55640282e-01,  2.93522299e+00, -2.52591296e-01,\n",
       "        -1.21439805e+00, -6.45035594e-01],\n",
       "       [-2.88108848e-02,  7.84593296e-02, -7.55924764e-01,\n",
       "        -3.44579771e-01,  9.05304056e-02,  1.33163372e+00,\n",
       "         1.25108887e+00, -3.40689619e-01, -2.52591296e-01,\n",
       "        -1.21439805e+00,  1.55030204e+00],\n",
       "       [ 5.81268840e-01,  5.14031751e-01, -9.94634618e-01,\n",
       "        -3.44579771e-01, -7.09700620e-01,  1.40905988e-01,\n",
       "         3.28085936e-01, -3.40689619e-01, -2.52591296e-01,\n",
       "         8.23453234e-01,  1.55030204e+00],\n",
       "       [-2.03119378e-01, -9.57696390e-02, -9.94634618e-01,\n",
       "         5.27346149e-01, -8.24019338e-01, -1.04982174e+00,\n",
       "        -5.55640282e-01, -3.40689619e-01, -2.52591296e-01,\n",
       "         8.23453234e-01,  1.55030204e+00],\n",
       "       [ 1.19134856e+00,  1.29806211e+00, -8.86130139e-01,\n",
       "         1.39927207e+00, -8.81178697e-01, -1.04982174e+00,\n",
       "         7.30672324e-01, -3.40689619e-01, -2.52591296e-01,\n",
       "        -1.21439805e+00,  1.55030204e+00],\n",
       "       [-1.33612458e+00, -1.22825793e+00,  1.98914653e-01,\n",
       "         1.39927207e+00,  8.33602072e-01, -1.04982174e+00,\n",
       "        -5.55640282e-01,  2.93522299e+00, -2.52591296e-01,\n",
       "         8.23453234e-01, -6.45035594e-01],\n",
       "       [ 3.19806101e-01,  4.26917267e-01, -1.05973731e+00,\n",
       "         1.39927207e+00, -5.38222543e-01, -1.04982174e+00,\n",
       "        -5.55640282e-01, -3.40689619e-01, -2.52591296e-01,\n",
       "         8.23453234e-01,  1.55030204e+00],\n",
       "       [-4.64582117e-01, -5.31342060e-01,  1.06695049e+00,\n",
       "        -1.21650569e+00,  1.86247053e+00, -1.04982174e+00,\n",
       "        -5.55640282e-01, -3.40689619e-01, -2.52591296e-01,\n",
       "         8.23453234e-01, -6.45035594e-01],\n",
       "       [-1.07466184e+00, -9.66914482e-01, -7.12522972e-01,\n",
       "        -1.21650569e+00, -2.52425748e-01,  1.40905988e-01,\n",
       "        -5.55640282e-01, -3.40689619e-01,  3.95896460e+00,\n",
       "         8.23453234e-01,  1.55030204e+00],\n",
       "       [ 5.83433616e-02,  1.65573814e-01,  9.58446008e-01,\n",
       "        -3.44579771e-01,  3.17713579e+00, -1.04982174e+00,\n",
       "        -5.55640282e-01, -3.40689619e-01,  3.95896460e+00,\n",
       "         8.23453234e-01,  1.55030204e+00],\n",
       "       [ 8.42731579e-01,  4.26917267e-01, -1.91701472e-01,\n",
       "         1.39927207e+00,  3.33710466e-02,  1.33163372e+00,\n",
       "        -5.55640282e-01, -3.40689619e-01, -2.52591296e-01,\n",
       "         8.23453234e-01, -6.45035594e-01],\n",
       "       [ 3.19806101e-01,  3.39802782e-01, -8.86130139e-01,\n",
       "         5.27346149e-01, -1.38107030e-01,  1.40905988e-01,\n",
       "        -5.55640282e-01, -3.40689619e-01, -2.52591296e-01,\n",
       "         8.23453234e-01, -6.45035594e-01],\n",
       "       [-3.77427870e-01, -2.69998608e-01,  5.46128987e-01,\n",
       "        -3.44579771e-01, -8.09476714e-02,  1.40905988e-01,\n",
       "        -5.55640282e-01, -3.40689619e-01, -2.52591296e-01,\n",
       "         8.23453234e-01,  1.55030204e+00],\n",
       "       [-4.64582117e-01, -5.31342060e-01, -9.94634618e-01,\n",
       "        -3.44579771e-01, -6.52541261e-01,  1.33163372e+00,\n",
       "        -5.55640282e-01, -3.40689619e-01, -2.52591296e-01,\n",
       "        -1.21439805e+00, -6.45035594e-01],\n",
       "       [-1.68474157e+00, -1.66383036e+00, -4.30411326e-01,\n",
       "         1.39927207e+00, -7.66859979e-01,  1.40905988e-01,\n",
       "         1.70277116e+00, -3.40689619e-01, -2.52591296e-01,\n",
       "        -1.21439805e+00, -6.45035594e-01],\n",
       "       [ 1.71427404e+00,  1.64652005e+00, -1.14654089e+00,\n",
       "        -3.44579771e-01, -8.81178697e-01, -1.04982174e+00,\n",
       "        -5.55640282e-01, -3.40689619e-01, -2.52591296e-01,\n",
       "        -1.21439805e+00, -6.45035594e-01],\n",
       "       [-1.24897033e+00, -1.22825793e+00,  1.55512862e-01,\n",
       "        -3.44579771e-01,  3.19167841e-01, -1.04982174e+00,\n",
       "         2.51776312e+00, -3.40689619e-01, -2.52591296e-01,\n",
       "        -1.21439805e+00, -6.45035594e-01],\n",
       "       [ 4.94114594e-01,  6.01146235e-01, -7.77625659e-01,\n",
       "        -3.44579771e-01, -5.38222543e-01,  1.33163372e+00,\n",
       "         1.05470527e+00, -3.40689619e-01, -2.52591296e-01,\n",
       "         8.23453234e-01, -6.45035594e-01],\n",
       "       [ 1.45497608e-01,  1.65573814e-01, -1.12483999e+00,\n",
       "        -1.21650569e+00, -8.81178697e-01,  1.33163372e+00,\n",
       "        -5.55640282e-01, -3.40689619e-01, -2.52591296e-01,\n",
       "         8.23453234e-01, -6.45035594e-01],\n",
       "       [ 5.83433616e-02,  7.84593296e-02,  2.42316445e-01,\n",
       "        -1.21650569e+00, -9.95497415e-01,  1.40905988e-01,\n",
       "        -5.55640282e-01,  2.93522299e+00,  3.95896460e+00,\n",
       "         8.23453234e-01,  1.55030204e+00],\n",
       "       [ 6.68423086e-01,  2.52688298e-01, -6.25719389e-01,\n",
       "         1.39927207e+00,  3.33710466e-02,  1.33163372e+00,\n",
       "         7.40491504e-01,  2.93522299e+00, -2.52591296e-01,\n",
       "        -1.21439805e+00, -6.45035594e-01]])"
      ]
     },
     "execution_count": 20,
     "metadata": {},
     "output_type": "execute_result"
    }
   ],
   "source": [
    "x_test = standardScaler.transform(x_test)\n",
    "x_test"
   ]
  },
  {
   "cell_type": "code",
   "execution_count": 23,
   "metadata": {
    "ExecuteTime": {
     "end_time": "2021-04-16T23:06:44.598379Z",
     "start_time": "2021-04-16T23:06:44.582382Z"
    }
   },
   "outputs": [],
   "source": [
    "# Build MLPClassifier\n",
    "\n",
    "clf = MLPClassifier(hidden_layer_sizes=(100, 100, 100), \n",
    "                    max_iter=500, \n",
    "                    solver='sgd', \n",
    "                    verbose=True, \n",
    "                    random_state=21,\n",
    "                   tol=0.01) # 3 Layer of Neurons, max iterations threshold 500, threshold of 0.000000000001"
   ]
  },
  {
   "cell_type": "code",
   "execution_count": 24,
   "metadata": {
    "ExecuteTime": {
     "end_time": "2021-04-16T23:06:49.338816Z",
     "start_time": "2021-04-16T23:06:46.020409Z"
    }
   },
   "outputs": [
    {
     "name": "stdout",
     "output_type": "stream",
     "text": [
      "Iteration 1, loss = 0.63996502\n",
      "Iteration 2, loss = 0.47082527\n",
      "Iteration 3, loss = 0.38994583\n",
      "Iteration 4, loss = 0.35363673\n",
      "Iteration 5, loss = 0.33238001\n",
      "Iteration 6, loss = 0.31619690\n",
      "Iteration 7, loss = 0.30245854\n",
      "Iteration 8, loss = 0.28999670\n",
      "Iteration 9, loss = 0.27844543\n",
      "Iteration 10, loss = 0.26773875\n",
      "Iteration 11, loss = 0.25761555\n",
      "Iteration 12, loss = 0.24817713\n",
      "Iteration 13, loss = 0.23934927\n",
      "Iteration 14, loss = 0.23105784\n",
      "Iteration 15, loss = 0.22326306\n",
      "Iteration 16, loss = 0.21609767\n",
      "Iteration 17, loss = 0.20922486\n",
      "Iteration 18, loss = 0.20293135\n",
      "Iteration 19, loss = 0.19705102\n",
      "Iteration 20, loss = 0.19150451\n",
      "Iteration 21, loss = 0.18637782\n",
      "Iteration 22, loss = 0.18151829\n",
      "Training loss did not improve more than tol=0.010000 for 10 consecutive epochs. Stopping.\n"
     ]
    }
   ],
   "source": [
    "clf.fit(x_train, y_train)\n",
    "y_pred = clf.predict(x_test)"
   ]
  },
  {
   "cell_type": "code",
   "execution_count": 25,
   "metadata": {
    "ExecuteTime": {
     "end_time": "2021-04-16T23:08:32.565272Z",
     "start_time": "2021-04-16T23:08:32.556275Z"
    }
   },
   "outputs": [],
   "source": [
    "# Do a GridSearch Cross Validation\n",
    "\n"
   ]
  },
  {
   "cell_type": "code",
   "execution_count": 27,
   "metadata": {
    "ExecuteTime": {
     "end_time": "2021-04-16T23:09:29.004892Z",
     "start_time": "2021-04-16T23:09:28.995877Z"
    }
   },
   "outputs": [],
   "source": [
    "#  Evaluate model preformance\n",
    "\n",
    "from sklearn.metrics import confusion_matrix, classification_report"
   ]
  },
  {
   "cell_type": "code",
   "execution_count": 28,
   "metadata": {
    "ExecuteTime": {
     "end_time": "2021-04-16T23:09:39.828792Z",
     "start_time": "2021-04-16T23:09:39.804296Z"
    }
   },
   "outputs": [
    {
     "data": {
      "text/plain": [
       "array([[29,  1],\n",
       "       [ 0,  0]], dtype=int64)"
      ]
     },
     "execution_count": 28,
     "metadata": {},
     "output_type": "execute_result"
    }
   ],
   "source": [
    "confusion_matrix(y_test, y_pred)"
   ]
  },
  {
   "cell_type": "code",
   "execution_count": 31,
   "metadata": {
    "ExecuteTime": {
     "end_time": "2021-04-16T23:11:12.623357Z",
     "start_time": "2021-04-16T23:11:12.533227Z"
    }
   },
   "outputs": [
    {
     "data": {
      "text/plain": [
       "array([[4456,   18],\n",
       "       [ 331,  147]], dtype=int64)"
      ]
     },
     "execution_count": 31,
     "metadata": {},
     "output_type": "execute_result"
    }
   ],
   "source": [
    "pred2 = clf.predict(x_train)\n",
    "confusion_matrix(y_train, pred2)"
   ]
  },
  {
   "cell_type": "code",
   "execution_count": 33,
   "metadata": {
    "ExecuteTime": {
     "end_time": "2021-04-16T23:11:59.065727Z",
     "start_time": "2021-04-16T23:11:59.036742Z"
    }
   },
   "outputs": [
    {
     "name": "stdout",
     "output_type": "stream",
     "text": [
      "              precision    recall  f1-score   support\n",
      "\n",
      "           0       0.93      1.00      0.96      4474\n",
      "           1       0.89      0.31      0.46       478\n",
      "\n",
      "    accuracy                           0.93      4952\n",
      "   macro avg       0.91      0.65      0.71      4952\n",
      "weighted avg       0.93      0.93      0.91      4952\n",
      "\n"
     ]
    }
   ],
   "source": [
    "print(classification_report(y_train, pred2))"
   ]
  },
  {
   "cell_type": "code",
   "execution_count": 34,
   "metadata": {
    "ExecuteTime": {
     "end_time": "2021-04-16T23:12:48.666394Z",
     "start_time": "2021-04-16T23:12:48.639634Z"
    }
   },
   "outputs": [
    {
     "name": "stdout",
     "output_type": "stream",
     "text": [
      "              precision    recall  f1-score   support\n",
      "\n",
      "           0       1.00      0.97      0.98        30\n",
      "           1       0.00      0.00      0.00         0\n",
      "\n",
      "    accuracy                           0.97        30\n",
      "   macro avg       0.50      0.48      0.49        30\n",
      "weighted avg       1.00      0.97      0.98        30\n",
      "\n"
     ]
    },
    {
     "name": "stderr",
     "output_type": "stream",
     "text": [
      "C:\\ProgramData\\Anaconda3\\lib\\site-packages\\sklearn\\metrics\\_classification.py:1221: UndefinedMetricWarning: Recall and F-score are ill-defined and being set to 0.0 in labels with no true samples. Use `zero_division` parameter to control this behavior.\n",
      "  _warn_prf(average, modifier, msg_start, len(result))\n"
     ]
    }
   ],
   "source": [
    "print(classification_report(y_test, y_pred))"
   ]
  },
  {
   "cell_type": "code",
   "execution_count": 47,
   "metadata": {
    "ExecuteTime": {
     "end_time": "2021-04-16T23:19:49.999516Z",
     "start_time": "2021-04-16T23:19:49.748543Z"
    }
   },
   "outputs": [
    {
     "name": "stdout",
     "output_type": "stream",
     "text": [
      "0.9510154439504491\n"
     ]
    },
    {
     "data": {
      "image/png": "[encoded data removed]",
      "text/plain": [
       "<Figure size 432x288 with 1 Axes>"
      ]
     },
     "metadata": {
      "needs_background": "light"
     },
     "output_type": "display_data"
    }
   ],
   "source": [
    "probs = clf.predict_proba(x_train)\n",
    "\n",
    "probs = probs[:, 1]\n",
    "\n",
    "from sklearn.metrics import roc_auc_score\n",
    "auc = roc_auc_score(y_train, probs)\n",
    "print(auc)\n",
    "\n",
    "from sklearn.metrics import roc_curve\n",
    "\n",
    "fpr, tpr, thresholds = roc_curve(y_train, probs)\n",
    "plt.plot([0, 1], [0, 1], linestyle='--')\n",
    "\n",
    "plt.plot(fpr, tpr, marker='.')\n",
    "\n",
    "plt.show()\n"
   ]
  },
  {
   "cell_type": "code",
   "execution_count": 50,
   "metadata": {
    "ExecuteTime": {
     "end_time": "2021-04-16T23:21:26.697908Z",
     "start_time": "2021-04-16T23:21:26.656952Z"
    }
   },
   "outputs": [
    {
     "name": "stdout",
     "output_type": "stream",
     "text": [
      "[[-1.33612458e+00 -1.40248690e+00  1.33811966e-01  1.39927207e+00\n",
      "  -8.09476714e-02  1.40905988e-01 -5.55640282e-01 -3.40689619e-01\n",
      "  -2.52591296e-01 -1.21439805e+00 -6.45035594e-01]\n",
      " [ 1.45281130e+00  1.47229108e+00 -1.38525074e+00  5.27346149e-01\n",
      "  -8.24019338e-01 -1.04982174e+00 -5.55640282e-01 -3.40689619e-01\n",
      "  -2.52591296e-01  8.23453234e-01 -6.45035594e-01]\n",
      " [-1.51043307e+00 -1.48960139e+00  3.60659073e-03  5.27346149e-01\n",
      "   3.76327200e-01  1.33163372e+00 -5.55640282e-01 -3.40689619e-01\n",
      "  -2.52591296e-01 -1.21439805e+00 -6.45035594e-01]\n",
      " [ 9.29885826e-01  1.03671866e+00 -2.13402368e-01  1.39927207e+00\n",
      "  -2.52425748e-01 -1.04982174e+00 -5.55640282e-01 -3.40689619e-01\n",
      "  -2.52591296e-01  8.23453234e-01 -6.45035594e-01]\n",
      " [-2.88108848e-02 -9.57696390e-02  4.15923612e-01 -3.44579771e-01\n",
      "  -1.38107030e-01  1.40905988e-01 -5.55640282e-01 -3.40689619e-01\n",
      "  -2.52591296e-01 -1.21439805e+00 -6.45035594e-01]\n",
      " [-1.68474157e+00 -1.75094484e+00 -1.29844716e+00  1.39927207e+00\n",
      "  -8.81178697e-01 -1.04982174e+00  3.67362657e-01 -3.40689619e-01\n",
      "  -2.52591296e-01  8.23453234e-01 -6.45035594e-01]\n",
      " [-2.88108848e-02 -8.65515474e-03  3.50820924e-01  1.39927207e+00\n",
      "  -4.81063184e-01  1.40905988e-01 -5.55640282e-01 -3.40689619e-01\n",
      "  -2.52591296e-01  8.23453234e-01  1.55030204e+00]\n",
      " [ 1.45281130e+00  1.55940556e+00  1.26225855e+00 -1.21650569e+00\n",
      "   5.47805277e-01 -1.04982174e+00 -5.55640282e-01 -3.40689619e-01\n",
      "  -2.52591296e-01 -1.21439805e+00 -6.45035594e-01]\n",
      " [-2.03119378e-01 -9.57696390e-02 -9.29531930e-01  1.39927207e+00\n",
      "  -9.38338056e-01 -1.04982174e+00  9.76151829e-01 -3.40689619e-01\n",
      "  -2.52591296e-01  8.23453234e-01 -6.45035594e-01]\n",
      " [-2.88108848e-02 -9.57696390e-02 -8.64429243e-01  5.27346149e-01\n",
      "  -2.52425748e-01 -1.04982174e+00 -5.55640282e-01  2.93522299e+00\n",
      "  -2.52591296e-01 -1.21439805e+00 -6.45035594e-01]\n",
      " [-2.88108848e-02  7.84593296e-02 -7.55924764e-01 -3.44579771e-01\n",
      "   9.05304056e-02  1.33163372e+00  1.25108887e+00 -3.40689619e-01\n",
      "  -2.52591296e-01 -1.21439805e+00  1.55030204e+00]\n",
      " [ 5.81268840e-01  5.14031751e-01 -9.94634618e-01 -3.44579771e-01\n",
      "  -7.09700620e-01  1.40905988e-01  3.28085936e-01 -3.40689619e-01\n",
      "  -2.52591296e-01  8.23453234e-01  1.55030204e+00]\n",
      " [-2.03119378e-01 -9.57696390e-02 -9.94634618e-01  5.27346149e-01\n",
      "  -8.24019338e-01 -1.04982174e+00 -5.55640282e-01 -3.40689619e-01\n",
      "  -2.52591296e-01  8.23453234e-01  1.55030204e+00]\n",
      " [ 1.19134856e+00  1.29806211e+00 -8.86130139e-01  1.39927207e+00\n",
      "  -8.81178697e-01 -1.04982174e+00  7.30672324e-01 -3.40689619e-01\n",
      "  -2.52591296e-01 -1.21439805e+00  1.55030204e+00]\n",
      " [-1.33612458e+00 -1.22825793e+00  1.98914653e-01  1.39927207e+00\n",
      "   8.33602072e-01 -1.04982174e+00 -5.55640282e-01  2.93522299e+00\n",
      "  -2.52591296e-01  8.23453234e-01 -6.45035594e-01]\n",
      " [ 3.19806101e-01  4.26917267e-01 -1.05973731e+00  1.39927207e+00\n",
      "  -5.38222543e-01 -1.04982174e+00 -5.55640282e-01 -3.40689619e-01\n",
      "  -2.52591296e-01  8.23453234e-01  1.55030204e+00]\n",
      " [-4.64582117e-01 -5.31342060e-01  1.06695049e+00 -1.21650569e+00\n",
      "   1.86247053e+00 -1.04982174e+00 -5.55640282e-01 -3.40689619e-01\n",
      "  -2.52591296e-01  8.23453234e-01 -6.45035594e-01]\n",
      " [-1.07466184e+00 -9.66914482e-01 -7.12522972e-01 -1.21650569e+00\n",
      "  -2.52425748e-01  1.40905988e-01 -5.55640282e-01 -3.40689619e-01\n",
      "   3.95896460e+00  8.23453234e-01  1.55030204e+00]\n",
      " [ 5.83433616e-02  1.65573814e-01  9.58446008e-01 -3.44579771e-01\n",
      "   3.17713579e+00 -1.04982174e+00 -5.55640282e-01 -3.40689619e-01\n",
      "   3.95896460e+00  8.23453234e-01  1.55030204e+00]\n",
      " [ 8.42731579e-01  4.26917267e-01 -1.91701472e-01  1.39927207e+00\n",
      "   3.33710466e-02  1.33163372e+00 -5.55640282e-01 -3.40689619e-01\n",
      "  -2.52591296e-01  8.23453234e-01 -6.45035594e-01]\n",
      " [ 3.19806101e-01  3.39802782e-01 -8.86130139e-01  5.27346149e-01\n",
      "  -1.38107030e-01  1.40905988e-01 -5.55640282e-01 -3.40689619e-01\n",
      "  -2.52591296e-01  8.23453234e-01 -6.45035594e-01]\n",
      " [-3.77427870e-01 -2.69998608e-01  5.46128987e-01 -3.44579771e-01\n",
      "  -8.09476714e-02  1.40905988e-01 -5.55640282e-01 -3.40689619e-01\n",
      "  -2.52591296e-01  8.23453234e-01  1.55030204e+00]\n",
      " [-4.64582117e-01 -5.31342060e-01 -9.94634618e-01 -3.44579771e-01\n",
      "  -6.52541261e-01  1.33163372e+00 -5.55640282e-01 -3.40689619e-01\n",
      "  -2.52591296e-01 -1.21439805e+00 -6.45035594e-01]\n",
      " [-1.68474157e+00 -1.66383036e+00 -4.30411326e-01  1.39927207e+00\n",
      "  -7.66859979e-01  1.40905988e-01  1.70277116e+00 -3.40689619e-01\n",
      "  -2.52591296e-01 -1.21439805e+00 -6.45035594e-01]\n",
      " [ 1.71427404e+00  1.64652005e+00 -1.14654089e+00 -3.44579771e-01\n",
      "  -8.81178697e-01 -1.04982174e+00 -5.55640282e-01 -3.40689619e-01\n",
      "  -2.52591296e-01 -1.21439805e+00 -6.45035594e-01]\n",
      " [-1.24897033e+00 -1.22825793e+00  1.55512862e-01 -3.44579771e-01\n",
      "   3.19167841e-01 -1.04982174e+00  2.51776312e+00 -3.40689619e-01\n",
      "  -2.52591296e-01 -1.21439805e+00 -6.45035594e-01]\n",
      " [ 4.94114594e-01  6.01146235e-01 -7.77625659e-01 -3.44579771e-01\n",
      "  -5.38222543e-01  1.33163372e+00  1.05470527e+00 -3.40689619e-01\n",
      "  -2.52591296e-01  8.23453234e-01 -6.45035594e-01]\n",
      " [ 1.45497608e-01  1.65573814e-01 -1.12483999e+00 -1.21650569e+00\n",
      "  -8.81178697e-01  1.33163372e+00 -5.55640282e-01 -3.40689619e-01\n",
      "  -2.52591296e-01  8.23453234e-01 -6.45035594e-01]\n",
      " [ 5.83433616e-02  7.84593296e-02  2.42316445e-01 -1.21650569e+00\n",
      "  -9.95497415e-01  1.40905988e-01 -5.55640282e-01  2.93522299e+00\n",
      "   3.95896460e+00  8.23453234e-01  1.55030204e+00]\n",
      " [ 6.68423086e-01  2.52688298e-01 -6.25719389e-01  1.39927207e+00\n",
      "   3.33710466e-02  1.33163372e+00  7.40491504e-01  2.93522299e+00\n",
      "  -2.52591296e-01 -1.21439805e+00 -6.45035594e-01]]\n"
     ]
    },
    {
     "ename": "ValueError",
     "evalue": "Only one class present in y_true. ROC AUC score is not defined in that case.",
     "output_type": "error",
     "traceback": [
      "\u001b[1;31m---------------------------------------------------------------------------\u001b[0m",
      "\u001b[1;31mValueError\u001b[0m                                Traceback (most recent call last)",
      "\u001b[1;32m<ipython-input-50-73998fe2faa7>\u001b[0m in \u001b[0;36m<module>\u001b[1;34m\u001b[0m\n\u001b[0;32m      5\u001b[0m \u001b[1;33m\u001b[0m\u001b[0m\n\u001b[0;32m      6\u001b[0m \u001b[1;32mfrom\u001b[0m \u001b[0msklearn\u001b[0m\u001b[1;33m.\u001b[0m\u001b[0mmetrics\u001b[0m \u001b[1;32mimport\u001b[0m \u001b[0mroc_auc_score\u001b[0m\u001b[1;33m\u001b[0m\u001b[1;33m\u001b[0m\u001b[0m\n\u001b[1;32m----> 7\u001b[1;33m \u001b[0mauc1\u001b[0m \u001b[1;33m=\u001b[0m \u001b[0mroc_auc_score\u001b[0m\u001b[1;33m(\u001b[0m\u001b[0my_test\u001b[0m\u001b[1;33m,\u001b[0m \u001b[0mprobs1\u001b[0m\u001b[1;33m)\u001b[0m\u001b[1;33m\u001b[0m\u001b[1;33m\u001b[0m\u001b[0m\n\u001b[0m\u001b[0;32m      8\u001b[0m \u001b[0mprint\u001b[0m\u001b[1;33m(\u001b[0m\u001b[0mauc1\u001b[0m\u001b[1;33m)\u001b[0m\u001b[1;33m\u001b[0m\u001b[1;33m\u001b[0m\u001b[0m\n\u001b[0;32m      9\u001b[0m \u001b[1;33m\u001b[0m\u001b[0m\n",
      "\u001b[1;32mC:\\ProgramData\\Anaconda3\\lib\\site-packages\\sklearn\\utils\\validation.py\u001b[0m in \u001b[0;36minner_f\u001b[1;34m(*args, **kwargs)\u001b[0m\n\u001b[0;32m     71\u001b[0m                           FutureWarning)\n\u001b[0;32m     72\u001b[0m         \u001b[0mkwargs\u001b[0m\u001b[1;33m.\u001b[0m\u001b[0mupdate\u001b[0m\u001b[1;33m(\u001b[0m\u001b[1;33m{\u001b[0m\u001b[0mk\u001b[0m\u001b[1;33m:\u001b[0m \u001b[0marg\u001b[0m \u001b[1;32mfor\u001b[0m \u001b[0mk\u001b[0m\u001b[1;33m,\u001b[0m \u001b[0marg\u001b[0m \u001b[1;32min\u001b[0m \u001b[0mzip\u001b[0m\u001b[1;33m(\u001b[0m\u001b[0msig\u001b[0m\u001b[1;33m.\u001b[0m\u001b[0mparameters\u001b[0m\u001b[1;33m,\u001b[0m \u001b[0margs\u001b[0m\u001b[1;33m)\u001b[0m\u001b[1;33m}\u001b[0m\u001b[1;33m)\u001b[0m\u001b[1;33m\u001b[0m\u001b[1;33m\u001b[0m\u001b[0m\n\u001b[1;32m---> 73\u001b[1;33m         \u001b[1;32mreturn\u001b[0m \u001b[0mf\u001b[0m\u001b[1;33m(\u001b[0m\u001b[1;33m**\u001b[0m\u001b[0mkwargs\u001b[0m\u001b[1;33m)\u001b[0m\u001b[1;33m\u001b[0m\u001b[1;33m\u001b[0m\u001b[0m\n\u001b[0m\u001b[0;32m     74\u001b[0m     \u001b[1;32mreturn\u001b[0m \u001b[0minner_f\u001b[0m\u001b[1;33m\u001b[0m\u001b[1;33m\u001b[0m\u001b[0m\n\u001b[0;32m     75\u001b[0m \u001b[1;33m\u001b[0m\u001b[0m\n",
      "\u001b[1;32mC:\\ProgramData\\Anaconda3\\lib\\site-packages\\sklearn\\metrics\\_ranking.py\u001b[0m in \u001b[0;36mroc_auc_score\u001b[1;34m(y_true, y_score, average, sample_weight, max_fpr, multi_class, labels)\u001b[0m\n\u001b[0;32m    388\u001b[0m         \u001b[0mlabels\u001b[0m \u001b[1;33m=\u001b[0m \u001b[0mnp\u001b[0m\u001b[1;33m.\u001b[0m\u001b[0munique\u001b[0m\u001b[1;33m(\u001b[0m\u001b[0my_true\u001b[0m\u001b[1;33m)\u001b[0m\u001b[1;33m\u001b[0m\u001b[1;33m\u001b[0m\u001b[0m\n\u001b[0;32m    389\u001b[0m         \u001b[0my_true\u001b[0m \u001b[1;33m=\u001b[0m \u001b[0mlabel_binarize\u001b[0m\u001b[1;33m(\u001b[0m\u001b[0my_true\u001b[0m\u001b[1;33m,\u001b[0m \u001b[0mclasses\u001b[0m\u001b[1;33m=\u001b[0m\u001b[0mlabels\u001b[0m\u001b[1;33m)\u001b[0m\u001b[1;33m[\u001b[0m\u001b[1;33m:\u001b[0m\u001b[1;33m,\u001b[0m \u001b[1;36m0\u001b[0m\u001b[1;33m]\u001b[0m\u001b[1;33m\u001b[0m\u001b[1;33m\u001b[0m\u001b[0m\n\u001b[1;32m--> 390\u001b[1;33m         return _average_binary_score(partial(_binary_roc_auc_score,\n\u001b[0m\u001b[0;32m    391\u001b[0m                                              max_fpr=max_fpr),\n\u001b[0;32m    392\u001b[0m                                      \u001b[0my_true\u001b[0m\u001b[1;33m,\u001b[0m \u001b[0my_score\u001b[0m\u001b[1;33m,\u001b[0m \u001b[0maverage\u001b[0m\u001b[1;33m,\u001b[0m\u001b[1;33m\u001b[0m\u001b[1;33m\u001b[0m\u001b[0m\n",
      "\u001b[1;32mC:\\ProgramData\\Anaconda3\\lib\\site-packages\\sklearn\\metrics\\_base.py\u001b[0m in \u001b[0;36m_average_binary_score\u001b[1;34m(binary_metric, y_true, y_score, average, sample_weight)\u001b[0m\n\u001b[0;32m     75\u001b[0m \u001b[1;33m\u001b[0m\u001b[0m\n\u001b[0;32m     76\u001b[0m     \u001b[1;32mif\u001b[0m \u001b[0my_type\u001b[0m \u001b[1;33m==\u001b[0m \u001b[1;34m\"binary\"\u001b[0m\u001b[1;33m:\u001b[0m\u001b[1;33m\u001b[0m\u001b[1;33m\u001b[0m\u001b[0m\n\u001b[1;32m---> 77\u001b[1;33m         \u001b[1;32mreturn\u001b[0m \u001b[0mbinary_metric\u001b[0m\u001b[1;33m(\u001b[0m\u001b[0my_true\u001b[0m\u001b[1;33m,\u001b[0m \u001b[0my_score\u001b[0m\u001b[1;33m,\u001b[0m \u001b[0msample_weight\u001b[0m\u001b[1;33m=\u001b[0m\u001b[0msample_weight\u001b[0m\u001b[1;33m)\u001b[0m\u001b[1;33m\u001b[0m\u001b[1;33m\u001b[0m\u001b[0m\n\u001b[0m\u001b[0;32m     78\u001b[0m \u001b[1;33m\u001b[0m\u001b[0m\n\u001b[0;32m     79\u001b[0m     \u001b[0mcheck_consistent_length\u001b[0m\u001b[1;33m(\u001b[0m\u001b[0my_true\u001b[0m\u001b[1;33m,\u001b[0m \u001b[0my_score\u001b[0m\u001b[1;33m,\u001b[0m \u001b[0msample_weight\u001b[0m\u001b[1;33m)\u001b[0m\u001b[1;33m\u001b[0m\u001b[1;33m\u001b[0m\u001b[0m\n",
      "\u001b[1;32mC:\\ProgramData\\Anaconda3\\lib\\site-packages\\sklearn\\metrics\\_ranking.py\u001b[0m in \u001b[0;36m_binary_roc_auc_score\u001b[1;34m(y_true, y_score, sample_weight, max_fpr)\u001b[0m\n\u001b[0;32m    221\u001b[0m     \u001b[1;34m\"\"\"Binary roc auc score\"\"\"\u001b[0m\u001b[1;33m\u001b[0m\u001b[1;33m\u001b[0m\u001b[0m\n\u001b[0;32m    222\u001b[0m     \u001b[1;32mif\u001b[0m \u001b[0mlen\u001b[0m\u001b[1;33m(\u001b[0m\u001b[0mnp\u001b[0m\u001b[1;33m.\u001b[0m\u001b[0munique\u001b[0m\u001b[1;33m(\u001b[0m\u001b[0my_true\u001b[0m\u001b[1;33m)\u001b[0m\u001b[1;33m)\u001b[0m \u001b[1;33m!=\u001b[0m \u001b[1;36m2\u001b[0m\u001b[1;33m:\u001b[0m\u001b[1;33m\u001b[0m\u001b[1;33m\u001b[0m\u001b[0m\n\u001b[1;32m--> 223\u001b[1;33m         raise ValueError(\"Only one class present in y_true. ROC AUC score \"\n\u001b[0m\u001b[0;32m    224\u001b[0m                          \"is not defined in that case.\")\n\u001b[0;32m    225\u001b[0m \u001b[1;33m\u001b[0m\u001b[0m\n",
      "\u001b[1;31mValueError\u001b[0m: Only one class present in y_true. ROC AUC score is not defined in that case."
     ]
    }
   ],
   "source": [
    "probs1 = clf.predict_proba(x_test)\n",
    "\n",
    "probs1 = probs1[:, 1]\n",
    "\n",
    "from sklearn.metrics import roc_auc_score\n",
    "auc1 = roc_auc_score(y_test, probs1)\n",
    "print(auc1)\n",
    "\n",
    "fpr1, tpr1, thresholds1 = roc_curve(y_testt, probs1)\n",
    "plt.plot([0, 1], [0, 1], linestyle='--')\n",
    "\n",
    "plt.plot(fpr1, tpr1, marker='.')\n",
    "\n",
    "plt.show()\n"
   ]
  },
  {
   "cell_type": "code",
   "execution_count": null,
   "metadata": {},
   "outputs": [],
   "source": []
  }
 ],
 "metadata": {
  "kernelspec": {
   "display_name": "Python 3",
   "language": "python",
   "name": "python3"
  },
  "language_info": {
   "codemirror_mode": {
    "name": "ipython",
    "version": 3
   },
   "file_extension": ".py",
   "mimetype": "text/x-python",
   "name": "python",
   "nbconvert_exporter": "python",
   "pygments_lexer": "ipython3",
   "version": "3.8.5"
  },
  "toc": {
   "base_numbering": 1,
   "nav_menu": {},
   "number_sections": true,
   "sideBar": true,
   "skip_h1_title": false,
   "title_cell": "Table of Contents",
   "title_sidebar": "Contents",
   "toc_cell": false,
   "toc_position": {},
   "toc_section_display": true,
   "toc_window_display": false
  }
 },
 "nbformat": 4,
 "nbformat_minor": 4
}
