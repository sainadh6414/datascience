{
 "cells": [
  {
   "cell_type": "code",
   "execution_count": 5,
   "metadata": {
    "ExecuteTime": {
     "end_time": "2021-04-16T23:37:45.151566Z",
     "start_time": "2021-04-16T23:37:45.118303Z"
    }
   },
   "outputs": [],
   "source": [
    "import numpy as np\n",
    "import pandas as pd\n",
    "\n",
    "from sklearn.tree import DecisionTreeClassifier\n",
    "from sklearn.ensemble import RandomForestClassifier\n",
    "from sklearn.neural_network import MLPClassifier\n",
    "\n",
    "# Employee will be Attrited or not is the Dependent Variable\n",
    "\n",
    "df = pd.read_csv(\"HR_Employee_Attrition_Data.csv\")"
   ]
  },
  {
   "cell_type": "code",
   "execution_count": 6,
   "metadata": {
    "ExecuteTime": {
     "end_time": "2021-04-16T23:37:46.371510Z",
     "start_time": "2021-04-16T23:37:46.344536Z"
    }
   },
   "outputs": [
    {
     "data": {
      "text/html": [
       "<div>\n",
       "<style scoped>\n",
       "    .dataframe tbody tr th:only-of-type {\n",
       "        vertical-align: middle;\n",
       "    }\n",
       "\n",
       "    .dataframe tbody tr th {\n",
       "        vertical-align: top;\n",
       "    }\n",
       "\n",
       "    .dataframe thead th {\n",
       "        text-align: right;\n",
       "    }\n",
       "</style>\n",
       "<table border=\"1\" class=\"dataframe\">\n",
       "  <thead>\n",
       "    <tr style=\"text-align: right;\">\n",
       "      <th></th>\n",
       "      <th>Age</th>\n",
       "      <th>Attrition</th>\n",
       "      <th>DailyRate</th>\n",
       "      <th>DistanceFromHome</th>\n",
       "      <th>Education</th>\n",
       "      <th>EmployeeCount</th>\n",
       "      <th>EmployeeNumber</th>\n",
       "      <th>EnvironmentSatisfaction</th>\n",
       "      <th>HourlyRate</th>\n",
       "      <th>JobInvolvement</th>\n",
       "      <th>...</th>\n",
       "      <th>RelationshipSatisfaction</th>\n",
       "      <th>StandardHours</th>\n",
       "      <th>StockOptionLevel</th>\n",
       "      <th>TotalWorkingYears</th>\n",
       "      <th>TrainingTimesLastYear</th>\n",
       "      <th>WorkLifeBalance</th>\n",
       "      <th>YearsAtCompany</th>\n",
       "      <th>YearsInCurrentRole</th>\n",
       "      <th>YearsSinceLastPromotion</th>\n",
       "      <th>YearsWithCurrManager</th>\n",
       "    </tr>\n",
       "  </thead>\n",
       "  <tbody>\n",
       "    <tr>\n",
       "      <th>0</th>\n",
       "      <td>41</td>\n",
       "      <td>1</td>\n",
       "      <td>1102</td>\n",
       "      <td>1</td>\n",
       "      <td>2</td>\n",
       "      <td>1</td>\n",
       "      <td>1</td>\n",
       "      <td>2</td>\n",
       "      <td>94</td>\n",
       "      <td>3</td>\n",
       "      <td>...</td>\n",
       "      <td>1</td>\n",
       "      <td>80</td>\n",
       "      <td>0</td>\n",
       "      <td>8</td>\n",
       "      <td>0</td>\n",
       "      <td>1</td>\n",
       "      <td>6</td>\n",
       "      <td>4</td>\n",
       "      <td>0</td>\n",
       "      <td>5</td>\n",
       "    </tr>\n",
       "    <tr>\n",
       "      <th>1</th>\n",
       "      <td>49</td>\n",
       "      <td>0</td>\n",
       "      <td>279</td>\n",
       "      <td>8</td>\n",
       "      <td>1</td>\n",
       "      <td>1</td>\n",
       "      <td>2</td>\n",
       "      <td>3</td>\n",
       "      <td>61</td>\n",
       "      <td>2</td>\n",
       "      <td>...</td>\n",
       "      <td>4</td>\n",
       "      <td>80</td>\n",
       "      <td>1</td>\n",
       "      <td>10</td>\n",
       "      <td>3</td>\n",
       "      <td>3</td>\n",
       "      <td>10</td>\n",
       "      <td>7</td>\n",
       "      <td>1</td>\n",
       "      <td>7</td>\n",
       "    </tr>\n",
       "    <tr>\n",
       "      <th>2</th>\n",
       "      <td>37</td>\n",
       "      <td>1</td>\n",
       "      <td>1373</td>\n",
       "      <td>2</td>\n",
       "      <td>2</td>\n",
       "      <td>1</td>\n",
       "      <td>3</td>\n",
       "      <td>4</td>\n",
       "      <td>92</td>\n",
       "      <td>2</td>\n",
       "      <td>...</td>\n",
       "      <td>2</td>\n",
       "      <td>80</td>\n",
       "      <td>0</td>\n",
       "      <td>7</td>\n",
       "      <td>3</td>\n",
       "      <td>3</td>\n",
       "      <td>0</td>\n",
       "      <td>0</td>\n",
       "      <td>0</td>\n",
       "      <td>0</td>\n",
       "    </tr>\n",
       "    <tr>\n",
       "      <th>3</th>\n",
       "      <td>33</td>\n",
       "      <td>0</td>\n",
       "      <td>1392</td>\n",
       "      <td>3</td>\n",
       "      <td>4</td>\n",
       "      <td>1</td>\n",
       "      <td>4</td>\n",
       "      <td>4</td>\n",
       "      <td>56</td>\n",
       "      <td>3</td>\n",
       "      <td>...</td>\n",
       "      <td>3</td>\n",
       "      <td>80</td>\n",
       "      <td>0</td>\n",
       "      <td>8</td>\n",
       "      <td>3</td>\n",
       "      <td>3</td>\n",
       "      <td>8</td>\n",
       "      <td>7</td>\n",
       "      <td>3</td>\n",
       "      <td>0</td>\n",
       "    </tr>\n",
       "    <tr>\n",
       "      <th>4</th>\n",
       "      <td>27</td>\n",
       "      <td>0</td>\n",
       "      <td>591</td>\n",
       "      <td>2</td>\n",
       "      <td>1</td>\n",
       "      <td>1</td>\n",
       "      <td>5</td>\n",
       "      <td>1</td>\n",
       "      <td>40</td>\n",
       "      <td>3</td>\n",
       "      <td>...</td>\n",
       "      <td>4</td>\n",
       "      <td>80</td>\n",
       "      <td>1</td>\n",
       "      <td>6</td>\n",
       "      <td>3</td>\n",
       "      <td>3</td>\n",
       "      <td>2</td>\n",
       "      <td>2</td>\n",
       "      <td>2</td>\n",
       "      <td>2</td>\n",
       "    </tr>\n",
       "  </tbody>\n",
       "</table>\n",
       "<p>5 rows × 27 columns</p>\n",
       "</div>"
      ],
      "text/plain": [
       "   Age  Attrition  DailyRate  DistanceFromHome  Education  EmployeeCount  \\\n",
       "0   41          1       1102                 1          2              1   \n",
       "1   49          0        279                 8          1              1   \n",
       "2   37          1       1373                 2          2              1   \n",
       "3   33          0       1392                 3          4              1   \n",
       "4   27          0        591                 2          1              1   \n",
       "\n",
       "   EmployeeNumber  EnvironmentSatisfaction  HourlyRate  JobInvolvement  ...  \\\n",
       "0               1                        2          94               3  ...   \n",
       "1               2                        3          61               2  ...   \n",
       "2               3                        4          92               2  ...   \n",
       "3               4                        4          56               3  ...   \n",
       "4               5                        1          40               3  ...   \n",
       "\n",
       "   RelationshipSatisfaction  StandardHours  StockOptionLevel  \\\n",
       "0                         1             80                 0   \n",
       "1                         4             80                 1   \n",
       "2                         2             80                 0   \n",
       "3                         3             80                 0   \n",
       "4                         4             80                 1   \n",
       "\n",
       "   TotalWorkingYears  TrainingTimesLastYear  WorkLifeBalance  YearsAtCompany  \\\n",
       "0                  8                      0                1               6   \n",
       "1                 10                      3                3              10   \n",
       "2                  7                      3                3               0   \n",
       "3                  8                      3                3               8   \n",
       "4                  6                      3                3               2   \n",
       "\n",
       "   YearsInCurrentRole  YearsSinceLastPromotion  YearsWithCurrManager  \n",
       "0                   4                        0                     5  \n",
       "1                   7                        1                     7  \n",
       "2                   0                        0                     0  \n",
       "3                   7                        3                     0  \n",
       "4                   2                        2                     2  \n",
       "\n",
       "[5 rows x 27 columns]"
      ]
     },
     "execution_count": 6,
     "metadata": {},
     "output_type": "execute_result"
    }
   ],
   "source": [
    "df.head()"
   ]
  },
  {
   "cell_type": "code",
   "execution_count": 3,
   "metadata": {
    "ExecuteTime": {
     "end_time": "2021-04-16T23:32:56.286741Z",
     "start_time": "2021-04-16T23:32:56.236790Z"
    }
   },
   "outputs": [
    {
     "name": "stdout",
     "output_type": "stream",
     "text": [
      "<class 'pandas.core.frame.DataFrame'>\n",
      "RangeIndex: 2940 entries, 0 to 2939\n",
      "Data columns (total 27 columns):\n",
      " #   Column                    Non-Null Count  Dtype\n",
      "---  ------                    --------------  -----\n",
      " 0   Age                       2940 non-null   int64\n",
      " 1   Attrition                 2940 non-null   int64\n",
      " 2   DailyRate                 2940 non-null   int64\n",
      " 3   DistanceFromHome          2940 non-null   int64\n",
      " 4   Education                 2940 non-null   int64\n",
      " 5   EmployeeCount             2940 non-null   int64\n",
      " 6   EmployeeNumber            2940 non-null   int64\n",
      " 7   EnvironmentSatisfaction   2940 non-null   int64\n",
      " 8   HourlyRate                2940 non-null   int64\n",
      " 9   JobInvolvement            2940 non-null   int64\n",
      " 10  JobLevel                  2940 non-null   int64\n",
      " 11  JobSatisfaction           2940 non-null   int64\n",
      " 12  MonthlyIncome             2940 non-null   int64\n",
      " 13  MonthlyRate               2940 non-null   int64\n",
      " 14  NumCompaniesWorked        2940 non-null   int64\n",
      " 15  PercentSalaryHike         2940 non-null   int64\n",
      " 16  PerformanceRating         2940 non-null   int64\n",
      " 17  RelationshipSatisfaction  2940 non-null   int64\n",
      " 18  StandardHours             2940 non-null   int64\n",
      " 19  StockOptionLevel          2940 non-null   int64\n",
      " 20  TotalWorkingYears         2940 non-null   int64\n",
      " 21  TrainingTimesLastYear     2940 non-null   int64\n",
      " 22  WorkLifeBalance           2940 non-null   int64\n",
      " 23  YearsAtCompany            2940 non-null   int64\n",
      " 24  YearsInCurrentRole        2940 non-null   int64\n",
      " 25  YearsSinceLastPromotion   2940 non-null   int64\n",
      " 26  YearsWithCurrManager      2940 non-null   int64\n",
      "dtypes: int64(27)\n",
      "memory usage: 620.3 KB\n"
     ]
    }
   ],
   "source": [
    "df.info()"
   ]
  },
  {
   "cell_type": "code",
   "execution_count": 7,
   "metadata": {
    "ExecuteTime": {
     "end_time": "2021-04-16T23:37:49.313109Z",
     "start_time": "2021-04-16T23:37:49.302118Z"
    }
   },
   "outputs": [],
   "source": [
    "df.drop(['EmployeeCount', 'EmployeeNumber'], axis=1, inplace=True)"
   ]
  },
  {
   "cell_type": "code",
   "execution_count": 9,
   "metadata": {
    "ExecuteTime": {
     "end_time": "2021-04-16T23:41:07.722819Z",
     "start_time": "2021-04-16T23:41:07.697187Z"
    }
   },
   "outputs": [
    {
     "name": "stdout",
     "output_type": "stream",
     "text": [
      "<class 'pandas.core.frame.DataFrame'>\n",
      "RangeIndex: 2940 entries, 0 to 2939\n",
      "Data columns (total 25 columns):\n",
      " #   Column                    Non-Null Count  Dtype\n",
      "---  ------                    --------------  -----\n",
      " 0   Age                       2940 non-null   int64\n",
      " 1   Attrition                 2940 non-null   int64\n",
      " 2   DailyRate                 2940 non-null   int64\n",
      " 3   DistanceFromHome          2940 non-null   int64\n",
      " 4   Education                 2940 non-null   int64\n",
      " 5   EnvironmentSatisfaction   2940 non-null   int64\n",
      " 6   HourlyRate                2940 non-null   int64\n",
      " 7   JobInvolvement            2940 non-null   int64\n",
      " 8   JobLevel                  2940 non-null   int64\n",
      " 9   JobSatisfaction           2940 non-null   int64\n",
      " 10  MonthlyIncome             2940 non-null   int64\n",
      " 11  MonthlyRate               2940 non-null   int64\n",
      " 12  NumCompaniesWorked        2940 non-null   int64\n",
      " 13  PercentSalaryHike         2940 non-null   int64\n",
      " 14  PerformanceRating         2940 non-null   int64\n",
      " 15  RelationshipSatisfaction  2940 non-null   int64\n",
      " 16  StandardHours             2940 non-null   int64\n",
      " 17  StockOptionLevel          2940 non-null   int64\n",
      " 18  TotalWorkingYears         2940 non-null   int64\n",
      " 19  TrainingTimesLastYear     2940 non-null   int64\n",
      " 20  WorkLifeBalance           2940 non-null   int64\n",
      " 21  YearsAtCompany            2940 non-null   int64\n",
      " 22  YearsInCurrentRole        2940 non-null   int64\n",
      " 23  YearsSinceLastPromotion   2940 non-null   int64\n",
      " 24  YearsWithCurrManager      2940 non-null   int64\n",
      "dtypes: int64(25)\n",
      "memory usage: 574.3 KB\n"
     ]
    }
   ],
   "source": [
    "df.info()"
   ]
  },
  {
   "cell_type": "code",
   "execution_count": 11,
   "metadata": {
    "ExecuteTime": {
     "end_time": "2021-04-16T23:41:56.716782Z",
     "start_time": "2021-04-16T23:41:56.696092Z"
    }
   },
   "outputs": [
    {
     "data": {
      "text/plain": [
       "0.16122448979591836"
      ]
     },
     "execution_count": 11,
     "metadata": {},
     "output_type": "execute_result"
    }
   ],
   "source": [
    "df.Attrition.sum()/df.Attrition.count()"
   ]
  },
  {
   "cell_type": "code",
   "execution_count": 12,
   "metadata": {
    "ExecuteTime": {
     "end_time": "2021-04-16T23:43:45.586465Z",
     "start_time": "2021-04-16T23:43:45.560669Z"
    }
   },
   "outputs": [],
   "source": [
    "# Split the data as train test split\n",
    "\n",
    "x = df.drop('Attrition', axis=1)\n",
    "y = df.pop('Attrition')\n",
    "\n",
    "from sklearn.model_selection import train_test_split\n",
    "\n",
    "x_train, x_test, y_train, y_test = train_test_split(x, y, test_size=.30, random_state=1)"
   ]
  },
  {
   "cell_type": "markdown",
   "metadata": {},
   "source": [
    "# Decision Tree Classifier"
   ]
  },
  {
   "cell_type": "code",
   "execution_count": 13,
   "metadata": {
    "ExecuteTime": {
     "end_time": "2021-04-16T23:44:29.071340Z",
     "start_time": "2021-04-16T23:44:29.054353Z"
    }
   },
   "outputs": [],
   "source": [
    "# Decision Tree Classifier\n",
    "\n",
    "dt_model = DecisionTreeClassifier(criterion='gini')"
   ]
  },
  {
   "cell_type": "code",
   "execution_count": 14,
   "metadata": {
    "ExecuteTime": {
     "end_time": "2021-04-16T23:44:52.574109Z",
     "start_time": "2021-04-16T23:44:52.511912Z"
    }
   },
   "outputs": [
    {
     "data": {
      "text/plain": [
       "DecisionTreeClassifier()"
      ]
     },
     "execution_count": 14,
     "metadata": {},
     "output_type": "execute_result"
    }
   ],
   "source": [
    "dt_model.fit(x_train, y_train)"
   ]
  },
  {
   "cell_type": "code",
   "execution_count": 15,
   "metadata": {
    "ExecuteTime": {
     "end_time": "2021-04-16T23:45:07.343790Z",
     "start_time": "2021-04-16T23:45:07.334728Z"
    }
   },
   "outputs": [],
   "source": [
    "from sklearn import tree"
   ]
  },
  {
   "cell_type": "code",
   "execution_count": 18,
   "metadata": {
    "ExecuteTime": {
     "end_time": "2021-04-16T23:48:30.395103Z",
     "start_time": "2021-04-16T23:48:30.327116Z"
    }
   },
   "outputs": [],
   "source": [
    "train_char_labels = ['No', 'Yes']\n",
    "HR_Tree_File = open('hr_tree.doc', 'w')\n",
    "\n",
    "dot_data = tree.export_graphviz(dt_model, out_file=HR_Tree_File, feature_names= list(x_train), class_names=list(train_char_labels))\n",
    "\n",
    "HR_Tree_File.close()"
   ]
  },
  {
   "cell_type": "markdown",
   "metadata": {},
   "source": [
    "## Grid Search CV to check for the optimal depth for D-Tree"
   ]
  },
  {
   "cell_type": "code",
   "execution_count": 19,
   "metadata": {
    "ExecuteTime": {
     "end_time": "2021-04-16T23:55:42.371540Z",
     "start_time": "2021-04-16T23:55:42.366540Z"
    }
   },
   "outputs": [],
   "source": [
    "from sklearn.model_selection import GridSearchCV"
   ]
  },
  {
   "cell_type": "code",
   "execution_count": 20,
   "metadata": {
    "ExecuteTime": {
     "end_time": "2021-04-16T23:57:57.084473Z",
     "start_time": "2021-04-16T23:57:57.080473Z"
    }
   },
   "outputs": [],
   "source": [
    "param_grid = {\n",
    "    'max_depth': [7, 8, 9, 10],\n",
    "    'min_samples_leaf': [15, 20, 25],\n",
    "    'min_samples_split': [45, 60, 75]\n",
    "}\n",
    "\n",
    "dt_model = DecisionTreeClassifier()"
   ]
  },
  {
   "cell_type": "code",
   "execution_count": 21,
   "metadata": {
    "ExecuteTime": {
     "end_time": "2021-04-16T23:58:46.626720Z",
     "start_time": "2021-04-16T23:58:46.608236Z"
    }
   },
   "outputs": [],
   "source": [
    "grid_search = GridSearchCV(estimator=dt_model, param_grid=param_grid, cv=3)"
   ]
  },
  {
   "cell_type": "code",
   "execution_count": 22,
   "metadata": {
    "ExecuteTime": {
     "end_time": "2021-04-16T23:59:18.315782Z",
     "start_time": "2021-04-16T23:59:16.575369Z"
    }
   },
   "outputs": [
    {
     "data": {
      "text/plain": [
       "GridSearchCV(cv=3, estimator=DecisionTreeClassifier(),\n",
       "             param_grid={'max_depth': [7, 8, 9, 10],\n",
       "                         'min_samples_leaf': [15, 20, 25],\n",
       "                         'min_samples_split': [45, 60, 75]})"
      ]
     },
     "execution_count": 22,
     "metadata": {},
     "output_type": "execute_result"
    }
   ],
   "source": [
    "grid_search.fit(x_train, y_train)"
   ]
  },
  {
   "cell_type": "code",
   "execution_count": 23,
   "metadata": {
    "ExecuteTime": {
     "end_time": "2021-04-16T23:59:31.689591Z",
     "start_time": "2021-04-16T23:59:31.672000Z"
    }
   },
   "outputs": [
    {
     "data": {
      "text/plain": [
       "{'max_depth': 7, 'min_samples_leaf': 25, 'min_samples_split': 45}"
      ]
     },
     "execution_count": 23,
     "metadata": {},
     "output_type": "execute_result"
    }
   ],
   "source": [
    "grid_search.best_params_"
   ]
  },
  {
   "cell_type": "code",
   "execution_count": 24,
   "metadata": {
    "ExecuteTime": {
     "end_time": "2021-04-17T00:01:04.412980Z",
     "start_time": "2021-04-17T00:01:04.407001Z"
    }
   },
   "outputs": [],
   "source": [
    "best_grid = grid_search.best_estimator_"
   ]
  },
  {
   "cell_type": "code",
   "execution_count": 25,
   "metadata": {
    "ExecuteTime": {
     "end_time": "2021-04-17T00:01:37.528402Z",
     "start_time": "2021-04-17T00:01:37.509417Z"
    }
   },
   "outputs": [],
   "source": [
    "ytrain_predict = best_grid.predict(x_train)\n",
    "ytest_predict = best_grid.predict(x_test)"
   ]
  },
  {
   "cell_type": "code",
   "execution_count": 26,
   "metadata": {
    "ExecuteTime": {
     "end_time": "2021-04-17T00:02:02.062040Z",
     "start_time": "2021-04-17T00:02:02.056350Z"
    }
   },
   "outputs": [],
   "source": [
    "from sklearn.metrics import classification_report"
   ]
  },
  {
   "cell_type": "code",
   "execution_count": 27,
   "metadata": {
    "ExecuteTime": {
     "end_time": "2021-04-17T00:02:50.640806Z",
     "start_time": "2021-04-17T00:02:50.597974Z"
    }
   },
   "outputs": [
    {
     "name": "stdout",
     "output_type": "stream",
     "text": [
      "              precision    recall  f1-score   support\n",
      "\n",
      "           0       0.87      0.98      0.92      1737\n",
      "           1       0.66      0.21      0.32       321\n",
      "\n",
      "    accuracy                           0.86      2058\n",
      "   macro avg       0.76      0.60      0.62      2058\n",
      "weighted avg       0.84      0.86      0.83      2058\n",
      "\n"
     ]
    }
   ],
   "source": [
    "print(classification_report(y_train, ytrain_predict))"
   ]
  },
  {
   "cell_type": "code",
   "execution_count": 28,
   "metadata": {
    "ExecuteTime": {
     "end_time": "2021-04-17T00:03:01.771514Z",
     "start_time": "2021-04-17T00:03:01.744454Z"
    }
   },
   "outputs": [
    {
     "name": "stdout",
     "output_type": "stream",
     "text": [
      "              precision    recall  f1-score   support\n",
      "\n",
      "           0       0.84      0.97      0.90       729\n",
      "           1       0.51      0.15      0.23       153\n",
      "\n",
      "    accuracy                           0.83       882\n",
      "   macro avg       0.68      0.56      0.57       882\n",
      "weighted avg       0.79      0.83      0.79       882\n",
      "\n"
     ]
    }
   ],
   "source": [
    "print(classification_report(y_test, ytest_predict))"
   ]
  },
  {
   "cell_type": "markdown",
   "metadata": {},
   "source": [
    "Use Predict_Proba"
   ]
  },
  {
   "cell_type": "code",
   "execution_count": 29,
   "metadata": {
    "ExecuteTime": {
     "end_time": "2021-04-17T00:06:56.151659Z",
     "start_time": "2021-04-17T00:06:56.136943Z"
    }
   },
   "outputs": [],
   "source": [
    "ytrain_predict_proba = best_grid.predict_proba(x_train)\n",
    "ytest_predict_proba = best_grid.predict_proba(x_test)"
   ]
  },
  {
   "cell_type": "code",
   "execution_count": 30,
   "metadata": {
    "ExecuteTime": {
     "end_time": "2021-04-17T00:07:13.229676Z",
     "start_time": "2021-04-17T00:07:13.207682Z"
    }
   },
   "outputs": [
    {
     "data": {
      "text/plain": [
       "array([0.        , 0.04      , 0.1875    , ..., 0.05079365, 0.        ,\n",
       "       0.13953488])"
      ]
     },
     "execution_count": 30,
     "metadata": {},
     "output_type": "execute_result"
    }
   ],
   "source": [
    "ytrain_predict_proba[:,1]"
   ]
  },
  {
   "cell_type": "markdown",
   "metadata": {},
   "source": [
    "# Random Forest Classifier"
   ]
  },
  {
   "cell_type": "code",
   "execution_count": 33,
   "metadata": {
    "ExecuteTime": {
     "end_time": "2021-04-17T00:11:35.771405Z",
     "start_time": "2021-04-17T00:11:35.760410Z"
    }
   },
   "outputs": [],
   "source": [
    "param_grid = {\n",
    "    'max_depth': [6, 7],\n",
    "    'max_features': [10, 14],\n",
    "    'min_samples_leaf': [15, 20],\n",
    "    'min_samples_split': [40, 50],\n",
    "    'n_estimators': [101, 301]\n",
    "}\n",
    "\n",
    "rfcl = RandomForestClassifier()\n",
    "\n",
    "grid_search = GridSearchCV(estimator = rfcl, param_grid = param_grid, cv = 3)"
   ]
  },
  {
   "cell_type": "code",
   "execution_count": 35,
   "metadata": {
    "ExecuteTime": {
     "end_time": "2021-04-17T00:13:58.329349Z",
     "start_time": "2021-04-17T00:12:17.932082Z"
    }
   },
   "outputs": [
    {
     "data": {
      "text/plain": [
       "GridSearchCV(cv=3, estimator=RandomForestClassifier(),\n",
       "             param_grid={'max_depth': [6, 7], 'max_features': [10, 14],\n",
       "                         'min_samples_leaf': [15, 20],\n",
       "                         'min_samples_split': [40, 50],\n",
       "                         'n_estimators': [101, 301]})"
      ]
     },
     "execution_count": 35,
     "metadata": {},
     "output_type": "execute_result"
    }
   ],
   "source": [
    "grid_search.fit(x_train, y_train)"
   ]
  },
  {
   "cell_type": "code",
   "execution_count": 36,
   "metadata": {
    "ExecuteTime": {
     "end_time": "2021-04-17T00:13:58.360331Z",
     "start_time": "2021-04-17T00:13:58.341343Z"
    }
   },
   "outputs": [
    {
     "data": {
      "text/plain": [
       "{'max_depth': 6,\n",
       " 'max_features': 14,\n",
       " 'min_samples_leaf': 15,\n",
       " 'min_samples_split': 50,\n",
       " 'n_estimators': 301}"
      ]
     },
     "execution_count": 36,
     "metadata": {},
     "output_type": "execute_result"
    }
   ],
   "source": [
    "grid_search.best_params_"
   ]
  },
  {
   "cell_type": "code",
   "execution_count": 37,
   "metadata": {
    "ExecuteTime": {
     "end_time": "2021-04-17T00:14:01.399118Z",
     "start_time": "2021-04-17T00:14:01.385126Z"
    }
   },
   "outputs": [],
   "source": [
    "best_grid = grid_search.best_estimator_"
   ]
  },
  {
   "cell_type": "code",
   "execution_count": 38,
   "metadata": {
    "ExecuteTime": {
     "end_time": "2021-04-17T00:14:01.664369Z",
     "start_time": "2021-04-17T00:14:01.402117Z"
    }
   },
   "outputs": [],
   "source": [
    "ytrain_predict = best_grid.predict(x_train)\n",
    "ytest_predict = best_grid.predict(x_test)"
   ]
  },
  {
   "cell_type": "code",
   "execution_count": 39,
   "metadata": {
    "ExecuteTime": {
     "end_time": "2021-04-17T00:14:01.680936Z",
     "start_time": "2021-04-17T00:14:01.666939Z"
    }
   },
   "outputs": [
    {
     "name": "stdout",
     "output_type": "stream",
     "text": [
      "              precision    recall  f1-score   support\n",
      "\n",
      "           0       0.87      1.00      0.93      1737\n",
      "           1       0.93      0.16      0.28       321\n",
      "\n",
      "    accuracy                           0.87      2058\n",
      "   macro avg       0.90      0.58      0.60      2058\n",
      "weighted avg       0.88      0.87      0.83      2058\n",
      "\n"
     ]
    }
   ],
   "source": [
    "print(classification_report(y_train, ytrain_predict))"
   ]
  },
  {
   "cell_type": "code",
   "execution_count": 40,
   "metadata": {
    "ExecuteTime": {
     "end_time": "2021-04-17T00:14:01.711848Z",
     "start_time": "2021-04-17T00:14:01.684929Z"
    }
   },
   "outputs": [
    {
     "name": "stdout",
     "output_type": "stream",
     "text": [
      "              precision    recall  f1-score   support\n",
      "\n",
      "           0       0.85      1.00      0.92       729\n",
      "           1       0.91      0.13      0.23       153\n",
      "\n",
      "    accuracy                           0.85       882\n",
      "   macro avg       0.88      0.56      0.57       882\n",
      "weighted avg       0.86      0.85      0.80       882\n",
      "\n"
     ]
    }
   ],
   "source": [
    "print(classification_report(y_test, ytest_predict))"
   ]
  },
  {
   "cell_type": "markdown",
   "metadata": {},
   "source": [
    "# Artificial Neural Networks"
   ]
  },
  {
   "cell_type": "code",
   "execution_count": 41,
   "metadata": {
    "ExecuteTime": {
     "end_time": "2021-04-17T00:14:33.242594Z",
     "start_time": "2021-04-17T00:14:33.225935Z"
    }
   },
   "outputs": [],
   "source": [
    "# Scaling is necessary here\n",
    "from sklearn.preprocessing import StandardScaler"
   ]
  },
  {
   "cell_type": "code",
   "execution_count": 42,
   "metadata": {
    "ExecuteTime": {
     "end_time": "2021-04-17T00:14:39.460345Z",
     "start_time": "2021-04-17T00:14:39.440068Z"
    }
   },
   "outputs": [],
   "source": [
    "sc = StandardScaler()"
   ]
  },
  {
   "cell_type": "code",
   "execution_count": 43,
   "metadata": {
    "ExecuteTime": {
     "end_time": "2021-04-17T00:14:52.769822Z",
     "start_time": "2021-04-17T00:14:52.740821Z"
    }
   },
   "outputs": [],
   "source": [
    "x_trains = sc.fit_transform(x_train)"
   ]
  },
  {
   "cell_type": "code",
   "execution_count": 45,
   "metadata": {
    "ExecuteTime": {
     "end_time": "2021-04-17T00:15:10.591517Z",
     "start_time": "2021-04-17T00:15:10.579503Z"
    }
   },
   "outputs": [],
   "source": [
    "x_tests = sc.transform(x_test)"
   ]
  },
  {
   "cell_type": "code",
   "execution_count": 69,
   "metadata": {
    "ExecuteTime": {
     "end_time": "2021-04-17T00:21:37.630082Z",
     "start_time": "2021-04-17T00:21:37.624446Z"
    }
   },
   "outputs": [],
   "source": [
    "param_grid = {\n",
    "    'hidden_layer_sizes': [100],\n",
    "    'activation': ['logistic', 'relu'],\n",
    "    'solver': ['sgd', 'adam'],\n",
    "    'tol': [0.01,0.001],\n",
    "    'max_iter' : [10000]\n",
    "}\n",
    "\n",
    "mlp = MLPClassifier()\n",
    "\n",
    "grid_search = GridSearchCV(estimator = mlp, param_grid = param_grid, cv = 3)"
   ]
  },
  {
   "cell_type": "code",
   "execution_count": 70,
   "metadata": {
    "ExecuteTime": {
     "end_time": "2021-04-17T00:21:58.265734Z",
     "start_time": "2021-04-17T00:21:39.204898Z"
    }
   },
   "outputs": [
    {
     "data": {
      "text/plain": [
       "GridSearchCV(cv=3, estimator=MLPClassifier(),\n",
       "             param_grid={'activation': ['logistic', 'relu'],\n",
       "                         'hidden_layer_sizes': [100], 'max_iter': [10000],\n",
       "                         'solver': ['sgd', 'adam'], 'tol': [0.01, 0.001]})"
      ]
     },
     "execution_count": 70,
     "metadata": {},
     "output_type": "execute_result"
    }
   ],
   "source": [
    "grid_search.fit(x_trains, y_train)"
   ]
  },
  {
   "cell_type": "code",
   "execution_count": 71,
   "metadata": {
    "ExecuteTime": {
     "end_time": "2021-04-17T00:22:01.337760Z",
     "start_time": "2021-04-17T00:22:01.330762Z"
    }
   },
   "outputs": [
    {
     "data": {
      "text/plain": [
       "{'activation': 'relu',\n",
       " 'hidden_layer_sizes': 100,\n",
       " 'max_iter': 10000,\n",
       " 'solver': 'adam',\n",
       " 'tol': 0.001}"
      ]
     },
     "execution_count": 71,
     "metadata": {},
     "output_type": "execute_result"
    }
   ],
   "source": [
    "grid_search.best_params_"
   ]
  },
  {
   "cell_type": "code",
   "execution_count": 72,
   "metadata": {
    "ExecuteTime": {
     "end_time": "2021-04-17T00:22:03.363496Z",
     "start_time": "2021-04-17T00:22:03.344477Z"
    }
   },
   "outputs": [],
   "source": [
    "best_grid = grid_search.best_estimator_"
   ]
  },
  {
   "cell_type": "code",
   "execution_count": 74,
   "metadata": {
    "ExecuteTime": {
     "end_time": "2021-04-17T00:22:11.116714Z",
     "start_time": "2021-04-17T00:22:11.072329Z"
    }
   },
   "outputs": [],
   "source": [
    "ytrain_predict = best_grid.predict(x_train)\n",
    "ytest_predict = best_grid.predict(x_test)"
   ]
  },
  {
   "cell_type": "code",
   "execution_count": 56,
   "metadata": {
    "ExecuteTime": {
     "end_time": "2021-04-17T00:19:54.809450Z",
     "start_time": "2021-04-17T00:19:54.761862Z"
    }
   },
   "outputs": [
    {
     "name": "stdout",
     "output_type": "stream",
     "text": [
      "              precision    recall  f1-score   support\n",
      "\n",
      "           0       0.84      1.00      0.92      1737\n",
      "           1       0.00      0.00      0.00       321\n",
      "\n",
      "    accuracy                           0.84      2058\n",
      "   macro avg       0.42      0.50      0.46      2058\n",
      "weighted avg       0.71      0.84      0.77      2058\n",
      "\n",
      "              precision    recall  f1-score   support\n",
      "\n",
      "           0       0.83      1.00      0.91       729\n",
      "           1       0.00      0.00      0.00       153\n",
      "\n",
      "    accuracy                           0.83       882\n",
      "   macro avg       0.41      0.50      0.45       882\n",
      "weighted avg       0.68      0.83      0.75       882\n",
      "\n"
     ]
    },
    {
     "name": "stderr",
     "output_type": "stream",
     "text": [
      "C:\\ProgramData\\Anaconda3\\lib\\site-packages\\sklearn\\metrics\\_classification.py:1221: UndefinedMetricWarning: Precision and F-score are ill-defined and being set to 0.0 in labels with no predicted samples. Use `zero_division` parameter to control this behavior.\n",
      "  _warn_prf(average, modifier, msg_start, len(result))\n"
     ]
    }
   ],
   "source": [
    "print(classification_report(y_train, ytrain_predict))\n",
    "print(classification_report(y_test, ytest_predict))"
   ]
  },
  {
   "cell_type": "code",
   "execution_count": null,
   "metadata": {},
   "outputs": [],
   "source": []
  }
 ],
 "metadata": {
  "kernelspec": {
   "display_name": "Python 3",
   "language": "python",
   "name": "python3"
  },
  "language_info": {
   "codemirror_mode": {
    "name": "ipython",
    "version": 3
   },
   "file_extension": ".py",
   "mimetype": "text/x-python",
   "name": "python",
   "nbconvert_exporter": "python",
   "pygments_lexer": "ipython3",
   "version": "3.8.5"
  },
  "toc": {
   "base_numbering": 1,
   "nav_menu": {},
   "number_sections": true,
   "sideBar": true,
   "skip_h1_title": false,
   "title_cell": "Table of Contents",
   "title_sidebar": "Contents",
   "toc_cell": false,
   "toc_position": {},
   "toc_section_display": true,
   "toc_window_display": false
  }
 },
 "nbformat": 4,
 "nbformat_minor": 4
}
