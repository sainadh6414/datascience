{
 "cells": [
  {
   "cell_type": "code",
   "execution_count": 1,
   "metadata": {},
   "outputs": [],
   "source": [
    "# Importing Libraries\n",
    "import pandas as pd\n",
    "import numpy as np\n",
    "import matplotlib.pyplot as plt\n",
    "import seaborn as sns\n",
    "\n",
    "from statsmodels.formula.api import ols # Creating linear model\n",
    "def warn(*args, **kwargs):\n",
    "    pass\n",
    "import warnings\n",
    "warnings.warn = warn"
   ]
  },
  {
   "cell_type": "code",
   "execution_count": 2,
   "metadata": {},
   "outputs": [],
   "source": [
    "# Read the dataset\n",
    "credit = pd.read_csv('c:/GL Class/Industry Session/4th Dec 2021/credit_card.csv')"
   ]
  },
  {
   "cell_type": "code",
   "execution_count": 3,
   "metadata": {},
   "outputs": [
    {
     "data": {
      "text/html": [
       "<div>\n",
       "<style scoped>\n",
       "    .dataframe tbody tr th:only-of-type {\n",
       "        vertical-align: middle;\n",
       "    }\n",
       "\n",
       "    .dataframe tbody tr th {\n",
       "        vertical-align: top;\n",
       "    }\n",
       "\n",
       "    .dataframe thead th {\n",
       "        text-align: right;\n",
       "    }\n",
       "</style>\n",
       "<table border=\"1\" class=\"dataframe\">\n",
       "  <thead>\n",
       "    <tr style=\"text-align: right;\">\n",
       "      <th></th>\n",
       "      <th>ID</th>\n",
       "      <th>BALLIMIT</th>\n",
       "      <th>GENDER</th>\n",
       "      <th>EDUCATION</th>\n",
       "      <th>MARITAL_S</th>\n",
       "      <th>AGE</th>\n",
       "      <th>PAYSEPFL</th>\n",
       "      <th>PAYAUGFL</th>\n",
       "      <th>PAYJULFL</th>\n",
       "      <th>PAYJUNEFL</th>\n",
       "      <th>...</th>\n",
       "      <th>BILLJUNE</th>\n",
       "      <th>BILLMAY</th>\n",
       "      <th>BILLAPR</th>\n",
       "      <th>PAYSEP</th>\n",
       "      <th>PAYAUG</th>\n",
       "      <th>PAYJUL</th>\n",
       "      <th>PAYJUNE</th>\n",
       "      <th>PAYMAY</th>\n",
       "      <th>PAYAPR</th>\n",
       "      <th>DEFAULT</th>\n",
       "    </tr>\n",
       "  </thead>\n",
       "  <tbody>\n",
       "    <tr>\n",
       "      <th>0</th>\n",
       "      <td>1</td>\n",
       "      <td>20000</td>\n",
       "      <td>Female</td>\n",
       "      <td>University</td>\n",
       "      <td>Married</td>\n",
       "      <td>24</td>\n",
       "      <td>2</td>\n",
       "      <td>2</td>\n",
       "      <td>-1</td>\n",
       "      <td>-1</td>\n",
       "      <td>...</td>\n",
       "      <td>0</td>\n",
       "      <td>0</td>\n",
       "      <td>0</td>\n",
       "      <td>0</td>\n",
       "      <td>689</td>\n",
       "      <td>0</td>\n",
       "      <td>0</td>\n",
       "      <td>0</td>\n",
       "      <td>0</td>\n",
       "      <td>1</td>\n",
       "    </tr>\n",
       "    <tr>\n",
       "      <th>1</th>\n",
       "      <td>2</td>\n",
       "      <td>120000</td>\n",
       "      <td>Female</td>\n",
       "      <td>University</td>\n",
       "      <td>Single</td>\n",
       "      <td>26</td>\n",
       "      <td>-1</td>\n",
       "      <td>2</td>\n",
       "      <td>0</td>\n",
       "      <td>0</td>\n",
       "      <td>...</td>\n",
       "      <td>3272</td>\n",
       "      <td>3455</td>\n",
       "      <td>3261</td>\n",
       "      <td>0</td>\n",
       "      <td>1000</td>\n",
       "      <td>1000</td>\n",
       "      <td>1000</td>\n",
       "      <td>0</td>\n",
       "      <td>2000</td>\n",
       "      <td>1</td>\n",
       "    </tr>\n",
       "    <tr>\n",
       "      <th>2</th>\n",
       "      <td>3</td>\n",
       "      <td>90000</td>\n",
       "      <td>Female</td>\n",
       "      <td>University</td>\n",
       "      <td>Single</td>\n",
       "      <td>34</td>\n",
       "      <td>0</td>\n",
       "      <td>0</td>\n",
       "      <td>0</td>\n",
       "      <td>0</td>\n",
       "      <td>...</td>\n",
       "      <td>14331</td>\n",
       "      <td>14948</td>\n",
       "      <td>15549</td>\n",
       "      <td>1518</td>\n",
       "      <td>1500</td>\n",
       "      <td>1000</td>\n",
       "      <td>1000</td>\n",
       "      <td>1000</td>\n",
       "      <td>5000</td>\n",
       "      <td>0</td>\n",
       "    </tr>\n",
       "    <tr>\n",
       "      <th>3</th>\n",
       "      <td>4</td>\n",
       "      <td>50000</td>\n",
       "      <td>Female</td>\n",
       "      <td>University</td>\n",
       "      <td>Married</td>\n",
       "      <td>37</td>\n",
       "      <td>0</td>\n",
       "      <td>0</td>\n",
       "      <td>0</td>\n",
       "      <td>0</td>\n",
       "      <td>...</td>\n",
       "      <td>28314</td>\n",
       "      <td>28959</td>\n",
       "      <td>29547</td>\n",
       "      <td>2000</td>\n",
       "      <td>2019</td>\n",
       "      <td>1200</td>\n",
       "      <td>1100</td>\n",
       "      <td>1069</td>\n",
       "      <td>1000</td>\n",
       "      <td>0</td>\n",
       "    </tr>\n",
       "    <tr>\n",
       "      <th>4</th>\n",
       "      <td>5</td>\n",
       "      <td>50000</td>\n",
       "      <td>Male</td>\n",
       "      <td>University</td>\n",
       "      <td>Married</td>\n",
       "      <td>57</td>\n",
       "      <td>-1</td>\n",
       "      <td>0</td>\n",
       "      <td>-1</td>\n",
       "      <td>0</td>\n",
       "      <td>...</td>\n",
       "      <td>20940</td>\n",
       "      <td>19146</td>\n",
       "      <td>19131</td>\n",
       "      <td>2000</td>\n",
       "      <td>36681</td>\n",
       "      <td>10000</td>\n",
       "      <td>9000</td>\n",
       "      <td>689</td>\n",
       "      <td>679</td>\n",
       "      <td>0</td>\n",
       "    </tr>\n",
       "  </tbody>\n",
       "</table>\n",
       "<p>5 rows × 25 columns</p>\n",
       "</div>"
      ],
      "text/plain": [
       "   ID  BALLIMIT  GENDER   EDUCATION MARITAL_S  AGE  PAYSEPFL  PAYAUGFL  \\\n",
       "0   1     20000  Female  University   Married   24         2         2   \n",
       "1   2    120000  Female  University    Single   26        -1         2   \n",
       "2   3     90000  Female  University    Single   34         0         0   \n",
       "3   4     50000  Female  University   Married   37         0         0   \n",
       "4   5     50000    Male  University   Married   57        -1         0   \n",
       "\n",
       "   PAYJULFL  PAYJUNEFL  ...  BILLJUNE  BILLMAY  BILLAPR  PAYSEP  PAYAUG  \\\n",
       "0        -1         -1  ...         0        0        0       0     689   \n",
       "1         0          0  ...      3272     3455     3261       0    1000   \n",
       "2         0          0  ...     14331    14948    15549    1518    1500   \n",
       "3         0          0  ...     28314    28959    29547    2000    2019   \n",
       "4        -1          0  ...     20940    19146    19131    2000   36681   \n",
       "\n",
       "   PAYJUL  PAYJUNE  PAYMAY  PAYAPR  DEFAULT  \n",
       "0       0        0       0       0        1  \n",
       "1    1000     1000       0    2000        1  \n",
       "2    1000     1000    1000    5000        0  \n",
       "3    1200     1100    1069    1000        0  \n",
       "4   10000     9000     689     679        0  \n",
       "\n",
       "[5 rows x 25 columns]"
      ]
     },
     "execution_count": 3,
     "metadata": {},
     "output_type": "execute_result"
    }
   ],
   "source": [
    "credit.head()"
   ]
  },
  {
   "cell_type": "markdown",
   "metadata": {},
   "source": [
    "## Let's start with calculating WOE and IV"
   ]
  },
  {
   "cell_type": "code",
   "execution_count": 4,
   "metadata": {},
   "outputs": [],
   "source": [
    "credit['AGE_CAT'] = pd.cut(credit['AGE'], bins=[0,25,34,44,100],labels=[\"0-25\",\"26-34\",\"36-44\",\"44+\"])\n"
   ]
  },
  {
   "cell_type": "code",
   "execution_count": 5,
   "metadata": {},
   "outputs": [
    {
     "data": {
      "text/html": [
       "<div>\n",
       "<style scoped>\n",
       "    .dataframe tbody tr th:only-of-type {\n",
       "        vertical-align: middle;\n",
       "    }\n",
       "\n",
       "    .dataframe tbody tr th {\n",
       "        vertical-align: top;\n",
       "    }\n",
       "\n",
       "    .dataframe thead th {\n",
       "        text-align: right;\n",
       "    }\n",
       "</style>\n",
       "<table border=\"1\" class=\"dataframe\">\n",
       "  <thead>\n",
       "    <tr style=\"text-align: right;\">\n",
       "      <th>DEFAULT</th>\n",
       "      <th>0</th>\n",
       "      <th>1</th>\n",
       "    </tr>\n",
       "    <tr>\n",
       "      <th>AGE_CAT</th>\n",
       "      <th></th>\n",
       "      <th></th>\n",
       "    </tr>\n",
       "  </thead>\n",
       "  <tbody>\n",
       "    <tr>\n",
       "      <th>0-25</th>\n",
       "      <td>2839</td>\n",
       "      <td>1032</td>\n",
       "    </tr>\n",
       "    <tr>\n",
       "      <th>26-34</th>\n",
       "      <td>9486</td>\n",
       "      <td>2339</td>\n",
       "    </tr>\n",
       "    <tr>\n",
       "      <th>36-44</th>\n",
       "      <td>7047</td>\n",
       "      <td>1971</td>\n",
       "    </tr>\n",
       "    <tr>\n",
       "      <th>44+</th>\n",
       "      <td>3992</td>\n",
       "      <td>1294</td>\n",
       "    </tr>\n",
       "  </tbody>\n",
       "</table>\n",
       "</div>"
      ],
      "text/plain": [
       "DEFAULT     0     1\n",
       "AGE_CAT            \n",
       "0-25     2839  1032\n",
       "26-34    9486  2339\n",
       "36-44    7047  1971\n",
       "44+      3992  1294"
      ]
     },
     "execution_count": 5,
     "metadata": {},
     "output_type": "execute_result"
    }
   ],
   "source": [
    "pd.crosstab(credit.AGE_CAT,credit.DEFAULT)"
   ]
  },
  {
   "attachments": {
    "image-4.png": {
     "image/png": "[encoded data removed]"
    },
    "image-5.png": {
     "image/png": "[encoded data removed]"
    }
   },
   "cell_type": "markdown",
   "metadata": {},
   "source": [
    "       Event\tNon Event\t%Event\t% Non Event   \tWOE         IV\n",
    "0-25\t1032\t2839\t0.155515371\t0.121511727\t-0.246733793\t0.008389848\n",
    "26-34\t2339\t9486\t0.352471368\t0.406009245\t0.141406536 \t0.007570606\n",
    "36-44\t1971\t7047\t0.297016275\t0.301617874\t0.015373962\t    7.07448E-05\n",
    "44+  \t1294\t3992\t0.194996986\t0.170861154\t-0.132132841\t0.003189136\n",
    "        6636\t23364\t\t\t\t\n",
    "![image-4.png](attachment:image-4.png)\n",
    "\n",
    "Summation of IV is 0.019220334\n",
    "![image-5.png](attachment:image-5.png)\n",
    "    \n",
    "Information Value\tPredictive power\n",
    "<0.02\tUseless\n",
    "0.02 to 0.1\tWeak predictors\n",
    "0.1 to 0.3\tMedium Predictors\n",
    "0.3 to 0.5\tStrong predictors\n",
    ">0.5\tSuspicious"
   ]
  },
  {
   "cell_type": "markdown",
   "metadata": {},
   "source": [
    "## Model Building"
   ]
  },
  {
   "cell_type": "code",
   "execution_count": 6,
   "metadata": {},
   "outputs": [],
   "source": [
    "from sklearn.model_selection import train_test_split # to split the data into two parts\n",
    "from sklearn.linear_model import LogisticRegression # to apply the Logistic regression\n",
    "from sklearn.feature_selection import RFE\n",
    "from sklearn.model_selection import KFold # for cross validation\n",
    "from sklearn.model_selection import GridSearchCV # for tuning parameter\n",
    "from sklearn.model_selection import RandomizedSearchCV  # Randomized search on hyper parameters.\n",
    "from sklearn.preprocessing import StandardScaler # for normalization"
   ]
  },
  {
   "cell_type": "code",
   "execution_count": 7,
   "metadata": {},
   "outputs": [],
   "source": [
    "credit=credit.drop('AGE_CAT', axis=1)"
   ]
  },
  {
   "cell_type": "code",
   "execution_count": 8,
   "metadata": {},
   "outputs": [],
   "source": [
    "credit=credit.drop('ID', axis=1)"
   ]
  },
  {
   "cell_type": "code",
   "execution_count": 9,
   "metadata": {},
   "outputs": [],
   "source": [
    "credit['GENDER'] = pd.Categorical(credit['GENDER'])\n",
    "credit['GENDER']= credit.GENDER.cat.codes\n",
    "credit['MARITAL_S'] = pd.Categorical(credit['MARITAL_S'])\n",
    "credit['MARITAL_S']=credit.MARITAL_S.cat.codes\n",
    "credit['EDUCATION'] = pd.Categorical(credit['EDUCATION'])\n",
    "credit['EDUCATION']=credit.EDUCATION.cat.codes"
   ]
  },
  {
   "cell_type": "markdown",
   "metadata": {},
   "source": [
    "### Original dataset"
   ]
  },
  {
   "cell_type": "code",
   "execution_count": 10,
   "metadata": {},
   "outputs": [],
   "source": [
    "# Original dataset\n",
    "X = credit.drop('DEFAULT', axis=1)  \n",
    "y = credit['DEFAULT']\n",
    "\n",
    "X_train, X_test, y_train, y_test = train_test_split(X,y, test_size=0.2, stratify=y, random_state=42)"
   ]
  },
  {
   "cell_type": "raw",
   "metadata": {},
   "source": [
    "## Let's add the categorical variables in the normalised dataset and then perform train test for standardised dataset as well"
   ]
  },
  {
   "cell_type": "code",
   "execution_count": 11,
   "metadata": {},
   "outputs": [],
   "source": [
    "# Separating features and target\n",
    "y = credit.DEFAULT     # target default=1 or non-default=0\n",
    "features = credit.drop('DEFAULT', axis = 1, inplace = False)"
   ]
  },
  {
   "cell_type": "code",
   "execution_count": 12,
   "metadata": {},
   "outputs": [
    {
     "data": {
      "text/html": [
       "<div>\n",
       "<style scoped>\n",
       "    .dataframe tbody tr th:only-of-type {\n",
       "        vertical-align: middle;\n",
       "    }\n",
       "\n",
       "    .dataframe tbody tr th {\n",
       "        vertical-align: top;\n",
       "    }\n",
       "\n",
       "    .dataframe thead th {\n",
       "        text-align: right;\n",
       "    }\n",
       "</style>\n",
       "<table border=\"1\" class=\"dataframe\">\n",
       "  <thead>\n",
       "    <tr style=\"text-align: right;\">\n",
       "      <th></th>\n",
       "      <th>BALLIMIT</th>\n",
       "      <th>GENDER</th>\n",
       "      <th>EDUCATION</th>\n",
       "      <th>MARITAL_S</th>\n",
       "      <th>AGE</th>\n",
       "      <th>PAYSEPFL</th>\n",
       "      <th>PAYAUGFL</th>\n",
       "      <th>PAYJULFL</th>\n",
       "      <th>PAYJUNEFL</th>\n",
       "      <th>PAYMAYFL</th>\n",
       "      <th>...</th>\n",
       "      <th>BILLJUL</th>\n",
       "      <th>BILLJUNE</th>\n",
       "      <th>BILLMAY</th>\n",
       "      <th>BILLAPR</th>\n",
       "      <th>PAYSEP</th>\n",
       "      <th>PAYAUG</th>\n",
       "      <th>PAYJUL</th>\n",
       "      <th>PAYJUNE</th>\n",
       "      <th>PAYMAY</th>\n",
       "      <th>PAYAPR</th>\n",
       "    </tr>\n",
       "  </thead>\n",
       "  <tbody>\n",
       "    <tr>\n",
       "      <th>0</th>\n",
       "      <td>20000</td>\n",
       "      <td>0</td>\n",
       "      <td>3</td>\n",
       "      <td>0</td>\n",
       "      <td>24</td>\n",
       "      <td>2</td>\n",
       "      <td>2</td>\n",
       "      <td>-1</td>\n",
       "      <td>-1</td>\n",
       "      <td>-2</td>\n",
       "      <td>...</td>\n",
       "      <td>689</td>\n",
       "      <td>0</td>\n",
       "      <td>0</td>\n",
       "      <td>0</td>\n",
       "      <td>0</td>\n",
       "      <td>689</td>\n",
       "      <td>0</td>\n",
       "      <td>0</td>\n",
       "      <td>0</td>\n",
       "      <td>0</td>\n",
       "    </tr>\n",
       "    <tr>\n",
       "      <th>1</th>\n",
       "      <td>120000</td>\n",
       "      <td>0</td>\n",
       "      <td>3</td>\n",
       "      <td>2</td>\n",
       "      <td>26</td>\n",
       "      <td>-1</td>\n",
       "      <td>2</td>\n",
       "      <td>0</td>\n",
       "      <td>0</td>\n",
       "      <td>0</td>\n",
       "      <td>...</td>\n",
       "      <td>2682</td>\n",
       "      <td>3272</td>\n",
       "      <td>3455</td>\n",
       "      <td>3261</td>\n",
       "      <td>0</td>\n",
       "      <td>1000</td>\n",
       "      <td>1000</td>\n",
       "      <td>1000</td>\n",
       "      <td>0</td>\n",
       "      <td>2000</td>\n",
       "    </tr>\n",
       "    <tr>\n",
       "      <th>2</th>\n",
       "      <td>90000</td>\n",
       "      <td>0</td>\n",
       "      <td>3</td>\n",
       "      <td>2</td>\n",
       "      <td>34</td>\n",
       "      <td>0</td>\n",
       "      <td>0</td>\n",
       "      <td>0</td>\n",
       "      <td>0</td>\n",
       "      <td>0</td>\n",
       "      <td>...</td>\n",
       "      <td>13559</td>\n",
       "      <td>14331</td>\n",
       "      <td>14948</td>\n",
       "      <td>15549</td>\n",
       "      <td>1518</td>\n",
       "      <td>1500</td>\n",
       "      <td>1000</td>\n",
       "      <td>1000</td>\n",
       "      <td>1000</td>\n",
       "      <td>5000</td>\n",
       "    </tr>\n",
       "    <tr>\n",
       "      <th>3</th>\n",
       "      <td>50000</td>\n",
       "      <td>0</td>\n",
       "      <td>3</td>\n",
       "      <td>0</td>\n",
       "      <td>37</td>\n",
       "      <td>0</td>\n",
       "      <td>0</td>\n",
       "      <td>0</td>\n",
       "      <td>0</td>\n",
       "      <td>0</td>\n",
       "      <td>...</td>\n",
       "      <td>49291</td>\n",
       "      <td>28314</td>\n",
       "      <td>28959</td>\n",
       "      <td>29547</td>\n",
       "      <td>2000</td>\n",
       "      <td>2019</td>\n",
       "      <td>1200</td>\n",
       "      <td>1100</td>\n",
       "      <td>1069</td>\n",
       "      <td>1000</td>\n",
       "    </tr>\n",
       "    <tr>\n",
       "      <th>4</th>\n",
       "      <td>50000</td>\n",
       "      <td>1</td>\n",
       "      <td>3</td>\n",
       "      <td>0</td>\n",
       "      <td>57</td>\n",
       "      <td>-1</td>\n",
       "      <td>0</td>\n",
       "      <td>-1</td>\n",
       "      <td>0</td>\n",
       "      <td>0</td>\n",
       "      <td>...</td>\n",
       "      <td>35835</td>\n",
       "      <td>20940</td>\n",
       "      <td>19146</td>\n",
       "      <td>19131</td>\n",
       "      <td>2000</td>\n",
       "      <td>36681</td>\n",
       "      <td>10000</td>\n",
       "      <td>9000</td>\n",
       "      <td>689</td>\n",
       "      <td>679</td>\n",
       "    </tr>\n",
       "  </tbody>\n",
       "</table>\n",
       "<p>5 rows × 23 columns</p>\n",
       "</div>"
      ],
      "text/plain": [
       "   BALLIMIT  GENDER  EDUCATION  MARITAL_S  AGE  PAYSEPFL  PAYAUGFL  PAYJULFL  \\\n",
       "0     20000       0          3          0   24         2         2        -1   \n",
       "1    120000       0          3          2   26        -1         2         0   \n",
       "2     90000       0          3          2   34         0         0         0   \n",
       "3     50000       0          3          0   37         0         0         0   \n",
       "4     50000       1          3          0   57        -1         0        -1   \n",
       "\n",
       "   PAYJUNEFL  PAYMAYFL  ...  BILLJUL  BILLJUNE  BILLMAY  BILLAPR  PAYSEP  \\\n",
       "0         -1        -2  ...      689         0        0        0       0   \n",
       "1          0         0  ...     2682      3272     3455     3261       0   \n",
       "2          0         0  ...    13559     14331    14948    15549    1518   \n",
       "3          0         0  ...    49291     28314    28959    29547    2000   \n",
       "4          0         0  ...    35835     20940    19146    19131    2000   \n",
       "\n",
       "   PAYAUG  PAYJUL  PAYJUNE  PAYMAY  PAYAPR  \n",
       "0     689       0        0       0       0  \n",
       "1    1000    1000     1000       0    2000  \n",
       "2    1500    1000     1000    1000    5000  \n",
       "3    2019    1200     1100    1069    1000  \n",
       "4   36681   10000     9000     689     679  \n",
       "\n",
       "[5 rows x 23 columns]"
      ]
     },
     "execution_count": 12,
     "metadata": {},
     "output_type": "execute_result"
    }
   ],
   "source": [
    "features.GENDER =pd.Categorical(features['GENDER'])\n",
    "features['GENDER'] = features.GENDER.cat.codes\n",
    "features['MARITAL_S'] =pd.Categorical(features['MARITAL_S'])\n",
    "features['MARITAL_S']= features.MARITAL_S.cat.codes\n",
    "features['EDUCATION'] =pd.Categorical(features['EDUCATION'])\n",
    "features['EDUCATION'] =features.EDUCATION.cat.codes\n",
    "features.head()"
   ]
  },
  {
   "cell_type": "code",
   "execution_count": 13,
   "metadata": {},
   "outputs": [],
   "source": [
    "stdX = (features - features.mean()) / (features.std())   "
   ]
  },
  {
   "cell_type": "code",
   "execution_count": 14,
   "metadata": {},
   "outputs": [
    {
     "data": {
      "text/html": [
       "<div>\n",
       "<style scoped>\n",
       "    .dataframe tbody tr th:only-of-type {\n",
       "        vertical-align: middle;\n",
       "    }\n",
       "\n",
       "    .dataframe tbody tr th {\n",
       "        vertical-align: top;\n",
       "    }\n",
       "\n",
       "    .dataframe thead th {\n",
       "        text-align: right;\n",
       "    }\n",
       "</style>\n",
       "<table border=\"1\" class=\"dataframe\">\n",
       "  <thead>\n",
       "    <tr style=\"text-align: right;\">\n",
       "      <th></th>\n",
       "      <th>BALLIMIT</th>\n",
       "      <th>GENDER</th>\n",
       "      <th>EDUCATION</th>\n",
       "      <th>MARITAL_S</th>\n",
       "      <th>AGE</th>\n",
       "      <th>PAYSEPFL</th>\n",
       "      <th>PAYAUGFL</th>\n",
       "      <th>PAYJULFL</th>\n",
       "      <th>PAYJUNEFL</th>\n",
       "      <th>PAYMAYFL</th>\n",
       "      <th>...</th>\n",
       "      <th>BILLJUL</th>\n",
       "      <th>BILLJUNE</th>\n",
       "      <th>BILLMAY</th>\n",
       "      <th>BILLAPR</th>\n",
       "      <th>PAYSEP</th>\n",
       "      <th>PAYAUG</th>\n",
       "      <th>PAYJUL</th>\n",
       "      <th>PAYJUNE</th>\n",
       "      <th>PAYMAY</th>\n",
       "      <th>PAYAPR</th>\n",
       "    </tr>\n",
       "  </thead>\n",
       "  <tbody>\n",
       "    <tr>\n",
       "      <th>0</th>\n",
       "      <td>-1.136701</td>\n",
       "      <td>-0.810147</td>\n",
       "      <td>0.988618</td>\n",
       "      <td>-1.086867</td>\n",
       "      <td>-1.245999</td>\n",
       "      <td>1.794534</td>\n",
       "      <td>1.782318</td>\n",
       "      <td>-0.696652</td>\n",
       "      <td>-0.666588</td>\n",
       "      <td>-1.530021</td>\n",
       "      <td>...</td>\n",
       "      <td>-0.667982</td>\n",
       "      <td>-0.672486</td>\n",
       "      <td>-0.663047</td>\n",
       "      <td>-0.652713</td>\n",
       "      <td>-0.341936</td>\n",
       "      <td>-0.227082</td>\n",
       "      <td>-0.296796</td>\n",
       "      <td>-0.308057</td>\n",
       "      <td>-0.314131</td>\n",
       "      <td>-0.293377</td>\n",
       "    </tr>\n",
       "    <tr>\n",
       "      <th>1</th>\n",
       "      <td>-0.365974</td>\n",
       "      <td>-0.810147</td>\n",
       "      <td>0.988618</td>\n",
       "      <td>0.925042</td>\n",
       "      <td>-1.029030</td>\n",
       "      <td>-0.874977</td>\n",
       "      <td>1.782318</td>\n",
       "      <td>0.138862</td>\n",
       "      <td>0.188743</td>\n",
       "      <td>0.234913</td>\n",
       "      <td>...</td>\n",
       "      <td>-0.639244</td>\n",
       "      <td>-0.621626</td>\n",
       "      <td>-0.606219</td>\n",
       "      <td>-0.597956</td>\n",
       "      <td>-0.341936</td>\n",
       "      <td>-0.213584</td>\n",
       "      <td>-0.240001</td>\n",
       "      <td>-0.244226</td>\n",
       "      <td>-0.314131</td>\n",
       "      <td>-0.180875</td>\n",
       "    </tr>\n",
       "    <tr>\n",
       "      <th>2</th>\n",
       "      <td>-0.597192</td>\n",
       "      <td>-0.810147</td>\n",
       "      <td>0.988618</td>\n",
       "      <td>0.925042</td>\n",
       "      <td>-0.161154</td>\n",
       "      <td>0.014860</td>\n",
       "      <td>0.111734</td>\n",
       "      <td>0.138862</td>\n",
       "      <td>0.188743</td>\n",
       "      <td>0.234913</td>\n",
       "      <td>...</td>\n",
       "      <td>-0.482400</td>\n",
       "      <td>-0.449723</td>\n",
       "      <td>-0.417181</td>\n",
       "      <td>-0.391623</td>\n",
       "      <td>-0.250287</td>\n",
       "      <td>-0.191884</td>\n",
       "      <td>-0.240001</td>\n",
       "      <td>-0.244226</td>\n",
       "      <td>-0.248679</td>\n",
       "      <td>-0.012122</td>\n",
       "    </tr>\n",
       "    <tr>\n",
       "      <th>3</th>\n",
       "      <td>-0.905483</td>\n",
       "      <td>-0.810147</td>\n",
       "      <td>0.988618</td>\n",
       "      <td>-1.086867</td>\n",
       "      <td>0.164300</td>\n",
       "      <td>0.014860</td>\n",
       "      <td>0.111734</td>\n",
       "      <td>0.138862</td>\n",
       "      <td>0.188743</td>\n",
       "      <td>0.234913</td>\n",
       "      <td>...</td>\n",
       "      <td>0.032846</td>\n",
       "      <td>-0.232369</td>\n",
       "      <td>-0.186726</td>\n",
       "      <td>-0.156576</td>\n",
       "      <td>-0.221187</td>\n",
       "      <td>-0.169358</td>\n",
       "      <td>-0.228641</td>\n",
       "      <td>-0.237842</td>\n",
       "      <td>-0.244162</td>\n",
       "      <td>-0.237126</td>\n",
       "    </tr>\n",
       "    <tr>\n",
       "      <th>4</th>\n",
       "      <td>-0.905483</td>\n",
       "      <td>1.234302</td>\n",
       "      <td>0.988618</td>\n",
       "      <td>-1.086867</td>\n",
       "      <td>2.333990</td>\n",
       "      <td>-0.874977</td>\n",
       "      <td>0.111734</td>\n",
       "      <td>-0.696652</td>\n",
       "      <td>0.188743</td>\n",
       "      <td>0.234913</td>\n",
       "      <td>...</td>\n",
       "      <td>-0.161186</td>\n",
       "      <td>-0.346991</td>\n",
       "      <td>-0.348131</td>\n",
       "      <td>-0.331476</td>\n",
       "      <td>-0.221187</td>\n",
       "      <td>1.335012</td>\n",
       "      <td>0.271161</td>\n",
       "      <td>0.266429</td>\n",
       "      <td>-0.269034</td>\n",
       "      <td>-0.255183</td>\n",
       "    </tr>\n",
       "  </tbody>\n",
       "</table>\n",
       "<p>5 rows × 23 columns</p>\n",
       "</div>"
      ],
      "text/plain": [
       "   BALLIMIT    GENDER  EDUCATION  MARITAL_S       AGE  PAYSEPFL  PAYAUGFL  \\\n",
       "0 -1.136701 -0.810147   0.988618  -1.086867 -1.245999  1.794534  1.782318   \n",
       "1 -0.365974 -0.810147   0.988618   0.925042 -1.029030 -0.874977  1.782318   \n",
       "2 -0.597192 -0.810147   0.988618   0.925042 -0.161154  0.014860  0.111734   \n",
       "3 -0.905483 -0.810147   0.988618  -1.086867  0.164300  0.014860  0.111734   \n",
       "4 -0.905483  1.234302   0.988618  -1.086867  2.333990 -0.874977  0.111734   \n",
       "\n",
       "   PAYJULFL  PAYJUNEFL  PAYMAYFL  ...   BILLJUL  BILLJUNE   BILLMAY   BILLAPR  \\\n",
       "0 -0.696652  -0.666588 -1.530021  ... -0.667982 -0.672486 -0.663047 -0.652713   \n",
       "1  0.138862   0.188743  0.234913  ... -0.639244 -0.621626 -0.606219 -0.597956   \n",
       "2  0.138862   0.188743  0.234913  ... -0.482400 -0.449723 -0.417181 -0.391623   \n",
       "3  0.138862   0.188743  0.234913  ...  0.032846 -0.232369 -0.186726 -0.156576   \n",
       "4 -0.696652   0.188743  0.234913  ... -0.161186 -0.346991 -0.348131 -0.331476   \n",
       "\n",
       "     PAYSEP    PAYAUG    PAYJUL   PAYJUNE    PAYMAY    PAYAPR  \n",
       "0 -0.341936 -0.227082 -0.296796 -0.308057 -0.314131 -0.293377  \n",
       "1 -0.341936 -0.213584 -0.240001 -0.244226 -0.314131 -0.180875  \n",
       "2 -0.250287 -0.191884 -0.240001 -0.244226 -0.248679 -0.012122  \n",
       "3 -0.221187 -0.169358 -0.228641 -0.237842 -0.244162 -0.237126  \n",
       "4 -0.221187  1.335012  0.271161  0.266429 -0.269034 -0.255183  \n",
       "\n",
       "[5 rows x 23 columns]"
      ]
     },
     "execution_count": 14,
     "metadata": {},
     "output_type": "execute_result"
    }
   ],
   "source": [
    "stdX.head()"
   ]
  },
  {
   "cell_type": "markdown",
   "metadata": {},
   "source": [
    "### Dataset with standardized features"
   ]
  },
  {
   "cell_type": "code",
   "execution_count": 15,
   "metadata": {},
   "outputs": [],
   "source": [
    "# Dataset with standardized features\n",
    "Xstd_train, Xstd_test, ystd_train, ystd_test = train_test_split(stdX,y, test_size=0.2, stratify=y,\n",
    "                                                                random_state=42)"
   ]
  },
  {
   "cell_type": "markdown",
   "metadata": {},
   "source": [
    "## Feature selection"
   ]
  },
  {
   "cell_type": "code",
   "execution_count": 16,
   "metadata": {},
   "outputs": [
    {
     "name": "stdout",
     "output_type": "stream",
     "text": [
      "Std Model Feature Ranking: [ 8 10 15  7 16  1  6  4 19 13 20  1  5  2 21 11 18  3  1 12  9 14 17]\n",
      "Standardized Model Score with selected features is: 0.812600 (0.000000)\n"
     ]
    }
   ],
   "source": [
    "NUM_FEATURES = 3\n",
    "model = LogisticRegression()\n",
    "rfe_stand = RFE(model, NUM_FEATURES)\n",
    "fit_stand = rfe_stand.fit(stdX, y)\n",
    "#print(\"St Model Num Features:\", fit_stand.n_features_)\n",
    "#print(\"St Model Selected Features:\", fit_stand.support_)\n",
    "print(\"Std Model Feature Ranking:\", fit_stand.ranking_)\n",
    "# calculate the score for the selected features\n",
    "score_stand = rfe_stand.score(stdX,y)\n",
    "print(\"Standardized Model Score with selected features is: %f (%f)\" % (score_stand.mean(), score_stand.std()))"
   ]
  },
  {
   "cell_type": "code",
   "execution_count": 17,
   "metadata": {},
   "outputs": [
    {
     "name": "stdout",
     "output_type": "stream",
     "text": [
      "Most important features (RFE): ['PAYSEPFL' 'BILLSEP' 'PAYAUG']\n"
     ]
    }
   ],
   "source": [
    "feature_names = np.array(features.columns)\n",
    "print('Most important features (RFE): %s'% feature_names[rfe_stand.support_])"
   ]
  },
  {
   "cell_type": "code",
   "execution_count": 18,
   "metadata": {},
   "outputs": [],
   "source": [
    "# Dataset with three most important features\n",
    "Ximp = stdX[['PAYSEPFL', 'BILLSEP', 'PAYAUG']]\n",
    "X_tr, X_t, y_tr, y_t = train_test_split(Ximp,y, test_size=0.2, stratify=y, random_state=42)"
   ]
  },
  {
   "cell_type": "code",
   "execution_count": 19,
   "metadata": {},
   "outputs": [],
   "source": [
    "from sklearn import metrics\n",
    "from sklearn.metrics import classification_report\n",
    "from sklearn.metrics import confusion_matrix\n",
    "from sklearn.model_selection import cross_val_score"
   ]
  },
  {
   "cell_type": "markdown",
   "metadata": {},
   "source": [
    "###  Hyper Parameter Tuning"
   ]
  },
  {
   "cell_type": "code",
   "execution_count": 20,
   "metadata": {},
   "outputs": [],
   "source": [
    "## Model with the original dataset - without standardised features"
   ]
  },
  {
   "cell_type": "code",
   "execution_count": 21,
   "metadata": {},
   "outputs": [
    {
     "name": "stdout",
     "output_type": "stream",
     "text": [
      "Tuned Logistic Regression Parameters: {'C': 0.0007196856730011522}\n"
     ]
    }
   ],
   "source": [
    "# Setup the hyperparameter grid, (not scaled data)\n",
    "param_grid = {'C': np.logspace(-5, 8, 15)}\n",
    "\n",
    "# Instantiate a logistic regression classifier\n",
    "logreg = LogisticRegression()\n",
    "\n",
    "# Instantiate the RandomizedSearchCV object\n",
    "logreg_cv = RandomizedSearchCV(logreg,param_grid , cv=5, random_state=0)\n",
    "\n",
    "# Fit it to the data\n",
    "logreg_cv.fit(X_train, y_train)\n",
    "\n",
    "# Print the tuned parameters and score\n",
    "print(\"Tuned Logistic Regression Parameters: {}\".format(logreg_cv.best_params_)) "
   ]
  },
  {
   "cell_type": "code",
   "execution_count": 22,
   "metadata": {},
   "outputs": [
    {
     "name": "stdout",
     "output_type": "stream",
     "text": [
      "Accuracy: 0.7788333333333334\n",
      "\n",
      "              precision    recall  f1-score   support\n",
      "\n",
      "           0       0.78      1.00      0.88      4673\n",
      "           1       0.00      0.00      0.00      1327\n",
      "\n",
      "    accuracy                           0.78      6000\n",
      "   macro avg       0.39      0.50      0.44      6000\n",
      "weighted avg       0.61      0.78      0.68      6000\n",
      "\n",
      "\n",
      "Average 5-Fold CV Score: 0.7787 , Standard deviation: 0.0001\n"
     ]
    },
    {
     "data": {
      "image/png": "[encoded data removed]",
      "text/plain": [
       "<Figure size 288x216 with 2 Axes>"
      ]
     },
     "metadata": {
      "needs_background": "light"
     },
     "output_type": "display_data"
    }
   ],
   "source": [
    "LR = LogisticRegression(C=0.051, random_state=0)\n",
    "LR.fit(X_train, y_train)\n",
    "y_pred = LR.predict(X_test)\n",
    "print('Accuracy:', metrics.accuracy_score(y_pred,y_test))\n",
    "## 5-fold cross-validation \n",
    "cv_scores =cross_val_score(LR, X, y, cv=5)\n",
    "\n",
    "# Print the 5-fold cross-validation scores\n",
    "print()\n",
    "print(classification_report(y_test, y_pred))\n",
    "print()\n",
    "print(\"Average 5-Fold CV Score: {}\".format(round(np.mean(cv_scores),4)),\n",
    "      \", Standard deviation: {}\".format(round(np.std(cv_scores),4)))\n",
    "\n",
    "plt.figure(figsize=(4,3))\n",
    "ConfMatrix = confusion_matrix(y_test,LR.predict(X_test))\n",
    "sns.heatmap(ConfMatrix,annot=True, cmap=\"Blues\", fmt=\"d\", \n",
    "            xticklabels = ['Non-default', 'Default'], \n",
    "            yticklabels = ['Non-default', 'Default'])\n",
    "plt.ylabel('True label')\n",
    "plt.xlabel('Predicted label')\n",
    "plt.title(\"Confusion Matrix - Logistic Regression\");"
   ]
  },
  {
   "cell_type": "markdown",
   "metadata": {},
   "source": [
    "- Zero prediction power of the model... Important observation"
   ]
  },
  {
   "cell_type": "code",
   "execution_count": 23,
   "metadata": {},
   "outputs": [
    {
     "name": "stdout",
     "output_type": "stream",
     "text": [
      "Tuned Logistic Regression Parameters: {'C': 3.727593720314938}\n"
     ]
    }
   ],
   "source": [
    "# Setup the hyperparameter grid, (Scaled Data)\n",
    "param_grid = {'C': np.logspace(-5, 8, 15)}\n",
    "\n",
    "# Instantiate a logistic regression classifier\n",
    "logreg = LogisticRegression()\n",
    "\n",
    "# Instantiate the RandomizedSearchCV object\n",
    "logreg_cv = RandomizedSearchCV(logreg,param_grid , cv=5, random_state=0)\n",
    "\n",
    "# Fit it to the data\n",
    "logreg_cv.fit(Xstd_train, ystd_train)\n",
    "\n",
    "# Print the tuned parameters and score\n",
    "print(\"Tuned Logistic Regression Parameters: {}\".format(logreg_cv.best_params_)) "
   ]
  },
  {
   "cell_type": "code",
   "execution_count": 24,
   "metadata": {},
   "outputs": [
    {
     "name": "stdout",
     "output_type": "stream",
     "text": [
      "Accuracy: 0.8091666666666667\n",
      "\n",
      "              precision    recall  f1-score   support\n",
      "\n",
      "           0       0.82      0.97      0.89      4673\n",
      "           1       0.70      0.24      0.36      1327\n",
      "\n",
      "    accuracy                           0.81      6000\n",
      "   macro avg       0.76      0.61      0.62      6000\n",
      "weighted avg       0.79      0.81      0.77      6000\n",
      "\n",
      "\n",
      "Average 5-Fold CV Score: 0.8099 , Standard deviation: 0.0045\n"
     ]
    },
    {
     "data": {
      "image/png": "[encoded data removed]",
      "text/plain": [
       "<Figure size 288x216 with 2 Axes>"
      ]
     },
     "metadata": {
      "needs_background": "light"
     },
     "output_type": "display_data"
    }
   ],
   "source": [
    "LRS = LogisticRegression(C=3.73, random_state=0)\n",
    "LRS.fit(Xstd_train, ystd_train)\n",
    "y_pred = LRS.predict(Xstd_test)\n",
    "print('Accuracy:', metrics.accuracy_score(y_pred,ystd_test))\n",
    "\n",
    "## 5-fold cross-validation \n",
    "cv_scores =cross_val_score(LRS, stdX, y, cv=5)\n",
    "\n",
    "# Print the 5-fold cross-validation scores\n",
    "print()\n",
    "print(classification_report(ystd_test, y_pred))\n",
    "print()\n",
    "print(\"Average 5-Fold CV Score: {}\".format(round(np.mean(cv_scores),4)),\n",
    "      \", Standard deviation: {}\".format(round(np.std(cv_scores),4)))\n",
    "plt.figure(figsize=(4,3))\n",
    "ConfMatrix = confusion_matrix(ystd_test,LRS.predict(Xstd_test))\n",
    "sns.heatmap(ConfMatrix,annot=True, cmap=\"Blues\", fmt=\"d\", \n",
    "            xticklabels = ['Non-default', 'Default'], \n",
    "            yticklabels = ['Non-default', 'Default'])\n",
    "plt.ylabel('True label')\n",
    "plt.xlabel('Predicted label')\n",
    "plt.title(\"Confusion Matrix - Logistic Regression with standardized data\");"
   ]
  },
  {
   "cell_type": "code",
   "execution_count": 25,
   "metadata": {},
   "outputs": [
    {
     "name": "stdout",
     "output_type": "stream",
     "text": [
      "Tuned Logistic Regression Parameters: {'C': 3.727593720314938}\n"
     ]
    }
   ],
   "source": [
    "# Setup the hyperparameter grid, (Only with important feature on standardised dataset)\n",
    "param_grid = {'C': np.logspace(-5, 8, 15)}\n",
    "\n",
    "# Instantiate a logistic regression classifier\n",
    "logreg = LogisticRegression()\n",
    "\n",
    "# Instantiate the RandomizedSearchCV object\n",
    "logreg_cv = RandomizedSearchCV(logreg,param_grid , cv=5, random_state=0)\n",
    "\n",
    "# Fit it to the data\n",
    "logreg_cv.fit(X_tr, y_tr)\n",
    "\n",
    "# Print the tuned parameters and score\n",
    "print(\"Tuned Logistic Regression Parameters: {}\".format(logreg_cv.best_params_)) "
   ]
  },
  {
   "cell_type": "code",
   "execution_count": 26,
   "metadata": {},
   "outputs": [
    {
     "name": "stdout",
     "output_type": "stream",
     "text": [
      "Accuracy: 0.8121666666666667\n",
      "\n",
      "              precision    recall  f1-score   support\n",
      "\n",
      "           0       0.82      0.97      0.89      4673\n",
      "           1       0.69      0.27      0.39      1327\n",
      "\n",
      "    accuracy                           0.81      6000\n",
      "   macro avg       0.76      0.62      0.64      6000\n",
      "weighted avg       0.79      0.81      0.78      6000\n",
      "\n",
      "\n",
      "Average 5-Fold CV Score: 0.8118 , Standard deviation: 0.0065\n"
     ]
    },
    {
     "data": {
      "image/png": "[encoded data removed]",
      "text/plain": [
       "<Figure size 288x216 with 2 Axes>"
      ]
     },
     "metadata": {
      "needs_background": "light"
     },
     "output_type": "display_data"
    }
   ],
   "source": [
    "LR_imp = LogisticRegression(C=3.73, random_state=0)\n",
    "LR_imp.fit(X_tr, y_tr)\n",
    "y_pred = LR_imp.predict(X_t)\n",
    "print('Accuracy:', metrics.accuracy_score(y_pred,y_t))\n",
    "\n",
    "## 5-fold cross-validation \n",
    "cv_scores =cross_val_score(LR_imp, Ximp, y, cv=5)\n",
    "\n",
    "# Print the 5-fold cross-validation scores\n",
    "print()\n",
    "print(classification_report(y_t, y_pred))\n",
    "print()\n",
    "print(\"Average 5-Fold CV Score: {}\".format(round(np.mean(cv_scores),4)),\n",
    "      \", Standard deviation: {}\".format(round(np.std(cv_scores),4)))\n",
    "\n",
    "plt.figure(figsize=(4,3))\n",
    "ConfMatrix = confusion_matrix(y_t,LR_imp.predict(X_t))\n",
    "sns.heatmap(ConfMatrix,annot=True, cmap=\"Blues\", fmt=\"d\", \n",
    "            xticklabels = ['Non-default', 'Default'], \n",
    "            yticklabels = ['Non-default', 'Default'])\n",
    "plt.ylabel('True label')\n",
    "plt.xlabel('Predicted label')\n",
    "plt.title(\"Confusion Matrix - Logistic Regression (most important features)\");"
   ]
  },
  {
   "cell_type": "markdown",
   "metadata": {},
   "source": [
    "- 3 Important Features have increased the recall for defaulters.."
   ]
  },
  {
   "cell_type": "markdown",
   "metadata": {},
   "source": [
    "## Feature Enginnering"
   ]
  },
  {
   "cell_type": "markdown",
   "metadata": {},
   "source": [
    "### Feature # 1"
   ]
  },
  {
   "cell_type": "code",
   "execution_count": 27,
   "metadata": {},
   "outputs": [],
   "source": [
    "# Payment status columns which have 0 or greater value are more prone to become a defaulter. \n",
    "# Let's sum all the Pay status and then look at the distribution for the Defaulter and non defaulter.\n",
    "credit['RISK_VALUE'] = credit['PAYAPRFL'] + credit['PAYMAYFL'] + credit['PAYJUNEFL'] + credit['PAYJULFL'] + credit['PAYAUGFL'] + credit['PAYSEPFL']"
   ]
  },
  {
   "cell_type": "code",
   "execution_count": 28,
   "metadata": {},
   "outputs": [
    {
     "data": {
      "image/png": "[encoded data removed]",
      "text/plain": [
       "<Figure size 1080x720 with 2 Axes>"
      ]
     },
     "metadata": {
      "needs_background": "light"
     },
     "output_type": "display_data"
    }
   ],
   "source": [
    "# Let's look at the distribution of the above feature created\n",
    "plt.figure(figsize = (15,10))\n",
    "# distribution plot\n",
    "plt.subplot(211)\n",
    "sns.distplot(credit[credit['DEFAULT']==1]['RISK_VALUE'], color = 'r', label = 'DEFAULTER')\n",
    "sns.distplot(credit[credit['DEFAULT']==0]['RISK_VALUE'], color = 'b', label = 'NON-DEFAULTER')\n",
    "plt.legend()\n",
    "# boxplot\n",
    "plt.subplot(212)\n",
    "sns.boxplot(credit['DEFAULT'], credit['RISK_VALUE'])\n",
    "plt.show()"
   ]
  },
  {
   "cell_type": "markdown",
   "metadata": {},
   "source": [
    "- It can be seen that the values which are greater than 0 have more chances of being defaulter. It is quite separable."
   ]
  },
  {
   "cell_type": "code",
   "execution_count": 29,
   "metadata": {},
   "outputs": [
    {
     "data": {
      "text/html": [
       "<table class=\"simpletable\">\n",
       "<caption>OLS Regression Results</caption>\n",
       "<tr>\n",
       "  <th>Dep. Variable:</th>       <td>RISK_VALUE</td>    <th>  R-squared:         </th>  <td>   1.000</td> \n",
       "</tr>\n",
       "<tr>\n",
       "  <th>Model:</th>                   <td>OLS</td>       <th>  Adj. R-squared:    </th>  <td>   1.000</td> \n",
       "</tr>\n",
       "<tr>\n",
       "  <th>Method:</th>             <td>Least Squares</td>  <th>  F-statistic:       </th>  <td>7.424e+32</td>\n",
       "</tr>\n",
       "<tr>\n",
       "  <th>Date:</th>             <td>Sat, 04 Dec 2021</td> <th>  Prob (F-statistic):</th>   <td>  0.00</td>  \n",
       "</tr>\n",
       "<tr>\n",
       "  <th>Time:</th>                 <td>10:19:04</td>     <th>  Log-Likelihood:    </th> <td>9.1178e+05</td>\n",
       "</tr>\n",
       "<tr>\n",
       "  <th>No. Observations:</th>      <td> 30000</td>      <th>  AIC:               </th> <td>-1.824e+06</td>\n",
       "</tr>\n",
       "<tr>\n",
       "  <th>Df Residuals:</th>          <td> 29993</td>      <th>  BIC:               </th> <td>-1.823e+06</td>\n",
       "</tr>\n",
       "<tr>\n",
       "  <th>Df Model:</th>              <td>     6</td>      <th>                     </th>      <td> </td>    \n",
       "</tr>\n",
       "<tr>\n",
       "  <th>Covariance Type:</th>      <td>nonrobust</td>    <th>                     </th>      <td> </td>    \n",
       "</tr>\n",
       "</table>\n",
       "<table class=\"simpletable\">\n",
       "<tr>\n",
       "      <td></td>         <th>coef</th>     <th>std err</th>      <th>t</th>      <th>P>|t|</th>  <th>[0.025</th>    <th>0.975]</th>  \n",
       "</tr>\n",
       "<tr>\n",
       "  <th>Intercept</th> <td> 3.504e-15</td> <td>  9.2e-17</td> <td>   38.099</td> <td> 0.000</td> <td> 3.32e-15</td> <td> 3.68e-15</td>\n",
       "</tr>\n",
       "<tr>\n",
       "  <th>PAYAPRFL</th>  <td>    1.0000</td> <td> 1.36e-16</td> <td> 7.37e+15</td> <td> 0.000</td> <td>    1.000</td> <td>    1.000</td>\n",
       "</tr>\n",
       "<tr>\n",
       "  <th>PAYMAYFL</th>  <td>    1.0000</td> <td> 1.67e-16</td> <td> 5.99e+15</td> <td> 0.000</td> <td>    1.000</td> <td>    1.000</td>\n",
       "</tr>\n",
       "<tr>\n",
       "  <th>PAYJUNEFL</th> <td>    1.0000</td> <td> 1.55e-16</td> <td> 6.47e+15</td> <td> 0.000</td> <td>    1.000</td> <td>    1.000</td>\n",
       "</tr>\n",
       "<tr>\n",
       "  <th>PAYJULFL</th>  <td>    1.0000</td> <td> 1.39e-16</td> <td> 7.18e+15</td> <td> 0.000</td> <td>    1.000</td> <td>    1.000</td>\n",
       "</tr>\n",
       "<tr>\n",
       "  <th>PAYAUGFL</th>  <td>    1.0000</td> <td> 1.29e-16</td> <td> 7.73e+15</td> <td> 0.000</td> <td>    1.000</td> <td>    1.000</td>\n",
       "</tr>\n",
       "<tr>\n",
       "  <th>PAYSEPFL</th>  <td>    1.0000</td> <td> 1.08e-16</td> <td> 9.26e+15</td> <td> 0.000</td> <td>    1.000</td> <td>    1.000</td>\n",
       "</tr>\n",
       "</table>\n",
       "<table class=\"simpletable\">\n",
       "<tr>\n",
       "  <th>Omnibus:</th>       <td>4406.109</td> <th>  Durbin-Watson:     </th> <td>   1.977</td> \n",
       "</tr>\n",
       "<tr>\n",
       "  <th>Prob(Omnibus):</th>  <td> 0.000</td>  <th>  Jarque-Bera (JB):  </th> <td>18018.996</td>\n",
       "</tr>\n",
       "<tr>\n",
       "  <th>Skew:</th>           <td>-0.684</td>  <th>  Prob(JB):          </th> <td>    0.00</td> \n",
       "</tr>\n",
       "<tr>\n",
       "  <th>Kurtosis:</th>       <td> 6.541</td>  <th>  Cond. No.          </th> <td>    5.81</td> \n",
       "</tr>\n",
       "</table><br/><br/>Notes:<br/>[1] Standard Errors assume that the covariance matrix of the errors is correctly specified."
      ],
      "text/plain": [
       "<class 'statsmodels.iolib.summary.Summary'>\n",
       "\"\"\"\n",
       "                            OLS Regression Results                            \n",
       "==============================================================================\n",
       "Dep. Variable:             RISK_VALUE   R-squared:                       1.000\n",
       "Model:                            OLS   Adj. R-squared:                  1.000\n",
       "Method:                 Least Squares   F-statistic:                 7.424e+32\n",
       "Date:                Sat, 04 Dec 2021   Prob (F-statistic):               0.00\n",
       "Time:                        10:19:04   Log-Likelihood:             9.1178e+05\n",
       "No. Observations:               30000   AIC:                        -1.824e+06\n",
       "Df Residuals:                   29993   BIC:                        -1.823e+06\n",
       "Df Model:                           6                                         \n",
       "Covariance Type:            nonrobust                                         \n",
       "==============================================================================\n",
       "                 coef    std err          t      P>|t|      [0.025      0.975]\n",
       "------------------------------------------------------------------------------\n",
       "Intercept   3.504e-15    9.2e-17     38.099      0.000    3.32e-15    3.68e-15\n",
       "PAYAPRFL       1.0000   1.36e-16   7.37e+15      0.000       1.000       1.000\n",
       "PAYMAYFL       1.0000   1.67e-16   5.99e+15      0.000       1.000       1.000\n",
       "PAYJUNEFL      1.0000   1.55e-16   6.47e+15      0.000       1.000       1.000\n",
       "PAYJULFL       1.0000   1.39e-16   7.18e+15      0.000       1.000       1.000\n",
       "PAYAUGFL       1.0000   1.29e-16   7.73e+15      0.000       1.000       1.000\n",
       "PAYSEPFL       1.0000   1.08e-16   9.26e+15      0.000       1.000       1.000\n",
       "==============================================================================\n",
       "Omnibus:                     4406.109   Durbin-Watson:                   1.977\n",
       "Prob(Omnibus):                  0.000   Jarque-Bera (JB):            18018.996\n",
       "Skew:                          -0.684   Prob(JB):                         0.00\n",
       "Kurtosis:                       6.541   Cond. No.                         5.81\n",
       "==============================================================================\n",
       "\n",
       "Notes:\n",
       "[1] Standard Errors assume that the covariance matrix of the errors is correctly specified.\n",
       "\"\"\""
      ]
     },
     "execution_count": 29,
     "metadata": {},
     "output_type": "execute_result"
    }
   ],
   "source": [
    "# Let's check this new column affiliation with the columns with which it was created so we will drop those columns \n",
    "# and move only with this column\n",
    "# Let's build a Linear model to check the statistics\n",
    "model = ols('RISK_VALUE~PAYAPRFL+PAYMAYFL+PAYJUNEFL+PAYJULFL+PAYAUGFL+PAYSEPFL', data = credit).fit()\n",
    "model.summary()"
   ]
  },
  {
   "cell_type": "markdown",
   "metadata": {},
   "source": [
    "- Drop all Pay Flags Features"
   ]
  },
  {
   "cell_type": "code",
   "execution_count": 30,
   "metadata": {},
   "outputs": [
    {
     "data": {
      "text/html": [
       "<div>\n",
       "<style scoped>\n",
       "    .dataframe tbody tr th:only-of-type {\n",
       "        vertical-align: middle;\n",
       "    }\n",
       "\n",
       "    .dataframe tbody tr th {\n",
       "        vertical-align: top;\n",
       "    }\n",
       "\n",
       "    .dataframe thead tr th {\n",
       "        text-align: left;\n",
       "    }\n",
       "</style>\n",
       "<table border=\"1\" class=\"dataframe\">\n",
       "  <thead>\n",
       "    <tr>\n",
       "      <th>DEFAULT</th>\n",
       "      <th colspan=\"44\" halign=\"left\">0</th>\n",
       "      <th colspan=\"45\" halign=\"left\">1</th>\n",
       "    </tr>\n",
       "    <tr>\n",
       "      <th>RISK_VALUE</th>\n",
       "      <th>0</th>\n",
       "      <th>-6</th>\n",
       "      <th>-12</th>\n",
       "      <th>2</th>\n",
       "      <th>-1</th>\n",
       "      <th>-4</th>\n",
       "      <th>-2</th>\n",
       "      <th>-5</th>\n",
       "      <th>-3</th>\n",
       "      <th>-9</th>\n",
       "      <th>-7</th>\n",
       "      <th>3</th>\n",
       "      <th>-8</th>\n",
       "      <th>4</th>\n",
       "      <th>-10</th>\n",
       "      <th>5</th>\n",
       "      <th>6</th>\n",
       "      <th>1</th>\n",
       "      <th>8</th>\n",
       "      <th>7</th>\n",
       "      <th>12</th>\n",
       "      <th>11</th>\n",
       "      <th>9</th>\n",
       "      <th>-11</th>\n",
       "      <th>10</th>\n",
       "      <th>13</th>\n",
       "      <th>14</th>\n",
       "      <th>20</th>\n",
       "      <th>15</th>\n",
       "      <th>16</th>\n",
       "      <th>33</th>\n",
       "      <th>18</th>\n",
       "      <th>21</th>\n",
       "      <th>22</th>\n",
       "      <th>17</th>\n",
       "      <th>32</th>\n",
       "      <th>19</th>\n",
       "      <th>28</th>\n",
       "      <th>31</th>\n",
       "      <th>23</th>\n",
       "      <th>24</th>\n",
       "      <th>27</th>\n",
       "      <th>25</th>\n",
       "      <th>30</th>\n",
       "      <th>0</th>\n",
       "      <th>2</th>\n",
       "      <th>12</th>\n",
       "      <th>-6</th>\n",
       "      <th>4</th>\n",
       "      <th>6</th>\n",
       "      <th>8</th>\n",
       "      <th>-12</th>\n",
       "      <th>-9</th>\n",
       "      <th>3</th>\n",
       "      <th>-1</th>\n",
       "      <th>-4</th>\n",
       "      <th>-3</th>\n",
       "      <th>11</th>\n",
       "      <th>7</th>\n",
       "      <th>5</th>\n",
       "      <th>-2</th>\n",
       "      <th>-5</th>\n",
       "      <th>13</th>\n",
       "      <th>10</th>\n",
       "      <th>1</th>\n",
       "      <th>-7</th>\n",
       "      <th>9</th>\n",
       "      <th>-8</th>\n",
       "      <th>-10</th>\n",
       "      <th>14</th>\n",
       "      <th>15</th>\n",
       "      <th>16</th>\n",
       "      <th>28</th>\n",
       "      <th>17</th>\n",
       "      <th>-11</th>\n",
       "      <th>32</th>\n",
       "      <th>18</th>\n",
       "      <th>20</th>\n",
       "      <th>33</th>\n",
       "      <th>27</th>\n",
       "      <th>19</th>\n",
       "      <th>31</th>\n",
       "      <th>21</th>\n",
       "      <th>24</th>\n",
       "      <th>22</th>\n",
       "      <th>25</th>\n",
       "      <th>26</th>\n",
       "      <th>29</th>\n",
       "      <th>36</th>\n",
       "    </tr>\n",
       "  </thead>\n",
       "  <tbody>\n",
       "    <tr>\n",
       "      <th>RISK_VALUE</th>\n",
       "      <td>9062</td>\n",
       "      <td>2139</td>\n",
       "      <td>1825</td>\n",
       "      <td>1248</td>\n",
       "      <td>1143</td>\n",
       "      <td>980</td>\n",
       "      <td>917</td>\n",
       "      <td>898</td>\n",
       "      <td>882</td>\n",
       "      <td>605</td>\n",
       "      <td>533</td>\n",
       "      <td>426</td>\n",
       "      <td>411</td>\n",
       "      <td>378</td>\n",
       "      <td>242</td>\n",
       "      <td>231</td>\n",
       "      <td>231</td>\n",
       "      <td>201</td>\n",
       "      <td>172</td>\n",
       "      <td>170</td>\n",
       "      <td>148</td>\n",
       "      <td>147</td>\n",
       "      <td>93</td>\n",
       "      <td>71</td>\n",
       "      <td>61</td>\n",
       "      <td>33</td>\n",
       "      <td>29</td>\n",
       "      <td>13</td>\n",
       "      <td>11</td>\n",
       "      <td>11</td>\n",
       "      <td>8</td>\n",
       "      <td>7</td>\n",
       "      <td>6</td>\n",
       "      <td>6</td>\n",
       "      <td>5</td>\n",
       "      <td>4</td>\n",
       "      <td>3</td>\n",
       "      <td>3</td>\n",
       "      <td>3</td>\n",
       "      <td>2</td>\n",
       "      <td>2</td>\n",
       "      <td>2</td>\n",
       "      <td>1</td>\n",
       "      <td>1</td>\n",
       "      <td>1130</td>\n",
       "      <td>635</td>\n",
       "      <td>453</td>\n",
       "      <td>357</td>\n",
       "      <td>339</td>\n",
       "      <td>319</td>\n",
       "      <td>315</td>\n",
       "      <td>284</td>\n",
       "      <td>262</td>\n",
       "      <td>227</td>\n",
       "      <td>195</td>\n",
       "      <td>183</td>\n",
       "      <td>179</td>\n",
       "      <td>176</td>\n",
       "      <td>173</td>\n",
       "      <td>168</td>\n",
       "      <td>167</td>\n",
       "      <td>163</td>\n",
       "      <td>112</td>\n",
       "      <td>100</td>\n",
       "      <td>97</td>\n",
       "      <td>93</td>\n",
       "      <td>93</td>\n",
       "      <td>78</td>\n",
       "      <td>51</td>\n",
       "      <td>50</td>\n",
       "      <td>44</td>\n",
       "      <td>37</td>\n",
       "      <td>24</td>\n",
       "      <td>20</td>\n",
       "      <td>17</td>\n",
       "      <td>16</td>\n",
       "      <td>15</td>\n",
       "      <td>13</td>\n",
       "      <td>11</td>\n",
       "      <td>10</td>\n",
       "      <td>8</td>\n",
       "      <td>6</td>\n",
       "      <td>4</td>\n",
       "      <td>4</td>\n",
       "      <td>3</td>\n",
       "      <td>2</td>\n",
       "      <td>1</td>\n",
       "      <td>1</td>\n",
       "      <td>1</td>\n",
       "    </tr>\n",
       "  </tbody>\n",
       "</table>\n",
       "</div>"
      ],
      "text/plain": [
       "DEFAULT        0                                                             \\\n",
       "RISK_VALUE    0    -6    -12    2    -1   -4   -2   -5   -3   -9   -7    3    \n",
       "RISK_VALUE  9062  2139  1825  1248  1143  980  917  898  882  605  533  426   \n",
       "\n",
       "DEFAULT                                                                       \\\n",
       "RISK_VALUE  -8    4   -10   5    6    1    8    7    12   11  9  -11  10  13   \n",
       "RISK_VALUE  411  378  242  231  231  201  172  170  148  147  93  71  61  33   \n",
       "\n",
       "DEFAULT                                                                     \\\n",
       "RISK_VALUE  14  20  15  16  33  18  21  22  17  32  19  28  31  23  24  27   \n",
       "RISK_VALUE  29  13  11  11   8   7   6   6   5   4   3   3   3   2   2   2   \n",
       "\n",
       "DEFAULT                1                                                    \\\n",
       "RISK_VALUE  25  30    0    2    12  -6    4    6    8   -12  -9    3   -1    \n",
       "RISK_VALUE   1   1  1130  635  453  357  339  319  315  284  262  227  195   \n",
       "\n",
       "DEFAULT                                                                      \\\n",
       "RISK_VALUE  -4   -3    11   7    5   -2   -5    13   10  1  -7   9  -8  -10   \n",
       "RISK_VALUE  183  179  176  173  168  167  163  112  100  97  93  93  78  51   \n",
       "\n",
       "DEFAULT                                                                     \\\n",
       "RISK_VALUE  14  15  16  28  17 -11  32  18  20  33  27  19  31  21  24  22   \n",
       "RISK_VALUE  50  44  37  24  20  17  16  15  13  11  10   8   6   4   4   3   \n",
       "\n",
       "DEFAULT                     \n",
       "RISK_VALUE  25  26  29  36  \n",
       "RISK_VALUE   2   1   1   1  "
      ]
     },
     "execution_count": 30,
     "metadata": {},
     "output_type": "execute_result"
    }
   ],
   "source": [
    "pd.set_option('display.max_columns', 500)\n",
    "pd.DataFrame(credit.groupby('DEFAULT')['RISK_VALUE'].value_counts()).T"
   ]
  },
  {
   "cell_type": "markdown",
   "metadata": {},
   "source": [
    "- As we can see clearly that for NON_DEFAULTERS most values are negative or 0.\n",
    "- For DEFAULTERS most values are greater than 0."
   ]
  },
  {
   "cell_type": "markdown",
   "metadata": {},
   "source": [
    "### Feature # 2"
   ]
  },
  {
   "cell_type": "code",
   "execution_count": 31,
   "metadata": {},
   "outputs": [],
   "source": [
    "# Sum of average bill amounts for all the months divide by 6\n",
    "credit['BILL_VALUE'] = (credit['BILLAPR'] + credit['BILLMAY'] + credit['BILLJUNE'] + credit['BILLJUL']\n",
    "                        + credit['BILLAUG'] + credit['BILLSEP'])/6"
   ]
  },
  {
   "cell_type": "code",
   "execution_count": 32,
   "metadata": {},
   "outputs": [
    {
     "data": {
      "image/png": "[encoded data removed]",
      "text/plain": [
       "<Figure size 1080x720 with 2 Axes>"
      ]
     },
     "metadata": {
      "needs_background": "light"
     },
     "output_type": "display_data"
    }
   ],
   "source": [
    "# Let's look at the distribution of the above feature created\n",
    "plt.figure(figsize = (15,10))\n",
    "# distribution plot\n",
    "plt.subplot(211)\n",
    "sns.distplot(credit[(credit['DEFAULT']==1)]['BILL_VALUE'], color = 'r', label = 'DEFAULTER')\n",
    "sns.distplot(credit[(credit['DEFAULT']==0)]['BILL_VALUE'], color = 'b', label = 'NON-DEFAULTER')\n",
    "plt.legend()\n",
    "# boxplot\n",
    "plt.subplot(212)\n",
    "sns.boxplot(credit['DEFAULT'], credit['BILL_VALUE'])\n",
    "plt.show()\n"
   ]
  },
  {
   "cell_type": "code",
   "execution_count": 33,
   "metadata": {},
   "outputs": [
    {
     "data": {
      "text/plain": [
       "0    150\n",
       "1     51\n",
       "Name: DEFAULT, dtype: int64"
      ]
     },
     "execution_count": 33,
     "metadata": {},
     "output_type": "execute_result"
    }
   ],
   "source": [
    "credit[credit['BILL_VALUE']<0]['DEFAULT'].value_counts()"
   ]
  },
  {
   "cell_type": "markdown",
   "metadata": {},
   "source": [
    "- People with High negative value of BILL_VALUE are definitely defaulters."
   ]
  },
  {
   "cell_type": "markdown",
   "metadata": {},
   "source": [
    "### Feature # 3"
   ]
  },
  {
   "cell_type": "code",
   "execution_count": 34,
   "metadata": {},
   "outputs": [],
   "source": [
    "# subtracting the payment of this month to previous month's BILL\n",
    "credit['BILL_PAY_VALUE'] = ((credit['PAYSEP'] - credit['BILLAUG']) + \n",
    "                            (credit['PAYAUG'] - credit['BILLJUL']) +\n",
    "                           (credit['PAYJUL'] - credit['BILLJUNE']) +\n",
    "                           (credit['PAYJUNE'] - credit['BILLMAY']) + \n",
    "                           (credit['PAYMAY'] - credit['BILLAPR']))/5"
   ]
  },
  {
   "cell_type": "code",
   "execution_count": 35,
   "metadata": {},
   "outputs": [
    {
     "data": {
      "image/png": "[encoded data removed]",
      "text/plain": [
       "<Figure size 1080x720 with 2 Axes>"
      ]
     },
     "metadata": {
      "needs_background": "light"
     },
     "output_type": "display_data"
    }
   ],
   "source": [
    "# Let's look at the distribution of the above feature created\n",
    "plt.figure(figsize = (15,10))\n",
    "# distribution plot\n",
    "plt.subplot(211)\n",
    "sns.distplot(credit[credit['DEFAULT']==1]['BILL_PAY_VALUE'], color = 'r', label = 'DEFAULTER')\n",
    "sns.distplot(credit[credit['DEFAULT']==0]['BILL_PAY_VALUE'], color = 'b', label = 'NON-DEFAULTER')\n",
    "plt.legend()\n",
    "# boxplot\n",
    "plt.subplot(212)\n",
    "sns.boxplot(credit['DEFAULT'], credit['BILL_PAY_VALUE'])\n",
    "plt.show()"
   ]
  },
  {
   "cell_type": "code",
   "execution_count": 36,
   "metadata": {},
   "outputs": [
    {
     "data": {
      "text/plain": [
       "0    3041\n",
       "1     430\n",
       "Name: DEFAULT, dtype: int64"
      ]
     },
     "execution_count": 36,
     "metadata": {},
     "output_type": "execute_result"
    }
   ],
   "source": [
    "credit[credit['BILL_PAY_VALUE']>0]['DEFAULT'].value_counts()"
   ]
  },
  {
   "cell_type": "markdown",
   "metadata": {},
   "source": [
    "- People with positive Pay value are more likely to default. # This is one important feature as this has almost no defaulters on the negative side. The people who pay more than their bill are more likely to not default."
   ]
  },
  {
   "cell_type": "markdown",
   "metadata": {},
   "source": [
    "### Feature # 4"
   ]
  },
  {
   "cell_type": "code",
   "execution_count": 37,
   "metadata": {},
   "outputs": [],
   "source": [
    "# Sum of PAY amounts for all the months divide by Limit balance\n",
    "credit['PAY_VALUE'] = (credit['PAYAPR'] + credit['PAYMAY'] + credit['PAYJUNE'] + credit['PAYJUL']\n",
    "                        + credit['PAYAUG'] + credit['PAYSEP'])/6"
   ]
  },
  {
   "cell_type": "code",
   "execution_count": 38,
   "metadata": {},
   "outputs": [
    {
     "data": {
      "image/png": "[encoded data removed]",
      "text/plain": [
       "<Figure size 1080x720 with 2 Axes>"
      ]
     },
     "metadata": {
      "needs_background": "light"
     },
     "output_type": "display_data"
    }
   ],
   "source": [
    "# Let's look at the distribution of the above feature created\n",
    "plt.figure(figsize = (15,10))\n",
    "# distribution plot\n",
    "plt.subplot(211)\n",
    "sns.distplot((credit[credit['DEFAULT']==1]['PAY_VALUE'])**0.1, color = 'r', label = 'DEFAULTER')\n",
    "sns.distplot((credit[credit['DEFAULT']==0]['PAY_VALUE'])**0.1, color = 'b', label = 'NON-DEFAULTER')\n",
    "plt.legend()\n",
    "# boxplot\n",
    "plt.subplot(212)\n",
    "sns.boxplot(credit['DEFAULT'], (credit['PAY_VALUE'])**0.1)\n",
    "plt.show()"
   ]
  },
  {
   "cell_type": "markdown",
   "metadata": {},
   "source": [
    "- Not much separated so should not use it.\n",
    "- But we can segment our modelling process for the one which have 0 value and other."
   ]
  },
  {
   "cell_type": "markdown",
   "metadata": {},
   "source": [
    "## Model after including Feature # 1"
   ]
  },
  {
   "cell_type": "code",
   "execution_count": 39,
   "metadata": {},
   "outputs": [
    {
     "data": {
      "text/html": [
       "<div>\n",
       "<style scoped>\n",
       "    .dataframe tbody tr th:only-of-type {\n",
       "        vertical-align: middle;\n",
       "    }\n",
       "\n",
       "    .dataframe tbody tr th {\n",
       "        vertical-align: top;\n",
       "    }\n",
       "\n",
       "    .dataframe thead th {\n",
       "        text-align: right;\n",
       "    }\n",
       "</style>\n",
       "<table border=\"1\" class=\"dataframe\">\n",
       "  <thead>\n",
       "    <tr style=\"text-align: right;\">\n",
       "      <th></th>\n",
       "      <th>PAYSEPFL</th>\n",
       "      <th>BILLSEP</th>\n",
       "      <th>PAYAUG</th>\n",
       "    </tr>\n",
       "  </thead>\n",
       "  <tbody>\n",
       "    <tr>\n",
       "      <th>0</th>\n",
       "      <td>1.794534</td>\n",
       "      <td>-0.642490</td>\n",
       "      <td>-0.227082</td>\n",
       "    </tr>\n",
       "    <tr>\n",
       "      <th>1</th>\n",
       "      <td>-0.874977</td>\n",
       "      <td>-0.659208</td>\n",
       "      <td>-0.213584</td>\n",
       "    </tr>\n",
       "    <tr>\n",
       "      <th>2</th>\n",
       "      <td>0.014860</td>\n",
       "      <td>-0.298555</td>\n",
       "      <td>-0.191884</td>\n",
       "    </tr>\n",
       "    <tr>\n",
       "      <th>3</th>\n",
       "      <td>0.014860</td>\n",
       "      <td>-0.057490</td>\n",
       "      <td>-0.169358</td>\n",
       "    </tr>\n",
       "    <tr>\n",
       "      <th>4</th>\n",
       "      <td>-0.874977</td>\n",
       "      <td>-0.578608</td>\n",
       "      <td>1.335012</td>\n",
       "    </tr>\n",
       "  </tbody>\n",
       "</table>\n",
       "</div>"
      ],
      "text/plain": [
       "   PAYSEPFL   BILLSEP    PAYAUG\n",
       "0  1.794534 -0.642490 -0.227082\n",
       "1 -0.874977 -0.659208 -0.213584\n",
       "2  0.014860 -0.298555 -0.191884\n",
       "3  0.014860 -0.057490 -0.169358\n",
       "4 -0.874977 -0.578608  1.335012"
      ]
     },
     "execution_count": 39,
     "metadata": {},
     "output_type": "execute_result"
    }
   ],
   "source": [
    "Ximp.head()"
   ]
  },
  {
   "cell_type": "code",
   "execution_count": 40,
   "metadata": {},
   "outputs": [],
   "source": [
    "Ximp['RISK_VALUE'] = (credit.RISK_VALUE - credit.RISK_VALUE.mean()) / (credit.RISK_VALUE.std())  "
   ]
  },
  {
   "cell_type": "code",
   "execution_count": 41,
   "metadata": {},
   "outputs": [
    {
     "data": {
      "text/html": [
       "<div>\n",
       "<style scoped>\n",
       "    .dataframe tbody tr th:only-of-type {\n",
       "        vertical-align: middle;\n",
       "    }\n",
       "\n",
       "    .dataframe tbody tr th {\n",
       "        vertical-align: top;\n",
       "    }\n",
       "\n",
       "    .dataframe thead th {\n",
       "        text-align: right;\n",
       "    }\n",
       "</style>\n",
       "<table border=\"1\" class=\"dataframe\">\n",
       "  <thead>\n",
       "    <tr style=\"text-align: right;\">\n",
       "      <th></th>\n",
       "      <th>PAYSEPFL</th>\n",
       "      <th>BILLSEP</th>\n",
       "      <th>PAYAUG</th>\n",
       "      <th>RISK_VALUE</th>\n",
       "    </tr>\n",
       "  </thead>\n",
       "  <tbody>\n",
       "    <tr>\n",
       "      <th>0</th>\n",
       "      <td>1.794534</td>\n",
       "      <td>-0.642490</td>\n",
       "      <td>-0.227082</td>\n",
       "      <td>-0.153633</td>\n",
       "    </tr>\n",
       "    <tr>\n",
       "      <th>1</th>\n",
       "      <td>-0.874977</td>\n",
       "      <td>-0.659208</td>\n",
       "      <td>-0.213584</td>\n",
       "      <td>0.694823</td>\n",
       "    </tr>\n",
       "    <tr>\n",
       "      <th>2</th>\n",
       "      <td>0.014860</td>\n",
       "      <td>-0.298555</td>\n",
       "      <td>-0.191884</td>\n",
       "      <td>0.185750</td>\n",
       "    </tr>\n",
       "    <tr>\n",
       "      <th>3</th>\n",
       "      <td>0.014860</td>\n",
       "      <td>-0.057490</td>\n",
       "      <td>-0.169358</td>\n",
       "      <td>0.185750</td>\n",
       "    </tr>\n",
       "    <tr>\n",
       "      <th>4</th>\n",
       "      <td>-0.874977</td>\n",
       "      <td>-0.578608</td>\n",
       "      <td>1.335012</td>\n",
       "      <td>-0.153633</td>\n",
       "    </tr>\n",
       "  </tbody>\n",
       "</table>\n",
       "</div>"
      ],
      "text/plain": [
       "   PAYSEPFL   BILLSEP    PAYAUG  RISK_VALUE\n",
       "0  1.794534 -0.642490 -0.227082   -0.153633\n",
       "1 -0.874977 -0.659208 -0.213584    0.694823\n",
       "2  0.014860 -0.298555 -0.191884    0.185750\n",
       "3  0.014860 -0.057490 -0.169358    0.185750\n",
       "4 -0.874977 -0.578608  1.335012   -0.153633"
      ]
     },
     "execution_count": 41,
     "metadata": {},
     "output_type": "execute_result"
    }
   ],
   "source": [
    "Ximp.head()"
   ]
  },
  {
   "cell_type": "code",
   "execution_count": 42,
   "metadata": {},
   "outputs": [],
   "source": [
    "X_tr, X_t, y_tr, y_t = train_test_split(Ximp,y, test_size=0.2, stratify=y, random_state=42)"
   ]
  },
  {
   "cell_type": "code",
   "execution_count": 43,
   "metadata": {},
   "outputs": [
    {
     "name": "stdout",
     "output_type": "stream",
     "text": [
      "Tuned Logistic Regression Parameters: {'C': 3.727593720314938}\n"
     ]
    }
   ],
   "source": [
    "# Setup the hyperparameter grid, (not scaled data)\n",
    "param_grid = {'C': np.logspace(-5, 8, 15)}\n",
    "\n",
    "# Instantiate a logistic regression classifier\n",
    "logreg = LogisticRegression()\n",
    "\n",
    "# Instantiate the RandomizedSearchCV object\n",
    "logreg_cv = RandomizedSearchCV(logreg,param_grid , cv=5, random_state=0)\n",
    "\n",
    "# Fit it to the data\n",
    "logreg_cv.fit(X_tr, y_tr)\n",
    "\n",
    "# Print the tuned parameters and score\n",
    "print(\"Tuned Logistic Regression Parameters: {}\".format(logreg_cv.best_params_))"
   ]
  },
  {
   "cell_type": "code",
   "execution_count": 44,
   "metadata": {},
   "outputs": [
    {
     "name": "stdout",
     "output_type": "stream",
     "text": [
      "Accuracy: 0.8108333333333333\n",
      "\n",
      "              precision    recall  f1-score   support\n",
      "\n",
      "           0       0.82      0.97      0.89      4673\n",
      "           1       0.71      0.24      0.36      1327\n",
      "\n",
      "    accuracy                           0.81      6000\n",
      "   macro avg       0.77      0.61      0.63      6000\n",
      "weighted avg       0.80      0.81      0.77      6000\n",
      "\n",
      "\n",
      "Average 5-Fold CV Score: 0.8095 , Standard deviation: 0.005\n"
     ]
    },
    {
     "data": {
      "image/png": "[encoded data removed]",
      "text/plain": [
       "<Figure size 288x216 with 2 Axes>"
      ]
     },
     "metadata": {
      "needs_background": "light"
     },
     "output_type": "display_data"
    }
   ],
   "source": [
    "LR_imp = LogisticRegression(C=3.73, random_state=0)\n",
    "LR_imp.fit(X_tr, y_tr)\n",
    "y_pred = LR_imp.predict(X_t)\n",
    "print('Accuracy:', metrics.accuracy_score(y_pred,y_t))\n",
    "\n",
    "## 5-fold cross-validation \n",
    "cv_scores =cross_val_score(LR_imp, Ximp, y, cv=5)\n",
    "\n",
    "# Print the 5-fold cross-validation scores\n",
    "print()\n",
    "print(classification_report(y_t, y_pred))\n",
    "print()\n",
    "print(\"Average 5-Fold CV Score: {}\".format(round(np.mean(cv_scores),4)),\n",
    "      \", Standard deviation: {}\".format(round(np.std(cv_scores),4)))\n",
    "\n",
    "plt.figure(figsize=(4,3))\n",
    "ConfMatrix = confusion_matrix(y_t,LR_imp.predict(X_t))\n",
    "sns.heatmap(ConfMatrix,annot=True, cmap=\"Blues\", fmt=\"d\", \n",
    "            xticklabels = ['Non-default', 'Default'], \n",
    "            yticklabels = ['Non-default', 'Default'])\n",
    "plt.ylabel('True label')\n",
    "plt.xlabel('Predicted label')\n",
    "plt.title(\"Confusion Matrix - Logistic Regression (most important features)\");"
   ]
  },
  {
   "cell_type": "markdown",
   "metadata": {},
   "source": [
    "## Model after including Feature # 3"
   ]
  },
  {
   "cell_type": "code",
   "execution_count": 45,
   "metadata": {},
   "outputs": [
    {
     "data": {
      "text/html": [
       "<div>\n",
       "<style scoped>\n",
       "    .dataframe tbody tr th:only-of-type {\n",
       "        vertical-align: middle;\n",
       "    }\n",
       "\n",
       "    .dataframe tbody tr th {\n",
       "        vertical-align: top;\n",
       "    }\n",
       "\n",
       "    .dataframe thead th {\n",
       "        text-align: right;\n",
       "    }\n",
       "</style>\n",
       "<table border=\"1\" class=\"dataframe\">\n",
       "  <thead>\n",
       "    <tr style=\"text-align: right;\">\n",
       "      <th></th>\n",
       "      <th>PAYSEPFL</th>\n",
       "      <th>BILLSEP</th>\n",
       "      <th>PAYAUG</th>\n",
       "      <th>RISK_VALUE</th>\n",
       "    </tr>\n",
       "  </thead>\n",
       "  <tbody>\n",
       "    <tr>\n",
       "      <th>0</th>\n",
       "      <td>1.794534</td>\n",
       "      <td>-0.642490</td>\n",
       "      <td>-0.227082</td>\n",
       "      <td>-0.153633</td>\n",
       "    </tr>\n",
       "    <tr>\n",
       "      <th>1</th>\n",
       "      <td>-0.874977</td>\n",
       "      <td>-0.659208</td>\n",
       "      <td>-0.213584</td>\n",
       "      <td>0.694823</td>\n",
       "    </tr>\n",
       "    <tr>\n",
       "      <th>2</th>\n",
       "      <td>0.014860</td>\n",
       "      <td>-0.298555</td>\n",
       "      <td>-0.191884</td>\n",
       "      <td>0.185750</td>\n",
       "    </tr>\n",
       "    <tr>\n",
       "      <th>3</th>\n",
       "      <td>0.014860</td>\n",
       "      <td>-0.057490</td>\n",
       "      <td>-0.169358</td>\n",
       "      <td>0.185750</td>\n",
       "    </tr>\n",
       "    <tr>\n",
       "      <th>4</th>\n",
       "      <td>-0.874977</td>\n",
       "      <td>-0.578608</td>\n",
       "      <td>1.335012</td>\n",
       "      <td>-0.153633</td>\n",
       "    </tr>\n",
       "  </tbody>\n",
       "</table>\n",
       "</div>"
      ],
      "text/plain": [
       "   PAYSEPFL   BILLSEP    PAYAUG  RISK_VALUE\n",
       "0  1.794534 -0.642490 -0.227082   -0.153633\n",
       "1 -0.874977 -0.659208 -0.213584    0.694823\n",
       "2  0.014860 -0.298555 -0.191884    0.185750\n",
       "3  0.014860 -0.057490 -0.169358    0.185750\n",
       "4 -0.874977 -0.578608  1.335012   -0.153633"
      ]
     },
     "execution_count": 45,
     "metadata": {},
     "output_type": "execute_result"
    }
   ],
   "source": [
    "Ximp.head()"
   ]
  },
  {
   "cell_type": "code",
   "execution_count": 46,
   "metadata": {},
   "outputs": [],
   "source": [
    "Ximp['BILL_PAY_VALUE'] = (credit.BILL_PAY_VALUE - credit.BILL_PAY_VALUE.mean()) / (credit.BILL_PAY_VALUE.std())  "
   ]
  },
  {
   "cell_type": "code",
   "execution_count": 47,
   "metadata": {},
   "outputs": [],
   "source": [
    "Ximp=Ximp.drop(['RISK_VALUE'],axis=1)"
   ]
  },
  {
   "cell_type": "code",
   "execution_count": 48,
   "metadata": {},
   "outputs": [
    {
     "data": {
      "text/html": [
       "<div>\n",
       "<style scoped>\n",
       "    .dataframe tbody tr th:only-of-type {\n",
       "        vertical-align: middle;\n",
       "    }\n",
       "\n",
       "    .dataframe tbody tr th {\n",
       "        vertical-align: top;\n",
       "    }\n",
       "\n",
       "    .dataframe thead th {\n",
       "        text-align: right;\n",
       "    }\n",
       "</style>\n",
       "<table border=\"1\" class=\"dataframe\">\n",
       "  <thead>\n",
       "    <tr style=\"text-align: right;\">\n",
       "      <th></th>\n",
       "      <th>PAYSEPFL</th>\n",
       "      <th>BILLSEP</th>\n",
       "      <th>PAYAUG</th>\n",
       "      <th>BILL_PAY_VALUE</th>\n",
       "    </tr>\n",
       "  </thead>\n",
       "  <tbody>\n",
       "    <tr>\n",
       "      <th>0</th>\n",
       "      <td>1.794534</td>\n",
       "      <td>-0.642490</td>\n",
       "      <td>-0.227082</td>\n",
       "      <td>0.637006</td>\n",
       "    </tr>\n",
       "    <tr>\n",
       "      <th>1</th>\n",
       "      <td>-0.874977</td>\n",
       "      <td>-0.659208</td>\n",
       "      <td>-0.213584</td>\n",
       "      <td>0.609070</td>\n",
       "    </tr>\n",
       "    <tr>\n",
       "      <th>2</th>\n",
       "      <td>0.014860</td>\n",
       "      <td>-0.298555</td>\n",
       "      <td>-0.191884</td>\n",
       "      <td>0.423793</td>\n",
       "    </tr>\n",
       "    <tr>\n",
       "      <th>3</th>\n",
       "      <td>0.014860</td>\n",
       "      <td>-0.057490</td>\n",
       "      <td>-0.169358</td>\n",
       "      <td>0.051359</td>\n",
       "    </tr>\n",
       "    <tr>\n",
       "      <th>4</th>\n",
       "      <td>-0.874977</td>\n",
       "      <td>-0.578608</td>\n",
       "      <td>1.335012</td>\n",
       "      <td>0.504788</td>\n",
       "    </tr>\n",
       "  </tbody>\n",
       "</table>\n",
       "</div>"
      ],
      "text/plain": [
       "   PAYSEPFL   BILLSEP    PAYAUG  BILL_PAY_VALUE\n",
       "0  1.794534 -0.642490 -0.227082        0.637006\n",
       "1 -0.874977 -0.659208 -0.213584        0.609070\n",
       "2  0.014860 -0.298555 -0.191884        0.423793\n",
       "3  0.014860 -0.057490 -0.169358        0.051359\n",
       "4 -0.874977 -0.578608  1.335012        0.504788"
      ]
     },
     "execution_count": 48,
     "metadata": {},
     "output_type": "execute_result"
    }
   ],
   "source": [
    "Ximp.head()"
   ]
  },
  {
   "cell_type": "code",
   "execution_count": 49,
   "metadata": {},
   "outputs": [],
   "source": [
    "X_tr, X_t, y_tr, y_t = train_test_split(Ximp,y, test_size=0.2, stratify=y, random_state=42)"
   ]
  },
  {
   "cell_type": "code",
   "execution_count": 50,
   "metadata": {},
   "outputs": [
    {
     "name": "stdout",
     "output_type": "stream",
     "text": [
      "Tuned Logistic Regression Parameters: {'C': 268.2695795279727}\n"
     ]
    }
   ],
   "source": [
    "# Setup the hyperparameter grid, (not scaled data)\n",
    "param_grid = {'C': np.logspace(-5, 8, 15)}\n",
    "\n",
    "# Instantiate a logistic regression classifier\n",
    "logreg = LogisticRegression()\n",
    "\n",
    "# Instantiate the RandomizedSearchCV object\n",
    "logreg_cv = RandomizedSearchCV(logreg,param_grid , cv=5, random_state=0)\n",
    "\n",
    "# Fit it to the data\n",
    "logreg_cv.fit(X_tr, y_tr)\n",
    "\n",
    "# Print the tuned parameters and score\n",
    "print(\"Tuned Logistic Regression Parameters: {}\".format(logreg_cv.best_params_))"
   ]
  },
  {
   "cell_type": "code",
   "execution_count": 51,
   "metadata": {},
   "outputs": [
    {
     "name": "stdout",
     "output_type": "stream",
     "text": [
      "Accuracy: 0.8145\n",
      "\n",
      "              precision    recall  f1-score   support\n",
      "\n",
      "           0       0.83      0.97      0.89      4673\n",
      "           1       0.70      0.28      0.40      1327\n",
      "\n",
      "    accuracy                           0.81      6000\n",
      "   macro avg       0.76      0.62      0.65      6000\n",
      "weighted avg       0.80      0.81      0.78      6000\n",
      "\n",
      "\n",
      "Average 5-Fold CV Score: 0.8124 , Standard deviation: 0.0061\n"
     ]
    },
    {
     "data": {
      "image/png": "[encoded data removed]",
      "text/plain": [
       "<Figure size 288x216 with 2 Axes>"
      ]
     },
     "metadata": {
      "needs_background": "light"
     },
     "output_type": "display_data"
    }
   ],
   "source": [
    "LR_imp = LogisticRegression(C=268.27, random_state=0)\n",
    "LR_imp.fit(X_tr, y_tr)\n",
    "y_pred = LR_imp.predict(X_t)\n",
    "print('Accuracy:', metrics.accuracy_score(y_pred,y_t))\n",
    "\n",
    "## 5-fold cross-validation \n",
    "cv_scores =cross_val_score(LR_imp, Ximp, y, cv=5)\n",
    "\n",
    "# Print the 5-fold cross-validation scores\n",
    "print()\n",
    "print(classification_report(y_t, y_pred))\n",
    "print()\n",
    "print(\"Average 5-Fold CV Score: {}\".format(round(np.mean(cv_scores),4)),\n",
    "      \", Standard deviation: {}\".format(round(np.std(cv_scores),4)))\n",
    "\n",
    "plt.figure(figsize=(4,3))\n",
    "ConfMatrix = confusion_matrix(y_t,LR_imp.predict(X_t))\n",
    "sns.heatmap(ConfMatrix,annot=True, cmap=\"Blues\", fmt=\"d\", \n",
    "            xticklabels = ['Non-default', 'Default'], \n",
    "            yticklabels = ['Non-default', 'Default'])\n",
    "plt.ylabel('True label')\n",
    "plt.xlabel('Predicted label')\n",
    "plt.title(\"Confusion Matrix - Logistic Regression (most important features)\");"
   ]
  },
  {
   "cell_type": "markdown",
   "metadata": {},
   "source": [
    "- Recall has further increased.. So this is definitely a significant feature"
   ]
  },
  {
   "cell_type": "markdown",
   "metadata": {},
   "source": [
    "## Cluster to understand class segregation"
   ]
  },
  {
   "cell_type": "code",
   "execution_count": 52,
   "metadata": {},
   "outputs": [],
   "source": [
    "from sklearn.cluster import KMeans\n",
    "from sklearn.preprocessing import StandardScaler, normalize\n",
    "from sklearn.decomposition import PCA\n",
    "from sklearn.metrics import silhouette_score"
   ]
  },
  {
   "cell_type": "code",
   "execution_count": 53,
   "metadata": {},
   "outputs": [],
   "source": [
    "raw_df = credit.drop('GENDER', axis = 1) \n",
    "raw_df = raw_df.drop('EDUCATION', axis = 1) \n",
    "raw_df = raw_df.drop('MARITAL_S', axis = 1) \n"
   ]
  },
  {
   "cell_type": "code",
   "execution_count": 54,
   "metadata": {},
   "outputs": [
    {
     "data": {
      "text/html": [
       "<div>\n",
       "<style scoped>\n",
       "    .dataframe tbody tr th:only-of-type {\n",
       "        vertical-align: middle;\n",
       "    }\n",
       "\n",
       "    .dataframe tbody tr th {\n",
       "        vertical-align: top;\n",
       "    }\n",
       "\n",
       "    .dataframe thead th {\n",
       "        text-align: right;\n",
       "    }\n",
       "</style>\n",
       "<table border=\"1\" class=\"dataframe\">\n",
       "  <thead>\n",
       "    <tr style=\"text-align: right;\">\n",
       "      <th></th>\n",
       "      <th>P1</th>\n",
       "      <th>P2</th>\n",
       "    </tr>\n",
       "  </thead>\n",
       "  <tbody>\n",
       "    <tr>\n",
       "      <th>0</th>\n",
       "      <td>-0.262071</td>\n",
       "      <td>-0.292129</td>\n",
       "    </tr>\n",
       "    <tr>\n",
       "      <th>1</th>\n",
       "      <td>0.054683</td>\n",
       "      <td>-0.541144</td>\n",
       "    </tr>\n",
       "  </tbody>\n",
       "</table>\n",
       "</div>"
      ],
      "text/plain": [
       "         P1        P2\n",
       "0 -0.262071 -0.292129\n",
       "1  0.054683 -0.541144"
      ]
     },
     "execution_count": 54,
     "metadata": {},
     "output_type": "execute_result"
    }
   ],
   "source": [
    "# Standardize data\n",
    "scaler = StandardScaler() \n",
    "scaled_df = scaler.fit_transform(raw_df) \n",
    "  \n",
    "# Normalizing the Data \n",
    "normalized_df = normalize(scaled_df) \n",
    "  \n",
    "# Converting the numpy array into a pandas DataFrame \n",
    "normalized_df = pd.DataFrame(normalized_df) \n",
    "  \n",
    "# Reducing the dimensions of the data \n",
    "pca = PCA(n_components = 2) \n",
    "X_principal = pca.fit_transform(normalized_df) \n",
    "X_principal = pd.DataFrame(X_principal) \n",
    "X_principal.columns = ['P1', 'P2'] \n",
    "  \n",
    "X_principal.head(2)"
   ]
  },
  {
   "cell_type": "code",
   "execution_count": 55,
   "metadata": {},
   "outputs": [
    {
     "data": {
      "image/png": "[encoded data removed]",
      "text/plain": [
       "<Figure size 432x288 with 1 Axes>"
      ]
     },
     "metadata": {
      "needs_background": "light"
     },
     "output_type": "display_data"
    }
   ],
   "source": [
    "sse = {}\n",
    "for k in range(1, 10):\n",
    "    kmeans = KMeans(n_clusters=k, max_iter=1000).fit(X_principal)\n",
    "    sse[k] = kmeans.inertia_ # Inertia: Sum of distances of samples to their closest cluster center\n",
    "plt.figure()\n",
    "plt.plot(list(sse.keys()), list(sse.values()))\n",
    "plt.xlabel(\"Number of cluster\")\n",
    "plt.ylabel(\"SSE\")\n",
    "plt.show()\n"
   ]
  },
  {
   "cell_type": "code",
   "execution_count": 56,
   "metadata": {},
   "outputs": [
    {
     "data": {
      "image/png": "[encoded data removed]",
      "text/plain": [
       "<Figure size 432x288 with 1 Axes>"
      ]
     },
     "metadata": {
      "needs_background": "light"
     },
     "output_type": "display_data"
    }
   ],
   "source": [
    "silhouette_scores = [] \n",
    "\n",
    "for n_cluster in range(2, 8):\n",
    "    silhouette_scores.append( \n",
    "        silhouette_score(X_principal, KMeans(n_clusters = n_cluster).fit_predict(X_principal))) \n",
    "    \n",
    "# Plotting a bar graph to compare the results \n",
    "k = [2, 3, 4, 5, 6,7] \n",
    "plt.bar(k, silhouette_scores) \n",
    "plt.xlabel('Number of clusters', fontsize = 10) \n",
    "plt.ylabel('Silhouette Score', fontsize = 10) \n",
    "plt.show() "
   ]
  },
  {
   "cell_type": "code",
   "execution_count": 57,
   "metadata": {},
   "outputs": [
    {
     "data": {
      "text/plain": [
       "KMeans(n_clusters=3)"
      ]
     },
     "execution_count": 57,
     "metadata": {},
     "output_type": "execute_result"
    }
   ],
   "source": [
    "kmeans = KMeans(n_clusters=3)\n",
    "kmeans.fit(X_principal)"
   ]
  },
  {
   "cell_type": "code",
   "execution_count": 58,
   "metadata": {},
   "outputs": [
    {
     "data": {
      "image/png": "[encoded data removed]",
      "text/plain": [
       "<Figure size 432x288 with 1 Axes>"
      ]
     },
     "metadata": {
      "needs_background": "light"
     },
     "output_type": "display_data"
    }
   ],
   "source": [
    "# Visualizing the clustering \n",
    "plt.scatter(X_principal['P1'], X_principal['P2'],  \n",
    "           c = KMeans(n_clusters = 3).fit_predict(X_principal), cmap =plt.cm.winter) \n",
    "plt.show() "
   ]
  },
  {
   "cell_type": "code",
   "execution_count": 59,
   "metadata": {},
   "outputs": [],
   "source": [
    "### What are centroids of the above cluster configuration"
   ]
  },
  {
   "cell_type": "code",
   "execution_count": 60,
   "metadata": {},
   "outputs": [
    {
     "data": {
      "image/png": "[encoded data removed]",
      "text/plain": [
       "<Figure size 432x288 with 1 Axes>"
      ]
     },
     "metadata": {
      "needs_background": "light"
     },
     "output_type": "display_data"
    }
   ],
   "source": [
    "h = .01     # point in the mesh [x_min, x_max]x[y_min, y_max].\n",
    "\n",
    "# Plot the decision boundary. For that, we will assign a color to each\n",
    "x_min, x_max = X_principal['P1'].min() - 1, X_principal['P1'].max() + 1\n",
    "y_min, y_max = X_principal['P2'].min() - 1, X_principal['P2'].max() + 1\n",
    "xx, yy = np.meshgrid(np.arange(x_min, x_max, h), np.arange(y_min, y_max, h))\n",
    "# Obtain labels for each point in mesh. Use last trained model.\n",
    "\n",
    "Z = kmeans.predict(np.array(list(zip(xx.ravel(), yy.ravel()))))\n",
    "\n",
    "# Put the result into a color plot\n",
    "Z = Z.reshape(xx.shape)\n",
    "plt.figure(1)\n",
    "# https://stackoverflow.com/questions/16661790/difference-between-plt-close-and-plt-clf\n",
    "plt.clf()\n",
    "plt.imshow(Z, interpolation='nearest',\n",
    "           extent=(xx.min(), xx.max(), yy.min(), yy.max()),\n",
    "           cmap=plt.cm.winter,\n",
    "           aspect='auto', origin='lower')\n",
    "\n",
    "plt.plot(X_principal['P1'], X_principal['P2'], 'k.', markersize=2)\n",
    "# Plot the centroids as a white X\n",
    "centroids = kmeans.cluster_centers_\n",
    "plt.scatter(centroids[:, 0], centroids[:, 1],\n",
    "            marker='o', s=10, linewidths=3,\n",
    "            color='w', zorder=10)\n",
    "plt.title('K-means clustering on the credit card fraud dataset (PCA-reduced data)\\n'\n",
    "          'Centroids are marked with white circle')\n",
    "plt.xlim(x_min, x_max)\n",
    "plt.ylim(y_min, y_max)\n",
    "plt.show()"
   ]
  },
  {
   "cell_type": "markdown",
   "metadata": {},
   "source": [
    "## ANAMOLIES"
   ]
  },
  {
   "cell_type": "markdown",
   "metadata": {},
   "source": [
    "### 1 - Billed amount is greater than the balance limit - Need to check if these customers are using the over limit facility.. Count is high\n"
   ]
  },
  {
   "cell_type": "code",
   "execution_count": 61,
   "metadata": {},
   "outputs": [
    {
     "data": {
      "text/plain": [
       "(2115, 28)"
      ]
     },
     "execution_count": 61,
     "metadata": {},
     "output_type": "execute_result"
    }
   ],
   "source": [
    "bill_1 = pd.concat([credit[\"BILLSEP\"], credit[\"BALLIMIT\"]], axis =1)\n",
    "\n",
    "credit[bill_1[\"BILLSEP\"] > bill_1[\"BALLIMIT\"]].shape"
   ]
  },
  {
   "cell_type": "markdown",
   "metadata": {},
   "source": [
    "### 2 - Billed amount is less than the pay amount and still defaulted, Was any payment made for the previous month pending.. If yes, why the same was not reflected in the billed amount"
   ]
  },
  {
   "cell_type": "code",
   "execution_count": 62,
   "metadata": {},
   "outputs": [
    {
     "data": {
      "text/plain": [
       "(651, 28)"
      ]
     },
     "execution_count": 62,
     "metadata": {},
     "output_type": "execute_result"
    }
   ],
   "source": [
    "bill_1 = pd.concat([credit[\"BILLSEP\"], credit[\"PAYSEP\"]], axis =1)\n",
    "\n",
    "credit[(bill_1[\"BILLSEP\"] < bill_1[\"PAYSEP\"]) & (credit[\"DEFAULT\"] ==1 )].shape"
   ]
  },
  {
   "cell_type": "markdown",
   "metadata": {},
   "source": [
    "### 3 Total Pay Amount is greater than Bill Amount, still defaulted"
   ]
  },
  {
   "cell_type": "code",
   "execution_count": 63,
   "metadata": {},
   "outputs": [],
   "source": [
    "credit['BILL_AMT']=credit['BILLSEP']+credit['BILLAUG']+credit['BILLJUL']+credit['BILLJUNE']+credit['BILLMAY']+credit['BILLAPR']\n",
    "credit['PAY_AMT']=credit['PAYSEP']+credit['PAYAUG']+credit['PAYJUL']+credit['PAYJUNE']+credit['PAYMAY']+credit['PAYAPR']\n"
   ]
  },
  {
   "cell_type": "code",
   "execution_count": 64,
   "metadata": {},
   "outputs": [
    {
     "data": {
      "text/html": [
       "<div>\n",
       "<style scoped>\n",
       "    .dataframe tbody tr th:only-of-type {\n",
       "        vertical-align: middle;\n",
       "    }\n",
       "\n",
       "    .dataframe tbody tr th {\n",
       "        vertical-align: top;\n",
       "    }\n",
       "\n",
       "    .dataframe thead th {\n",
       "        text-align: right;\n",
       "    }\n",
       "</style>\n",
       "<table border=\"1\" class=\"dataframe\">\n",
       "  <thead>\n",
       "    <tr style=\"text-align: right;\">\n",
       "      <th></th>\n",
       "      <th>BALLIMIT</th>\n",
       "      <th>GENDER</th>\n",
       "      <th>EDUCATION</th>\n",
       "      <th>MARITAL_S</th>\n",
       "      <th>AGE</th>\n",
       "      <th>PAYSEPFL</th>\n",
       "      <th>PAYAUGFL</th>\n",
       "      <th>PAYJULFL</th>\n",
       "      <th>PAYJUNEFL</th>\n",
       "      <th>PAYMAYFL</th>\n",
       "      <th>PAYAPRFL</th>\n",
       "      <th>BILLSEP</th>\n",
       "      <th>BILLAUG</th>\n",
       "      <th>BILLJUL</th>\n",
       "      <th>BILLJUNE</th>\n",
       "      <th>BILLMAY</th>\n",
       "      <th>BILLAPR</th>\n",
       "      <th>PAYSEP</th>\n",
       "      <th>PAYAUG</th>\n",
       "      <th>PAYJUL</th>\n",
       "      <th>PAYJUNE</th>\n",
       "      <th>PAYMAY</th>\n",
       "      <th>PAYAPR</th>\n",
       "      <th>DEFAULT</th>\n",
       "      <th>RISK_VALUE</th>\n",
       "      <th>BILL_VALUE</th>\n",
       "      <th>BILL_PAY_VALUE</th>\n",
       "      <th>PAY_VALUE</th>\n",
       "      <th>BILL_AMT</th>\n",
       "      <th>PAY_AMT</th>\n",
       "    </tr>\n",
       "  </thead>\n",
       "  <tbody>\n",
       "    <tr>\n",
       "      <th>0</th>\n",
       "      <td>20000</td>\n",
       "      <td>0</td>\n",
       "      <td>3</td>\n",
       "      <td>0</td>\n",
       "      <td>24</td>\n",
       "      <td>2</td>\n",
       "      <td>2</td>\n",
       "      <td>-1</td>\n",
       "      <td>-1</td>\n",
       "      <td>-2</td>\n",
       "      <td>-2</td>\n",
       "      <td>3913</td>\n",
       "      <td>3102</td>\n",
       "      <td>689</td>\n",
       "      <td>0</td>\n",
       "      <td>0</td>\n",
       "      <td>0</td>\n",
       "      <td>0</td>\n",
       "      <td>689</td>\n",
       "      <td>0</td>\n",
       "      <td>0</td>\n",
       "      <td>0</td>\n",
       "      <td>0</td>\n",
       "      <td>1</td>\n",
       "      <td>-2</td>\n",
       "      <td>1284.000000</td>\n",
       "      <td>-620.4</td>\n",
       "      <td>114.833333</td>\n",
       "      <td>7704</td>\n",
       "      <td>689</td>\n",
       "    </tr>\n",
       "    <tr>\n",
       "      <th>1</th>\n",
       "      <td>120000</td>\n",
       "      <td>0</td>\n",
       "      <td>3</td>\n",
       "      <td>2</td>\n",
       "      <td>26</td>\n",
       "      <td>-1</td>\n",
       "      <td>2</td>\n",
       "      <td>0</td>\n",
       "      <td>0</td>\n",
       "      <td>0</td>\n",
       "      <td>2</td>\n",
       "      <td>2682</td>\n",
       "      <td>1725</td>\n",
       "      <td>2682</td>\n",
       "      <td>3272</td>\n",
       "      <td>3455</td>\n",
       "      <td>3261</td>\n",
       "      <td>0</td>\n",
       "      <td>1000</td>\n",
       "      <td>1000</td>\n",
       "      <td>1000</td>\n",
       "      <td>0</td>\n",
       "      <td>2000</td>\n",
       "      <td>1</td>\n",
       "      <td>3</td>\n",
       "      <td>2846.166667</td>\n",
       "      <td>-2279.0</td>\n",
       "      <td>833.333333</td>\n",
       "      <td>17077</td>\n",
       "      <td>5000</td>\n",
       "    </tr>\n",
       "    <tr>\n",
       "      <th>2</th>\n",
       "      <td>90000</td>\n",
       "      <td>0</td>\n",
       "      <td>3</td>\n",
       "      <td>2</td>\n",
       "      <td>34</td>\n",
       "      <td>0</td>\n",
       "      <td>0</td>\n",
       "      <td>0</td>\n",
       "      <td>0</td>\n",
       "      <td>0</td>\n",
       "      <td>0</td>\n",
       "      <td>29239</td>\n",
       "      <td>14027</td>\n",
       "      <td>13559</td>\n",
       "      <td>14331</td>\n",
       "      <td>14948</td>\n",
       "      <td>15549</td>\n",
       "      <td>1518</td>\n",
       "      <td>1500</td>\n",
       "      <td>1000</td>\n",
       "      <td>1000</td>\n",
       "      <td>1000</td>\n",
       "      <td>5000</td>\n",
       "      <td>0</td>\n",
       "      <td>0</td>\n",
       "      <td>16942.166667</td>\n",
       "      <td>-13279.2</td>\n",
       "      <td>1836.333333</td>\n",
       "      <td>101653</td>\n",
       "      <td>11018</td>\n",
       "    </tr>\n",
       "    <tr>\n",
       "      <th>3</th>\n",
       "      <td>50000</td>\n",
       "      <td>0</td>\n",
       "      <td>3</td>\n",
       "      <td>0</td>\n",
       "      <td>37</td>\n",
       "      <td>0</td>\n",
       "      <td>0</td>\n",
       "      <td>0</td>\n",
       "      <td>0</td>\n",
       "      <td>0</td>\n",
       "      <td>0</td>\n",
       "      <td>46990</td>\n",
       "      <td>48233</td>\n",
       "      <td>49291</td>\n",
       "      <td>28314</td>\n",
       "      <td>28959</td>\n",
       "      <td>29547</td>\n",
       "      <td>2000</td>\n",
       "      <td>2019</td>\n",
       "      <td>1200</td>\n",
       "      <td>1100</td>\n",
       "      <td>1069</td>\n",
       "      <td>1000</td>\n",
       "      <td>0</td>\n",
       "      <td>0</td>\n",
       "      <td>38555.666667</td>\n",
       "      <td>-35391.2</td>\n",
       "      <td>1398.000000</td>\n",
       "      <td>231334</td>\n",
       "      <td>8388</td>\n",
       "    </tr>\n",
       "    <tr>\n",
       "      <th>4</th>\n",
       "      <td>50000</td>\n",
       "      <td>1</td>\n",
       "      <td>3</td>\n",
       "      <td>0</td>\n",
       "      <td>57</td>\n",
       "      <td>-1</td>\n",
       "      <td>0</td>\n",
       "      <td>-1</td>\n",
       "      <td>0</td>\n",
       "      <td>0</td>\n",
       "      <td>0</td>\n",
       "      <td>8617</td>\n",
       "      <td>5670</td>\n",
       "      <td>35835</td>\n",
       "      <td>20940</td>\n",
       "      <td>19146</td>\n",
       "      <td>19131</td>\n",
       "      <td>2000</td>\n",
       "      <td>36681</td>\n",
       "      <td>10000</td>\n",
       "      <td>9000</td>\n",
       "      <td>689</td>\n",
       "      <td>679</td>\n",
       "      <td>0</td>\n",
       "      <td>-2</td>\n",
       "      <td>18223.166667</td>\n",
       "      <td>-8470.4</td>\n",
       "      <td>9841.500000</td>\n",
       "      <td>109339</td>\n",
       "      <td>59049</td>\n",
       "    </tr>\n",
       "  </tbody>\n",
       "</table>\n",
       "</div>"
      ],
      "text/plain": [
       "   BALLIMIT  GENDER  EDUCATION  MARITAL_S  AGE  PAYSEPFL  PAYAUGFL  PAYJULFL  \\\n",
       "0     20000       0          3          0   24         2         2        -1   \n",
       "1    120000       0          3          2   26        -1         2         0   \n",
       "2     90000       0          3          2   34         0         0         0   \n",
       "3     50000       0          3          0   37         0         0         0   \n",
       "4     50000       1          3          0   57        -1         0        -1   \n",
       "\n",
       "   PAYJUNEFL  PAYMAYFL  PAYAPRFL  BILLSEP  BILLAUG  BILLJUL  BILLJUNE  \\\n",
       "0         -1        -2        -2     3913     3102      689         0   \n",
       "1          0         0         2     2682     1725     2682      3272   \n",
       "2          0         0         0    29239    14027    13559     14331   \n",
       "3          0         0         0    46990    48233    49291     28314   \n",
       "4          0         0         0     8617     5670    35835     20940   \n",
       "\n",
       "   BILLMAY  BILLAPR  PAYSEP  PAYAUG  PAYJUL  PAYJUNE  PAYMAY  PAYAPR  DEFAULT  \\\n",
       "0        0        0       0     689       0        0       0       0        1   \n",
       "1     3455     3261       0    1000    1000     1000       0    2000        1   \n",
       "2    14948    15549    1518    1500    1000     1000    1000    5000        0   \n",
       "3    28959    29547    2000    2019    1200     1100    1069    1000        0   \n",
       "4    19146    19131    2000   36681   10000     9000     689     679        0   \n",
       "\n",
       "   RISK_VALUE    BILL_VALUE  BILL_PAY_VALUE    PAY_VALUE  BILL_AMT  PAY_AMT  \n",
       "0          -2   1284.000000          -620.4   114.833333      7704      689  \n",
       "1           3   2846.166667         -2279.0   833.333333     17077     5000  \n",
       "2           0  16942.166667        -13279.2  1836.333333    101653    11018  \n",
       "3           0  38555.666667        -35391.2  1398.000000    231334     8388  \n",
       "4          -2  18223.166667         -8470.4  9841.500000    109339    59049  "
      ]
     },
     "execution_count": 64,
     "metadata": {},
     "output_type": "execute_result"
    }
   ],
   "source": [
    "credit.head()"
   ]
  },
  {
   "cell_type": "code",
   "execution_count": 65,
   "metadata": {},
   "outputs": [
    {
     "data": {
      "text/plain": [
       "(495, 30)"
      ]
     },
     "execution_count": 65,
     "metadata": {},
     "output_type": "execute_result"
    }
   ],
   "source": [
    "credit[(credit['PAY_AMT'] > credit['BILL_AMT']) & (credit['DEFAULT']==1)].shape"
   ]
  },
  {
   "cell_type": "markdown",
   "metadata": {},
   "source": [
    "- 495 customers are classified as defaulters even after paying the excess amount ??? "
   ]
  }
 ],
 "metadata": {
  "kernelspec": {
   "display_name": "Python 3",
   "language": "python",
   "name": "python3"
  },
  "language_info": {
   "codemirror_mode": {
    "name": "ipython",
    "version": 3
   },
   "file_extension": ".py",
   "mimetype": "text/x-python",
   "name": "python",
   "nbconvert_exporter": "python",
   "pygments_lexer": "ipython3",
   "version": "3.8.11"
  },
  "toc": {
   "base_numbering": 1,
   "nav_menu": {},
   "number_sections": true,
   "sideBar": true,
   "skip_h1_title": false,
   "title_cell": "Table of Contents",
   "title_sidebar": "Contents",
   "toc_cell": false,
   "toc_position": {},
   "toc_section_display": true,
   "toc_window_display": false
  }
 },
 "nbformat": 4,
 "nbformat_minor": 4
}
