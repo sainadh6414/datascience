{
 "cells": [
  {
   "cell_type": "markdown",
   "id": "955cc9a0",
   "metadata": {},
   "source": [
    "# Understanding Stock Markets using Data Science"
   ]
  },
  {
   "cell_type": "markdown",
   "id": "96196a7c",
   "metadata": {},
   "source": [
    "### Importing all the required libraries"
   ]
  },
  {
   "cell_type": "code",
   "execution_count": null,
   "id": "0f66576c",
   "metadata": {
    "ExecuteTime": {
     "end_time": "2021-09-25T03:07:00.907094Z",
     "start_time": "2021-09-25T03:07:00.900112Z"
    }
   },
   "outputs": [],
   "source": [
    "# For Data Manipulation & Visualization\n",
    "import pandas as pd\n",
    "import matplotlib.pyplot as plt\n",
    "%matplotlib inline\n",
    "from datetime import date\n",
    "import plotly.graph_objects as go\n",
    "\n",
    "# Setting default figure size\n",
    "from pylab import rcParams\n",
    "rcParams['figure.figsize'] = 15,6\n",
    "\n",
    "# For Implementing Trading Strategies\n",
    "import bt\n",
    "\n",
    "# For using Technical Indicators - https://mrjbq7.github.io/ta-lib/\n",
    "import talib\n",
    "\n",
    "# To get data for any script from NSE Exchange\n",
    "from nsepy import get_history\n",
    "\n",
    "# Filter Warnings\n",
    "import warnings\n",
    "warnings.filterwarnings('ignore')"
   ]
  },
  {
   "cell_type": "markdown",
   "id": "3024fa2a",
   "metadata": {},
   "source": [
    "There are two ways to start analysing any financial instrument\n",
    "* Read it directly using Yahoo Finance\n",
    "* Download the data in a csv file and read it using Pandas\n",
    "\n",
    "We will use the first approach to read the data for any financial instrument directly into Python"
   ]
  },
  {
   "cell_type": "code",
   "execution_count": null,
   "id": "3cce7dcf",
   "metadata": {
    "ExecuteTime": {
     "end_time": "2021-09-25T03:06:46.563011Z",
     "start_time": "2021-09-25T03:06:36.632428Z"
    }
   },
   "outputs": [],
   "source": [
    "# Downloading data from NSE Exchange\n",
    "symbol = input(\"Enter symbol of stock\\n\")\n",
    "df = get_history(symbol=symbol, start=date(2015,1,1), end=date.today(), index=True) # Set index=True for index prices (NIFTY)\n",
    "df['Date'] = df.index\n",
    "df.tail()"
   ]
  },
  {
   "cell_type": "markdown",
   "id": "59075d07",
   "metadata": {},
   "source": [
    "#### Let's Visualize the data"
   ]
  },
  {
   "cell_type": "code",
   "execution_count": null,
   "id": "a292caa3",
   "metadata": {
    "ExecuteTime": {
     "end_time": "2021-09-25T03:07:03.474903Z",
     "start_time": "2021-09-25T03:07:03.257485Z"
    }
   },
   "outputs": [],
   "source": [
    "plt.plot(df['Close'], color='red')\n",
    "plt.title(\"Daily close price\")\n",
    "plt.show()"
   ]
  },
  {
   "cell_type": "code",
   "execution_count": null,
   "id": "c1da79cb",
   "metadata": {
    "ExecuteTime": {
     "end_time": "2021-09-25T03:07:23.461761Z",
     "start_time": "2021-09-25T03:07:22.114180Z"
    }
   },
   "outputs": [],
   "source": [
    "# Define the candlestick\n",
    "candlestick = go.Candlestick(\n",
    "    x = df.index,\n",
    "    open = df['Open'],\n",
    "    high = df['High'],\n",
    "    low = df['Low'],\n",
    "    close = df['Close'])\n",
    "\n",
    "# Create a plot\n",
    "fig = go.Figure(data=[candlestick])\n",
    "\n",
    "# Show the plot\n",
    "fig.show()"
   ]
  },
  {
   "cell_type": "markdown",
   "id": "193ab4f1",
   "metadata": {},
   "source": [
    "#### Let's Calculate the Daily Returns"
   ]
  },
  {
   "cell_type": "code",
   "execution_count": null,
   "id": "3b3f0de9",
   "metadata": {
    "ExecuteTime": {
     "end_time": "2021-09-25T03:07:37.886537Z",
     "start_time": "2021-09-25T03:07:37.717993Z"
    }
   },
   "outputs": [],
   "source": [
    "# Calculate daily returns\n",
    "df['daily_return'] = df['Close'].pct_change() * 100\n",
    "\n",
    "# Plot the data\n",
    "plt.plot(df['daily_return'])\n",
    "plt.show()"
   ]
  },
  {
   "cell_type": "code",
   "execution_count": null,
   "id": "84ede705",
   "metadata": {
    "ExecuteTime": {
     "end_time": "2021-09-25T03:07:39.103440Z",
     "start_time": "2021-09-25T03:07:38.759350Z"
    }
   },
   "outputs": [],
   "source": [
    "# Plot histogram\n",
    "df['daily_return'].hist(bins=100)"
   ]
  },
  {
   "cell_type": "markdown",
   "id": "6898e317",
   "metadata": {},
   "source": [
    "## Understanding Technical Indicators\n",
    "* Trend Indicators - Moving Averages\n",
    "* Momentum Indicator - RSI\n",
    "* Volatility Indicator - Bollinger Bands"
   ]
  },
  {
   "cell_type": "markdown",
   "id": "41bb837b",
   "metadata": {},
   "source": [
    "### 1. Trend Indicator - Moving Averages"
   ]
  },
  {
   "cell_type": "code",
   "execution_count": null,
   "id": "5cdb4fc5",
   "metadata": {
    "ExecuteTime": {
     "end_time": "2021-09-25T03:07:44.228034Z",
     "start_time": "2021-09-25T03:07:44.185112Z"
    }
   },
   "outputs": [],
   "source": [
    "# Calculate two SMAs\n",
    "df['SMA_short'] = talib.SMA(df['Close'], timeperiod=10)\n",
    "df['SMA_long'] = talib.SMA(df['Close'], timeperiod=50)\n",
    "\n",
    "# Print the last five rows\n",
    "df.tail()"
   ]
  },
  {
   "cell_type": "code",
   "execution_count": null,
   "id": "4aa6d7b0",
   "metadata": {
    "ExecuteTime": {
     "end_time": "2021-09-25T03:07:45.193523Z",
     "start_time": "2021-09-25T03:07:44.960120Z"
    }
   },
   "outputs": [],
   "source": [
    "# Plot SMA with the price\n",
    "plt.plot(df['SMA_short'],\n",
    "         label='SMA_short')\n",
    "\n",
    "plt.plot(df['SMA_long'],\n",
    "         label='SMA_long')\n",
    "\n",
    "plt.plot(df['Close'],\n",
    "         label='Close')\n",
    "\n",
    "# Customize and show the plot\n",
    "plt.legend()\n",
    "plt.title('Simple Moving Averages')"
   ]
  },
  {
   "cell_type": "code",
   "execution_count": null,
   "id": "ec42c30b",
   "metadata": {
    "ExecuteTime": {
     "end_time": "2021-09-25T03:07:48.944627Z",
     "start_time": "2021-09-25T03:07:48.899747Z"
    }
   },
   "outputs": [],
   "source": [
    "# Calculate two EMAs\n",
    "df['EMA_short'] = talib.EMA(df['Close'], timeperiod=10)\n",
    "df['EMA_long'] = talib.EMA(df['Close'], timeperiod=50)\n",
    "\n",
    "# Print the last five rows\n",
    "df.tail()"
   ]
  },
  {
   "cell_type": "code",
   "execution_count": null,
   "id": "f72f1480",
   "metadata": {
    "ExecuteTime": {
     "end_time": "2021-09-25T03:07:49.944612Z",
     "start_time": "2021-09-25T03:07:49.705350Z"
    }
   },
   "outputs": [],
   "source": [
    "# Plot EMA with the price\n",
    "plt.plot(df['EMA_short'],\n",
    "         label='EMA_short')\n",
    "\n",
    "plt.plot(df['EMA_long'],\n",
    "         label='EMA_long')\n",
    "\n",
    "plt.plot(df['Close'],\n",
    "         label='Close')\n",
    "\n",
    "# Customize and show the plot\n",
    "plt.legend()\n",
    "plt.title('Exponential Moving Averages')"
   ]
  },
  {
   "cell_type": "markdown",
   "id": "ace4121e",
   "metadata": {},
   "source": [
    "EMA is more sensitive to the most recent price movement"
   ]
  },
  {
   "cell_type": "code",
   "execution_count": null,
   "id": "472a8630",
   "metadata": {
    "ExecuteTime": {
     "end_time": "2021-09-25T03:07:51.836857Z",
     "start_time": "2021-09-25T03:07:51.578131Z"
    }
   },
   "outputs": [],
   "source": [
    "# SMA vs EMA\n",
    "plt.plot(df['SMA_long'],\n",
    "         label='SMA_long')\n",
    "\n",
    "plt.plot(df['EMA_long'],\n",
    "         label='EMA_long')\n",
    "\n",
    "plt.plot(df['Close'],\n",
    "         label='Close')\n",
    "\n",
    "# Customize and show the plot\n",
    "plt.legend()\n",
    "plt.title('SMA vs EMA')"
   ]
  },
  {
   "cell_type": "markdown",
   "id": "9e0d7467",
   "metadata": {},
   "source": [
    " "
   ]
  },
  {
   "cell_type": "markdown",
   "id": "46dff200",
   "metadata": {},
   "source": [
    "#### ADX - Average Directional Movement Index\n",
    "* ADX <= 25 : Suggests there is no trend in the market\n",
    "* ADX > 25 : Suggests market is trending\n",
    "* ADX > 50 : Suggests there is a strong trend in the market "
   ]
  },
  {
   "cell_type": "code",
   "execution_count": null,
   "id": "85add3d7",
   "metadata": {
    "ExecuteTime": {
     "end_time": "2021-09-25T03:08:00.066122Z",
     "start_time": "2021-09-25T03:08:00.025233Z"
    }
   },
   "outputs": [],
   "source": [
    "# Calculate ADX\n",
    "df['ADX'] = talib.ADX(df['High'], df['Low'], df['Close'], timeperiod=14)\n",
    "\n",
    "# Print the last five rows\n",
    "df.tail()"
   ]
  },
  {
   "cell_type": "code",
   "execution_count": null,
   "id": "3d6860f4",
   "metadata": {
    "ExecuteTime": {
     "end_time": "2021-09-25T03:08:00.710632Z",
     "start_time": "2021-09-25T03:08:00.413392Z"
    }
   },
   "outputs": [],
   "source": [
    "# Create subplots\n",
    "fig, (ax1, ax2) = plt.subplots(2)\n",
    "\n",
    "# Plot ADX with the price\n",
    "ax1.set_ylabel('Price')\n",
    "ax1.plot(df['Close'])\n",
    "ax2.set_ylabel('ADX')\n",
    "ax2.plot(df['ADX'])\n",
    "ax1.set_title('Price and ADX')"
   ]
  },
  {
   "cell_type": "markdown",
   "id": "13098e2a",
   "metadata": {},
   "source": [
    " "
   ]
  },
  {
   "cell_type": "markdown",
   "id": "c2235beb",
   "metadata": {},
   "source": [
    "### 2. Momentum Indicator - RSI (Relative Strength Index)\n",
    "* RSI > 70\n",
    " - Suggests the asset is likely overbought and the price may soon reverse\n",
    "* RSI < 30\n",
    " - Suggests the asset is likely oversold and the price may soon rally"
   ]
  },
  {
   "cell_type": "code",
   "execution_count": null,
   "id": "cf6da369",
   "metadata": {
    "ExecuteTime": {
     "end_time": "2021-09-25T03:08:04.525924Z",
     "start_time": "2021-09-25T03:08:04.486255Z"
    }
   },
   "outputs": [],
   "source": [
    "# Calculate RSI\n",
    "df['RSI'] = talib.RSI(df['Close'], timeperiod=14)\n",
    "\n",
    "# Print the last five rows\n",
    "df.tail()"
   ]
  },
  {
   "cell_type": "code",
   "execution_count": null,
   "id": "60c13d94",
   "metadata": {
    "ExecuteTime": {
     "end_time": "2021-09-25T03:08:05.079594Z",
     "start_time": "2021-09-25T03:08:04.750442Z"
    }
   },
   "outputs": [],
   "source": [
    "# Create subplots\n",
    "fig, (ax1, ax2) = plt.subplots(2)\n",
    "\n",
    "# Plot RSI with the price\n",
    "ax1.set_ylabel('Price')\n",
    "ax1.plot(df['Close'])\n",
    "ax2.set_ylabel('RSI')\n",
    "ax2.plot(df['RSI'])\n",
    "ax1.set_title('Price and RSI')"
   ]
  },
  {
   "cell_type": "markdown",
   "id": "c6636329",
   "metadata": {},
   "source": [
    " "
   ]
  },
  {
   "cell_type": "markdown",
   "id": "a4e45a88",
   "metadata": {},
   "source": [
    "### 3. Volatility Indicator - Bolinger Bands"
   ]
  },
  {
   "cell_type": "code",
   "execution_count": null,
   "id": "7ad81417",
   "metadata": {
    "ExecuteTime": {
     "end_time": "2021-09-25T03:08:08.774720Z",
     "start_time": "2021-09-25T03:08:08.757764Z"
    }
   },
   "outputs": [],
   "source": [
    "# Define the Bollinger Bands\n",
    "upper, mid, lower = talib.BBANDS(df['Close'],\n",
    "                                 nbdevup=2,\n",
    "                                 nbdevdn=2,\n",
    "                                 timeperiod=20)"
   ]
  },
  {
   "cell_type": "code",
   "execution_count": null,
   "id": "f05a42db",
   "metadata": {
    "ExecuteTime": {
     "end_time": "2021-09-25T03:08:09.346676Z",
     "start_time": "2021-09-25T03:08:09.080327Z"
    }
   },
   "outputs": [],
   "source": [
    "# Plot the Bollinger Bands\n",
    "plt.plot(df['Close'], label='Price')\n",
    "plt.plot(upper, label=\"Upper band\")\n",
    "plt.plot(mid, label='Middle band')\n",
    "plt.plot(lower, label='Lower band')\n",
    "\n",
    "# Customize and show the plot\n",
    "plt.title('Bollinger Bands')\n",
    "plt.legend()"
   ]
  },
  {
   "cell_type": "markdown",
   "id": "fcef764e",
   "metadata": {},
   "source": [
    " "
   ]
  },
  {
   "cell_type": "markdown",
   "id": "3f997431",
   "metadata": {},
   "source": [
    "# Understanding bt library & define a Trading Strategy\n",
    "### The bt process\n",
    "* Step 1: Get the historical price data\n",
    "* Step 2: Define the strategy\n",
    "* Step 3: Backtest the strategy with the data\n",
    "* Step 4: Evaluate the result\n",
    "\n",
    "#### Step 1: Get the data"
   ]
  },
  {
   "cell_type": "code",
   "execution_count": null,
   "id": "5545cc74",
   "metadata": {
    "ExecuteTime": {
     "end_time": "2021-09-25T03:08:56.934691Z",
     "start_time": "2021-09-25T03:08:53.523363Z"
    }
   },
   "outputs": [],
   "source": [
    "# Download historical prices - Downloads data from Yahoo Finance\n",
    "bt_data = bt.get('GOOG, SBIN.NS, EURUSD=X',\n",
    "                 start='2019-1-1', end=date.today())\n",
    "bt_data.head()"
   ]
  },
  {
   "cell_type": "markdown",
   "id": "1dce76c2",
   "metadata": {},
   "source": [
    "#### Step 2: Define the Strategy"
   ]
  },
  {
   "cell_type": "code",
   "execution_count": null,
   "id": "810717d1",
   "metadata": {
    "ExecuteTime": {
     "end_time": "2021-09-25T03:09:00.137104Z",
     "start_time": "2021-09-25T03:09:00.125126Z"
    }
   },
   "outputs": [],
   "source": [
    "bt_strategy = bt.Strategy('Trade_Weekly',\n",
    "                          [bt.algos.RunWeekly(), # Run weekly\n",
    "                           bt.algos.SelectAll(), # Use all data\n",
    "                           bt.algos.WeighEqually(), # Maintain equal weights\n",
    "                           bt.algos.Rebalance()]) # Rebalance"
   ]
  },
  {
   "cell_type": "markdown",
   "id": "1ce6ea7c",
   "metadata": {},
   "source": [
    "#### Step 3: Backtest the strategy"
   ]
  },
  {
   "cell_type": "code",
   "execution_count": null,
   "id": "4289b88b",
   "metadata": {
    "ExecuteTime": {
     "end_time": "2021-09-25T03:09:01.586530Z",
     "start_time": "2021-09-25T03:09:01.208032Z"
    }
   },
   "outputs": [],
   "source": [
    "# Create a backtest\n",
    "bt_test = bt.Backtest(bt_strategy, bt_data)\n",
    "\n",
    "# Run the backtest\n",
    "bt_res = bt.run(bt_test)"
   ]
  },
  {
   "cell_type": "markdown",
   "id": "77b58573",
   "metadata": {},
   "source": [
    "#### Step 4: Evaluate the result"
   ]
  },
  {
   "cell_type": "code",
   "execution_count": null,
   "id": "4f21fc29",
   "metadata": {
    "ExecuteTime": {
     "end_time": "2021-09-25T03:09:01.931347Z",
     "start_time": "2021-09-25T03:09:01.635408Z"
    }
   },
   "outputs": [],
   "source": [
    "# Plot the result\n",
    "bt_res.plot(title=\"Backtest result\")"
   ]
  },
  {
   "cell_type": "code",
   "execution_count": null,
   "id": "53cef8bc",
   "metadata": {
    "ExecuteTime": {
     "end_time": "2021-09-25T03:09:09.916467Z",
     "start_time": "2021-09-25T03:09:09.804765Z"
    }
   },
   "outputs": [],
   "source": [
    "# Get trade details\n",
    "bt_res.get_transactions()"
   ]
  },
  {
   "cell_type": "markdown",
   "id": "76379ce7",
   "metadata": {},
   "source": [
    " "
   ]
  },
  {
   "cell_type": "markdown",
   "id": "bf112c55",
   "metadata": {},
   "source": [
    "# Trading Signals\n",
    "* Trend Following\n",
    "* Mean Reversion"
   ]
  },
  {
   "cell_type": "markdown",
   "id": "0b712e4f",
   "metadata": {},
   "source": [
    "### Trend Following Signals\n",
    "* Above SMA\n",
    "* EMA Crossover\n",
    "#### Above SMA"
   ]
  },
  {
   "cell_type": "code",
   "execution_count": null,
   "id": "8cdfc704",
   "metadata": {
    "ExecuteTime": {
     "end_time": "2021-09-25T03:02:22.968979Z",
     "start_time": "2021-09-25T03:02:22.146055Z"
    }
   },
   "outputs": [],
   "source": [
    "# Get price data by the stock ticker\n",
    "ticker = 'nsei'\n",
    "price_data = bt.get('^NSEI', start='2019-11-1', end=date.today())"
   ]
  },
  {
   "cell_type": "code",
   "execution_count": null,
   "id": "c5936ace",
   "metadata": {
    "ExecuteTime": {
     "end_time": "2021-09-25T03:02:24.561071Z",
     "start_time": "2021-09-25T03:02:24.544116Z"
    }
   },
   "outputs": [],
   "source": [
    "# Calculate SMA -Simple Moving Average\n",
    "sma = price_data.rolling(20).mean()"
   ]
  },
  {
   "cell_type": "code",
   "execution_count": null,
   "id": "6d387fc0",
   "metadata": {
    "ExecuteTime": {
     "end_time": "2021-09-25T03:02:25.350482Z",
     "start_time": "2021-09-25T03:02:25.345495Z"
    }
   },
   "outputs": [],
   "source": [
    "# Define the signal-based strategy\n",
    "bt_strategy_abovesma = bt.Strategy('AboveSMA',\n",
    "                          [bt.algos.SelectWhere(price_data > sma),\n",
    "                           bt.algos.WeighEqually(),\n",
    "                           bt.algos.Rebalance()])"
   ]
  },
  {
   "cell_type": "code",
   "execution_count": null,
   "id": "5c02d8f0",
   "metadata": {
    "ExecuteTime": {
     "end_time": "2021-09-25T03:02:26.865829Z",
     "start_time": "2021-09-25T03:02:26.035538Z"
    }
   },
   "outputs": [],
   "source": [
    "# Create the backtest and run it\n",
    "bt_backtest_abovesma = bt.Backtest(bt_strategy_abovesma, price_data)\n",
    "bt_result_abovesma = bt.run(bt_backtest_abovesma)"
   ]
  },
  {
   "cell_type": "code",
   "execution_count": null,
   "id": "8c272334",
   "metadata": {
    "ExecuteTime": {
     "end_time": "2021-09-25T03:02:27.467930Z",
     "start_time": "2021-09-25T03:02:27.171013Z"
    }
   },
   "outputs": [],
   "source": [
    "# Plot the backtest result\n",
    "bt_result_abovesma.plot(title='Backtest result')"
   ]
  },
  {
   "cell_type": "code",
   "execution_count": null,
   "id": "c747c061",
   "metadata": {
    "ExecuteTime": {
     "end_time": "2021-09-25T03:02:30.674874Z",
     "start_time": "2021-09-25T03:02:30.618515Z"
    }
   },
   "outputs": [],
   "source": [
    "# Plot the backtest result\n",
    "bt_result_abovesma.get_transactions().head(15)"
   ]
  },
  {
   "cell_type": "markdown",
   "id": "a8613671",
   "metadata": {},
   "source": [
    "#### EMA Crossover"
   ]
  },
  {
   "cell_type": "code",
   "execution_count": null,
   "id": "ce9174e5",
   "metadata": {
    "ExecuteTime": {
     "end_time": "2021-09-25T03:02:36.882604Z",
     "start_time": "2021-09-25T03:02:36.876620Z"
    }
   },
   "outputs": [],
   "source": [
    "# Calculate the indicators\n",
    "EMA_short = talib.EMA(price_data[ticker],\n",
    "                      timeperiod=10).to_frame()\n",
    "\n",
    "EMA_long = talib.EMA(price_data[ticker],\n",
    "                     timeperiod=40).to_frame()"
   ]
  },
  {
   "cell_type": "code",
   "execution_count": null,
   "id": "49bac51e",
   "metadata": {
    "ExecuteTime": {
     "end_time": "2021-09-25T03:02:37.311454Z",
     "start_time": "2021-09-25T03:02:37.298492Z"
    }
   },
   "outputs": [],
   "source": [
    "# Create the signal DataFrame\n",
    "signal = EMA_long.copy()\n",
    "signal[EMA_long.isnull()] = 0\n",
    "\n",
    "# Construct the signal\n",
    "signal[EMA_short > EMA_long] = 1\n",
    "signal[EMA_short < EMA_long] = -1\n",
    "\n",
    "# Rename series to ticker name - Not required if working with multiple tickers\n",
    "signal.columns = [ticker]"
   ]
  },
  {
   "cell_type": "code",
   "execution_count": null,
   "id": "ff1cd6bb",
   "metadata": {
    "ExecuteTime": {
     "end_time": "2021-09-25T03:02:38.117755Z",
     "start_time": "2021-09-25T03:02:37.727718Z"
    }
   },
   "outputs": [],
   "source": [
    "# Plot the signal, price and MAs\n",
    "combined_df = bt.merge(signal, price_data, EMA_short, EMA_long)\n",
    "combined_df.columns = ['Signal', 'Price', 'EMA_short', 'EMA_long']\n",
    "combined_df.plot(secondary_y=['Signal'])"
   ]
  },
  {
   "cell_type": "code",
   "execution_count": null,
   "id": "dae9fce8",
   "metadata": {
    "ExecuteTime": {
     "end_time": "2021-09-25T03:02:38.623404Z",
     "start_time": "2021-09-25T03:02:38.611438Z"
    }
   },
   "outputs": [],
   "source": [
    "#Define the strategy\n",
    "bt_strategy_ema = bt.Strategy('EMA_crossover',\n",
    "                          [bt.algos.WeighTarget(signal),\n",
    "                           bt.algos.Rebalance()])"
   ]
  },
  {
   "cell_type": "code",
   "execution_count": null,
   "id": "3a41d3b7",
   "metadata": {
    "ExecuteTime": {
     "end_time": "2021-09-25T03:02:39.366824Z",
     "start_time": "2021-09-25T03:02:39.058609Z"
    }
   },
   "outputs": [],
   "source": [
    "# Create the backtest and run it\n",
    "bt_backtest_ema = bt.Backtest(bt_strategy_ema, price_data)\n",
    "bt_result_ema = bt.run(bt_backtest_ema)"
   ]
  },
  {
   "cell_type": "code",
   "execution_count": null,
   "id": "78585265",
   "metadata": {
    "ExecuteTime": {
     "end_time": "2021-09-25T03:02:40.001636Z",
     "start_time": "2021-09-25T03:02:39.702436Z"
    }
   },
   "outputs": [],
   "source": [
    "# Plot the backtest result\n",
    "bt_result_ema.plot(title='Backtest result')"
   ]
  },
  {
   "cell_type": "markdown",
   "id": "74213730",
   "metadata": {},
   "source": [
    " "
   ]
  },
  {
   "cell_type": "markdown",
   "id": "2c56cabe",
   "metadata": {},
   "source": [
    "### Mean Reversion Signals\n",
    "RSI-based mean reversion strategy:\n",
    "* Short signal: RSI > 70\n",
    " - Suggests the asset is likely overbought and the price may soon reverse\n",
    "* Long signal: RSI < 30\n",
    " - Suggests the asset is likely oversold and the price may soon rally"
   ]
  },
  {
   "cell_type": "code",
   "execution_count": null,
   "id": "08afdc17",
   "metadata": {
    "ExecuteTime": {
     "end_time": "2021-09-25T03:02:43.977134Z",
     "start_time": "2021-09-25T03:02:43.961146Z"
    }
   },
   "outputs": [],
   "source": [
    "# Calculate the RSI\n",
    "stock_rsi = talib.RSI(price_data[ticker]).to_frame()"
   ]
  },
  {
   "cell_type": "code",
   "execution_count": null,
   "id": "1230c2fd",
   "metadata": {
    "ExecuteTime": {
     "end_time": "2021-09-25T03:02:44.405030Z",
     "start_time": "2021-09-25T03:02:44.378101Z"
    }
   },
   "outputs": [],
   "source": [
    "# Create the same DataFrame structure as RSI\n",
    "signal = stock_rsi.copy()\n",
    "signal[stock_rsi.isnull()] = 0\n",
    "\n",
    "# Construct the signal\n",
    "signal[stock_rsi < 30] = 1\n",
    "signal[stock_rsi > 70] = -1\n",
    "signal[(stock_rsi <= 70) & (stock_rsi >= 30)] = 0\n",
    "\n",
    "# Rename series to ticker name - Not required if working with multiple tickers\n",
    "signal.columns = [ticker]"
   ]
  },
  {
   "cell_type": "code",
   "execution_count": null,
   "id": "df430404",
   "metadata": {
    "ExecuteTime": {
     "end_time": "2021-09-25T03:02:45.055299Z",
     "start_time": "2021-09-25T03:02:44.745121Z"
    }
   },
   "outputs": [],
   "source": [
    "# Plot the RSI\n",
    "stock_rsi.plot()\n",
    "plt.title('RSI')"
   ]
  },
  {
   "cell_type": "code",
   "execution_count": null,
   "id": "a64675f1",
   "metadata": {
    "ExecuteTime": {
     "end_time": "2021-09-25T03:02:45.768953Z",
     "start_time": "2021-09-25T03:02:45.373981Z"
    }
   },
   "outputs": [],
   "source": [
    "# Merge data into one DataFrame\n",
    "combined_df = bt.merge(signal, price_data)\n",
    "combined_df.columns = ['Signal', 'Price']\n",
    "\n",
    "# Plot the signal with price\n",
    "combined_df.plot(secondary_y = ['Signal'])"
   ]
  },
  {
   "cell_type": "code",
   "execution_count": null,
   "id": "08049d8e",
   "metadata": {
    "ExecuteTime": {
     "end_time": "2021-09-25T03:02:46.118007Z",
     "start_time": "2021-09-25T03:02:46.107023Z"
    }
   },
   "outputs": [],
   "source": [
    "# Define the strategy\n",
    "bt_strategy_rsi = bt.Strategy('RSI_MeanReversion',\n",
    "                          [bt.algos.WeighTarget(signal),\n",
    "                           bt.algos.Rebalance()])"
   ]
  },
  {
   "cell_type": "code",
   "execution_count": null,
   "id": "e7143e8b",
   "metadata": {
    "ExecuteTime": {
     "end_time": "2021-09-25T03:02:46.839797Z",
     "start_time": "2021-09-25T03:02:46.545365Z"
    }
   },
   "outputs": [],
   "source": [
    "# Create the backtest and run it\n",
    "bt_backtest_rsi = bt.Backtest(bt_strategy_rsi, price_data)\n",
    "bt_result_rsi = bt.run(bt_backtest_rsi)"
   ]
  },
  {
   "cell_type": "code",
   "execution_count": null,
   "id": "c409132f",
   "metadata": {
    "ExecuteTime": {
     "end_time": "2021-09-25T03:02:47.583808Z",
     "start_time": "2021-09-25T03:02:47.257681Z"
    }
   },
   "outputs": [],
   "source": [
    "# Plot the backtest result\n",
    "bt_result_rsi.plot(title='Backtest result')"
   ]
  },
  {
   "cell_type": "markdown",
   "id": "5c341980",
   "metadata": {},
   "source": [
    " "
   ]
  },
  {
   "cell_type": "markdown",
   "id": "1a81acc7",
   "metadata": {},
   "source": [
    "## Strategy Optimization and Benchmarking\n",
    "#### How to decide the values of input parameters?\n",
    "* Question:\n",
    "Which is a better SMA lookback period to use in the signals?\n",
    "* Solution: \n",
    "Strategy Optimization (Try a range of input parameter values in backtesting and compare the results)"
   ]
  },
  {
   "cell_type": "code",
   "execution_count": null,
   "id": "71671fb7",
   "metadata": {
    "ExecuteTime": {
     "end_time": "2021-09-25T03:02:57.605168Z",
     "start_time": "2021-09-25T03:02:57.589347Z"
    }
   },
   "outputs": [],
   "source": [
    "def signal_strategy(ticker, period, name, start='2018-11-1', end='2020-12-1'):\n",
    "\n",
    "    # Get the data and calculate SMA\n",
    "    price_data = bt.get(ticker, start=start, end=end)\n",
    "    sma = price_data.rolling(period).mean()\n",
    "\n",
    "    # Define the signal-based strategy\n",
    "    bt_strategy = bt.Strategy(name,\n",
    "                              [bt.algos.SelectWhere(price_data>sma),\n",
    "                               bt.algos.WeighEqually(),\n",
    "                               bt.algos.Rebalance()])\n",
    "\n",
    "    # Return the backtest\n",
    "    return bt.Backtest(bt_strategy, price_data)"
   ]
  },
  {
   "cell_type": "code",
   "execution_count": null,
   "id": "f3104eb8",
   "metadata": {
    "ExecuteTime": {
     "end_time": "2021-09-25T03:03:23.633666Z",
     "start_time": "2021-09-25T03:03:20.022043Z"
    }
   },
   "outputs": [],
   "source": [
    "ticker1 = '^NSEI'\n",
    "\n",
    "sma20 = signal_strategy(ticker1,\n",
    "                        period=20, name='SMA20')\n",
    "\n",
    "sma50 = signal_strategy(ticker1,\n",
    "                        period=50, name='SMA50')\n",
    "\n",
    "sma100 = signal_strategy(ticker1,\n",
    "                         period=100, name='SMA100')\n",
    "\n",
    "# Run backtests and compare results\n",
    "bt_results = bt.run(sma20, sma50, sma100)\n",
    "bt_results.plot(title='Strategy optimization')"
   ]
  },
  {
   "cell_type": "markdown",
   "id": "e7313722",
   "metadata": {},
   "source": [
    "#### Let's Benchmark"
   ]
  },
  {
   "cell_type": "code",
   "execution_count": null,
   "id": "d40df74e",
   "metadata": {
    "ExecuteTime": {
     "end_time": "2021-09-25T03:03:36.705012Z",
     "start_time": "2021-09-25T03:03:36.688059Z"
    }
   },
   "outputs": [],
   "source": [
    "def buy_and_hold(ticker, name, start='2018-11-1', end='2020-12-1'):\n",
    "\n",
    "    # Get the data\n",
    "    price_data = bt.get(ticker, start=start, end=end)\n",
    "\n",
    "    # Define the benchmark strategy\n",
    "    bt_strategy = bt.Strategy(name,\n",
    "                              [bt.algos.RunOnce(),\n",
    "                               bt.algos.SelectAll(),\n",
    "                               bt.algos.WeighEqually(),\n",
    "                               bt.algos.Rebalance()])\n",
    "\n",
    "    # Return the backtest\n",
    "    return bt.Backtest(bt_strategy, price_data)"
   ]
  },
  {
   "cell_type": "code",
   "execution_count": null,
   "id": "4e7af8a4",
   "metadata": {
    "ExecuteTime": {
     "end_time": "2021-09-25T03:03:40.104924Z",
     "start_time": "2021-09-25T03:03:39.516490Z"
    }
   },
   "outputs": [],
   "source": [
    "benchmark = buy_and_hold(ticker1, name='benchmark')\n",
    "\n",
    "# Run all backtests and plot the resutls\n",
    "bt_results = bt.run(sma20, sma50, sma100, benchmark)\n",
    "bt_results.plot(title='Strategy benchmarking')"
   ]
  },
  {
   "cell_type": "markdown",
   "id": "bf628eab",
   "metadata": {},
   "source": [
    " "
   ]
  },
  {
   "cell_type": "markdown",
   "id": "4d3c5bdd",
   "metadata": {},
   "source": [
    "# Strategy Return Analysis"
   ]
  },
  {
   "cell_type": "code",
   "execution_count": null,
   "id": "54c03e45",
   "metadata": {
    "ExecuteTime": {
     "end_time": "2021-09-25T03:03:48.124643Z",
     "start_time": "2021-09-25T03:03:48.116661Z"
    }
   },
   "outputs": [],
   "source": [
    "# Get all backtest stats\n",
    "resInfo = bt_result_ema.stats\n",
    "print(resInfo.index)"
   ]
  },
  {
   "cell_type": "code",
   "execution_count": null,
   "id": "ed54ee50",
   "metadata": {
    "ExecuteTime": {
     "end_time": "2021-09-25T03:03:49.117783Z",
     "start_time": "2021-09-25T03:03:49.095818Z"
    }
   },
   "outputs": [],
   "source": [
    "# Get daily, monthly and yearly returns\n",
    "print('Daily return: %.4f'% resInfo.loc['daily_mean'])\n",
    "print('Monthly return: %.4f'% resInfo.loc['monthly_mean'])\n",
    "print('Yearly return: %.4f'% resInfo.loc['yearly_mean'])"
   ]
  },
  {
   "cell_type": "code",
   "execution_count": null,
   "id": "1559cb39",
   "metadata": {
    "ExecuteTime": {
     "end_time": "2021-09-25T03:03:49.986094Z",
     "start_time": "2021-09-25T03:03:49.964156Z"
    }
   },
   "outputs": [],
   "source": [
    "# Get the compound annual growth rate\n",
    "print('Compound annual growth rate: %.4f'% resInfo.loc['cagr'])"
   ]
  },
  {
   "cell_type": "code",
   "execution_count": null,
   "id": "4d39c9bd",
   "metadata": {
    "ExecuteTime": {
     "end_time": "2021-09-25T03:03:53.350861Z",
     "start_time": "2021-09-25T03:03:53.062051Z"
    }
   },
   "outputs": [],
   "source": [
    "# Plot the weekly return histogram\n",
    "bt_result_ema.plot_histograms(bins=50, freq = 'w')"
   ]
  },
  {
   "cell_type": "code",
   "execution_count": null,
   "id": "9a751cfe",
   "metadata": {
    "ExecuteTime": {
     "end_time": "2021-09-25T03:03:56.746466Z",
     "start_time": "2021-09-25T03:03:56.727489Z"
    }
   },
   "outputs": [],
   "source": [
    "# Get the lookback returns\n",
    "lookback_returns = bt_result_ema.display_lookback_returns()\n",
    "print(lookback_returns)"
   ]
  },
  {
   "cell_type": "markdown",
   "id": "ccbb580e",
   "metadata": {},
   "source": [
    "### Get Drawdown Results"
   ]
  },
  {
   "cell_type": "code",
   "execution_count": null,
   "id": "fa0d1924",
   "metadata": {
    "ExecuteTime": {
     "end_time": "2021-09-25T03:04:02.948580Z",
     "start_time": "2021-09-25T03:04:02.926642Z"
    }
   },
   "outputs": [],
   "source": [
    "resInfo = bt_result_ema.stats\n",
    "\n",
    "# Get the max drawdown\n",
    "max_drawdown = resInfo.loc['max_drawdown']\n",
    "print('Maximum drawdown: %.2f'% max_drawdown)\n",
    "\n",
    "# Get the average drawdown\n",
    "avg_drawdown = resInfo.loc['avg_drawdown']\n",
    "print('Average drawdown: %.2f'% avg_drawdown)\n",
    "\n",
    "# Get the average drawdown days\n",
    "avg_drawdown_days = resInfo.loc['avg_drawdown_days']\n",
    "print('Average drawdown days: %.0f'% avg_drawdown_days)"
   ]
  },
  {
   "cell_type": "markdown",
   "id": "f799778b",
   "metadata": {},
   "source": [
    "### Get Calmar Ratio\n",
    "The higher the Calmar ratio, the better a strategy performed on a risk-adjusted basis. Typically a Calmar ratio larger than 3 is considered excellent."
   ]
  },
  {
   "cell_type": "code",
   "execution_count": null,
   "id": "ebe4d6ac",
   "metadata": {
    "ExecuteTime": {
     "end_time": "2021-09-25T03:04:09.989209Z",
     "start_time": "2021-09-25T03:04:09.979208Z"
    }
   },
   "outputs": [],
   "source": [
    "resInfo = bt_result_ema.stats\n",
    "\n",
    "#Get the CAGR\n",
    "cagr = resInfo.loc['cagr']\n",
    "\n",
    "# Get the max drawdown\n",
    "max_drawdown = resInfo.loc['max_drawdown']\n",
    "\n",
    "# Calculate Calmar ratio mannually\n",
    "calmar_calc = cagr / max_drawdown * (-1)\n",
    "print('Calmar Ratio calculated: %.2f'% calmar_calc)"
   ]
  },
  {
   "cell_type": "code",
   "execution_count": null,
   "id": "96d3424f",
   "metadata": {
    "ExecuteTime": {
     "end_time": "2021-09-25T03:04:11.612552Z",
     "start_time": "2021-09-25T03:04:11.598560Z"
    }
   },
   "outputs": [],
   "source": [
    "resInfo = bt_result_ema.stats\n",
    "\n",
    "# Get the Calmar ratio\n",
    "calmar = resInfo.loc['calmar']\n",
    "print('Calmar Ratio: %.2f'% calmar)"
   ]
  },
  {
   "cell_type": "markdown",
   "id": "a6d860ee",
   "metadata": {},
   "source": [
    "## Sharpe Ratio\n",
    "The bigger the Sharpe ratio, the more attractive the return"
   ]
  },
  {
   "cell_type": "code",
   "execution_count": null,
   "id": "a2b0eb65",
   "metadata": {
    "ExecuteTime": {
     "end_time": "2021-09-25T03:04:14.952704Z",
     "start_time": "2021-09-25T03:04:14.943720Z"
    }
   },
   "outputs": [],
   "source": [
    "resInfo = bt_result_ema.stats\n",
    "\n",
    "# Get Sharpe ratios from the backtest stats\n",
    "print('Sharpe ratio daily: %.2f'% resInfo.loc['daily_sharpe'])\n",
    "print('Sharpe ratio monthly %.2f'% resInfo.loc['monthly_sharpe'])\n",
    "print('Sharpe ratio annually %.2f'% resInfo.loc['yearly_sharpe'])"
   ]
  },
  {
   "cell_type": "markdown",
   "id": "d6547cc9",
   "metadata": {},
   "source": [
    "## Sortino Ratio"
   ]
  },
  {
   "cell_type": "code",
   "execution_count": null,
   "id": "a5055b96",
   "metadata": {
    "ExecuteTime": {
     "end_time": "2021-09-25T03:04:17.208168Z",
     "start_time": "2021-09-25T03:04:17.194207Z"
    }
   },
   "outputs": [],
   "source": [
    "resInfo = bt_result_ema.stats\n",
    "\n",
    "# Get Sortino ratio from backtest stats\n",
    "print('Sortino ratio daily: %.2f'% resInfo.loc['daily_sortino'])\n",
    "print('Sortino ratio monthly %.2f'% resInfo.loc['monthly_sortino'])\n",
    "print('Sortino ratio annually %.2f'% resInfo.loc['yearly_sortino'])"
   ]
  },
  {
   "cell_type": "markdown",
   "id": "6c65dd0f",
   "metadata": {},
   "source": [
    "<h2><center>Happy Learning!</center></h2>"
   ]
  }
 ],
 "metadata": {
  "kernelspec": {
   "display_name": "Python 3 (ipykernel)",
   "language": "python",
   "name": "python3"
  },
  "language_info": {
   "codemirror_mode": {
    "name": "ipython",
    "version": 3
   },
   "file_extension": ".py",
   "mimetype": "text/x-python",
   "name": "python",
   "nbconvert_exporter": "python",
   "pygments_lexer": "ipython3",
   "version": "3.8.11"
  },
  "latex_envs": {
   "LaTeX_envs_menu_present": true,
   "autoclose": false,
   "autocomplete": true,
   "bibliofile": "biblio.bib",
   "cite_by": "apalike",
   "current_citInitial": 1,
   "eqLabelWithNumbers": true,
   "eqNumInitial": 1,
   "hotkeys": {
    "equation": "Ctrl-E",
    "itemize": "Ctrl-I"
   },
   "labels_anchors": false,
   "latex_user_defs": false,
   "report_style_numbering": false,
   "user_envs_cfg": false
  },
  "varInspector": {
   "cols": {
    "lenName": 16,
    "lenType": 16,
    "lenVar": 40
   },
   "kernels_config": {
    "python": {
     "delete_cmd_postfix": "",
     "delete_cmd_prefix": "del ",
     "library": "var_list.py",
     "varRefreshCmd": "print(var_dic_list())"
    },
    "r": {
     "delete_cmd_postfix": ") ",
     "delete_cmd_prefix": "rm(",
     "library": "var_list.r",
     "varRefreshCmd": "cat(var_dic_list()) "
    }
   },
   "types_to_exclude": [
    "module",
    "function",
    "builtin_function_or_method",
    "instance",
    "_Feature"
   ],
   "window_display": false
  }
 },
 "nbformat": 4,
 "nbformat_minor": 5
}
